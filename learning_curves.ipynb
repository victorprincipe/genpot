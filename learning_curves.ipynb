{
 "cells": [
  {
   "cell_type": "markdown",
   "id": "b68f9441",
   "metadata": {},
   "source": [
    "# Importing modules and defining functions"
   ]
  },
  {
   "cell_type": "code",
   "execution_count": 1,
   "id": "1a9b1ef1",
   "metadata": {
    "code_folding": [
     0
    ],
    "hide_input": false
   },
   "outputs": [],
   "source": [
    "#Import modules\n",
    "from matplotlib import pylab as plt\n",
    "from tqdm import tqdm\n",
    "import itertools\n",
    "from joblib import Parallel, delayed, parallel_backend\n",
    "\n",
    "import pickle\n",
    "import numpy as np\n",
    "from numpy.random import RandomState\n",
    "random_state = RandomState(0)\n",
    "from sklearn import linear_model\n",
    "import skcosmo.feature_selection\n",
    "#from skcosmo.feature_selection import FPS\n",
    "from skcosmo.sample_selection import PCovCUR, FPS\n",
    "from skcosmo.preprocessing import StandardFlexibleScaler\n",
    "from sklearn.linear_model import LinearRegression, Ridge\n",
    "from sklearn.model_selection import GroupKFold, cross_val_score\n",
    "from sklearn.kernel_ridge import KernelRidge\n",
    "from sklearn.metrics import mean_squared_error\n",
    "from sklearn.pipeline import Pipeline\n",
    "from skopt.space import Real, Integer\n",
    "from skopt.utils import use_named_args\n",
    "from skopt import gp_minimize, callbacks, dump, load\n",
    "from skopt.callbacks import CheckpointSaver\n",
    "from skopt.plots import plot_convergence, plot_objective\n",
    "\n",
    "import ase\n",
    "from ase.io import read, write\n",
    "from ase.build import make_supercell\n",
    "from ase.visualize import view\n",
    "import numpy as np\n",
    "# If installed -- not essential, though\n",
    "try:\n",
    "    from tqdm.notebook import tqdm\n",
    "except ImportError:\n",
    "    tqdm = (lambda i, **kwargs: i)\n",
    "\n",
    "from time import time, sleep\n",
    "\n",
    "from rascal.models import KRR\n",
    "from rascal.utils import dump_obj, load_obj\n",
    "\n",
    "from rascal.models import Kernel, train_gap_model, compute_KNM\n",
    "from rascal.representations import SphericalInvariants\n",
    "from rascal.neighbourlist.structure_manager import mask_center_atoms_by_species\n",
    "from rascal.representations.spherical_invariants import get_power_spectrum_index_mapping\n",
    "from rascal.utils import from_dict, to_dict, CURFilter, FPSFilter, dump_obj, load_obj\n",
    "from rascal.utils import get_score, get_optimal_radial_basis_hypers\n",
    "from rascal.utils.io import load_json, dump_json"
   ]
  },
  {
   "cell_type": "code",
   "execution_count": 2,
   "id": "d3e3877a",
   "metadata": {
    "code_folding": [
     0,
     1
    ]
   },
   "outputs": [],
   "source": [
    "#Define functions\n",
    "def do_fps(x, d=0):\n",
    "    \"\"\"\n",
    "    Function for performing farthest-point-sampling for a given feature matrix.\n",
    "    d gives the number of farthest-point-sampled feature vectors that will be outputted. \n",
    "    If d==0, the entire set will be FPS-sorted.\n",
    "    Returns the FPS-sorted IDs, as well as the FPS distances.\n",
    "    \"\"\"\n",
    "    if d == 0 : d = len(x)\n",
    "    n = len(x)\n",
    "    iy = np.zeros(d, int)\n",
    "    # faster evaluation of Euclidean distance\n",
    "    n2 = np.sum(x**2,axis=1)\n",
    "    iy[0] = 0\n",
    "    dl = n2 + n2[iy[0]] - 2* np.dot(x, x[iy[0]])\n",
    "    dss = []\n",
    "    for i in range(1,d):\n",
    "        iy[i] = np.argmax(dl)\n",
    "        nd = n2 + n2[iy[i]] - 2*np.dot(x,x[iy[i]])\n",
    "        dl = np.minimum(dl, nd)\n",
    "        dss.append(max(dl))\n",
    "    return iy,dss\n",
    "\n",
    "def get_forces(frames, force_array='PBE-D2_forces'):\n",
    "    frc = np.zeros((np.sum([len(frm) for frm in frames]),3))\n",
    "    iat = 0\n",
    "    for ifrm,frm in enumerate(frames):\n",
    "        frc[iat:iat+len(frm)] = frm.get_array(force_array) \n",
    "        iat += len(frm)\n",
    "    return frc\n",
    "\n",
    "def get_features(atoms_objects, batch_size=1000, progress_bar=True):\n",
    "    '''Get average feature vectors for each structure in a list of atoms objects. \n",
    "        This requires soap to be set.\n",
    "    '''\n",
    "    struct_feat=[] #create empty feature vector of n_structures x n_features\n",
    "    got_frame = False\n",
    "    for frm in atoms_objects:\n",
    "        if got_frame == False: \n",
    "            if all(sp in frm.get_atomic_numbers() for sp in [1,6,7,8]) == True:\n",
    "                all_species = frm\n",
    "                got_frame = True\n",
    "    for i in tqdm(range(int(len(atoms_objects)/batch_size+0.9999)), disable = not progress_bar): #Get feature vectors in batches of 1000\n",
    "        for frm in atoms_objects[i*batch_size:(i+1)*batch_size]:\n",
    "            frm.wrap(eps=1e-13) #wrap atoms in unit cell\n",
    "        frames=[all_species.copy()] #add initial frame with all species\n",
    "        frames.extend(atoms_objects[i*batch_size:(i+1)*batch_size]) #extend initial frame with frames of batch\n",
    "        manager = soap.transform(frames) #calculate soap features for all structures in batch\n",
    "        env_feat_batch = manager.get_features(soap)[len(all_species):] #get feature vectors for all structures in batch\n",
    "        # (having removed the initial frame)\n",
    "        atom_counter=0 #count atoms\n",
    "        for ifrm,frm in enumerate(atoms_objects[i*batch_size:(i+1)*batch_size]): #iterate over frames in batch\n",
    "            nat=len(frm) #count atoms in frame\n",
    "            struct_feat.append(np.mean(env_feat_batch[atom_counter:atom_counter+nat],axis=0)) #average vectors\n",
    "            # for atoms in the same frame. Done by averaging vectors between atom_counter and atom_counter + nat\n",
    "            atom_counter+=nat #add atoms to counter\n",
    "    struct_feat_array=np.asarray(struct_feat)\n",
    "    return struct_feat_array\n",
    "\n",
    "def get_features_parallel(atoms_objects, bsize=1000, n_cores = 4):\n",
    "    '''Get average feature vectors for each structure in a list of atoms objects. \n",
    "        Do this in parallel\n",
    "    '''\n",
    "    blocks = []\n",
    "    for iblk, blk in enumerate(range(0, len(atoms_objects), bsize)):\n",
    "        blocks.append(atoms_objects[iblk*bsize:(iblk+1)*bsize])\n",
    "    with parallel_backend(backend=\"loky\"):\n",
    "        results = Parallel(n_jobs=n_cores)(delayed(get_features)(frames, batch_size=10000, \n",
    "                                                                 progress_bar=False) for frames in blocks)\n",
    "\n",
    "    return np.concatenate(results)\n",
    "\n",
    "def predict_batched(frames, ml_model):\n",
    "    man_pred = soap.transform(frames)\n",
    "    return ml_model.predict(man_pred)"
   ]
  },
  {
   "cell_type": "markdown",
   "id": "6ecce45b",
   "metadata": {},
   "source": [
    "# Reload database with DFTB+ results"
   ]
  },
  {
   "cell_type": "code",
   "execution_count": 3,
   "id": "1ee6f3eb",
   "metadata": {},
   "outputs": [],
   "source": [
    "#(Re-)Open dataset\n",
    "with open('delta_data/CSD-10k_combined_w_kpts_11_pc_w_DFTB.pickle', 'rb') as f:\n",
    "    db = pickle.load(f)"
   ]
  },
  {
   "cell_type": "code",
   "execution_count": 4,
   "id": "2ebdf87b",
   "metadata": {},
   "outputs": [],
   "source": [
    "#Add energy and force deltas to frame\n",
    "for name in db.keys():\n",
    "    for frm in db[name]:\n",
    "        frm.info['Delta_energy'] = frm.info['PBE-D2_energy'] - frm.info['DFTB_energy']\n",
    "        frm.arrays['Delta_forces'] = frm.arrays['PBE-D2_forces'] - frm.arrays['DFTB_forces']"
   ]
  },
  {
   "cell_type": "markdown",
   "id": "334fbe69",
   "metadata": {},
   "source": [
    "# Get PCovFPS Sample and Feature IDs"
   ]
  },
  {
   "cell_type": "code",
   "execution_count": 5,
   "id": "04b7b7c6",
   "metadata": {},
   "outputs": [],
   "source": [
    "#Reload PCovFPS-sorted sample IDs\n",
    "pcf_ids = np.load('delta_data/pcovfps_selected_idx.npy')"
   ]
  },
  {
   "cell_type": "markdown",
   "id": "e8f70609",
   "metadata": {},
   "source": [
    "# Create training and validation sets"
   ]
  },
  {
   "cell_type": "code",
   "execution_count": 6,
   "id": "0c22cec1",
   "metadata": {},
   "outputs": [],
   "source": [
    "#Create training and val sets\n",
    "all_frames = []\n",
    "for name in db.keys():\n",
    "    for frm in db[name]:\n",
    "        all_frames.append(frm)\n",
    "\n",
    "ids = np.arange(len(all_frames))\n",
    "np.random.seed(10)\n",
    "np.random.shuffle(ids)\n",
    "\n",
    "train_frames_unsorted = [all_frames[i] for i in ids[1000:]]\n",
    "val_frames = [all_frames[i] for i in ids[:1000]]"
   ]
  },
  {
   "cell_type": "code",
   "execution_count": 7,
   "id": "964572f7",
   "metadata": {},
   "outputs": [],
   "source": [
    "#Sort PCov-FPS sort training IDs\n",
    "train_frames = [train_frames_unsorted[i] for i in pcf_ids]"
   ]
  },
  {
   "cell_type": "code",
   "execution_count": 8,
   "id": "cc4b25c7",
   "metadata": {},
   "outputs": [],
   "source": [
    "#Create composition (X), energy deltas (y) and force deltas (f) arrays\n",
    "X_all = np.zeros((len(all_frames), 4), dtype=int) ; y_all = np.zeros(len(all_frames), dtype=float)\n",
    "f_all = np.zeros((np.sum([len(frm) for frm in all_frames]),3), dtype=float)\n",
    "\n",
    "counter = 0\n",
    "for ifrm, frm in enumerate(all_frames):\n",
    "    symbols = frm.get_atomic_numbers()\n",
    "    X_all[ifrm] = [len(np.where(symbols == sp)[0]) for sp in [1,6,7,8]]\n",
    "    y_all[ifrm] = frm.info['PBE-D2_energy']\n",
    "    f_all[counter:counter+len(frm)] = frm.arrays['PBE-D2_forces']\n",
    "    counter += len(frm)\n",
    "    \n",
    "X_train = np.zeros((len(train_frames), 4), dtype=int) ; y_train = np.zeros(len(train_frames), dtype=float)\n",
    "f_train = np.zeros((np.sum([len(frm) for frm in train_frames]),3), dtype=float)\n",
    "\n",
    "counter = 0\n",
    "for ifrm, frm in enumerate(train_frames):\n",
    "    symbols = frm.get_atomic_numbers()\n",
    "    X_train[ifrm] = [len(np.where(symbols == sp)[0]) for sp in [1,6,7,8]]\n",
    "    y_train[ifrm] = frm.info['PBE-D2_energy']\n",
    "    f_train[counter:counter+len(frm)] = frm.arrays['PBE-D2_forces']\n",
    "    counter += len(frm)\n",
    "\n",
    "X_val = np.zeros((len(val_frames), 4), dtype=int) ; y_val = np.zeros(len(val_frames), dtype=float)\n",
    "f_val = np.zeros((np.sum([len(frm) for frm in val_frames]),3), dtype=float)\n",
    "\n",
    "counter = 0\n",
    "for ifrm, frm in enumerate(val_frames):\n",
    "    symbols = frm.get_atomic_numbers()\n",
    "    X_val[ifrm] = [len(np.where(symbols == sp)[0]) for sp in [1,6,7,8]]\n",
    "    y_val[ifrm] = frm.info['PBE-D2_energy']\n",
    "    f_val[counter:counter+len(frm)] = frm.arrays['PBE-D2_forces']\n",
    "    counter += len(frm)"
   ]
  },
  {
   "cell_type": "code",
   "execution_count": 9,
   "id": "d23599ab",
   "metadata": {},
   "outputs": [
    {
     "name": "stdout",
     "output_type": "stream",
     "text": [
      "Per-atom energy for species H : -16.468153332304215 eV\n",
      "Per-atom energy for species C : -154.72001091746486 eV\n",
      "Per-atom energy for species N : -383.34420755813 eV\n",
      "Per-atom energy for species O : -566.227034198853 eV\n"
     ]
    }
   ],
   "source": [
    "#Create baselined per-atom energy model\n",
    "mlr = Ridge(fit_intercept=False, alpha=1e-4)\n",
    "mlr.fit(X_all, y_all)\n",
    "for spec, coef in zip(['H', 'C', 'N', 'O'], mlr.coef_):\n",
    "    print(f\"Per-atom energy for species {spec} : {coef} eV\")"
   ]
  },
  {
   "cell_type": "code",
   "execution_count": 10,
   "id": "687fa29b",
   "metadata": {},
   "outputs": [],
   "source": [
    "#get dressed atom energies for reduced training set\n",
    "y_dressed = {}\n",
    "for i,j in enumerate([1,6,7,8]):\n",
    "    y_dressed[j] = mlr.coef_[i]"
   ]
  },
  {
   "cell_type": "markdown",
   "id": "6a34590f",
   "metadata": {},
   "source": [
    "# Create test set"
   ]
  },
  {
   "cell_type": "code",
   "execution_count": 11,
   "id": "e6c046ff",
   "metadata": {},
   "outputs": [],
   "source": [
    "#Import test set\n",
    "with open('raw_data/CSD-1k_hcno_w_DFTB.pickle', 'rb') as f:\n",
    "    csd_2k = pickle.load(f)\n",
    "#csd_2k = read('raw_data/CSD-1k_hcno_w_DFTB.pickle', ':')\n",
    "#Only get CHNO\n",
    "csd_1k = []\n",
    "for frm in csd_2k:\n",
    "    frm.info['Delta_energy'] = frm.info['PBE-D2_energy'] - frm.info['DFTB_energy']\n",
    "    frm.arrays['Delta_forces'] = frm.arrays['PBE-D2_forces'] - frm.arrays['DFTB_forces']\n",
    "    good = True\n",
    "    for elem in np.unique(frm.get_chemical_symbols()):\n",
    "        if elem not in ['H', 'C', 'N', 'O']:\n",
    "            good = False\n",
    "    if good == True:\n",
    "        csd_1k.append(frm)"
   ]
  },
  {
   "cell_type": "code",
   "execution_count": 12,
   "id": "6bcca38d",
   "metadata": {},
   "outputs": [],
   "source": [
    "#Create composition (X), energy deltas (y) and force deltas (f) arrays\n",
    "X_test = np.zeros((len(csd_1k), 4), dtype=int) ; y_test = np.zeros(len(csd_1k), dtype=float)\n",
    "f_test = np.zeros((np.sum([len(frm) for frm in csd_1k]),3), dtype=float)\n",
    "\n",
    "counter = 0\n",
    "for ifrm, frm in enumerate(csd_1k):\n",
    "    symbols = frm.get_atomic_numbers()\n",
    "    X_test[ifrm] = [len(np.where(symbols == sp)[0]) for sp in [1,6,7,8]]\n",
    "    y_test[ifrm] = frm.info['PBE-D2_energy']\n",
    "    f_test[counter:counter+len(frm)] = frm.arrays['PBE-D2_forces']\n",
    "    counter += len(frm)"
   ]
  },
  {
   "cell_type": "markdown",
   "id": "65633e0a",
   "metadata": {},
   "source": [
    "# Create Model"
   ]
  },
  {
   "cell_type": "code",
   "execution_count": 20,
   "id": "6d627986",
   "metadata": {},
   "outputs": [],
   "source": [
    "#Define soap hyperparameters\n",
    "zeta=3\n",
    "hypers = dict(soap_type=\"PowerSpectrum\",\n",
    "              interaction_cutoff=6, #cutoff distance in angstroms\n",
    "              max_radial=9, #no. of radial basis functions\n",
    "              max_angular=6, #no. of angular basis functions\n",
    "              gaussian_sigma_constant=0.4, #sigma width (i.e. amount of 'smearing')\n",
    "              gaussian_sigma_type=\"Constant\",\n",
    "              cutoff_function_type=\"RadialScaling\",\n",
    "              cutoff_smooth_width=0.5,\n",
    "              cutoff_function_parameters=\n",
    "                    dict(\n",
    "                            rate=1,\n",
    "                            scale=2,\n",
    "                            exponent=4\n",
    "                        ),\n",
    "              radial_basis=\"GTO\",\n",
    "              normalize=True,\n",
    "              optimization=\n",
    "                    dict(\n",
    "                            Spline=dict(\n",
    "                               accuracy=1.0e-05\n",
    "                            )\n",
    "                        ),\n",
    "              compute_gradients=False #don't care about forces right now\n",
    "              )\n",
    "soap = SphericalInvariants(**hypers)"
   ]
  },
  {
   "cell_type": "code",
   "execution_count": 14,
   "id": "110d0cd1",
   "metadata": {},
   "outputs": [
    {
     "name": "stdout",
     "output_type": "stream",
     "text": [
      "Computing feature matrices...\n",
      "Time taken:  491.1472556591034 s\n"
     ]
    }
   ],
   "source": [
    "# Compute feature matrices\n",
    "print(\"Computing feature matrices...\")\n",
    "start=time()\n",
    "manager_train = soap.transform(train_frames) #calculating features\n",
    "print(\"Time taken: \", time()-start, \"s\")"
   ]
  },
  {
   "cell_type": "code",
   "execution_count": 31,
   "id": "76f36656",
   "metadata": {},
   "outputs": [],
   "source": [
    "def calculate_sparse_points(ns):\n",
    "    nsparse    = {1: ns, 6: ns, 7: ns, 8: ns}\n",
    "    compressor = FPSFilter(soap,nsparse,act_on='sample per species')\n",
    "    X_sparse = compressor.select_and_filter(manager_train)\n",
    "    dump_obj(f'learning_curve_data/X_sparse_PCovFPS_{ns}_696.json', X_sparse)"
   ]
  },
  {
   "cell_type": "code",
   "execution_count": 39,
   "id": "b17c4d9b",
   "metadata": {},
   "outputs": [
    {
     "name": "stdout",
     "output_type": "stream",
     "text": [
      "Done for 500\n",
      "Calculated sparse points for n_sparse = 500\n",
      "Done for 1000\n",
      "Calculated sparse points for n_sparse = 1000\n",
      "Done for 1500\n",
      "Calculated sparse points for n_sparse = 1500\n",
      "Done for 2000\n",
      "Calculated sparse points for n_sparse = 2000\n",
      "Done for 2500\n",
      "Calculated sparse points for n_sparse = 2500\n",
      "Done for 3000\n",
      "Calculated sparse points for n_sparse = 3000\n",
      "Done for 3500\n",
      "Calculated sparse points for n_sparse = 3500\n",
      "Done for 4000\n",
      "Calculated sparse points for n_sparse = 4000\n"
     ]
    }
   ],
   "source": [
    "for i in range(500, 4001, 500):\n",
    "    calculate_sparse_points(i)\n",
    "    print(f'Calculated sparse points for n_sparse = {i}')"
   ]
  },
  {
   "cell_type": "code",
   "execution_count": 40,
   "id": "e3888dc0",
   "metadata": {},
   "outputs": [],
   "source": [
    "kernel = Kernel(soap, name='GAP', zeta=zeta, target_type='Structure', kernel_type='Sparse') #Define Kernel"
   ]
  },
  {
   "cell_type": "code",
   "execution_count": null,
   "id": "4f6d6be2",
   "metadata": {},
   "outputs": [],
   "source": [
    "#Compute kernel for all n_sparse\n",
    "for i in range(500, 4001, 500):\n",
    "    X_sparse = load_obj(f'learning_curve_data/X_sparse_PCovFPS_{i}_696.json')\n",
    "    Knm = np.zeros((len(train_frames), X_sparse.get_features().shape[0]), dtype=float)\n",
    "    start=time()\n",
    "    for ifrm, frm in enumerate(tqdm(train_frames, desc=f\"Computing KNM for n_sparse = {i}\", leave=False)):\n",
    "        feat = soap.transform(frm)\n",
    "        Knm[ifrm] = kernel(feat, X_sparse)\n",
    "    np.save(f'learning_curve_data/Knm_learning_curve_{i}', Knm)\n",
    "    print(f\"Knm saved using N sparse = {i}. Time taken :\", time()-start, \"s\")"
   ]
  },
  {
   "cell_type": "code",
   "execution_count": 112,
   "id": "5ccfdeca",
   "metadata": {},
   "outputs": [
    {
     "name": "stdout",
     "output_type": "stream",
     "text": [
      "Training GAP model using N_sparse=500 and N_train=2000...\n"
     ]
    },
    {
     "data": {
      "application/vnd.jupyter.widget-view+json": {
       "model_id": "",
       "version_major": 2,
       "version_minor": 0
      },
      "text/plain": [
       "Making predictions for test set...:   0%|          | 0/250 [00:00<?, ?it/s]"
      ]
     },
     "metadata": {},
     "output_type": "display_data"
    },
    {
     "name": "stdout",
     "output_type": "stream",
     "text": [
      "RMSE for N_sparse=500 and N_train=2000 : 0.04474911686521567\n",
      "Time taken: 57.273845 s\n",
      "\n",
      "Training GAP model using N_sparse=500 and N_train=4000...\n"
     ]
    },
    {
     "data": {
      "application/vnd.jupyter.widget-view+json": {
       "model_id": "",
       "version_major": 2,
       "version_minor": 0
      },
      "text/plain": [
       "Making predictions for test set...:   0%|          | 0/250 [00:00<?, ?it/s]"
      ]
     },
     "metadata": {},
     "output_type": "display_data"
    },
    {
     "name": "stdout",
     "output_type": "stream",
     "text": [
      "RMSE for N_sparse=500 and N_train=4000 : 0.017392658552732324\n",
      "Time taken: 50.98416 s\n",
      "\n",
      "Training GAP model using N_sparse=500 and N_train=6000...\n"
     ]
    },
    {
     "data": {
      "application/vnd.jupyter.widget-view+json": {
       "model_id": "",
       "version_major": 2,
       "version_minor": 0
      },
      "text/plain": [
       "Making predictions for test set...:   0%|          | 0/250 [00:00<?, ?it/s]"
      ]
     },
     "metadata": {},
     "output_type": "display_data"
    },
    {
     "name": "stdout",
     "output_type": "stream",
     "text": [
      "RMSE for N_sparse=500 and N_train=6000 : 0.016759043469544214\n",
      "Time taken: 50.953467 s\n",
      "\n",
      "Training GAP model using N_sparse=500 and N_train=8000...\n"
     ]
    },
    {
     "data": {
      "application/vnd.jupyter.widget-view+json": {
       "model_id": "",
       "version_major": 2,
       "version_minor": 0
      },
      "text/plain": [
       "Making predictions for test set...:   0%|          | 0/250 [00:00<?, ?it/s]"
      ]
     },
     "metadata": {},
     "output_type": "display_data"
    },
    {
     "name": "stdout",
     "output_type": "stream",
     "text": [
      "RMSE for N_sparse=500 and N_train=8000 : 0.015998318090743258\n",
      "Time taken: 46.57688 s\n",
      "\n",
      "Training GAP model using N_sparse=500 and N_train=10000...\n"
     ]
    },
    {
     "data": {
      "application/vnd.jupyter.widget-view+json": {
       "model_id": "",
       "version_major": 2,
       "version_minor": 0
      },
      "text/plain": [
       "Making predictions for test set...:   0%|          | 0/250 [00:00<?, ?it/s]"
      ]
     },
     "metadata": {},
     "output_type": "display_data"
    },
    {
     "name": "stdout",
     "output_type": "stream",
     "text": [
      "RMSE for N_sparse=500 and N_train=10000 : 0.015805926824126463\n",
      "Time taken: 49.834427 s\n",
      "\n",
      "Training GAP model using N_sparse=500 and N_train=12000...\n"
     ]
    },
    {
     "data": {
      "application/vnd.jupyter.widget-view+json": {
       "model_id": "",
       "version_major": 2,
       "version_minor": 0
      },
      "text/plain": [
       "Making predictions for test set...:   0%|          | 0/250 [00:00<?, ?it/s]"
      ]
     },
     "metadata": {},
     "output_type": "display_data"
    },
    {
     "name": "stdout",
     "output_type": "stream",
     "text": [
      "RMSE for N_sparse=500 and N_train=12000 : 0.015698847826189487\n",
      "Time taken: 65.710396 s\n",
      "\n",
      "Training GAP model using N_sparse=500 and N_train=14000...\n"
     ]
    },
    {
     "data": {
      "application/vnd.jupyter.widget-view+json": {
       "model_id": "",
       "version_major": 2,
       "version_minor": 0
      },
      "text/plain": [
       "Making predictions for test set...:   0%|          | 0/250 [00:00<?, ?it/s]"
      ]
     },
     "metadata": {},
     "output_type": "display_data"
    },
    {
     "name": "stdout",
     "output_type": "stream",
     "text": [
      "RMSE for N_sparse=500 and N_train=14000 : 0.015904624983398084\n",
      "Time taken: 52.587997 s\n",
      "\n",
      "Training GAP model using N_sparse=500 and N_train=16000...\n"
     ]
    },
    {
     "data": {
      "application/vnd.jupyter.widget-view+json": {
       "model_id": "",
       "version_major": 2,
       "version_minor": 0
      },
      "text/plain": [
       "Making predictions for test set...:   0%|          | 0/250 [00:00<?, ?it/s]"
      ]
     },
     "metadata": {},
     "output_type": "display_data"
    },
    {
     "name": "stdout",
     "output_type": "stream",
     "text": [
      "RMSE for N_sparse=500 and N_train=16000 : 0.01600553059250229\n",
      "Time taken: 47.743929 s\n",
      "\n",
      "Training GAP model using N_sparse=500 and N_train=18000...\n"
     ]
    },
    {
     "data": {
      "application/vnd.jupyter.widget-view+json": {
       "model_id": "",
       "version_major": 2,
       "version_minor": 0
      },
      "text/plain": [
       "Making predictions for test set...:   0%|          | 0/250 [00:00<?, ?it/s]"
      ]
     },
     "metadata": {},
     "output_type": "display_data"
    },
    {
     "name": "stdout",
     "output_type": "stream",
     "text": [
      "RMSE for N_sparse=500 and N_train=18000 : 0.016077700495233112\n",
      "Time taken: 52.090206 s\n",
      "\n",
      "Training GAP model using N_sparse=500 and N_train=20000...\n"
     ]
    },
    {
     "data": {
      "application/vnd.jupyter.widget-view+json": {
       "model_id": "",
       "version_major": 2,
       "version_minor": 0
      },
      "text/plain": [
       "Making predictions for test set...:   0%|          | 0/250 [00:00<?, ?it/s]"
      ]
     },
     "metadata": {},
     "output_type": "display_data"
    },
    {
     "name": "stdout",
     "output_type": "stream",
     "text": [
      "RMSE for N_sparse=500 and N_train=20000 : 0.016052636780244055\n",
      "Time taken: 51.902212 s\n",
      "\n",
      "Training GAP model using N_sparse=1000 and N_train=2000...\n"
     ]
    },
    {
     "data": {
      "application/vnd.jupyter.widget-view+json": {
       "model_id": "",
       "version_major": 2,
       "version_minor": 0
      },
      "text/plain": [
       "Making predictions for test set...:   0%|          | 0/250 [00:00<?, ?it/s]"
      ]
     },
     "metadata": {},
     "output_type": "display_data"
    },
    {
     "name": "stdout",
     "output_type": "stream",
     "text": [
      "RMSE for N_sparse=1000 and N_train=2000 : 0.01884427716415382\n",
      "Time taken: 93.4545 s\n",
      "\n",
      "Training GAP model using N_sparse=1000 and N_train=4000...\n"
     ]
    },
    {
     "data": {
      "application/vnd.jupyter.widget-view+json": {
       "model_id": "",
       "version_major": 2,
       "version_minor": 0
      },
      "text/plain": [
       "Making predictions for test set...:   0%|          | 0/250 [00:00<?, ?it/s]"
      ]
     },
     "metadata": {},
     "output_type": "display_data"
    },
    {
     "name": "stdout",
     "output_type": "stream",
     "text": [
      "RMSE for N_sparse=1000 and N_train=4000 : 0.027200693411847728\n",
      "Time taken: 93.928015 s\n",
      "\n",
      "Training GAP model using N_sparse=1000 and N_train=6000...\n"
     ]
    },
    {
     "data": {
      "application/vnd.jupyter.widget-view+json": {
       "model_id": "",
       "version_major": 2,
       "version_minor": 0
      },
      "text/plain": [
       "Making predictions for test set...:   0%|          | 0/250 [00:00<?, ?it/s]"
      ]
     },
     "metadata": {},
     "output_type": "display_data"
    },
    {
     "name": "stdout",
     "output_type": "stream",
     "text": [
      "RMSE for N_sparse=1000 and N_train=6000 : 0.021386500267007946\n",
      "Time taken: 95.226659 s\n",
      "\n",
      "Training GAP model using N_sparse=1000 and N_train=8000...\n"
     ]
    },
    {
     "data": {
      "application/vnd.jupyter.widget-view+json": {
       "model_id": "",
       "version_major": 2,
       "version_minor": 0
      },
      "text/plain": [
       "Making predictions for test set...:   0%|          | 0/250 [00:00<?, ?it/s]"
      ]
     },
     "metadata": {},
     "output_type": "display_data"
    },
    {
     "name": "stdout",
     "output_type": "stream",
     "text": [
      "RMSE for N_sparse=1000 and N_train=8000 : 0.018118673414529832\n",
      "Time taken: 97.708845 s\n",
      "\n",
      "Training GAP model using N_sparse=1000 and N_train=10000...\n"
     ]
    },
    {
     "data": {
      "application/vnd.jupyter.widget-view+json": {
       "model_id": "",
       "version_major": 2,
       "version_minor": 0
      },
      "text/plain": [
       "Making predictions for test set...:   0%|          | 0/250 [00:00<?, ?it/s]"
      ]
     },
     "metadata": {},
     "output_type": "display_data"
    },
    {
     "name": "stdout",
     "output_type": "stream",
     "text": [
      "RMSE for N_sparse=1000 and N_train=10000 : 0.01694793670002991\n",
      "Time taken: 94.909727 s\n",
      "\n",
      "Training GAP model using N_sparse=1000 and N_train=12000...\n"
     ]
    },
    {
     "data": {
      "application/vnd.jupyter.widget-view+json": {
       "model_id": "",
       "version_major": 2,
       "version_minor": 0
      },
      "text/plain": [
       "Making predictions for test set...:   0%|          | 0/250 [00:00<?, ?it/s]"
      ]
     },
     "metadata": {},
     "output_type": "display_data"
    },
    {
     "name": "stdout",
     "output_type": "stream",
     "text": [
      "RMSE for N_sparse=1000 and N_train=12000 : 0.016372641145092796\n",
      "Time taken: 95.841299 s\n",
      "\n",
      "Training GAP model using N_sparse=1000 and N_train=14000...\n"
     ]
    },
    {
     "data": {
      "application/vnd.jupyter.widget-view+json": {
       "model_id": "",
       "version_major": 2,
       "version_minor": 0
      },
      "text/plain": [
       "Making predictions for test set...:   0%|          | 0/250 [00:00<?, ?it/s]"
      ]
     },
     "metadata": {},
     "output_type": "display_data"
    },
    {
     "name": "stdout",
     "output_type": "stream",
     "text": [
      "RMSE for N_sparse=1000 and N_train=14000 : 0.01615962254754772\n",
      "Time taken: 97.045477 s\n",
      "\n",
      "Training GAP model using N_sparse=1000 and N_train=16000...\n"
     ]
    },
    {
     "data": {
      "application/vnd.jupyter.widget-view+json": {
       "model_id": "",
       "version_major": 2,
       "version_minor": 0
      },
      "text/plain": [
       "Making predictions for test set...:   0%|          | 0/250 [00:00<?, ?it/s]"
      ]
     },
     "metadata": {},
     "output_type": "display_data"
    },
    {
     "name": "stdout",
     "output_type": "stream",
     "text": [
      "RMSE for N_sparse=1000 and N_train=16000 : 0.016271225837308414\n",
      "Time taken: 95.982339 s\n",
      "\n",
      "Training GAP model using N_sparse=1000 and N_train=18000...\n"
     ]
    },
    {
     "data": {
      "application/vnd.jupyter.widget-view+json": {
       "model_id": "",
       "version_major": 2,
       "version_minor": 0
      },
      "text/plain": [
       "Making predictions for test set...:   0%|          | 0/250 [00:00<?, ?it/s]"
      ]
     },
     "metadata": {},
     "output_type": "display_data"
    },
    {
     "name": "stdout",
     "output_type": "stream",
     "text": [
      "RMSE for N_sparse=1000 and N_train=18000 : 0.01623965280282031\n",
      "Time taken: 97.196959 s\n",
      "\n",
      "Training GAP model using N_sparse=1000 and N_train=20000...\n"
     ]
    },
    {
     "data": {
      "application/vnd.jupyter.widget-view+json": {
       "model_id": "",
       "version_major": 2,
       "version_minor": 0
      },
      "text/plain": [
       "Making predictions for test set...:   0%|          | 0/250 [00:00<?, ?it/s]"
      ]
     },
     "metadata": {},
     "output_type": "display_data"
    },
    {
     "name": "stdout",
     "output_type": "stream",
     "text": [
      "RMSE for N_sparse=1000 and N_train=20000 : 0.016307590136595197\n",
      "Time taken: 96.231286 s\n",
      "\n",
      "Training GAP model using N_sparse=1500 and N_train=2000...\n"
     ]
    },
    {
     "data": {
      "application/vnd.jupyter.widget-view+json": {
       "model_id": "",
       "version_major": 2,
       "version_minor": 0
      },
      "text/plain": [
       "Making predictions for test set...:   0%|          | 0/250 [00:00<?, ?it/s]"
      ]
     },
     "metadata": {},
     "output_type": "display_data"
    },
    {
     "name": "stdout",
     "output_type": "stream",
     "text": [
      "RMSE for N_sparse=1500 and N_train=2000 : 0.017051274100795683\n",
      "Time taken: 151.457138 s\n",
      "\n",
      "Training GAP model using N_sparse=1500 and N_train=4000...\n"
     ]
    },
    {
     "data": {
      "application/vnd.jupyter.widget-view+json": {
       "model_id": "",
       "version_major": 2,
       "version_minor": 0
      },
      "text/plain": [
       "Making predictions for test set...:   0%|          | 0/250 [00:00<?, ?it/s]"
      ]
     },
     "metadata": {},
     "output_type": "display_data"
    },
    {
     "name": "stdout",
     "output_type": "stream",
     "text": [
      "RMSE for N_sparse=1500 and N_train=4000 : 0.01929763750302782\n",
      "Time taken: 146.746012 s\n",
      "\n",
      "Training GAP model using N_sparse=1500 and N_train=6000...\n"
     ]
    },
    {
     "data": {
      "application/vnd.jupyter.widget-view+json": {
       "model_id": "",
       "version_major": 2,
       "version_minor": 0
      },
      "text/plain": [
       "Making predictions for test set...:   0%|          | 0/250 [00:00<?, ?it/s]"
      ]
     },
     "metadata": {},
     "output_type": "display_data"
    },
    {
     "name": "stdout",
     "output_type": "stream",
     "text": [
      "RMSE for N_sparse=1500 and N_train=6000 : 0.023520980384212138\n",
      "Time taken: 153.644325 s\n",
      "\n",
      "Training GAP model using N_sparse=1500 and N_train=8000...\n"
     ]
    },
    {
     "data": {
      "application/vnd.jupyter.widget-view+json": {
       "model_id": "",
       "version_major": 2,
       "version_minor": 0
      },
      "text/plain": [
       "Making predictions for test set...:   0%|          | 0/250 [00:00<?, ?it/s]"
      ]
     },
     "metadata": {},
     "output_type": "display_data"
    },
    {
     "name": "stdout",
     "output_type": "stream",
     "text": [
      "RMSE for N_sparse=1500 and N_train=8000 : 0.017065281734567294\n",
      "Time taken: 167.08891 s\n",
      "\n",
      "Training GAP model using N_sparse=1500 and N_train=10000...\n"
     ]
    },
    {
     "data": {
      "application/vnd.jupyter.widget-view+json": {
       "model_id": "",
       "version_major": 2,
       "version_minor": 0
      },
      "text/plain": [
       "Making predictions for test set...:   0%|          | 0/250 [00:00<?, ?it/s]"
      ]
     },
     "metadata": {},
     "output_type": "display_data"
    },
    {
     "name": "stdout",
     "output_type": "stream",
     "text": [
      "RMSE for N_sparse=1500 and N_train=10000 : 0.015763403565158873\n",
      "Time taken: 181.659422 s\n",
      "\n",
      "Training GAP model using N_sparse=1500 and N_train=12000...\n"
     ]
    },
    {
     "data": {
      "application/vnd.jupyter.widget-view+json": {
       "model_id": "",
       "version_major": 2,
       "version_minor": 0
      },
      "text/plain": [
       "Making predictions for test set...:   0%|          | 0/250 [00:00<?, ?it/s]"
      ]
     },
     "metadata": {},
     "output_type": "display_data"
    },
    {
     "name": "stdout",
     "output_type": "stream",
     "text": [
      "RMSE for N_sparse=1500 and N_train=12000 : 0.015233064089835163\n",
      "Time taken: 157.318789 s\n",
      "\n",
      "Training GAP model using N_sparse=1500 and N_train=14000...\n"
     ]
    },
    {
     "data": {
      "application/vnd.jupyter.widget-view+json": {
       "model_id": "",
       "version_major": 2,
       "version_minor": 0
      },
      "text/plain": [
       "Making predictions for test set...:   0%|          | 0/250 [00:00<?, ?it/s]"
      ]
     },
     "metadata": {},
     "output_type": "display_data"
    },
    {
     "name": "stdout",
     "output_type": "stream",
     "text": [
      "RMSE for N_sparse=1500 and N_train=14000 : 0.013942538675610005\n",
      "Time taken: 163.95337 s\n",
      "\n",
      "Training GAP model using N_sparse=1500 and N_train=16000...\n"
     ]
    },
    {
     "data": {
      "application/vnd.jupyter.widget-view+json": {
       "model_id": "",
       "version_major": 2,
       "version_minor": 0
      },
      "text/plain": [
       "Making predictions for test set...:   0%|          | 0/250 [00:00<?, ?it/s]"
      ]
     },
     "metadata": {},
     "output_type": "display_data"
    },
    {
     "name": "stdout",
     "output_type": "stream",
     "text": [
      "RMSE for N_sparse=1500 and N_train=16000 : 0.01374016855207032\n",
      "Time taken: 158.680254 s\n",
      "\n",
      "Training GAP model using N_sparse=1500 and N_train=18000...\n"
     ]
    },
    {
     "data": {
      "application/vnd.jupyter.widget-view+json": {
       "model_id": "",
       "version_major": 2,
       "version_minor": 0
      },
      "text/plain": [
       "Making predictions for test set...:   0%|          | 0/250 [00:00<?, ?it/s]"
      ]
     },
     "metadata": {},
     "output_type": "display_data"
    },
    {
     "name": "stdout",
     "output_type": "stream",
     "text": [
      "RMSE for N_sparse=1500 and N_train=18000 : 0.013907177533089007\n",
      "Time taken: 154.935242 s\n",
      "\n",
      "Training GAP model using N_sparse=1500 and N_train=20000...\n"
     ]
    },
    {
     "data": {
      "application/vnd.jupyter.widget-view+json": {
       "model_id": "",
       "version_major": 2,
       "version_minor": 0
      },
      "text/plain": [
       "Making predictions for test set...:   0%|          | 0/250 [00:00<?, ?it/s]"
      ]
     },
     "metadata": {},
     "output_type": "display_data"
    },
    {
     "name": "stdout",
     "output_type": "stream",
     "text": [
      "RMSE for N_sparse=1500 and N_train=20000 : 0.0139857495890493\n",
      "Time taken: 169.643443 s\n",
      "\n",
      "Training GAP model using N_sparse=2000 and N_train=2000...\n"
     ]
    },
    {
     "data": {
      "application/vnd.jupyter.widget-view+json": {
       "model_id": "",
       "version_major": 2,
       "version_minor": 0
      },
      "text/plain": [
       "Making predictions for test set...:   0%|          | 0/250 [00:00<?, ?it/s]"
      ]
     },
     "metadata": {},
     "output_type": "display_data"
    },
    {
     "name": "stdout",
     "output_type": "stream",
     "text": [
      "RMSE for N_sparse=2000 and N_train=2000 : 0.016160347058798524\n",
      "Time taken: 211.254875 s\n",
      "\n",
      "Training GAP model using N_sparse=2000 and N_train=4000...\n"
     ]
    },
    {
     "data": {
      "application/vnd.jupyter.widget-view+json": {
       "model_id": "",
       "version_major": 2,
       "version_minor": 0
      },
      "text/plain": [
       "Making predictions for test set...:   0%|          | 0/250 [00:00<?, ?it/s]"
      ]
     },
     "metadata": {},
     "output_type": "display_data"
    },
    {
     "name": "stdout",
     "output_type": "stream",
     "text": [
      "RMSE for N_sparse=2000 and N_train=4000 : 0.01822060639846712\n",
      "Time taken: 206.241188 s\n",
      "\n",
      "Training GAP model using N_sparse=2000 and N_train=6000...\n"
     ]
    },
    {
     "data": {
      "application/vnd.jupyter.widget-view+json": {
       "model_id": "",
       "version_major": 2,
       "version_minor": 0
      },
      "text/plain": [
       "Making predictions for test set...:   0%|          | 0/250 [00:00<?, ?it/s]"
      ]
     },
     "metadata": {},
     "output_type": "display_data"
    },
    {
     "name": "stdout",
     "output_type": "stream",
     "text": [
      "RMSE for N_sparse=2000 and N_train=6000 : 0.019006295414358408\n",
      "Time taken: 211.608876 s\n",
      "\n",
      "Training GAP model using N_sparse=2000 and N_train=8000...\n"
     ]
    },
    {
     "data": {
      "application/vnd.jupyter.widget-view+json": {
       "model_id": "",
       "version_major": 2,
       "version_minor": 0
      },
      "text/plain": [
       "Making predictions for test set...:   0%|          | 0/250 [00:00<?, ?it/s]"
      ]
     },
     "metadata": {},
     "output_type": "display_data"
    },
    {
     "name": "stdout",
     "output_type": "stream",
     "text": [
      "RMSE for N_sparse=2000 and N_train=8000 : 0.017872542005953077\n",
      "Time taken: 205.145809 s\n",
      "\n",
      "Training GAP model using N_sparse=2000 and N_train=10000...\n"
     ]
    },
    {
     "data": {
      "application/vnd.jupyter.widget-view+json": {
       "model_id": "",
       "version_major": 2,
       "version_minor": 0
      },
      "text/plain": [
       "Making predictions for test set...:   0%|          | 0/250 [00:00<?, ?it/s]"
      ]
     },
     "metadata": {},
     "output_type": "display_data"
    },
    {
     "name": "stdout",
     "output_type": "stream",
     "text": [
      "RMSE for N_sparse=2000 and N_train=10000 : 0.01698105009890131\n",
      "Time taken: 204.195159 s\n",
      "\n",
      "Training GAP model using N_sparse=2000 and N_train=12000...\n"
     ]
    },
    {
     "data": {
      "application/vnd.jupyter.widget-view+json": {
       "model_id": "",
       "version_major": 2,
       "version_minor": 0
      },
      "text/plain": [
       "Making predictions for test set...:   0%|          | 0/250 [00:00<?, ?it/s]"
      ]
     },
     "metadata": {},
     "output_type": "display_data"
    },
    {
     "name": "stdout",
     "output_type": "stream",
     "text": [
      "RMSE for N_sparse=2000 and N_train=12000 : 0.015963058219578285\n",
      "Time taken: 208.70991 s\n",
      "\n",
      "Training GAP model using N_sparse=2000 and N_train=14000...\n"
     ]
    },
    {
     "data": {
      "application/vnd.jupyter.widget-view+json": {
       "model_id": "",
       "version_major": 2,
       "version_minor": 0
      },
      "text/plain": [
       "Making predictions for test set...:   0%|          | 0/250 [00:00<?, ?it/s]"
      ]
     },
     "metadata": {},
     "output_type": "display_data"
    },
    {
     "name": "stdout",
     "output_type": "stream",
     "text": [
      "RMSE for N_sparse=2000 and N_train=14000 : 0.015052024208715264\n",
      "Time taken: 210.307071 s\n",
      "\n",
      "Training GAP model using N_sparse=2000 and N_train=16000...\n"
     ]
    },
    {
     "data": {
      "application/vnd.jupyter.widget-view+json": {
       "model_id": "",
       "version_major": 2,
       "version_minor": 0
      },
      "text/plain": [
       "Making predictions for test set...:   0%|          | 0/250 [00:00<?, ?it/s]"
      ]
     },
     "metadata": {},
     "output_type": "display_data"
    },
    {
     "name": "stdout",
     "output_type": "stream",
     "text": [
      "RMSE for N_sparse=2000 and N_train=16000 : 0.014785024245317205\n",
      "Time taken: 247.943376 s\n",
      "\n",
      "Training GAP model using N_sparse=2000 and N_train=18000...\n"
     ]
    },
    {
     "data": {
      "application/vnd.jupyter.widget-view+json": {
       "model_id": "",
       "version_major": 2,
       "version_minor": 0
      },
      "text/plain": [
       "Making predictions for test set...:   0%|          | 0/250 [00:00<?, ?it/s]"
      ]
     },
     "metadata": {},
     "output_type": "display_data"
    },
    {
     "name": "stdout",
     "output_type": "stream",
     "text": [
      "RMSE for N_sparse=2000 and N_train=18000 : 0.01446898817593982\n",
      "Time taken: 223.44241 s\n",
      "\n",
      "Training GAP model using N_sparse=2000 and N_train=20000...\n"
     ]
    },
    {
     "data": {
      "application/vnd.jupyter.widget-view+json": {
       "model_id": "",
       "version_major": 2,
       "version_minor": 0
      },
      "text/plain": [
       "Making predictions for test set...:   0%|          | 0/250 [00:00<?, ?it/s]"
      ]
     },
     "metadata": {},
     "output_type": "display_data"
    },
    {
     "name": "stdout",
     "output_type": "stream",
     "text": [
      "RMSE for N_sparse=2000 and N_train=20000 : 0.013754029235336323\n",
      "Time taken: 217.380264 s\n",
      "\n",
      "Training GAP model using N_sparse=2500 and N_train=2000...\n"
     ]
    },
    {
     "data": {
      "application/vnd.jupyter.widget-view+json": {
       "model_id": "",
       "version_major": 2,
       "version_minor": 0
      },
      "text/plain": [
       "Making predictions for test set...:   0%|          | 0/250 [00:00<?, ?it/s]"
      ]
     },
     "metadata": {},
     "output_type": "display_data"
    },
    {
     "name": "stdout",
     "output_type": "stream",
     "text": [
      "RMSE for N_sparse=2500 and N_train=2000 : 0.015596735516599984\n",
      "Time taken: 266.31238 s\n",
      "\n",
      "Training GAP model using N_sparse=2500 and N_train=4000...\n"
     ]
    },
    {
     "data": {
      "application/vnd.jupyter.widget-view+json": {
       "model_id": "",
       "version_major": 2,
       "version_minor": 0
      },
      "text/plain": [
       "Making predictions for test set...:   0%|          | 0/250 [00:00<?, ?it/s]"
      ]
     },
     "metadata": {},
     "output_type": "display_data"
    },
    {
     "name": "stdout",
     "output_type": "stream",
     "text": [
      "RMSE for N_sparse=2500 and N_train=4000 : 0.01710455040073881\n",
      "Time taken: 325.540094 s\n",
      "\n",
      "Training GAP model using N_sparse=2500 and N_train=6000...\n"
     ]
    },
    {
     "data": {
      "application/vnd.jupyter.widget-view+json": {
       "model_id": "",
       "version_major": 2,
       "version_minor": 0
      },
      "text/plain": [
       "Making predictions for test set...:   0%|          | 0/250 [00:00<?, ?it/s]"
      ]
     },
     "metadata": {},
     "output_type": "display_data"
    },
    {
     "name": "stdout",
     "output_type": "stream",
     "text": [
      "RMSE for N_sparse=2500 and N_train=6000 : 0.017827937983194535\n",
      "Time taken: 277.015832 s\n",
      "\n",
      "Training GAP model using N_sparse=2500 and N_train=8000...\n"
     ]
    },
    {
     "data": {
      "application/vnd.jupyter.widget-view+json": {
       "model_id": "",
       "version_major": 2,
       "version_minor": 0
      },
      "text/plain": [
       "Making predictions for test set...:   0%|          | 0/250 [00:00<?, ?it/s]"
      ]
     },
     "metadata": {},
     "output_type": "display_data"
    },
    {
     "name": "stdout",
     "output_type": "stream",
     "text": [
      "RMSE for N_sparse=2500 and N_train=8000 : 0.018188645432757906\n",
      "Time taken: 275.24958 s\n",
      "\n",
      "Training GAP model using N_sparse=2500 and N_train=10000...\n"
     ]
    },
    {
     "data": {
      "application/vnd.jupyter.widget-view+json": {
       "model_id": "",
       "version_major": 2,
       "version_minor": 0
      },
      "text/plain": [
       "Making predictions for test set...:   0%|          | 0/250 [00:00<?, ?it/s]"
      ]
     },
     "metadata": {},
     "output_type": "display_data"
    },
    {
     "name": "stdout",
     "output_type": "stream",
     "text": [
      "RMSE for N_sparse=2500 and N_train=10000 : 0.01745624018583442\n",
      "Time taken: 284.535 s\n",
      "\n",
      "Training GAP model using N_sparse=2500 and N_train=12000...\n"
     ]
    },
    {
     "data": {
      "application/vnd.jupyter.widget-view+json": {
       "model_id": "",
       "version_major": 2,
       "version_minor": 0
      },
      "text/plain": [
       "Making predictions for test set...:   0%|          | 0/250 [00:00<?, ?it/s]"
      ]
     },
     "metadata": {},
     "output_type": "display_data"
    },
    {
     "name": "stdout",
     "output_type": "stream",
     "text": [
      "RMSE for N_sparse=2500 and N_train=12000 : 0.01631023126386724\n",
      "Time taken: 288.623395 s\n",
      "\n",
      "Training GAP model using N_sparse=2500 and N_train=14000...\n"
     ]
    },
    {
     "data": {
      "application/vnd.jupyter.widget-view+json": {
       "model_id": "",
       "version_major": 2,
       "version_minor": 0
      },
      "text/plain": [
       "Making predictions for test set...:   0%|          | 0/250 [00:00<?, ?it/s]"
      ]
     },
     "metadata": {},
     "output_type": "display_data"
    },
    {
     "name": "stdout",
     "output_type": "stream",
     "text": [
      "RMSE for N_sparse=2500 and N_train=14000 : 0.016444405205842852\n",
      "Time taken: 281.210669 s\n",
      "\n",
      "Training GAP model using N_sparse=2500 and N_train=16000...\n"
     ]
    },
    {
     "data": {
      "application/vnd.jupyter.widget-view+json": {
       "model_id": "",
       "version_major": 2,
       "version_minor": 0
      },
      "text/plain": [
       "Making predictions for test set...:   0%|          | 0/250 [00:00<?, ?it/s]"
      ]
     },
     "metadata": {},
     "output_type": "display_data"
    },
    {
     "name": "stdout",
     "output_type": "stream",
     "text": [
      "RMSE for N_sparse=2500 and N_train=16000 : 0.015981427619125004\n",
      "Time taken: 282.961491 s\n",
      "\n",
      "Training GAP model using N_sparse=2500 and N_train=18000...\n"
     ]
    },
    {
     "data": {
      "application/vnd.jupyter.widget-view+json": {
       "model_id": "",
       "version_major": 2,
       "version_minor": 0
      },
      "text/plain": [
       "Making predictions for test set...:   0%|          | 0/250 [00:00<?, ?it/s]"
      ]
     },
     "metadata": {},
     "output_type": "display_data"
    },
    {
     "name": "stdout",
     "output_type": "stream",
     "text": [
      "RMSE for N_sparse=2500 and N_train=18000 : 0.01543334038136208\n",
      "Time taken: 281.749068 s\n",
      "\n",
      "Training GAP model using N_sparse=2500 and N_train=20000...\n"
     ]
    },
    {
     "data": {
      "application/vnd.jupyter.widget-view+json": {
       "model_id": "",
       "version_major": 2,
       "version_minor": 0
      },
      "text/plain": [
       "Making predictions for test set...:   0%|          | 0/250 [00:00<?, ?it/s]"
      ]
     },
     "metadata": {},
     "output_type": "display_data"
    },
    {
     "name": "stdout",
     "output_type": "stream",
     "text": [
      "RMSE for N_sparse=2500 and N_train=20000 : 0.014749884532900317\n",
      "Time taken: 292.611565 s\n",
      "\n",
      "Training GAP model using N_sparse=3000 and N_train=2000...\n"
     ]
    },
    {
     "data": {
      "application/vnd.jupyter.widget-view+json": {
       "model_id": "",
       "version_major": 2,
       "version_minor": 0
      },
      "text/plain": [
       "Making predictions for test set...:   0%|          | 0/250 [00:00<?, ?it/s]"
      ]
     },
     "metadata": {},
     "output_type": "display_data"
    },
    {
     "name": "stdout",
     "output_type": "stream",
     "text": [
      "RMSE for N_sparse=3000 and N_train=2000 : 0.015596157663599675\n",
      "Time taken: 392.964633 s\n",
      "\n",
      "Training GAP model using N_sparse=3000 and N_train=4000...\n"
     ]
    },
    {
     "data": {
      "application/vnd.jupyter.widget-view+json": {
       "model_id": "",
       "version_major": 2,
       "version_minor": 0
      },
      "text/plain": [
       "Making predictions for test set...:   0%|          | 0/250 [00:00<?, ?it/s]"
      ]
     },
     "metadata": {},
     "output_type": "display_data"
    },
    {
     "name": "stdout",
     "output_type": "stream",
     "text": [
      "RMSE for N_sparse=3000 and N_train=4000 : 0.016742557048281415\n",
      "Time taken: 344.190443 s\n",
      "\n",
      "Training GAP model using N_sparse=3000 and N_train=6000...\n"
     ]
    },
    {
     "data": {
      "application/vnd.jupyter.widget-view+json": {
       "model_id": "",
       "version_major": 2,
       "version_minor": 0
      },
      "text/plain": [
       "Making predictions for test set...:   0%|          | 0/250 [00:00<?, ?it/s]"
      ]
     },
     "metadata": {},
     "output_type": "display_data"
    },
    {
     "name": "stdout",
     "output_type": "stream",
     "text": [
      "RMSE for N_sparse=3000 and N_train=6000 : 0.017392994428025946\n",
      "Time taken: 378.122519 s\n",
      "\n",
      "Training GAP model using N_sparse=3000 and N_train=8000...\n"
     ]
    },
    {
     "data": {
      "application/vnd.jupyter.widget-view+json": {
       "model_id": "",
       "version_major": 2,
       "version_minor": 0
      },
      "text/plain": [
       "Making predictions for test set...:   0%|          | 0/250 [00:00<?, ?it/s]"
      ]
     },
     "metadata": {},
     "output_type": "display_data"
    },
    {
     "name": "stdout",
     "output_type": "stream",
     "text": [
      "RMSE for N_sparse=3000 and N_train=8000 : 0.017289780419828482\n",
      "Time taken: 359.551313 s\n",
      "\n",
      "Training GAP model using N_sparse=3000 and N_train=10000...\n"
     ]
    },
    {
     "data": {
      "application/vnd.jupyter.widget-view+json": {
       "model_id": "",
       "version_major": 2,
       "version_minor": 0
      },
      "text/plain": [
       "Making predictions for test set...:   0%|          | 0/250 [00:00<?, ?it/s]"
      ]
     },
     "metadata": {},
     "output_type": "display_data"
    },
    {
     "name": "stdout",
     "output_type": "stream",
     "text": [
      "RMSE for N_sparse=3000 and N_train=10000 : 0.016097370291550447\n",
      "Time taken: 384.235544 s\n",
      "\n",
      "Training GAP model using N_sparse=3000 and N_train=12000...\n"
     ]
    },
    {
     "data": {
      "application/vnd.jupyter.widget-view+json": {
       "model_id": "",
       "version_major": 2,
       "version_minor": 0
      },
      "text/plain": [
       "Making predictions for test set...:   0%|          | 0/250 [00:00<?, ?it/s]"
      ]
     },
     "metadata": {},
     "output_type": "display_data"
    },
    {
     "name": "stdout",
     "output_type": "stream",
     "text": [
      "RMSE for N_sparse=3000 and N_train=12000 : 0.016908451962791116\n",
      "Time taken: 350.372857 s\n",
      "\n",
      "Training GAP model using N_sparse=3000 and N_train=14000...\n"
     ]
    },
    {
     "data": {
      "application/vnd.jupyter.widget-view+json": {
       "model_id": "",
       "version_major": 2,
       "version_minor": 0
      },
      "text/plain": [
       "Making predictions for test set...:   0%|          | 0/250 [00:00<?, ?it/s]"
      ]
     },
     "metadata": {},
     "output_type": "display_data"
    },
    {
     "name": "stdout",
     "output_type": "stream",
     "text": [
      "RMSE for N_sparse=3000 and N_train=14000 : 0.016944146379946706\n",
      "Time taken: 353.948761 s\n",
      "\n",
      "Training GAP model using N_sparse=3000 and N_train=16000...\n"
     ]
    },
    {
     "data": {
      "application/vnd.jupyter.widget-view+json": {
       "model_id": "",
       "version_major": 2,
       "version_minor": 0
      },
      "text/plain": [
       "Making predictions for test set...:   0%|          | 0/250 [00:00<?, ?it/s]"
      ]
     },
     "metadata": {},
     "output_type": "display_data"
    },
    {
     "name": "stdout",
     "output_type": "stream",
     "text": [
      "RMSE for N_sparse=3000 and N_train=16000 : 0.016572547913100956\n",
      "Time taken: 342.282206 s\n",
      "\n",
      "Training GAP model using N_sparse=3000 and N_train=18000...\n"
     ]
    },
    {
     "data": {
      "application/vnd.jupyter.widget-view+json": {
       "model_id": "",
       "version_major": 2,
       "version_minor": 0
      },
      "text/plain": [
       "Making predictions for test set...:   0%|          | 0/250 [00:00<?, ?it/s]"
      ]
     },
     "metadata": {},
     "output_type": "display_data"
    },
    {
     "name": "stdout",
     "output_type": "stream",
     "text": [
      "RMSE for N_sparse=3000 and N_train=18000 : 0.01589348424686457\n",
      "Time taken: 342.842676 s\n",
      "\n",
      "Training GAP model using N_sparse=3000 and N_train=20000...\n"
     ]
    },
    {
     "data": {
      "application/vnd.jupyter.widget-view+json": {
       "model_id": "",
       "version_major": 2,
       "version_minor": 0
      },
      "text/plain": [
       "Making predictions for test set...:   0%|          | 0/250 [00:00<?, ?it/s]"
      ]
     },
     "metadata": {},
     "output_type": "display_data"
    },
    {
     "name": "stdout",
     "output_type": "stream",
     "text": [
      "RMSE for N_sparse=3000 and N_train=20000 : 0.014940915215178555\n",
      "Time taken: 347.16153 s\n",
      "\n",
      "Training GAP model using N_sparse=3500 and N_train=2000...\n"
     ]
    },
    {
     "data": {
      "application/vnd.jupyter.widget-view+json": {
       "model_id": "",
       "version_major": 2,
       "version_minor": 0
      },
      "text/plain": [
       "Making predictions for test set...:   0%|          | 0/250 [00:00<?, ?it/s]"
      ]
     },
     "metadata": {},
     "output_type": "display_data"
    },
    {
     "name": "stdout",
     "output_type": "stream",
     "text": [
      "RMSE for N_sparse=3500 and N_train=2000 : 0.015433690141798226\n",
      "Time taken: 496.331522 s\n",
      "\n",
      "Training GAP model using N_sparse=3500 and N_train=4000...\n"
     ]
    },
    {
     "data": {
      "application/vnd.jupyter.widget-view+json": {
       "model_id": "",
       "version_major": 2,
       "version_minor": 0
      },
      "text/plain": [
       "Making predictions for test set...:   0%|          | 0/250 [00:00<?, ?it/s]"
      ]
     },
     "metadata": {},
     "output_type": "display_data"
    },
    {
     "name": "stdout",
     "output_type": "stream",
     "text": [
      "RMSE for N_sparse=3500 and N_train=4000 : 0.016377917139289537\n",
      "Time taken: 411.091258 s\n",
      "\n",
      "Training GAP model using N_sparse=3500 and N_train=6000...\n"
     ]
    },
    {
     "data": {
      "application/vnd.jupyter.widget-view+json": {
       "model_id": "",
       "version_major": 2,
       "version_minor": 0
      },
      "text/plain": [
       "Making predictions for test set...:   0%|          | 0/250 [00:00<?, ?it/s]"
      ]
     },
     "metadata": {},
     "output_type": "display_data"
    },
    {
     "name": "stdout",
     "output_type": "stream",
     "text": [
      "RMSE for N_sparse=3500 and N_train=6000 : 0.016961417471298073\n",
      "Time taken: 424.740611 s\n",
      "\n",
      "Training GAP model using N_sparse=3500 and N_train=8000...\n"
     ]
    },
    {
     "data": {
      "application/vnd.jupyter.widget-view+json": {
       "model_id": "",
       "version_major": 2,
       "version_minor": 0
      },
      "text/plain": [
       "Making predictions for test set...:   0%|          | 0/250 [00:00<?, ?it/s]"
      ]
     },
     "metadata": {},
     "output_type": "display_data"
    },
    {
     "name": "stdout",
     "output_type": "stream",
     "text": [
      "RMSE for N_sparse=3500 and N_train=8000 : 0.016000404888217728\n",
      "Time taken: 417.268245 s\n",
      "\n",
      "Training GAP model using N_sparse=3500 and N_train=10000...\n"
     ]
    },
    {
     "data": {
      "application/vnd.jupyter.widget-view+json": {
       "model_id": "",
       "version_major": 2,
       "version_minor": 0
      },
      "text/plain": [
       "Making predictions for test set...:   0%|          | 0/250 [00:00<?, ?it/s]"
      ]
     },
     "metadata": {},
     "output_type": "display_data"
    },
    {
     "name": "stdout",
     "output_type": "stream",
     "text": [
      "RMSE for N_sparse=3500 and N_train=10000 : 0.015664873713241968\n",
      "Time taken: 421.583259 s\n",
      "\n",
      "Training GAP model using N_sparse=3500 and N_train=12000...\n"
     ]
    },
    {
     "data": {
      "application/vnd.jupyter.widget-view+json": {
       "model_id": "",
       "version_major": 2,
       "version_minor": 0
      },
      "text/plain": [
       "Making predictions for test set...:   0%|          | 0/250 [00:00<?, ?it/s]"
      ]
     },
     "metadata": {},
     "output_type": "display_data"
    },
    {
     "name": "stdout",
     "output_type": "stream",
     "text": [
      "RMSE for N_sparse=3500 and N_train=12000 : 0.0160718371427035\n",
      "Time taken: 468.032864 s\n",
      "\n",
      "Training GAP model using N_sparse=3500 and N_train=14000...\n"
     ]
    },
    {
     "data": {
      "application/vnd.jupyter.widget-view+json": {
       "model_id": "",
       "version_major": 2,
       "version_minor": 0
      },
      "text/plain": [
       "Making predictions for test set...:   0%|          | 0/250 [00:00<?, ?it/s]"
      ]
     },
     "metadata": {},
     "output_type": "display_data"
    },
    {
     "name": "stdout",
     "output_type": "stream",
     "text": [
      "RMSE for N_sparse=3500 and N_train=14000 : 0.017028342349708847\n",
      "Time taken: 465.219663 s\n",
      "\n",
      "Training GAP model using N_sparse=3500 and N_train=16000...\n"
     ]
    },
    {
     "data": {
      "application/vnd.jupyter.widget-view+json": {
       "model_id": "",
       "version_major": 2,
       "version_minor": 0
      },
      "text/plain": [
       "Making predictions for test set...:   0%|          | 0/250 [00:00<?, ?it/s]"
      ]
     },
     "metadata": {},
     "output_type": "display_data"
    },
    {
     "name": "stdout",
     "output_type": "stream",
     "text": [
      "RMSE for N_sparse=3500 and N_train=16000 : 0.016093239441495478\n",
      "Time taken: 481.906879 s\n",
      "\n",
      "Training GAP model using N_sparse=3500 and N_train=18000...\n"
     ]
    },
    {
     "data": {
      "application/vnd.jupyter.widget-view+json": {
       "model_id": "",
       "version_major": 2,
       "version_minor": 0
      },
      "text/plain": [
       "Making predictions for test set...:   0%|          | 0/250 [00:00<?, ?it/s]"
      ]
     },
     "metadata": {},
     "output_type": "display_data"
    },
    {
     "name": "stdout",
     "output_type": "stream",
     "text": [
      "RMSE for N_sparse=3500 and N_train=18000 : 0.016004132036110792\n",
      "Time taken: 458.808002 s\n",
      "\n",
      "Training GAP model using N_sparse=3500 and N_train=20000...\n"
     ]
    },
    {
     "data": {
      "application/vnd.jupyter.widget-view+json": {
       "model_id": "",
       "version_major": 2,
       "version_minor": 0
      },
      "text/plain": [
       "Making predictions for test set...:   0%|          | 0/250 [00:00<?, ?it/s]"
      ]
     },
     "metadata": {},
     "output_type": "display_data"
    },
    {
     "name": "stdout",
     "output_type": "stream",
     "text": [
      "RMSE for N_sparse=3500 and N_train=20000 : 0.014884261645590199\n",
      "Time taken: 451.757903 s\n",
      "\n",
      "Training GAP model using N_sparse=4000 and N_train=2000...\n"
     ]
    },
    {
     "data": {
      "application/vnd.jupyter.widget-view+json": {
       "model_id": "",
       "version_major": 2,
       "version_minor": 0
      },
      "text/plain": [
       "Making predictions for test set...:   0%|          | 0/250 [00:00<?, ?it/s]"
      ]
     },
     "metadata": {},
     "output_type": "display_data"
    },
    {
     "name": "stdout",
     "output_type": "stream",
     "text": [
      "RMSE for N_sparse=4000 and N_train=2000 : 0.015313045113365151\n",
      "Time taken: 489.798233 s\n",
      "\n",
      "Training GAP model using N_sparse=4000 and N_train=4000...\n"
     ]
    },
    {
     "data": {
      "application/vnd.jupyter.widget-view+json": {
       "model_id": "",
       "version_major": 2,
       "version_minor": 0
      },
      "text/plain": [
       "Making predictions for test set...:   0%|          | 0/250 [00:00<?, ?it/s]"
      ]
     },
     "metadata": {},
     "output_type": "display_data"
    },
    {
     "name": "stdout",
     "output_type": "stream",
     "text": [
      "RMSE for N_sparse=4000 and N_train=4000 : 0.016130453125940157\n",
      "Time taken: 487.275652 s\n",
      "\n",
      "Training GAP model using N_sparse=4000 and N_train=6000...\n"
     ]
    },
    {
     "data": {
      "application/vnd.jupyter.widget-view+json": {
       "model_id": "",
       "version_major": 2,
       "version_minor": 0
      },
      "text/plain": [
       "Making predictions for test set...:   0%|          | 0/250 [00:00<?, ?it/s]"
      ]
     },
     "metadata": {},
     "output_type": "display_data"
    },
    {
     "name": "stdout",
     "output_type": "stream",
     "text": [
      "RMSE for N_sparse=4000 and N_train=6000 : 0.016371860029461633\n",
      "Time taken: 514.037921 s\n",
      "\n",
      "Training GAP model using N_sparse=4000 and N_train=8000...\n"
     ]
    },
    {
     "data": {
      "application/vnd.jupyter.widget-view+json": {
       "model_id": "",
       "version_major": 2,
       "version_minor": 0
      },
      "text/plain": [
       "Making predictions for test set...:   0%|          | 0/250 [00:00<?, ?it/s]"
      ]
     },
     "metadata": {},
     "output_type": "display_data"
    },
    {
     "name": "stdout",
     "output_type": "stream",
     "text": [
      "RMSE for N_sparse=4000 and N_train=8000 : 0.015373172291759218\n",
      "Time taken: 537.268956 s\n",
      "\n",
      "Training GAP model using N_sparse=4000 and N_train=10000...\n"
     ]
    },
    {
     "data": {
      "application/vnd.jupyter.widget-view+json": {
       "model_id": "",
       "version_major": 2,
       "version_minor": 0
      },
      "text/plain": [
       "Making predictions for test set...:   0%|          | 0/250 [00:00<?, ?it/s]"
      ]
     },
     "metadata": {},
     "output_type": "display_data"
    },
    {
     "name": "stdout",
     "output_type": "stream",
     "text": [
      "RMSE for N_sparse=4000 and N_train=10000 : 0.014799969701013617\n",
      "Time taken: 519.781794 s\n",
      "\n",
      "Training GAP model using N_sparse=4000 and N_train=12000...\n"
     ]
    },
    {
     "data": {
      "application/vnd.jupyter.widget-view+json": {
       "model_id": "",
       "version_major": 2,
       "version_minor": 0
      },
      "text/plain": [
       "Making predictions for test set...:   0%|          | 0/250 [00:00<?, ?it/s]"
      ]
     },
     "metadata": {},
     "output_type": "display_data"
    },
    {
     "name": "stdout",
     "output_type": "stream",
     "text": [
      "RMSE for N_sparse=4000 and N_train=12000 : 0.014366234636147194\n",
      "Time taken: 595.684417 s\n",
      "\n",
      "Training GAP model using N_sparse=4000 and N_train=14000...\n"
     ]
    },
    {
     "data": {
      "application/vnd.jupyter.widget-view+json": {
       "model_id": "",
       "version_major": 2,
       "version_minor": 0
      },
      "text/plain": [
       "Making predictions for test set...:   0%|          | 0/250 [00:00<?, ?it/s]"
      ]
     },
     "metadata": {},
     "output_type": "display_data"
    },
    {
     "name": "stdout",
     "output_type": "stream",
     "text": [
      "RMSE for N_sparse=4000 and N_train=14000 : 0.014612305914612045\n",
      "Time taken: 657.62026 s\n",
      "\n",
      "Training GAP model using N_sparse=4000 and N_train=16000...\n"
     ]
    },
    {
     "data": {
      "application/vnd.jupyter.widget-view+json": {
       "model_id": "",
       "version_major": 2,
       "version_minor": 0
      },
      "text/plain": [
       "Making predictions for test set...:   0%|          | 0/250 [00:00<?, ?it/s]"
      ]
     },
     "metadata": {},
     "output_type": "display_data"
    },
    {
     "name": "stdout",
     "output_type": "stream",
     "text": [
      "RMSE for N_sparse=4000 and N_train=16000 : 0.014761256685343135\n",
      "Time taken: 545.860454 s\n",
      "\n",
      "Training GAP model using N_sparse=4000 and N_train=18000...\n"
     ]
    },
    {
     "data": {
      "application/vnd.jupyter.widget-view+json": {
       "model_id": "",
       "version_major": 2,
       "version_minor": 0
      },
      "text/plain": [
       "Making predictions for test set...:   0%|          | 0/250 [00:00<?, ?it/s]"
      ]
     },
     "metadata": {},
     "output_type": "display_data"
    },
    {
     "name": "stdout",
     "output_type": "stream",
     "text": [
      "RMSE for N_sparse=4000 and N_train=18000 : 0.01509733157175387\n",
      "Time taken: 518.810282 s\n",
      "\n",
      "Training GAP model using N_sparse=4000 and N_train=20000...\n"
     ]
    },
    {
     "data": {
      "application/vnd.jupyter.widget-view+json": {
       "model_id": "",
       "version_major": 2,
       "version_minor": 0
      },
      "text/plain": [
       "Making predictions for test set...:   0%|          | 0/250 [00:00<?, ?it/s]"
      ]
     },
     "metadata": {},
     "output_type": "display_data"
    },
    {
     "name": "stdout",
     "output_type": "stream",
     "text": [
      "RMSE for N_sparse=4000 and N_train=20000 : 0.014483022416708236\n",
      "Time taken: 518.91681 s\n",
      "\n"
     ]
    }
   ],
   "source": [
    "#Train and test GAP model using various slices of training frames and testing on the first 100 CSD-1k structures\n",
    "spar_low=500; spar_high=4001; spar_gap=500\n",
    "ntrain_low=2000; ntrain_high=20001; ntrain_gap=2000\n",
    "\n",
    "for ni, i in enumerate(range(spar_low, spar_high, spar_gap)):\n",
    "    K_NM_total = np.load(f'learning_curve_data/Knm_learning_curve_{i}.npy') #import full KNM for this number of sparse points\n",
    "    X_sparse = load_obj(f'learning_curve_data/X_sparse_PCovFPS_{i}_696.json') #Import X_sparse for this number of sparse points\n",
    "    results=np.zeros((len(range(ntrain_low, ntrain_high, ntrain_gap)), 2), dtype=float)\n",
    "    \n",
    "    for nj, j in enumerate(range(ntrain_low, ntrain_high, ntrain_gap)):\n",
    "        start = time()\n",
    "        K_NM = K_NM_total[:j] #get correct slice of KNM\n",
    "        print(f\"Training GAP model using N_sparse={i} and N_train={j}...\")\n",
    "        start = time()\n",
    "    \n",
    "        model = train_gap_model(kernel, train_frames[:j], K_NM, X_sparse, y_train[:j], y_dressed, \n",
    "                                grad_train=None, lambdas=[0.01], jitter=1e-9, solver = 'RKHS') #train model\n",
    "        \n",
    "        #test model on full CSD-1k set (only on first 250 structures)\n",
    "        npred=250\n",
    "        ytp = []\n",
    "        for frm in tqdm(csd_1k[:npred], desc = \"Making predictions for test set...\", leave=False):\n",
    "            manager_test = soap.transform(frm)\n",
    "            ytp.append(model.predict(manager_test))\n",
    "\n",
    "        y_test_pred = np.array(ytp).flatten()\n",
    "        rmse = np.sqrt(np.mean(((y_test[:npred] - mlr.predict(X_test[:npred]))/np.sum(X_test[:npred],axis=1) \n",
    "                               - (y_test_pred[:npred] - mlr.predict(X_test[:npred]))/np.sum(X_test[:npred],axis=1))**2))\n",
    "        \n",
    "        print(f\"RMSE for N_sparse={i} and N_train={j} : {rmse}\")\n",
    "        \n",
    "        results[nj] = [float(j), rmse]\n",
    "        np.save(f'learning_curve_data/predictions/0.01_reg/y_test_pred_S{i}_N{j}', y_test_pred)\n",
    "        \n",
    "        print(\"Time taken:\", np.round(time()-start, 6), \"s\")\n",
    "        print(\"\")\n",
    "    \n",
    "    np.save(f'learning_curve_data/rmses/0.01_reg/RMSEs_{i}_sparse_points', results)"
   ]
  },
  {
   "cell_type": "code",
   "execution_count": 113,
   "id": "d00fe559",
   "metadata": {},
   "outputs": [
    {
     "name": "stdout",
     "output_type": "stream",
     "text": [
      "Training GAP model using N_sparse=500 and N_train=2000...\n"
     ]
    },
    {
     "data": {
      "application/vnd.jupyter.widget-view+json": {
       "model_id": "",
       "version_major": 2,
       "version_minor": 0
      },
      "text/plain": [
       "Making predictions for test set...:   0%|          | 0/250 [00:00<?, ?it/s]"
      ]
     },
     "metadata": {},
     "output_type": "display_data"
    },
    {
     "name": "stdout",
     "output_type": "stream",
     "text": [
      "RMSE : 0.034443884051348767\n",
      "Time taken: 45.790192 s\n",
      "\n",
      "Training GAP model using N_sparse=500 and N_train=4000...\n"
     ]
    },
    {
     "data": {
      "application/vnd.jupyter.widget-view+json": {
       "model_id": "",
       "version_major": 2,
       "version_minor": 0
      },
      "text/plain": [
       "Making predictions for test set...:   0%|          | 0/250 [00:00<?, ?it/s]"
      ]
     },
     "metadata": {},
     "output_type": "display_data"
    },
    {
     "name": "stdout",
     "output_type": "stream",
     "text": [
      "RMSE : 0.01733368486430909\n",
      "Time taken: 47.085859 s\n",
      "\n",
      "Training GAP model using N_sparse=500 and N_train=6000...\n"
     ]
    },
    {
     "data": {
      "application/vnd.jupyter.widget-view+json": {
       "model_id": "",
       "version_major": 2,
       "version_minor": 0
      },
      "text/plain": [
       "Making predictions for test set...:   0%|          | 0/250 [00:00<?, ?it/s]"
      ]
     },
     "metadata": {},
     "output_type": "display_data"
    },
    {
     "name": "stdout",
     "output_type": "stream",
     "text": [
      "RMSE : 0.01673256659832386\n",
      "Time taken: 48.927427 s\n",
      "\n",
      "Training GAP model using N_sparse=500 and N_train=8000...\n"
     ]
    },
    {
     "data": {
      "application/vnd.jupyter.widget-view+json": {
       "model_id": "",
       "version_major": 2,
       "version_minor": 0
      },
      "text/plain": [
       "Making predictions for test set...:   0%|          | 0/250 [00:00<?, ?it/s]"
      ]
     },
     "metadata": {},
     "output_type": "display_data"
    },
    {
     "name": "stdout",
     "output_type": "stream",
     "text": [
      "RMSE : 0.0159828177591577\n",
      "Time taken: 44.44847 s\n",
      "\n",
      "Training GAP model using N_sparse=500 and N_train=10000...\n"
     ]
    },
    {
     "data": {
      "application/vnd.jupyter.widget-view+json": {
       "model_id": "",
       "version_major": 2,
       "version_minor": 0
      },
      "text/plain": [
       "Making predictions for test set...:   0%|          | 0/250 [00:00<?, ?it/s]"
      ]
     },
     "metadata": {},
     "output_type": "display_data"
    },
    {
     "name": "stdout",
     "output_type": "stream",
     "text": [
      "RMSE : 0.0157931998975896\n",
      "Time taken: 50.473994 s\n",
      "\n",
      "Training GAP model using N_sparse=500 and N_train=12000...\n"
     ]
    },
    {
     "data": {
      "application/vnd.jupyter.widget-view+json": {
       "model_id": "",
       "version_major": 2,
       "version_minor": 0
      },
      "text/plain": [
       "Making predictions for test set...:   0%|          | 0/250 [00:00<?, ?it/s]"
      ]
     },
     "metadata": {},
     "output_type": "display_data"
    },
    {
     "name": "stdout",
     "output_type": "stream",
     "text": [
      "RMSE : 0.015687645950870393\n",
      "Time taken: 46.075531 s\n",
      "\n",
      "Training GAP model using N_sparse=500 and N_train=14000...\n"
     ]
    },
    {
     "data": {
      "application/vnd.jupyter.widget-view+json": {
       "model_id": "",
       "version_major": 2,
       "version_minor": 0
      },
      "text/plain": [
       "Making predictions for test set...:   0%|          | 0/250 [00:00<?, ?it/s]"
      ]
     },
     "metadata": {},
     "output_type": "display_data"
    },
    {
     "name": "stdout",
     "output_type": "stream",
     "text": [
      "RMSE : 0.015896568492178225\n",
      "Time taken: 46.07317 s\n",
      "\n",
      "Training GAP model using N_sparse=500 and N_train=16000...\n"
     ]
    },
    {
     "data": {
      "application/vnd.jupyter.widget-view+json": {
       "model_id": "",
       "version_major": 2,
       "version_minor": 0
      },
      "text/plain": [
       "Making predictions for test set...:   0%|          | 0/250 [00:00<?, ?it/s]"
      ]
     },
     "metadata": {},
     "output_type": "display_data"
    },
    {
     "name": "stdout",
     "output_type": "stream",
     "text": [
      "RMSE : 0.015997963104292218\n",
      "Time taken: 49.005035 s\n",
      "\n",
      "Training GAP model using N_sparse=500 and N_train=18000...\n"
     ]
    },
    {
     "data": {
      "application/vnd.jupyter.widget-view+json": {
       "model_id": "",
       "version_major": 2,
       "version_minor": 0
      },
      "text/plain": [
       "Making predictions for test set...:   0%|          | 0/250 [00:00<?, ?it/s]"
      ]
     },
     "metadata": {},
     "output_type": "display_data"
    },
    {
     "name": "stdout",
     "output_type": "stream",
     "text": [
      "RMSE : 0.01607141848495364\n",
      "Time taken: 59.367811 s\n",
      "\n",
      "Training GAP model using N_sparse=500 and N_train=20000...\n"
     ]
    },
    {
     "data": {
      "application/vnd.jupyter.widget-view+json": {
       "model_id": "",
       "version_major": 2,
       "version_minor": 0
      },
      "text/plain": [
       "Making predictions for test set...:   0%|          | 0/250 [00:00<?, ?it/s]"
      ]
     },
     "metadata": {},
     "output_type": "display_data"
    },
    {
     "name": "stdout",
     "output_type": "stream",
     "text": [
      "RMSE : 0.01604702880859275\n",
      "Time taken: 43.02018 s\n",
      "\n",
      "Saved RMSEs for 500 sparse points\n",
      "\n",
      "\n",
      "Training GAP model using N_sparse=1000 and N_train=2000...\n"
     ]
    },
    {
     "data": {
      "application/vnd.jupyter.widget-view+json": {
       "model_id": "",
       "version_major": 2,
       "version_minor": 0
      },
      "text/plain": [
       "Making predictions for test set...:   0%|          | 0/250 [00:00<?, ?it/s]"
      ]
     },
     "metadata": {},
     "output_type": "display_data"
    },
    {
     "name": "stdout",
     "output_type": "stream",
     "text": [
      "RMSE : 0.01879428434564959\n",
      "Time taken: 89.486737 s\n",
      "\n",
      "Training GAP model using N_sparse=1000 and N_train=4000...\n"
     ]
    },
    {
     "data": {
      "application/vnd.jupyter.widget-view+json": {
       "model_id": "",
       "version_major": 2,
       "version_minor": 0
      },
      "text/plain": [
       "Making predictions for test set...:   0%|          | 0/250 [00:00<?, ?it/s]"
      ]
     },
     "metadata": {},
     "output_type": "display_data"
    },
    {
     "name": "stdout",
     "output_type": "stream",
     "text": [
      "RMSE : 0.0220976362339825\n",
      "Time taken: 93.141049 s\n",
      "\n",
      "Training GAP model using N_sparse=1000 and N_train=6000...\n"
     ]
    },
    {
     "data": {
      "application/vnd.jupyter.widget-view+json": {
       "model_id": "",
       "version_major": 2,
       "version_minor": 0
      },
      "text/plain": [
       "Making predictions for test set...:   0%|          | 0/250 [00:00<?, ?it/s]"
      ]
     },
     "metadata": {},
     "output_type": "display_data"
    },
    {
     "name": "stdout",
     "output_type": "stream",
     "text": [
      "RMSE : 0.02061320745128857\n",
      "Time taken: 95.43188 s\n",
      "\n",
      "Training GAP model using N_sparse=1000 and N_train=8000...\n"
     ]
    },
    {
     "data": {
      "application/vnd.jupyter.widget-view+json": {
       "model_id": "",
       "version_major": 2,
       "version_minor": 0
      },
      "text/plain": [
       "Making predictions for test set...:   0%|          | 0/250 [00:00<?, ?it/s]"
      ]
     },
     "metadata": {},
     "output_type": "display_data"
    },
    {
     "name": "stdout",
     "output_type": "stream",
     "text": [
      "RMSE : 0.01790255210062641\n",
      "Time taken: 96.115762 s\n",
      "\n",
      "Training GAP model using N_sparse=1000 and N_train=10000...\n"
     ]
    },
    {
     "data": {
      "application/vnd.jupyter.widget-view+json": {
       "model_id": "",
       "version_major": 2,
       "version_minor": 0
      },
      "text/plain": [
       "Making predictions for test set...:   0%|          | 0/250 [00:00<?, ?it/s]"
      ]
     },
     "metadata": {},
     "output_type": "display_data"
    },
    {
     "name": "stdout",
     "output_type": "stream",
     "text": [
      "RMSE : 0.01684872036467483\n",
      "Time taken: 95.071982 s\n",
      "\n",
      "Training GAP model using N_sparse=1000 and N_train=12000...\n"
     ]
    },
    {
     "data": {
      "application/vnd.jupyter.widget-view+json": {
       "model_id": "",
       "version_major": 2,
       "version_minor": 0
      },
      "text/plain": [
       "Making predictions for test set...:   0%|          | 0/250 [00:00<?, ?it/s]"
      ]
     },
     "metadata": {},
     "output_type": "display_data"
    },
    {
     "name": "stdout",
     "output_type": "stream",
     "text": [
      "RMSE : 0.01631370316539334\n",
      "Time taken: 99.307029 s\n",
      "\n",
      "Training GAP model using N_sparse=1000 and N_train=14000...\n"
     ]
    },
    {
     "data": {
      "application/vnd.jupyter.widget-view+json": {
       "model_id": "",
       "version_major": 2,
       "version_minor": 0
      },
      "text/plain": [
       "Making predictions for test set...:   0%|          | 0/250 [00:00<?, ?it/s]"
      ]
     },
     "metadata": {},
     "output_type": "display_data"
    },
    {
     "name": "stdout",
     "output_type": "stream",
     "text": [
      "RMSE : 0.016107124511940508\n",
      "Time taken: 98.362662 s\n",
      "\n",
      "Training GAP model using N_sparse=1000 and N_train=16000...\n"
     ]
    },
    {
     "data": {
      "application/vnd.jupyter.widget-view+json": {
       "model_id": "",
       "version_major": 2,
       "version_minor": 0
      },
      "text/plain": [
       "Making predictions for test set...:   0%|          | 0/250 [00:00<?, ?it/s]"
      ]
     },
     "metadata": {},
     "output_type": "display_data"
    },
    {
     "name": "stdout",
     "output_type": "stream",
     "text": [
      "RMSE : 0.016226078583119207\n",
      "Time taken: 96.589701 s\n",
      "\n",
      "Training GAP model using N_sparse=1000 and N_train=18000...\n"
     ]
    },
    {
     "data": {
      "application/vnd.jupyter.widget-view+json": {
       "model_id": "",
       "version_major": 2,
       "version_minor": 0
      },
      "text/plain": [
       "Making predictions for test set...:   0%|          | 0/250 [00:00<?, ?it/s]"
      ]
     },
     "metadata": {},
     "output_type": "display_data"
    },
    {
     "name": "stdout",
     "output_type": "stream",
     "text": [
      "RMSE : 0.016203715493016118\n",
      "Time taken: 100.622207 s\n",
      "\n",
      "Training GAP model using N_sparse=1000 and N_train=20000...\n"
     ]
    },
    {
     "data": {
      "application/vnd.jupyter.widget-view+json": {
       "model_id": "",
       "version_major": 2,
       "version_minor": 0
      },
      "text/plain": [
       "Making predictions for test set...:   0%|          | 0/250 [00:00<?, ?it/s]"
      ]
     },
     "metadata": {},
     "output_type": "display_data"
    },
    {
     "name": "stdout",
     "output_type": "stream",
     "text": [
      "RMSE : 0.016280221824684363\n",
      "Time taken: 101.915618 s\n",
      "\n",
      "Saved RMSEs for 1000 sparse points\n",
      "\n",
      "\n",
      "Training GAP model using N_sparse=1500 and N_train=2000...\n"
     ]
    },
    {
     "data": {
      "application/vnd.jupyter.widget-view+json": {
       "model_id": "",
       "version_major": 2,
       "version_minor": 0
      },
      "text/plain": [
       "Making predictions for test set...:   0%|          | 0/250 [00:00<?, ?it/s]"
      ]
     },
     "metadata": {},
     "output_type": "display_data"
    },
    {
     "name": "stdout",
     "output_type": "stream",
     "text": [
      "RMSE : 0.017033275753091926\n",
      "Time taken: 190.85778 s\n",
      "\n",
      "Training GAP model using N_sparse=1500 and N_train=4000...\n"
     ]
    },
    {
     "data": {
      "application/vnd.jupyter.widget-view+json": {
       "model_id": "",
       "version_major": 2,
       "version_minor": 0
      },
      "text/plain": [
       "Making predictions for test set...:   0%|          | 0/250 [00:00<?, ?it/s]"
      ]
     },
     "metadata": {},
     "output_type": "display_data"
    },
    {
     "name": "stdout",
     "output_type": "stream",
     "text": [
      "RMSE : 0.018639347869364175\n",
      "Time taken: 184.790398 s\n",
      "\n",
      "Training GAP model using N_sparse=1500 and N_train=6000...\n"
     ]
    },
    {
     "data": {
      "application/vnd.jupyter.widget-view+json": {
       "model_id": "",
       "version_major": 2,
       "version_minor": 0
      },
      "text/plain": [
       "Making predictions for test set...:   0%|          | 0/250 [00:00<?, ?it/s]"
      ]
     },
     "metadata": {},
     "output_type": "display_data"
    },
    {
     "name": "stdout",
     "output_type": "stream",
     "text": [
      "RMSE : 0.019379461086662917\n",
      "Time taken: 157.015654 s\n",
      "\n",
      "Training GAP model using N_sparse=1500 and N_train=8000...\n"
     ]
    },
    {
     "data": {
      "application/vnd.jupyter.widget-view+json": {
       "model_id": "",
       "version_major": 2,
       "version_minor": 0
      },
      "text/plain": [
       "Making predictions for test set...:   0%|          | 0/250 [00:00<?, ?it/s]"
      ]
     },
     "metadata": {},
     "output_type": "display_data"
    },
    {
     "name": "stdout",
     "output_type": "stream",
     "text": [
      "RMSE : 0.01596380833099353\n",
      "Time taken: 146.337155 s\n",
      "\n",
      "Training GAP model using N_sparse=1500 and N_train=10000...\n"
     ]
    },
    {
     "data": {
      "application/vnd.jupyter.widget-view+json": {
       "model_id": "",
       "version_major": 2,
       "version_minor": 0
      },
      "text/plain": [
       "Making predictions for test set...:   0%|          | 0/250 [00:00<?, ?it/s]"
      ]
     },
     "metadata": {},
     "output_type": "display_data"
    },
    {
     "name": "stdout",
     "output_type": "stream",
     "text": [
      "RMSE : 0.015231652670527432\n",
      "Time taken: 154.594914 s\n",
      "\n",
      "Training GAP model using N_sparse=1500 and N_train=12000...\n"
     ]
    },
    {
     "data": {
      "application/vnd.jupyter.widget-view+json": {
       "model_id": "",
       "version_major": 2,
       "version_minor": 0
      },
      "text/plain": [
       "Making predictions for test set...:   0%|          | 0/250 [00:00<?, ?it/s]"
      ]
     },
     "metadata": {},
     "output_type": "display_data"
    },
    {
     "name": "stdout",
     "output_type": "stream",
     "text": [
      "RMSE : 0.015004968089367682\n",
      "Time taken: 156.465153 s\n",
      "\n",
      "Training GAP model using N_sparse=1500 and N_train=14000...\n"
     ]
    },
    {
     "data": {
      "application/vnd.jupyter.widget-view+json": {
       "model_id": "",
       "version_major": 2,
       "version_minor": 0
      },
      "text/plain": [
       "Making predictions for test set...:   0%|          | 0/250 [00:00<?, ?it/s]"
      ]
     },
     "metadata": {},
     "output_type": "display_data"
    },
    {
     "name": "stdout",
     "output_type": "stream",
     "text": [
      "RMSE : 0.01386347903380724\n",
      "Time taken: 156.634318 s\n",
      "\n",
      "Training GAP model using N_sparse=1500 and N_train=16000...\n"
     ]
    },
    {
     "data": {
      "application/vnd.jupyter.widget-view+json": {
       "model_id": "",
       "version_major": 2,
       "version_minor": 0
      },
      "text/plain": [
       "Making predictions for test set...:   0%|          | 0/250 [00:00<?, ?it/s]"
      ]
     },
     "metadata": {},
     "output_type": "display_data"
    },
    {
     "name": "stdout",
     "output_type": "stream",
     "text": [
      "RMSE : 0.013682445624645802\n",
      "Time taken: 155.50098 s\n",
      "\n",
      "Training GAP model using N_sparse=1500 and N_train=18000...\n"
     ]
    },
    {
     "data": {
      "application/vnd.jupyter.widget-view+json": {
       "model_id": "",
       "version_major": 2,
       "version_minor": 0
      },
      "text/plain": [
       "Making predictions for test set...:   0%|          | 0/250 [00:00<?, ?it/s]"
      ]
     },
     "metadata": {},
     "output_type": "display_data"
    },
    {
     "name": "stdout",
     "output_type": "stream",
     "text": [
      "RMSE : 0.013847684858336382\n",
      "Time taken: 155.715054 s\n",
      "\n",
      "Training GAP model using N_sparse=1500 and N_train=20000...\n"
     ]
    },
    {
     "data": {
      "application/vnd.jupyter.widget-view+json": {
       "model_id": "",
       "version_major": 2,
       "version_minor": 0
      },
      "text/plain": [
       "Making predictions for test set...:   0%|          | 0/250 [00:00<?, ?it/s]"
      ]
     },
     "metadata": {},
     "output_type": "display_data"
    },
    {
     "name": "stdout",
     "output_type": "stream",
     "text": [
      "RMSE : 0.013942975053956355\n",
      "Time taken: 159.669499 s\n",
      "\n",
      "Saved RMSEs for 1500 sparse points\n",
      "\n",
      "\n",
      "Training GAP model using N_sparse=2000 and N_train=2000...\n"
     ]
    },
    {
     "data": {
      "application/vnd.jupyter.widget-view+json": {
       "model_id": "",
       "version_major": 2,
       "version_minor": 0
      },
      "text/plain": [
       "Making predictions for test set...:   0%|          | 0/250 [00:00<?, ?it/s]"
      ]
     },
     "metadata": {},
     "output_type": "display_data"
    },
    {
     "name": "stdout",
     "output_type": "stream",
     "text": [
      "RMSE : 0.0161506716867103\n",
      "Time taken: 206.341471 s\n",
      "\n",
      "Training GAP model using N_sparse=2000 and N_train=4000...\n"
     ]
    },
    {
     "data": {
      "application/vnd.jupyter.widget-view+json": {
       "model_id": "",
       "version_major": 2,
       "version_minor": 0
      },
      "text/plain": [
       "Making predictions for test set...:   0%|          | 0/250 [00:00<?, ?it/s]"
      ]
     },
     "metadata": {},
     "output_type": "display_data"
    },
    {
     "name": "stdout",
     "output_type": "stream",
     "text": [
      "RMSE : 0.017940436353219482\n",
      "Time taken: 199.844655 s\n",
      "\n",
      "Training GAP model using N_sparse=2000 and N_train=6000...\n"
     ]
    },
    {
     "data": {
      "application/vnd.jupyter.widget-view+json": {
       "model_id": "",
       "version_major": 2,
       "version_minor": 0
      },
      "text/plain": [
       "Making predictions for test set...:   0%|          | 0/250 [00:00<?, ?it/s]"
      ]
     },
     "metadata": {},
     "output_type": "display_data"
    },
    {
     "name": "stdout",
     "output_type": "stream",
     "text": [
      "RMSE : 0.01754755207030335\n",
      "Time taken: 204.900185 s\n",
      "\n",
      "Training GAP model using N_sparse=2000 and N_train=8000...\n"
     ]
    },
    {
     "data": {
      "application/vnd.jupyter.widget-view+json": {
       "model_id": "",
       "version_major": 2,
       "version_minor": 0
      },
      "text/plain": [
       "Making predictions for test set...:   0%|          | 0/250 [00:00<?, ?it/s]"
      ]
     },
     "metadata": {},
     "output_type": "display_data"
    },
    {
     "name": "stdout",
     "output_type": "stream",
     "text": [
      "RMSE : 0.015851181911641192\n",
      "Time taken: 214.736745 s\n",
      "\n",
      "Training GAP model using N_sparse=2000 and N_train=10000...\n"
     ]
    },
    {
     "data": {
      "application/vnd.jupyter.widget-view+json": {
       "model_id": "",
       "version_major": 2,
       "version_minor": 0
      },
      "text/plain": [
       "Making predictions for test set...:   0%|          | 0/250 [00:00<?, ?it/s]"
      ]
     },
     "metadata": {},
     "output_type": "display_data"
    },
    {
     "name": "stdout",
     "output_type": "stream",
     "text": [
      "RMSE : 0.015294774894679697\n",
      "Time taken: 203.428668 s\n",
      "\n",
      "Training GAP model using N_sparse=2000 and N_train=12000...\n"
     ]
    },
    {
     "data": {
      "application/vnd.jupyter.widget-view+json": {
       "model_id": "",
       "version_major": 2,
       "version_minor": 0
      },
      "text/plain": [
       "Making predictions for test set...:   0%|          | 0/250 [00:00<?, ?it/s]"
      ]
     },
     "metadata": {},
     "output_type": "display_data"
    },
    {
     "name": "stdout",
     "output_type": "stream",
     "text": [
      "RMSE : 0.015023753056336991\n",
      "Time taken: 245.163944 s\n",
      "\n",
      "Training GAP model using N_sparse=2000 and N_train=14000...\n"
     ]
    },
    {
     "data": {
      "application/vnd.jupyter.widget-view+json": {
       "model_id": "",
       "version_major": 2,
       "version_minor": 0
      },
      "text/plain": [
       "Making predictions for test set...:   0%|          | 0/250 [00:00<?, ?it/s]"
      ]
     },
     "metadata": {},
     "output_type": "display_data"
    },
    {
     "name": "stdout",
     "output_type": "stream",
     "text": [
      "RMSE : 0.01457153324953541\n",
      "Time taken: 219.011425 s\n",
      "\n",
      "Training GAP model using N_sparse=2000 and N_train=16000...\n"
     ]
    },
    {
     "data": {
      "application/vnd.jupyter.widget-view+json": {
       "model_id": "",
       "version_major": 2,
       "version_minor": 0
      },
      "text/plain": [
       "Making predictions for test set...:   0%|          | 0/250 [00:00<?, ?it/s]"
      ]
     },
     "metadata": {},
     "output_type": "display_data"
    },
    {
     "name": "stdout",
     "output_type": "stream",
     "text": [
      "RMSE : 0.014431811618971372\n",
      "Time taken: 204.215683 s\n",
      "\n",
      "Training GAP model using N_sparse=2000 and N_train=18000...\n"
     ]
    },
    {
     "data": {
      "application/vnd.jupyter.widget-view+json": {
       "model_id": "",
       "version_major": 2,
       "version_minor": 0
      },
      "text/plain": [
       "Making predictions for test set...:   0%|          | 0/250 [00:00<?, ?it/s]"
      ]
     },
     "metadata": {},
     "output_type": "display_data"
    },
    {
     "name": "stdout",
     "output_type": "stream",
     "text": [
      "RMSE : 0.01420863646538443\n",
      "Time taken: 220.683662 s\n",
      "\n",
      "Training GAP model using N_sparse=2000 and N_train=20000...\n"
     ]
    },
    {
     "data": {
      "application/vnd.jupyter.widget-view+json": {
       "model_id": "",
       "version_major": 2,
       "version_minor": 0
      },
      "text/plain": [
       "Making predictions for test set...:   0%|          | 0/250 [00:00<?, ?it/s]"
      ]
     },
     "metadata": {},
     "output_type": "display_data"
    },
    {
     "name": "stdout",
     "output_type": "stream",
     "text": [
      "RMSE : 0.013647453387337943\n",
      "Time taken: 219.919346 s\n",
      "\n",
      "Saved RMSEs for 2000 sparse points\n",
      "\n",
      "\n",
      "Training GAP model using N_sparse=2500 and N_train=2000...\n"
     ]
    },
    {
     "data": {
      "application/vnd.jupyter.widget-view+json": {
       "model_id": "",
       "version_major": 2,
       "version_minor": 0
      },
      "text/plain": [
       "Making predictions for test set...:   0%|          | 0/250 [00:00<?, ?it/s]"
      ]
     },
     "metadata": {},
     "output_type": "display_data"
    },
    {
     "name": "stdout",
     "output_type": "stream",
     "text": [
      "RMSE : 0.015589863371859138\n",
      "Time taken: 264.851358 s\n",
      "\n",
      "Training GAP model using N_sparse=2500 and N_train=4000...\n"
     ]
    },
    {
     "data": {
      "application/vnd.jupyter.widget-view+json": {
       "model_id": "",
       "version_major": 2,
       "version_minor": 0
      },
      "text/plain": [
       "Making predictions for test set...:   0%|          | 0/250 [00:00<?, ?it/s]"
      ]
     },
     "metadata": {},
     "output_type": "display_data"
    },
    {
     "name": "stdout",
     "output_type": "stream",
     "text": [
      "RMSE : 0.016931977196415628\n",
      "Time taken: 278.845109 s\n",
      "\n",
      "Training GAP model using N_sparse=2500 and N_train=6000...\n"
     ]
    },
    {
     "data": {
      "application/vnd.jupyter.widget-view+json": {
       "model_id": "",
       "version_major": 2,
       "version_minor": 0
      },
      "text/plain": [
       "Making predictions for test set...:   0%|          | 0/250 [00:00<?, ?it/s]"
      ]
     },
     "metadata": {},
     "output_type": "display_data"
    },
    {
     "name": "stdout",
     "output_type": "stream",
     "text": [
      "RMSE : 0.017008548304341644\n",
      "Time taken: 266.331139 s\n",
      "\n",
      "Training GAP model using N_sparse=2500 and N_train=8000...\n"
     ]
    },
    {
     "data": {
      "application/vnd.jupyter.widget-view+json": {
       "model_id": "",
       "version_major": 2,
       "version_minor": 0
      },
      "text/plain": [
       "Making predictions for test set...:   0%|          | 0/250 [00:00<?, ?it/s]"
      ]
     },
     "metadata": {},
     "output_type": "display_data"
    },
    {
     "name": "stdout",
     "output_type": "stream",
     "text": [
      "RMSE : 0.01620968683319858\n",
      "Time taken: 276.211514 s\n",
      "\n",
      "Training GAP model using N_sparse=2500 and N_train=10000...\n"
     ]
    },
    {
     "data": {
      "application/vnd.jupyter.widget-view+json": {
       "model_id": "",
       "version_major": 2,
       "version_minor": 0
      },
      "text/plain": [
       "Making predictions for test set...:   0%|          | 0/250 [00:00<?, ?it/s]"
      ]
     },
     "metadata": {},
     "output_type": "display_data"
    },
    {
     "name": "stdout",
     "output_type": "stream",
     "text": [
      "RMSE : 0.015291049604342289\n",
      "Time taken: 283.459474 s\n",
      "\n",
      "Training GAP model using N_sparse=2500 and N_train=12000...\n"
     ]
    },
    {
     "data": {
      "application/vnd.jupyter.widget-view+json": {
       "model_id": "",
       "version_major": 2,
       "version_minor": 0
      },
      "text/plain": [
       "Making predictions for test set...:   0%|          | 0/250 [00:00<?, ?it/s]"
      ]
     },
     "metadata": {},
     "output_type": "display_data"
    },
    {
     "name": "stdout",
     "output_type": "stream",
     "text": [
      "RMSE : 0.014798202814334142\n",
      "Time taken: 268.229414 s\n",
      "\n",
      "Training GAP model using N_sparse=2500 and N_train=14000...\n"
     ]
    },
    {
     "data": {
      "application/vnd.jupyter.widget-view+json": {
       "model_id": "",
       "version_major": 2,
       "version_minor": 0
      },
      "text/plain": [
       "Making predictions for test set...:   0%|          | 0/250 [00:00<?, ?it/s]"
      ]
     },
     "metadata": {},
     "output_type": "display_data"
    },
    {
     "name": "stdout",
     "output_type": "stream",
     "text": [
      "RMSE : 0.014983693283003125\n",
      "Time taken: 280.305321 s\n",
      "\n",
      "Training GAP model using N_sparse=2500 and N_train=16000...\n"
     ]
    },
    {
     "data": {
      "application/vnd.jupyter.widget-view+json": {
       "model_id": "",
       "version_major": 2,
       "version_minor": 0
      },
      "text/plain": [
       "Making predictions for test set...:   0%|          | 0/250 [00:00<?, ?it/s]"
      ]
     },
     "metadata": {},
     "output_type": "display_data"
    },
    {
     "name": "stdout",
     "output_type": "stream",
     "text": [
      "RMSE : 0.014808913742414487\n",
      "Time taken: 266.06336 s\n",
      "\n",
      "Training GAP model using N_sparse=2500 and N_train=18000...\n"
     ]
    },
    {
     "data": {
      "application/vnd.jupyter.widget-view+json": {
       "model_id": "",
       "version_major": 2,
       "version_minor": 0
      },
      "text/plain": [
       "Making predictions for test set...:   0%|          | 0/250 [00:00<?, ?it/s]"
      ]
     },
     "metadata": {},
     "output_type": "display_data"
    },
    {
     "name": "stdout",
     "output_type": "stream",
     "text": [
      "RMSE : 0.014591566099594848\n",
      "Time taken: 274.373828 s\n",
      "\n",
      "Training GAP model using N_sparse=2500 and N_train=20000...\n"
     ]
    },
    {
     "data": {
      "application/vnd.jupyter.widget-view+json": {
       "model_id": "",
       "version_major": 2,
       "version_minor": 0
      },
      "text/plain": [
       "Making predictions for test set...:   0%|          | 0/250 [00:00<?, ?it/s]"
      ]
     },
     "metadata": {},
     "output_type": "display_data"
    },
    {
     "name": "stdout",
     "output_type": "stream",
     "text": [
      "RMSE : 0.014194525165510364\n",
      "Time taken: 272.803511 s\n",
      "\n",
      "Saved RMSEs for 2500 sparse points\n",
      "\n",
      "\n",
      "Training GAP model using N_sparse=3000 and N_train=2000...\n"
     ]
    },
    {
     "data": {
      "application/vnd.jupyter.widget-view+json": {
       "model_id": "",
       "version_major": 2,
       "version_minor": 0
      },
      "text/plain": [
       "Making predictions for test set...:   0%|          | 0/250 [00:00<?, ?it/s]"
      ]
     },
     "metadata": {},
     "output_type": "display_data"
    },
    {
     "name": "stdout",
     "output_type": "stream",
     "text": [
      "RMSE : 0.01559010091740165\n",
      "Time taken: 334.519853 s\n",
      "\n",
      "Training GAP model using N_sparse=3000 and N_train=4000...\n"
     ]
    },
    {
     "data": {
      "application/vnd.jupyter.widget-view+json": {
       "model_id": "",
       "version_major": 2,
       "version_minor": 0
      },
      "text/plain": [
       "Making predictions for test set...:   0%|          | 0/250 [00:00<?, ?it/s]"
      ]
     },
     "metadata": {},
     "output_type": "display_data"
    },
    {
     "name": "stdout",
     "output_type": "stream",
     "text": [
      "RMSE : 0.016634402584972948\n",
      "Time taken: 335.498544 s\n",
      "\n",
      "Training GAP model using N_sparse=3000 and N_train=6000...\n"
     ]
    },
    {
     "data": {
      "application/vnd.jupyter.widget-view+json": {
       "model_id": "",
       "version_major": 2,
       "version_minor": 0
      },
      "text/plain": [
       "Making predictions for test set...:   0%|          | 0/250 [00:00<?, ?it/s]"
      ]
     },
     "metadata": {},
     "output_type": "display_data"
    },
    {
     "name": "stdout",
     "output_type": "stream",
     "text": [
      "RMSE : 0.0168708838727514\n",
      "Time taken: 331.818626 s\n",
      "\n",
      "Training GAP model using N_sparse=3000 and N_train=8000...\n"
     ]
    },
    {
     "data": {
      "application/vnd.jupyter.widget-view+json": {
       "model_id": "",
       "version_major": 2,
       "version_minor": 0
      },
      "text/plain": [
       "Making predictions for test set...:   0%|          | 0/250 [00:00<?, ?it/s]"
      ]
     },
     "metadata": {},
     "output_type": "display_data"
    },
    {
     "name": "stdout",
     "output_type": "stream",
     "text": [
      "RMSE : 0.01585722829436709\n",
      "Time taken: 334.684443 s\n",
      "\n",
      "Training GAP model using N_sparse=3000 and N_train=10000...\n"
     ]
    },
    {
     "data": {
      "application/vnd.jupyter.widget-view+json": {
       "model_id": "",
       "version_major": 2,
       "version_minor": 0
      },
      "text/plain": [
       "Making predictions for test set...:   0%|          | 0/250 [00:00<?, ?it/s]"
      ]
     },
     "metadata": {},
     "output_type": "display_data"
    },
    {
     "name": "stdout",
     "output_type": "stream",
     "text": [
      "RMSE : 0.014750276546187055\n",
      "Time taken: 351.479439 s\n",
      "\n",
      "Training GAP model using N_sparse=3000 and N_train=12000...\n"
     ]
    },
    {
     "data": {
      "application/vnd.jupyter.widget-view+json": {
       "model_id": "",
       "version_major": 2,
       "version_minor": 0
      },
      "text/plain": [
       "Making predictions for test set...:   0%|          | 0/250 [00:00<?, ?it/s]"
      ]
     },
     "metadata": {},
     "output_type": "display_data"
    },
    {
     "name": "stdout",
     "output_type": "stream",
     "text": [
      "RMSE : 0.01450255415573452\n",
      "Time taken: 339.838127 s\n",
      "\n",
      "Training GAP model using N_sparse=3000 and N_train=14000...\n"
     ]
    },
    {
     "data": {
      "application/vnd.jupyter.widget-view+json": {
       "model_id": "",
       "version_major": 2,
       "version_minor": 0
      },
      "text/plain": [
       "Making predictions for test set...:   0%|          | 0/250 [00:00<?, ?it/s]"
      ]
     },
     "metadata": {},
     "output_type": "display_data"
    },
    {
     "name": "stdout",
     "output_type": "stream",
     "text": [
      "RMSE : 0.014925280441433611\n",
      "Time taken: 341.199785 s\n",
      "\n",
      "Training GAP model using N_sparse=3000 and N_train=16000...\n"
     ]
    },
    {
     "data": {
      "application/vnd.jupyter.widget-view+json": {
       "model_id": "",
       "version_major": 2,
       "version_minor": 0
      },
      "text/plain": [
       "Making predictions for test set...:   0%|          | 0/250 [00:00<?, ?it/s]"
      ]
     },
     "metadata": {},
     "output_type": "display_data"
    },
    {
     "name": "stdout",
     "output_type": "stream",
     "text": [
      "RMSE : 0.014538904291051194\n",
      "Time taken: 337.248355 s\n",
      "\n",
      "Training GAP model using N_sparse=3000 and N_train=18000...\n"
     ]
    },
    {
     "data": {
      "application/vnd.jupyter.widget-view+json": {
       "model_id": "",
       "version_major": 2,
       "version_minor": 0
      },
      "text/plain": [
       "Making predictions for test set...:   0%|          | 0/250 [00:00<?, ?it/s]"
      ]
     },
     "metadata": {},
     "output_type": "display_data"
    },
    {
     "name": "stdout",
     "output_type": "stream",
     "text": [
      "RMSE : 0.014427865391382234\n",
      "Time taken: 351.349971 s\n",
      "\n",
      "Training GAP model using N_sparse=3000 and N_train=20000...\n"
     ]
    },
    {
     "data": {
      "application/vnd.jupyter.widget-view+json": {
       "model_id": "",
       "version_major": 2,
       "version_minor": 0
      },
      "text/plain": [
       "Making predictions for test set...:   0%|          | 0/250 [00:00<?, ?it/s]"
      ]
     },
     "metadata": {},
     "output_type": "display_data"
    },
    {
     "name": "stdout",
     "output_type": "stream",
     "text": [
      "RMSE : 0.013951304236404404\n",
      "Time taken: 351.442954 s\n",
      "\n",
      "Saved RMSEs for 3000 sparse points\n",
      "\n",
      "\n",
      "Training GAP model using N_sparse=3500 and N_train=2000...\n"
     ]
    },
    {
     "data": {
      "application/vnd.jupyter.widget-view+json": {
       "model_id": "",
       "version_major": 2,
       "version_minor": 0
      },
      "text/plain": [
       "Making predictions for test set...:   0%|          | 0/250 [00:00<?, ?it/s]"
      ]
     },
     "metadata": {},
     "output_type": "display_data"
    },
    {
     "name": "stdout",
     "output_type": "stream",
     "text": [
      "RMSE : 0.015428734806620367\n",
      "Time taken: 416.673888 s\n",
      "\n",
      "Training GAP model using N_sparse=3500 and N_train=4000...\n"
     ]
    },
    {
     "data": {
      "application/vnd.jupyter.widget-view+json": {
       "model_id": "",
       "version_major": 2,
       "version_minor": 0
      },
      "text/plain": [
       "Making predictions for test set...:   0%|          | 0/250 [00:00<?, ?it/s]"
      ]
     },
     "metadata": {},
     "output_type": "display_data"
    },
    {
     "name": "stdout",
     "output_type": "stream",
     "text": [
      "RMSE : 0.016290834556936147\n",
      "Time taken: 404.838768 s\n",
      "\n",
      "Training GAP model using N_sparse=3500 and N_train=6000...\n"
     ]
    },
    {
     "data": {
      "application/vnd.jupyter.widget-view+json": {
       "model_id": "",
       "version_major": 2,
       "version_minor": 0
      },
      "text/plain": [
       "Making predictions for test set...:   0%|          | 0/250 [00:00<?, ?it/s]"
      ]
     },
     "metadata": {},
     "output_type": "display_data"
    },
    {
     "name": "stdout",
     "output_type": "stream",
     "text": [
      "RMSE : 0.016533178410558978\n",
      "Time taken: 433.142729 s\n",
      "\n",
      "Training GAP model using N_sparse=3500 and N_train=8000...\n"
     ]
    },
    {
     "data": {
      "application/vnd.jupyter.widget-view+json": {
       "model_id": "",
       "version_major": 2,
       "version_minor": 0
      },
      "text/plain": [
       "Making predictions for test set...:   0%|          | 0/250 [00:00<?, ?it/s]"
      ]
     },
     "metadata": {},
     "output_type": "display_data"
    },
    {
     "name": "stdout",
     "output_type": "stream",
     "text": [
      "RMSE : 0.01511590464104271\n",
      "Time taken: 434.934945 s\n",
      "\n",
      "Training GAP model using N_sparse=3500 and N_train=10000...\n"
     ]
    },
    {
     "data": {
      "application/vnd.jupyter.widget-view+json": {
       "model_id": "",
       "version_major": 2,
       "version_minor": 0
      },
      "text/plain": [
       "Making predictions for test set...:   0%|          | 0/250 [00:00<?, ?it/s]"
      ]
     },
     "metadata": {},
     "output_type": "display_data"
    },
    {
     "name": "stdout",
     "output_type": "stream",
     "text": [
      "RMSE : 0.014537417536224891\n",
      "Time taken: 483.489578 s\n",
      "\n",
      "Training GAP model using N_sparse=3500 and N_train=12000...\n"
     ]
    },
    {
     "data": {
      "application/vnd.jupyter.widget-view+json": {
       "model_id": "",
       "version_major": 2,
       "version_minor": 0
      },
      "text/plain": [
       "Making predictions for test set...:   0%|          | 0/250 [00:00<?, ?it/s]"
      ]
     },
     "metadata": {},
     "output_type": "display_data"
    },
    {
     "name": "stdout",
     "output_type": "stream",
     "text": [
      "RMSE : 0.014269885746930805\n",
      "Time taken: 419.559547 s\n",
      "\n",
      "Training GAP model using N_sparse=3500 and N_train=14000...\n"
     ]
    },
    {
     "data": {
      "application/vnd.jupyter.widget-view+json": {
       "model_id": "",
       "version_major": 2,
       "version_minor": 0
      },
      "text/plain": [
       "Making predictions for test set...:   0%|          | 0/250 [00:00<?, ?it/s]"
      ]
     },
     "metadata": {},
     "output_type": "display_data"
    },
    {
     "name": "stdout",
     "output_type": "stream",
     "text": [
      "RMSE : 0.014885465496334316\n",
      "Time taken: 417.699314 s\n",
      "\n",
      "Training GAP model using N_sparse=3500 and N_train=16000...\n"
     ]
    },
    {
     "data": {
      "application/vnd.jupyter.widget-view+json": {
       "model_id": "",
       "version_major": 2,
       "version_minor": 0
      },
      "text/plain": [
       "Making predictions for test set...:   0%|          | 0/250 [00:00<?, ?it/s]"
      ]
     },
     "metadata": {},
     "output_type": "display_data"
    },
    {
     "name": "stdout",
     "output_type": "stream",
     "text": [
      "RMSE : 0.01409804006535623\n",
      "Time taken: 419.918037 s\n",
      "\n",
      "Training GAP model using N_sparse=3500 and N_train=18000...\n"
     ]
    },
    {
     "data": {
      "application/vnd.jupyter.widget-view+json": {
       "model_id": "",
       "version_major": 2,
       "version_minor": 0
      },
      "text/plain": [
       "Making predictions for test set...:   0%|          | 0/250 [00:00<?, ?it/s]"
      ]
     },
     "metadata": {},
     "output_type": "display_data"
    },
    {
     "name": "stdout",
     "output_type": "stream",
     "text": [
      "RMSE : 0.014214155002420382\n",
      "Time taken: 422.034024 s\n",
      "\n",
      "Training GAP model using N_sparse=3500 and N_train=20000...\n"
     ]
    },
    {
     "data": {
      "application/vnd.jupyter.widget-view+json": {
       "model_id": "",
       "version_major": 2,
       "version_minor": 0
      },
      "text/plain": [
       "Making predictions for test set...:   0%|          | 0/250 [00:00<?, ?it/s]"
      ]
     },
     "metadata": {},
     "output_type": "display_data"
    },
    {
     "name": "stdout",
     "output_type": "stream",
     "text": [
      "RMSE : 0.013715389136209703\n",
      "Time taken: 428.785269 s\n",
      "\n",
      "Saved RMSEs for 3500 sparse points\n",
      "\n",
      "\n",
      "Training GAP model using N_sparse=4000 and N_train=2000...\n"
     ]
    },
    {
     "data": {
      "application/vnd.jupyter.widget-view+json": {
       "model_id": "",
       "version_major": 2,
       "version_minor": 0
      },
      "text/plain": [
       "Making predictions for test set...:   0%|          | 0/250 [00:00<?, ?it/s]"
      ]
     },
     "metadata": {},
     "output_type": "display_data"
    },
    {
     "name": "stdout",
     "output_type": "stream",
     "text": [
      "RMSE : 0.015308738733107835\n",
      "Time taken: 488.560271 s\n",
      "\n",
      "Training GAP model using N_sparse=4000 and N_train=4000...\n"
     ]
    },
    {
     "data": {
      "application/vnd.jupyter.widget-view+json": {
       "model_id": "",
       "version_major": 2,
       "version_minor": 0
      },
      "text/plain": [
       "Making predictions for test set...:   0%|          | 0/250 [00:00<?, ?it/s]"
      ]
     },
     "metadata": {},
     "output_type": "display_data"
    },
    {
     "name": "stdout",
     "output_type": "stream",
     "text": [
      "RMSE : 0.016056430511438662\n",
      "Time taken: 483.396353 s\n",
      "\n",
      "Training GAP model using N_sparse=4000 and N_train=6000...\n"
     ]
    },
    {
     "data": {
      "application/vnd.jupyter.widget-view+json": {
       "model_id": "",
       "version_major": 2,
       "version_minor": 0
      },
      "text/plain": [
       "Making predictions for test set...:   0%|          | 0/250 [00:00<?, ?it/s]"
      ]
     },
     "metadata": {},
     "output_type": "display_data"
    },
    {
     "name": "stdout",
     "output_type": "stream",
     "text": [
      "RMSE : 0.016037661561061487\n",
      "Time taken: 493.062907 s\n",
      "\n",
      "Training GAP model using N_sparse=4000 and N_train=8000...\n"
     ]
    },
    {
     "data": {
      "application/vnd.jupyter.widget-view+json": {
       "model_id": "",
       "version_major": 2,
       "version_minor": 0
      },
      "text/plain": [
       "Making predictions for test set...:   0%|          | 0/250 [00:00<?, ?it/s]"
      ]
     },
     "metadata": {},
     "output_type": "display_data"
    },
    {
     "name": "stdout",
     "output_type": "stream",
     "text": [
      "RMSE : 0.01478121805147613\n",
      "Time taken: 513.403887 s\n",
      "\n",
      "Training GAP model using N_sparse=4000 and N_train=10000...\n"
     ]
    },
    {
     "data": {
      "application/vnd.jupyter.widget-view+json": {
       "model_id": "",
       "version_major": 2,
       "version_minor": 0
      },
      "text/plain": [
       "Making predictions for test set...:   0%|          | 0/250 [00:00<?, ?it/s]"
      ]
     },
     "metadata": {},
     "output_type": "display_data"
    },
    {
     "name": "stdout",
     "output_type": "stream",
     "text": [
      "RMSE : 0.01404491066087965\n",
      "Time taken: 492.009734 s\n",
      "\n",
      "Training GAP model using N_sparse=4000 and N_train=12000...\n"
     ]
    },
    {
     "data": {
      "application/vnd.jupyter.widget-view+json": {
       "model_id": "",
       "version_major": 2,
       "version_minor": 0
      },
      "text/plain": [
       "Making predictions for test set...:   0%|          | 0/250 [00:00<?, ?it/s]"
      ]
     },
     "metadata": {},
     "output_type": "display_data"
    },
    {
     "name": "stdout",
     "output_type": "stream",
     "text": [
      "RMSE : 0.013366080550634218\n",
      "Time taken: 513.922554 s\n",
      "\n",
      "Training GAP model using N_sparse=4000 and N_train=14000...\n"
     ]
    },
    {
     "data": {
      "application/vnd.jupyter.widget-view+json": {
       "model_id": "",
       "version_major": 2,
       "version_minor": 0
      },
      "text/plain": [
       "Making predictions for test set...:   0%|          | 0/250 [00:00<?, ?it/s]"
      ]
     },
     "metadata": {},
     "output_type": "display_data"
    },
    {
     "name": "stdout",
     "output_type": "stream",
     "text": [
      "RMSE : 0.013810577440636924\n",
      "Time taken: 531.983113 s\n",
      "\n",
      "Training GAP model using N_sparse=4000 and N_train=16000...\n"
     ]
    },
    {
     "data": {
      "application/vnd.jupyter.widget-view+json": {
       "model_id": "",
       "version_major": 2,
       "version_minor": 0
      },
      "text/plain": [
       "Making predictions for test set...:   0%|          | 0/250 [00:00<?, ?it/s]"
      ]
     },
     "metadata": {},
     "output_type": "display_data"
    },
    {
     "name": "stdout",
     "output_type": "stream",
     "text": [
      "RMSE : 0.013165897614464116\n",
      "Time taken: 502.789961 s\n",
      "\n",
      "Training GAP model using N_sparse=4000 and N_train=18000...\n"
     ]
    },
    {
     "data": {
      "application/vnd.jupyter.widget-view+json": {
       "model_id": "",
       "version_major": 2,
       "version_minor": 0
      },
      "text/plain": [
       "Making predictions for test set...:   0%|          | 0/250 [00:00<?, ?it/s]"
      ]
     },
     "metadata": {},
     "output_type": "display_data"
    },
    {
     "name": "stdout",
     "output_type": "stream",
     "text": [
      "RMSE : 0.013442707111295875\n",
      "Time taken: 507.728656 s\n",
      "\n",
      "Training GAP model using N_sparse=4000 and N_train=20000...\n"
     ]
    },
    {
     "data": {
      "application/vnd.jupyter.widget-view+json": {
       "model_id": "",
       "version_major": 2,
       "version_minor": 0
      },
      "text/plain": [
       "Making predictions for test set...:   0%|          | 0/250 [00:00<?, ?it/s]"
      ]
     },
     "metadata": {},
     "output_type": "display_data"
    },
    {
     "name": "stdout",
     "output_type": "stream",
     "text": [
      "RMSE : 0.013219707090291506\n",
      "Time taken: 499.639566 s\n",
      "\n",
      "Saved RMSEs for 4000 sparse points\n",
      "\n",
      "\n"
     ]
    }
   ],
   "source": [
    "#Train and test GAP model using various slices of training frames and testing on the first 100 CSD-1k structures\n",
    "spar_low=500; spar_high=4001; spar_gap=500\n",
    "ntrain_low=2000; ntrain_high=20001; ntrain_gap=2000\n",
    "\n",
    "for ni, i in enumerate(range(spar_low, spar_high, spar_gap)):\n",
    "    K_NM_total = np.load(f'learning_curve_data/Knm_learning_curve_{i}.npy') #import full KNM for this number of sparse points\n",
    "    X_sparse = load_obj(f'learning_curve_data/X_sparse_PCovFPS_{i}_696.json') #Import X_sparse for this number of sparse points\n",
    "    results=np.zeros((len(range(ntrain_low, ntrain_high, ntrain_gap)), 2), dtype=float)\n",
    "    \n",
    "    for nj, j in enumerate(range(ntrain_low, ntrain_high, ntrain_gap)):\n",
    "        start = time()\n",
    "        K_NM = K_NM_total[:j] #get correct slice of KNM\n",
    "        print(f\"Training GAP model using N_sparse={i} and N_train={j}...\")\n",
    "        start = time()\n",
    "    \n",
    "        model = train_gap_model(kernel, train_frames[:j], K_NM, X_sparse, y_train[:j], y_dressed, \n",
    "                                grad_train=None, lambdas=[0.02], jitter=1e-9, solver = 'RKHS') #train model\n",
    "        \n",
    "        #test model on full CSD-1k set (only on first 250 structures)\n",
    "        npred=250\n",
    "        ytp = []\n",
    "        for frm in tqdm(csd_1k[:npred], desc = \"Making predictions for test set...\", leave=False):\n",
    "            manager_test = soap.transform(frm)\n",
    "            ytp.append(model.predict(manager_test))\n",
    "\n",
    "        y_test_pred = np.array(ytp).flatten()\n",
    "        rmse = np.sqrt(np.mean(((y_test[:npred] - mlr.predict(X_test[:npred]))/np.sum(X_test[:npred],axis=1) \n",
    "                               - (y_test_pred[:npred] - mlr.predict(X_test[:npred]))/np.sum(X_test[:npred],axis=1))**2))\n",
    "        \n",
    "        print(f\"RMSE : {rmse}\")\n",
    "        \n",
    "        results[nj] = [float(j), rmse]\n",
    "        np.save(f'learning_curve_data/predictions/0.02_reg/y_test_pred_S{i}_N{j}', y_test_pred)\n",
    "        \n",
    "        print(\"Time taken:\", np.round(time()-start, 6), \"s\")\n",
    "        print(\"\")\n",
    "    \n",
    "    np.save(f'learning_curve_data/rmses/0.02_reg/RMSEs_{i}_sparse_points', results)\n",
    "    print(f\"Saved RMSEs for {i} sparse points\")\n",
    "    print(\"\")\n",
    "    print(\"\")"
   ]
  },
  {
   "cell_type": "markdown",
   "id": "68dda017",
   "metadata": {},
   "source": [
    "## Plot Results"
   ]
  },
  {
   "cell_type": "code",
   "execution_count": 17,
   "id": "a9274736",
   "metadata": {},
   "outputs": [
    {
     "data": {
      "image/png": "[encoded data removed]",
      "text/plain": [
       "<Figure size 1800x1500 with 1 Axes>"
      ]
     },
     "metadata": {
      "needs_background": "light"
     },
     "output_type": "display_data"
    }
   ],
   "source": [
    "reg=0.02\n",
    "plt.figure(figsize=(6,5), dpi=300)\n",
    "for i in range(500, 4001, 500):\n",
    "    to_plot = np.load(f'learning_curve_data/rmses/{str(reg)}_reg/RMSEs_{str(i)}_sparse_points.npy')\n",
    "    plt.plot(to_plot[1:, 0], to_plot[1:,1], label=f'{i}')\n",
    "plt.xscale('log')\n",
    "plt.xlabel('Training Structures')\n",
    "plt.yscale('log')\n",
    "plt.ylabel('Energy RMSE (ev/atom)')\n",
    "plt.title('Learning Curves Using Various $N_{sparse}$ per species')\n",
    "plt.legend()\n",
    "plt.tight_layout()\n",
    "plt.savefig('figures/learning_curve_n_sparse.png')\n",
    "plt.savefig('figures/learning_curve_n_sparse.pdf')"
   ]
  },
  {
   "cell_type": "markdown",
   "id": "485fff98",
   "metadata": {},
   "source": [
    "Seems like s=500, s=1000 and s=1500 (later on) saturate at before 20000 training points, but the others don't. This likely means that the model is hitting a wall due to the lack of (good) training data, not due to the sparse points. It does, however, suggest that having used 2000 sparse points for your model was a good shout, at least for the training data you have.\n",
    "\n",
    "**REMEMBER AND MENTION THE FOLLOWING:**\n",
    "- This was only done using energies, and so model complexity will probably saturate with a greater number of structures when forces are included\n",
    "- As the structures used are likely to be correlted for the same crystal, the saturation accuracy for all models may be reduced further when using structures from extended simulations"
   ]
  },
  {
   "cell_type": "markdown",
   "id": "3417b58d",
   "metadata": {},
   "source": [
    "### Get step timings for different N sparse"
   ]
  },
  {
   "cell_type": "code",
   "execution_count": 149,
   "id": "c5aa0cfd",
   "metadata": {},
   "outputs": [
    {
     "name": "stdout",
     "output_type": "stream",
     "text": [
      "Training GAP model using N_sparse=500 and N_train=2000...\n"
     ]
    },
    {
     "data": {
      "application/vnd.jupyter.widget-view+json": {
       "model_id": "",
       "version_major": 2,
       "version_minor": 0
      },
      "text/plain": [
       "Making predictions for test set...:   0%|          | 0/250 [00:00<?, ?it/s]"
      ]
     },
     "metadata": {},
     "output_type": "display_data"
    },
    {
     "name": "stdout",
     "output_type": "stream",
     "text": [
      "Time taken: 42.379735 s\n",
      "\n",
      "Training GAP model using N_sparse=1000 and N_train=2000...\n"
     ]
    },
    {
     "data": {
      "application/vnd.jupyter.widget-view+json": {
       "model_id": "",
       "version_major": 2,
       "version_minor": 0
      },
      "text/plain": [
       "Making predictions for test set...:   0%|          | 0/250 [00:00<?, ?it/s]"
      ]
     },
     "metadata": {},
     "output_type": "display_data"
    },
    {
     "name": "stdout",
     "output_type": "stream",
     "text": [
      "Time taken: 91.114511 s\n",
      "\n",
      "Training GAP model using N_sparse=1500 and N_train=2000...\n"
     ]
    },
    {
     "data": {
      "application/vnd.jupyter.widget-view+json": {
       "model_id": "",
       "version_major": 2,
       "version_minor": 0
      },
      "text/plain": [
       "Making predictions for test set...:   0%|          | 0/250 [00:00<?, ?it/s]"
      ]
     },
     "metadata": {},
     "output_type": "display_data"
    },
    {
     "name": "stdout",
     "output_type": "stream",
     "text": [
      "Time taken: 155.36021 s\n",
      "\n",
      "Training GAP model using N_sparse=2000 and N_train=2000...\n"
     ]
    },
    {
     "data": {
      "application/vnd.jupyter.widget-view+json": {
       "model_id": "",
       "version_major": 2,
       "version_minor": 0
      },
      "text/plain": [
       "Making predictions for test set...:   0%|          | 0/250 [00:00<?, ?it/s]"
      ]
     },
     "metadata": {},
     "output_type": "display_data"
    },
    {
     "name": "stdout",
     "output_type": "stream",
     "text": [
      "Time taken: 202.664025 s\n",
      "\n",
      "Training GAP model using N_sparse=2500 and N_train=2000...\n"
     ]
    },
    {
     "data": {
      "application/vnd.jupyter.widget-view+json": {
       "model_id": "",
       "version_major": 2,
       "version_minor": 0
      },
      "text/plain": [
       "Making predictions for test set...:   0%|          | 0/250 [00:00<?, ?it/s]"
      ]
     },
     "metadata": {},
     "output_type": "display_data"
    },
    {
     "name": "stdout",
     "output_type": "stream",
     "text": [
      "Time taken: 234.288461 s\n",
      "\n",
      "Training GAP model using N_sparse=3000 and N_train=2000...\n"
     ]
    },
    {
     "data": {
      "application/vnd.jupyter.widget-view+json": {
       "model_id": "",
       "version_major": 2,
       "version_minor": 0
      },
      "text/plain": [
       "Making predictions for test set...:   0%|          | 0/250 [00:00<?, ?it/s]"
      ]
     },
     "metadata": {},
     "output_type": "display_data"
    },
    {
     "name": "stdout",
     "output_type": "stream",
     "text": [
      "Time taken: 288.775132 s\n",
      "\n",
      "Training GAP model using N_sparse=3500 and N_train=2000...\n"
     ]
    },
    {
     "data": {
      "application/vnd.jupyter.widget-view+json": {
       "model_id": "",
       "version_major": 2,
       "version_minor": 0
      },
      "text/plain": [
       "Making predictions for test set...:   0%|          | 0/250 [00:00<?, ?it/s]"
      ]
     },
     "metadata": {},
     "output_type": "display_data"
    },
    {
     "name": "stdout",
     "output_type": "stream",
     "text": [
      "Time taken: 336.621913 s\n",
      "\n",
      "Training GAP model using N_sparse=4000 and N_train=2000...\n"
     ]
    },
    {
     "data": {
      "application/vnd.jupyter.widget-view+json": {
       "model_id": "",
       "version_major": 2,
       "version_minor": 0
      },
      "text/plain": [
       "Making predictions for test set...:   0%|          | 0/250 [00:00<?, ?it/s]"
      ]
     },
     "metadata": {},
     "output_type": "display_data"
    },
    {
     "name": "stdout",
     "output_type": "stream",
     "text": [
      "Time taken: 375.142888 s\n",
      "\n"
     ]
    }
   ],
   "source": [
    "#Train and test GAP model using various slices of training frames and testing on the first 100 CSD-1k structures\n",
    "spar_low=500; spar_high=4001; spar_gap=500\n",
    "ntrain_low=2000; ntrain_high=20001; ntrain_gap=2000\n",
    "results=np.zeros((len(range(spar_low, spar_high, spar_gap)), 2), dtype=float)\n",
    "\n",
    "for ni, i in enumerate(range(spar_low, spar_high, spar_gap)):\n",
    "    K_NM_total = np.load(f'learning_curve_data/Knm_learning_curve_{i}.npy') #import full KNM for this number of sparse points\n",
    "    X_sparse = load_obj(f'learning_curve_data/X_sparse_PCovFPS_{i}_696.json') #Import X_sparse for this number of sparse points\n",
    "    \n",
    "    \n",
    "    j=2000\n",
    "    \n",
    "    K_NM = K_NM_total[:j] #get correct slice of KNM\n",
    "    print(f\"Training GAP model using N_sparse={i} and N_train={j}...\")\n",
    "\n",
    "    model = train_gap_model(kernel, train_frames[:j], K_NM, X_sparse, y_train[:j], y_dressed, \n",
    "                            grad_train=None, lambdas=[0.02], jitter=1e-9, solver = 'RKHS') #train model\n",
    "\n",
    "    #test model on full CSD-1k set (only on first 250 structures)\n",
    "    npred=250\n",
    "    start = time()\n",
    "    ytp = []\n",
    "    for frm in tqdm(csd_1k[:npred], desc = \"Making predictions for test set...\", leave=False):\n",
    "        manager_test = soap.transform(frm)\n",
    "        ytp.append(model.predict(manager_test))\n",
    "    \n",
    "    time_taken = time()-start\n",
    "    \n",
    "    print(\"Time taken:\", np.round(time_taken, 6), \"s\")\n",
    "    print(\"\")\n",
    "    results[ni] = [float(i), time_taken]\n",
    "\n",
    "np.save(f'learning_curve_data/prediction_time_test_n_sparse', results)\n"
   ]
  },
  {
   "cell_type": "code",
   "execution_count": 205,
   "id": "7668e55c",
   "metadata": {},
   "outputs": [
    {
     "data": {
      "text/plain": [
       "Text(0.5, 1.0, 'Prediction times')"
      ]
     },
     "execution_count": 205,
     "metadata": {},
     "output_type": "execute_result"
    },
    {
     "data": {
      "image/png": "[encoded data removed]",
      "text/plain": [
       "<Figure size 1200x600 with 1 Axes>"
      ]
     },
     "metadata": {
      "needs_background": "light"
     },
     "output_type": "display_data"
    }
   ],
   "source": [
    "#plot results\n",
    "plt.figure(figsize=(6,3), dpi=200)\n",
    "plt.plot(results[:,0], results[:,1]/250)\n",
    "plt.xlabel('$N_{sparse}$ per species')\n",
    "plt.ylabel('Prediction time (s/struct)')\n",
    "plt.title('Prediction times')"
   ]
  },
  {
   "cell_type": "code",
   "execution_count": 150,
   "id": "cb522c7e",
   "metadata": {},
   "outputs": [
    {
     "data": {
      "application/vnd.jupyter.widget-view+json": {
       "model_id": "",
       "version_major": 2,
       "version_minor": 0
      },
      "text/plain": [
       "Computing representations...:   0%|          | 0/250 [00:00<?, ?it/s]"
      ]
     },
     "metadata": {},
     "output_type": "display_data"
    },
    {
     "name": "stdout",
     "output_type": "stream",
     "text": [
      "Time taken to compute the first 250 representations of the test set: \n",
      "  7.017690658569336 s\n"
     ]
    }
   ],
   "source": [
    "#determine time taken to compute the representations\n",
    "start = time()\n",
    "for frm in tqdm(csd_1k[:npred], desc = \"Computing representations...\", leave=False):\n",
    "    manager_test = soap.transform(frm)\n",
    "print(f\"Time taken to compute the first 250 representations of the test set: \\n  {time()-start} s\")"
   ]
  },
  {
   "cell_type": "code",
   "execution_count": 151,
   "id": "c6db7a22",
   "metadata": {},
   "outputs": [
    {
     "data": {
      "application/vnd.jupyter.widget-view+json": {
       "model_id": "",
       "version_major": 2,
       "version_minor": 0
      },
      "text/plain": [
       "Computing representations...:   0%|          | 0/250 [00:00<?, ?it/s]"
      ]
     },
     "metadata": {},
     "output_type": "display_data"
    },
    {
     "name": "stdout",
     "output_type": "stream",
     "text": [
      "Time taken to compute the first 100 representations of the test set WITH FORCES: \n",
      "  424.49444484710693 s\n"
     ]
    }
   ],
   "source": [
    "#determine time take to compute representations WITH gradients too\n",
    "#this will give an idea of what proportion of the predictions will be taken up by computing the representation\n",
    "#for forces as well\n",
    "hypers[\"compute_gradients\"] = True\n",
    "soap = SphericalInvariants(**hypers)\n",
    "\n",
    "start = time()\n",
    "for frm in tqdm(csd_1k[:npred], desc = \"Computing representations...\", leave=False):\n",
    "    manager_test = soap.transform(frm)\n",
    "print(f\"Time taken to compute the first 250 representations of the test set WITH FORCES: \\n  {time()-start} s\")"
   ]
  },
  {
   "cell_type": "markdown",
   "id": "29f41623",
   "metadata": {},
   "source": [
    "For the output here above ^^ this was actually the time taken to compute **250** representations, not 100 (npred was set to 250, just forgot to change the print function)"
   ]
  },
  {
   "cell_type": "code",
   "execution_count": 152,
   "id": "96d3e8f8",
   "metadata": {},
   "outputs": [
    {
     "data": {
      "application/vnd.jupyter.widget-view+json": {
       "model_id": "",
       "version_major": 2,
       "version_minor": 0
      },
      "text/plain": [
       "Making energy predictions for test set...:   0%|          | 0/250 [00:00<?, ?it/s]"
      ]
     },
     "metadata": {},
     "output_type": "display_data"
    },
    {
     "name": "stdout",
     "output_type": "stream",
     "text": [
      "Time taken to make ONLY ENERGY predictions WITH GRADIENTS: 571.9197833538055\n"
     ]
    },
    {
     "data": {
      "application/vnd.jupyter.widget-view+json": {
       "model_id": "",
       "version_major": 2,
       "version_minor": 0
      },
      "text/plain": [
       "Making energy predictions for test set...:   0%|          | 0/250 [00:00<?, ?it/s]"
      ]
     },
     "metadata": {},
     "output_type": "display_data"
    },
    {
     "name": "stdout",
     "output_type": "stream",
     "text": [
      "Time taken to make ONLY FORCE predictions WITH GRADIENTS: 784.9188103675842\n"
     ]
    }
   ],
   "source": [
    "## Test how long it takes to compute energies cf. forces using an old model (that has the same hypers)\n",
    "model = load_obj('model_data/full_GAP_model_FPS_0.055_3.25.json')\n",
    "npred=250\n",
    "start = time()\n",
    "ytp = []\n",
    "ftp = []\n",
    "for frm in tqdm(csd_1k[:npred], desc = \"Making energy predictions for test set...\", leave=False):\n",
    "    manager_test = soap.transform(frm)\n",
    "    ytp.append(model.predict(manager_test))\n",
    "time_taken = time()-start\n",
    "print(f\"Time taken to make ONLY ENERGY predictions WITH GRADIENTS: {time_taken}\")\n",
    "\n",
    "start = time()\n",
    "for frm in tqdm(csd_1k[:npred], desc = \"Making energy predictions for test set...\", leave=False):\n",
    "    manager_test = soap.transform(frm)\n",
    "    ftp.extend(model.predict_forces(manager_test))\n",
    "time_taken = time()-start\n",
    "print(f\"Time taken to make ONLY FORCE predictions WITH GRADIENTS: {time_taken}\")"
   ]
  },
  {
   "cell_type": "code",
   "execution_count": 156,
   "id": "5f8f8888",
   "metadata": {},
   "outputs": [
    {
     "name": "stdout",
     "output_type": "stream",
     "text": [
      "Time increase in computing forces instead of energies, INCLUDING representations: 1.372\n"
     ]
    }
   ],
   "source": [
    "print(f\"Time increase in computing forces instead of energies, INCLUDING representations: \"\n",
    "      f\"{np.round(784.9188103675842/571.9197833538055, 3)}\")"
   ]
  },
  {
   "cell_type": "code",
   "execution_count": 157,
   "id": "17ff39c1",
   "metadata": {},
   "outputs": [
    {
     "name": "stdout",
     "output_type": "stream",
     "text": [
      "Time increase in computing forces instead of energies, EXCLUDING representations: 2.445\n"
     ]
    }
   ],
   "source": [
    "print(f\"Time increase in computing forces instead of energies, EXCLUDING representations: \"\n",
    "      f\"{np.round((784.9188103675842-424.49444484710693)/(571.9197833538055-424.49444484710693), 3)}\")"
   ]
  },
  {
   "cell_type": "code",
   "execution_count": 164,
   "id": "925ff631",
   "metadata": {},
   "outputs": [
    {
     "name": "stdout",
     "output_type": "stream",
     "text": [
      " Number of sparse points per species for this model: 1622.5\n"
     ]
    }
   ],
   "source": [
    "print(f\" Number of sparse points per species for this model: {len(model.get_weights())/4}\")"
   ]
  },
  {
   "cell_type": "code",
   "execution_count": 168,
   "id": "82230c78",
   "metadata": {},
   "outputs": [
    {
     "name": "stdout",
     "output_type": "stream",
     "text": [
      "Time taken to make only energy predictions (excluding representation w/ gradients computation time) using 1622.5 sparse points per species: 147.4253\n"
     ]
    }
   ],
   "source": [
    "print(f\"Time taken to make only energy predictions (excluding representation w/ gradients computation time)\"\n",
    "     f\" using {len(model.get_weights())/4} sparse points per species: {np.round((571.9197-424.4944), 5)}\")"
   ]
  },
  {
   "cell_type": "markdown",
   "id": "cc70ec36",
   "metadata": {},
   "source": [
    "The above result makes sense, as only slightly more sparse points per species were used than for the N Sparse = 1500 model trained on only energies, and that model had a prediction time of 155s (including the 7s required for computing representations without gradients). Discrepancy may be due to the use of a different number of sparse points for different species..."
   ]
  },
  {
   "cell_type": "markdown",
   "id": "79dc0e86",
   "metadata": {},
   "source": [
    "**Results:**\n",
    "- Computing the representation without energies took only around 7.02 seconds for all 250 points, and so increasing the number of sparse points is the primary driver or the increased prediction time experienced\n",
    "- The dependency of the number of sparse points on prediction time is the same for a model with or without forces used for training\n",
    "- However, the amount of time taken to compute just the representation with gradients increases by a factor of about 60, whereas the energy prediction time stays more or less constant\n",
    "- This means that the proportion of time taken to compute the representation will be far larger when gradients are included (as we already knew), and so the benefit of using a larger number of training structures will be greater when forces are used in training as well"
   ]
  },
  {
   "cell_type": "code",
   "execution_count": 19,
   "id": "d8fb439d",
   "metadata": {},
   "outputs": [],
   "source": [
    "## Test how long it takes to compute energies cf. forces using an old model (that has the same hypers)\n",
    "model = load_obj('model_data/full_GAP_model_FPS_0.055_3.25.json')"
   ]
  },
  {
   "cell_type": "code",
   "execution_count": 21,
   "id": "fd9d0442",
   "metadata": {},
   "outputs": [],
   "source": [
    "hypers[\"compute_gradients\"] = True\n",
    "soap = SphericalInvariants(**hypers)"
   ]
  },
  {
   "cell_type": "code",
   "execution_count": 23,
   "id": "0052caae",
   "metadata": {},
   "outputs": [
    {
     "data": {
      "application/vnd.jupyter.widget-view+json": {
       "model_id": "",
       "version_major": 2,
       "version_minor": 0
      },
      "text/plain": [
       "Making energy and force predictions for test set...:   0%|          | 0/250 [00:00<?, ?it/s]"
      ]
     },
     "metadata": {},
     "output_type": "display_data"
    },
    {
     "name": "stdout",
     "output_type": "stream",
     "text": [
      "Time taken to make ENERGY AND FORCE predictions WITH GRADIENTS: 971.5557570457458\n"
     ]
    }
   ],
   "source": [
    "npred=250\n",
    "start = time()\n",
    "ytp = []\n",
    "ftp = []\n",
    "for frm in tqdm(csd_1k[:npred], desc = \"Making energy and force predictions for test set...\", leave=False):\n",
    "    manager_test = soap.transform(frm)\n",
    "    ytp.append(model.predict(manager_test))\n",
    "    ftp.extend(model.predict_forces(manager_test))\n",
    "time_taken = time()-start\n",
    "print(f\"Time taken to make ENERGY AND FORCE predictions WITH GRADIENTS: {time_taken}\")"
   ]
  },
  {
   "cell_type": "code",
   "execution_count": null,
   "id": "fc58cb2c",
   "metadata": {},
   "outputs": [],
   "source": []
  }
 ],
 "metadata": {
  "kernelspec": {
   "display_name": "Python 3 (ipykernel)",
   "language": "python",
   "name": "python3"
  },
  "language_info": {
   "codemirror_mode": {
    "name": "ipython",
    "version": 3
   },
   "file_extension": ".py",
   "mimetype": "text/x-python",
   "name": "python",
   "nbconvert_exporter": "python",
   "pygments_lexer": "ipython3",
   "version": "3.10.4"
  },
  "toc": {
   "base_numbering": 1,
   "nav_menu": {},
   "number_sections": true,
   "sideBar": true,
   "skip_h1_title": false,
   "title_cell": "Table of Contents",
   "title_sidebar": "Contents",
   "toc_cell": false,
   "toc_position": {},
   "toc_section_display": true,
   "toc_window_display": false
  }
 },
 "nbformat": 4,
 "nbformat_minor": 5
}
