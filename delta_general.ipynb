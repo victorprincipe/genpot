{
 "cells": [
  {
   "cell_type": "code",
   "execution_count": null,
   "id": "88ccb1b4",
   "metadata": {},
   "outputs": [],
   "source": []
  },
  {
   "cell_type": "code",
   "execution_count": null,
   "id": "1383bf14",
   "metadata": {},
   "outputs": [],
   "source": []
  },
  {
   "cell_type": "markdown",
   "id": "b68f9441",
   "metadata": {},
   "source": [
    "## Importing modules and defining functions"
   ]
  },
  {
   "cell_type": "code",
   "execution_count": 1,
   "id": "1a9b1ef1",
   "metadata": {
    "code_folding": [
     0
    ],
    "hide_input": false
   },
   "outputs": [],
   "source": [
    "#Import modules\n",
    "from matplotlib import pylab as plt\n",
    "from tqdm import tqdm\n",
    "import itertools\n",
    "\n",
    "import pickle\n",
    "import numpy as np\n",
    "from sklearn import linear_model\n",
    "import skcosmo.feature_selection\n",
    "from skcosmo.sample_selection import FPS, PCovFPS\n",
    "from sklearn.linear_model import LinearRegression, Ridge\n",
    "from sklearn.kernel_ridge import KernelRidge\n",
    "\n",
    "import ase\n",
    "from ase.io import read, write\n",
    "from ase.build import make_supercell\n",
    "from ase.visualize import view\n",
    "import numpy as np\n",
    "# If installed -- not essential, though\n",
    "try:\n",
    "    from tqdm.notebook import tqdm\n",
    "except ImportError:\n",
    "    tqdm = (lambda i, **kwargs: i)\n",
    "\n",
    "from time import time\n",
    "\n",
    "from rascal.models import KRR\n",
    "from rascal.utils import dump_obj, load_obj\n",
    "\n",
    "from rascal.models import Kernel, train_gap_model, compute_KNM\n",
    "from rascal.representations import SphericalInvariants\n",
    "from rascal.utils import from_dict, to_dict, CURFilter, FPSFilter, dump_obj, load_obj\n",
    "from rascal.utils import get_score\n",
    "from rascal.utils.io import load_json, dump_json\n"
   ]
  },
  {
   "cell_type": "code",
   "execution_count": 2,
   "id": "d3e3877a",
   "metadata": {
    "code_folding": [
     0,
     1,
     23
    ]
   },
   "outputs": [],
   "source": [
    "#Define functions\n",
    "def do_fps(x, d=0):\n",
    "    \"\"\"\n",
    "    Function for performing farthest-point-sampling for a given feature matrix.\n",
    "    d gives the number of farthest-point-sampled feature vectors that will be outputted. \n",
    "    If d==0, the entire set will be FPS-sorted.\n",
    "    Returns the FPS-sorted IDs, as well as the FPS distances.\n",
    "    \"\"\"\n",
    "    if d == 0 : d = len(x)\n",
    "    n = len(x)\n",
    "    iy = np.zeros(d, int)\n",
    "    # faster evaluation of Euclidean distance\n",
    "    n2 = np.sum(x**2,axis=1)\n",
    "    iy[0] = 0\n",
    "    dl = n2 + n2[iy[0]] - 2* np.dot(x, x[iy[0]])\n",
    "    dss = []\n",
    "    for i in range(1,d):\n",
    "        iy[i] = np.argmax(dl)\n",
    "        nd = n2 + n2[iy[i]] - 2*np.dot(x,x[iy[i]])\n",
    "        dl = np.minimum(dl, nd)\n",
    "        dss.append(max(dl))\n",
    "    return iy,dss\n",
    "\n",
    "def get_forces(frames):\n",
    "    frc = np.zeros((np.sum([len(frm) for frm in frames]),3))\n",
    "    iat = 0\n",
    "    for ifrm,frm in enumerate(frames):\n",
    "        frc[iat:iat+len(frm)] = frm.get_array('forces') \n",
    "        iat += len(frm)\n",
    "    return frc\n",
    "\n",
    "#Get feature vectors for a list of atoms objects. This requires soap to be set, as well as all_species, which is\n",
    "#a list with one atoms object that contains all species HCNO\n",
    "def get_features(atoms_objects, batch_size=1000, progress_bar=True):\n",
    "    '''Get average feature vectors for each structure in a list of atoms objects. \n",
    "        This requires soap to be set.\n",
    "    '''\n",
    "    struct_feat=[] #create empty feature vector of n_structures x n_features\n",
    "    got_frame = False\n",
    "    for frm in atoms_objects:\n",
    "        if got_frame == False: \n",
    "            if all(sp in frm.get_atomic_numbers() for sp in [1,6,7,8]) == True:\n",
    "                all_species = frm\n",
    "                got_frame = True\n",
    "    for i in tqdm(range(int(len(atoms_objects)/batch_size+0.9999)), leave=False,\n",
    "                  disable = not progress_bar): #Get feature vectors in batches of 1000\n",
    "        for frm in atoms_objects[i*batch_size:(i+1)*batch_size]:\n",
    "            frm.wrap(eps=1e-13) #wrap atoms in unit cell\n",
    "        frames=[all_species.copy()] #add initial frame with all species\n",
    "        frames.extend(atoms_objects[i*batch_size:(i+1)*batch_size]) #extend initial frame with frames of batch\n",
    "        manager = soap.transform(frames) #calculate soap features for all structures in batch\n",
    "        env_feat_batch = manager.get_features(soap)[len(all_species):] #get feature vectors for all structures in batch\n",
    "        # (having removed the initial frame)\n",
    "        atom_counter=0 #count atoms\n",
    "        for ifrm,frm in enumerate(atoms_objects[i*batch_size:(i+1)*batch_size]): #iterate over frames in batch\n",
    "            nat=len(frm) #count atoms in frame\n",
    "            struct_feat.append(np.mean(env_feat_batch[atom_counter:atom_counter+nat],axis=0)) #average vectors\n",
    "            # for atoms in the same frame. Done by averaging vectors between atom_counter and atom_counter + nat\n",
    "            atom_counter+=nat #add atoms to counter\n",
    "    struct_feat_array=np.asarray(struct_feat)\n",
    "    return struct_feat_array"
   ]
  },
  {
   "cell_type": "code",
   "execution_count": 4,
   "id": "0bb7d87c",
   "metadata": {},
   "outputs": [],
   "source": [
    "#Import initial combined dataset (geop+100MD per crystal)\n",
    "dictionary_file = open(\"raw_data/CSD-10k_combined_w_kpts.pickle\", \"rb\") #open saved pickle database\n",
    "db = pickle.load(dictionary_file)\n",
    "names=list(db.keys())"
   ]
  },
  {
   "cell_type": "markdown",
   "id": "be49c835",
   "metadata": {},
   "source": [
    "# FPS-Sort Configurations"
   ]
  },
  {
   "cell_type": "code",
   "execution_count": 3,
   "id": "0e89a985",
   "metadata": {
    "code_folding": []
   },
   "outputs": [],
   "source": [
    "#Define soap hyperparameters for FPS sorting configurations\n",
    "hypers = dict(soap_type=\"PowerSpectrum\",\n",
    "              interaction_cutoff=4, #cutoff distance in angstroms\n",
    "              max_radial=6, #no. of radial basis functions\n",
    "              max_angular=4, #no. of angular basis functions\n",
    "              gaussian_sigma_constant=0.4, #sigma width (i.e. amount of 'smearing')\n",
    "              gaussian_sigma_type=\"Constant\",\n",
    "              cutoff_function_type=\"RadialScaling\",\n",
    "              cutoff_smooth_width=0.5,\n",
    "              cutoff_function_parameters=\n",
    "                    dict(\n",
    "                            rate=1,\n",
    "                            scale=2,\n",
    "                            exponent=2\n",
    "                        ),\n",
    "              radial_basis=\"GTO\",\n",
    "              normalize=True,\n",
    "              optimization=\n",
    "                    dict(\n",
    "                            Spline=dict(\n",
    "                               accuracy=1.0e-05\n",
    "                            )\n",
    "                        ),\n",
    "              compute_gradients=False #don't care about forces right now\n",
    "              )\n",
    "soap = SphericalInvariants(**hypers)\n"
   ]
  },
  {
   "cell_type": "code",
   "execution_count": 55,
   "id": "6fcb648c",
   "metadata": {},
   "outputs": [
    {
     "data": {
      "application/vnd.jupyter.widget-view+json": {
       "model_id": "621f6f93c3c8481b9f09097764683f18",
       "version_major": 2,
       "version_minor": 0
      },
      "text/plain": [
       "  0%|          | 0/2238 [00:00<?, ?it/s]"
      ]
     },
     "metadata": {},
     "output_type": "display_data"
    }
   ],
   "source": [
    "#FPS-sort initial training set to get 11 configurations per crystal\n",
    "db_FPS = {}\n",
    "selector = FPS(n_to_select=11, initialize=0) #initialize at 0 so that first selection is always geop\n",
    "\n",
    "for name in tqdm(names):\n",
    "    all_feats = []\n",
    "    for ifrm, frm in enumerate(db[name]):\n",
    "        frm.wrap(eps=1e-13)\n",
    "        feats = soap.transform(frm).get_features(soap)\n",
    "        all_feats.append(np.mean(feats, axis=0))\n",
    "    selector.fit(all_feats)\n",
    "    frames = []\n",
    "    for i in selector.selected_idx_:\n",
    "        frames.append(db[name][i])\n",
    "    db_FPS[name] = frames"
   ]
  },
  {
   "cell_type": "code",
   "execution_count": 66,
   "id": "fa71dd38",
   "metadata": {},
   "outputs": [],
   "source": [
    "#Save dataset\n",
    "with open('delta_data/CSD-10k_combined_w_kpts_11_pc.pickle', 'wb') as f:\n",
    "    pickle.dump(db_FPS, f)"
   ]
  },
  {
   "cell_type": "markdown",
   "id": "382540d8",
   "metadata": {},
   "source": [
    "# Calculate DFTB Energies and Forces\n",
    "\n",
    "Note that these calculations were done locally on CosmoPC12, and they will not run automatically here. That is because I had to change some ASE scripts as it was not producing DFTB+ input files correctly for the parameters I had provided.\n",
    "\n",
    "I thoroughly checked the input files it produced, and it matches the input files that were used to run DFTB+ with the Delta potential of Aditi/Edgar in the past.\n",
    "\n",
    "Also **important to note** that the \"Temperatute\" passed through to the DFTB+ input file had to be converted from Kelvin to Hartree (DFTB+'s internal parameters), as it was very difficult to set \"Temperature [K]\" instead of just \"Temperature\" through ASE's python interface.\n",
    "\n",
    "Please **skip the next few cells below**, and just reload the database that contains the DFTB+ results as well. "
   ]
  },
  {
   "cell_type": "code",
   "execution_count": null,
   "id": "9e58d470",
   "metadata": {},
   "outputs": [],
   "source": [
    "#Load database\n",
    "with open('delta_data/CSD-10k_combined_w_kpts_11_pc.pickle', 'rb') as f:\n",
    "    db = pickle.load(f)"
   ]
  },
  {
   "cell_type": "code",
   "execution_count": 4,
   "id": "31f58f5e",
   "metadata": {},
   "outputs": [],
   "source": [
    "#get array of all crystal names\n",
    "names = []\n",
    "for key in db.keys():\n",
    "    names.append(key)"
   ]
  },
  {
   "cell_type": "code",
   "execution_count": null,
   "id": "9f60edde",
   "metadata": {},
   "outputs": [],
   "source": [
    "#set preliminary DFTB params\n",
    "#These should be the exact same as I have found in DFTB input scripts from Edgar/Aditi (I thoroughly checked)\n",
    "calc_preliminary = Dftb(Hamiltonian_='DFTB',\n",
    "           Hamiltonian_Charge=0,\n",
    "           Hamiltonian_DampXH='Yes',\n",
    "           Hamiltonian_DampXHExponent = 4.0,\n",
    "           Hamiltonian_Dispersion_ = 'DftD3',\n",
    "           Hamiltonian_Dispersion_Damping='BeckeJohnson{}',\n",
    "           Hamiltonian_Eigensolver='RelativelyRobust{}',\n",
    "           Hamiltonian_HubbardDerivs_='',\n",
    "           Hamiltonian_MaxAngularMomentum_='',\n",
    "           Hamiltonian_SCC='Yes',\n",
    "           Hamiltonian_SCCTolerance=1e-4,\n",
    "           Hamiltonian_MaxSCCIterations=1000,\n",
    "           Hamiltonian_SlaterKosterFiles_='Type2FileNames',\n",
    "           Hamiltonian_SlaterKosterFiles_Prefix='\"./dftb-param/\"',\n",
    "           Hamiltonian_SlaterKosterFiles_Separator='\"-\"',\n",
    "           Hamiltonian_SlaterKosterFiles_Suffix='\".skf\"',\n",
    "           Hamiltonian_SlaterKosterFiles_LowerCaseTypeName='No',\n",
    "           Hamiltonian_ThirdOrderFull='Yes',\n",
    "           Hamiltonian_Filling_='Fermi',\n",
    "           Hamiltonian_Filling_Temperature=300*0.316681534524639E-05, #convert from K to Hartree!\n",
    "           #Options_WriteResultsTag='No',\n",
    "           #Options_WriteDetailedOut='No',\n",
    "           #Options_WriteBandOut='No',\n",
    "           ParserOptions_='',\n",
    "           ParserOptions_ParserVersion=4,\n",
    "           ParserOptions_IgnoreUnprocessedNodes = 'No',\n",
    "           do_mulliken=False)"
   ]
  },
  {
   "cell_type": "code",
   "execution_count": null,
   "id": "cdb03097",
   "metadata": {},
   "outputs": [],
   "source": [
    "#Data that will need to be set in the loop, depending on which species are present\n",
    "\n",
    "#Hamiltonian_HubbardDerivs_H=-0.1857, \n",
    "#Hamiltonian_HubbardDerivs_C=-0.1492, \n",
    "#Hamiltonian_HubbardDerivs_N=-0.1535, \n",
    "#Hamiltonian_HubbardDerivs_O=-0.1575,\n",
    "#Hamiltonian_MaxAngularMomentum_H='\"s\"', \n",
    "#Hamiltonian_MaxAngularMomentum_C='\"p\"', \n",
    "#Hamiltonian_MaxAngularMomentum_N='\"p\"', \n",
    "#Hamiltonian_MaxAngularMomentum_O='\"p\"',"
   ]
  },
  {
   "cell_type": "code",
   "execution_count": null,
   "id": "0562a9b8",
   "metadata": {},
   "outputs": [],
   "source": [
    "#Rename \"forces\" array to \"PBE-D2_forces\" to avoid confusion, and rename \"energy\" to \"PBE-D2_energy\"\n",
    "for name in names:\n",
    "    for frm in db[name]:\n",
    "        frm.arrays['PBE-D2_forces'] = frm.arrays['forces'].copy() #add new array with good name\n",
    "        frm.set_array('forces', None) #remove old array\n",
    "        frm.info['PBE-D2_energy'] = frm.info['energy'].copy() #add new info with energy\n",
    "        frm.info.pop('energy') #remove old energy info"
   ]
  },
  {
   "cell_type": "code",
   "execution_count": null,
   "id": "c976f6a0",
   "metadata": {},
   "outputs": [],
   "source": [
    "#Compute DFTB energies and forces, and add them to the frames\n",
    "for name in tqdm(names, desc=\"Crystal Progress\", leave=False):\n",
    "    for frm in tqdm(db[name], desc=\"Config Progress\", leave=False):\n",
    "        \n",
    "        kpts = np.array2string(frm.info['kpts'], separator=' ')[1:-1] #Get K-points\n",
    "        if len(kpts) != 5: #Print k points if they are longer than useful (for security) \n",
    "            print(name, frm) \n",
    "        kpts += ' 1.0' #add the k points \"weight\" for DFTB+\n",
    "        \n",
    "        calc=Dftb(**calc_preliminary.todict()) #Get preliminary calculator\n",
    "        calc.set(Hamiltonian_KPointsAndWeights=\"{\"+kpts+\"}\") #Set k points\n",
    "        \n",
    "        #Set Hubbard derivs and max angular momenta for the relevant species present\n",
    "        if \"H\" in frm.get_chemical_symbols():\n",
    "            calc.set(Hamiltonian_HubbardDerivs_H=-0.1857)\n",
    "            calc.set(Hamiltonian_MaxAngularMomentum_H='\"s\"')\n",
    "        if \"C\" in frm.get_chemical_symbols():\n",
    "            calc.set(Hamiltonian_HubbardDerivs_C=-0.1492)\n",
    "            calc.set(Hamiltonian_MaxAngularMomentum_C='\"p\"')\n",
    "        if \"N\" in frm.get_chemical_symbols():\n",
    "            calc.set(Hamiltonian_HubbardDerivs_N=-0.1535)\n",
    "            calc.set(Hamiltonian_MaxAngularMomentum_N='\"p\"')\n",
    "        if \"O\" in frm.get_chemical_symbols():\n",
    "            calc.set(Hamiltonian_HubbardDerivs_O=-0.1575)\n",
    "            calc.set(Hamiltonian_MaxAngularMomentum_O='\"p\"')\n",
    "        \n",
    "        frm.set_calculator(calc) #set calculator for the frame\n",
    "        \n",
    "        frm.info['DFTB_energy'] = frm.get_potential_energy() #calculate potential energy, and add it as info\n",
    "        frm.arrays['DFTB_forces'] = frm.get_forces() #calculate forces, and add them as info"
   ]
  },
  {
   "cell_type": "code",
   "execution_count": null,
   "id": "782a4596",
   "metadata": {},
   "outputs": [],
   "source": [
    "#Save dataset\n",
    "with open('delta_data/CSD-10k_combined_w_kpts_11_pc_w_DFTB.pickle', 'wb') as f:\n",
    "    pickle.dump(db, f)"
   ]
  },
  {
   "cell_type": "markdown",
   "id": "6ecce45b",
   "metadata": {},
   "source": [
    "## Reload database with DFTB+ results"
   ]
  },
  {
   "cell_type": "code",
   "execution_count": 4,
   "id": "1ee6f3eb",
   "metadata": {},
   "outputs": [],
   "source": [
    "#(Re-)Open dataset\n",
    "with open('delta_data/CSD-10k_combined_w_kpts_11_pc_w_DFTB.pickle', 'rb') as f:\n",
    "    db = pickle.load(f)"
   ]
  },
  {
   "cell_type": "code",
   "execution_count": 5,
   "id": "cd0cc83c",
   "metadata": {},
   "outputs": [],
   "source": [
    "#Add energy and force deltas to frame\n",
    "for name in db.keys():\n",
    "    for frm in db[name]:\n",
    "        frm.info['Delta_energy'] = frm.info['PBE-D2_energy'] - frm.info['DFTB_energy']\n",
    "        frm.arrays['Delta_forces'] = frm.arrays['PBE-D2_forces'] - frm.arrays['DFTB_forces']"
   ]
  },
  {
   "cell_type": "markdown",
   "id": "3a3b6287",
   "metadata": {},
   "source": [
    "# Create training and validation sets"
   ]
  },
  {
   "cell_type": "code",
   "execution_count": 6,
   "id": "bfc6db42",
   "metadata": {},
   "outputs": [],
   "source": [
    "#Create training and val sets\n",
    "all_frames = []\n",
    "for name in db.keys():\n",
    "    for frm in db[name]:\n",
    "        all_frames.append(frm)\n",
    "\n",
    "ids = np.arange(len(all_frames))\n",
    "np.random.seed(10)\n",
    "np.random.shuffle(ids)\n",
    "\n",
    "train_frames = [all_frames[i] for i in ids[1000:]]\n",
    "val_frames = [all_frames[i] for i in ids[:1000]]"
   ]
  },
  {
   "cell_type": "code",
   "execution_count": 7,
   "id": "5bedb72a",
   "metadata": {},
   "outputs": [],
   "source": [
    "#Create composition (X), energy deltas (y) and force deltas (f) arrays\n",
    "X_all = np.zeros((len(all_frames), 4), dtype=int) ; y_all = np.zeros(len(all_frames), dtype=float)\n",
    "f_all = np.zeros((np.sum([len(frm) for frm in all_frames]),3), dtype=float)\n",
    "\n",
    "counter = 0\n",
    "for ifrm, frm in enumerate(all_frames):\n",
    "    symbols = frm.get_atomic_numbers()\n",
    "    X_all[ifrm] = [len(np.where(symbols == sp)[0]) for sp in [1,6,7,8]]\n",
    "    y_all[ifrm] = frm.info['Delta_energy']\n",
    "    f_all[counter:counter+len(frm)] = frm.arrays['Delta_forces']\n",
    "    counter += len(frm)\n",
    "    \n",
    "X_train = np.zeros((len(train_frames), 4), dtype=int) ; y_train = np.zeros(len(train_frames), dtype=float)\n",
    "f_train = np.zeros((np.sum([len(frm) for frm in train_frames]),3), dtype=float)\n",
    "\n",
    "counter = 0\n",
    "for ifrm, frm in enumerate(train_frames):\n",
    "    symbols = frm.get_atomic_numbers()\n",
    "    X_train[ifrm] = [len(np.where(symbols == sp)[0]) for sp in [1,6,7,8]]\n",
    "    y_train[ifrm] = frm.info['Delta_energy']\n",
    "    f_train[counter:counter+len(frm)] = frm.arrays['Delta_forces']\n",
    "    counter += len(frm)\n",
    "\n",
    "X_val = np.zeros((len(val_frames), 4), dtype=int) ; y_val = np.zeros(len(val_frames), dtype=float)\n",
    "f_val = np.zeros((np.sum([len(frm) for frm in val_frames]),3), dtype=float)\n",
    "\n",
    "counter = 0\n",
    "for ifrm, frm in enumerate(val_frames):\n",
    "    symbols = frm.get_atomic_numbers()\n",
    "    X_val[ifrm] = [len(np.where(symbols == sp)[0]) for sp in [1,6,7,8]]\n",
    "    y_val[ifrm] = frm.info['Delta_energy']\n",
    "    f_val[counter:counter+len(frm)] = frm.arrays['Delta_forces']\n",
    "    counter += len(frm)"
   ]
  },
  {
   "cell_type": "code",
   "execution_count": 8,
   "id": "8b1cbefc",
   "metadata": {},
   "outputs": [
    {
     "name": "stdout",
     "output_type": "stream",
     "text": [
      "Per-atom energy for species H : -5.937468668126814 eV\n",
      "Per-atom energy for species C : -108.2661438737962 eV\n",
      "Per-atom energy for species N : -318.9167048223052 eV\n",
      "Per-atom energy for species O : -476.5706321823649 eV\n"
     ]
    }
   ],
   "source": [
    "#Create baselined per-atom energy model\n",
    "mlr = Ridge(fit_intercept=False, alpha=1e-4)\n",
    "mlr.fit(X_all, y_all)\n",
    "for spec, coef in zip(['H', 'C', 'N', 'O'], mlr.coef_):\n",
    "    print(f\"Per-atom energy for species {spec} : {coef} eV\")"
   ]
  },
  {
   "cell_type": "code",
   "execution_count": 9,
   "id": "02f438d3",
   "metadata": {},
   "outputs": [],
   "source": [
    "#Save small model\n",
    "with open('delta_data/mlr.pkl','wb') as f:\n",
    "    pickle.dump(mlr, f)"
   ]
  },
  {
   "cell_type": "markdown",
   "id": "7b77e778",
   "metadata": {},
   "source": [
    "# PCovFPS sample selection"
   ]
  },
  {
   "cell_type": "code",
   "execution_count": 25,
   "id": "86d2d30a",
   "metadata": {},
   "outputs": [],
   "source": [
    "#Create baselined per-atom binding energies of training and validation sets\n",
    "yred_train = y_train/np.sum(X_train,axis=1)-mlr.predict(X_train)/np.sum(X_train,axis=1)\n",
    "yred_val = y_val/np.sum(X_val,axis=1)-mlr.predict(X_val)/np.sum(X_val,axis=1) "
   ]
  },
  {
   "cell_type": "code",
   "execution_count": 26,
   "id": "80c21f6a",
   "metadata": {},
   "outputs": [],
   "source": [
    "#Use better hypers\n",
    "hypers['interaction_cutoff'] = 6\n",
    "hypers['max_radial'] = 9\n",
    "hypers['max_angular'] = 6\n",
    "soap=SphericalInvariants(**hypers)"
   ]
  },
  {
   "cell_type": "code",
   "execution_count": 27,
   "id": "50e95f76",
   "metadata": {},
   "outputs": [
    {
     "data": {
      "application/vnd.jupyter.widget-view+json": {
       "model_id": "",
       "version_major": 2,
       "version_minor": 0
      },
      "text/plain": [
       "  0%|          | 0/95 [00:00<?, ?it/s]"
      ]
     },
     "metadata": {},
     "output_type": "display_data"
    }
   ],
   "source": [
    "#get per-structure training features\n",
    "train_feats = get_features(train_frames, batch_size=250, progress_bar=True)"
   ]
  },
  {
   "cell_type": "code",
   "execution_count": 28,
   "id": "74110796",
   "metadata": {},
   "outputs": [
    {
     "data": {
      "application/vnd.jupyter.widget-view+json": {
       "model_id": "f833bde7f73447439acdabf47a945e91",
       "version_major": 2,
       "version_minor": 0
      },
      "text/plain": [
       "  0%|          | 0/23616 [00:00<?, ?it/s]"
      ]
     },
     "metadata": {},
     "output_type": "display_data"
    }
   ],
   "source": [
    "#Do PCovFPS Sample selection\n",
    "selector = PCovFPS(mixing=0.5, initialize=0, progress_bar=True, n_to_select=len(train_feats)-1)\n",
    "selector.fit(train_feats, yred_train)\n",
    "pcf_ids = selector.selected_idx_"
   ]
  },
  {
   "cell_type": "code",
   "execution_count": 29,
   "id": "d607b460",
   "metadata": {},
   "outputs": [],
   "source": [
    "#Save PCovFPS-sorted sample IDs\n",
    "np.save('delta_data/pcovfps_selected_idx', pcf_ids)"
   ]
  },
  {
   "cell_type": "code",
   "execution_count": 30,
   "id": "baba092e",
   "metadata": {},
   "outputs": [],
   "source": [
    "#Reload PCovFPS-sorted sample IDs\n",
    "pcf_ids = np.load('delta_data/pcovfps_selected_idx.npy')"
   ]
  },
  {
   "cell_type": "code",
   "execution_count": 31,
   "id": "6f43d3a6",
   "metadata": {},
   "outputs": [
    {
     "data": {
      "image/png": "[encoded data removed]",
      "text/plain": [
       "<Figure size 640x480 with 1 Axes>"
      ]
     },
     "metadata": {},
     "output_type": "display_data"
    }
   ],
   "source": [
    "#Plot distances\n",
    "plt.plot(range(len(train_feats)-2), selector.get_select_distance()[1:])\n",
    "plt.yscale('log')"
   ]
  },
  {
   "cell_type": "markdown",
   "id": "0affc35a",
   "metadata": {},
   "source": [
    "PCovFPS suggests maybe using 6000 or so structures is not an awful idea, in order to balance computational burden with accuracy."
   ]
  },
  {
   "cell_type": "markdown",
   "id": "b3bbea75",
   "metadata": {},
   "source": [
    "# Small Hyperparam Optimisation"
   ]
  },
  {
   "cell_type": "code",
   "execution_count": 14,
   "id": "ac764984",
   "metadata": {
    "scrolled": true
   },
   "outputs": [
    {
     "data": {
      "application/vnd.jupyter.widget-view+json": {
       "model_id": "",
       "version_major": 2,
       "version_minor": 0
      },
      "text/plain": [
       "  0%|          | 0/15 [00:00<?, ?it/s]"
      ]
     },
     "metadata": {},
     "output_type": "display_data"
    },
    {
     "data": {
      "application/vnd.jupyter.widget-view+json": {
       "model_id": "",
       "version_major": 2,
       "version_minor": 0
      },
      "text/plain": [
       "  0%|          | 0/1 [00:00<?, ?it/s]"
      ]
     },
     "metadata": {},
     "output_type": "display_data"
    },
    {
     "name": "stdout",
     "output_type": "stream",
     "text": [
      "RMSE using rc=4, n=6, l=4 : 1.043688 eV\n"
     ]
    },
    {
     "data": {
      "application/vnd.jupyter.widget-view+json": {
       "model_id": "",
       "version_major": 2,
       "version_minor": 0
      },
      "text/plain": [
       "  0%|          | 0/15 [00:00<?, ?it/s]"
      ]
     },
     "metadata": {},
     "output_type": "display_data"
    },
    {
     "data": {
      "application/vnd.jupyter.widget-view+json": {
       "model_id": "",
       "version_major": 2,
       "version_minor": 0
      },
      "text/plain": [
       "  0%|          | 0/1 [00:00<?, ?it/s]"
      ]
     },
     "metadata": {},
     "output_type": "display_data"
    },
    {
     "name": "stdout",
     "output_type": "stream",
     "text": [
      "RMSE using rc=4, n=6, l=6 : 1.025771 eV\n"
     ]
    },
    {
     "data": {
      "application/vnd.jupyter.widget-view+json": {
       "model_id": "",
       "version_major": 2,
       "version_minor": 0
      },
      "text/plain": [
       "  0%|          | 0/15 [00:00<?, ?it/s]"
      ]
     },
     "metadata": {},
     "output_type": "display_data"
    },
    {
     "data": {
      "application/vnd.jupyter.widget-view+json": {
       "model_id": "",
       "version_major": 2,
       "version_minor": 0
      },
      "text/plain": [
       "  0%|          | 0/1 [00:00<?, ?it/s]"
      ]
     },
     "metadata": {},
     "output_type": "display_data"
    },
    {
     "name": "stdout",
     "output_type": "stream",
     "text": [
      "RMSE using rc=4, n=6, l=8 : 1.014872 eV\n"
     ]
    },
    {
     "data": {
      "application/vnd.jupyter.widget-view+json": {
       "model_id": "",
       "version_major": 2,
       "version_minor": 0
      },
      "text/plain": [
       "  0%|          | 0/15 [00:00<?, ?it/s]"
      ]
     },
     "metadata": {},
     "output_type": "display_data"
    },
    {
     "data": {
      "application/vnd.jupyter.widget-view+json": {
       "model_id": "",
       "version_major": 2,
       "version_minor": 0
      },
      "text/plain": [
       "  0%|          | 0/1 [00:00<?, ?it/s]"
      ]
     },
     "metadata": {},
     "output_type": "display_data"
    },
    {
     "name": "stdout",
     "output_type": "stream",
     "text": [
      "RMSE using rc=4, n=9, l=4 : 1.042269 eV\n"
     ]
    },
    {
     "data": {
      "application/vnd.jupyter.widget-view+json": {
       "model_id": "",
       "version_major": 2,
       "version_minor": 0
      },
      "text/plain": [
       "  0%|          | 0/15 [00:00<?, ?it/s]"
      ]
     },
     "metadata": {},
     "output_type": "display_data"
    },
    {
     "data": {
      "application/vnd.jupyter.widget-view+json": {
       "model_id": "",
       "version_major": 2,
       "version_minor": 0
      },
      "text/plain": [
       "  0%|          | 0/1 [00:00<?, ?it/s]"
      ]
     },
     "metadata": {},
     "output_type": "display_data"
    },
    {
     "name": "stdout",
     "output_type": "stream",
     "text": [
      "RMSE using rc=4, n=9, l=6 : 1.018662 eV\n"
     ]
    },
    {
     "data": {
      "application/vnd.jupyter.widget-view+json": {
       "model_id": "",
       "version_major": 2,
       "version_minor": 0
      },
      "text/plain": [
       "  0%|          | 0/15 [00:00<?, ?it/s]"
      ]
     },
     "metadata": {},
     "output_type": "display_data"
    },
    {
     "data": {
      "application/vnd.jupyter.widget-view+json": {
       "model_id": "",
       "version_major": 2,
       "version_minor": 0
      },
      "text/plain": [
       "  0%|          | 0/1 [00:00<?, ?it/s]"
      ]
     },
     "metadata": {},
     "output_type": "display_data"
    },
    {
     "name": "stdout",
     "output_type": "stream",
     "text": [
      "RMSE using rc=4, n=9, l=8 : 1.009446 eV\n"
     ]
    },
    {
     "data": {
      "application/vnd.jupyter.widget-view+json": {
       "model_id": "",
       "version_major": 2,
       "version_minor": 0
      },
      "text/plain": [
       "  0%|          | 0/15 [00:00<?, ?it/s]"
      ]
     },
     "metadata": {},
     "output_type": "display_data"
    },
    {
     "data": {
      "application/vnd.jupyter.widget-view+json": {
       "model_id": "",
       "version_major": 2,
       "version_minor": 0
      },
      "text/plain": [
       "  0%|          | 0/1 [00:00<?, ?it/s]"
      ]
     },
     "metadata": {},
     "output_type": "display_data"
    },
    {
     "name": "stdout",
     "output_type": "stream",
     "text": [
      "RMSE using rc=4, n=12, l=4 : 1.037987 eV\n"
     ]
    },
    {
     "data": {
      "application/vnd.jupyter.widget-view+json": {
       "model_id": "",
       "version_major": 2,
       "version_minor": 0
      },
      "text/plain": [
       "  0%|          | 0/15 [00:00<?, ?it/s]"
      ]
     },
     "metadata": {},
     "output_type": "display_data"
    },
    {
     "data": {
      "application/vnd.jupyter.widget-view+json": {
       "model_id": "",
       "version_major": 2,
       "version_minor": 0
      },
      "text/plain": [
       "  0%|          | 0/1 [00:00<?, ?it/s]"
      ]
     },
     "metadata": {},
     "output_type": "display_data"
    },
    {
     "name": "stdout",
     "output_type": "stream",
     "text": [
      "RMSE using rc=4, n=12, l=6 : 1.014619 eV\n"
     ]
    },
    {
     "data": {
      "application/vnd.jupyter.widget-view+json": {
       "model_id": "",
       "version_major": 2,
       "version_minor": 0
      },
      "text/plain": [
       "  0%|          | 0/15 [00:00<?, ?it/s]"
      ]
     },
     "metadata": {},
     "output_type": "display_data"
    },
    {
     "data": {
      "application/vnd.jupyter.widget-view+json": {
       "model_id": "",
       "version_major": 2,
       "version_minor": 0
      },
      "text/plain": [
       "  0%|          | 0/1 [00:00<?, ?it/s]"
      ]
     },
     "metadata": {},
     "output_type": "display_data"
    },
    {
     "name": "stdout",
     "output_type": "stream",
     "text": [
      "RMSE using rc=4, n=12, l=8 : 1.003798 eV\n"
     ]
    },
    {
     "data": {
      "application/vnd.jupyter.widget-view+json": {
       "model_id": "",
       "version_major": 2,
       "version_minor": 0
      },
      "text/plain": [
       "  0%|          | 0/15 [00:00<?, ?it/s]"
      ]
     },
     "metadata": {},
     "output_type": "display_data"
    },
    {
     "data": {
      "application/vnd.jupyter.widget-view+json": {
       "model_id": "",
       "version_major": 2,
       "version_minor": 0
      },
      "text/plain": [
       "  0%|          | 0/1 [00:00<?, ?it/s]"
      ]
     },
     "metadata": {},
     "output_type": "display_data"
    },
    {
     "name": "stdout",
     "output_type": "stream",
     "text": [
      "RMSE using rc=6, n=6, l=4 : 1.023154 eV\n"
     ]
    },
    {
     "data": {
      "application/vnd.jupyter.widget-view+json": {
       "model_id": "",
       "version_major": 2,
       "version_minor": 0
      },
      "text/plain": [
       "  0%|          | 0/15 [00:00<?, ?it/s]"
      ]
     },
     "metadata": {},
     "output_type": "display_data"
    },
    {
     "data": {
      "application/vnd.jupyter.widget-view+json": {
       "model_id": "",
       "version_major": 2,
       "version_minor": 0
      },
      "text/plain": [
       "  0%|          | 0/1 [00:00<?, ?it/s]"
      ]
     },
     "metadata": {},
     "output_type": "display_data"
    },
    {
     "name": "stdout",
     "output_type": "stream",
     "text": [
      "RMSE using rc=6, n=6, l=6 : 1.011613 eV\n"
     ]
    },
    {
     "data": {
      "application/vnd.jupyter.widget-view+json": {
       "model_id": "",
       "version_major": 2,
       "version_minor": 0
      },
      "text/plain": [
       "  0%|          | 0/15 [00:00<?, ?it/s]"
      ]
     },
     "metadata": {},
     "output_type": "display_data"
    },
    {
     "data": {
      "application/vnd.jupyter.widget-view+json": {
       "model_id": "",
       "version_major": 2,
       "version_minor": 0
      },
      "text/plain": [
       "  0%|          | 0/1 [00:00<?, ?it/s]"
      ]
     },
     "metadata": {},
     "output_type": "display_data"
    },
    {
     "name": "stdout",
     "output_type": "stream",
     "text": [
      "RMSE using rc=6, n=6, l=8 : 0.995652 eV\n"
     ]
    },
    {
     "data": {
      "application/vnd.jupyter.widget-view+json": {
       "model_id": "",
       "version_major": 2,
       "version_minor": 0
      },
      "text/plain": [
       "  0%|          | 0/15 [00:00<?, ?it/s]"
      ]
     },
     "metadata": {},
     "output_type": "display_data"
    },
    {
     "data": {
      "application/vnd.jupyter.widget-view+json": {
       "model_id": "",
       "version_major": 2,
       "version_minor": 0
      },
      "text/plain": [
       "  0%|          | 0/1 [00:00<?, ?it/s]"
      ]
     },
     "metadata": {},
     "output_type": "display_data"
    },
    {
     "name": "stdout",
     "output_type": "stream",
     "text": [
      "RMSE using rc=6, n=9, l=4 : 1.012423 eV\n"
     ]
    },
    {
     "data": {
      "application/vnd.jupyter.widget-view+json": {
       "model_id": "",
       "version_major": 2,
       "version_minor": 0
      },
      "text/plain": [
       "  0%|          | 0/15 [00:00<?, ?it/s]"
      ]
     },
     "metadata": {},
     "output_type": "display_data"
    },
    {
     "data": {
      "application/vnd.jupyter.widget-view+json": {
       "model_id": "",
       "version_major": 2,
       "version_minor": 0
      },
      "text/plain": [
       "  0%|          | 0/1 [00:00<?, ?it/s]"
      ]
     },
     "metadata": {},
     "output_type": "display_data"
    },
    {
     "name": "stdout",
     "output_type": "stream",
     "text": [
      "RMSE using rc=6, n=9, l=6 : 1.000087 eV\n"
     ]
    },
    {
     "data": {
      "application/vnd.jupyter.widget-view+json": {
       "model_id": "",
       "version_major": 2,
       "version_minor": 0
      },
      "text/plain": [
       "  0%|          | 0/15 [00:00<?, ?it/s]"
      ]
     },
     "metadata": {},
     "output_type": "display_data"
    },
    {
     "data": {
      "application/vnd.jupyter.widget-view+json": {
       "model_id": "",
       "version_major": 2,
       "version_minor": 0
      },
      "text/plain": [
       "  0%|          | 0/1 [00:00<?, ?it/s]"
      ]
     },
     "metadata": {},
     "output_type": "display_data"
    },
    {
     "name": "stdout",
     "output_type": "stream",
     "text": [
      "RMSE using rc=6, n=9, l=8 : 0.985657 eV\n"
     ]
    },
    {
     "data": {
      "application/vnd.jupyter.widget-view+json": {
       "model_id": "",
       "version_major": 2,
       "version_minor": 0
      },
      "text/plain": [
       "  0%|          | 0/15 [00:00<?, ?it/s]"
      ]
     },
     "metadata": {},
     "output_type": "display_data"
    },
    {
     "data": {
      "application/vnd.jupyter.widget-view+json": {
       "model_id": "",
       "version_major": 2,
       "version_minor": 0
      },
      "text/plain": [
       "  0%|          | 0/1 [00:00<?, ?it/s]"
      ]
     },
     "metadata": {},
     "output_type": "display_data"
    },
    {
     "name": "stdout",
     "output_type": "stream",
     "text": [
      "RMSE using rc=6, n=12, l=4 : 1.007791 eV\n"
     ]
    },
    {
     "data": {
      "application/vnd.jupyter.widget-view+json": {
       "model_id": "",
       "version_major": 2,
       "version_minor": 0
      },
      "text/plain": [
       "  0%|          | 0/15 [00:00<?, ?it/s]"
      ]
     },
     "metadata": {},
     "output_type": "display_data"
    },
    {
     "data": {
      "application/vnd.jupyter.widget-view+json": {
       "model_id": "",
       "version_major": 2,
       "version_minor": 0
      },
      "text/plain": [
       "  0%|          | 0/1 [00:00<?, ?it/s]"
      ]
     },
     "metadata": {},
     "output_type": "display_data"
    },
    {
     "name": "stdout",
     "output_type": "stream",
     "text": [
      "RMSE using rc=6, n=12, l=6 : 0.994335 eV\n"
     ]
    },
    {
     "data": {
      "application/vnd.jupyter.widget-view+json": {
       "model_id": "",
       "version_major": 2,
       "version_minor": 0
      },
      "text/plain": [
       "  0%|          | 0/15 [00:00<?, ?it/s]"
      ]
     },
     "metadata": {},
     "output_type": "display_data"
    },
    {
     "data": {
      "application/vnd.jupyter.widget-view+json": {
       "model_id": "",
       "version_major": 2,
       "version_minor": 0
      },
      "text/plain": [
       "  0%|          | 0/1 [00:00<?, ?it/s]"
      ]
     },
     "metadata": {},
     "output_type": "display_data"
    },
    {
     "name": "stdout",
     "output_type": "stream",
     "text": [
      "RMSE using rc=6, n=12, l=8 : 0.978967 eV\n"
     ]
    },
    {
     "data": {
      "application/vnd.jupyter.widget-view+json": {
       "model_id": "",
       "version_major": 2,
       "version_minor": 0
      },
      "text/plain": [
       "  0%|          | 0/15 [00:00<?, ?it/s]"
      ]
     },
     "metadata": {},
     "output_type": "display_data"
    },
    {
     "data": {
      "application/vnd.jupyter.widget-view+json": {
       "model_id": "",
       "version_major": 2,
       "version_minor": 0
      },
      "text/plain": [
       "  0%|          | 0/1 [00:00<?, ?it/s]"
      ]
     },
     "metadata": {},
     "output_type": "display_data"
    },
    {
     "name": "stdout",
     "output_type": "stream",
     "text": [
      "RMSE using rc=8, n=6, l=4 : 1.065337 eV\n"
     ]
    },
    {
     "data": {
      "application/vnd.jupyter.widget-view+json": {
       "model_id": "",
       "version_major": 2,
       "version_minor": 0
      },
      "text/plain": [
       "  0%|          | 0/15 [00:00<?, ?it/s]"
      ]
     },
     "metadata": {},
     "output_type": "display_data"
    },
    {
     "data": {
      "application/vnd.jupyter.widget-view+json": {
       "model_id": "",
       "version_major": 2,
       "version_minor": 0
      },
      "text/plain": [
       "  0%|          | 0/1 [00:00<?, ?it/s]"
      ]
     },
     "metadata": {},
     "output_type": "display_data"
    },
    {
     "name": "stdout",
     "output_type": "stream",
     "text": [
      "RMSE using rc=8, n=6, l=6 : 1.048606 eV\n"
     ]
    },
    {
     "data": {
      "application/vnd.jupyter.widget-view+json": {
       "model_id": "",
       "version_major": 2,
       "version_minor": 0
      },
      "text/plain": [
       "  0%|          | 0/15 [00:00<?, ?it/s]"
      ]
     },
     "metadata": {},
     "output_type": "display_data"
    },
    {
     "data": {
      "application/vnd.jupyter.widget-view+json": {
       "model_id": "",
       "version_major": 2,
       "version_minor": 0
      },
      "text/plain": [
       "  0%|          | 0/1 [00:00<?, ?it/s]"
      ]
     },
     "metadata": {},
     "output_type": "display_data"
    },
    {
     "name": "stdout",
     "output_type": "stream",
     "text": [
      "RMSE using rc=8, n=6, l=8 : 1.032453 eV\n"
     ]
    },
    {
     "data": {
      "application/vnd.jupyter.widget-view+json": {
       "model_id": "",
       "version_major": 2,
       "version_minor": 0
      },
      "text/plain": [
       "  0%|          | 0/15 [00:00<?, ?it/s]"
      ]
     },
     "metadata": {},
     "output_type": "display_data"
    },
    {
     "data": {
      "application/vnd.jupyter.widget-view+json": {
       "model_id": "",
       "version_major": 2,
       "version_minor": 0
      },
      "text/plain": [
       "  0%|          | 0/1 [00:00<?, ?it/s]"
      ]
     },
     "metadata": {},
     "output_type": "display_data"
    },
    {
     "name": "stdout",
     "output_type": "stream",
     "text": [
      "RMSE using rc=8, n=9, l=4 : 1.013074 eV\n"
     ]
    },
    {
     "data": {
      "application/vnd.jupyter.widget-view+json": {
       "model_id": "",
       "version_major": 2,
       "version_minor": 0
      },
      "text/plain": [
       "  0%|          | 0/15 [00:00<?, ?it/s]"
      ]
     },
     "metadata": {},
     "output_type": "display_data"
    },
    {
     "data": {
      "application/vnd.jupyter.widget-view+json": {
       "model_id": "",
       "version_major": 2,
       "version_minor": 0
      },
      "text/plain": [
       "  0%|          | 0/1 [00:00<?, ?it/s]"
      ]
     },
     "metadata": {},
     "output_type": "display_data"
    },
    {
     "name": "stdout",
     "output_type": "stream",
     "text": [
      "RMSE using rc=8, n=9, l=6 : 0.991521 eV\n"
     ]
    },
    {
     "data": {
      "application/vnd.jupyter.widget-view+json": {
       "model_id": "",
       "version_major": 2,
       "version_minor": 0
      },
      "text/plain": [
       "  0%|          | 0/15 [00:00<?, ?it/s]"
      ]
     },
     "metadata": {},
     "output_type": "display_data"
    },
    {
     "data": {
      "application/vnd.jupyter.widget-view+json": {
       "model_id": "",
       "version_major": 2,
       "version_minor": 0
      },
      "text/plain": [
       "  0%|          | 0/1 [00:00<?, ?it/s]"
      ]
     },
     "metadata": {},
     "output_type": "display_data"
    },
    {
     "name": "stdout",
     "output_type": "stream",
     "text": [
      "RMSE using rc=8, n=9, l=8 : 0.96705 eV\n"
     ]
    },
    {
     "data": {
      "application/vnd.jupyter.widget-view+json": {
       "model_id": "",
       "version_major": 2,
       "version_minor": 0
      },
      "text/plain": [
       "  0%|          | 0/15 [00:00<?, ?it/s]"
      ]
     },
     "metadata": {},
     "output_type": "display_data"
    },
    {
     "data": {
      "application/vnd.jupyter.widget-view+json": {
       "model_id": "",
       "version_major": 2,
       "version_minor": 0
      },
      "text/plain": [
       "  0%|          | 0/1 [00:00<?, ?it/s]"
      ]
     },
     "metadata": {},
     "output_type": "display_data"
    },
    {
     "name": "stdout",
     "output_type": "stream",
     "text": [
      "RMSE using rc=8, n=12, l=4 : 0.993759 eV\n"
     ]
    },
    {
     "data": {
      "application/vnd.jupyter.widget-view+json": {
       "model_id": "",
       "version_major": 2,
       "version_minor": 0
      },
      "text/plain": [
       "  0%|          | 0/15 [00:00<?, ?it/s]"
      ]
     },
     "metadata": {},
     "output_type": "display_data"
    },
    {
     "data": {
      "application/vnd.jupyter.widget-view+json": {
       "model_id": "",
       "version_major": 2,
       "version_minor": 0
      },
      "text/plain": [
       "  0%|          | 0/1 [00:00<?, ?it/s]"
      ]
     },
     "metadata": {},
     "output_type": "display_data"
    },
    {
     "name": "stdout",
     "output_type": "stream",
     "text": [
      "RMSE using rc=8, n=12, l=6 : 0.977424 eV\n"
     ]
    },
    {
     "data": {
      "application/vnd.jupyter.widget-view+json": {
       "model_id": "",
       "version_major": 2,
       "version_minor": 0
      },
      "text/plain": [
       "  0%|          | 0/15 [00:00<?, ?it/s]"
      ]
     },
     "metadata": {},
     "output_type": "display_data"
    },
    {
     "data": {
      "application/vnd.jupyter.widget-view+json": {
       "model_id": "",
       "version_major": 2,
       "version_minor": 0
      },
      "text/plain": [
       "  0%|          | 0/1 [00:00<?, ?it/s]"
      ]
     },
     "metadata": {},
     "output_type": "display_data"
    },
    {
     "name": "stdout",
     "output_type": "stream",
     "text": [
      "RMSE using rc=8, n=12, l=8 : 0.961028 eV\n"
     ]
    }
   ],
   "source": [
    "#Small loop for SOAP hypers optimisation\n",
    "for rc in [4,6,8]:\n",
    "    for n in [6,9,12]:\n",
    "        for l in [4,6,8]:\n",
    "            hypers['interaction_cutoff'] = rc\n",
    "            hypers['max_radial'] = n\n",
    "            hypers['max_angular'] = l\n",
    "            soap=SphericalInvariants(**hypers)\n",
    "            \n",
    "            feats_t = get_features(train_frames[:10000], batch_size=250)\n",
    "            feats_v = get_features(val_frames, batch_size=250)\n",
    "            \n",
    "            model = Ridge(fit_intercept=False, alpha=1e-4)\n",
    "            model.fit(feats_t, y_small[:3750])\n",
    "            \n",
    "            predictions = model.predict(feats_v)\n",
    "            errors = predictions - y_small[3750:]\n",
    "            rmse = np.sqrt(np.mean(np.abs(errors)))\n",
    "            \n",
    "            print(f\"RMSE using rc={rc}, n={n}, l={l} : {np.round(rmse, 6)} eV\")"
   ]
  },
  {
   "cell_type": "code",
   "execution_count": 33,
   "id": "2bc91ae7",
   "metadata": {},
   "outputs": [
    {
     "data": {
      "application/vnd.jupyter.widget-view+json": {
       "model_id": "",
       "version_major": 2,
       "version_minor": 0
      },
      "text/plain": [
       "  0%|          | 0/40 [00:00<?, ?it/s]"
      ]
     },
     "metadata": {},
     "output_type": "display_data"
    },
    {
     "data": {
      "application/vnd.jupyter.widget-view+json": {
       "model_id": "",
       "version_major": 2,
       "version_minor": 0
      },
      "text/plain": [
       "  0%|          | 0/4 [00:00<?, ?it/s]"
      ]
     },
     "metadata": {},
     "output_type": "display_data"
    },
    {
     "name": "stdout",
     "output_type": "stream",
     "text": [
      "Results using rc=4.0, n=6, l=4, zeta=3.0, minreg=1e-05:\n",
      "Error = 0.003336002785217394 eV/atom\n",
      "Time taken:  81.88889241218567\n",
      "---------------------------------------------------------------------------------\n"
     ]
    },
    {
     "data": {
      "application/vnd.jupyter.widget-view+json": {
       "model_id": "",
       "version_major": 2,
       "version_minor": 0
      },
      "text/plain": [
       "  0%|          | 0/40 [00:00<?, ?it/s]"
      ]
     },
     "metadata": {},
     "output_type": "display_data"
    },
    {
     "data": {
      "application/vnd.jupyter.widget-view+json": {
       "model_id": "",
       "version_major": 2,
       "version_minor": 0
      },
      "text/plain": [
       "  0%|          | 0/4 [00:00<?, ?it/s]"
      ]
     },
     "metadata": {},
     "output_type": "display_data"
    },
    {
     "name": "stdout",
     "output_type": "stream",
     "text": [
      "Results using rc=4.0, n=6, l=6, zeta=3.0, minreg=1e-05:\n",
      "Error = 0.003309462061763038 eV/atom\n",
      "Time taken:  99.24900221824646\n",
      "---------------------------------------------------------------------------------\n"
     ]
    },
    {
     "data": {
      "application/vnd.jupyter.widget-view+json": {
       "model_id": "",
       "version_major": 2,
       "version_minor": 0
      },
      "text/plain": [
       "  0%|          | 0/40 [00:00<?, ?it/s]"
      ]
     },
     "metadata": {},
     "output_type": "display_data"
    },
    {
     "data": {
      "application/vnd.jupyter.widget-view+json": {
       "model_id": "",
       "version_major": 2,
       "version_minor": 0
      },
      "text/plain": [
       "  0%|          | 0/4 [00:00<?, ?it/s]"
      ]
     },
     "metadata": {},
     "output_type": "display_data"
    },
    {
     "name": "stdout",
     "output_type": "stream",
     "text": [
      "Results using rc=4.0, n=6, l=8, zeta=3.0, minreg=1e-05:\n",
      "Error = 0.0032783918274639783 eV/atom\n",
      "Time taken:  121.45538020133972\n",
      "---------------------------------------------------------------------------------\n"
     ]
    },
    {
     "data": {
      "application/vnd.jupyter.widget-view+json": {
       "model_id": "",
       "version_major": 2,
       "version_minor": 0
      },
      "text/plain": [
       "  0%|          | 0/40 [00:00<?, ?it/s]"
      ]
     },
     "metadata": {},
     "output_type": "display_data"
    },
    {
     "data": {
      "application/vnd.jupyter.widget-view+json": {
       "model_id": "",
       "version_major": 2,
       "version_minor": 0
      },
      "text/plain": [
       "  0%|          | 0/4 [00:00<?, ?it/s]"
      ]
     },
     "metadata": {},
     "output_type": "display_data"
    },
    {
     "name": "stdout",
     "output_type": "stream",
     "text": [
      "Results using rc=4.0, n=9, l=4, zeta=3.0, minreg=1e-05:\n",
      "Error = 0.0032924446824565655 eV/atom\n",
      "Time taken:  105.38145017623901\n",
      "---------------------------------------------------------------------------------\n"
     ]
    },
    {
     "data": {
      "application/vnd.jupyter.widget-view+json": {
       "model_id": "",
       "version_major": 2,
       "version_minor": 0
      },
      "text/plain": [
       "  0%|          | 0/40 [00:00<?, ?it/s]"
      ]
     },
     "metadata": {},
     "output_type": "display_data"
    },
    {
     "data": {
      "application/vnd.jupyter.widget-view+json": {
       "model_id": "",
       "version_major": 2,
       "version_minor": 0
      },
      "text/plain": [
       "  0%|          | 0/4 [00:00<?, ?it/s]"
      ]
     },
     "metadata": {},
     "output_type": "display_data"
    },
    {
     "name": "stdout",
     "output_type": "stream",
     "text": [
      "Results using rc=4.0, n=9, l=6, zeta=3.0, minreg=1e-05:\n",
      "Error = 0.0032649808755064024 eV/atom\n",
      "Time taken:  143.81601977348328\n",
      "---------------------------------------------------------------------------------\n"
     ]
    },
    {
     "data": {
      "application/vnd.jupyter.widget-view+json": {
       "model_id": "",
       "version_major": 2,
       "version_minor": 0
      },
      "text/plain": [
       "  0%|          | 0/40 [00:00<?, ?it/s]"
      ]
     },
     "metadata": {},
     "output_type": "display_data"
    },
    {
     "data": {
      "application/vnd.jupyter.widget-view+json": {
       "model_id": "",
       "version_major": 2,
       "version_minor": 0
      },
      "text/plain": [
       "  0%|          | 0/4 [00:00<?, ?it/s]"
      ]
     },
     "metadata": {},
     "output_type": "display_data"
    },
    {
     "name": "stdout",
     "output_type": "stream",
     "text": [
      "Results using rc=4.0, n=9, l=8, zeta=3.0, minreg=1e-05:\n",
      "Error = 0.0032512236768953103 eV/atom\n",
      "Time taken:  184.834636926651\n",
      "---------------------------------------------------------------------------------\n"
     ]
    },
    {
     "data": {
      "application/vnd.jupyter.widget-view+json": {
       "model_id": "",
       "version_major": 2,
       "version_minor": 0
      },
      "text/plain": [
       "  0%|          | 0/40 [00:00<?, ?it/s]"
      ]
     },
     "metadata": {},
     "output_type": "display_data"
    },
    {
     "data": {
      "application/vnd.jupyter.widget-view+json": {
       "model_id": "",
       "version_major": 2,
       "version_minor": 0
      },
      "text/plain": [
       "  0%|          | 0/4 [00:00<?, ?it/s]"
      ]
     },
     "metadata": {},
     "output_type": "display_data"
    },
    {
     "name": "stdout",
     "output_type": "stream",
     "text": [
      "Results using rc=4.0, n=12, l=4, zeta=3.0, minreg=1e-05:\n",
      "Error = 0.0032930356919597618 eV/atom\n",
      "Time taken:  145.25313425064087\n",
      "---------------------------------------------------------------------------------\n"
     ]
    },
    {
     "data": {
      "application/vnd.jupyter.widget-view+json": {
       "model_id": "",
       "version_major": 2,
       "version_minor": 0
      },
      "text/plain": [
       "  0%|          | 0/40 [00:00<?, ?it/s]"
      ]
     },
     "metadata": {},
     "output_type": "display_data"
    },
    {
     "data": {
      "application/vnd.jupyter.widget-view+json": {
       "model_id": "",
       "version_major": 2,
       "version_minor": 0
      },
      "text/plain": [
       "  0%|          | 0/4 [00:00<?, ?it/s]"
      ]
     },
     "metadata": {},
     "output_type": "display_data"
    },
    {
     "name": "stdout",
     "output_type": "stream",
     "text": [
      "Results using rc=4.0, n=12, l=6, zeta=3.0, minreg=1e-05:\n",
      "Error = 0.0032722603862221813 eV/atom\n",
      "Time taken:  198.4149661064148\n",
      "---------------------------------------------------------------------------------\n"
     ]
    },
    {
     "data": {
      "application/vnd.jupyter.widget-view+json": {
       "model_id": "",
       "version_major": 2,
       "version_minor": 0
      },
      "text/plain": [
       "  0%|          | 0/40 [00:00<?, ?it/s]"
      ]
     },
     "metadata": {},
     "output_type": "display_data"
    },
    {
     "data": {
      "application/vnd.jupyter.widget-view+json": {
       "model_id": "",
       "version_major": 2,
       "version_minor": 0
      },
      "text/plain": [
       "  0%|          | 0/4 [00:00<?, ?it/s]"
      ]
     },
     "metadata": {},
     "output_type": "display_data"
    },
    {
     "name": "stdout",
     "output_type": "stream",
     "text": [
      "Results using rc=4.0, n=12, l=8, zeta=3.0, minreg=1e-05:\n",
      "Error = 0.0032584151023967835 eV/atom\n",
      "Time taken:  260.11613631248474\n",
      "---------------------------------------------------------------------------------\n"
     ]
    },
    {
     "data": {
      "application/vnd.jupyter.widget-view+json": {
       "model_id": "",
       "version_major": 2,
       "version_minor": 0
      },
      "text/plain": [
       "  0%|          | 0/40 [00:00<?, ?it/s]"
      ]
     },
     "metadata": {},
     "output_type": "display_data"
    },
    {
     "data": {
      "application/vnd.jupyter.widget-view+json": {
       "model_id": "",
       "version_major": 2,
       "version_minor": 0
      },
      "text/plain": [
       "  0%|          | 0/4 [00:00<?, ?it/s]"
      ]
     },
     "metadata": {},
     "output_type": "display_data"
    },
    {
     "name": "stdout",
     "output_type": "stream",
     "text": [
      "Results using rc=6.0, n=6, l=4, zeta=3.0, minreg=1e-05:\n",
      "Error = 0.0032617533834723555 eV/atom\n",
      "Time taken:  134.26059556007385\n",
      "---------------------------------------------------------------------------------\n"
     ]
    },
    {
     "data": {
      "application/vnd.jupyter.widget-view+json": {
       "model_id": "",
       "version_major": 2,
       "version_minor": 0
      },
      "text/plain": [
       "  0%|          | 0/40 [00:00<?, ?it/s]"
      ]
     },
     "metadata": {},
     "output_type": "display_data"
    },
    {
     "data": {
      "application/vnd.jupyter.widget-view+json": {
       "model_id": "",
       "version_major": 2,
       "version_minor": 0
      },
      "text/plain": [
       "  0%|          | 0/4 [00:00<?, ?it/s]"
      ]
     },
     "metadata": {},
     "output_type": "display_data"
    },
    {
     "name": "stdout",
     "output_type": "stream",
     "text": [
      "Results using rc=6.0, n=6, l=6, zeta=3.0, minreg=1e-05:\n",
      "Error = 0.003215413070008251 eV/atom\n",
      "Time taken:  174.0540931224823\n",
      "---------------------------------------------------------------------------------\n"
     ]
    },
    {
     "data": {
      "application/vnd.jupyter.widget-view+json": {
       "model_id": "",
       "version_major": 2,
       "version_minor": 0
      },
      "text/plain": [
       "  0%|          | 0/40 [00:00<?, ?it/s]"
      ]
     },
     "metadata": {},
     "output_type": "display_data"
    },
    {
     "data": {
      "application/vnd.jupyter.widget-view+json": {
       "model_id": "",
       "version_major": 2,
       "version_minor": 0
      },
      "text/plain": [
       "  0%|          | 0/4 [00:00<?, ?it/s]"
      ]
     },
     "metadata": {},
     "output_type": "display_data"
    },
    {
     "name": "stdout",
     "output_type": "stream",
     "text": [
      "Results using rc=6.0, n=6, l=8, zeta=3.0, minreg=1e-05:\n",
      "Error = 0.003210622761523323 eV/atom\n",
      "Time taken:  223.2677764892578\n",
      "---------------------------------------------------------------------------------\n"
     ]
    },
    {
     "data": {
      "application/vnd.jupyter.widget-view+json": {
       "model_id": "",
       "version_major": 2,
       "version_minor": 0
      },
      "text/plain": [
       "  0%|          | 0/40 [00:00<?, ?it/s]"
      ]
     },
     "metadata": {},
     "output_type": "display_data"
    },
    {
     "data": {
      "application/vnd.jupyter.widget-view+json": {
       "model_id": "",
       "version_major": 2,
       "version_minor": 0
      },
      "text/plain": [
       "  0%|          | 0/4 [00:00<?, ?it/s]"
      ]
     },
     "metadata": {},
     "output_type": "display_data"
    },
    {
     "name": "stdout",
     "output_type": "stream",
     "text": [
      "Results using rc=6.0, n=9, l=4, zeta=3.0, minreg=1e-05:\n",
      "Error = 0.003140881433231713 eV/atom\n",
      "Time taken:  165.3098120689392\n",
      "---------------------------------------------------------------------------------\n"
     ]
    },
    {
     "data": {
      "application/vnd.jupyter.widget-view+json": {
       "model_id": "",
       "version_major": 2,
       "version_minor": 0
      },
      "text/plain": [
       "  0%|          | 0/40 [00:00<?, ?it/s]"
      ]
     },
     "metadata": {},
     "output_type": "display_data"
    },
    {
     "data": {
      "application/vnd.jupyter.widget-view+json": {
       "model_id": "",
       "version_major": 2,
       "version_minor": 0
      },
      "text/plain": [
       "  0%|          | 0/4 [00:00<?, ?it/s]"
      ]
     },
     "metadata": {},
     "output_type": "display_data"
    },
    {
     "name": "stdout",
     "output_type": "stream",
     "text": [
      "Results using rc=6.0, n=9, l=6, zeta=3.0, minreg=1e-05:\n",
      "Error = 0.003066097290216129 eV/atom\n",
      "Time taken:  234.3080632686615\n",
      "---------------------------------------------------------------------------------\n"
     ]
    },
    {
     "data": {
      "application/vnd.jupyter.widget-view+json": {
       "model_id": "",
       "version_major": 2,
       "version_minor": 0
      },
      "text/plain": [
       "  0%|          | 0/40 [00:00<?, ?it/s]"
      ]
     },
     "metadata": {},
     "output_type": "display_data"
    },
    {
     "data": {
      "application/vnd.jupyter.widget-view+json": {
       "model_id": "",
       "version_major": 2,
       "version_minor": 0
      },
      "text/plain": [
       "  0%|          | 0/4 [00:00<?, ?it/s]"
      ]
     },
     "metadata": {},
     "output_type": "display_data"
    },
    {
     "name": "stdout",
     "output_type": "stream",
     "text": [
      "Results using rc=6.0, n=9, l=8, zeta=3.0, minreg=1e-05:\n",
      "Error = 0.003024141312240806 eV/atom\n",
      "Time taken:  316.5952978134155\n",
      "---------------------------------------------------------------------------------\n"
     ]
    },
    {
     "data": {
      "application/vnd.jupyter.widget-view+json": {
       "model_id": "",
       "version_major": 2,
       "version_minor": 0
      },
      "text/plain": [
       "  0%|          | 0/40 [00:00<?, ?it/s]"
      ]
     },
     "metadata": {},
     "output_type": "display_data"
    },
    {
     "data": {
      "application/vnd.jupyter.widget-view+json": {
       "model_id": "",
       "version_major": 2,
       "version_minor": 0
      },
      "text/plain": [
       "  0%|          | 0/4 [00:00<?, ?it/s]"
      ]
     },
     "metadata": {},
     "output_type": "display_data"
    },
    {
     "name": "stdout",
     "output_type": "stream",
     "text": [
      "Results using rc=6.0, n=12, l=4, zeta=3.0, minreg=1e-05:\n",
      "Error = 0.003171357614468681 eV/atom\n",
      "Time taken:  209.14312887191772\n",
      "---------------------------------------------------------------------------------\n"
     ]
    },
    {
     "data": {
      "application/vnd.jupyter.widget-view+json": {
       "model_id": "",
       "version_major": 2,
       "version_minor": 0
      },
      "text/plain": [
       "  0%|          | 0/40 [00:00<?, ?it/s]"
      ]
     },
     "metadata": {},
     "output_type": "display_data"
    },
    {
     "data": {
      "application/vnd.jupyter.widget-view+json": {
       "model_id": "",
       "version_major": 2,
       "version_minor": 0
      },
      "text/plain": [
       "  0%|          | 0/4 [00:00<?, ?it/s]"
      ]
     },
     "metadata": {},
     "output_type": "display_data"
    },
    {
     "name": "stdout",
     "output_type": "stream",
     "text": [
      "Results using rc=6.0, n=12, l=6, zeta=3.0, minreg=1e-05:\n",
      "Error = 0.003110579247998621 eV/atom\n",
      "Time taken:  303.42199516296387\n",
      "---------------------------------------------------------------------------------\n"
     ]
    },
    {
     "data": {
      "application/vnd.jupyter.widget-view+json": {
       "model_id": "",
       "version_major": 2,
       "version_minor": 0
      },
      "text/plain": [
       "  0%|          | 0/40 [00:00<?, ?it/s]"
      ]
     },
     "metadata": {},
     "output_type": "display_data"
    },
    {
     "data": {
      "application/vnd.jupyter.widget-view+json": {
       "model_id": "",
       "version_major": 2,
       "version_minor": 0
      },
      "text/plain": [
       "  0%|          | 0/4 [00:00<?, ?it/s]"
      ]
     },
     "metadata": {},
     "output_type": "display_data"
    },
    {
     "name": "stdout",
     "output_type": "stream",
     "text": [
      "Results using rc=6.0, n=12, l=8, zeta=3.0, minreg=1e-05:\n",
      "Error = 0.0030911986715829935 eV/atom\n",
      "Time taken:  417.37284874916077\n",
      "---------------------------------------------------------------------------------\n"
     ]
    },
    {
     "data": {
      "application/vnd.jupyter.widget-view+json": {
       "model_id": "",
       "version_major": 2,
       "version_minor": 0
      },
      "text/plain": [
       "  0%|          | 0/40 [00:00<?, ?it/s]"
      ]
     },
     "metadata": {},
     "output_type": "display_data"
    },
    {
     "data": {
      "application/vnd.jupyter.widget-view+json": {
       "model_id": "",
       "version_major": 2,
       "version_minor": 0
      },
      "text/plain": [
       "  0%|          | 0/4 [00:00<?, ?it/s]"
      ]
     },
     "metadata": {},
     "output_type": "display_data"
    },
    {
     "name": "stdout",
     "output_type": "stream",
     "text": [
      "Results using rc=8.0, n=6, l=4, zeta=3.0, minreg=1e-05:\n",
      "Error = 0.003399377945394419 eV/atom\n",
      "Time taken:  237.00242948532104\n",
      "---------------------------------------------------------------------------------\n"
     ]
    },
    {
     "data": {
      "application/vnd.jupyter.widget-view+json": {
       "model_id": "",
       "version_major": 2,
       "version_minor": 0
      },
      "text/plain": [
       "  0%|          | 0/40 [00:00<?, ?it/s]"
      ]
     },
     "metadata": {},
     "output_type": "display_data"
    },
    {
     "data": {
      "application/vnd.jupyter.widget-view+json": {
       "model_id": "",
       "version_major": 2,
       "version_minor": 0
      },
      "text/plain": [
       "  0%|          | 0/4 [00:00<?, ?it/s]"
      ]
     },
     "metadata": {},
     "output_type": "display_data"
    },
    {
     "name": "stdout",
     "output_type": "stream",
     "text": [
      "Results using rc=8.0, n=6, l=6, zeta=3.0, minreg=1e-05:\n",
      "Error = 0.0033572883659647762 eV/atom\n",
      "Time taken:  318.25767993927\n",
      "---------------------------------------------------------------------------------\n"
     ]
    },
    {
     "data": {
      "application/vnd.jupyter.widget-view+json": {
       "model_id": "",
       "version_major": 2,
       "version_minor": 0
      },
      "text/plain": [
       "  0%|          | 0/40 [00:00<?, ?it/s]"
      ]
     },
     "metadata": {},
     "output_type": "display_data"
    },
    {
     "data": {
      "application/vnd.jupyter.widget-view+json": {
       "model_id": "",
       "version_major": 2,
       "version_minor": 0
      },
      "text/plain": [
       "  0%|          | 0/4 [00:00<?, ?it/s]"
      ]
     },
     "metadata": {},
     "output_type": "display_data"
    },
    {
     "name": "stdout",
     "output_type": "stream",
     "text": [
      "Results using rc=8.0, n=6, l=8, zeta=3.0, minreg=1e-05:\n",
      "Error = 0.0033466552653936645 eV/atom\n",
      "Time taken:  419.1527421474457\n",
      "---------------------------------------------------------------------------------\n"
     ]
    },
    {
     "data": {
      "application/vnd.jupyter.widget-view+json": {
       "model_id": "",
       "version_major": 2,
       "version_minor": 0
      },
      "text/plain": [
       "  0%|          | 0/40 [00:00<?, ?it/s]"
      ]
     },
     "metadata": {},
     "output_type": "display_data"
    },
    {
     "data": {
      "application/vnd.jupyter.widget-view+json": {
       "model_id": "",
       "version_major": 2,
       "version_minor": 0
      },
      "text/plain": [
       "  0%|          | 0/4 [00:00<?, ?it/s]"
      ]
     },
     "metadata": {},
     "output_type": "display_data"
    },
    {
     "name": "stdout",
     "output_type": "stream",
     "text": [
      "Results using rc=8.0, n=9, l=4, zeta=3.0, minreg=1e-05:\n",
      "Error = 0.003151610598964201 eV/atom\n",
      "Time taken:  279.24709582328796\n",
      "---------------------------------------------------------------------------------\n"
     ]
    },
    {
     "data": {
      "application/vnd.jupyter.widget-view+json": {
       "model_id": "",
       "version_major": 2,
       "version_minor": 0
      },
      "text/plain": [
       "  0%|          | 0/40 [00:00<?, ?it/s]"
      ]
     },
     "metadata": {},
     "output_type": "display_data"
    },
    {
     "data": {
      "application/vnd.jupyter.widget-view+json": {
       "model_id": "",
       "version_major": 2,
       "version_minor": 0
      },
      "text/plain": [
       "  0%|          | 0/4 [00:00<?, ?it/s]"
      ]
     },
     "metadata": {},
     "output_type": "display_data"
    },
    {
     "name": "stdout",
     "output_type": "stream",
     "text": [
      "Results using rc=8.0, n=9, l=6, zeta=3.0, minreg=1e-05:\n",
      "Error = 0.003099843288946592 eV/atom\n",
      "Time taken:  407.04337430000305\n",
      "---------------------------------------------------------------------------------\n"
     ]
    },
    {
     "data": {
      "application/vnd.jupyter.widget-view+json": {
       "model_id": "",
       "version_major": 2,
       "version_minor": 0
      },
      "text/plain": [
       "  0%|          | 0/40 [00:00<?, ?it/s]"
      ]
     },
     "metadata": {},
     "output_type": "display_data"
    },
    {
     "data": {
      "application/vnd.jupyter.widget-view+json": {
       "model_id": "",
       "version_major": 2,
       "version_minor": 0
      },
      "text/plain": [
       "  0%|          | 0/4 [00:00<?, ?it/s]"
      ]
     },
     "metadata": {},
     "output_type": "display_data"
    },
    {
     "name": "stdout",
     "output_type": "stream",
     "text": [
      "Results using rc=8.0, n=9, l=8, zeta=3.0, minreg=1e-05:\n",
      "Error = 0.003078392411355435 eV/atom\n",
      "Time taken:  572.6248948574066\n",
      "---------------------------------------------------------------------------------\n"
     ]
    },
    {
     "data": {
      "application/vnd.jupyter.widget-view+json": {
       "model_id": "",
       "version_major": 2,
       "version_minor": 0
      },
      "text/plain": [
       "  0%|          | 0/40 [00:00<?, ?it/s]"
      ]
     },
     "metadata": {},
     "output_type": "display_data"
    },
    {
     "data": {
      "application/vnd.jupyter.widget-view+json": {
       "model_id": "",
       "version_major": 2,
       "version_minor": 0
      },
      "text/plain": [
       "  0%|          | 0/4 [00:00<?, ?it/s]"
      ]
     },
     "metadata": {},
     "output_type": "display_data"
    },
    {
     "name": "stdout",
     "output_type": "stream",
     "text": [
      "Results using rc=8.0, n=12, l=4, zeta=3.0, minreg=1e-05:\n",
      "Error = 0.0031401645944787475 eV/atom\n",
      "Time taken:  332.01562762260437\n",
      "---------------------------------------------------------------------------------\n"
     ]
    },
    {
     "data": {
      "application/vnd.jupyter.widget-view+json": {
       "model_id": "",
       "version_major": 2,
       "version_minor": 0
      },
      "text/plain": [
       "  0%|          | 0/40 [00:00<?, ?it/s]"
      ]
     },
     "metadata": {},
     "output_type": "display_data"
    },
    {
     "data": {
      "application/vnd.jupyter.widget-view+json": {
       "model_id": "",
       "version_major": 2,
       "version_minor": 0
      },
      "text/plain": [
       "  0%|          | 0/4 [00:00<?, ?it/s]"
      ]
     },
     "metadata": {},
     "output_type": "display_data"
    },
    {
     "name": "stdout",
     "output_type": "stream",
     "text": [
      "Results using rc=8.0, n=12, l=6, zeta=3.0, minreg=1e-05:\n",
      "Error = 0.003049739647829518 eV/atom\n",
      "Time taken:  504.2500720024109\n",
      "---------------------------------------------------------------------------------\n"
     ]
    },
    {
     "data": {
      "application/vnd.jupyter.widget-view+json": {
       "model_id": "",
       "version_major": 2,
       "version_minor": 0
      },
      "text/plain": [
       "  0%|          | 0/40 [00:00<?, ?it/s]"
      ]
     },
     "metadata": {},
     "output_type": "display_data"
    },
    {
     "data": {
      "application/vnd.jupyter.widget-view+json": {
       "model_id": "",
       "version_major": 2,
       "version_minor": 0
      },
      "text/plain": [
       "  0%|          | 0/4 [00:00<?, ?it/s]"
      ]
     },
     "metadata": {},
     "output_type": "display_data"
    },
    {
     "name": "stdout",
     "output_type": "stream",
     "text": [
      "Results using rc=8.0, n=12, l=8, zeta=3.0, minreg=1e-05:\n",
      "Error = 0.0030186421370690794 eV/atom\n",
      "Time taken:  719.6348259449005\n",
      "---------------------------------------------------------------------------------\n"
     ]
    }
   ],
   "source": [
    "#Loop for soap hyperparameter optimisation\n",
    "n_train = 10000\n",
    "\n",
    "results=[]\n",
    "count=0; \n",
    "#Iterate over interaction cuttoff\n",
    "\n",
    "for rc in [4.,6.,8.]:\n",
    "    hypers['interaction_cutoff']=rc\n",
    "    \n",
    "    #Iterate over scale\n",
    "    for n in [6,9,12]:\n",
    "        hypers['max_radial'] = n\n",
    "        \n",
    "        #Iterate over exponent\n",
    "        for l in [4,6,8]:\n",
    "            start = time()\n",
    "            hypers['max_angular'] = l\n",
    "            soap = SphericalInvariants(**hypers) #redefine soap with new parameters\n",
    "            #print(\"Iteration: \", count+1, \"/ 36\") #keep count of iteration\n",
    "            train_feat=get_features(train_frames[:n_train], batch_size=250) #get features for training set\n",
    "            val_feat=get_features(val_frames, batch_size=250) #get features for validation set\n",
    "            count+=1\n",
    "            \n",
    "            #Normalise feature vectors\n",
    "            for feat in train_feat:\n",
    "                feat/=np.linalg.norm(feat)\n",
    "            for feat in val_feat:\n",
    "                feat/=np.linalg.norm(feat)\n",
    "\n",
    "            #Iterate over zeta values\n",
    "            for zeta in [2.,3.]:\n",
    "                K = np.dot(train_feat,train_feat.T)**zeta #compute covariance matrix for training\n",
    "                Kval = np.dot(val_feat,train_feat.T)**zeta #compute covariance matrix for validation\n",
    "\n",
    "                #Iterate over regularization values\n",
    "                minerr = 1e24 ; minreg = 0\n",
    "                for reg in np.logspace(-9,-5,5):\n",
    "                    KRR = KernelRidge(kernel='precomputed',alpha = reg)\n",
    "                    KRR.fit(K,yred_train[:n_train])\n",
    "                    err = np.std(yred_val - KRR.predict(Kval))\n",
    "                    if err < minerr:\n",
    "                        minerr = err.copy()\n",
    "                        minreg = reg.copy()\n",
    "                results.append([minerr, rc, n, l, zeta, minreg])\n",
    "            print(f\"Results using rc={rc}, n={n}, l={l}, zeta={zeta}, minreg={minreg}:\")\n",
    "            print(f\"Error = {minerr} eV/atom\")\n",
    "            print('Time taken: ',time()-start)\n",
    "            print(\"---------------------------------------------------------------------------------\")"
   ]
  },
  {
   "cell_type": "code",
   "execution_count": 34,
   "id": "4b8a1794",
   "metadata": {},
   "outputs": [
    {
     "data": {
      "text/plain": [
       "array([[3.01864214e-03, 8.00000000e+00, 1.20000000e+01, 8.00000000e+00,\n",
       "        3.00000000e+00, 1.00000000e-05]])"
      ]
     },
     "execution_count": 34,
     "metadata": {},
     "output_type": "execute_result"
    }
   ],
   "source": [
    "np.save('delta_data/hyperparam_optimisation_results', np.asarray(results))\n",
    "\n",
    "hyperopt=np.load('delta_data/hyperparam_optimisation_results.npy')\n",
    "\n",
    "# Find optimal hyperparameters, which correspond to the lowest error\n",
    "hyperopt[np.where(hyperopt==np.amin(hyperopt, axis=0)[0])[0]]"
   ]
  },
  {
   "cell_type": "code",
   "execution_count": 37,
   "id": "4f30464f",
   "metadata": {},
   "outputs": [
    {
     "data": {
      "application/vnd.jupyter.widget-view+json": {
       "model_id": "",
       "version_major": 2,
       "version_minor": 0
      },
      "text/plain": [
       "  0%|          | 0/40 [00:00<?, ?it/s]"
      ]
     },
     "metadata": {},
     "output_type": "display_data"
    },
    {
     "data": {
      "application/vnd.jupyter.widget-view+json": {
       "model_id": "",
       "version_major": 2,
       "version_minor": 0
      },
      "text/plain": [
       "  0%|          | 0/4 [00:00<?, ?it/s]"
      ]
     },
     "metadata": {},
     "output_type": "display_data"
    },
    {
     "name": "stdout",
     "output_type": "stream",
     "text": [
      "Results using rc=4.0, n=6, l=4, gauss=0.2, zeta=2.0, minreg=1e-06:\n",
      "Error = 0.003728977991732251 eV/atom\n",
      "Time taken:  63.87083435058594\n",
      "---------------------------------------------------------------------------------\n",
      "Results using rc=4.0, n=6, l=4, gauss=0.2, zeta=3.0, minreg=1e-06:\n",
      "Error = 0.003576528211944912 eV/atom\n",
      "Time taken:  80.55424070358276\n",
      "---------------------------------------------------------------------------------\n"
     ]
    },
    {
     "data": {
      "application/vnd.jupyter.widget-view+json": {
       "model_id": "",
       "version_major": 2,
       "version_minor": 0
      },
      "text/plain": [
       "  0%|          | 0/40 [00:00<?, ?it/s]"
      ]
     },
     "metadata": {},
     "output_type": "display_data"
    },
    {
     "data": {
      "application/vnd.jupyter.widget-view+json": {
       "model_id": "",
       "version_major": 2,
       "version_minor": 0
      },
      "text/plain": [
       "  0%|          | 0/4 [00:00<?, ?it/s]"
      ]
     },
     "metadata": {},
     "output_type": "display_data"
    },
    {
     "name": "stdout",
     "output_type": "stream",
     "text": [
      "Results using rc=4.0, n=6, l=4, gauss=0.3, zeta=2.0, minreg=1e-06:\n",
      "Error = 0.0036166181474782256 eV/atom\n",
      "Time taken:  63.87961030006409\n",
      "---------------------------------------------------------------------------------\n",
      "Results using rc=4.0, n=6, l=4, gauss=0.3, zeta=3.0, minreg=1e-05:\n",
      "Error = 0.0033889698697007952 eV/atom\n",
      "Time taken:  80.61461138725281\n",
      "---------------------------------------------------------------------------------\n"
     ]
    },
    {
     "data": {
      "application/vnd.jupyter.widget-view+json": {
       "model_id": "",
       "version_major": 2,
       "version_minor": 0
      },
      "text/plain": [
       "  0%|          | 0/40 [00:00<?, ?it/s]"
      ]
     },
     "metadata": {},
     "output_type": "display_data"
    },
    {
     "data": {
      "application/vnd.jupyter.widget-view+json": {
       "model_id": "",
       "version_major": 2,
       "version_minor": 0
      },
      "text/plain": [
       "  0%|          | 0/4 [00:00<?, ?it/s]"
      ]
     },
     "metadata": {},
     "output_type": "display_data"
    },
    {
     "name": "stdout",
     "output_type": "stream",
     "text": [
      "Results using rc=4.0, n=6, l=4, gauss=0.4, zeta=2.0, minreg=1e-05:\n",
      "Error = 0.003549099407193268 eV/atom\n",
      "Time taken:  64.32818365097046\n",
      "---------------------------------------------------------------------------------\n",
      "Results using rc=4.0, n=6, l=4, gauss=0.4, zeta=3.0, minreg=1e-05:\n",
      "Error = 0.003336002784868447 eV/atom\n",
      "Time taken:  82.16261625289917\n",
      "---------------------------------------------------------------------------------\n"
     ]
    },
    {
     "data": {
      "application/vnd.jupyter.widget-view+json": {
       "model_id": "",
       "version_major": 2,
       "version_minor": 0
      },
      "text/plain": [
       "  0%|          | 0/40 [00:00<?, ?it/s]"
      ]
     },
     "metadata": {},
     "output_type": "display_data"
    },
    {
     "data": {
      "application/vnd.jupyter.widget-view+json": {
       "model_id": "",
       "version_major": 2,
       "version_minor": 0
      },
      "text/plain": [
       "  0%|          | 0/4 [00:00<?, ?it/s]"
      ]
     },
     "metadata": {},
     "output_type": "display_data"
    },
    {
     "name": "stdout",
     "output_type": "stream",
     "text": [
      "Results using rc=4.0, n=6, l=4, gauss=0.5, zeta=2.0, minreg=1e-05:\n",
      "Error = 0.0037128894050290806 eV/atom\n",
      "Time taken:  64.00150656700134\n",
      "---------------------------------------------------------------------------------\n",
      "Results using rc=4.0, n=6, l=4, gauss=0.5, zeta=3.0, minreg=1e-05:\n",
      "Error = 0.0034275626045648694 eV/atom\n",
      "Time taken:  80.72156190872192\n",
      "---------------------------------------------------------------------------------\n"
     ]
    },
    {
     "data": {
      "application/vnd.jupyter.widget-view+json": {
       "model_id": "",
       "version_major": 2,
       "version_minor": 0
      },
      "text/plain": [
       "  0%|          | 0/40 [00:00<?, ?it/s]"
      ]
     },
     "metadata": {},
     "output_type": "display_data"
    },
    {
     "data": {
      "application/vnd.jupyter.widget-view+json": {
       "model_id": "",
       "version_major": 2,
       "version_minor": 0
      },
      "text/plain": [
       "  0%|          | 0/4 [00:00<?, ?it/s]"
      ]
     },
     "metadata": {},
     "output_type": "display_data"
    },
    {
     "name": "stdout",
     "output_type": "stream",
     "text": [
      "Results using rc=4.0, n=6, l=6, gauss=0.2, zeta=2.0, minreg=1e-06:\n",
      "Error = 0.0036976709914159508 eV/atom\n",
      "Time taken:  83.58781313896179\n",
      "---------------------------------------------------------------------------------\n",
      "Results using rc=4.0, n=6, l=6, gauss=0.2, zeta=3.0, minreg=1e-05:\n",
      "Error = 0.0035725852951190617 eV/atom\n",
      "Time taken:  100.76356601715088\n",
      "---------------------------------------------------------------------------------\n"
     ]
    },
    {
     "data": {
      "application/vnd.jupyter.widget-view+json": {
       "model_id": "0217108183284bce8e952225618f92f2",
       "version_major": 2,
       "version_minor": 0
      },
      "text/plain": [
       "  0%|          | 0/40 [00:00<?, ?it/s]"
      ]
     },
     "metadata": {},
     "output_type": "display_data"
    },
    {
     "data": {
      "application/vnd.jupyter.widget-view+json": {
       "model_id": "",
       "version_major": 2,
       "version_minor": 0
      },
      "text/plain": [
       "  0%|          | 0/4 [00:00<?, ?it/s]"
      ]
     },
     "metadata": {},
     "output_type": "display_data"
    },
    {
     "name": "stdout",
     "output_type": "stream",
     "text": [
      "Results using rc=4.0, n=6, l=6, gauss=0.4, zeta=2.0, minreg=1e-05:\n",
      "Error = 0.0034846661942808145 eV/atom\n",
      "Time taken:  84.05329918861389\n",
      "---------------------------------------------------------------------------------\n",
      "Results using rc=4.0, n=6, l=6, gauss=0.4, zeta=3.0, minreg=1e-05:\n",
      "Error = 0.003309462061908323 eV/atom\n",
      "Time taken:  101.18383646011353\n",
      "---------------------------------------------------------------------------------\n"
     ]
    },
    {
     "data": {
      "application/vnd.jupyter.widget-view+json": {
       "model_id": "",
       "version_major": 2,
       "version_minor": 0
      },
      "text/plain": [
       "  0%|          | 0/40 [00:00<?, ?it/s]"
      ]
     },
     "metadata": {},
     "output_type": "display_data"
    },
    {
     "data": {
      "application/vnd.jupyter.widget-view+json": {
       "model_id": "",
       "version_major": 2,
       "version_minor": 0
      },
      "text/plain": [
       "  0%|          | 0/4 [00:00<?, ?it/s]"
      ]
     },
     "metadata": {},
     "output_type": "display_data"
    },
    {
     "name": "stdout",
     "output_type": "stream",
     "text": [
      "Results using rc=4.0, n=6, l=6, gauss=0.5, zeta=2.0, minreg=1e-05:\n",
      "Error = 0.003658610418059853 eV/atom\n",
      "Time taken:  83.60352778434753\n",
      "---------------------------------------------------------------------------------\n",
      "Results using rc=4.0, n=6, l=6, gauss=0.5, zeta=3.0, minreg=1e-05:\n",
      "Error = 0.003412604069560694 eV/atom\n",
      "Time taken:  100.80333542823792\n",
      "---------------------------------------------------------------------------------\n"
     ]
    },
    {
     "data": {
      "application/vnd.jupyter.widget-view+json": {
       "model_id": "",
       "version_major": 2,
       "version_minor": 0
      },
      "text/plain": [
       "  0%|          | 0/40 [00:00<?, ?it/s]"
      ]
     },
     "metadata": {},
     "output_type": "display_data"
    },
    {
     "data": {
      "application/vnd.jupyter.widget-view+json": {
       "model_id": "",
       "version_major": 2,
       "version_minor": 0
      },
      "text/plain": [
       "  0%|          | 0/4 [00:00<?, ?it/s]"
      ]
     },
     "metadata": {},
     "output_type": "display_data"
    },
    {
     "name": "stdout",
     "output_type": "stream",
     "text": [
      "Results using rc=4.0, n=9, l=4, gauss=0.2, zeta=2.0, minreg=1e-06:\n",
      "Error = 0.003815873052860442 eV/atom\n",
      "Time taken:  87.32802510261536\n",
      "---------------------------------------------------------------------------------\n",
      "Results using rc=4.0, n=9, l=4, gauss=0.2, zeta=3.0, minreg=1e-05:\n",
      "Error = 0.0035562213182211526 eV/atom\n",
      "Time taken:  105.26402187347412\n",
      "---------------------------------------------------------------------------------\n"
     ]
    },
    {
     "data": {
      "application/vnd.jupyter.widget-view+json": {
       "model_id": "",
       "version_major": 2,
       "version_minor": 0
      },
      "text/plain": [
       "  0%|          | 0/40 [00:00<?, ?it/s]"
      ]
     },
     "metadata": {},
     "output_type": "display_data"
    },
    {
     "data": {
      "application/vnd.jupyter.widget-view+json": {
       "model_id": "",
       "version_major": 2,
       "version_minor": 0
      },
      "text/plain": [
       "  0%|          | 0/4 [00:00<?, ?it/s]"
      ]
     },
     "metadata": {},
     "output_type": "display_data"
    },
    {
     "name": "stdout",
     "output_type": "stream",
     "text": [
      "Results using rc=4.0, n=9, l=4, gauss=0.3, zeta=2.0, minreg=1e-05:\n",
      "Error = 0.003535903802687005 eV/atom\n",
      "Time taken:  87.23755931854248\n",
      "---------------------------------------------------------------------------------\n",
      "Results using rc=4.0, n=9, l=4, gauss=0.3, zeta=3.0, minreg=1e-05:\n",
      "Error = 0.0033029906099550366 eV/atom\n",
      "Time taken:  105.12631726264954\n",
      "---------------------------------------------------------------------------------\n"
     ]
    },
    {
     "data": {
      "application/vnd.jupyter.widget-view+json": {
       "model_id": "",
       "version_major": 2,
       "version_minor": 0
      },
      "text/plain": [
       "  0%|          | 0/40 [00:00<?, ?it/s]"
      ]
     },
     "metadata": {},
     "output_type": "display_data"
    },
    {
     "data": {
      "application/vnd.jupyter.widget-view+json": {
       "model_id": "",
       "version_major": 2,
       "version_minor": 0
      },
      "text/plain": [
       "  0%|          | 0/4 [00:00<?, ?it/s]"
      ]
     },
     "metadata": {},
     "output_type": "display_data"
    },
    {
     "name": "stdout",
     "output_type": "stream",
     "text": [
      "Results using rc=4.0, n=9, l=4, gauss=0.4, zeta=2.0, minreg=1e-05:\n",
      "Error = 0.0034650605592127636 eV/atom\n",
      "Time taken:  86.97673606872559\n",
      "---------------------------------------------------------------------------------\n",
      "Results using rc=4.0, n=9, l=4, gauss=0.4, zeta=3.0, minreg=1e-05:\n",
      "Error = 0.003292444682437117 eV/atom\n",
      "Time taken:  104.92616653442383\n",
      "---------------------------------------------------------------------------------\n"
     ]
    },
    {
     "data": {
      "application/vnd.jupyter.widget-view+json": {
       "model_id": "",
       "version_major": 2,
       "version_minor": 0
      },
      "text/plain": [
       "  0%|          | 0/40 [00:00<?, ?it/s]"
      ]
     },
     "metadata": {},
     "output_type": "display_data"
    },
    {
     "data": {
      "application/vnd.jupyter.widget-view+json": {
       "model_id": "",
       "version_major": 2,
       "version_minor": 0
      },
      "text/plain": [
       "  0%|          | 0/4 [00:00<?, ?it/s]"
      ]
     },
     "metadata": {},
     "output_type": "display_data"
    },
    {
     "name": "stdout",
     "output_type": "stream",
     "text": [
      "Results using rc=4.0, n=9, l=4, gauss=0.5, zeta=2.0, minreg=1e-05:\n",
      "Error = 0.00364215864163527 eV/atom\n",
      "Time taken:  87.0994029045105\n",
      "---------------------------------------------------------------------------------\n",
      "Results using rc=4.0, n=9, l=4, gauss=0.5, zeta=3.0, minreg=1e-05:\n",
      "Error = 0.003403551188596302 eV/atom\n",
      "Time taken:  105.03994250297546\n",
      "---------------------------------------------------------------------------------\n"
     ]
    },
    {
     "data": {
      "application/vnd.jupyter.widget-view+json": {
       "model_id": "",
       "version_major": 2,
       "version_minor": 0
      },
      "text/plain": [
       "  0%|          | 0/40 [00:00<?, ?it/s]"
      ]
     },
     "metadata": {},
     "output_type": "display_data"
    },
    {
     "data": {
      "application/vnd.jupyter.widget-view+json": {
       "model_id": "",
       "version_major": 2,
       "version_minor": 0
      },
      "text/plain": [
       "  0%|          | 0/4 [00:00<?, ?it/s]"
      ]
     },
     "metadata": {},
     "output_type": "display_data"
    },
    {
     "name": "stdout",
     "output_type": "stream",
     "text": [
      "Results using rc=4.0, n=9, l=6, gauss=0.2, zeta=2.0, minreg=1e-06:\n",
      "Error = 0.0037678140116025076 eV/atom\n",
      "Time taken:  125.46758389472961\n",
      "---------------------------------------------------------------------------------\n",
      "Results using rc=4.0, n=9, l=6, gauss=0.2, zeta=3.0, minreg=1e-05:\n",
      "Error = 0.003499873693294303 eV/atom\n",
      "Time taken:  144.21193408966064\n",
      "---------------------------------------------------------------------------------\n"
     ]
    },
    {
     "data": {
      "application/vnd.jupyter.widget-view+json": {
       "model_id": "",
       "version_major": 2,
       "version_minor": 0
      },
      "text/plain": [
       "  0%|          | 0/40 [00:00<?, ?it/s]"
      ]
     },
     "metadata": {},
     "output_type": "display_data"
    },
    {
     "data": {
      "application/vnd.jupyter.widget-view+json": {
       "model_id": "",
       "version_major": 2,
       "version_minor": 0
      },
      "text/plain": [
       "  0%|          | 0/4 [00:00<?, ?it/s]"
      ]
     },
     "metadata": {},
     "output_type": "display_data"
    },
    {
     "name": "stdout",
     "output_type": "stream",
     "text": [
      "Results using rc=4.0, n=9, l=6, gauss=0.3, zeta=2.0, minreg=1e-05:\n",
      "Error = 0.0034573842947204936 eV/atom\n",
      "Time taken:  125.05274844169617\n",
      "---------------------------------------------------------------------------------\n",
      "Results using rc=4.0, n=9, l=6, gauss=0.3, zeta=3.0, minreg=1e-05:\n",
      "Error = 0.0032609378688749843 eV/atom\n",
      "Time taken:  143.77879929542542\n",
      "---------------------------------------------------------------------------------\n"
     ]
    },
    {
     "data": {
      "application/vnd.jupyter.widget-view+json": {
       "model_id": "",
       "version_major": 2,
       "version_minor": 0
      },
      "text/plain": [
       "  0%|          | 0/40 [00:00<?, ?it/s]"
      ]
     },
     "metadata": {},
     "output_type": "display_data"
    },
    {
     "data": {
      "application/vnd.jupyter.widget-view+json": {
       "model_id": "",
       "version_major": 2,
       "version_minor": 0
      },
      "text/plain": [
       "  0%|          | 0/4 [00:00<?, ?it/s]"
      ]
     },
     "metadata": {},
     "output_type": "display_data"
    },
    {
     "name": "stdout",
     "output_type": "stream",
     "text": [
      "Results using rc=4.0, n=9, l=6, gauss=0.4, zeta=2.0, minreg=1e-05:\n",
      "Error = 0.0033996236782084187 eV/atom\n",
      "Time taken:  125.60542297363281\n",
      "---------------------------------------------------------------------------------\n",
      "Results using rc=4.0, n=9, l=6, gauss=0.4, zeta=3.0, minreg=1e-05:\n",
      "Error = 0.0032649808757396577 eV/atom\n",
      "Time taken:  144.4166488647461\n",
      "---------------------------------------------------------------------------------\n"
     ]
    },
    {
     "data": {
      "application/vnd.jupyter.widget-view+json": {
       "model_id": "",
       "version_major": 2,
       "version_minor": 0
      },
      "text/plain": [
       "  0%|          | 0/40 [00:00<?, ?it/s]"
      ]
     },
     "metadata": {},
     "output_type": "display_data"
    },
    {
     "data": {
      "application/vnd.jupyter.widget-view+json": {
       "model_id": "",
       "version_major": 2,
       "version_minor": 0
      },
      "text/plain": [
       "  0%|          | 0/4 [00:00<?, ?it/s]"
      ]
     },
     "metadata": {},
     "output_type": "display_data"
    },
    {
     "name": "stdout",
     "output_type": "stream",
     "text": [
      "Results using rc=4.0, n=9, l=6, gauss=0.5, zeta=2.0, minreg=1e-05:\n",
      "Error = 0.003580896273935685 eV/atom\n",
      "Time taken:  124.93761348724365\n",
      "---------------------------------------------------------------------------------\n",
      "Results using rc=4.0, n=9, l=6, gauss=0.5, zeta=3.0, minreg=1e-05:\n",
      "Error = 0.0033832598177934107 eV/atom\n",
      "Time taken:  143.74483132362366\n",
      "---------------------------------------------------------------------------------\n"
     ]
    },
    {
     "data": {
      "application/vnd.jupyter.widget-view+json": {
       "model_id": "",
       "version_major": 2,
       "version_minor": 0
      },
      "text/plain": [
       "  0%|          | 0/40 [00:00<?, ?it/s]"
      ]
     },
     "metadata": {},
     "output_type": "display_data"
    },
    {
     "data": {
      "application/vnd.jupyter.widget-view+json": {
       "model_id": "",
       "version_major": 2,
       "version_minor": 0
      },
      "text/plain": [
       "  0%|          | 0/4 [00:00<?, ?it/s]"
      ]
     },
     "metadata": {},
     "output_type": "display_data"
    },
    {
     "name": "stdout",
     "output_type": "stream",
     "text": [
      "Results using rc=6.0, n=6, l=4, gauss=0.2, zeta=2.0, minreg=1e-06:\n",
      "Error = 0.0034574663414286807 eV/atom\n",
      "Time taken:  116.72413444519043\n",
      "---------------------------------------------------------------------------------\n",
      "Results using rc=6.0, n=6, l=4, gauss=0.2, zeta=3.0, minreg=1e-05:\n",
      "Error = 0.0032649672184883595 eV/atom\n",
      "Time taken:  133.46645092964172\n",
      "---------------------------------------------------------------------------------\n"
     ]
    },
    {
     "data": {
      "application/vnd.jupyter.widget-view+json": {
       "model_id": "",
       "version_major": 2,
       "version_minor": 0
      },
      "text/plain": [
       "  0%|          | 0/40 [00:00<?, ?it/s]"
      ]
     },
     "metadata": {},
     "output_type": "display_data"
    },
    {
     "data": {
      "application/vnd.jupyter.widget-view+json": {
       "model_id": "",
       "version_major": 2,
       "version_minor": 0
      },
      "text/plain": [
       "  0%|          | 0/4 [00:00<?, ?it/s]"
      ]
     },
     "metadata": {},
     "output_type": "display_data"
    },
    {
     "name": "stdout",
     "output_type": "stream",
     "text": [
      "Results using rc=6.0, n=6, l=4, gauss=0.3, zeta=2.0, minreg=1e-05:\n",
      "Error = 0.003406373233342118 eV/atom\n",
      "Time taken:  117.00523805618286\n",
      "---------------------------------------------------------------------------------\n",
      "Results using rc=6.0, n=6, l=4, gauss=0.3, zeta=3.0, minreg=1e-05:\n",
      "Error = 0.003227737847416436 eV/atom\n",
      "Time taken:  133.80000710487366\n",
      "---------------------------------------------------------------------------------\n"
     ]
    },
    {
     "data": {
      "application/vnd.jupyter.widget-view+json": {
       "model_id": "",
       "version_major": 2,
       "version_minor": 0
      },
      "text/plain": [
       "  0%|          | 0/40 [00:00<?, ?it/s]"
      ]
     },
     "metadata": {},
     "output_type": "display_data"
    },
    {
     "data": {
      "application/vnd.jupyter.widget-view+json": {
       "model_id": "",
       "version_major": 2,
       "version_minor": 0
      },
      "text/plain": [
       "  0%|          | 0/4 [00:00<?, ?it/s]"
      ]
     },
     "metadata": {},
     "output_type": "display_data"
    },
    {
     "name": "stdout",
     "output_type": "stream",
     "text": [
      "Results using rc=6.0, n=6, l=4, gauss=0.4, zeta=2.0, minreg=1e-05:\n",
      "Error = 0.0034372034556241684 eV/atom\n",
      "Time taken:  117.32609033584595\n",
      "---------------------------------------------------------------------------------\n",
      "Results using rc=6.0, n=6, l=4, gauss=0.4, zeta=3.0, minreg=1e-05:\n",
      "Error = 0.0032617533833880453 eV/atom\n",
      "Time taken:  134.08903741836548\n",
      "---------------------------------------------------------------------------------\n"
     ]
    },
    {
     "data": {
      "application/vnd.jupyter.widget-view+json": {
       "model_id": "",
       "version_major": 2,
       "version_minor": 0
      },
      "text/plain": [
       "  0%|          | 0/40 [00:00<?, ?it/s]"
      ]
     },
     "metadata": {},
     "output_type": "display_data"
    },
    {
     "data": {
      "application/vnd.jupyter.widget-view+json": {
       "model_id": "",
       "version_major": 2,
       "version_minor": 0
      },
      "text/plain": [
       "  0%|          | 0/4 [00:00<?, ?it/s]"
      ]
     },
     "metadata": {},
     "output_type": "display_data"
    },
    {
     "name": "stdout",
     "output_type": "stream",
     "text": [
      "Results using rc=6.0, n=6, l=4, gauss=0.5, zeta=2.0, minreg=1e-06:\n",
      "Error = 0.0035585300086519653 eV/atom\n",
      "Time taken:  117.02691316604614\n",
      "---------------------------------------------------------------------------------\n",
      "Results using rc=6.0, n=6, l=4, gauss=0.5, zeta=3.0, minreg=1e-05:\n",
      "Error = 0.003352396382342394 eV/atom\n",
      "Time taken:  133.7808394432068\n",
      "---------------------------------------------------------------------------------\n"
     ]
    },
    {
     "data": {
      "application/vnd.jupyter.widget-view+json": {
       "model_id": "",
       "version_major": 2,
       "version_minor": 0
      },
      "text/plain": [
       "  0%|          | 0/40 [00:00<?, ?it/s]"
      ]
     },
     "metadata": {},
     "output_type": "display_data"
    },
    {
     "data": {
      "application/vnd.jupyter.widget-view+json": {
       "model_id": "",
       "version_major": 2,
       "version_minor": 0
      },
      "text/plain": [
       "  0%|          | 0/4 [00:00<?, ?it/s]"
      ]
     },
     "metadata": {},
     "output_type": "display_data"
    },
    {
     "name": "stdout",
     "output_type": "stream",
     "text": [
      "Results using rc=6.0, n=6, l=6, gauss=0.2, zeta=2.0, minreg=1e-05:\n",
      "Error = 0.00340793370117842 eV/atom\n",
      "Time taken:  158.044917345047\n",
      "---------------------------------------------------------------------------------\n",
      "Results using rc=6.0, n=6, l=6, gauss=0.2, zeta=3.0, minreg=1e-05:\n",
      "Error = 0.003263660118312655 eV/atom\n",
      "Time taken:  175.13648104667664\n",
      "---------------------------------------------------------------------------------\n"
     ]
    },
    {
     "data": {
      "application/vnd.jupyter.widget-view+json": {
       "model_id": "",
       "version_major": 2,
       "version_minor": 0
      },
      "text/plain": [
       "  0%|          | 0/40 [00:00<?, ?it/s]"
      ]
     },
     "metadata": {},
     "output_type": "display_data"
    },
    {
     "data": {
      "application/vnd.jupyter.widget-view+json": {
       "model_id": "",
       "version_major": 2,
       "version_minor": 0
      },
      "text/plain": [
       "  0%|          | 0/4 [00:00<?, ?it/s]"
      ]
     },
     "metadata": {},
     "output_type": "display_data"
    },
    {
     "name": "stdout",
     "output_type": "stream",
     "text": [
      "Results using rc=6.0, n=6, l=6, gauss=0.3, zeta=2.0, minreg=1e-05:\n",
      "Error = 0.003341927045182621 eV/atom\n",
      "Time taken:  158.81839752197266\n",
      "---------------------------------------------------------------------------------\n",
      "Results using rc=6.0, n=6, l=6, gauss=0.3, zeta=3.0, minreg=1e-05:\n",
      "Error = 0.003197866449004104 eV/atom\n",
      "Time taken:  175.93037915229797\n",
      "---------------------------------------------------------------------------------\n"
     ]
    },
    {
     "data": {
      "application/vnd.jupyter.widget-view+json": {
       "model_id": "",
       "version_major": 2,
       "version_minor": 0
      },
      "text/plain": [
       "  0%|          | 0/40 [00:00<?, ?it/s]"
      ]
     },
     "metadata": {},
     "output_type": "display_data"
    },
    {
     "data": {
      "application/vnd.jupyter.widget-view+json": {
       "model_id": "",
       "version_major": 2,
       "version_minor": 0
      },
      "text/plain": [
       "  0%|          | 0/4 [00:00<?, ?it/s]"
      ]
     },
     "metadata": {},
     "output_type": "display_data"
    },
    {
     "name": "stdout",
     "output_type": "stream",
     "text": [
      "Results using rc=6.0, n=6, l=6, gauss=0.4, zeta=2.0, minreg=1e-05:\n",
      "Error = 0.003392474210433983 eV/atom\n",
      "Time taken:  159.90526819229126\n",
      "---------------------------------------------------------------------------------\n",
      "Results using rc=6.0, n=6, l=6, gauss=0.4, zeta=3.0, minreg=1e-05:\n",
      "Error = 0.0032154130695879932 eV/atom\n",
      "Time taken:  177.08552813529968\n",
      "---------------------------------------------------------------------------------\n"
     ]
    },
    {
     "data": {
      "application/vnd.jupyter.widget-view+json": {
       "model_id": "",
       "version_major": 2,
       "version_minor": 0
      },
      "text/plain": [
       "  0%|          | 0/40 [00:00<?, ?it/s]"
      ]
     },
     "metadata": {},
     "output_type": "display_data"
    },
    {
     "data": {
      "application/vnd.jupyter.widget-view+json": {
       "model_id": "",
       "version_major": 2,
       "version_minor": 0
      },
      "text/plain": [
       "  0%|          | 0/4 [00:00<?, ?it/s]"
      ]
     },
     "metadata": {},
     "output_type": "display_data"
    },
    {
     "name": "stdout",
     "output_type": "stream",
     "text": [
      "Results using rc=6.0, n=6, l=6, gauss=0.5, zeta=2.0, minreg=1e-05:\n",
      "Error = 0.003540718200147211 eV/atom\n",
      "Time taken:  158.31112790107727\n",
      "---------------------------------------------------------------------------------\n",
      "Results using rc=6.0, n=6, l=6, gauss=0.5, zeta=3.0, minreg=1e-05:\n",
      "Error = 0.0033165529925520834 eV/atom\n",
      "Time taken:  175.49212217330933\n",
      "---------------------------------------------------------------------------------\n"
     ]
    },
    {
     "data": {
      "application/vnd.jupyter.widget-view+json": {
       "model_id": "",
       "version_major": 2,
       "version_minor": 0
      },
      "text/plain": [
       "  0%|          | 0/40 [00:00<?, ?it/s]"
      ]
     },
     "metadata": {},
     "output_type": "display_data"
    },
    {
     "data": {
      "application/vnd.jupyter.widget-view+json": {
       "model_id": "",
       "version_major": 2,
       "version_minor": 0
      },
      "text/plain": [
       "  0%|          | 0/4 [00:00<?, ?it/s]"
      ]
     },
     "metadata": {},
     "output_type": "display_data"
    },
    {
     "name": "stdout",
     "output_type": "stream",
     "text": [
      "Results using rc=6.0, n=9, l=4, gauss=0.2, zeta=2.0, minreg=1e-06:\n",
      "Error = 0.0034316815827771076 eV/atom\n",
      "Time taken:  147.99601340293884\n",
      "---------------------------------------------------------------------------------\n",
      "Results using rc=6.0, n=9, l=4, gauss=0.2, zeta=3.0, minreg=1e-05:\n",
      "Error = 0.0032509224111980026 eV/atom\n",
      "Time taken:  165.97528624534607\n",
      "---------------------------------------------------------------------------------\n"
     ]
    },
    {
     "data": {
      "application/vnd.jupyter.widget-view+json": {
       "model_id": "",
       "version_major": 2,
       "version_minor": 0
      },
      "text/plain": [
       "  0%|          | 0/40 [00:00<?, ?it/s]"
      ]
     },
     "metadata": {},
     "output_type": "display_data"
    },
    {
     "data": {
      "application/vnd.jupyter.widget-view+json": {
       "model_id": "",
       "version_major": 2,
       "version_minor": 0
      },
      "text/plain": [
       "  0%|          | 0/4 [00:00<?, ?it/s]"
      ]
     },
     "metadata": {},
     "output_type": "display_data"
    },
    {
     "name": "stdout",
     "output_type": "stream",
     "text": [
      "Results using rc=6.0, n=9, l=4, gauss=0.3, zeta=2.0, minreg=1e-05:\n",
      "Error = 0.0032436129398091436 eV/atom\n",
      "Time taken:  147.89372992515564\n",
      "---------------------------------------------------------------------------------\n",
      "Results using rc=6.0, n=9, l=4, gauss=0.3, zeta=3.0, minreg=1e-05:\n",
      "Error = 0.0031333298430689343 eV/atom\n",
      "Time taken:  165.89367079734802\n",
      "---------------------------------------------------------------------------------\n"
     ]
    },
    {
     "data": {
      "application/vnd.jupyter.widget-view+json": {
       "model_id": "",
       "version_major": 2,
       "version_minor": 0
      },
      "text/plain": [
       "  0%|          | 0/40 [00:00<?, ?it/s]"
      ]
     },
     "metadata": {},
     "output_type": "display_data"
    },
    {
     "data": {
      "application/vnd.jupyter.widget-view+json": {
       "model_id": "",
       "version_major": 2,
       "version_minor": 0
      },
      "text/plain": [
       "  0%|          | 0/4 [00:00<?, ?it/s]"
      ]
     },
     "metadata": {},
     "output_type": "display_data"
    },
    {
     "name": "stdout",
     "output_type": "stream",
     "text": [
      "Results using rc=6.0, n=9, l=4, gauss=0.4, zeta=2.0, minreg=1e-05:\n",
      "Error = 0.003250605467293558 eV/atom\n",
      "Time taken:  151.63241481781006\n",
      "---------------------------------------------------------------------------------\n",
      "Results using rc=6.0, n=9, l=4, gauss=0.4, zeta=3.0, minreg=1e-05:\n",
      "Error = 0.0031408814332406394 eV/atom\n",
      "Time taken:  169.55414390563965\n",
      "---------------------------------------------------------------------------------\n"
     ]
    },
    {
     "data": {
      "application/vnd.jupyter.widget-view+json": {
       "model_id": "7261c15bb32f4b45a1fcee9723a61e60",
       "version_major": 2,
       "version_minor": 0
      },
      "text/plain": [
       "  0%|          | 0/40 [00:00<?, ?it/s]"
      ]
     },
     "metadata": {},
     "output_type": "display_data"
    },
    {
     "name": "stderr",
     "output_type": "stream",
     "text": [
      "IOPub message rate exceeded.\n",
      "The notebook server will temporarily stop sending output\n",
      "to the client in order to avoid crashing it.\n",
      "To change this limit, set the config variable\n",
      "`--NotebookApp.iopub_msg_rate_limit`.\n",
      "\n",
      "Current values:\n",
      "NotebookApp.iopub_msg_rate_limit=1000.0 (msgs/sec)\n",
      "NotebookApp.rate_limit_window=3.0 (secs)\n",
      "\n"
     ]
    }
   ],
   "source": [
    "#Loop for soap hyperparameter optimisation\n",
    "n_train = 10000\n",
    "\n",
    "results_gauss=[]\n",
    "count=0; \n",
    "#Iterate over interaction cuttoff\n",
    "\n",
    "for rc in [4.,6.]:\n",
    "    hypers['interaction_cutoff']=rc\n",
    "    \n",
    "    #Iterate over scale\n",
    "    for n in [6,9]:\n",
    "        hypers['max_radial'] = n\n",
    "        \n",
    "        #Iterate over exponent\n",
    "        for l in [4,6]:\n",
    "            hypers['max_angular'] = l\n",
    "            \n",
    "            for gauss in [0.2, 0.3, 0.4, 0.5]:\n",
    "                hypers['gaussian_sigma_constant'] = gauss\n",
    "                start = time()\n",
    "                soap = SphericalInvariants(**hypers) #redefine soap with new parameters\n",
    "                #print(\"Iteration: \", count+1, \"/ 36\") #keep count of iteration\n",
    "                train_feat=get_features(train_frames[:n_train], batch_size=250) #get features for training set\n",
    "                val_feat=get_features(val_frames, batch_size=250) #get features for validation set\n",
    "                count+=1\n",
    "\n",
    "                #Normalise feature vectors\n",
    "                for feat in train_feat:\n",
    "                    feat/=np.linalg.norm(feat)\n",
    "                for feat in val_feat:\n",
    "                    feat/=np.linalg.norm(feat)\n",
    "\n",
    "                #Iterate over zeta values\n",
    "                for zeta in [2.,3.]:\n",
    "                    K = np.dot(train_feat,train_feat.T)**zeta #compute covariance matrix for training\n",
    "                    Kval = np.dot(val_feat,train_feat.T)**zeta #compute covariance matrix for validation\n",
    "\n",
    "                    #Iterate over regularization values\n",
    "                    minerr = 1e24 ; minreg = 0\n",
    "                    for reg in np.logspace(-9,-5,5):\n",
    "                        KRR = KernelRidge(kernel='precomputed',alpha = reg)\n",
    "                        KRR.fit(K,yred_train[:n_train])\n",
    "                        err = np.std(yred_val - KRR.predict(Kval))\n",
    "                        if err < minerr:\n",
    "                            minerr = err.copy()\n",
    "                            minreg = reg.copy()\n",
    "                    results_gauss.append([minerr, rc, n, l, gauss, zeta, minreg])\n",
    "                    print(f\"Results using rc={rc}, n={n}, l={l}, gauss={gauss}, zeta={zeta}, minreg={minreg}:\")\n",
    "                    print(f\"Error = {minerr} eV/atom\")\n",
    "                    print('Time taken: ',time()-start)\n",
    "                    print(\"---------------------------------------------------------------------------------\")"
   ]
  },
  {
   "cell_type": "code",
   "execution_count": 40,
   "id": "c729d61a",
   "metadata": {},
   "outputs": [
    {
     "data": {
      "text/plain": [
       "array([[3.06609729e-03, 6.00000000e+00, 9.00000000e+00, 6.00000000e+00,\n",
       "        4.00000000e-01, 3.00000000e+00, 1.00000000e-05]])"
      ]
     },
     "execution_count": 40,
     "metadata": {},
     "output_type": "execute_result"
    }
   ],
   "source": [
    "np.save('delta_data/hyperparam_optimisation_results_gauss', np.asarray(results_gauss))\n",
    "\n",
    "hyperopt=np.load('delta_data/hyperparam_optimisation_results_gauss.npy')\n",
    "\n",
    "# Find optimal hyperparameters, which correspond to the lowest error\n",
    "hyperopt[np.where(hyperopt==np.amin(hyperopt, axis=0)[0])[0]]"
   ]
  },
  {
   "cell_type": "code",
   "execution_count": null,
   "id": "d83eeaa7",
   "metadata": {},
   "outputs": [],
   "source": []
  },
  {
   "cell_type": "code",
   "execution_count": null,
   "id": "f83c867c",
   "metadata": {},
   "outputs": [],
   "source": []
  },
  {
   "cell_type": "code",
   "execution_count": null,
   "id": "c5329d66",
   "metadata": {},
   "outputs": [],
   "source": []
  },
  {
   "cell_type": "code",
   "execution_count": null,
   "id": "8f7216cc",
   "metadata": {},
   "outputs": [],
   "source": []
  },
  {
   "cell_type": "code",
   "execution_count": null,
   "id": "f54c4254",
   "metadata": {},
   "outputs": [],
   "source": []
  }
 ],
 "metadata": {
  "kernelspec": {
   "display_name": "Python 3 (ipykernel)",
   "language": "python",
   "name": "python3"
  },
  "language_info": {
   "codemirror_mode": {
    "name": "ipython",
    "version": 3
   },
   "file_extension": ".py",
   "mimetype": "text/x-python",
   "name": "python",
   "nbconvert_exporter": "python",
   "pygments_lexer": "ipython3",
   "version": "3.10.4"
  },
  "toc": {
   "base_numbering": 1,
   "nav_menu": {},
   "number_sections": true,
   "sideBar": true,
   "skip_h1_title": false,
   "title_cell": "Table of Contents",
   "title_sidebar": "Contents",
   "toc_cell": false,
   "toc_position": {},
   "toc_section_display": true,
   "toc_window_display": true
  }
 },
 "nbformat": 4,
 "nbformat_minor": 5
}
