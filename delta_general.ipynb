{
 "cells": [
  {
   "cell_type": "code",
   "execution_count": null,
   "id": "88ccb1b4",
   "metadata": {},
   "outputs": [],
   "source": []
  },
  {
   "cell_type": "code",
   "execution_count": null,
   "id": "1383bf14",
   "metadata": {},
   "outputs": [],
   "source": []
  },
  {
   "cell_type": "markdown",
   "id": "b68f9441",
   "metadata": {},
   "source": [
    "## Importing modules and defining functions"
   ]
  },
  {
   "cell_type": "code",
   "execution_count": 1,
   "id": "1a9b1ef1",
   "metadata": {
    "code_folding": [
     0
    ],
    "hide_input": false
   },
   "outputs": [],
   "source": [
    "#Import modules\n",
    "from matplotlib import pylab as plt\n",
    "from tqdm import tqdm\n",
    "import itertools\n",
    "\n",
    "import pickle\n",
    "import numpy as np\n",
    "from sklearn import linear_model\n",
    "import skcosmo.feature_selection\n",
    "from skcosmo.sample_selection import FPS, PCovFPS\n",
    "from skcosmo.feature_selection import PCovFPS as PCovFPS_features\n",
    "from sklearn.linear_model import LinearRegression, Ridge\n",
    "from sklearn.kernel_ridge import KernelRidge\n",
    "\n",
    "import ase\n",
    "from ase.io import read, write\n",
    "from ase.build import make_supercell\n",
    "from ase.visualize import view\n",
    "import numpy as np\n",
    "# If installed -- not essential, though\n",
    "try:\n",
    "    from tqdm.notebook import tqdm\n",
    "except ImportError:\n",
    "    tqdm = (lambda i, **kwargs: i)\n",
    "\n",
    "from time import time\n",
    "\n",
    "from rascal.models import KRR\n",
    "from rascal.utils import dump_obj, load_obj\n",
    "\n",
    "from rascal.models import Kernel, train_gap_model, compute_KNM\n",
    "from rascal.representations import SphericalInvariants\n",
    "from rascal.representations.spherical_invariants import get_power_spectrum_index_mapping\n",
    "from rascal.utils import from_dict, to_dict, CURFilter, FPSFilter, dump_obj, load_obj\n",
    "from rascal.utils import get_score\n",
    "from rascal.utils.io import load_json, dump_json\n"
   ]
  },
  {
   "cell_type": "code",
   "execution_count": 22,
   "id": "d3e3877a",
   "metadata": {
    "code_folding": [
     0,
     1
    ]
   },
   "outputs": [],
   "source": [
    "#Define functions\n",
    "def do_fps(x, d=0):\n",
    "    \"\"\"\n",
    "    Function for performing farthest-point-sampling for a given feature matrix.\n",
    "    d gives the number of farthest-point-sampled feature vectors that will be outputted. \n",
    "    If d==0, the entire set will be FPS-sorted.\n",
    "    Returns the FPS-sorted IDs, as well as the FPS distances.\n",
    "    \"\"\"\n",
    "    if d == 0 : d = len(x)\n",
    "    n = len(x)\n",
    "    iy = np.zeros(d, int)\n",
    "    # faster evaluation of Euclidean distance\n",
    "    n2 = np.sum(x**2,axis=1)\n",
    "    iy[0] = 0\n",
    "    dl = n2 + n2[iy[0]] - 2* np.dot(x, x[iy[0]])\n",
    "    dss = []\n",
    "    for i in range(1,d):\n",
    "        iy[i] = np.argmax(dl)\n",
    "        nd = n2 + n2[iy[i]] - 2*np.dot(x,x[iy[i]])\n",
    "        dl = np.minimum(dl, nd)\n",
    "        dss.append(max(dl))\n",
    "    return iy,dss\n",
    "\n",
    "def get_forces(frames):\n",
    "    frc = np.zeros((np.sum([len(frm) for frm in frames]),3))\n",
    "    iat = 0\n",
    "    for ifrm,frm in enumerate(frames):\n",
    "        frc[iat:iat+len(frm)] = frm.get_array('Delta_forces') \n",
    "        iat += len(frm)\n",
    "    return frc\n",
    "\n",
    "#Get feature vectors for a list of atoms objects. This requires soap to be set, as well as all_species, which is\n",
    "#a list with one atoms object that contains all species HCNO\n",
    "def get_features(atoms_objects, batch_size=1000, progress_bar=True):\n",
    "    '''Get average feature vectors for each structure in a list of atoms objects. \n",
    "        This requires soap to be set.\n",
    "    '''\n",
    "    struct_feat=[] #create empty feature vector of n_structures x n_features\n",
    "    got_frame = False\n",
    "    for frm in atoms_objects:\n",
    "        if got_frame == False: \n",
    "            if all(sp in frm.get_atomic_numbers() for sp in [1,6,7,8]) == True:\n",
    "                all_species = frm\n",
    "                got_frame = True\n",
    "    for i in tqdm(range(int(len(atoms_objects)/batch_size+0.9999)), leave=False,\n",
    "                  disable = not progress_bar): #Get feature vectors in batches of 1000\n",
    "        for frm in atoms_objects[i*batch_size:(i+1)*batch_size]:\n",
    "            frm.wrap(eps=1e-13) #wrap atoms in unit cell\n",
    "        frames=[all_species.copy()] #add initial frame with all species\n",
    "        frames.extend(atoms_objects[i*batch_size:(i+1)*batch_size]) #extend initial frame with frames of batch\n",
    "        manager = soap.transform(frames) #calculate soap features for all structures in batch\n",
    "        env_feat_batch = manager.get_features(soap)[len(all_species):] #get feature vectors for all structures in batch\n",
    "        # (having removed the initial frame)\n",
    "        atom_counter=0 #count atoms\n",
    "        for ifrm,frm in enumerate(atoms_objects[i*batch_size:(i+1)*batch_size]): #iterate over frames in batch\n",
    "            nat=len(frm) #count atoms in frame\n",
    "            struct_feat.append(np.mean(env_feat_batch[atom_counter:atom_counter+nat],axis=0)) #average vectors\n",
    "            # for atoms in the same frame. Done by averaging vectors between atom_counter and atom_counter + nat\n",
    "            atom_counter+=nat #add atoms to counter\n",
    "    struct_feat_array=np.asarray(struct_feat)\n",
    "    return struct_feat_array"
   ]
  },
  {
   "cell_type": "code",
   "execution_count": 3,
   "id": "0bb7d87c",
   "metadata": {
    "code_folding": [
     0
    ]
   },
   "outputs": [],
   "source": [
    "#Import initial combined dataset (geop+100MD per crystal)\n",
    "dictionary_file = open(\"raw_data/CSD-10k_combined_w_kpts.pickle\", \"rb\") #open saved pickle database\n",
    "db = pickle.load(dictionary_file)\n",
    "names=list(db.keys())"
   ]
  },
  {
   "cell_type": "markdown",
   "id": "be49c835",
   "metadata": {},
   "source": [
    "# FPS-Sort Configurations"
   ]
  },
  {
   "cell_type": "code",
   "execution_count": 3,
   "id": "0e89a985",
   "metadata": {
    "code_folding": []
   },
   "outputs": [],
   "source": [
    "#Define soap hyperparameters for FPS sorting configurations\n",
    "hypers = dict(soap_type=\"PowerSpectrum\",\n",
    "              interaction_cutoff=4, #cutoff distance in angstroms\n",
    "              max_radial=6, #no. of radial basis functions\n",
    "              max_angular=4, #no. of angular basis functions\n",
    "              gaussian_sigma_constant=0.4, #sigma width (i.e. amount of 'smearing')\n",
    "              gaussian_sigma_type=\"Constant\",\n",
    "              cutoff_function_type=\"RadialScaling\",\n",
    "              cutoff_smooth_width=0.5,\n",
    "              cutoff_function_parameters=\n",
    "                    dict(\n",
    "                            rate=1,\n",
    "                            scale=2,\n",
    "                            exponent=2\n",
    "                        ),\n",
    "              radial_basis=\"GTO\",\n",
    "              normalize=True,\n",
    "              optimization=\n",
    "                    dict(\n",
    "                            Spline=dict(\n",
    "                               accuracy=1.0e-05\n",
    "                            )\n",
    "                        ),\n",
    "              compute_gradients=False #don't care about forces right now\n",
    "              )\n",
    "soap = SphericalInvariants(**hypers)\n"
   ]
  },
  {
   "cell_type": "code",
   "execution_count": 55,
   "id": "6fcb648c",
   "metadata": {},
   "outputs": [
    {
     "data": {
      "application/vnd.jupyter.widget-view+json": {
       "model_id": "621f6f93c3c8481b9f09097764683f18",
       "version_major": 2,
       "version_minor": 0
      },
      "text/plain": [
       "  0%|          | 0/2238 [00:00<?, ?it/s]"
      ]
     },
     "metadata": {},
     "output_type": "display_data"
    }
   ],
   "source": [
    "#FPS-sort initial training set to get 11 configurations per crystal\n",
    "db_FPS = {}\n",
    "selector = FPS(n_to_select=11, initialize=0) #initialize at 0 so that first selection is always geop\n",
    "\n",
    "for name in tqdm(names):\n",
    "    all_feats = []\n",
    "    for ifrm, frm in enumerate(db[name]):\n",
    "        frm.wrap(eps=1e-13)\n",
    "        feats = soap.transform(frm).get_features(soap)\n",
    "        all_feats.append(np.mean(feats, axis=0))\n",
    "    selector.fit(all_feats)\n",
    "    frames = []\n",
    "    for i in selector.selected_idx_:\n",
    "        frames.append(db[name][i])\n",
    "    db_FPS[name] = frames"
   ]
  },
  {
   "cell_type": "code",
   "execution_count": 66,
   "id": "fa71dd38",
   "metadata": {},
   "outputs": [],
   "source": [
    "#Save dataset\n",
    "with open('delta_data/CSD-10k_combined_w_kpts_11_pc.pickle', 'wb') as f:\n",
    "    pickle.dump(db_FPS, f)"
   ]
  },
  {
   "cell_type": "markdown",
   "id": "382540d8",
   "metadata": {},
   "source": [
    "# Calculate DFTB Energies and Forces\n",
    "\n",
    "Note that these calculations were done locally on CosmoPC12, and they will not run automatically here. That is because I had to change some ASE scripts as it was not producing DFTB+ input files correctly for the parameters I had provided.\n",
    "\n",
    "I thoroughly checked the input files it produced, and it matches the input files that were used to run DFTB+ with the Delta potential of Aditi/Edgar in the past.\n",
    "\n",
    "Also **important to note** that the \"Temperatute\" passed through to the DFTB+ input file had to be converted from Kelvin to Hartree (DFTB+'s internal parameters), as it was very difficult to set \"Temperature [K]\" instead of just \"Temperature\" through ASE's python interface.\n",
    "\n",
    "Please **skip the next few cells below**, and just reload the database that contains the DFTB+ results as well. "
   ]
  },
  {
   "cell_type": "code",
   "execution_count": null,
   "id": "9e58d470",
   "metadata": {},
   "outputs": [],
   "source": [
    "#Load database\n",
    "with open('delta_data/CSD-10k_combined_w_kpts_11_pc.pickle', 'rb') as f:\n",
    "    db = pickle.load(f)"
   ]
  },
  {
   "cell_type": "code",
   "execution_count": 4,
   "id": "31f58f5e",
   "metadata": {},
   "outputs": [],
   "source": [
    "#get array of all crystal names\n",
    "names = []\n",
    "for key in db.keys():\n",
    "    names.append(key)"
   ]
  },
  {
   "cell_type": "code",
   "execution_count": null,
   "id": "9f60edde",
   "metadata": {},
   "outputs": [],
   "source": [
    "#set preliminary DFTB params\n",
    "#These should be the exact same as I have found in DFTB input scripts from Edgar/Aditi (I thoroughly checked)\n",
    "calc_preliminary = Dftb(Hamiltonian_='DFTB',\n",
    "           Hamiltonian_Charge=0,\n",
    "           Hamiltonian_DampXH='Yes',\n",
    "           Hamiltonian_DampXHExponent = 4.0,\n",
    "           Hamiltonian_Dispersion_ = 'DftD3',\n",
    "           Hamiltonian_Dispersion_Damping='BeckeJohnson{}',\n",
    "           Hamiltonian_Eigensolver='RelativelyRobust{}',\n",
    "           Hamiltonian_HubbardDerivs_='',\n",
    "           Hamiltonian_MaxAngularMomentum_='',\n",
    "           Hamiltonian_SCC='Yes',\n",
    "           Hamiltonian_SCCTolerance=1e-4,\n",
    "           Hamiltonian_MaxSCCIterations=1000,\n",
    "           Hamiltonian_SlaterKosterFiles_='Type2FileNames',\n",
    "           Hamiltonian_SlaterKosterFiles_Prefix='\"./dftb-param/\"',\n",
    "           Hamiltonian_SlaterKosterFiles_Separator='\"-\"',\n",
    "           Hamiltonian_SlaterKosterFiles_Suffix='\".skf\"',\n",
    "           Hamiltonian_SlaterKosterFiles_LowerCaseTypeName='No',\n",
    "           Hamiltonian_ThirdOrderFull='Yes',\n",
    "           Hamiltonian_Filling_='Fermi',\n",
    "           Hamiltonian_Filling_Temperature=300*0.316681534524639E-05, #convert from K to Hartree!\n",
    "           #Options_WriteResultsTag='No',\n",
    "           #Options_WriteDetailedOut='No',\n",
    "           #Options_WriteBandOut='No',\n",
    "           ParserOptions_='',\n",
    "           ParserOptions_ParserVersion=4,\n",
    "           ParserOptions_IgnoreUnprocessedNodes = 'No',\n",
    "           do_mulliken=False)"
   ]
  },
  {
   "cell_type": "code",
   "execution_count": null,
   "id": "cdb03097",
   "metadata": {},
   "outputs": [],
   "source": [
    "#Data that will need to be set in the loop, depending on which species are present\n",
    "\n",
    "#Hamiltonian_HubbardDerivs_H=-0.1857, \n",
    "#Hamiltonian_HubbardDerivs_C=-0.1492, \n",
    "#Hamiltonian_HubbardDerivs_N=-0.1535, \n",
    "#Hamiltonian_HubbardDerivs_O=-0.1575,\n",
    "#Hamiltonian_MaxAngularMomentum_H='\"s\"', \n",
    "#Hamiltonian_MaxAngularMomentum_C='\"p\"', \n",
    "#Hamiltonian_MaxAngularMomentum_N='\"p\"', \n",
    "#Hamiltonian_MaxAngularMomentum_O='\"p\"',"
   ]
  },
  {
   "cell_type": "code",
   "execution_count": null,
   "id": "0562a9b8",
   "metadata": {},
   "outputs": [],
   "source": [
    "#Rename \"forces\" array to \"PBE-D2_forces\" to avoid confusion, and rename \"energy\" to \"PBE-D2_energy\"\n",
    "for name in names:\n",
    "    for frm in db[name]:\n",
    "        frm.arrays['PBE-D2_forces'] = frm.arrays['forces'].copy() #add new array with good name\n",
    "        frm.set_array('forces', None) #remove old array\n",
    "        frm.info['PBE-D2_energy'] = frm.info['energy'].copy() #add new info with energy\n",
    "        frm.info.pop('energy') #remove old energy info"
   ]
  },
  {
   "cell_type": "code",
   "execution_count": null,
   "id": "c976f6a0",
   "metadata": {},
   "outputs": [],
   "source": [
    "#Compute DFTB energies and forces, and add them to the frames\n",
    "for name in tqdm(names, desc=\"Crystal Progress\", leave=False):\n",
    "    for frm in tqdm(db[name], desc=\"Config Progress\", leave=False):\n",
    "        \n",
    "        kpts = np.array2string(frm.info['kpts'], separator=' ')[1:-1] #Get K-points\n",
    "        if len(kpts) != 5: #Print k points if they are longer than useful (for security) \n",
    "            print(name, frm) \n",
    "        kpts += ' 1.0' #add the k points \"weight\" for DFTB+\n",
    "        \n",
    "        calc=Dftb(**calc_preliminary.todict()) #Get preliminary calculator\n",
    "        calc.set(Hamiltonian_KPointsAndWeights=\"{\"+kpts+\"}\") #Set k points\n",
    "        \n",
    "        #Set Hubbard derivs and max angular momenta for the relevant species present\n",
    "        if \"H\" in frm.get_chemical_symbols():\n",
    "            calc.set(Hamiltonian_HubbardDerivs_H=-0.1857)\n",
    "            calc.set(Hamiltonian_MaxAngularMomentum_H='\"s\"')\n",
    "        if \"C\" in frm.get_chemical_symbols():\n",
    "            calc.set(Hamiltonian_HubbardDerivs_C=-0.1492)\n",
    "            calc.set(Hamiltonian_MaxAngularMomentum_C='\"p\"')\n",
    "        if \"N\" in frm.get_chemical_symbols():\n",
    "            calc.set(Hamiltonian_HubbardDerivs_N=-0.1535)\n",
    "            calc.set(Hamiltonian_MaxAngularMomentum_N='\"p\"')\n",
    "        if \"O\" in frm.get_chemical_symbols():\n",
    "            calc.set(Hamiltonian_HubbardDerivs_O=-0.1575)\n",
    "            calc.set(Hamiltonian_MaxAngularMomentum_O='\"p\"')\n",
    "        \n",
    "        frm.set_calculator(calc) #set calculator for the frame\n",
    "        \n",
    "        frm.info['DFTB_energy'] = frm.get_potential_energy() #calculate potential energy, and add it as info\n",
    "        frm.arrays['DFTB_forces'] = frm.get_forces() #calculate forces, and add them as info"
   ]
  },
  {
   "cell_type": "code",
   "execution_count": null,
   "id": "782a4596",
   "metadata": {},
   "outputs": [],
   "source": [
    "#Save dataset\n",
    "with open('delta_data/CSD-10k_combined_w_kpts_11_pc_w_DFTB.pickle', 'wb') as f:\n",
    "    pickle.dump(db, f)"
   ]
  },
  {
   "cell_type": "markdown",
   "id": "6ecce45b",
   "metadata": {},
   "source": [
    "## Reload database with DFTB+ results"
   ]
  },
  {
   "cell_type": "code",
   "execution_count": 15,
   "id": "1ee6f3eb",
   "metadata": {},
   "outputs": [],
   "source": [
    "#(Re-)Open dataset\n",
    "with open('delta_data/CSD-10k_combined_w_kpts_11_pc_w_DFTB.pickle', 'rb') as f:\n",
    "    db = pickle.load(f)"
   ]
  },
  {
   "cell_type": "code",
   "execution_count": 16,
   "id": "2ebdf87b",
   "metadata": {},
   "outputs": [],
   "source": [
    "#Add energy and force deltas to frame\n",
    "for name in db.keys():\n",
    "    for frm in db[name]:\n",
    "        frm.info['Delta_energy'] = frm.info['PBE-D2_energy'] - frm.info['DFTB_energy']\n",
    "        frm.arrays['Delta_forces'] = frm.arrays['PBE-D2_forces'] - frm.arrays['DFTB_forces']"
   ]
  },
  {
   "cell_type": "markdown",
   "id": "e8f70609",
   "metadata": {},
   "source": [
    "# Create training and validation sets"
   ]
  },
  {
   "cell_type": "code",
   "execution_count": 17,
   "id": "0c22cec1",
   "metadata": {},
   "outputs": [],
   "source": [
    "#Create training and val sets\n",
    "all_frames = []\n",
    "for name in db.keys():\n",
    "    for frm in db[name]:\n",
    "        all_frames.append(frm)\n",
    "\n",
    "ids = np.arange(len(all_frames))\n",
    "np.random.seed(10)\n",
    "np.random.shuffle(ids)\n",
    "\n",
    "train_frames = [all_frames[i] for i in ids[1000:]]\n",
    "val_frames = [all_frames[i] for i in ids[:1000]]"
   ]
  },
  {
   "cell_type": "code",
   "execution_count": 18,
   "id": "cc4b25c7",
   "metadata": {},
   "outputs": [],
   "source": [
    "#Create composition (X), energy deltas (y) and force deltas (f) arrays\n",
    "X_all = np.zeros((len(all_frames), 4), dtype=int) ; y_all = np.zeros(len(all_frames), dtype=float)\n",
    "f_all = np.zeros((np.sum([len(frm) for frm in all_frames]),3), dtype=float)\n",
    "\n",
    "counter = 0\n",
    "for ifrm, frm in enumerate(all_frames):\n",
    "    symbols = frm.get_atomic_numbers()\n",
    "    X_all[ifrm] = [len(np.where(symbols == sp)[0]) for sp in [1,6,7,8]]\n",
    "    y_all[ifrm] = frm.info['Delta_energy']\n",
    "    f_all[counter:counter+len(frm)] = frm.arrays['Delta_forces']\n",
    "    counter += len(frm)\n",
    "    \n",
    "X_train = np.zeros((len(train_frames), 4), dtype=int) ; y_train = np.zeros(len(train_frames), dtype=float)\n",
    "f_train = np.zeros((np.sum([len(frm) for frm in train_frames]),3), dtype=float)\n",
    "\n",
    "counter = 0\n",
    "for ifrm, frm in enumerate(train_frames):\n",
    "    symbols = frm.get_atomic_numbers()\n",
    "    X_train[ifrm] = [len(np.where(symbols == sp)[0]) for sp in [1,6,7,8]]\n",
    "    y_train[ifrm] = frm.info['Delta_energy']\n",
    "    f_train[counter:counter+len(frm)] = frm.arrays['Delta_forces']\n",
    "    counter += len(frm)\n",
    "\n",
    "X_val = np.zeros((len(val_frames), 4), dtype=int) ; y_val = np.zeros(len(val_frames), dtype=float)\n",
    "f_val = np.zeros((np.sum([len(frm) for frm in val_frames]),3), dtype=float)\n",
    "\n",
    "counter = 0\n",
    "for ifrm, frm in enumerate(val_frames):\n",
    "    symbols = frm.get_atomic_numbers()\n",
    "    X_val[ifrm] = [len(np.where(symbols == sp)[0]) for sp in [1,6,7,8]]\n",
    "    y_val[ifrm] = frm.info['Delta_energy']\n",
    "    f_val[counter:counter+len(frm)] = frm.arrays['Delta_forces']\n",
    "    counter += len(frm)"
   ]
  },
  {
   "cell_type": "code",
   "execution_count": 19,
   "id": "d23599ab",
   "metadata": {},
   "outputs": [
    {
     "name": "stdout",
     "output_type": "stream",
     "text": [
      "Per-atom energy for species H : -5.937468668128049 eV\n",
      "Per-atom energy for species C : -108.26614387379449 eV\n",
      "Per-atom energy for species N : -318.91670482230467 eV\n",
      "Per-atom energy for species O : -476.57063218236544 eV\n"
     ]
    }
   ],
   "source": [
    "#Create baselined per-atom energy model\n",
    "mlr = Ridge(fit_intercept=False, alpha=1e-4)\n",
    "mlr.fit(X_all, y_all)\n",
    "for spec, coef in zip(['H', 'C', 'N', 'O'], mlr.coef_):\n",
    "    print(f\"Per-atom energy for species {spec} : {coef} eV\")"
   ]
  },
  {
   "cell_type": "code",
   "execution_count": 21,
   "id": "597e9863",
   "metadata": {},
   "outputs": [],
   "source": [
    "#Save small model\n",
    "with open('delta_data/mlr.pkl','wb') as f:\n",
    "    pickle.dump(mlr, f)"
   ]
  },
  {
   "cell_type": "code",
   "execution_count": 63,
   "id": "687fa29b",
   "metadata": {},
   "outputs": [],
   "source": [
    "#get dressed atom energies for reduced training set\n",
    "y_dressed = {}\n",
    "for i,j in enumerate([1,6,7,8]):\n",
    "    y_dressed[j] = mlr.coef_[i]"
   ]
  },
  {
   "cell_type": "markdown",
   "id": "d474a430",
   "metadata": {},
   "source": [
    "# PCovFPS sample selection"
   ]
  },
  {
   "cell_type": "code",
   "execution_count": 20,
   "id": "66ab00ad",
   "metadata": {},
   "outputs": [],
   "source": [
    "#Create baselined per-atom binding energies of training and validation sets\n",
    "yred_train = y_train/np.sum(X_train,axis=1)-mlr.predict(X_train)/np.sum(X_train,axis=1)\n",
    "yred_val = y_val/np.sum(X_val,axis=1)-mlr.predict(X_val)/np.sum(X_val,axis=1) "
   ]
  },
  {
   "cell_type": "code",
   "execution_count": 61,
   "id": "c434562c",
   "metadata": {},
   "outputs": [],
   "source": [
    "#Use better hypers\n",
    "hypers['interaction_cutoff'] = 6\n",
    "hypers['max_radial'] = 9\n",
    "hypers['max_angular'] = 6\n",
    "soap=SphericalInvariants(**hypers)"
   ]
  },
  {
   "cell_type": "code",
   "execution_count": 62,
   "id": "c02048a9",
   "metadata": {},
   "outputs": [
    {
     "data": {
      "application/vnd.jupyter.widget-view+json": {
       "model_id": "",
       "version_major": 2,
       "version_minor": 0
      },
      "text/plain": [
       "  0%|          | 0/95 [00:00<?, ?it/s]"
      ]
     },
     "metadata": {},
     "output_type": "display_data"
    }
   ],
   "source": [
    "#get per-structure training features\n",
    "train_feats = get_features(train_frames, batch_size=250, progress_bar=True)"
   ]
  },
  {
   "cell_type": "code",
   "execution_count": 63,
   "id": "d2f1ee22",
   "metadata": {},
   "outputs": [
    {
     "data": {
      "application/vnd.jupyter.widget-view+json": {
       "model_id": "cb195428ebb14257ba6d8c0764172a6d",
       "version_major": 2,
       "version_minor": 0
      },
      "text/plain": [
       "  0%|          | 0/23616 [00:00<?, ?it/s]"
      ]
     },
     "metadata": {},
     "output_type": "display_data"
    }
   ],
   "source": [
    "#Do PCovFPS Sample selection\n",
    "selector = PCovFPS(mixing=0.3, initialize=0, progress_bar=True, n_to_select=len(train_feats)-1)\n",
    "selector.fit(train_feats, yred_train)\n",
    "pcf_ids = selector.selected_idx_"
   ]
  },
  {
   "cell_type": "code",
   "execution_count": 64,
   "id": "94ab699b",
   "metadata": {},
   "outputs": [],
   "source": [
    "#Save PCovFPS-sorted sample IDs\n",
    "np.save('delta_data/pcovfps_selected_idx', pcf_ids)"
   ]
  },
  {
   "cell_type": "code",
   "execution_count": 6,
   "id": "48c62814",
   "metadata": {},
   "outputs": [],
   "source": [
    "#Reload PCovFPS-sorted sample IDs\n",
    "pcf_ids = np.load('delta_data/pcovfps_selected_idx.npy')"
   ]
  },
  {
   "cell_type": "code",
   "execution_count": 66,
   "id": "489a9343",
   "metadata": {},
   "outputs": [
    {
     "data": {
      "image/png": "[encoded data removed]",
      "text/plain": [
       "<Figure size 640x480 with 1 Axes>"
      ]
     },
     "metadata": {},
     "output_type": "display_data"
    }
   ],
   "source": [
    "#Plot distances\n",
    "plt.plot(range(len(train_feats)-2), selector.get_select_distance()[1:])\n",
    "plt.yscale('log')"
   ]
  },
  {
   "cell_type": "markdown",
   "id": "5717d999",
   "metadata": {},
   "source": [
    "PCovFPS suggests maybe using 6000 or so structures is not an awful idea, in order to balance computational burden with accuracy."
   ]
  },
  {
   "cell_type": "markdown",
   "id": "28054381",
   "metadata": {},
   "source": [
    "# Small Hyperparam Optimisation"
   ]
  },
  {
   "cell_type": "code",
   "execution_count": 14,
   "id": "78661b24",
   "metadata": {
    "scrolled": true
   },
   "outputs": [
    {
     "data": {
      "application/vnd.jupyter.widget-view+json": {
       "model_id": "",
       "version_major": 2,
       "version_minor": 0
      },
      "text/plain": [
       "  0%|          | 0/15 [00:00<?, ?it/s]"
      ]
     },
     "metadata": {},
     "output_type": "display_data"
    },
    {
     "data": {
      "application/vnd.jupyter.widget-view+json": {
       "model_id": "",
       "version_major": 2,
       "version_minor": 0
      },
      "text/plain": [
       "  0%|          | 0/1 [00:00<?, ?it/s]"
      ]
     },
     "metadata": {},
     "output_type": "display_data"
    },
    {
     "name": "stdout",
     "output_type": "stream",
     "text": [
      "RMSE using rc=4, n=6, l=4 : 1.043688 eV\n"
     ]
    },
    {
     "data": {
      "application/vnd.jupyter.widget-view+json": {
       "model_id": "",
       "version_major": 2,
       "version_minor": 0
      },
      "text/plain": [
       "  0%|          | 0/15 [00:00<?, ?it/s]"
      ]
     },
     "metadata": {},
     "output_type": "display_data"
    },
    {
     "data": {
      "application/vnd.jupyter.widget-view+json": {
       "model_id": "",
       "version_major": 2,
       "version_minor": 0
      },
      "text/plain": [
       "  0%|          | 0/1 [00:00<?, ?it/s]"
      ]
     },
     "metadata": {},
     "output_type": "display_data"
    },
    {
     "name": "stdout",
     "output_type": "stream",
     "text": [
      "RMSE using rc=4, n=6, l=6 : 1.025771 eV\n"
     ]
    },
    {
     "data": {
      "application/vnd.jupyter.widget-view+json": {
       "model_id": "",
       "version_major": 2,
       "version_minor": 0
      },
      "text/plain": [
       "  0%|          | 0/15 [00:00<?, ?it/s]"
      ]
     },
     "metadata": {},
     "output_type": "display_data"
    },
    {
     "data": {
      "application/vnd.jupyter.widget-view+json": {
       "model_id": "",
       "version_major": 2,
       "version_minor": 0
      },
      "text/plain": [
       "  0%|          | 0/1 [00:00<?, ?it/s]"
      ]
     },
     "metadata": {},
     "output_type": "display_data"
    },
    {
     "name": "stdout",
     "output_type": "stream",
     "text": [
      "RMSE using rc=4, n=6, l=8 : 1.014872 eV\n"
     ]
    },
    {
     "data": {
      "application/vnd.jupyter.widget-view+json": {
       "model_id": "",
       "version_major": 2,
       "version_minor": 0
      },
      "text/plain": [
       "  0%|          | 0/15 [00:00<?, ?it/s]"
      ]
     },
     "metadata": {},
     "output_type": "display_data"
    },
    {
     "data": {
      "application/vnd.jupyter.widget-view+json": {
       "model_id": "",
       "version_major": 2,
       "version_minor": 0
      },
      "text/plain": [
       "  0%|          | 0/1 [00:00<?, ?it/s]"
      ]
     },
     "metadata": {},
     "output_type": "display_data"
    },
    {
     "name": "stdout",
     "output_type": "stream",
     "text": [
      "RMSE using rc=4, n=9, l=4 : 1.042269 eV\n"
     ]
    },
    {
     "data": {
      "application/vnd.jupyter.widget-view+json": {
       "model_id": "",
       "version_major": 2,
       "version_minor": 0
      },
      "text/plain": [
       "  0%|          | 0/15 [00:00<?, ?it/s]"
      ]
     },
     "metadata": {},
     "output_type": "display_data"
    },
    {
     "data": {
      "application/vnd.jupyter.widget-view+json": {
       "model_id": "",
       "version_major": 2,
       "version_minor": 0
      },
      "text/plain": [
       "  0%|          | 0/1 [00:00<?, ?it/s]"
      ]
     },
     "metadata": {},
     "output_type": "display_data"
    },
    {
     "name": "stdout",
     "output_type": "stream",
     "text": [
      "RMSE using rc=4, n=9, l=6 : 1.018662 eV\n"
     ]
    },
    {
     "data": {
      "application/vnd.jupyter.widget-view+json": {
       "model_id": "",
       "version_major": 2,
       "version_minor": 0
      },
      "text/plain": [
       "  0%|          | 0/15 [00:00<?, ?it/s]"
      ]
     },
     "metadata": {},
     "output_type": "display_data"
    },
    {
     "data": {
      "application/vnd.jupyter.widget-view+json": {
       "model_id": "",
       "version_major": 2,
       "version_minor": 0
      },
      "text/plain": [
       "  0%|          | 0/1 [00:00<?, ?it/s]"
      ]
     },
     "metadata": {},
     "output_type": "display_data"
    },
    {
     "name": "stdout",
     "output_type": "stream",
     "text": [
      "RMSE using rc=4, n=9, l=8 : 1.009446 eV\n"
     ]
    },
    {
     "data": {
      "application/vnd.jupyter.widget-view+json": {
       "model_id": "",
       "version_major": 2,
       "version_minor": 0
      },
      "text/plain": [
       "  0%|          | 0/15 [00:00<?, ?it/s]"
      ]
     },
     "metadata": {},
     "output_type": "display_data"
    },
    {
     "data": {
      "application/vnd.jupyter.widget-view+json": {
       "model_id": "",
       "version_major": 2,
       "version_minor": 0
      },
      "text/plain": [
       "  0%|          | 0/1 [00:00<?, ?it/s]"
      ]
     },
     "metadata": {},
     "output_type": "display_data"
    },
    {
     "name": "stdout",
     "output_type": "stream",
     "text": [
      "RMSE using rc=4, n=12, l=4 : 1.037987 eV\n"
     ]
    },
    {
     "data": {
      "application/vnd.jupyter.widget-view+json": {
       "model_id": "",
       "version_major": 2,
       "version_minor": 0
      },
      "text/plain": [
       "  0%|          | 0/15 [00:00<?, ?it/s]"
      ]
     },
     "metadata": {},
     "output_type": "display_data"
    },
    {
     "data": {
      "application/vnd.jupyter.widget-view+json": {
       "model_id": "",
       "version_major": 2,
       "version_minor": 0
      },
      "text/plain": [
       "  0%|          | 0/1 [00:00<?, ?it/s]"
      ]
     },
     "metadata": {},
     "output_type": "display_data"
    },
    {
     "name": "stdout",
     "output_type": "stream",
     "text": [
      "RMSE using rc=4, n=12, l=6 : 1.014619 eV\n"
     ]
    },
    {
     "data": {
      "application/vnd.jupyter.widget-view+json": {
       "model_id": "",
       "version_major": 2,
       "version_minor": 0
      },
      "text/plain": [
       "  0%|          | 0/15 [00:00<?, ?it/s]"
      ]
     },
     "metadata": {},
     "output_type": "display_data"
    },
    {
     "data": {
      "application/vnd.jupyter.widget-view+json": {
       "model_id": "",
       "version_major": 2,
       "version_minor": 0
      },
      "text/plain": [
       "  0%|          | 0/1 [00:00<?, ?it/s]"
      ]
     },
     "metadata": {},
     "output_type": "display_data"
    },
    {
     "name": "stdout",
     "output_type": "stream",
     "text": [
      "RMSE using rc=4, n=12, l=8 : 1.003798 eV\n"
     ]
    },
    {
     "data": {
      "application/vnd.jupyter.widget-view+json": {
       "model_id": "",
       "version_major": 2,
       "version_minor": 0
      },
      "text/plain": [
       "  0%|          | 0/15 [00:00<?, ?it/s]"
      ]
     },
     "metadata": {},
     "output_type": "display_data"
    },
    {
     "data": {
      "application/vnd.jupyter.widget-view+json": {
       "model_id": "",
       "version_major": 2,
       "version_minor": 0
      },
      "text/plain": [
       "  0%|          | 0/1 [00:00<?, ?it/s]"
      ]
     },
     "metadata": {},
     "output_type": "display_data"
    },
    {
     "name": "stdout",
     "output_type": "stream",
     "text": [
      "RMSE using rc=6, n=6, l=4 : 1.023154 eV\n"
     ]
    },
    {
     "data": {
      "application/vnd.jupyter.widget-view+json": {
       "model_id": "",
       "version_major": 2,
       "version_minor": 0
      },
      "text/plain": [
       "  0%|          | 0/15 [00:00<?, ?it/s]"
      ]
     },
     "metadata": {},
     "output_type": "display_data"
    },
    {
     "data": {
      "application/vnd.jupyter.widget-view+json": {
       "model_id": "",
       "version_major": 2,
       "version_minor": 0
      },
      "text/plain": [
       "  0%|          | 0/1 [00:00<?, ?it/s]"
      ]
     },
     "metadata": {},
     "output_type": "display_data"
    },
    {
     "name": "stdout",
     "output_type": "stream",
     "text": [
      "RMSE using rc=6, n=6, l=6 : 1.011613 eV\n"
     ]
    },
    {
     "data": {
      "application/vnd.jupyter.widget-view+json": {
       "model_id": "",
       "version_major": 2,
       "version_minor": 0
      },
      "text/plain": [
       "  0%|          | 0/15 [00:00<?, ?it/s]"
      ]
     },
     "metadata": {},
     "output_type": "display_data"
    },
    {
     "data": {
      "application/vnd.jupyter.widget-view+json": {
       "model_id": "",
       "version_major": 2,
       "version_minor": 0
      },
      "text/plain": [
       "  0%|          | 0/1 [00:00<?, ?it/s]"
      ]
     },
     "metadata": {},
     "output_type": "display_data"
    },
    {
     "name": "stdout",
     "output_type": "stream",
     "text": [
      "RMSE using rc=6, n=6, l=8 : 0.995652 eV\n"
     ]
    },
    {
     "data": {
      "application/vnd.jupyter.widget-view+json": {
       "model_id": "",
       "version_major": 2,
       "version_minor": 0
      },
      "text/plain": [
       "  0%|          | 0/15 [00:00<?, ?it/s]"
      ]
     },
     "metadata": {},
     "output_type": "display_data"
    },
    {
     "data": {
      "application/vnd.jupyter.widget-view+json": {
       "model_id": "",
       "version_major": 2,
       "version_minor": 0
      },
      "text/plain": [
       "  0%|          | 0/1 [00:00<?, ?it/s]"
      ]
     },
     "metadata": {},
     "output_type": "display_data"
    },
    {
     "name": "stdout",
     "output_type": "stream",
     "text": [
      "RMSE using rc=6, n=9, l=4 : 1.012423 eV\n"
     ]
    },
    {
     "data": {
      "application/vnd.jupyter.widget-view+json": {
       "model_id": "",
       "version_major": 2,
       "version_minor": 0
      },
      "text/plain": [
       "  0%|          | 0/15 [00:00<?, ?it/s]"
      ]
     },
     "metadata": {},
     "output_type": "display_data"
    },
    {
     "data": {
      "application/vnd.jupyter.widget-view+json": {
       "model_id": "",
       "version_major": 2,
       "version_minor": 0
      },
      "text/plain": [
       "  0%|          | 0/1 [00:00<?, ?it/s]"
      ]
     },
     "metadata": {},
     "output_type": "display_data"
    },
    {
     "name": "stdout",
     "output_type": "stream",
     "text": [
      "RMSE using rc=6, n=9, l=6 : 1.000087 eV\n"
     ]
    },
    {
     "data": {
      "application/vnd.jupyter.widget-view+json": {
       "model_id": "",
       "version_major": 2,
       "version_minor": 0
      },
      "text/plain": [
       "  0%|          | 0/15 [00:00<?, ?it/s]"
      ]
     },
     "metadata": {},
     "output_type": "display_data"
    },
    {
     "data": {
      "application/vnd.jupyter.widget-view+json": {
       "model_id": "",
       "version_major": 2,
       "version_minor": 0
      },
      "text/plain": [
       "  0%|          | 0/1 [00:00<?, ?it/s]"
      ]
     },
     "metadata": {},
     "output_type": "display_data"
    },
    {
     "name": "stdout",
     "output_type": "stream",
     "text": [
      "RMSE using rc=6, n=9, l=8 : 0.985657 eV\n"
     ]
    },
    {
     "data": {
      "application/vnd.jupyter.widget-view+json": {
       "model_id": "",
       "version_major": 2,
       "version_minor": 0
      },
      "text/plain": [
       "  0%|          | 0/15 [00:00<?, ?it/s]"
      ]
     },
     "metadata": {},
     "output_type": "display_data"
    },
    {
     "data": {
      "application/vnd.jupyter.widget-view+json": {
       "model_id": "",
       "version_major": 2,
       "version_minor": 0
      },
      "text/plain": [
       "  0%|          | 0/1 [00:00<?, ?it/s]"
      ]
     },
     "metadata": {},
     "output_type": "display_data"
    },
    {
     "name": "stdout",
     "output_type": "stream",
     "text": [
      "RMSE using rc=6, n=12, l=4 : 1.007791 eV\n"
     ]
    },
    {
     "data": {
      "application/vnd.jupyter.widget-view+json": {
       "model_id": "",
       "version_major": 2,
       "version_minor": 0
      },
      "text/plain": [
       "  0%|          | 0/15 [00:00<?, ?it/s]"
      ]
     },
     "metadata": {},
     "output_type": "display_data"
    },
    {
     "data": {
      "application/vnd.jupyter.widget-view+json": {
       "model_id": "",
       "version_major": 2,
       "version_minor": 0
      },
      "text/plain": [
       "  0%|          | 0/1 [00:00<?, ?it/s]"
      ]
     },
     "metadata": {},
     "output_type": "display_data"
    },
    {
     "name": "stdout",
     "output_type": "stream",
     "text": [
      "RMSE using rc=6, n=12, l=6 : 0.994335 eV\n"
     ]
    },
    {
     "data": {
      "application/vnd.jupyter.widget-view+json": {
       "model_id": "",
       "version_major": 2,
       "version_minor": 0
      },
      "text/plain": [
       "  0%|          | 0/15 [00:00<?, ?it/s]"
      ]
     },
     "metadata": {},
     "output_type": "display_data"
    },
    {
     "data": {
      "application/vnd.jupyter.widget-view+json": {
       "model_id": "",
       "version_major": 2,
       "version_minor": 0
      },
      "text/plain": [
       "  0%|          | 0/1 [00:00<?, ?it/s]"
      ]
     },
     "metadata": {},
     "output_type": "display_data"
    },
    {
     "name": "stdout",
     "output_type": "stream",
     "text": [
      "RMSE using rc=6, n=12, l=8 : 0.978967 eV\n"
     ]
    },
    {
     "data": {
      "application/vnd.jupyter.widget-view+json": {
       "model_id": "",
       "version_major": 2,
       "version_minor": 0
      },
      "text/plain": [
       "  0%|          | 0/15 [00:00<?, ?it/s]"
      ]
     },
     "metadata": {},
     "output_type": "display_data"
    },
    {
     "data": {
      "application/vnd.jupyter.widget-view+json": {
       "model_id": "",
       "version_major": 2,
       "version_minor": 0
      },
      "text/plain": [
       "  0%|          | 0/1 [00:00<?, ?it/s]"
      ]
     },
     "metadata": {},
     "output_type": "display_data"
    },
    {
     "name": "stdout",
     "output_type": "stream",
     "text": [
      "RMSE using rc=8, n=6, l=4 : 1.065337 eV\n"
     ]
    },
    {
     "data": {
      "application/vnd.jupyter.widget-view+json": {
       "model_id": "",
       "version_major": 2,
       "version_minor": 0
      },
      "text/plain": [
       "  0%|          | 0/15 [00:00<?, ?it/s]"
      ]
     },
     "metadata": {},
     "output_type": "display_data"
    },
    {
     "data": {
      "application/vnd.jupyter.widget-view+json": {
       "model_id": "",
       "version_major": 2,
       "version_minor": 0
      },
      "text/plain": [
       "  0%|          | 0/1 [00:00<?, ?it/s]"
      ]
     },
     "metadata": {},
     "output_type": "display_data"
    },
    {
     "name": "stdout",
     "output_type": "stream",
     "text": [
      "RMSE using rc=8, n=6, l=6 : 1.048606 eV\n"
     ]
    },
    {
     "data": {
      "application/vnd.jupyter.widget-view+json": {
       "model_id": "",
       "version_major": 2,
       "version_minor": 0
      },
      "text/plain": [
       "  0%|          | 0/15 [00:00<?, ?it/s]"
      ]
     },
     "metadata": {},
     "output_type": "display_data"
    },
    {
     "data": {
      "application/vnd.jupyter.widget-view+json": {
       "model_id": "",
       "version_major": 2,
       "version_minor": 0
      },
      "text/plain": [
       "  0%|          | 0/1 [00:00<?, ?it/s]"
      ]
     },
     "metadata": {},
     "output_type": "display_data"
    },
    {
     "name": "stdout",
     "output_type": "stream",
     "text": [
      "RMSE using rc=8, n=6, l=8 : 1.032453 eV\n"
     ]
    },
    {
     "data": {
      "application/vnd.jupyter.widget-view+json": {
       "model_id": "",
       "version_major": 2,
       "version_minor": 0
      },
      "text/plain": [
       "  0%|          | 0/15 [00:00<?, ?it/s]"
      ]
     },
     "metadata": {},
     "output_type": "display_data"
    },
    {
     "data": {
      "application/vnd.jupyter.widget-view+json": {
       "model_id": "",
       "version_major": 2,
       "version_minor": 0
      },
      "text/plain": [
       "  0%|          | 0/1 [00:00<?, ?it/s]"
      ]
     },
     "metadata": {},
     "output_type": "display_data"
    },
    {
     "name": "stdout",
     "output_type": "stream",
     "text": [
      "RMSE using rc=8, n=9, l=4 : 1.013074 eV\n"
     ]
    },
    {
     "data": {
      "application/vnd.jupyter.widget-view+json": {
       "model_id": "",
       "version_major": 2,
       "version_minor": 0
      },
      "text/plain": [
       "  0%|          | 0/15 [00:00<?, ?it/s]"
      ]
     },
     "metadata": {},
     "output_type": "display_data"
    },
    {
     "data": {
      "application/vnd.jupyter.widget-view+json": {
       "model_id": "",
       "version_major": 2,
       "version_minor": 0
      },
      "text/plain": [
       "  0%|          | 0/1 [00:00<?, ?it/s]"
      ]
     },
     "metadata": {},
     "output_type": "display_data"
    },
    {
     "name": "stdout",
     "output_type": "stream",
     "text": [
      "RMSE using rc=8, n=9, l=6 : 0.991521 eV\n"
     ]
    },
    {
     "data": {
      "application/vnd.jupyter.widget-view+json": {
       "model_id": "",
       "version_major": 2,
       "version_minor": 0
      },
      "text/plain": [
       "  0%|          | 0/15 [00:00<?, ?it/s]"
      ]
     },
     "metadata": {},
     "output_type": "display_data"
    },
    {
     "data": {
      "application/vnd.jupyter.widget-view+json": {
       "model_id": "",
       "version_major": 2,
       "version_minor": 0
      },
      "text/plain": [
       "  0%|          | 0/1 [00:00<?, ?it/s]"
      ]
     },
     "metadata": {},
     "output_type": "display_data"
    },
    {
     "name": "stdout",
     "output_type": "stream",
     "text": [
      "RMSE using rc=8, n=9, l=8 : 0.96705 eV\n"
     ]
    },
    {
     "data": {
      "application/vnd.jupyter.widget-view+json": {
       "model_id": "",
       "version_major": 2,
       "version_minor": 0
      },
      "text/plain": [
       "  0%|          | 0/15 [00:00<?, ?it/s]"
      ]
     },
     "metadata": {},
     "output_type": "display_data"
    },
    {
     "data": {
      "application/vnd.jupyter.widget-view+json": {
       "model_id": "",
       "version_major": 2,
       "version_minor": 0
      },
      "text/plain": [
       "  0%|          | 0/1 [00:00<?, ?it/s]"
      ]
     },
     "metadata": {},
     "output_type": "display_data"
    },
    {
     "name": "stdout",
     "output_type": "stream",
     "text": [
      "RMSE using rc=8, n=12, l=4 : 0.993759 eV\n"
     ]
    },
    {
     "data": {
      "application/vnd.jupyter.widget-view+json": {
       "model_id": "",
       "version_major": 2,
       "version_minor": 0
      },
      "text/plain": [
       "  0%|          | 0/15 [00:00<?, ?it/s]"
      ]
     },
     "metadata": {},
     "output_type": "display_data"
    },
    {
     "data": {
      "application/vnd.jupyter.widget-view+json": {
       "model_id": "",
       "version_major": 2,
       "version_minor": 0
      },
      "text/plain": [
       "  0%|          | 0/1 [00:00<?, ?it/s]"
      ]
     },
     "metadata": {},
     "output_type": "display_data"
    },
    {
     "name": "stdout",
     "output_type": "stream",
     "text": [
      "RMSE using rc=8, n=12, l=6 : 0.977424 eV\n"
     ]
    },
    {
     "data": {
      "application/vnd.jupyter.widget-view+json": {
       "model_id": "",
       "version_major": 2,
       "version_minor": 0
      },
      "text/plain": [
       "  0%|          | 0/15 [00:00<?, ?it/s]"
      ]
     },
     "metadata": {},
     "output_type": "display_data"
    },
    {
     "data": {
      "application/vnd.jupyter.widget-view+json": {
       "model_id": "",
       "version_major": 2,
       "version_minor": 0
      },
      "text/plain": [
       "  0%|          | 0/1 [00:00<?, ?it/s]"
      ]
     },
     "metadata": {},
     "output_type": "display_data"
    },
    {
     "name": "stdout",
     "output_type": "stream",
     "text": [
      "RMSE using rc=8, n=12, l=8 : 0.961028 eV\n"
     ]
    }
   ],
   "source": [
    "#Small loop for SOAP hypers optimisation\n",
    "for rc in [4,6,8]:\n",
    "    for n in [6,9,12]:\n",
    "        for l in [4,6,8]:\n",
    "            hypers['interaction_cutoff'] = rc\n",
    "            hypers['max_radial'] = n\n",
    "            hypers['max_angular'] = l\n",
    "            soap=SphericalInvariants(**hypers)\n",
    "            \n",
    "            feats_t = get_features(train_frames[:10000], batch_size=250)\n",
    "            feats_v = get_features(val_frames, batch_size=250)\n",
    "            \n",
    "            model = Ridge(fit_intercept=False, alpha=1e-4)\n",
    "            model.fit(feats_t, y_small[:3750])\n",
    "            \n",
    "            predictions = model.predict(feats_v)\n",
    "            errors = predictions - y_small[3750:]\n",
    "            rmse = np.sqrt(np.mean(np.abs(errors)))\n",
    "            \n",
    "            print(f\"RMSE using rc={rc}, n={n}, l={l} : {np.round(rmse, 6)} eV\")"
   ]
  },
  {
   "cell_type": "code",
   "execution_count": 33,
   "id": "5a102d9f",
   "metadata": {},
   "outputs": [
    {
     "data": {
      "application/vnd.jupyter.widget-view+json": {
       "model_id": "",
       "version_major": 2,
       "version_minor": 0
      },
      "text/plain": [
       "  0%|          | 0/40 [00:00<?, ?it/s]"
      ]
     },
     "metadata": {},
     "output_type": "display_data"
    },
    {
     "data": {
      "application/vnd.jupyter.widget-view+json": {
       "model_id": "",
       "version_major": 2,
       "version_minor": 0
      },
      "text/plain": [
       "  0%|          | 0/4 [00:00<?, ?it/s]"
      ]
     },
     "metadata": {},
     "output_type": "display_data"
    },
    {
     "name": "stdout",
     "output_type": "stream",
     "text": [
      "Results using rc=4.0, n=6, l=4, zeta=3.0, minreg=1e-05:\n",
      "Error = 0.003336002785217394 eV/atom\n",
      "Time taken:  81.88889241218567\n",
      "---------------------------------------------------------------------------------\n"
     ]
    },
    {
     "data": {
      "application/vnd.jupyter.widget-view+json": {
       "model_id": "",
       "version_major": 2,
       "version_minor": 0
      },
      "text/plain": [
       "  0%|          | 0/40 [00:00<?, ?it/s]"
      ]
     },
     "metadata": {},
     "output_type": "display_data"
    },
    {
     "data": {
      "application/vnd.jupyter.widget-view+json": {
       "model_id": "",
       "version_major": 2,
       "version_minor": 0
      },
      "text/plain": [
       "  0%|          | 0/4 [00:00<?, ?it/s]"
      ]
     },
     "metadata": {},
     "output_type": "display_data"
    },
    {
     "name": "stdout",
     "output_type": "stream",
     "text": [
      "Results using rc=4.0, n=6, l=6, zeta=3.0, minreg=1e-05:\n",
      "Error = 0.003309462061763038 eV/atom\n",
      "Time taken:  99.24900221824646\n",
      "---------------------------------------------------------------------------------\n"
     ]
    },
    {
     "data": {
      "application/vnd.jupyter.widget-view+json": {
       "model_id": "",
       "version_major": 2,
       "version_minor": 0
      },
      "text/plain": [
       "  0%|          | 0/40 [00:00<?, ?it/s]"
      ]
     },
     "metadata": {},
     "output_type": "display_data"
    },
    {
     "data": {
      "application/vnd.jupyter.widget-view+json": {
       "model_id": "",
       "version_major": 2,
       "version_minor": 0
      },
      "text/plain": [
       "  0%|          | 0/4 [00:00<?, ?it/s]"
      ]
     },
     "metadata": {},
     "output_type": "display_data"
    },
    {
     "name": "stdout",
     "output_type": "stream",
     "text": [
      "Results using rc=4.0, n=6, l=8, zeta=3.0, minreg=1e-05:\n",
      "Error = 0.0032783918274639783 eV/atom\n",
      "Time taken:  121.45538020133972\n",
      "---------------------------------------------------------------------------------\n"
     ]
    },
    {
     "data": {
      "application/vnd.jupyter.widget-view+json": {
       "model_id": "",
       "version_major": 2,
       "version_minor": 0
      },
      "text/plain": [
       "  0%|          | 0/40 [00:00<?, ?it/s]"
      ]
     },
     "metadata": {},
     "output_type": "display_data"
    },
    {
     "data": {
      "application/vnd.jupyter.widget-view+json": {
       "model_id": "",
       "version_major": 2,
       "version_minor": 0
      },
      "text/plain": [
       "  0%|          | 0/4 [00:00<?, ?it/s]"
      ]
     },
     "metadata": {},
     "output_type": "display_data"
    },
    {
     "name": "stdout",
     "output_type": "stream",
     "text": [
      "Results using rc=4.0, n=9, l=4, zeta=3.0, minreg=1e-05:\n",
      "Error = 0.0032924446824565655 eV/atom\n",
      "Time taken:  105.38145017623901\n",
      "---------------------------------------------------------------------------------\n"
     ]
    },
    {
     "data": {
      "application/vnd.jupyter.widget-view+json": {
       "model_id": "",
       "version_major": 2,
       "version_minor": 0
      },
      "text/plain": [
       "  0%|          | 0/40 [00:00<?, ?it/s]"
      ]
     },
     "metadata": {},
     "output_type": "display_data"
    },
    {
     "data": {
      "application/vnd.jupyter.widget-view+json": {
       "model_id": "",
       "version_major": 2,
       "version_minor": 0
      },
      "text/plain": [
       "  0%|          | 0/4 [00:00<?, ?it/s]"
      ]
     },
     "metadata": {},
     "output_type": "display_data"
    },
    {
     "name": "stdout",
     "output_type": "stream",
     "text": [
      "Results using rc=4.0, n=9, l=6, zeta=3.0, minreg=1e-05:\n",
      "Error = 0.0032649808755064024 eV/atom\n",
      "Time taken:  143.81601977348328\n",
      "---------------------------------------------------------------------------------\n"
     ]
    },
    {
     "data": {
      "application/vnd.jupyter.widget-view+json": {
       "model_id": "",
       "version_major": 2,
       "version_minor": 0
      },
      "text/plain": [
       "  0%|          | 0/40 [00:00<?, ?it/s]"
      ]
     },
     "metadata": {},
     "output_type": "display_data"
    },
    {
     "data": {
      "application/vnd.jupyter.widget-view+json": {
       "model_id": "",
       "version_major": 2,
       "version_minor": 0
      },
      "text/plain": [
       "  0%|          | 0/4 [00:00<?, ?it/s]"
      ]
     },
     "metadata": {},
     "output_type": "display_data"
    },
    {
     "name": "stdout",
     "output_type": "stream",
     "text": [
      "Results using rc=4.0, n=9, l=8, zeta=3.0, minreg=1e-05:\n",
      "Error = 0.0032512236768953103 eV/atom\n",
      "Time taken:  184.834636926651\n",
      "---------------------------------------------------------------------------------\n"
     ]
    },
    {
     "data": {
      "application/vnd.jupyter.widget-view+json": {
       "model_id": "",
       "version_major": 2,
       "version_minor": 0
      },
      "text/plain": [
       "  0%|          | 0/40 [00:00<?, ?it/s]"
      ]
     },
     "metadata": {},
     "output_type": "display_data"
    },
    {
     "data": {
      "application/vnd.jupyter.widget-view+json": {
       "model_id": "",
       "version_major": 2,
       "version_minor": 0
      },
      "text/plain": [
       "  0%|          | 0/4 [00:00<?, ?it/s]"
      ]
     },
     "metadata": {},
     "output_type": "display_data"
    },
    {
     "name": "stdout",
     "output_type": "stream",
     "text": [
      "Results using rc=4.0, n=12, l=4, zeta=3.0, minreg=1e-05:\n",
      "Error = 0.0032930356919597618 eV/atom\n",
      "Time taken:  145.25313425064087\n",
      "---------------------------------------------------------------------------------\n"
     ]
    },
    {
     "data": {
      "application/vnd.jupyter.widget-view+json": {
       "model_id": "",
       "version_major": 2,
       "version_minor": 0
      },
      "text/plain": [
       "  0%|          | 0/40 [00:00<?, ?it/s]"
      ]
     },
     "metadata": {},
     "output_type": "display_data"
    },
    {
     "data": {
      "application/vnd.jupyter.widget-view+json": {
       "model_id": "",
       "version_major": 2,
       "version_minor": 0
      },
      "text/plain": [
       "  0%|          | 0/4 [00:00<?, ?it/s]"
      ]
     },
     "metadata": {},
     "output_type": "display_data"
    },
    {
     "name": "stdout",
     "output_type": "stream",
     "text": [
      "Results using rc=4.0, n=12, l=6, zeta=3.0, minreg=1e-05:\n",
      "Error = 0.0032722603862221813 eV/atom\n",
      "Time taken:  198.4149661064148\n",
      "---------------------------------------------------------------------------------\n"
     ]
    },
    {
     "data": {
      "application/vnd.jupyter.widget-view+json": {
       "model_id": "",
       "version_major": 2,
       "version_minor": 0
      },
      "text/plain": [
       "  0%|          | 0/40 [00:00<?, ?it/s]"
      ]
     },
     "metadata": {},
     "output_type": "display_data"
    },
    {
     "data": {
      "application/vnd.jupyter.widget-view+json": {
       "model_id": "",
       "version_major": 2,
       "version_minor": 0
      },
      "text/plain": [
       "  0%|          | 0/4 [00:00<?, ?it/s]"
      ]
     },
     "metadata": {},
     "output_type": "display_data"
    },
    {
     "name": "stdout",
     "output_type": "stream",
     "text": [
      "Results using rc=4.0, n=12, l=8, zeta=3.0, minreg=1e-05:\n",
      "Error = 0.0032584151023967835 eV/atom\n",
      "Time taken:  260.11613631248474\n",
      "---------------------------------------------------------------------------------\n"
     ]
    },
    {
     "data": {
      "application/vnd.jupyter.widget-view+json": {
       "model_id": "",
       "version_major": 2,
       "version_minor": 0
      },
      "text/plain": [
       "  0%|          | 0/40 [00:00<?, ?it/s]"
      ]
     },
     "metadata": {},
     "output_type": "display_data"
    },
    {
     "data": {
      "application/vnd.jupyter.widget-view+json": {
       "model_id": "",
       "version_major": 2,
       "version_minor": 0
      },
      "text/plain": [
       "  0%|          | 0/4 [00:00<?, ?it/s]"
      ]
     },
     "metadata": {},
     "output_type": "display_data"
    },
    {
     "name": "stdout",
     "output_type": "stream",
     "text": [
      "Results using rc=6.0, n=6, l=4, zeta=3.0, minreg=1e-05:\n",
      "Error = 0.0032617533834723555 eV/atom\n",
      "Time taken:  134.26059556007385\n",
      "---------------------------------------------------------------------------------\n"
     ]
    },
    {
     "data": {
      "application/vnd.jupyter.widget-view+json": {
       "model_id": "",
       "version_major": 2,
       "version_minor": 0
      },
      "text/plain": [
       "  0%|          | 0/40 [00:00<?, ?it/s]"
      ]
     },
     "metadata": {},
     "output_type": "display_data"
    },
    {
     "data": {
      "application/vnd.jupyter.widget-view+json": {
       "model_id": "",
       "version_major": 2,
       "version_minor": 0
      },
      "text/plain": [
       "  0%|          | 0/4 [00:00<?, ?it/s]"
      ]
     },
     "metadata": {},
     "output_type": "display_data"
    },
    {
     "name": "stdout",
     "output_type": "stream",
     "text": [
      "Results using rc=6.0, n=6, l=6, zeta=3.0, minreg=1e-05:\n",
      "Error = 0.003215413070008251 eV/atom\n",
      "Time taken:  174.0540931224823\n",
      "---------------------------------------------------------------------------------\n"
     ]
    },
    {
     "data": {
      "application/vnd.jupyter.widget-view+json": {
       "model_id": "",
       "version_major": 2,
       "version_minor": 0
      },
      "text/plain": [
       "  0%|          | 0/40 [00:00<?, ?it/s]"
      ]
     },
     "metadata": {},
     "output_type": "display_data"
    },
    {
     "data": {
      "application/vnd.jupyter.widget-view+json": {
       "model_id": "",
       "version_major": 2,
       "version_minor": 0
      },
      "text/plain": [
       "  0%|          | 0/4 [00:00<?, ?it/s]"
      ]
     },
     "metadata": {},
     "output_type": "display_data"
    },
    {
     "name": "stdout",
     "output_type": "stream",
     "text": [
      "Results using rc=6.0, n=6, l=8, zeta=3.0, minreg=1e-05:\n",
      "Error = 0.003210622761523323 eV/atom\n",
      "Time taken:  223.2677764892578\n",
      "---------------------------------------------------------------------------------\n"
     ]
    },
    {
     "data": {
      "application/vnd.jupyter.widget-view+json": {
       "model_id": "",
       "version_major": 2,
       "version_minor": 0
      },
      "text/plain": [
       "  0%|          | 0/40 [00:00<?, ?it/s]"
      ]
     },
     "metadata": {},
     "output_type": "display_data"
    },
    {
     "data": {
      "application/vnd.jupyter.widget-view+json": {
       "model_id": "",
       "version_major": 2,
       "version_minor": 0
      },
      "text/plain": [
       "  0%|          | 0/4 [00:00<?, ?it/s]"
      ]
     },
     "metadata": {},
     "output_type": "display_data"
    },
    {
     "name": "stdout",
     "output_type": "stream",
     "text": [
      "Results using rc=6.0, n=9, l=4, zeta=3.0, minreg=1e-05:\n",
      "Error = 0.003140881433231713 eV/atom\n",
      "Time taken:  165.3098120689392\n",
      "---------------------------------------------------------------------------------\n"
     ]
    },
    {
     "data": {
      "application/vnd.jupyter.widget-view+json": {
       "model_id": "",
       "version_major": 2,
       "version_minor": 0
      },
      "text/plain": [
       "  0%|          | 0/40 [00:00<?, ?it/s]"
      ]
     },
     "metadata": {},
     "output_type": "display_data"
    },
    {
     "data": {
      "application/vnd.jupyter.widget-view+json": {
       "model_id": "",
       "version_major": 2,
       "version_minor": 0
      },
      "text/plain": [
       "  0%|          | 0/4 [00:00<?, ?it/s]"
      ]
     },
     "metadata": {},
     "output_type": "display_data"
    },
    {
     "name": "stdout",
     "output_type": "stream",
     "text": [
      "Results using rc=6.0, n=9, l=6, zeta=3.0, minreg=1e-05:\n",
      "Error = 0.003066097290216129 eV/atom\n",
      "Time taken:  234.3080632686615\n",
      "---------------------------------------------------------------------------------\n"
     ]
    },
    {
     "data": {
      "application/vnd.jupyter.widget-view+json": {
       "model_id": "",
       "version_major": 2,
       "version_minor": 0
      },
      "text/plain": [
       "  0%|          | 0/40 [00:00<?, ?it/s]"
      ]
     },
     "metadata": {},
     "output_type": "display_data"
    },
    {
     "data": {
      "application/vnd.jupyter.widget-view+json": {
       "model_id": "",
       "version_major": 2,
       "version_minor": 0
      },
      "text/plain": [
       "  0%|          | 0/4 [00:00<?, ?it/s]"
      ]
     },
     "metadata": {},
     "output_type": "display_data"
    },
    {
     "name": "stdout",
     "output_type": "stream",
     "text": [
      "Results using rc=6.0, n=9, l=8, zeta=3.0, minreg=1e-05:\n",
      "Error = 0.003024141312240806 eV/atom\n",
      "Time taken:  316.5952978134155\n",
      "---------------------------------------------------------------------------------\n"
     ]
    },
    {
     "data": {
      "application/vnd.jupyter.widget-view+json": {
       "model_id": "",
       "version_major": 2,
       "version_minor": 0
      },
      "text/plain": [
       "  0%|          | 0/40 [00:00<?, ?it/s]"
      ]
     },
     "metadata": {},
     "output_type": "display_data"
    },
    {
     "data": {
      "application/vnd.jupyter.widget-view+json": {
       "model_id": "",
       "version_major": 2,
       "version_minor": 0
      },
      "text/plain": [
       "  0%|          | 0/4 [00:00<?, ?it/s]"
      ]
     },
     "metadata": {},
     "output_type": "display_data"
    },
    {
     "name": "stdout",
     "output_type": "stream",
     "text": [
      "Results using rc=6.0, n=12, l=4, zeta=3.0, minreg=1e-05:\n",
      "Error = 0.003171357614468681 eV/atom\n",
      "Time taken:  209.14312887191772\n",
      "---------------------------------------------------------------------------------\n"
     ]
    },
    {
     "data": {
      "application/vnd.jupyter.widget-view+json": {
       "model_id": "",
       "version_major": 2,
       "version_minor": 0
      },
      "text/plain": [
       "  0%|          | 0/40 [00:00<?, ?it/s]"
      ]
     },
     "metadata": {},
     "output_type": "display_data"
    },
    {
     "data": {
      "application/vnd.jupyter.widget-view+json": {
       "model_id": "",
       "version_major": 2,
       "version_minor": 0
      },
      "text/plain": [
       "  0%|          | 0/4 [00:00<?, ?it/s]"
      ]
     },
     "metadata": {},
     "output_type": "display_data"
    },
    {
     "name": "stdout",
     "output_type": "stream",
     "text": [
      "Results using rc=6.0, n=12, l=6, zeta=3.0, minreg=1e-05:\n",
      "Error = 0.003110579247998621 eV/atom\n",
      "Time taken:  303.42199516296387\n",
      "---------------------------------------------------------------------------------\n"
     ]
    },
    {
     "data": {
      "application/vnd.jupyter.widget-view+json": {
       "model_id": "",
       "version_major": 2,
       "version_minor": 0
      },
      "text/plain": [
       "  0%|          | 0/40 [00:00<?, ?it/s]"
      ]
     },
     "metadata": {},
     "output_type": "display_data"
    },
    {
     "data": {
      "application/vnd.jupyter.widget-view+json": {
       "model_id": "",
       "version_major": 2,
       "version_minor": 0
      },
      "text/plain": [
       "  0%|          | 0/4 [00:00<?, ?it/s]"
      ]
     },
     "metadata": {},
     "output_type": "display_data"
    },
    {
     "name": "stdout",
     "output_type": "stream",
     "text": [
      "Results using rc=6.0, n=12, l=8, zeta=3.0, minreg=1e-05:\n",
      "Error = 0.0030911986715829935 eV/atom\n",
      "Time taken:  417.37284874916077\n",
      "---------------------------------------------------------------------------------\n"
     ]
    },
    {
     "data": {
      "application/vnd.jupyter.widget-view+json": {
       "model_id": "",
       "version_major": 2,
       "version_minor": 0
      },
      "text/plain": [
       "  0%|          | 0/40 [00:00<?, ?it/s]"
      ]
     },
     "metadata": {},
     "output_type": "display_data"
    },
    {
     "data": {
      "application/vnd.jupyter.widget-view+json": {
       "model_id": "",
       "version_major": 2,
       "version_minor": 0
      },
      "text/plain": [
       "  0%|          | 0/4 [00:00<?, ?it/s]"
      ]
     },
     "metadata": {},
     "output_type": "display_data"
    },
    {
     "name": "stdout",
     "output_type": "stream",
     "text": [
      "Results using rc=8.0, n=6, l=4, zeta=3.0, minreg=1e-05:\n",
      "Error = 0.003399377945394419 eV/atom\n",
      "Time taken:  237.00242948532104\n",
      "---------------------------------------------------------------------------------\n"
     ]
    },
    {
     "data": {
      "application/vnd.jupyter.widget-view+json": {
       "model_id": "",
       "version_major": 2,
       "version_minor": 0
      },
      "text/plain": [
       "  0%|          | 0/40 [00:00<?, ?it/s]"
      ]
     },
     "metadata": {},
     "output_type": "display_data"
    },
    {
     "data": {
      "application/vnd.jupyter.widget-view+json": {
       "model_id": "",
       "version_major": 2,
       "version_minor": 0
      },
      "text/plain": [
       "  0%|          | 0/4 [00:00<?, ?it/s]"
      ]
     },
     "metadata": {},
     "output_type": "display_data"
    },
    {
     "name": "stdout",
     "output_type": "stream",
     "text": [
      "Results using rc=8.0, n=6, l=6, zeta=3.0, minreg=1e-05:\n",
      "Error = 0.0033572883659647762 eV/atom\n",
      "Time taken:  318.25767993927\n",
      "---------------------------------------------------------------------------------\n"
     ]
    },
    {
     "data": {
      "application/vnd.jupyter.widget-view+json": {
       "model_id": "",
       "version_major": 2,
       "version_minor": 0
      },
      "text/plain": [
       "  0%|          | 0/40 [00:00<?, ?it/s]"
      ]
     },
     "metadata": {},
     "output_type": "display_data"
    },
    {
     "data": {
      "application/vnd.jupyter.widget-view+json": {
       "model_id": "",
       "version_major": 2,
       "version_minor": 0
      },
      "text/plain": [
       "  0%|          | 0/4 [00:00<?, ?it/s]"
      ]
     },
     "metadata": {},
     "output_type": "display_data"
    },
    {
     "name": "stdout",
     "output_type": "stream",
     "text": [
      "Results using rc=8.0, n=6, l=8, zeta=3.0, minreg=1e-05:\n",
      "Error = 0.0033466552653936645 eV/atom\n",
      "Time taken:  419.1527421474457\n",
      "---------------------------------------------------------------------------------\n"
     ]
    },
    {
     "data": {
      "application/vnd.jupyter.widget-view+json": {
       "model_id": "",
       "version_major": 2,
       "version_minor": 0
      },
      "text/plain": [
       "  0%|          | 0/40 [00:00<?, ?it/s]"
      ]
     },
     "metadata": {},
     "output_type": "display_data"
    },
    {
     "data": {
      "application/vnd.jupyter.widget-view+json": {
       "model_id": "",
       "version_major": 2,
       "version_minor": 0
      },
      "text/plain": [
       "  0%|          | 0/4 [00:00<?, ?it/s]"
      ]
     },
     "metadata": {},
     "output_type": "display_data"
    },
    {
     "name": "stdout",
     "output_type": "stream",
     "text": [
      "Results using rc=8.0, n=9, l=4, zeta=3.0, minreg=1e-05:\n",
      "Error = 0.003151610598964201 eV/atom\n",
      "Time taken:  279.24709582328796\n",
      "---------------------------------------------------------------------------------\n"
     ]
    },
    {
     "data": {
      "application/vnd.jupyter.widget-view+json": {
       "model_id": "",
       "version_major": 2,
       "version_minor": 0
      },
      "text/plain": [
       "  0%|          | 0/40 [00:00<?, ?it/s]"
      ]
     },
     "metadata": {},
     "output_type": "display_data"
    },
    {
     "data": {
      "application/vnd.jupyter.widget-view+json": {
       "model_id": "",
       "version_major": 2,
       "version_minor": 0
      },
      "text/plain": [
       "  0%|          | 0/4 [00:00<?, ?it/s]"
      ]
     },
     "metadata": {},
     "output_type": "display_data"
    },
    {
     "name": "stdout",
     "output_type": "stream",
     "text": [
      "Results using rc=8.0, n=9, l=6, zeta=3.0, minreg=1e-05:\n",
      "Error = 0.003099843288946592 eV/atom\n",
      "Time taken:  407.04337430000305\n",
      "---------------------------------------------------------------------------------\n"
     ]
    },
    {
     "data": {
      "application/vnd.jupyter.widget-view+json": {
       "model_id": "",
       "version_major": 2,
       "version_minor": 0
      },
      "text/plain": [
       "  0%|          | 0/40 [00:00<?, ?it/s]"
      ]
     },
     "metadata": {},
     "output_type": "display_data"
    },
    {
     "data": {
      "application/vnd.jupyter.widget-view+json": {
       "model_id": "",
       "version_major": 2,
       "version_minor": 0
      },
      "text/plain": [
       "  0%|          | 0/4 [00:00<?, ?it/s]"
      ]
     },
     "metadata": {},
     "output_type": "display_data"
    },
    {
     "name": "stdout",
     "output_type": "stream",
     "text": [
      "Results using rc=8.0, n=9, l=8, zeta=3.0, minreg=1e-05:\n",
      "Error = 0.003078392411355435 eV/atom\n",
      "Time taken:  572.6248948574066\n",
      "---------------------------------------------------------------------------------\n"
     ]
    },
    {
     "data": {
      "application/vnd.jupyter.widget-view+json": {
       "model_id": "",
       "version_major": 2,
       "version_minor": 0
      },
      "text/plain": [
       "  0%|          | 0/40 [00:00<?, ?it/s]"
      ]
     },
     "metadata": {},
     "output_type": "display_data"
    },
    {
     "data": {
      "application/vnd.jupyter.widget-view+json": {
       "model_id": "",
       "version_major": 2,
       "version_minor": 0
      },
      "text/plain": [
       "  0%|          | 0/4 [00:00<?, ?it/s]"
      ]
     },
     "metadata": {},
     "output_type": "display_data"
    },
    {
     "name": "stdout",
     "output_type": "stream",
     "text": [
      "Results using rc=8.0, n=12, l=4, zeta=3.0, minreg=1e-05:\n",
      "Error = 0.0031401645944787475 eV/atom\n",
      "Time taken:  332.01562762260437\n",
      "---------------------------------------------------------------------------------\n"
     ]
    },
    {
     "data": {
      "application/vnd.jupyter.widget-view+json": {
       "model_id": "",
       "version_major": 2,
       "version_minor": 0
      },
      "text/plain": [
       "  0%|          | 0/40 [00:00<?, ?it/s]"
      ]
     },
     "metadata": {},
     "output_type": "display_data"
    },
    {
     "data": {
      "application/vnd.jupyter.widget-view+json": {
       "model_id": "",
       "version_major": 2,
       "version_minor": 0
      },
      "text/plain": [
       "  0%|          | 0/4 [00:00<?, ?it/s]"
      ]
     },
     "metadata": {},
     "output_type": "display_data"
    },
    {
     "name": "stdout",
     "output_type": "stream",
     "text": [
      "Results using rc=8.0, n=12, l=6, zeta=3.0, minreg=1e-05:\n",
      "Error = 0.003049739647829518 eV/atom\n",
      "Time taken:  504.2500720024109\n",
      "---------------------------------------------------------------------------------\n"
     ]
    },
    {
     "data": {
      "application/vnd.jupyter.widget-view+json": {
       "model_id": "",
       "version_major": 2,
       "version_minor": 0
      },
      "text/plain": [
       "  0%|          | 0/40 [00:00<?, ?it/s]"
      ]
     },
     "metadata": {},
     "output_type": "display_data"
    },
    {
     "data": {
      "application/vnd.jupyter.widget-view+json": {
       "model_id": "",
       "version_major": 2,
       "version_minor": 0
      },
      "text/plain": [
       "  0%|          | 0/4 [00:00<?, ?it/s]"
      ]
     },
     "metadata": {},
     "output_type": "display_data"
    },
    {
     "name": "stdout",
     "output_type": "stream",
     "text": [
      "Results using rc=8.0, n=12, l=8, zeta=3.0, minreg=1e-05:\n",
      "Error = 0.0030186421370690794 eV/atom\n",
      "Time taken:  719.6348259449005\n",
      "---------------------------------------------------------------------------------\n"
     ]
    }
   ],
   "source": [
    "#Loop for soap hyperparameter optimisation\n",
    "n_train = 10000\n",
    "\n",
    "results=[]\n",
    "count=0; \n",
    "\n",
    "#Iterate over interaction cuttoff\n",
    "for rc in [4.,6.,8.]:\n",
    "    hypers['interaction_cutoff']=rc\n",
    "    \n",
    "    #Iterate over nmax\n",
    "    for n in [6,9,12]:\n",
    "        hypers['max_radial'] = n\n",
    "        \n",
    "        #Iterate over lmax\n",
    "        for l in [4,6,8]:\n",
    "            start = time()\n",
    "            hypers['max_angular'] = l\n",
    "            soap = SphericalInvariants(**hypers) #redefine soap with new parameters\n",
    "            #print(\"Iteration: \", count+1, \"/ 36\") #keep count of iteration\n",
    "            train_feat=get_features(train_frames[:n_train], batch_size=250) #get features for training set\n",
    "            val_feat=get_features(val_frames, batch_size=250) #get features for validation set\n",
    "            count+=1\n",
    "            \n",
    "            #Normalise feature vectors\n",
    "            for feat in train_feat:\n",
    "                feat/=np.linalg.norm(feat)\n",
    "            for feat in val_feat:\n",
    "                feat/=np.linalg.norm(feat)\n",
    "\n",
    "            #Iterate over zeta values\n",
    "            for zeta in [2.,3.]:\n",
    "                K = np.dot(train_feat,train_feat.T)**zeta #compute covariance matrix for training\n",
    "                Kval = np.dot(val_feat,train_feat.T)**zeta #compute covariance matrix for validation\n",
    "\n",
    "                #Iterate over regularization values\n",
    "                minerr = 1e24 ; minreg = 0\n",
    "                for reg in np.logspace(-9,-5,5):\n",
    "                    KRR = KernelRidge(kernel='precomputed',alpha = reg)\n",
    "                    KRR.fit(K,yred_train[:n_train])\n",
    "                    err = np.std(yred_val - KRR.predict(Kval))\n",
    "                    if err < minerr:\n",
    "                        minerr = err.copy()\n",
    "                        minreg = reg.copy()\n",
    "                results.append([minerr, rc, n, l, zeta, minreg])\n",
    "            print(f\"Results using rc={rc}, n={n}, l={l}, zeta={zeta}, minreg={minreg}:\")\n",
    "            print(f\"Error = {minerr} eV/atom\")\n",
    "            print('Time taken: ',time()-start)\n",
    "            print(\"---------------------------------------------------------------------------------\")"
   ]
  },
  {
   "cell_type": "code",
   "execution_count": 34,
   "id": "a14d0e24",
   "metadata": {},
   "outputs": [
    {
     "data": {
      "text/plain": [
       "array([[3.01864214e-03, 8.00000000e+00, 1.20000000e+01, 8.00000000e+00,\n",
       "        3.00000000e+00, 1.00000000e-05]])"
      ]
     },
     "execution_count": 34,
     "metadata": {},
     "output_type": "execute_result"
    }
   ],
   "source": [
    "np.save('delta_data/hyperparam_optimisation_results', np.asarray(results))\n",
    "\n",
    "hyperopt=np.load('delta_data/hyperparam_optimisation_results.npy')\n",
    "\n",
    "# Find optimal hyperparameters, which correspond to the lowest error\n",
    "hyperopt[np.where(hyperopt==np.amin(hyperopt, axis=0)[0])[0]]"
   ]
  },
  {
   "cell_type": "code",
   "execution_count": 37,
   "id": "e4452306",
   "metadata": {},
   "outputs": [
    {
     "data": {
      "application/vnd.jupyter.widget-view+json": {
       "model_id": "",
       "version_major": 2,
       "version_minor": 0
      },
      "text/plain": [
       "  0%|          | 0/40 [00:00<?, ?it/s]"
      ]
     },
     "metadata": {},
     "output_type": "display_data"
    },
    {
     "data": {
      "application/vnd.jupyter.widget-view+json": {
       "model_id": "",
       "version_major": 2,
       "version_minor": 0
      },
      "text/plain": [
       "  0%|          | 0/4 [00:00<?, ?it/s]"
      ]
     },
     "metadata": {},
     "output_type": "display_data"
    },
    {
     "name": "stdout",
     "output_type": "stream",
     "text": [
      "Results using rc=4.0, n=6, l=4, gauss=0.2, zeta=2.0, minreg=1e-06:\n",
      "Error = 0.003728977991732251 eV/atom\n",
      "Time taken:  63.87083435058594\n",
      "---------------------------------------------------------------------------------\n",
      "Results using rc=4.0, n=6, l=4, gauss=0.2, zeta=3.0, minreg=1e-06:\n",
      "Error = 0.003576528211944912 eV/atom\n",
      "Time taken:  80.55424070358276\n",
      "---------------------------------------------------------------------------------\n"
     ]
    },
    {
     "data": {
      "application/vnd.jupyter.widget-view+json": {
       "model_id": "",
       "version_major": 2,
       "version_minor": 0
      },
      "text/plain": [
       "  0%|          | 0/40 [00:00<?, ?it/s]"
      ]
     },
     "metadata": {},
     "output_type": "display_data"
    },
    {
     "data": {
      "application/vnd.jupyter.widget-view+json": {
       "model_id": "",
       "version_major": 2,
       "version_minor": 0
      },
      "text/plain": [
       "  0%|          | 0/4 [00:00<?, ?it/s]"
      ]
     },
     "metadata": {},
     "output_type": "display_data"
    },
    {
     "name": "stdout",
     "output_type": "stream",
     "text": [
      "Results using rc=4.0, n=6, l=4, gauss=0.3, zeta=2.0, minreg=1e-06:\n",
      "Error = 0.0036166181474782256 eV/atom\n",
      "Time taken:  63.87961030006409\n",
      "---------------------------------------------------------------------------------\n",
      "Results using rc=4.0, n=6, l=4, gauss=0.3, zeta=3.0, minreg=1e-05:\n",
      "Error = 0.0033889698697007952 eV/atom\n",
      "Time taken:  80.61461138725281\n",
      "---------------------------------------------------------------------------------\n"
     ]
    },
    {
     "data": {
      "application/vnd.jupyter.widget-view+json": {
       "model_id": "",
       "version_major": 2,
       "version_minor": 0
      },
      "text/plain": [
       "  0%|          | 0/40 [00:00<?, ?it/s]"
      ]
     },
     "metadata": {},
     "output_type": "display_data"
    },
    {
     "data": {
      "application/vnd.jupyter.widget-view+json": {
       "model_id": "",
       "version_major": 2,
       "version_minor": 0
      },
      "text/plain": [
       "  0%|          | 0/4 [00:00<?, ?it/s]"
      ]
     },
     "metadata": {},
     "output_type": "display_data"
    },
    {
     "name": "stdout",
     "output_type": "stream",
     "text": [
      "Results using rc=4.0, n=6, l=4, gauss=0.4, zeta=2.0, minreg=1e-05:\n",
      "Error = 0.003549099407193268 eV/atom\n",
      "Time taken:  64.32818365097046\n",
      "---------------------------------------------------------------------------------\n",
      "Results using rc=4.0, n=6, l=4, gauss=0.4, zeta=3.0, minreg=1e-05:\n",
      "Error = 0.003336002784868447 eV/atom\n",
      "Time taken:  82.16261625289917\n",
      "---------------------------------------------------------------------------------\n"
     ]
    },
    {
     "data": {
      "application/vnd.jupyter.widget-view+json": {
       "model_id": "",
       "version_major": 2,
       "version_minor": 0
      },
      "text/plain": [
       "  0%|          | 0/40 [00:00<?, ?it/s]"
      ]
     },
     "metadata": {},
     "output_type": "display_data"
    },
    {
     "data": {
      "application/vnd.jupyter.widget-view+json": {
       "model_id": "",
       "version_major": 2,
       "version_minor": 0
      },
      "text/plain": [
       "  0%|          | 0/4 [00:00<?, ?it/s]"
      ]
     },
     "metadata": {},
     "output_type": "display_data"
    },
    {
     "name": "stdout",
     "output_type": "stream",
     "text": [
      "Results using rc=4.0, n=6, l=4, gauss=0.5, zeta=2.0, minreg=1e-05:\n",
      "Error = 0.0037128894050290806 eV/atom\n",
      "Time taken:  64.00150656700134\n",
      "---------------------------------------------------------------------------------\n",
      "Results using rc=4.0, n=6, l=4, gauss=0.5, zeta=3.0, minreg=1e-05:\n",
      "Error = 0.0034275626045648694 eV/atom\n",
      "Time taken:  80.72156190872192\n",
      "---------------------------------------------------------------------------------\n"
     ]
    },
    {
     "data": {
      "application/vnd.jupyter.widget-view+json": {
       "model_id": "",
       "version_major": 2,
       "version_minor": 0
      },
      "text/plain": [
       "  0%|          | 0/40 [00:00<?, ?it/s]"
      ]
     },
     "metadata": {},
     "output_type": "display_data"
    },
    {
     "data": {
      "application/vnd.jupyter.widget-view+json": {
       "model_id": "",
       "version_major": 2,
       "version_minor": 0
      },
      "text/plain": [
       "  0%|          | 0/4 [00:00<?, ?it/s]"
      ]
     },
     "metadata": {},
     "output_type": "display_data"
    },
    {
     "name": "stdout",
     "output_type": "stream",
     "text": [
      "Results using rc=4.0, n=6, l=6, gauss=0.2, zeta=2.0, minreg=1e-06:\n",
      "Error = 0.0036976709914159508 eV/atom\n",
      "Time taken:  83.58781313896179\n",
      "---------------------------------------------------------------------------------\n",
      "Results using rc=4.0, n=6, l=6, gauss=0.2, zeta=3.0, minreg=1e-05:\n",
      "Error = 0.0035725852951190617 eV/atom\n",
      "Time taken:  100.76356601715088\n",
      "---------------------------------------------------------------------------------\n"
     ]
    },
    {
     "data": {
      "application/vnd.jupyter.widget-view+json": {
       "model_id": "0217108183284bce8e952225618f92f2",
       "version_major": 2,
       "version_minor": 0
      },
      "text/plain": [
       "  0%|          | 0/40 [00:00<?, ?it/s]"
      ]
     },
     "metadata": {},
     "output_type": "display_data"
    },
    {
     "data": {
      "application/vnd.jupyter.widget-view+json": {
       "model_id": "",
       "version_major": 2,
       "version_minor": 0
      },
      "text/plain": [
       "  0%|          | 0/4 [00:00<?, ?it/s]"
      ]
     },
     "metadata": {},
     "output_type": "display_data"
    },
    {
     "name": "stdout",
     "output_type": "stream",
     "text": [
      "Results using rc=4.0, n=6, l=6, gauss=0.4, zeta=2.0, minreg=1e-05:\n",
      "Error = 0.0034846661942808145 eV/atom\n",
      "Time taken:  84.05329918861389\n",
      "---------------------------------------------------------------------------------\n",
      "Results using rc=4.0, n=6, l=6, gauss=0.4, zeta=3.0, minreg=1e-05:\n",
      "Error = 0.003309462061908323 eV/atom\n",
      "Time taken:  101.18383646011353\n",
      "---------------------------------------------------------------------------------\n"
     ]
    },
    {
     "data": {
      "application/vnd.jupyter.widget-view+json": {
       "model_id": "",
       "version_major": 2,
       "version_minor": 0
      },
      "text/plain": [
       "  0%|          | 0/40 [00:00<?, ?it/s]"
      ]
     },
     "metadata": {},
     "output_type": "display_data"
    },
    {
     "data": {
      "application/vnd.jupyter.widget-view+json": {
       "model_id": "",
       "version_major": 2,
       "version_minor": 0
      },
      "text/plain": [
       "  0%|          | 0/4 [00:00<?, ?it/s]"
      ]
     },
     "metadata": {},
     "output_type": "display_data"
    },
    {
     "name": "stdout",
     "output_type": "stream",
     "text": [
      "Results using rc=4.0, n=6, l=6, gauss=0.5, zeta=2.0, minreg=1e-05:\n",
      "Error = 0.003658610418059853 eV/atom\n",
      "Time taken:  83.60352778434753\n",
      "---------------------------------------------------------------------------------\n",
      "Results using rc=4.0, n=6, l=6, gauss=0.5, zeta=3.0, minreg=1e-05:\n",
      "Error = 0.003412604069560694 eV/atom\n",
      "Time taken:  100.80333542823792\n",
      "---------------------------------------------------------------------------------\n"
     ]
    },
    {
     "data": {
      "application/vnd.jupyter.widget-view+json": {
       "model_id": "",
       "version_major": 2,
       "version_minor": 0
      },
      "text/plain": [
       "  0%|          | 0/40 [00:00<?, ?it/s]"
      ]
     },
     "metadata": {},
     "output_type": "display_data"
    },
    {
     "data": {
      "application/vnd.jupyter.widget-view+json": {
       "model_id": "",
       "version_major": 2,
       "version_minor": 0
      },
      "text/plain": [
       "  0%|          | 0/4 [00:00<?, ?it/s]"
      ]
     },
     "metadata": {},
     "output_type": "display_data"
    },
    {
     "name": "stdout",
     "output_type": "stream",
     "text": [
      "Results using rc=4.0, n=9, l=4, gauss=0.2, zeta=2.0, minreg=1e-06:\n",
      "Error = 0.003815873052860442 eV/atom\n",
      "Time taken:  87.32802510261536\n",
      "---------------------------------------------------------------------------------\n",
      "Results using rc=4.0, n=9, l=4, gauss=0.2, zeta=3.0, minreg=1e-05:\n",
      "Error = 0.0035562213182211526 eV/atom\n",
      "Time taken:  105.26402187347412\n",
      "---------------------------------------------------------------------------------\n"
     ]
    },
    {
     "data": {
      "application/vnd.jupyter.widget-view+json": {
       "model_id": "",
       "version_major": 2,
       "version_minor": 0
      },
      "text/plain": [
       "  0%|          | 0/40 [00:00<?, ?it/s]"
      ]
     },
     "metadata": {},
     "output_type": "display_data"
    },
    {
     "data": {
      "application/vnd.jupyter.widget-view+json": {
       "model_id": "",
       "version_major": 2,
       "version_minor": 0
      },
      "text/plain": [
       "  0%|          | 0/4 [00:00<?, ?it/s]"
      ]
     },
     "metadata": {},
     "output_type": "display_data"
    },
    {
     "name": "stdout",
     "output_type": "stream",
     "text": [
      "Results using rc=4.0, n=9, l=4, gauss=0.3, zeta=2.0, minreg=1e-05:\n",
      "Error = 0.003535903802687005 eV/atom\n",
      "Time taken:  87.23755931854248\n",
      "---------------------------------------------------------------------------------\n",
      "Results using rc=4.0, n=9, l=4, gauss=0.3, zeta=3.0, minreg=1e-05:\n",
      "Error = 0.0033029906099550366 eV/atom\n",
      "Time taken:  105.12631726264954\n",
      "---------------------------------------------------------------------------------\n"
     ]
    },
    {
     "data": {
      "application/vnd.jupyter.widget-view+json": {
       "model_id": "",
       "version_major": 2,
       "version_minor": 0
      },
      "text/plain": [
       "  0%|          | 0/40 [00:00<?, ?it/s]"
      ]
     },
     "metadata": {},
     "output_type": "display_data"
    },
    {
     "data": {
      "application/vnd.jupyter.widget-view+json": {
       "model_id": "",
       "version_major": 2,
       "version_minor": 0
      },
      "text/plain": [
       "  0%|          | 0/4 [00:00<?, ?it/s]"
      ]
     },
     "metadata": {},
     "output_type": "display_data"
    },
    {
     "name": "stdout",
     "output_type": "stream",
     "text": [
      "Results using rc=4.0, n=9, l=4, gauss=0.4, zeta=2.0, minreg=1e-05:\n",
      "Error = 0.0034650605592127636 eV/atom\n",
      "Time taken:  86.97673606872559\n",
      "---------------------------------------------------------------------------------\n",
      "Results using rc=4.0, n=9, l=4, gauss=0.4, zeta=3.0, minreg=1e-05:\n",
      "Error = 0.003292444682437117 eV/atom\n",
      "Time taken:  104.92616653442383\n",
      "---------------------------------------------------------------------------------\n"
     ]
    },
    {
     "data": {
      "application/vnd.jupyter.widget-view+json": {
       "model_id": "",
       "version_major": 2,
       "version_minor": 0
      },
      "text/plain": [
       "  0%|          | 0/40 [00:00<?, ?it/s]"
      ]
     },
     "metadata": {},
     "output_type": "display_data"
    },
    {
     "data": {
      "application/vnd.jupyter.widget-view+json": {
       "model_id": "",
       "version_major": 2,
       "version_minor": 0
      },
      "text/plain": [
       "  0%|          | 0/4 [00:00<?, ?it/s]"
      ]
     },
     "metadata": {},
     "output_type": "display_data"
    },
    {
     "name": "stdout",
     "output_type": "stream",
     "text": [
      "Results using rc=4.0, n=9, l=4, gauss=0.5, zeta=2.0, minreg=1e-05:\n",
      "Error = 0.00364215864163527 eV/atom\n",
      "Time taken:  87.0994029045105\n",
      "---------------------------------------------------------------------------------\n",
      "Results using rc=4.0, n=9, l=4, gauss=0.5, zeta=3.0, minreg=1e-05:\n",
      "Error = 0.003403551188596302 eV/atom\n",
      "Time taken:  105.03994250297546\n",
      "---------------------------------------------------------------------------------\n"
     ]
    },
    {
     "data": {
      "application/vnd.jupyter.widget-view+json": {
       "model_id": "",
       "version_major": 2,
       "version_minor": 0
      },
      "text/plain": [
       "  0%|          | 0/40 [00:00<?, ?it/s]"
      ]
     },
     "metadata": {},
     "output_type": "display_data"
    },
    {
     "data": {
      "application/vnd.jupyter.widget-view+json": {
       "model_id": "",
       "version_major": 2,
       "version_minor": 0
      },
      "text/plain": [
       "  0%|          | 0/4 [00:00<?, ?it/s]"
      ]
     },
     "metadata": {},
     "output_type": "display_data"
    },
    {
     "name": "stdout",
     "output_type": "stream",
     "text": [
      "Results using rc=4.0, n=9, l=6, gauss=0.2, zeta=2.0, minreg=1e-06:\n",
      "Error = 0.0037678140116025076 eV/atom\n",
      "Time taken:  125.46758389472961\n",
      "---------------------------------------------------------------------------------\n",
      "Results using rc=4.0, n=9, l=6, gauss=0.2, zeta=3.0, minreg=1e-05:\n",
      "Error = 0.003499873693294303 eV/atom\n",
      "Time taken:  144.21193408966064\n",
      "---------------------------------------------------------------------------------\n"
     ]
    },
    {
     "data": {
      "application/vnd.jupyter.widget-view+json": {
       "model_id": "",
       "version_major": 2,
       "version_minor": 0
      },
      "text/plain": [
       "  0%|          | 0/40 [00:00<?, ?it/s]"
      ]
     },
     "metadata": {},
     "output_type": "display_data"
    },
    {
     "data": {
      "application/vnd.jupyter.widget-view+json": {
       "model_id": "",
       "version_major": 2,
       "version_minor": 0
      },
      "text/plain": [
       "  0%|          | 0/4 [00:00<?, ?it/s]"
      ]
     },
     "metadata": {},
     "output_type": "display_data"
    },
    {
     "name": "stdout",
     "output_type": "stream",
     "text": [
      "Results using rc=4.0, n=9, l=6, gauss=0.3, zeta=2.0, minreg=1e-05:\n",
      "Error = 0.0034573842947204936 eV/atom\n",
      "Time taken:  125.05274844169617\n",
      "---------------------------------------------------------------------------------\n",
      "Results using rc=4.0, n=9, l=6, gauss=0.3, zeta=3.0, minreg=1e-05:\n",
      "Error = 0.0032609378688749843 eV/atom\n",
      "Time taken:  143.77879929542542\n",
      "---------------------------------------------------------------------------------\n"
     ]
    },
    {
     "data": {
      "application/vnd.jupyter.widget-view+json": {
       "model_id": "",
       "version_major": 2,
       "version_minor": 0
      },
      "text/plain": [
       "  0%|          | 0/40 [00:00<?, ?it/s]"
      ]
     },
     "metadata": {},
     "output_type": "display_data"
    },
    {
     "data": {
      "application/vnd.jupyter.widget-view+json": {
       "model_id": "",
       "version_major": 2,
       "version_minor": 0
      },
      "text/plain": [
       "  0%|          | 0/4 [00:00<?, ?it/s]"
      ]
     },
     "metadata": {},
     "output_type": "display_data"
    },
    {
     "name": "stdout",
     "output_type": "stream",
     "text": [
      "Results using rc=4.0, n=9, l=6, gauss=0.4, zeta=2.0, minreg=1e-05:\n",
      "Error = 0.0033996236782084187 eV/atom\n",
      "Time taken:  125.60542297363281\n",
      "---------------------------------------------------------------------------------\n",
      "Results using rc=4.0, n=9, l=6, gauss=0.4, zeta=3.0, minreg=1e-05:\n",
      "Error = 0.0032649808757396577 eV/atom\n",
      "Time taken:  144.4166488647461\n",
      "---------------------------------------------------------------------------------\n"
     ]
    },
    {
     "data": {
      "application/vnd.jupyter.widget-view+json": {
       "model_id": "",
       "version_major": 2,
       "version_minor": 0
      },
      "text/plain": [
       "  0%|          | 0/40 [00:00<?, ?it/s]"
      ]
     },
     "metadata": {},
     "output_type": "display_data"
    },
    {
     "data": {
      "application/vnd.jupyter.widget-view+json": {
       "model_id": "",
       "version_major": 2,
       "version_minor": 0
      },
      "text/plain": [
       "  0%|          | 0/4 [00:00<?, ?it/s]"
      ]
     },
     "metadata": {},
     "output_type": "display_data"
    },
    {
     "name": "stdout",
     "output_type": "stream",
     "text": [
      "Results using rc=4.0, n=9, l=6, gauss=0.5, zeta=2.0, minreg=1e-05:\n",
      "Error = 0.003580896273935685 eV/atom\n",
      "Time taken:  124.93761348724365\n",
      "---------------------------------------------------------------------------------\n",
      "Results using rc=4.0, n=9, l=6, gauss=0.5, zeta=3.0, minreg=1e-05:\n",
      "Error = 0.0033832598177934107 eV/atom\n",
      "Time taken:  143.74483132362366\n",
      "---------------------------------------------------------------------------------\n"
     ]
    },
    {
     "data": {
      "application/vnd.jupyter.widget-view+json": {
       "model_id": "",
       "version_major": 2,
       "version_minor": 0
      },
      "text/plain": [
       "  0%|          | 0/40 [00:00<?, ?it/s]"
      ]
     },
     "metadata": {},
     "output_type": "display_data"
    },
    {
     "data": {
      "application/vnd.jupyter.widget-view+json": {
       "model_id": "",
       "version_major": 2,
       "version_minor": 0
      },
      "text/plain": [
       "  0%|          | 0/4 [00:00<?, ?it/s]"
      ]
     },
     "metadata": {},
     "output_type": "display_data"
    },
    {
     "name": "stdout",
     "output_type": "stream",
     "text": [
      "Results using rc=6.0, n=6, l=4, gauss=0.2, zeta=2.0, minreg=1e-06:\n",
      "Error = 0.0034574663414286807 eV/atom\n",
      "Time taken:  116.72413444519043\n",
      "---------------------------------------------------------------------------------\n",
      "Results using rc=6.0, n=6, l=4, gauss=0.2, zeta=3.0, minreg=1e-05:\n",
      "Error = 0.0032649672184883595 eV/atom\n",
      "Time taken:  133.46645092964172\n",
      "---------------------------------------------------------------------------------\n"
     ]
    },
    {
     "data": {
      "application/vnd.jupyter.widget-view+json": {
       "model_id": "",
       "version_major": 2,
       "version_minor": 0
      },
      "text/plain": [
       "  0%|          | 0/40 [00:00<?, ?it/s]"
      ]
     },
     "metadata": {},
     "output_type": "display_data"
    },
    {
     "data": {
      "application/vnd.jupyter.widget-view+json": {
       "model_id": "",
       "version_major": 2,
       "version_minor": 0
      },
      "text/plain": [
       "  0%|          | 0/4 [00:00<?, ?it/s]"
      ]
     },
     "metadata": {},
     "output_type": "display_data"
    },
    {
     "name": "stdout",
     "output_type": "stream",
     "text": [
      "Results using rc=6.0, n=6, l=4, gauss=0.3, zeta=2.0, minreg=1e-05:\n",
      "Error = 0.003406373233342118 eV/atom\n",
      "Time taken:  117.00523805618286\n",
      "---------------------------------------------------------------------------------\n",
      "Results using rc=6.0, n=6, l=4, gauss=0.3, zeta=3.0, minreg=1e-05:\n",
      "Error = 0.003227737847416436 eV/atom\n",
      "Time taken:  133.80000710487366\n",
      "---------------------------------------------------------------------------------\n"
     ]
    },
    {
     "data": {
      "application/vnd.jupyter.widget-view+json": {
       "model_id": "",
       "version_major": 2,
       "version_minor": 0
      },
      "text/plain": [
       "  0%|          | 0/40 [00:00<?, ?it/s]"
      ]
     },
     "metadata": {},
     "output_type": "display_data"
    },
    {
     "data": {
      "application/vnd.jupyter.widget-view+json": {
       "model_id": "",
       "version_major": 2,
       "version_minor": 0
      },
      "text/plain": [
       "  0%|          | 0/4 [00:00<?, ?it/s]"
      ]
     },
     "metadata": {},
     "output_type": "display_data"
    },
    {
     "name": "stdout",
     "output_type": "stream",
     "text": [
      "Results using rc=6.0, n=6, l=4, gauss=0.4, zeta=2.0, minreg=1e-05:\n",
      "Error = 0.0034372034556241684 eV/atom\n",
      "Time taken:  117.32609033584595\n",
      "---------------------------------------------------------------------------------\n",
      "Results using rc=6.0, n=6, l=4, gauss=0.4, zeta=3.0, minreg=1e-05:\n",
      "Error = 0.0032617533833880453 eV/atom\n",
      "Time taken:  134.08903741836548\n",
      "---------------------------------------------------------------------------------\n"
     ]
    },
    {
     "data": {
      "application/vnd.jupyter.widget-view+json": {
       "model_id": "",
       "version_major": 2,
       "version_minor": 0
      },
      "text/plain": [
       "  0%|          | 0/40 [00:00<?, ?it/s]"
      ]
     },
     "metadata": {},
     "output_type": "display_data"
    },
    {
     "data": {
      "application/vnd.jupyter.widget-view+json": {
       "model_id": "",
       "version_major": 2,
       "version_minor": 0
      },
      "text/plain": [
       "  0%|          | 0/4 [00:00<?, ?it/s]"
      ]
     },
     "metadata": {},
     "output_type": "display_data"
    },
    {
     "name": "stdout",
     "output_type": "stream",
     "text": [
      "Results using rc=6.0, n=6, l=4, gauss=0.5, zeta=2.0, minreg=1e-06:\n",
      "Error = 0.0035585300086519653 eV/atom\n",
      "Time taken:  117.02691316604614\n",
      "---------------------------------------------------------------------------------\n",
      "Results using rc=6.0, n=6, l=4, gauss=0.5, zeta=3.0, minreg=1e-05:\n",
      "Error = 0.003352396382342394 eV/atom\n",
      "Time taken:  133.7808394432068\n",
      "---------------------------------------------------------------------------------\n"
     ]
    },
    {
     "data": {
      "application/vnd.jupyter.widget-view+json": {
       "model_id": "",
       "version_major": 2,
       "version_minor": 0
      },
      "text/plain": [
       "  0%|          | 0/40 [00:00<?, ?it/s]"
      ]
     },
     "metadata": {},
     "output_type": "display_data"
    },
    {
     "data": {
      "application/vnd.jupyter.widget-view+json": {
       "model_id": "",
       "version_major": 2,
       "version_minor": 0
      },
      "text/plain": [
       "  0%|          | 0/4 [00:00<?, ?it/s]"
      ]
     },
     "metadata": {},
     "output_type": "display_data"
    },
    {
     "name": "stdout",
     "output_type": "stream",
     "text": [
      "Results using rc=6.0, n=6, l=6, gauss=0.2, zeta=2.0, minreg=1e-05:\n",
      "Error = 0.00340793370117842 eV/atom\n",
      "Time taken:  158.044917345047\n",
      "---------------------------------------------------------------------------------\n",
      "Results using rc=6.0, n=6, l=6, gauss=0.2, zeta=3.0, minreg=1e-05:\n",
      "Error = 0.003263660118312655 eV/atom\n",
      "Time taken:  175.13648104667664\n",
      "---------------------------------------------------------------------------------\n"
     ]
    },
    {
     "data": {
      "application/vnd.jupyter.widget-view+json": {
       "model_id": "",
       "version_major": 2,
       "version_minor": 0
      },
      "text/plain": [
       "  0%|          | 0/40 [00:00<?, ?it/s]"
      ]
     },
     "metadata": {},
     "output_type": "display_data"
    },
    {
     "data": {
      "application/vnd.jupyter.widget-view+json": {
       "model_id": "",
       "version_major": 2,
       "version_minor": 0
      },
      "text/plain": [
       "  0%|          | 0/4 [00:00<?, ?it/s]"
      ]
     },
     "metadata": {},
     "output_type": "display_data"
    },
    {
     "name": "stdout",
     "output_type": "stream",
     "text": [
      "Results using rc=6.0, n=6, l=6, gauss=0.3, zeta=2.0, minreg=1e-05:\n",
      "Error = 0.003341927045182621 eV/atom\n",
      "Time taken:  158.81839752197266\n",
      "---------------------------------------------------------------------------------\n",
      "Results using rc=6.0, n=6, l=6, gauss=0.3, zeta=3.0, minreg=1e-05:\n",
      "Error = 0.003197866449004104 eV/atom\n",
      "Time taken:  175.93037915229797\n",
      "---------------------------------------------------------------------------------\n"
     ]
    },
    {
     "data": {
      "application/vnd.jupyter.widget-view+json": {
       "model_id": "",
       "version_major": 2,
       "version_minor": 0
      },
      "text/plain": [
       "  0%|          | 0/40 [00:00<?, ?it/s]"
      ]
     },
     "metadata": {},
     "output_type": "display_data"
    },
    {
     "data": {
      "application/vnd.jupyter.widget-view+json": {
       "model_id": "",
       "version_major": 2,
       "version_minor": 0
      },
      "text/plain": [
       "  0%|          | 0/4 [00:00<?, ?it/s]"
      ]
     },
     "metadata": {},
     "output_type": "display_data"
    },
    {
     "name": "stdout",
     "output_type": "stream",
     "text": [
      "Results using rc=6.0, n=6, l=6, gauss=0.4, zeta=2.0, minreg=1e-05:\n",
      "Error = 0.003392474210433983 eV/atom\n",
      "Time taken:  159.90526819229126\n",
      "---------------------------------------------------------------------------------\n",
      "Results using rc=6.0, n=6, l=6, gauss=0.4, zeta=3.0, minreg=1e-05:\n",
      "Error = 0.0032154130695879932 eV/atom\n",
      "Time taken:  177.08552813529968\n",
      "---------------------------------------------------------------------------------\n"
     ]
    },
    {
     "data": {
      "application/vnd.jupyter.widget-view+json": {
       "model_id": "",
       "version_major": 2,
       "version_minor": 0
      },
      "text/plain": [
       "  0%|          | 0/40 [00:00<?, ?it/s]"
      ]
     },
     "metadata": {},
     "output_type": "display_data"
    },
    {
     "data": {
      "application/vnd.jupyter.widget-view+json": {
       "model_id": "",
       "version_major": 2,
       "version_minor": 0
      },
      "text/plain": [
       "  0%|          | 0/4 [00:00<?, ?it/s]"
      ]
     },
     "metadata": {},
     "output_type": "display_data"
    },
    {
     "name": "stdout",
     "output_type": "stream",
     "text": [
      "Results using rc=6.0, n=6, l=6, gauss=0.5, zeta=2.0, minreg=1e-05:\n",
      "Error = 0.003540718200147211 eV/atom\n",
      "Time taken:  158.31112790107727\n",
      "---------------------------------------------------------------------------------\n",
      "Results using rc=6.0, n=6, l=6, gauss=0.5, zeta=3.0, minreg=1e-05:\n",
      "Error = 0.0033165529925520834 eV/atom\n",
      "Time taken:  175.49212217330933\n",
      "---------------------------------------------------------------------------------\n"
     ]
    },
    {
     "data": {
      "application/vnd.jupyter.widget-view+json": {
       "model_id": "",
       "version_major": 2,
       "version_minor": 0
      },
      "text/plain": [
       "  0%|          | 0/40 [00:00<?, ?it/s]"
      ]
     },
     "metadata": {},
     "output_type": "display_data"
    },
    {
     "data": {
      "application/vnd.jupyter.widget-view+json": {
       "model_id": "",
       "version_major": 2,
       "version_minor": 0
      },
      "text/plain": [
       "  0%|          | 0/4 [00:00<?, ?it/s]"
      ]
     },
     "metadata": {},
     "output_type": "display_data"
    },
    {
     "name": "stdout",
     "output_type": "stream",
     "text": [
      "Results using rc=6.0, n=9, l=4, gauss=0.2, zeta=2.0, minreg=1e-06:\n",
      "Error = 0.0034316815827771076 eV/atom\n",
      "Time taken:  147.99601340293884\n",
      "---------------------------------------------------------------------------------\n",
      "Results using rc=6.0, n=9, l=4, gauss=0.2, zeta=3.0, minreg=1e-05:\n",
      "Error = 0.0032509224111980026 eV/atom\n",
      "Time taken:  165.97528624534607\n",
      "---------------------------------------------------------------------------------\n"
     ]
    },
    {
     "data": {
      "application/vnd.jupyter.widget-view+json": {
       "model_id": "",
       "version_major": 2,
       "version_minor": 0
      },
      "text/plain": [
       "  0%|          | 0/40 [00:00<?, ?it/s]"
      ]
     },
     "metadata": {},
     "output_type": "display_data"
    },
    {
     "data": {
      "application/vnd.jupyter.widget-view+json": {
       "model_id": "",
       "version_major": 2,
       "version_minor": 0
      },
      "text/plain": [
       "  0%|          | 0/4 [00:00<?, ?it/s]"
      ]
     },
     "metadata": {},
     "output_type": "display_data"
    },
    {
     "name": "stdout",
     "output_type": "stream",
     "text": [
      "Results using rc=6.0, n=9, l=4, gauss=0.3, zeta=2.0, minreg=1e-05:\n",
      "Error = 0.0032436129398091436 eV/atom\n",
      "Time taken:  147.89372992515564\n",
      "---------------------------------------------------------------------------------\n",
      "Results using rc=6.0, n=9, l=4, gauss=0.3, zeta=3.0, minreg=1e-05:\n",
      "Error = 0.0031333298430689343 eV/atom\n",
      "Time taken:  165.89367079734802\n",
      "---------------------------------------------------------------------------------\n"
     ]
    },
    {
     "data": {
      "application/vnd.jupyter.widget-view+json": {
       "model_id": "",
       "version_major": 2,
       "version_minor": 0
      },
      "text/plain": [
       "  0%|          | 0/40 [00:00<?, ?it/s]"
      ]
     },
     "metadata": {},
     "output_type": "display_data"
    },
    {
     "data": {
      "application/vnd.jupyter.widget-view+json": {
       "model_id": "",
       "version_major": 2,
       "version_minor": 0
      },
      "text/plain": [
       "  0%|          | 0/4 [00:00<?, ?it/s]"
      ]
     },
     "metadata": {},
     "output_type": "display_data"
    },
    {
     "name": "stdout",
     "output_type": "stream",
     "text": [
      "Results using rc=6.0, n=9, l=4, gauss=0.4, zeta=2.0, minreg=1e-05:\n",
      "Error = 0.003250605467293558 eV/atom\n",
      "Time taken:  151.63241481781006\n",
      "---------------------------------------------------------------------------------\n",
      "Results using rc=6.0, n=9, l=4, gauss=0.4, zeta=3.0, minreg=1e-05:\n",
      "Error = 0.0031408814332406394 eV/atom\n",
      "Time taken:  169.55414390563965\n",
      "---------------------------------------------------------------------------------\n"
     ]
    },
    {
     "data": {
      "application/vnd.jupyter.widget-view+json": {
       "model_id": "7261c15bb32f4b45a1fcee9723a61e60",
       "version_major": 2,
       "version_minor": 0
      },
      "text/plain": [
       "  0%|          | 0/40 [00:00<?, ?it/s]"
      ]
     },
     "metadata": {},
     "output_type": "display_data"
    },
    {
     "name": "stderr",
     "output_type": "stream",
     "text": [
      "IOPub message rate exceeded.\n",
      "The notebook server will temporarily stop sending output\n",
      "to the client in order to avoid crashing it.\n",
      "To change this limit, set the config variable\n",
      "`--NotebookApp.iopub_msg_rate_limit`.\n",
      "\n",
      "Current values:\n",
      "NotebookApp.iopub_msg_rate_limit=1000.0 (msgs/sec)\n",
      "NotebookApp.rate_limit_window=3.0 (secs)\n",
      "\n"
     ]
    }
   ],
   "source": [
    "#Loop for soap hyperparameter optimisation\n",
    "n_train = 10000\n",
    "\n",
    "results_gauss=[]\n",
    "count=0; \n",
    "\n",
    "#Iterate over interaction cuttoff\n",
    "for rc in [4.,6.]:\n",
    "    hypers['interaction_cutoff']=rc\n",
    "    \n",
    "    #Iterate over nmax\n",
    "    for n in [6,9]:\n",
    "        hypers['max_radial'] = n\n",
    "        \n",
    "        #Iterate over lmax\n",
    "        for l in [4,6]:\n",
    "            hypers['max_angular'] = l\n",
    "            \n",
    "            for gauss in [0.2, 0.3, 0.4, 0.5]:\n",
    "                hypers['gaussian_sigma_constant'] = gauss\n",
    "                start = time()\n",
    "                soap = SphericalInvariants(**hypers) #redefine soap with new parameters\n",
    "                #print(\"Iteration: \", count+1, \"/ 36\") #keep count of iteration\n",
    "                train_feat=get_features(train_frames[:n_train], batch_size=250) #get features for training set\n",
    "                val_feat=get_features(val_frames, batch_size=250) #get features for validation set\n",
    "                count+=1\n",
    "\n",
    "                #Normalise feature vectors\n",
    "                for feat in train_feat:\n",
    "                    feat/=np.linalg.norm(feat)\n",
    "                for feat in val_feat:\n",
    "                    feat/=np.linalg.norm(feat)\n",
    "\n",
    "                #Iterate over zeta values\n",
    "                for zeta in [2.,3.]:\n",
    "                    K = np.dot(train_feat,train_feat.T)**zeta #compute covariance matrix for training\n",
    "                    Kval = np.dot(val_feat,train_feat.T)**zeta #compute covariance matrix for validation\n",
    "\n",
    "                    #Iterate over regularization values\n",
    "                    minerr = 1e24 ; minreg = 0\n",
    "                    for reg in np.logspace(-9,-5,5):\n",
    "                        KRR = KernelRidge(kernel='precomputed',alpha = reg)\n",
    "                        KRR.fit(K,yred_train[:n_train])\n",
    "                        err = np.std(yred_val - KRR.predict(Kval))\n",
    "                        if err < minerr:\n",
    "                            minerr = err.copy()\n",
    "                            minreg = reg.copy()\n",
    "                    results_gauss.append([minerr, rc, n, l, gauss, zeta, minreg])\n",
    "                    print(f\"Results using rc={rc}, n={n}, l={l}, gauss={gauss}, zeta={zeta}, minreg={minreg}:\")\n",
    "                    print(f\"Error = {minerr} eV/atom\")\n",
    "                    print('Time taken: ',time()-start)\n",
    "                    print(\"---------------------------------------------------------------------------------\")"
   ]
  },
  {
   "cell_type": "code",
   "execution_count": 40,
   "id": "ac1be8e3",
   "metadata": {},
   "outputs": [
    {
     "data": {
      "text/plain": [
       "array([[3.06609729e-03, 6.00000000e+00, 9.00000000e+00, 6.00000000e+00,\n",
       "        4.00000000e-01, 3.00000000e+00, 1.00000000e-05]])"
      ]
     },
     "execution_count": 40,
     "metadata": {},
     "output_type": "execute_result"
    }
   ],
   "source": [
    "np.save('delta_data/hyperparam_optimisation_results_gauss', np.asarray(results_gauss))\n",
    "\n",
    "hyperopt=np.load('delta_data/hyperparam_optimisation_results_gauss.npy')\n",
    "\n",
    "# Find optimal hyperparameters, which correspond to the lowest error\n",
    "hyperopt[np.where(hyperopt==np.amin(hyperopt, axis=0)[0])[0]]"
   ]
  },
  {
   "cell_type": "markdown",
   "id": "9a511492",
   "metadata": {},
   "source": [
    "Optimal hyperparameters (without expending computational efficiency too much) from both optimisations seem to be as follows:\n",
    "- Cutoff = 6A\n",
    "- nmax = 9\n",
    "- lmax = 6\n",
    "- gaussian sigma = 0.4\n",
    "- zeta = 3"
   ]
  },
  {
   "cell_type": "markdown",
   "id": "f10312a9",
   "metadata": {},
   "source": [
    "# PCovFPS Feature Selection"
   ]
  },
  {
   "cell_type": "code",
   "execution_count": 58,
   "id": "6094aa9d",
   "metadata": {},
   "outputs": [],
   "source": [
    "#Define soap hyperparameters\n",
    "zeta=3\n",
    "hypers = dict(soap_type=\"PowerSpectrum\",\n",
    "              interaction_cutoff=6, #cutoff distance in angstroms\n",
    "              max_radial=9, #no. of radial basis functions\n",
    "              max_angular=6, #no. of angular basis functions\n",
    "              gaussian_sigma_constant=0.4, #sigma width (i.e. amount of 'smearing')\n",
    "              gaussian_sigma_type=\"Constant\",\n",
    "              cutoff_function_type=\"RadialScaling\",\n",
    "              cutoff_smooth_width=0.5,\n",
    "              cutoff_function_parameters=\n",
    "                    dict(\n",
    "                            rate=1,\n",
    "                            scale=2,\n",
    "                            exponent=4\n",
    "                        ),\n",
    "              radial_basis=\"GTO\",\n",
    "              normalize=True,\n",
    "              optimization=\n",
    "                    dict(\n",
    "                            Spline=dict(\n",
    "                               accuracy=1.0e-05\n",
    "                            )\n",
    "                        ),\n",
    "              compute_gradients=False #don't care about forces right now\n",
    "              )\n",
    "soap = SphericalInvariants(**hypers)"
   ]
  },
  {
   "cell_type": "code",
   "execution_count": 27,
   "id": "71299efb",
   "metadata": {},
   "outputs": [
    {
     "data": {
      "application/vnd.jupyter.widget-view+json": {
       "model_id": "",
       "version_major": 2,
       "version_minor": 0
      },
      "text/plain": [
       "  0%|          | 0/95 [00:00<?, ?it/s]"
      ]
     },
     "metadata": {},
     "output_type": "display_data"
    }
   ],
   "source": [
    "#get per-structure training features\n",
    "train_feats = get_features(train_frames, batch_size=250, progress_bar=True)"
   ]
  },
  {
   "cell_type": "code",
   "execution_count": 67,
   "id": "9fb40e51",
   "metadata": {},
   "outputs": [
    {
     "data": {
      "application/vnd.jupyter.widget-view+json": {
       "model_id": "ebf8a473b5f646d8a3d14c940fd74b6a",
       "version_major": 2,
       "version_minor": 0
      },
      "text/plain": [
       "  0%|          | 0/5668 [00:00<?, ?it/s]"
      ]
     },
     "metadata": {},
     "output_type": "display_data"
    }
   ],
   "source": [
    "#Do PCovFPS feature selection\n",
    "selector = PCovFPS_features(mixing=0.3, initialize=0, progress_bar=True, n_to_select=len(train_feats.T)-1)\n",
    "selector.fit(train_feats, yred_train)\n",
    "pcf_feat_ids = selector.selected_idx_"
   ]
  },
  {
   "cell_type": "code",
   "execution_count": 68,
   "id": "0c0cc35d",
   "metadata": {},
   "outputs": [],
   "source": [
    "#Save PCovFPS-sorted sample IDs\n",
    "np.save('delta_data/pcovfps_features_selected_idx', pcf_feat_ids)"
   ]
  },
  {
   "cell_type": "code",
   "execution_count": 7,
   "id": "23540098",
   "metadata": {},
   "outputs": [],
   "source": [
    "#Reload PCovFPS-sorted sample IDs\n",
    "pcf_feat_ids = np.load('delta_data/pcovfps_features_selected_idx.npy')"
   ]
  },
  {
   "cell_type": "code",
   "execution_count": 70,
   "id": "55eaa10c",
   "metadata": {},
   "outputs": [
    {
     "data": {
      "image/png": "[encoded data removed]",
      "text/plain": [
       "<Figure size 640x480 with 1 Axes>"
      ]
     },
     "metadata": {},
     "output_type": "display_data"
    }
   ],
   "source": [
    "#Plot distances\n",
    "plt.plot(range(len(train_feats.T)-2), selector.get_select_distance()[1:])\n",
    "plt.yscale('log')"
   ]
  },
  {
   "cell_type": "markdown",
   "id": "098c9fda",
   "metadata": {},
   "source": [
    "It seems like it may be best to use 1500 or so features, but this should really be investigated further by creating a loop to check how the regression error varies when changing the number of features. Should probably do the same for the number of training samples..."
   ]
  },
  {
   "cell_type": "code",
   "execution_count": 71,
   "id": "1b1980a5",
   "metadata": {},
   "outputs": [],
   "source": [
    "#Figure out which indices are mapped to which features\n",
    "sp_pairs = soap.get_keys([1, 6, 7, 8])\n",
    "mapping = get_power_spectrum_index_mapping(\n",
    "    sp_pairs, n_max=hypers[\"max_radial\"], l_max=hypers[\"max_angular\"]+1 \n",
    ") # +1 in lmax needed because of some Librascal bug (Rose said)"
   ]
  },
  {
   "cell_type": "code",
   "execution_count": 72,
   "id": "8737f35a",
   "metadata": {},
   "outputs": [],
   "source": [
    "#Tell soap to only use indices from PCovFPS sorting\n",
    "n_feats = 2000 #use this number of features\n",
    "a = [mapping[i]['a'] for i in pcf_feat_ids[:n_feats]]\n",
    "b = [mapping[i]['b'] for i in pcf_feat_ids[:n_feats]]\n",
    "n1 = [mapping[i]['n1'] for i in pcf_feat_ids[:n_feats]]\n",
    "n2 = [mapping[i]['n2'] for i in pcf_feat_ids[:n_feats]]\n",
    "l = [mapping[i]['l'] for i in pcf_feat_ids[:n_feats]]\n",
    "\n",
    "soap = SphericalInvariants(**hypers, coefficient_subselection={\"a\": a, \"b\": b, \"n1\": n1, \"n2\":n2, \"l\":l})"
   ]
  },
  {
   "cell_type": "markdown",
   "id": "f7f5410d",
   "metadata": {},
   "source": [
    "# Optimise No. of Samples and Features"
   ]
  },
  {
   "cell_type": "code",
   "execution_count": 91,
   "id": "f8a94a42",
   "metadata": {
    "scrolled": true
   },
   "outputs": [
    {
     "data": {
      "application/vnd.jupyter.widget-view+json": {
       "model_id": "",
       "version_major": 2,
       "version_minor": 0
      },
      "text/plain": [
       "  0%|          | 0/4 [00:00<?, ?it/s]"
      ]
     },
     "metadata": {},
     "output_type": "display_data"
    },
    {
     "data": {
      "application/vnd.jupyter.widget-view+json": {
       "model_id": "",
       "version_major": 2,
       "version_minor": 0
      },
      "text/plain": [
       "  0%|          | 0/20 [00:00<?, ?it/s]"
      ]
     },
     "metadata": {},
     "output_type": "display_data"
    },
    {
     "name": "stdout",
     "output_type": "stream",
     "text": [
      "Results using n_samples=5000, minreg=1e-05:\n",
      "Error = 0.004792773360393965 eV/atom\n",
      "Time taken:  73.68238711357117\n",
      "---------------------------------------------------------------------------------\n"
     ]
    },
    {
     "data": {
      "application/vnd.jupyter.widget-view+json": {
       "model_id": "",
       "version_major": 2,
       "version_minor": 0
      },
      "text/plain": [
       "  0%|          | 0/24 [00:00<?, ?it/s]"
      ]
     },
     "metadata": {},
     "output_type": "display_data"
    },
    {
     "name": "stdout",
     "output_type": "stream",
     "text": [
      "Results using n_samples=6000, minreg=1e-05:\n",
      "Error = 0.004421189386618893 eV/atom\n",
      "Time taken:  89.77724957466125\n",
      "---------------------------------------------------------------------------------\n"
     ]
    },
    {
     "data": {
      "application/vnd.jupyter.widget-view+json": {
       "model_id": "",
       "version_major": 2,
       "version_minor": 0
      },
      "text/plain": [
       "  0%|          | 0/28 [00:00<?, ?it/s]"
      ]
     },
     "metadata": {},
     "output_type": "display_data"
    },
    {
     "name": "stdout",
     "output_type": "stream",
     "text": [
      "Results using n_samples=7000, minreg=1e-05:\n",
      "Error = 0.0039426817191584975 eV/atom\n",
      "Time taken:  104.81004047393799\n",
      "---------------------------------------------------------------------------------\n"
     ]
    },
    {
     "data": {
      "application/vnd.jupyter.widget-view+json": {
       "model_id": "",
       "version_major": 2,
       "version_minor": 0
      },
      "text/plain": [
       "  0%|          | 0/32 [00:00<?, ?it/s]"
      ]
     },
     "metadata": {},
     "output_type": "display_data"
    },
    {
     "name": "stdout",
     "output_type": "stream",
     "text": [
      "Results using n_samples=8000, minreg=1e-05:\n",
      "Error = 0.0037081932842559307 eV/atom\n",
      "Time taken:  124.07098412513733\n",
      "---------------------------------------------------------------------------------\n"
     ]
    },
    {
     "data": {
      "application/vnd.jupyter.widget-view+json": {
       "model_id": "",
       "version_major": 2,
       "version_minor": 0
      },
      "text/plain": [
       "  0%|          | 0/36 [00:00<?, ?it/s]"
      ]
     },
     "metadata": {},
     "output_type": "display_data"
    },
    {
     "name": "stdout",
     "output_type": "stream",
     "text": [
      "Results using n_samples=9000, minreg=1e-05:\n",
      "Error = 0.003307952209091278 eV/atom\n",
      "Time taken:  138.6951506137848\n",
      "---------------------------------------------------------------------------------\n"
     ]
    },
    {
     "data": {
      "application/vnd.jupyter.widget-view+json": {
       "model_id": "",
       "version_major": 2,
       "version_minor": 0
      },
      "text/plain": [
       "  0%|          | 0/40 [00:00<?, ?it/s]"
      ]
     },
     "metadata": {},
     "output_type": "display_data"
    },
    {
     "name": "stdout",
     "output_type": "stream",
     "text": [
      "Results using n_samples=10000, minreg=1e-05:\n",
      "Error = 0.0031412263659494313 eV/atom\n",
      "Time taken:  157.31473755836487\n",
      "---------------------------------------------------------------------------------\n"
     ]
    },
    {
     "data": {
      "application/vnd.jupyter.widget-view+json": {
       "model_id": "",
       "version_major": 2,
       "version_minor": 0
      },
      "text/plain": [
       "  0%|          | 0/44 [00:00<?, ?it/s]"
      ]
     },
     "metadata": {},
     "output_type": "display_data"
    },
    {
     "name": "stdout",
     "output_type": "stream",
     "text": [
      "Results using n_samples=11000, minreg=1e-05:\n",
      "Error = 0.0029088746390765413 eV/atom\n",
      "Time taken:  176.7822301387787\n",
      "---------------------------------------------------------------------------------\n"
     ]
    },
    {
     "data": {
      "application/vnd.jupyter.widget-view+json": {
       "model_id": "",
       "version_major": 2,
       "version_minor": 0
      },
      "text/plain": [
       "  0%|          | 0/48 [00:00<?, ?it/s]"
      ]
     },
     "metadata": {},
     "output_type": "display_data"
    },
    {
     "name": "stdout",
     "output_type": "stream",
     "text": [
      "Results using n_samples=12000, minreg=1e-06:\n",
      "Error = 0.00277789588880742 eV/atom\n",
      "Time taken:  196.33304381370544\n",
      "---------------------------------------------------------------------------------\n"
     ]
    },
    {
     "data": {
      "application/vnd.jupyter.widget-view+json": {
       "model_id": "",
       "version_major": 2,
       "version_minor": 0
      },
      "text/plain": [
       "  0%|          | 0/52 [00:00<?, ?it/s]"
      ]
     },
     "metadata": {},
     "output_type": "display_data"
    },
    {
     "name": "stdout",
     "output_type": "stream",
     "text": [
      "Results using n_samples=13000, minreg=1e-06:\n",
      "Error = 0.002678318742259399 eV/atom\n",
      "Time taken:  219.1603808403015\n",
      "---------------------------------------------------------------------------------\n"
     ]
    },
    {
     "data": {
      "application/vnd.jupyter.widget-view+json": {
       "model_id": "",
       "version_major": 2,
       "version_minor": 0
      },
      "text/plain": [
       "  0%|          | 0/56 [00:00<?, ?it/s]"
      ]
     },
     "metadata": {},
     "output_type": "display_data"
    },
    {
     "name": "stdout",
     "output_type": "stream",
     "text": [
      "Results using n_samples=14000, minreg=1e-06:\n",
      "Error = 0.002575530024026604 eV/atom\n",
      "Time taken:  236.31686067581177\n",
      "---------------------------------------------------------------------------------\n"
     ]
    },
    {
     "data": {
      "application/vnd.jupyter.widget-view+json": {
       "model_id": "",
       "version_major": 2,
       "version_minor": 0
      },
      "text/plain": [
       "  0%|          | 0/60 [00:00<?, ?it/s]"
      ]
     },
     "metadata": {},
     "output_type": "display_data"
    },
    {
     "name": "stdout",
     "output_type": "stream",
     "text": [
      "Results using n_samples=15000, minreg=1e-06:\n",
      "Error = 0.0024711339580227353 eV/atom\n",
      "Time taken:  256.3306174278259\n",
      "---------------------------------------------------------------------------------\n"
     ]
    }
   ],
   "source": [
    "#Loop for determining optimal numbers of samples and features...\n",
    "results=[]\n",
    "\n",
    "val_feat=get_features(val_frames, batch_size=250) #get features for validation set\n",
    "\n",
    "#Iterate n_samples\n",
    "for samples in range(5000, 16000, 1000):\n",
    "        start = time()\n",
    "        n_train=samples\n",
    "        train_feat=get_features(train_frames[:n_train], batch_size=250) #get features for training set\n",
    "\n",
    "        #Normalise feature vectors\n",
    "        for feat in train_feat:\n",
    "            feat/=np.linalg.norm(feat)\n",
    "        for feat in val_feat:\n",
    "            feat/=np.linalg.norm(feat)\n",
    "\n",
    "        K = np.dot(train_feat,train_feat.T)**zeta #compute covariance matrix for training\n",
    "        Kval = np.dot(val_feat,train_feat.T)**zeta #compute covariance matrix for validation\n",
    "\n",
    "        #Iterate over regularization values\n",
    "        minerr = 1e24 ; minreg = 0\n",
    "        for reg in np.logspace(-9,-5,5):\n",
    "            KRR = KernelRidge(kernel='precomputed',alpha = reg)\n",
    "            KRR.fit(K,yred_train[:n_train])\n",
    "            err = np.std(yred_val - KRR.predict(Kval))\n",
    "            if err < minerr:\n",
    "                minerr = err.copy()\n",
    "                minreg = reg.copy()\n",
    "        results.append([minerr, n_train, minreg])\n",
    "        print(f\"Results using n_samples={n_train}, minreg={minreg}:\")\n",
    "        print(f\"Error = {minerr} eV/atom\")\n",
    "        print('Time taken: ',time()-start)\n",
    "        print(\"---------------------------------------------------------------------------------\")"
   ]
  },
  {
   "cell_type": "code",
   "execution_count": 92,
   "id": "836194bb",
   "metadata": {},
   "outputs": [],
   "source": [
    "#Save and re-load results\n",
    "np.save('delta_data/nsamples_optimisation_results', np.asarray(results))\n",
    "results=np.load('delta_data/nsamples_optimisation_results.npy')"
   ]
  },
  {
   "cell_type": "code",
   "execution_count": 93,
   "id": "6edf060e",
   "metadata": {},
   "outputs": [
    {
     "data": {
      "image/png": "[encoded data removed]",
      "text/plain": [
       "<Figure size 640x480 with 1 Axes>"
      ]
     },
     "metadata": {},
     "output_type": "display_data"
    }
   ],
   "source": [
    "#Plot learning curve\n",
    "plt.plot(results[:, 1], results[:, 0])\n",
    "plt.yscale('log')\n",
    "plt.xscale('log')"
   ]
  },
  {
   "cell_type": "markdown",
   "id": "d62a6b73",
   "metadata": {},
   "source": [
    "Looks like th elearning curve hasn't really saturated yet. However, in order to minimise the size of the model, let's just use 15k samples and not increase it any further. "
   ]
  },
  {
   "cell_type": "code",
   "execution_count": 100,
   "id": "17eba303",
   "metadata": {
    "scrolled": true
   },
   "outputs": [
    {
     "data": {
      "application/vnd.jupyter.widget-view+json": {
       "model_id": "",
       "version_major": 2,
       "version_minor": 0
      },
      "text/plain": [
       "  0%|          | 0/10 [00:00<?, ?it/s]"
      ]
     },
     "metadata": {},
     "output_type": "display_data"
    },
    {
     "data": {
      "application/vnd.jupyter.widget-view+json": {
       "model_id": "",
       "version_major": 2,
       "version_minor": 0
      },
      "text/plain": [
       "  0%|          | 0/40 [00:00<?, ?it/s]"
      ]
     },
     "metadata": {},
     "output_type": "display_data"
    },
    {
     "data": {
      "application/vnd.jupyter.widget-view+json": {
       "model_id": "",
       "version_major": 2,
       "version_minor": 0
      },
      "text/plain": [
       "  0%|          | 0/4 [00:00<?, ?it/s]"
      ]
     },
     "metadata": {},
     "output_type": "display_data"
    },
    {
     "name": "stdout",
     "output_type": "stream",
     "text": [
      "Results using n_feats=1000, minreg=1e-05:\n",
      "Error = 0.003286864916339273 eV/atom\n",
      "Time taken:  160.24697065353394\n",
      "---------------------------------------------------------------------------------\n"
     ]
    },
    {
     "data": {
      "application/vnd.jupyter.widget-view+json": {
       "model_id": "",
       "version_major": 2,
       "version_minor": 0
      },
      "text/plain": [
       "  0%|          | 0/40 [00:00<?, ?it/s]"
      ]
     },
     "metadata": {},
     "output_type": "display_data"
    },
    {
     "data": {
      "application/vnd.jupyter.widget-view+json": {
       "model_id": "",
       "version_major": 2,
       "version_minor": 0
      },
      "text/plain": [
       "  0%|          | 0/4 [00:00<?, ?it/s]"
      ]
     },
     "metadata": {},
     "output_type": "display_data"
    },
    {
     "name": "stdout",
     "output_type": "stream",
     "text": [
      "Results using n_feats=1500, minreg=1e-05:\n",
      "Error = 0.0031778816564641153 eV/atom\n",
      "Time taken:  164.0591733455658\n",
      "---------------------------------------------------------------------------------\n"
     ]
    },
    {
     "data": {
      "application/vnd.jupyter.widget-view+json": {
       "model_id": "",
       "version_major": 2,
       "version_minor": 0
      },
      "text/plain": [
       "  0%|          | 0/40 [00:00<?, ?it/s]"
      ]
     },
     "metadata": {},
     "output_type": "display_data"
    },
    {
     "data": {
      "application/vnd.jupyter.widget-view+json": {
       "model_id": "",
       "version_major": 2,
       "version_minor": 0
      },
      "text/plain": [
       "  0%|          | 0/4 [00:00<?, ?it/s]"
      ]
     },
     "metadata": {},
     "output_type": "display_data"
    },
    {
     "name": "stdout",
     "output_type": "stream",
     "text": [
      "Results using n_feats=2000, minreg=1e-05:\n",
      "Error = 0.003141226365318075 eV/atom\n",
      "Time taken:  167.93182682991028\n",
      "---------------------------------------------------------------------------------\n"
     ]
    },
    {
     "data": {
      "application/vnd.jupyter.widget-view+json": {
       "model_id": "",
       "version_major": 2,
       "version_minor": 0
      },
      "text/plain": [
       "  0%|          | 0/40 [00:00<?, ?it/s]"
      ]
     },
     "metadata": {},
     "output_type": "display_data"
    },
    {
     "data": {
      "application/vnd.jupyter.widget-view+json": {
       "model_id": "",
       "version_major": 2,
       "version_minor": 0
      },
      "text/plain": [
       "  0%|          | 0/4 [00:00<?, ?it/s]"
      ]
     },
     "metadata": {},
     "output_type": "display_data"
    },
    {
     "name": "stdout",
     "output_type": "stream",
     "text": [
      "Results using n_feats=2500, minreg=1e-05:\n",
      "Error = 0.003108626364750759 eV/atom\n",
      "Time taken:  175.69061422348022\n",
      "---------------------------------------------------------------------------------\n"
     ]
    },
    {
     "data": {
      "application/vnd.jupyter.widget-view+json": {
       "model_id": "",
       "version_major": 2,
       "version_minor": 0
      },
      "text/plain": [
       "  0%|          | 0/40 [00:00<?, ?it/s]"
      ]
     },
     "metadata": {},
     "output_type": "display_data"
    },
    {
     "data": {
      "application/vnd.jupyter.widget-view+json": {
       "model_id": "",
       "version_major": 2,
       "version_minor": 0
      },
      "text/plain": [
       "  0%|          | 0/4 [00:00<?, ?it/s]"
      ]
     },
     "metadata": {},
     "output_type": "display_data"
    },
    {
     "name": "stdout",
     "output_type": "stream",
     "text": [
      "Results using n_feats=3000, minreg=1e-05:\n",
      "Error = 0.0031032296853345086 eV/atom\n",
      "Time taken:  182.95851230621338\n",
      "---------------------------------------------------------------------------------\n"
     ]
    },
    {
     "data": {
      "application/vnd.jupyter.widget-view+json": {
       "model_id": "",
       "version_major": 2,
       "version_minor": 0
      },
      "text/plain": [
       "  0%|          | 0/40 [00:00<?, ?it/s]"
      ]
     },
     "metadata": {},
     "output_type": "display_data"
    },
    {
     "data": {
      "application/vnd.jupyter.widget-view+json": {
       "model_id": "",
       "version_major": 2,
       "version_minor": 0
      },
      "text/plain": [
       "  0%|          | 0/4 [00:00<?, ?it/s]"
      ]
     },
     "metadata": {},
     "output_type": "display_data"
    },
    {
     "name": "stdout",
     "output_type": "stream",
     "text": [
      "Results using n_feats=3500, minreg=1e-05:\n",
      "Error = 0.00310966322695215 eV/atom\n",
      "Time taken:  189.1139476299286\n",
      "---------------------------------------------------------------------------------\n"
     ]
    },
    {
     "data": {
      "application/vnd.jupyter.widget-view+json": {
       "model_id": "",
       "version_major": 2,
       "version_minor": 0
      },
      "text/plain": [
       "  0%|          | 0/40 [00:00<?, ?it/s]"
      ]
     },
     "metadata": {},
     "output_type": "display_data"
    },
    {
     "data": {
      "application/vnd.jupyter.widget-view+json": {
       "model_id": "",
       "version_major": 2,
       "version_minor": 0
      },
      "text/plain": [
       "  0%|          | 0/4 [00:00<?, ?it/s]"
      ]
     },
     "metadata": {},
     "output_type": "display_data"
    },
    {
     "name": "stdout",
     "output_type": "stream",
     "text": [
      "Results using n_feats=4000, minreg=1e-05:\n",
      "Error = 0.0031143243272121176 eV/atom\n",
      "Time taken:  200.29438638687134\n",
      "---------------------------------------------------------------------------------\n"
     ]
    },
    {
     "data": {
      "application/vnd.jupyter.widget-view+json": {
       "model_id": "",
       "version_major": 2,
       "version_minor": 0
      },
      "text/plain": [
       "  0%|          | 0/40 [00:00<?, ?it/s]"
      ]
     },
     "metadata": {},
     "output_type": "display_data"
    },
    {
     "data": {
      "application/vnd.jupyter.widget-view+json": {
       "model_id": "",
       "version_major": 2,
       "version_minor": 0
      },
      "text/plain": [
       "  0%|          | 0/4 [00:00<?, ?it/s]"
      ]
     },
     "metadata": {},
     "output_type": "display_data"
    },
    {
     "name": "stdout",
     "output_type": "stream",
     "text": [
      "Results using n_feats=4500, minreg=1e-05:\n",
      "Error = 0.0031121138155325357 eV/atom\n",
      "Time taken:  208.34399151802063\n",
      "---------------------------------------------------------------------------------\n"
     ]
    },
    {
     "data": {
      "application/vnd.jupyter.widget-view+json": {
       "model_id": "",
       "version_major": 2,
       "version_minor": 0
      },
      "text/plain": [
       "  0%|          | 0/40 [00:00<?, ?it/s]"
      ]
     },
     "metadata": {},
     "output_type": "display_data"
    },
    {
     "data": {
      "application/vnd.jupyter.widget-view+json": {
       "model_id": "",
       "version_major": 2,
       "version_minor": 0
      },
      "text/plain": [
       "  0%|          | 0/4 [00:00<?, ?it/s]"
      ]
     },
     "metadata": {},
     "output_type": "display_data"
    },
    {
     "name": "stdout",
     "output_type": "stream",
     "text": [
      "Results using n_feats=5000, minreg=1e-05:\n",
      "Error = 0.003092026506252423 eV/atom\n",
      "Time taken:  216.8040292263031\n",
      "---------------------------------------------------------------------------------\n"
     ]
    },
    {
     "data": {
      "application/vnd.jupyter.widget-view+json": {
       "model_id": "",
       "version_major": 2,
       "version_minor": 0
      },
      "text/plain": [
       "  0%|          | 0/40 [00:00<?, ?it/s]"
      ]
     },
     "metadata": {},
     "output_type": "display_data"
    },
    {
     "data": {
      "application/vnd.jupyter.widget-view+json": {
       "model_id": "",
       "version_major": 2,
       "version_minor": 0
      },
      "text/plain": [
       "  0%|          | 0/4 [00:00<?, ?it/s]"
      ]
     },
     "metadata": {},
     "output_type": "display_data"
    },
    {
     "name": "stdout",
     "output_type": "stream",
     "text": [
      "Results using n_feats=5500, minreg=1e-05:\n",
      "Error = 0.0030919723551683736 eV/atom\n",
      "Time taken:  224.88772201538086\n",
      "---------------------------------------------------------------------------------\n"
     ]
    }
   ],
   "source": [
    "#Loop for determining optimal numbers of features\n",
    "feat_results = []\n",
    "n_train = 10000 #use this number of training points\n",
    "#Iterate n_features\n",
    "for n_feats in tqdm(range(1000, 6000, 500), leave=False):\n",
    "            start = time()\n",
    "            \n",
    "            a = [mapping[i]['a'] for i in pcf_feat_ids[:n_feats]]\n",
    "            b = [mapping[i]['b'] for i in pcf_feat_ids[:n_feats]]\n",
    "            n1 = [mapping[i]['n1'] for i in pcf_feat_ids[:n_feats]]\n",
    "            n2 = [mapping[i]['n2'] for i in pcf_feat_ids[:n_feats]]\n",
    "            l = [mapping[i]['l'] for i in pcf_feat_ids[:n_feats]]\n",
    "\n",
    "            soap = SphericalInvariants(**hypers, \n",
    "                                       coefficient_subselection={\"a\": a, \"b\": b, \"n1\": n1, \"n2\":n2, \"l\":l})\n",
    "\n",
    "            \n",
    "            train_feat=get_features(train_frames[:n_train], batch_size=250) #get features for training set\n",
    "            val_feat=get_features(val_frames, batch_size=250) #get features for validation set\n",
    "            \n",
    "            #Normalise feature vectors\n",
    "            for feat in train_feat:\n",
    "                feat/=np.linalg.norm(feat)\n",
    "            for feat in val_feat:\n",
    "                feat/=np.linalg.norm(feat)\n",
    "\n",
    "            K = np.dot(train_feat,train_feat.T)**zeta #compute covariance matrix for training\n",
    "            Kval = np.dot(val_feat,train_feat.T)**zeta #compute covariance matrix for validation\n",
    "\n",
    "            #Iterate over regularization values\n",
    "            minerr = 1e24 ; minreg = 0\n",
    "            for reg in np.logspace(-9,-5,5):\n",
    "                KRR = KernelRidge(kernel='precomputed',alpha = reg)\n",
    "                KRR.fit(K,yred_train[:n_train])\n",
    "                err = np.std(yred_val - KRR.predict(Kval))\n",
    "                if err < minerr:\n",
    "                    minerr = err.copy()\n",
    "                    minreg = reg.copy()\n",
    "            feat_results.append([minerr, n_feats, minreg])\n",
    "            print(f\"Results using n_feats={n_feats}, minreg={minreg}:\")\n",
    "            print(f\"Error = {minerr} eV/atom\")\n",
    "            print('Time taken: ',time()-start)\n",
    "            print(\"---------------------------------------------------------------------------------\")"
   ]
  },
  {
   "cell_type": "code",
   "execution_count": 101,
   "id": "32b2240d",
   "metadata": {},
   "outputs": [],
   "source": [
    "#Save and re-load results\n",
    "np.save('delta_data/nfeatures_optimisation_results', np.asarray(feat_results))\n",
    "feat_results=np.load('delta_data/nfeatures_optimisation_results.npy')"
   ]
  },
  {
   "cell_type": "code",
   "execution_count": 102,
   "id": "4e1e05eb",
   "metadata": {},
   "outputs": [
    {
     "data": {
      "image/png": "[encoded data removed]",
      "text/plain": [
       "<Figure size 640x480 with 1 Axes>"
      ]
     },
     "metadata": {},
     "output_type": "display_data"
    }
   ],
   "source": [
    "#Plot learning curve\n",
    "plt.plot(feat_results[:, 1], feat_results[:, 0])\n",
    "plt.yscale('log')\n",
    "plt.xscale('log')"
   ]
  },
  {
   "cell_type": "markdown",
   "id": "37796017",
   "metadata": {},
   "source": [
    "Seems like using 2500 features is enough, with minimal loss in accuracy."
   ]
  },
  {
   "cell_type": "markdown",
   "id": "65633e0a",
   "metadata": {},
   "source": [
    "# Create Model"
   ]
  },
  {
   "cell_type": "code",
   "execution_count": 48,
   "id": "6d627986",
   "metadata": {},
   "outputs": [],
   "source": [
    "#Define soap hyperparameters\n",
    "zeta=3\n",
    "hypers = dict(soap_type=\"PowerSpectrum\",\n",
    "              interaction_cutoff=6, #cutoff distance in angstroms\n",
    "              max_radial=9, #no. of radial basis functions\n",
    "              max_angular=6, #no. of angular basis functions\n",
    "              gaussian_sigma_constant=0.4, #sigma width (i.e. amount of 'smearing')\n",
    "              gaussian_sigma_type=\"Constant\",\n",
    "              cutoff_function_type=\"RadialScaling\",\n",
    "              cutoff_smooth_width=0.5,\n",
    "              cutoff_function_parameters=\n",
    "                    dict(\n",
    "                            rate=1,\n",
    "                            scale=2,\n",
    "                            exponent=4\n",
    "                        ),\n",
    "              radial_basis=\"GTO\",\n",
    "              normalize=True,\n",
    "              optimization=\n",
    "                    dict(\n",
    "                            Spline=dict(\n",
    "                               accuracy=1.0e-05\n",
    "                            )\n",
    "                        ),\n",
    "              compute_gradients=False #don't care about forces right now\n",
    "              )\n",
    "soap = SphericalInvariants(**hypers)"
   ]
  },
  {
   "cell_type": "code",
   "execution_count": 49,
   "id": "71df03a0",
   "metadata": {},
   "outputs": [],
   "source": [
    "#Figure out which indices are mapped to which features\n",
    "sp_pairs = soap.get_keys([1, 6, 7, 8])\n",
    "mapping = get_power_spectrum_index_mapping(\n",
    "    sp_pairs, n_max=hypers[\"max_radial\"], l_max=hypers[\"max_angular\"]+1 \n",
    ") # +1 in lmax needed because of some Librascal bug (Rose said)"
   ]
  },
  {
   "cell_type": "code",
   "execution_count": 120,
   "id": "53a41024",
   "metadata": {},
   "outputs": [],
   "source": [
    "#Tell soap to only use indices from PCovFPS sorting\n",
    "n_feats = 2500 #use this number of features (determined from the feature optimisation)\n",
    "a = [mapping[i]['a'] for i in pcf_feat_ids[:n_feats]]\n",
    "b = [mapping[i]['b'] for i in pcf_feat_ids[:n_feats]]\n",
    "n1 = [mapping[i]['n1'] for i in pcf_feat_ids[:n_feats]]\n",
    "n2 = [mapping[i]['n2'] for i in pcf_feat_ids[:n_feats]]\n",
    "l = [mapping[i]['l'] for i in pcf_feat_ids[:n_feats]]\n",
    "\n",
    "hypers['coefficient_subselection'] = {\"a\": a, \"b\": b, \"n1\": n1, \"n2\":n2, \"l\":l}\n",
    "soap = SphericalInvariants(**hypers)\n",
    "#soap = SphericalInvariants(**hypers, coefficient_subselection={\"a\": a, \"b\": b, \"n1\": n1, \"n2\":n2, \"l\":l})"
   ]
  },
  {
   "cell_type": "code",
   "execution_count": 53,
   "id": "37a149bd",
   "metadata": {},
   "outputs": [],
   "source": [
    "#Create PCov-FPS sorted training database\n",
    "n_train = 15000 #choose (optimal) number of training structures\n",
    "pcf_train_frames = []; pcf_X_train=np.zeros((n_train, 4)); pcf_y_train=np.zeros(n_train); \n",
    "\n",
    "for ii, i in enumerate(pcf_ids[:n_train]):\n",
    "    frm = train_frames[i]\n",
    "    pcf_train_frames.append(frm)\n",
    "    symbols = frm.get_atomic_numbers()\n",
    "    pcf_X_train[ii] = [len(np.where(symbols == sp)[0]) for sp in [1,6,7,8]]\n",
    "    pcf_y_train[ii] = frm.info['Delta_energy']\n",
    "\n",
    "pcf_yred_train = pcf_y_train/np.sum(pcf_X_train,axis=1)-mlr.predict(pcf_X_train)/np.sum(pcf_X_train,axis=1)"
   ]
  },
  {
   "cell_type": "code",
   "execution_count": 54,
   "id": "110d0cd1",
   "metadata": {},
   "outputs": [
    {
     "name": "stdout",
     "output_type": "stream",
     "text": [
      "Computing feature matrices...\n",
      "Time taken:  271.1176245212555 s\n"
     ]
    }
   ],
   "source": [
    "# Compute feature matrices\n",
    "print(\"Computing feature matrices...\")\n",
    "start=time()\n",
    "manager_train = soap.transform(pcf_train_frames) #calculating features\n",
    "print(\"Time taken: \", time()-start, \"s\")"
   ]
  },
  {
   "cell_type": "code",
   "execution_count": 55,
   "id": "b17c4d9b",
   "metadata": {},
   "outputs": [
    {
     "name": "stdout",
     "output_type": "stream",
     "text": [
      "Sparsifying training set...\n",
      "Time taken:  637.1175303459167 s\n"
     ]
    }
   ],
   "source": [
    "# Use an FPS filter to obtain desired number of sparse points per species\n",
    "nh = 2000\n",
    "nc = 2000\n",
    "nn = 2000\n",
    "no = 2000\n",
    "nsparse    = {1: nh, 6: nc, 7: nn, 8: no} #Select number of sparse environemnts per species\n",
    "compressor = FPSFilter(soap,nsparse,act_on='sample per species') #Filter to sparsify full feature matrix\n",
    "print(\"Sparsifying training set...\")\n",
    "start=time()\n",
    "X_sparse = compressor.select_and_filter(manager_train) #Apply filter to training set\n",
    "print(\"Time taken: \", time()-start, \"s\")"
   ]
  },
  {
   "cell_type": "code",
   "execution_count": 56,
   "id": "fe9abe7d",
   "metadata": {},
   "outputs": [],
   "source": [
    "dump_obj('delta_data/X_sparse_15k.json', X_sparse)"
   ]
  },
  {
   "cell_type": "code",
   "execution_count": 11,
   "id": "00f11695",
   "metadata": {},
   "outputs": [],
   "source": [
    "X_sparse = load_obj('delta_data/X_sparse_15k.json')"
   ]
  },
  {
   "cell_type": "code",
   "execution_count": 142,
   "id": "e3888dc0",
   "metadata": {},
   "outputs": [],
   "source": [
    "#Define kernel and redefine hypers \n",
    "hypers[\"compute_gradients\"] = True #we want to compute gradients (forces) for the kernel\n",
    "soap = SphericalInvariants(**hypers)\n",
    "kernel = Kernel(soap, name='GAP', zeta=zeta, target_type='Structure', kernel_type='Sparse') #Define Kernel"
   ]
  },
  {
   "cell_type": "code",
   "execution_count": null,
   "id": "4f6d6be2",
   "metadata": {
    "scrolled": true
   },
   "outputs": [
    {
     "data": {
      "application/vnd.jupyter.widget-view+json": {
       "model_id": "512e815ad3414bbda22ef6b81cd796e1",
       "version_major": 2,
       "version_minor": 0
      },
      "text/plain": [
       "Compute KNM:   0%|          | 0/15000 [00:00<?, ?it/s]"
      ]
     },
     "metadata": {},
     "output_type": "display_data"
    }
   ],
   "source": [
    "#Compute kernel\n",
    "start=time()\n",
    "Knm = compute_KNM(tqdm(pcf_train_frames, desc=\"Compute KNM\", leave=False), X_sparse, kernel, soap)\n",
    "print(\"Time taken: \", time()-start, \"s\")"
   ]
  },
  {
   "cell_type": "code",
   "execution_count": null,
   "id": "d30c0457",
   "metadata": {},
   "outputs": [],
   "source": [
    "#Save kernel\n",
    "np.save('delta_data/Knm_kernel_15k', Knm)"
   ]
  },
  {
   "cell_type": "code",
   "execution_count": 15,
   "id": "9511a45c",
   "metadata": {},
   "outputs": [
    {
     "name": "stdout",
     "output_type": "stream",
     "text": [
      "Loading Knm...\n",
      "Knm loading time: 1779.0270457267761\n"
     ]
    }
   ],
   "source": [
    "start = time()\n",
    "print(\"Loading Knm...\")\n",
    "Knm = np.load('delta_data/Knm_kernel_15k.npy')\n",
    "print(\"Knm loading time:\", time()-start)"
   ]
  },
  {
   "cell_type": "code",
   "execution_count": null,
   "id": "5ccfdeca",
   "metadata": {},
   "outputs": [],
   "source": [
    "#Train GAP model\n",
    "print(\"Training GAP model...\")\n",
    "start = time()\n",
    "full_model = train_gap_model(kernel, pcf_train_frames, Knm, X_sparse, pcf_y_train, y_dressed, \n",
    "                             grad_train=-get_forces(pcf_train_frames), lambdas=[0.05,1], \n",
    "                             jitter=1e-9, solver = 'RKHS')\n",
    "print(\"Time taken:\", time()-start)"
   ]
  },
  {
   "cell_type": "code",
   "execution_count": null,
   "id": "10583f11",
   "metadata": {},
   "outputs": [],
   "source": [
    "#Save model\n",
    "dump_obj('delta_data/GAP_model_15k_0.05_1.json', full_model)"
   ]
  },
  {
   "cell_type": "code",
   "execution_count": null,
   "id": "1cddf411",
   "metadata": {
    "code_folding": []
   },
   "outputs": [],
   "source": [
    "#predict energies and forces for validation set\n",
    "npred=1000\n",
    "yvp = []\n",
    "fvp = []\n",
    "\n",
    "for ifrm, frm in enumerate(tqdm(val_frames[:npred], desc = \"Making predictions for validation set...\", \n",
    "                                leave=False)):\n",
    "    manager_val = soap.transform(frm)\n",
    "    yvp.append(full_model.predict(manager_val))\n",
    "    fvp.append(full_model.predict_forces(manager_val))\n",
    "\n",
    "y_val_pred = np.array(yvp).flatten()\n",
    "f_val_pred = np.concatenate(fvp)"
   ]
  },
  {
   "cell_type": "code",
   "execution_count": null,
   "id": "a3d45985",
   "metadata": {},
   "outputs": [],
   "source": [
    "np.save('delta_data/predictions/y_val_pred_15k', y_val_pred)\n",
    "np.save('delta_data/predictions/f_val_pred_15k', f_val_pred)"
   ]
  },
  {
   "cell_type": "code",
   "execution_count": 13,
   "id": "b317fb1a",
   "metadata": {},
   "outputs": [],
   "source": [
    "npred=1000\n",
    "y_val_pred = np.load('results_data/predictions/yval_pred_15k.npy')\n",
    "f_val_pred = np.load('results_data/predictions/fval_pred_15k.npy')"
   ]
  },
  {
   "cell_type": "code",
   "execution_count": 153,
   "id": "8cb81193",
   "metadata": {},
   "outputs": [],
   "source": [
    "rmse_energy = np.sqrt(np.mean(((y_val[:npred] - mlr.predict(X_val[:npred]))/np.sum(X_val[:npred],axis=1) \n",
    "                               - (y_val_pred[:npred] - mlr.predict(X_val[:npred]))/np.sum(X_val[:npred],axis=1))**2))"
   ]
  },
  {
   "cell_type": "code",
   "execution_count": 154,
   "id": "c4639618",
   "metadata": {},
   "outputs": [],
   "source": [
    "rmse_forces = np.sqrt(np.mean((f_val.flatten()[:npred] - f_val_pred.flatten()[:npred])**2))"
   ]
  },
  {
   "cell_type": "code",
   "execution_count": 155,
   "id": "7f2c0133",
   "metadata": {},
   "outputs": [
    {
     "name": "stdout",
     "output_type": "stream",
     "text": [
      "RMSE energy: 0.005141 eV/atom\n",
      "RMSE forces: 0.18007 eV/angstrom\n"
     ]
    }
   ],
   "source": [
    "print('RMSE energy:', np.round(rmse_energy,6), 'eV/atom')\n",
    "print('RMSE forces:', np.round(rmse_forces,6), 'eV/angstrom')"
   ]
  },
  {
   "cell_type": "code",
   "execution_count": 156,
   "id": "f4d5e199",
   "metadata": {},
   "outputs": [
    {
     "data": {
      "text/plain": [
       "Text(0.5, 1.0, 'Forces (ev/$\\\\AA$)')"
      ]
     },
     "execution_count": 156,
     "metadata": {},
     "output_type": "execute_result"
    },
    {
     "data": {
      "image/png": "[encoded data removed]",
      "text/plain": [
       "<Figure size 1500x750 with 2 Axes>"
      ]
     },
     "metadata": {
      "needs_background": "light"
     },
     "output_type": "display_data"
    }
   ],
   "source": [
    "#Plot predicted vs. actual energies and forces\n",
    "f,p = plt.subplots(1,2, figsize = (10, 5), dpi=150)\n",
    "p[0].scatter((y_val[:npred] - mlr.predict(X_val[:npred]))/np.sum(X_val[:npred],axis=1),\n",
    "             (y_val_pred[:npred] - mlr.predict(X_val[:npred]))/np.sum(X_val[:npred],axis=1))\n",
    "p[0].set_title('Energies (eV)')\n",
    "p[0].set()\n",
    "p[1].scatter(f_val.flatten()[:npred], f_val_pred.flatten()[:npred])\n",
    "p[1].set_title(r'Forces (ev/$\\AA$)')"
   ]
  },
  {
   "cell_type": "code",
   "execution_count": 15,
   "id": "303b74e3",
   "metadata": {},
   "outputs": [
    {
     "name": "stdout",
     "output_type": "stream",
     "text": [
      "Creating model using 1000 training structures...\n",
      "Computing kernel...\n",
      "Creating model...\n"
     ]
    },
    {
     "data": {
      "application/vnd.jupyter.widget-view+json": {
       "model_id": "",
       "version_major": 2,
       "version_minor": 0
      },
      "text/plain": [
       "Making predictions for validation set...:   0%|          | 0/1000 [00:00<?, ?it/s]"
      ]
     },
     "metadata": {},
     "output_type": "display_data"
    },
    {
     "name": "stdout",
     "output_type": "stream",
     "text": [
      "Predictions saved.\n",
      "RMSE energy: 0.018605185747567955 eV/atom\n",
      "RMSE forces: 0.374288145112019 eV/angstrom\n",
      "\n",
      "Creating model using 2000 training structures...\n",
      "Computing kernel...\n",
      "Creating model...\n"
     ]
    },
    {
     "data": {
      "application/vnd.jupyter.widget-view+json": {
       "model_id": "",
       "version_major": 2,
       "version_minor": 0
      },
      "text/plain": [
       "Making predictions for validation set...:   0%|          | 0/1000 [00:00<?, ?it/s]"
      ]
     },
     "metadata": {},
     "output_type": "display_data"
    },
    {
     "name": "stdout",
     "output_type": "stream",
     "text": [
      "Predictions saved.\n",
      "RMSE energy: 0.010180187480841303 eV/atom\n",
      "RMSE forces: 0.38900621538794705 eV/angstrom\n",
      "\n",
      "Creating model using 3000 training structures...\n",
      "Computing kernel...\n",
      "Creating model...\n"
     ]
    },
    {
     "data": {
      "application/vnd.jupyter.widget-view+json": {
       "model_id": "",
       "version_major": 2,
       "version_minor": 0
      },
      "text/plain": [
       "Making predictions for validation set...:   0%|          | 0/1000 [00:00<?, ?it/s]"
      ]
     },
     "metadata": {},
     "output_type": "display_data"
    },
    {
     "name": "stdout",
     "output_type": "stream",
     "text": [
      "Predictions saved.\n",
      "RMSE energy: 0.007117896428504622 eV/atom\n",
      "RMSE forces: 0.39074154333210837 eV/angstrom\n",
      "\n",
      "Creating model using 4000 training structures...\n",
      "Computing kernel...\n",
      "Creating model...\n"
     ]
    },
    {
     "data": {
      "application/vnd.jupyter.widget-view+json": {
       "model_id": "",
       "version_major": 2,
       "version_minor": 0
      },
      "text/plain": [
       "Making predictions for validation set...:   0%|          | 0/1000 [00:00<?, ?it/s]"
      ]
     },
     "metadata": {},
     "output_type": "display_data"
    },
    {
     "name": "stdout",
     "output_type": "stream",
     "text": [
      "Predictions saved.\n",
      "RMSE energy: 0.006650503363529594 eV/atom\n",
      "RMSE forces: 0.38974427987493065 eV/angstrom\n",
      "\n",
      "Creating model using 5000 training structures...\n",
      "Computing kernel...\n",
      "Creating model...\n"
     ]
    },
    {
     "data": {
      "application/vnd.jupyter.widget-view+json": {
       "model_id": "",
       "version_major": 2,
       "version_minor": 0
      },
      "text/plain": [
       "Making predictions for validation set...:   0%|          | 0/1000 [00:00<?, ?it/s]"
      ]
     },
     "metadata": {},
     "output_type": "display_data"
    },
    {
     "name": "stdout",
     "output_type": "stream",
     "text": [
      "Predictions saved.\n",
      "RMSE energy: 0.00637998814212301 eV/atom\n",
      "RMSE forces: 0.3908333615365183 eV/angstrom\n",
      "\n",
      "Creating model using 6000 training structures...\n",
      "Computing kernel...\n",
      "Creating model...\n"
     ]
    },
    {
     "data": {
      "application/vnd.jupyter.widget-view+json": {
       "model_id": "",
       "version_major": 2,
       "version_minor": 0
      },
      "text/plain": [
       "Making predictions for validation set...:   0%|          | 0/1000 [00:00<?, ?it/s]"
      ]
     },
     "metadata": {},
     "output_type": "display_data"
    },
    {
     "name": "stdout",
     "output_type": "stream",
     "text": [
      "Predictions saved.\n",
      "RMSE energy: 0.006217729178197441 eV/atom\n",
      "RMSE forces: 0.3873547382079486 eV/angstrom\n",
      "\n",
      "Creating model using 7000 training structures...\n",
      "Computing kernel...\n",
      "Creating model...\n"
     ]
    },
    {
     "data": {
      "application/vnd.jupyter.widget-view+json": {
       "model_id": "",
       "version_major": 2,
       "version_minor": 0
      },
      "text/plain": [
       "Making predictions for validation set...:   0%|          | 0/1000 [00:00<?, ?it/s]"
      ]
     },
     "metadata": {},
     "output_type": "display_data"
    },
    {
     "name": "stdout",
     "output_type": "stream",
     "text": [
      "Predictions saved.\n",
      "RMSE energy: 0.005969171250072053 eV/atom\n",
      "RMSE forces: 0.38626271700082665 eV/angstrom\n",
      "\n",
      "Creating model using 8000 training structures...\n",
      "Computing kernel...\n",
      "Creating model...\n"
     ]
    },
    {
     "data": {
      "application/vnd.jupyter.widget-view+json": {
       "model_id": "",
       "version_major": 2,
       "version_minor": 0
      },
      "text/plain": [
       "Making predictions for validation set...:   0%|          | 0/1000 [00:00<?, ?it/s]"
      ]
     },
     "metadata": {},
     "output_type": "display_data"
    },
    {
     "name": "stdout",
     "output_type": "stream",
     "text": [
      "Predictions saved.\n",
      "RMSE energy: 0.00577435914483878 eV/atom\n",
      "RMSE forces: 0.38546857390970407 eV/angstrom\n",
      "\n",
      "Creating model using 9000 training structures...\n",
      "Computing kernel...\n",
      "Creating model...\n"
     ]
    },
    {
     "data": {
      "application/vnd.jupyter.widget-view+json": {
       "model_id": "",
       "version_major": 2,
       "version_minor": 0
      },
      "text/plain": [
       "Making predictions for validation set...:   0%|          | 0/1000 [00:00<?, ?it/s]"
      ]
     },
     "metadata": {},
     "output_type": "display_data"
    },
    {
     "name": "stdout",
     "output_type": "stream",
     "text": [
      "Predictions saved.\n",
      "RMSE energy: 0.0056725263823453834 eV/atom\n",
      "RMSE forces: 0.3839886377315317 eV/angstrom\n",
      "\n",
      "Creating model using 10000 training structures...\n",
      "Computing kernel...\n",
      "Creating model...\n"
     ]
    },
    {
     "data": {
      "application/vnd.jupyter.widget-view+json": {
       "model_id": "",
       "version_major": 2,
       "version_minor": 0
      },
      "text/plain": [
       "Making predictions for validation set...:   0%|          | 0/1000 [00:00<?, ?it/s]"
      ]
     },
     "metadata": {},
     "output_type": "display_data"
    },
    {
     "name": "stdout",
     "output_type": "stream",
     "text": [
      "Predictions saved.\n",
      "RMSE energy: 0.005573389811260722 eV/atom\n",
      "RMSE forces: 0.3814997985532318 eV/angstrom\n",
      "\n",
      "Creating model using 11000 training structures...\n",
      "Computing kernel...\n",
      "Creating model...\n"
     ]
    },
    {
     "data": {
      "application/vnd.jupyter.widget-view+json": {
       "model_id": "",
       "version_major": 2,
       "version_minor": 0
      },
      "text/plain": [
       "Making predictions for validation set...:   0%|          | 0/1000 [00:00<?, ?it/s]"
      ]
     },
     "metadata": {},
     "output_type": "display_data"
    },
    {
     "name": "stdout",
     "output_type": "stream",
     "text": [
      "Predictions saved.\n",
      "RMSE energy: 0.005525750486718551 eV/atom\n",
      "RMSE forces: 0.382403325089767 eV/angstrom\n",
      "\n",
      "Creating model using 12000 training structures...\n",
      "Computing kernel...\n",
      "Creating model...\n"
     ]
    },
    {
     "data": {
      "application/vnd.jupyter.widget-view+json": {
       "model_id": "",
       "version_major": 2,
       "version_minor": 0
      },
      "text/plain": [
       "Making predictions for validation set...:   0%|          | 0/1000 [00:00<?, ?it/s]"
      ]
     },
     "metadata": {},
     "output_type": "display_data"
    },
    {
     "name": "stdout",
     "output_type": "stream",
     "text": [
      "Predictions saved.\n",
      "RMSE energy: 0.005465802088514222 eV/atom\n",
      "RMSE forces: 0.3828256188916966 eV/angstrom\n",
      "\n",
      "Creating model using 13000 training structures...\n",
      "Computing kernel...\n",
      "Creating model...\n"
     ]
    },
    {
     "data": {
      "application/vnd.jupyter.widget-view+json": {
       "model_id": "",
       "version_major": 2,
       "version_minor": 0
      },
      "text/plain": [
       "Making predictions for validation set...:   0%|          | 0/1000 [00:00<?, ?it/s]"
      ]
     },
     "metadata": {},
     "output_type": "display_data"
    },
    {
     "name": "stdout",
     "output_type": "stream",
     "text": [
      "Predictions saved.\n",
      "RMSE energy: 0.005443024140781266 eV/atom\n",
      "RMSE forces: 0.3815627201129578 eV/angstrom\n",
      "\n",
      "Creating model using 14000 training structures...\n",
      "Computing kernel...\n",
      "Creating model...\n"
     ]
    },
    {
     "data": {
      "application/vnd.jupyter.widget-view+json": {
       "model_id": "",
       "version_major": 2,
       "version_minor": 0
      },
      "text/plain": [
       "Making predictions for validation set...:   0%|          | 0/1000 [00:00<?, ?it/s]"
      ]
     },
     "metadata": {},
     "output_type": "display_data"
    },
    {
     "name": "stdout",
     "output_type": "stream",
     "text": [
      "Predictions saved.\n",
      "RMSE energy: 0.005445800449234075 eV/atom\n",
      "RMSE forces: 0.3840484906479948 eV/angstrom\n",
      "\n"
     ]
    }
   ],
   "source": [
    "for i in range(1000,15000,1000):\n",
    "    print('Creating model using', i, 'training structures...')\n",
    "    nforce_rows = np.sum(nat_per_struct[:i])*3\n",
    "    Kernelnm = np.zeros((i+nforce_rows, Knm.shape[1]))\n",
    "    print('Computing kernel...')\n",
    "    Kernelnm[:i] = Knm[:i]\n",
    "    Kernelnm[i:] = Knm[ntrain:(ntrain+nforce_rows)]\n",
    "    print('Creating model...')\n",
    "    full_model = train_gap_model(kernel, train_set_FPS[:i], Kernelnm, X_sparse, ytrain_FPS[:i], y_dressed, \n",
    "                        grad_train=-get_forces(train_set_FPS[:i]), lambdas=[0.055,3.25], jitter=1e-9, \n",
    "                        solver = 'RKHS')\n",
    "    npred=1000\n",
    "    yvp = []\n",
    "    fvp = []\n",
    "\n",
    "    for ifrm, frm in enumerate(tqdm(val_set[:npred], desc = \"Making predictions for validation set...\", leave=False)):\n",
    "        manager_val = soap.transform(frm)\n",
    "        yvp.append(full_model.predict(manager_val))\n",
    "        fvp.append(full_model.predict_forces(manager_val))\n",
    "\n",
    "    yval_pred = np.array(yvp).flatten()\n",
    "    fval_pred = np.concatenate(fvp)\n",
    "    np.save('results_data/yval_pred_lc_'+str(i), yval_pred)\n",
    "    np.save('results_data/fval_pred_lc_'+str(i), fval_pred)\n",
    "    print(\"Predictions saved.\")\n",
    "    rmse_energy = np.sqrt(np.mean(((yval_true[:npred] - mlr.predict(X_val[:npred]))/np.sum(X_val[:npred],axis=1) - (yval_pred[:npred] - mlr.predict(X_val[:npred]))/np.sum(X_val[:npred],axis=1))**2))\n",
    "    rmse_forces = np.sqrt(np.mean((fval_true.flatten()[:npred] - fval_pred.flatten()[:npred])**2))\n",
    "    print('RMSE energy:', rmse_energy, 'eV/atom')\n",
    "    print('RMSE forces:', rmse_forces, 'eV/angstrom')\n",
    "    print(\"\")"
   ]
  },
  {
   "cell_type": "code",
   "execution_count": null,
   "id": "91ef470b",
   "metadata": {},
   "outputs": [],
   "source": [
    "Knm[:nstructs] has the energy row of each structure \n",
    "\n",
    "Knm[nstructs:] has the force rows of each structure, which is organised as follows:\n",
    "- There are natoms * 3 rows per structure\n",
    "- Organised in the order of structures in nstruct\n",
    "- i.e., to extract the force rows for structure with index 0, you have to figure out the number of atoms in that structure (e.g. 40), and multiply by 3, and then extract those indices from the end of the energy rows for all structures (as this is the structure with index 0). I.e. : Knm[nstruct:(nstruct+(40*3))]\n",
    "\n",
    "np.save('raw_data/Knm_kernel_14k', Knm)\n",
    "print(\"KNM saved\")\n",
    "\n",
    "Knm = np.load('raw_data/Knm_kernel_14k.npy')\n",
    "\n",
    "#make list of number of atoms in each structure\n",
    "nat_per_struct=[]\n",
    "for frm in train_set_FPS[:ntrain]:\n",
    "    nat_per_struct.append(len(frm))\n",
    "\n",
    "#Train GAP model\n",
    "print(\"Training GAP model...\")\n",
    "start = time()\n",
    "full_model = train_gap_model(kernel, train_set_FPS[:ntrain], Knm, X_sparse, ytrain_FPS[:ntrain], y_dressed, \n",
    "                        grad_train=-get_forces(train_set_FPS[:ntrain]), lambdas=[0.055,3.25], jitter=1e-9, \n",
    "                        solver = 'RKHS')\n",
    "print(\"Time taken:\", time()-start)\n",
    "\n",
    "#predict energies and forces for validation set\n",
    "npred=1000\n",
    "yvp = []\n",
    "fvp = []\n",
    "\n",
    "for ifrm, frm in enumerate(tqdm(val_set[:npred], desc = \"Making predictions for validation set...\", leave=False)):\n",
    "    manager_val = soap.transform(frm)\n",
    "    yvp.append(full_model.predict(manager_val))\n",
    "    fvp.append(full_model.predict_forces(manager_val))\n",
    "\n",
    "yval_pred = np.array(yvp).flatten()\n",
    "fval_pred = np.concatenate(fvp)\n",
    "\n",
    "np.save('results_data/yval_pred_14k', yval_pred)\n",
    "np.save('results_data/fval_pred_14k', fval_pred)\n",
    "\n",
    "npred=1000\n",
    "yval_pred = np.load('results_data/yval_pred_14k.npy')\n",
    "fval_pred = np.load('results_data/fval_pred_14k.npy')\n",
    "\n",
    "rmse_energy = np.sqrt(np.mean(((yval_true[:npred] - mlr.predict(X_val[:npred]))/np.sum(X_val[:npred],axis=1) - (yval_pred[:npred] - mlr.predict(X_val[:npred]))/np.sum(X_val[:npred],axis=1))**2))\n",
    "\n",
    "rmse_forces = np.sqrt(np.mean((fval_true.flatten()[:npred] - fval_pred.flatten()[:npred])**2))\n",
    "\n",
    "print('RMSE energy:', rmse_energy, 'eV/atom')\n",
    "print('RMSE forces:', rmse_forces, 'eV/angstrom')\n",
    "\n",
    "for i in range(1000,15000,1000):\n",
    "    print('Creating model using', i, 'training structures...')\n",
    "    nforce_rows = np.sum(nat_per_struct[:i])*3\n",
    "    Kernelnm = np.zeros((i+nforce_rows, Knm.shape[1]))\n",
    "    print('Computing kernel...')\n",
    "    Kernelnm[:i] = Knm[:i]\n",
    "    Kernelnm[i:] = Knm[ntrain:(ntrain+nforce_rows)]\n",
    "    print('Creating model...')\n",
    "    full_model = train_gap_model(kernel, train_set_FPS[:i], Kernelnm, X_sparse, ytrain_FPS[:i], y_dressed, \n",
    "                        grad_train=-get_forces(train_set_FPS[:i]), lambdas=[0.055,3.25], jitter=1e-9, \n",
    "                        solver = 'RKHS')\n",
    "    npred=1000\n",
    "    yvp = []\n",
    "    fvp = []\n",
    "\n",
    "    for ifrm, frm in enumerate(tqdm(val_set[:npred], desc = \"Making predictions for validation set...\", leave=False)):\n",
    "        manager_val = soap.transform(frm)\n",
    "        yvp.append(full_model.predict(manager_val))\n",
    "        fvp.append(full_model.predict_forces(manager_val))\n",
    "\n",
    "    yval_pred = np.array(yvp).flatten()\n",
    "    fval_pred = np.concatenate(fvp)\n",
    "    np.save('results_data/yval_pred_lc_'+str(i), yval_pred)\n",
    "    np.save('results_data/fval_pred_lc_'+str(i), fval_pred)\n",
    "    print(\"Predictions saved.\")\n",
    "    rmse_energy = np.sqrt(np.mean(((yval_true[:npred] - mlr.predict(X_val[:npred]))/np.sum(X_val[:npred],axis=1) - (yval_pred[:npred] - mlr.predict(X_val[:npred]))/np.sum(X_val[:npred],axis=1))**2))\n",
    "    rmse_forces = np.sqrt(np.mean((fval_true.flatten()[:npred] - fval_pred.flatten()[:npred])**2))\n",
    "    print('RMSE energy:', rmse_energy, 'eV/atom')\n",
    "    print('RMSE forces:', rmse_forces, 'eV/angstrom')\n",
    "    print(\"\")"
   ]
  }
 ],
 "metadata": {
  "kernelspec": {
   "display_name": "Python 3 (ipykernel)",
   "language": "python",
   "name": "python3"
  },
  "language_info": {
   "codemirror_mode": {
    "name": "ipython",
    "version": 3
   },
   "file_extension": ".py",
   "mimetype": "text/x-python",
   "name": "python",
   "nbconvert_exporter": "python",
   "pygments_lexer": "ipython3",
   "version": "3.9.12"
  },
  "toc": {
   "base_numbering": 1,
   "nav_menu": {},
   "number_sections": true,
   "sideBar": true,
   "skip_h1_title": false,
   "title_cell": "Table of Contents",
   "title_sidebar": "Contents",
   "toc_cell": false,
   "toc_position": {
    "height": "calc(100% - 180px)",
    "left": "10px",
    "top": "150px",
    "width": "302.390625px"
   },
   "toc_section_display": true,
   "toc_window_display": true
  }
 },
 "nbformat": 4,
 "nbformat_minor": 5
}
