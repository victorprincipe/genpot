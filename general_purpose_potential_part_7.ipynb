{
 "cells": [
  {
   "cell_type": "markdown",
   "id": "6338a405",
   "metadata": {},
   "source": [
    "# Creating a General Purpose Potential for Molecular Crystals - Part 7"
   ]
  },
  {
   "cell_type": "markdown",
   "id": "ff43510b",
   "metadata": {},
   "source": [
    "This notebook is used to create a general purpose GAP potential for molecular crystals. The potential is built on PBE-D3 data from short PIMD simulations of 2238 different molecular crystals. Please note that it has a high (~150 GB) memory requirement to run fully."
   ]
  },
  {
   "cell_type": "markdown",
   "id": "ed2df57e",
   "metadata": {},
   "source": [
    "In this part of the notebook: \n",
    "- More tests..."
   ]
  },
  {
   "cell_type": "markdown",
   "id": "fbeab8a3",
   "metadata": {},
   "source": [
    "### Import modules, functions, and necessary raw data from parts 1, 2 and 3"
   ]
  },
  {
   "cell_type": "code",
   "execution_count": 1,
   "id": "1a9b1ef1",
   "metadata": {
    "code_folding": [
     0
    ],
    "hide_input": false
   },
   "outputs": [],
   "source": [
    "#Import modules\n",
    "from matplotlib import pylab as plt\n",
    "from tqdm import tqdm\n",
    "import itertools\n",
    "import pandas as pd\n",
    "from joblib import Parallel, delayed, parallel_backend\n",
    "\n",
    "import pickle\n",
    "import numpy as np\n",
    "from numpy.random import RandomState\n",
    "random_state = RandomState(0)\n",
    "from sklearn import linear_model\n",
    "import skcosmo.feature_selection\n",
    "#from skcosmo.feature_selection import FPS\n",
    "from skcosmo.sample_selection import PCovCUR, FPS\n",
    "from skcosmo.preprocessing import StandardFlexibleScaler\n",
    "from sklearn.linear_model import LinearRegression, Ridge\n",
    "from sklearn.model_selection import GroupKFold, cross_val_score\n",
    "from sklearn.kernel_ridge import KernelRidge\n",
    "from sklearn.metrics import mean_squared_error\n",
    "from sklearn.pipeline import Pipeline\n",
    "from skopt.space import Real, Integer\n",
    "from skopt.utils import use_named_args\n",
    "from skopt import gp_minimize, callbacks, dump, load\n",
    "from skopt.callbacks import CheckpointSaver\n",
    "from skopt.plots import plot_convergence, plot_objective\n",
    "\n",
    "import ase\n",
    "from ase.io import read, write\n",
    "from ase.build import make_supercell\n",
    "from ase.visualize import view\n",
    "import numpy as np\n",
    "# If installed -- not essential, though\n",
    "try:\n",
    "    from tqdm.notebook import tqdm\n",
    "except ImportError:\n",
    "    tqdm = (lambda i, **kwargs: i)\n",
    "\n",
    "from time import time, sleep\n",
    "\n",
    "from rascal.models import KRR\n",
    "from rascal.utils import dump_obj, load_obj\n",
    "\n",
    "from rascal.models import Kernel, train_gap_model, compute_KNM\n",
    "from rascal.representations import SphericalInvariants\n",
    "from rascal.neighbourlist.structure_manager import mask_center_atoms_by_species\n",
    "from rascal.utils import from_dict, to_dict, CURFilter, FPSFilter, dump_obj, load_obj\n",
    "from rascal.utils import get_score, get_optimal_radial_basis_hypers\n",
    "from rascal.utils.io import load_json, dump_json"
   ]
  },
  {
   "cell_type": "code",
   "execution_count": 2,
   "id": "d3e3877a",
   "metadata": {
    "code_folding": [
     0,
     1
    ]
   },
   "outputs": [],
   "source": [
    "#Define functions\n",
    "def do_fps(x, d=0):\n",
    "    \"\"\"\n",
    "    Function for performing farthest-point-sampling for a given feature matrix.\n",
    "    d gives the number of farthest-point-sampled feature vectors that will be outputted. \n",
    "    If d==0, the entire set will be FPS-sorted.\n",
    "    Returns the FPS-sorted IDs, as well as the FPS distances.\n",
    "    \"\"\"\n",
    "    if d == 0 : d = len(x)\n",
    "    n = len(x)\n",
    "    iy = np.zeros(d, int)\n",
    "    # faster evaluation of Euclidean distance\n",
    "    n2 = np.sum(x**2,axis=1)\n",
    "    iy[0] = 0\n",
    "    dl = n2 + n2[iy[0]] - 2* np.dot(x, x[iy[0]])\n",
    "    dss = []\n",
    "    for i in range(1,d):\n",
    "        iy[i] = np.argmax(dl)\n",
    "        nd = n2 + n2[iy[i]] - 2*np.dot(x,x[iy[i]])\n",
    "        dl = np.minimum(dl, nd)\n",
    "        dss.append(max(dl))\n",
    "    return iy,dss\n",
    "\n",
    "def get_forces(frames, array_name='forces'):\n",
    "    frc = np.zeros((np.sum([len(frm) for frm in frames]),3))\n",
    "    iat = 0\n",
    "    for ifrm,frm in enumerate(frames):\n",
    "        frc[iat:iat+len(frm)] = frm.get_array(array_name) \n",
    "        iat += len(frm)\n",
    "    return frc\n",
    "\n",
    "def get_features(atoms_objects, batch_size=1000, progress_bar=True):\n",
    "    '''Get average feature vectors for each structure in a list of atoms objects. \n",
    "        This requires soap to be set.\n",
    "    '''\n",
    "    struct_feat=[] #create empty feature vector of n_structures x n_features\n",
    "    got_frame = False\n",
    "    for frm in atoms_objects:\n",
    "        if got_frame == False: \n",
    "            if all(sp in frm.get_atomic_numbers() for sp in [1,6,7,8]) == True:\n",
    "                all_species = frm\n",
    "                got_frame = True\n",
    "    for i in tqdm(range(int(len(atoms_objects)/batch_size+0.9999)), disable = not progress_bar): #Get feature vectors in batches of 1000\n",
    "        for frm in atoms_objects[i*batch_size:(i+1)*batch_size]:\n",
    "            frm.wrap(eps=1e-13) #wrap atoms in unit cell\n",
    "        frames=[all_species.copy()] #add initial frame with all species\n",
    "        frames.extend(atoms_objects[i*batch_size:(i+1)*batch_size]) #extend initial frame with frames of batch\n",
    "        manager = soap.transform(frames) #calculate soap features for all structures in batch\n",
    "        env_feat_batch = manager.get_features(soap)[len(all_species):] #get feature vectors for all structures in batch\n",
    "        # (having removed the initial frame)\n",
    "        atom_counter=0 #count atoms\n",
    "        for ifrm,frm in enumerate(atoms_objects[i*batch_size:(i+1)*batch_size]): #iterate over frames in batch\n",
    "            nat=len(frm) #count atoms in frame\n",
    "            struct_feat.append(np.mean(env_feat_batch[atom_counter:atom_counter+nat],axis=0)) #average vectors\n",
    "            # for atoms in the same frame. Done by averaging vectors between atom_counter and atom_counter + nat\n",
    "            atom_counter+=nat #add atoms to counter\n",
    "    struct_feat_array=np.asarray(struct_feat)\n",
    "    return struct_feat_array\n",
    "\n",
    "def get_features_parallel(atoms_objects, bsize=1000, n_cores = 4):\n",
    "    '''Get average feature vectors for each structure in a list of atoms objects. \n",
    "        Do this in parallel\n",
    "    '''\n",
    "    blocks = []\n",
    "    for iblk, blk in enumerate(range(0, len(atoms_objects), bsize)):\n",
    "        blocks.append(atoms_objects[iblk*bsize:(iblk+1)*bsize])\n",
    "    with parallel_backend(backend=\"loky\"):\n",
    "        results = Parallel(n_jobs=n_cores)(delayed(get_features)(frames, batch_size=10000, \n",
    "                                                                 progress_bar=False) for frames in blocks)\n",
    "\n",
    "    return np.concatenate(results)\n",
    "\n",
    "def predict_batched(frames, ml_model):\n",
    "    man_pred = soap.transform(frames)\n",
    "    return ml_model.predict(man_pred)"
   ]
  },
  {
   "cell_type": "code",
   "execution_count": 3,
   "id": "849fe9cf",
   "metadata": {
    "code_folding": [
     0
    ]
   },
   "outputs": [
    {
     "name": "stderr",
     "output_type": "stream",
     "text": [
      "/ssd/vprincip/code/miniconda3/envs/genshift2/lib/python3.10/site-packages/sklearn/base.py:329: UserWarning: Trying to unpickle estimator Ridge from version 1.1.0rc1 when using version 1.0.2. This might lead to breaking code or invalid results. Use at your own risk. For more info please refer to:\n",
      "https://scikit-learn.org/stable/modules/model_persistence.html#security-maintainability-limitations\n",
      "  warnings.warn(\n"
     ]
    }
   ],
   "source": [
    "#Import raw data\n",
    "train_set = np.load('raw_data/CSD-10k_train_set.npy', allow_pickle=True)\n",
    "val_set = np.load('raw_data/CSD-10k_val_set.npy', allow_pickle=True)\n",
    "test_set = np.load('raw_data/CSD-10k_test_set.npy', allow_pickle=True)\n",
    "X_train = np.load('raw_data/X_train.npy') \n",
    "y_train = np.load('raw_data/y_train.npy')\n",
    "X_val = np.load('raw_data/X_val.npy') \n",
    "y_val = np.load('raw_data/y_val.npy')\n",
    "X_test = np.load('raw_data/X_test.npy') \n",
    "y_test = np.load('raw_data/y_test.npy')\n",
    "X_train_fps = np.load('raw_data/X_train_fps.npy')\n",
    "y_train_fps = np.load('raw_data/y_train_fps.npy')\n",
    "fps_ids = np.load('raw_data/CSD-10k_train_set_FPS_ids.npy')\n",
    "fps_dist = np.load('raw_data/CSD-10k_train_set_FPS_dist.npy')\n",
    "with open('raw_data/mlr.pkl', 'rb') as mlr_file:\n",
    "    mlr = pickle.load(mlr_file)\n",
    "initial_train_set = np.load('raw_data/initial_train_set_4pc.npy', allow_pickle=True)\n",
    "train_set_FPS = np.load('model_data/train_set_FPS.npy', allow_pickle=True)"
   ]
  },
  {
   "cell_type": "markdown",
   "id": "8b7890c8",
   "metadata": {},
   "source": [
    "### Compute necessary data and define SOAP"
   ]
  },
  {
   "cell_type": "code",
   "execution_count": 4,
   "id": "6061b01d",
   "metadata": {
    "code_folding": [
     0
    ]
   },
   "outputs": [],
   "source": [
    "#Compute training, validation and testing data\n",
    "#Get training data for the FPS-sorted training set\n",
    "ytF = []\n",
    "for ifrm, frm in enumerate(train_set_FPS):\n",
    "    ytF.append(frm.info['energy'])\n",
    "ytrain_FPS = np.array(ytF)\n",
    "\n",
    "#Get true energies and forces for validation set\n",
    "yvt = []\n",
    "fvt = []\n",
    "\n",
    "for frm in val_set:\n",
    "    yvt.append(frm.info['energy'])\n",
    "    fvt.append(frm.get_array('forces'))\n",
    "\n",
    "yval_true = np.array(yvt)\n",
    "fval_true = np.concatenate(fvt)\n",
    "\n",
    "#Get true energies and forces for test set\n",
    "ytt = []\n",
    "ftt = []\n",
    "\n",
    "for frm in test_set:\n",
    "    ytt.append(frm.info['energy'])\n",
    "    ftt.append(frm.get_array('forces'))\n",
    "\n",
    "ytest_true = np.array(ytt)\n",
    "ftest_true = np.concatenate(ftt)\n",
    "\n",
    "#get dressed atom energies for reduced training set\n",
    "y_dressed = {}\n",
    "for i,j in enumerate([1,6,7,8]):\n",
    "    y_dressed[j] = mlr.coef_[i]"
   ]
  },
  {
   "cell_type": "code",
   "execution_count": 5,
   "id": "bc767762",
   "metadata": {
    "code_folding": [
     0
    ]
   },
   "outputs": [],
   "source": [
    "#Define hyperparameters and SOAP\n",
    "zeta=3\n",
    "hypers = dict(soap_type=\"PowerSpectrum\",\n",
    "              interaction_cutoff=6, #cutoff distance in angstroms\n",
    "              max_radial=9, #no. of radial basis functions\n",
    "              max_angular=6, #no. of angular basis functions\n",
    "              gaussian_sigma_constant=0.4, #sigma width (i.e. amount of 'smearing')\n",
    "              gaussian_sigma_type=\"Constant\",\n",
    "              cutoff_function_type=\"RadialScaling\",\n",
    "              cutoff_smooth_width=0.5,\n",
    "              cutoff_function_parameters=\n",
    "                    dict(\n",
    "                            rate=1,\n",
    "                            scale=2,\n",
    "                            exponent=4\n",
    "                        ),\n",
    "              radial_basis=\"GTO\",\n",
    "              normalize=True,\n",
    "              optimization=\n",
    "                    dict(\n",
    "                            Spline=dict(\n",
    "                               accuracy=1.0e-05\n",
    "                            )\n",
    "                        ),\n",
    "              compute_gradients=False \n",
    "              )\n",
    "soap = SphericalInvariants(**hypers) #redefine soap with new parameters"
   ]
  },
  {
   "cell_type": "markdown",
   "id": "b8be3263",
   "metadata": {},
   "source": [
    "## Check variance of force predictions for direct and delta model"
   ]
  },
  {
   "cell_type": "markdown",
   "id": "b53003d8",
   "metadata": {},
   "source": [
    "In part 5 of this notebook, I showed that the variance of forces of DFTB+ - PBE is about half that of PBE on its own. Simulations of succinic acid, benzene and glycine are unstable using the direct PBE potential, but stable using DFTB+ with the PBE0-MBD potential. I will therefore compare the variance of the predicted forces throughout the simulations.\n",
    "\n",
    "Note that although I'm using the potential trained on PBE0-MBD, the results should still be comparable."
   ]
  },
  {
   "cell_type": "code",
   "execution_count": 19,
   "id": "18912d2a",
   "metadata": {},
   "outputs": [],
   "source": [
    "#Import frames \n",
    "compound = 'succinic_alpha'\n",
    "direct = read('/home/vprincip/genMD/PI_NVT_direct/'+compound+'/simulation.frc_00.xyz', ':')\n",
    "delta = read('/home/vprincip/genMD/PI_NVT_PBE0/'+compound+'/simulation.frc_00.xyz', ':')"
   ]
  },
  {
   "cell_type": "code",
   "execution_count": 20,
   "id": "c30140a4",
   "metadata": {},
   "outputs": [],
   "source": [
    "#Get forces\n",
    "direct_frcs = []\n",
    "delta_frcs = []\n",
    "for frm in direct:\n",
    "    direct_frcs.extend(frm.get_positions())\n",
    "for frm in delta:\n",
    "    delta_frcs.extend(frm.get_positions())\n",
    "direct_frcs = np.asarray(direct_frcs).flatten()\n",
    "delta_frcs = np.asarray(delta_frcs).flatten()"
   ]
  },
  {
   "cell_type": "code",
   "execution_count": 21,
   "id": "f42ed30f",
   "metadata": {},
   "outputs": [],
   "source": [
    "#convert forces from atomic units to eV/angstrom\n",
    "#note that this is not necessary for comparing variances, but may be useful to compare with other results later\n",
    "#one a.u. of force is equal to 51.421 eV/angstrom\n",
    "if np.var(direct_frcs) < 0.1:      #make sure that multiplication doesn't happen again if cell was already run\n",
    "    direct_frcs = direct_frcs*51.421\n",
    "if np.var(delta_frcs) < 0.1:\n",
    "    delta_frcs = delta_frcs*51.421"
   ]
  },
  {
   "cell_type": "code",
   "execution_count": 22,
   "id": "c6dfb67c",
   "metadata": {},
   "outputs": [
    {
     "data": {
      "image/png": "[encoded data removed]",
      "text/plain": [
       "<Figure size 432x288 with 1 Axes>"
      ]
     },
     "metadata": {
      "needs_background": "light"
     },
     "output_type": "display_data"
    }
   ],
   "source": [
    "plt.hist(direct_frcs, bins = 30)\n",
    "plt.yscale('log')"
   ]
  },
  {
   "cell_type": "code",
   "execution_count": 23,
   "id": "e5f2491e",
   "metadata": {
    "scrolled": true
   },
   "outputs": [
    {
     "data": {
      "image/png": "[encoded data removed]",
      "text/plain": [
       "<Figure size 432x288 with 1 Axes>"
      ]
     },
     "metadata": {
      "needs_background": "light"
     },
     "output_type": "display_data"
    }
   ],
   "source": [
    "plt.hist(delta_frcs, bins = 30)\n",
    "plt.yscale('log')"
   ]
  },
  {
   "cell_type": "markdown",
   "id": "24704cd3",
   "metadata": {},
   "source": [
    "### Check variance of forces using delta PBE-D2 model"
   ]
  },
  {
   "cell_type": "code",
   "execution_count": 14,
   "id": "148bee85",
   "metadata": {},
   "outputs": [],
   "source": [
    "#Import frames \n",
    "compound = 'succinic_alpha'\n",
    "direct = read('/home/vprincip/genMD/PI_NVT_direct/'+compound+'/simulation.frc_00.xyz', ':')\n",
    "delta = read('/home/vprincip/genMD/PI_NVT_PBE_t2/'+compound+'/simulation.frc_00.xyz', ':')"
   ]
  },
  {
   "cell_type": "code",
   "execution_count": 24,
   "id": "625958ee",
   "metadata": {},
   "outputs": [],
   "source": [
    "#Get forces\n",
    "direct_frcs = []\n",
    "delta_frcs = []\n",
    "for frm in direct:\n",
    "    direct_frcs.extend(frm.get_positions())\n",
    "for frm in delta:\n",
    "    delta_frcs.extend(frm.get_positions())\n",
    "direct_frcs = np.asarray(direct_frcs).flatten()\n",
    "delta_frcs = np.asarray(delta_frcs).flatten()"
   ]
  },
  {
   "cell_type": "code",
   "execution_count": 25,
   "id": "a465171e",
   "metadata": {},
   "outputs": [],
   "source": [
    "#convert forces from atomic units to eV/angstrom\n",
    "#note that this is not necessary for comparing variances, but may be useful to compare with other results later\n",
    "#one a.u. of force is equal to 51.421 eV/angstrom\n",
    "if np.var(direct_frcs) < 0.1:      #make sure that multiplication doesn't happen again if cell was already run\n",
    "    direct_frcs = direct_frcs*51.421\n",
    "if np.var(delta_frcs) < 0.1:\n",
    "    delta_frcs = delta_frcs*51.421"
   ]
  },
  {
   "cell_type": "code",
   "execution_count": 26,
   "id": "d99987f5",
   "metadata": {},
   "outputs": [
    {
     "data": {
      "image/png": "[encoded data removed]",
      "text/plain": [
       "<Figure size 432x288 with 1 Axes>"
      ]
     },
     "metadata": {
      "needs_background": "light"
     },
     "output_type": "display_data"
    }
   ],
   "source": [
    "plt.hist(direct_frcs, bins = 30)\n",
    "plt.yscale('log')"
   ]
  },
  {
   "cell_type": "code",
   "execution_count": 27,
   "id": "7111380f",
   "metadata": {
    "scrolled": true
   },
   "outputs": [
    {
     "data": {
      "image/png": "[encoded data removed]",
      "text/plain": [
       "<Figure size 432x288 with 1 Axes>"
      ]
     },
     "metadata": {
      "needs_background": "light"
     },
     "output_type": "display_data"
    }
   ],
   "source": [
    "plt.hist(delta_frcs, bins = 30)\n",
    "plt.yscale('log')"
   ]
  },
  {
   "cell_type": "code",
   "execution_count": 28,
   "id": "38dcc5a0",
   "metadata": {},
   "outputs": [
    {
     "name": "stdout",
     "output_type": "stream",
     "text": [
      "2.4229217182373826\n"
     ]
    }
   ],
   "source": [
    "print(\"Variance of direct force predictions:\", np.var(direct_frcs))"
   ]
  },
  {
   "cell_type": "code",
   "execution_count": 30,
   "id": "3546bb5c",
   "metadata": {},
   "outputs": [
    {
     "name": "stdout",
     "output_type": "stream",
     "text": [
      "Variance of delta force predictions: 5.216872867972878\n"
     ]
    }
   ],
   "source": [
    "print(\"Variance of delta force predictions:\", np.var(delta_frcs))"
   ]
  },
  {
   "cell_type": "markdown",
   "id": "e86df2f6",
   "metadata": {},
   "source": [
    "## Create model with a LAMMPS pair potential\n",
    "As simulations showed certain atoms collapsing in on one another, I will try to create a GAP potential in combination with a LAMMPS pair potential. This LAMMPS pair potential will \"correct\" force and energy predictions when two atoms come within a certain cutoff. \n",
    "\n",
    "From my pair potential + GAP model tutorial, here is why it is necessary:\n",
    "\n",
    ">When creating your GAP potential, you provide the model with a dataset containing many different configurations and/or systems of interest, hopefully with high fidelity quantum mechanical force and energy data to go along with each snapshot. These snapshots are usually provided from configurational sampling of the system(s) in question. The issue is that these simulations likely did not sample any configurational space where atoms are very close together, as repulsive electrostatic forces should have prevented this from occurring. As the model doesn't know anything about physical principles, it naively extrapolates its model to very small interatomic distances. Instead of having an exponential increase in energy at close distances, with exponentially increasing repulsive forces between the two atoms, it models a decrease in energy/forces down to zero below a certain threshold.\n",
    "\n",
    ">Now what's the result of this?\n",
    "\n",
    ">Well, if you subsequently use your GAP potential, and an atom pair pass the aforementioned threshold, the model believes the forces become attractive and the atoms will get cosy and collapse in on each other. Suffice to say the this should definitely not happen in any universe we live in. Hence, we need to compute and execute a parallel potential between pairs of atoms that knows how forces and energies behave at small interatomic distances, and thereby \"override\" the unphysical predictions of the GAP model.\n",
    "\n"
   ]
  },
  {
   "cell_type": "markdown",
   "id": "f7ea4e8c",
   "metadata": {},
   "source": [
    "Using the template in the tutorial, I have already calculated energies and forces of dimers by doing a structure relaxation for each pair, starting from a very short distance. I have then compiled these into a LAMMPS-readable table (called `potential.table` and can be found in the `raw_data/` directory). This potential was used to calculate energies and forces of all frames in the CSD-10k dataset of HCNO structures (2238 crystals x 101 structures per crystal). Results were added to the original dataset and saved as `CSD-10k_combined_w_kpts_pp_results.pickle`, which can again be found in the `raw_data` directory."
   ]
  },
  {
   "cell_type": "markdown",
   "id": "3ba70292",
   "metadata": {},
   "source": [
    "### Create dataset with new LAMMPS information"
   ]
  },
  {
   "cell_type": "code",
   "execution_count": 6,
   "id": "81c5f667",
   "metadata": {},
   "outputs": [],
   "source": [
    "#Import combined dataset\n",
    "with open('raw_data/CSD-10k_combined_w_kpts_pp_results.pickle', 'rb') as f:\n",
    "    combined = pickle.load(f)"
   ]
  },
  {
   "cell_type": "markdown",
   "id": "a81adadd",
   "metadata": {},
   "source": [
    "We now need to match the frames with these pair potential results to the frames in `train_set_FPS` and create a new database. Afterwards, we need to subtract the energies and forces of the LAMMPS potential from the original data."
   ]
  },
  {
   "cell_type": "code",
   "execution_count": 7,
   "id": "aad81c1f",
   "metadata": {},
   "outputs": [],
   "source": [
    "combined_array = []\n",
    "for name in combined.keys():\n",
    "    combined_array.extend(combined[name])\n",
    "    for frm in combined[name]:\n",
    "        frm.wrap(eps=1e-13)"
   ]
  },
  {
   "cell_type": "code",
   "execution_count": 8,
   "id": "651a0899",
   "metadata": {
    "scrolled": true
   },
   "outputs": [
    {
     "data": {
      "application/vnd.jupyter.widget-view+json": {
       "model_id": "",
       "version_major": 2,
       "version_minor": 0
      },
      "text/plain": [
       "  0%|          | 0/22618 [00:00<?, ?it/s]"
      ]
     },
     "metadata": {},
     "output_type": "display_data"
    },
    {
     "name": "stdout",
     "output_type": "stream",
     "text": [
      "Duplicate energy in MEPCHX frames [62, 67]\n",
      "Duplicate energy in KETVEK03 frames [42, 51]\n",
      "Duplicate energy in CEYDUF frames [40, 76]\n",
      "Duplicate energy in BZTZAD01 frames [11, 91]\n",
      "Duplicate energy in APENUG frames [67, 86]\n",
      "Duplicate energy in EXIHAV frames [77, 100]\n",
      "Duplicate energy in CRPACX10 frames [46, 85]\n",
      "Duplicate energy in REZMOY frames [17, 97]\n",
      "Duplicate energy in XULDUD01 frames [99, 100]\n",
      "Duplicate energy in RAJDEM frames [18, 99]\n",
      "Duplicate energy in FORMAM01 frames [42, 76]\n",
      "Duplicate energy in FUMAAC01 frames [22, 31]\n",
      "Duplicate energy in MEUREA01 frames [65, 70]\n",
      "Duplicate energy in WOSGIU frames [61, 93]\n",
      "Duplicate energy in LIQVUC frames [40, 99]\n",
      "Duplicate energy in YUGFAJ frames [81, 83]\n",
      "Duplicate energy in IZILIO frames [13, 14]\n",
      "Duplicate energy in CUZJEO frames [22, 58]\n",
      "Duplicate energy in PYZTAZ frames [5, 55]\n",
      "Duplicate energy in NEXJUW frames [66, 76]\n",
      "Duplicate energy in FEKVOG frames [71, 87]\n",
      "Duplicate energy in CACPUS frames [25, 40]\n",
      "Duplicate energy in ZOXHID frames [80, 100]\n",
      "Duplicate energy in FADTIQ frames [46, 96]\n",
      "Duplicate energy in KOVHAE01 frames [39, 96]\n",
      "Duplicate energy in CRPACX10 frames [46, 85]\n",
      "Duplicate energy in QAHVUQ frames [37, 38]\n",
      "Duplicate energy in MIOZPO01 frames [73, 87]\n",
      "Duplicate energy in TRIRED frames [62, 75]\n",
      "Duplicate energy in NEFJUG frames [19, 79]\n",
      "Duplicate energy in HOPKUT frames [65, 82]\n",
      "Duplicate energy in JABMAD frames [74, 99]\n",
      "Duplicate energy in AZALIX frames [66, 79]\n",
      "Duplicate energy in VUCBAW frames [15, 39]\n",
      "Duplicate energy in ZIPSUO frames [20, 70]\n",
      "Duplicate energy in KOYLIT frames [41, 45]\n",
      "Duplicate energy in FOYSUJ frames [17, 76]\n",
      "Duplicate energy in PANVUV frames [13, 86]\n",
      "Duplicate energy in VUWKII frames [82, 89]\n",
      "Duplicate energy in UGEBOZ frames [21, 87]\n",
      "Duplicate energy in FORRUB frames [19, 21]\n",
      "Duplicate energy in DOMQUS frames [39, 90]\n",
      "Duplicate energy in MUGNUX frames [83, 92]\n",
      "Duplicate energy in DIYLII frames [44, 87]\n",
      "Duplicate energy in SEDTUQ09 frames [17, 18]\n",
      "Duplicate energy in ICRFRA10 frames [67, 72]\n",
      "Duplicate energy in XIXQOL frames [42, 93]\n",
      "Duplicate energy in SEDTUQ09 frames [20, 34]\n",
      "Duplicate energy in DUCYOQ frames [30, 53]\n",
      "Duplicate energy in XAPMIN frames [25, 28]\n",
      "Duplicate energy in MEJNEX frames [37, 63]\n",
      "Duplicate energy in TAHMUN frames [56, 58]\n",
      "Duplicate energy in CERMOB frames [14, 100]\n",
      "Duplicate energy in VELLEE01 frames [16, 82]\n",
      "Duplicate energy in CIGMUB frames [70, 78]\n",
      "Duplicate energy in GUKVUE frames [91, 100]\n",
      "Duplicate energy in TILSIS frames [8, 52]\n",
      "Duplicate energy in YALTOW frames [47, 55]\n",
      "Duplicate energy in FEFJAE frames [19, 30]\n",
      "Duplicate energy in COKJER frames [97, 100]\n",
      "Duplicate energy in EJIQEU02 frames [63, 88]\n",
      "Duplicate energy in FOACAM frames [37, 39]\n",
      "Duplicate energy in WUHYIH frames [63, 88]\n",
      "Duplicate energy in NICGAH frames [41, 66]\n",
      "Duplicate energy in LITREM frames [23, 29]\n",
      "Duplicate energy in SUFHUY frames [72, 95]\n",
      "Duplicate energy in POWBAE frames [50, 74]\n",
      "Duplicate energy in WIKCIE frames [74, 92]\n",
      "Duplicate energy in CASYIG frames [52, 70]\n",
      "Duplicate energy in CIWVIP frames [73, 74]\n",
      "Duplicate energy in BONGES frames [75, 78]\n",
      "Duplicate energy in DAJVUG01 frames [36, 96]\n",
      "Duplicate energy in QIHHIY frames [56, 91]\n",
      "Duplicate energy in DUMQAF frames [36, 41]\n",
      "Duplicate energy in GUKVUE frames [91, 100]\n",
      "Duplicate energy in GADZAN frames [62, 72]\n",
      "Duplicate energy in NAMPIB frames [83, 89]\n",
      "Duplicate energy in ZIPSUO frames [48, 59]\n",
      "Duplicate energy in UZAXAW frames [15, 26]\n",
      "Duplicate energy in ROHBUL frames [27, 79]\n",
      "Duplicate energy in FORRUB frames [39, 91]\n",
      "Duplicate energy in HEXFUL frames [24, 88]\n",
      "Duplicate energy in ROGVIU frames [75, 82]\n",
      "Duplicate energy in TEDFEP frames [63, 93]\n",
      "Duplicate energy in TAYHUX frames [44, 77]\n",
      "Duplicate energy in OVEQAJ frames [40, 45]\n",
      "Duplicate energy in TIQROC frames [90, 94]\n",
      "Duplicate energy in FEKVOG frames [71, 87]\n",
      "Duplicate energy in ADMANN20 frames [22, 98]\n",
      "Duplicate energy in FEKVOG frames [45, 88]\n",
      "Duplicate energy in TILJOP frames [40, 42]\n"
     ]
    }
   ],
   "source": [
    "train_set_lammps = []\n",
    "fps_set = {}\n",
    "for iframe, frame in enumerate(tqdm(train_set_FPS, leave=False)):\n",
    "    name = frame.info['name']\n",
    "    if '_' in name:\n",
    "        name = name.split('_')[0]\n",
    "    \n",
    "    frm = frame.copy()\n",
    "    frm.set_cell(combined[name][0].get_cell())\n",
    "    frm.wrap(eps=1e-13)\n",
    "    \n",
    "    found = False\n",
    "    frames = []\n",
    "    for ifrm2, frm2 in enumerate(combined[name]):\n",
    "        \n",
    "        #Check if energies of frames match\n",
    "        if frm.info['energy'] == frm2.info['energy'] and found is False:\n",
    "            \n",
    "            #check if positions of atoms (very) close, with a relative tolerance of 1e-5\n",
    "            if np.allclose(frm.get_positions(), frm2.get_positions(), rtol=1e-5) is True:\n",
    "                train_set_lammps.append(frm2)\n",
    "                frames.append(ifrm2)\n",
    "                found = True\n",
    "            \n",
    "            #check if max difference in atom positions is equal to a cell length, to avoid numerical errors\n",
    "            #at cell boundaries\n",
    "            elif np.round(np.max(frm.get_positions()- frm2.get_positions()), 10) in frm.cell.cellpar()[0:3]:\n",
    "                train_set_lammps.append(frm2)\n",
    "                frames.append(ifrm2)\n",
    "                found = True\n",
    "            \n",
    "            #otherwise, append frame index to list of frames with matching energies\n",
    "            else:\n",
    "                frames.append(ifrm2)\n",
    "        \n",
    "        #Check where there are duplicate energies\n",
    "        elif frm.info['energy'] == frm2.info['energy'] and found is True:\n",
    "            frames.append(ifrm2)\n",
    "    \n",
    "    if len(frames) > 1:\n",
    "        print(f\"Duplicate energy in {name} frames {frames}\")\n",
    "        fps_set[name] = iframe"
   ]
  },
  {
   "cell_type": "code",
   "execution_count": 58,
   "id": "8138eb13",
   "metadata": {},
   "outputs": [
    {
     "name": "stdout",
     "output_type": "stream",
     "text": [
      "22618 frames with LAMMPS info were matched to the original train_set_FPS dataset, which had a length of 22618.\n",
      "However, please note that 84 frames in the training dataset correspond to frames with duplicate energies in the total dataset of >225k structures.\n",
      "Also, please note that there only 22614 (out of 22618) unique energies in the training set.\n"
     ]
    }
   ],
   "source": [
    "print(f\"{len(train_set_lammps)} frames with LAMMPS info were matched to the original train_set_FPS dataset,\", \n",
    "      f\"which had a length of {len(train_set_FPS)}.\")\n",
    "print(f\"However, please note that {len(fps_set)} frames in the training dataset correspond to frames with\",\n",
    "      f\"duplicate energies in the total dataset of >225k structures.\")\n",
    "print(f\"Also, please note that there only {len(np.unique([frm.info['energy'] for frm in train_set_lammps]))}\",\n",
    "      f\"(out of {len([frm.info['energy'] for frm in train_set_lammps])}) unique energies in the training set.\")"
   ]
  },
  {
   "cell_type": "markdown",
   "id": "25986ec6",
   "metadata": {},
   "source": [
    "Let's ignore the problem above for the moment and create this pair potential."
   ]
  },
  {
   "cell_type": "code",
   "execution_count": 74,
   "id": "0e0d6bfb",
   "metadata": {},
   "outputs": [],
   "source": [
    "# Append energy and force differences to frame\n",
    "for frm in train_set_lammps:\n",
    "    frm.info['delta_energy'] = frm.info['energy'] - frm.info['lammps_pp_energy']\n",
    "    frm.set_array('delta_forces', (frm.get_array('forces') - frm.get_array('pp_forces')))"
   ]
  },
  {
   "cell_type": "code",
   "execution_count": 77,
   "id": "852c5369",
   "metadata": {},
   "outputs": [],
   "source": [
    "# Save dataset\n",
    "np.save('raw_data/CSD-10k_train_set_FPS_lammps', np.asarray(train_set_lammps, dtype=object))"
   ]
  },
  {
   "cell_type": "code",
   "execution_count": 9,
   "id": "3b9f02ef",
   "metadata": {},
   "outputs": [],
   "source": [
    "#(Re)Load dataset\n",
    "train_set_lammps = np.load('raw_data/CSD-10k_train_set_FPS_lammps.npy', allow_pickle=True)"
   ]
  },
  {
   "cell_type": "markdown",
   "id": "228aac2c",
   "metadata": {},
   "source": [
    "### Create val_set and test_set with LAMMPS info\n",
    "(Ignore the whole duplicate issue for the moment)"
   ]
  },
  {
   "cell_type": "code",
   "execution_count": 10,
   "id": "d0720b12",
   "metadata": {
    "code_folding": [
     0
    ]
   },
   "outputs": [
    {
     "data": {
      "application/vnd.jupyter.widget-view+json": {
       "model_id": "",
       "version_major": 2,
       "version_minor": 0
      },
      "text/plain": [
       "  0%|          | 0/1000 [00:00<?, ?it/s]"
      ]
     },
     "metadata": {},
     "output_type": "display_data"
    },
    {
     "name": "stdout",
     "output_type": "stream",
     "text": [
      "Appended 1000 frames out of 1000 val_set frames.\n",
      "Validation set saved in raw_data directory as CSD-10k_val_set_lammps.npy\n"
     ]
    }
   ],
   "source": [
    "#For val_set\n",
    "val_set_lammps = []\n",
    "for iframe, frame in enumerate(tqdm(val_set, leave=False)):\n",
    "    name = frame.info['name']\n",
    "    if '_' in name:\n",
    "        name = name.split('_')[0]\n",
    "    \n",
    "    frm = frame.copy()\n",
    "    frm.set_cell(combined[name][0].get_cell())\n",
    "    frm.wrap(eps=1e-13)\n",
    "    \n",
    "    found = False\n",
    "    for ifrm2, frm2 in enumerate(combined[name]):\n",
    "        \n",
    "        #Check if energies of frames match\n",
    "        if frm.info['energy'] == frm2.info['energy'] and found is False:\n",
    "            \n",
    "            #check if positions of atoms (very) close, with a relative tolerance of 1e-5\n",
    "            if np.allclose(frm.get_positions(), frm2.get_positions(), rtol=1e-5) is True:\n",
    "                val_set_lammps.append(frm2)\n",
    "                found = True\n",
    "            \n",
    "            #check if max difference in atom positions is equal to a cell length, to avoid numerical errors\n",
    "            #at cell boundaries\n",
    "            elif np.round(np.max(frm.get_positions()- frm2.get_positions()), 10) in frm.cell.cellpar()[0:3]:\n",
    "                val_set_lammps.append(frm2)\n",
    "                found = True\n",
    "\n",
    "print(f\"Appended {len(val_set_lammps)} frames out of {len(val_set)} val_set frames.\")\n",
    "\n",
    "# Append energy and force differences to frame\n",
    "for frm in val_set_lammps:\n",
    "    frm.info['delta_energy'] = frm.info['energy'] - frm.info['lammps_pp_energy']\n",
    "    frm.set_array('delta_forces', (frm.get_array('forces') - frm.get_array('pp_forces')))\n",
    "\n",
    "# Save dataset\n",
    "np.save('raw_data/CSD-10k_val_set_lammps', np.asarray(val_set_lammps, dtype=object))\n",
    "print(\"Validation set saved in raw_data directory as CSD-10k_val_set_lammps.npy\")"
   ]
  },
  {
   "cell_type": "code",
   "execution_count": 11,
   "id": "08e07e28",
   "metadata": {
    "code_folding": [
     0
    ]
   },
   "outputs": [
    {
     "data": {
      "application/vnd.jupyter.widget-view+json": {
       "model_id": "",
       "version_major": 2,
       "version_minor": 0
      },
      "text/plain": [
       "  0%|          | 0/1000 [00:00<?, ?it/s]"
      ]
     },
     "metadata": {},
     "output_type": "display_data"
    },
    {
     "name": "stdout",
     "output_type": "stream",
     "text": [
      "Appended 1000 frames out of 1000 test_set frames.\n",
      "Test set saved in raw_data directory as CSD-10k_test_set_lammps.npy\n"
     ]
    }
   ],
   "source": [
    "#For test_set\n",
    "test_set_lammps = []\n",
    "for iframe, frame in enumerate(tqdm(test_set, leave=False)):\n",
    "    name = frame.info['name']\n",
    "    if '_' in name:\n",
    "        name = name.split('_')[0]\n",
    "    \n",
    "    frm = frame.copy()\n",
    "    frm.set_cell(combined[name][0].get_cell())\n",
    "    frm.wrap(eps=1e-13)\n",
    "    \n",
    "    found = False\n",
    "    for ifrm2, frm2 in enumerate(combined[name]):\n",
    "        \n",
    "        #Check if energies of frames match\n",
    "        if frm.info['energy'] == frm2.info['energy'] and found is False:\n",
    "            \n",
    "            #check if positions of atoms (very) close, with a relative tolerance of 1e-5\n",
    "            if np.allclose(frm.get_positions(), frm2.get_positions(), rtol=1e-5) is True:\n",
    "                test_set_lammps.append(frm2)\n",
    "                found = True\n",
    "            \n",
    "            #check if max difference in atom positions is equal to a cell length, to avoid numerical errors\n",
    "            #at cell boundaries\n",
    "            elif np.round(np.max(frm.get_positions()- frm2.get_positions()), 10) in frm.cell.cellpar()[0:3]:\n",
    "                test_set_lammps.append(frm2)\n",
    "                found = True\n",
    "\n",
    "print(f\"Appended {len(test_set_lammps)} frames out of {len(test_set_lammps)} test_set frames.\")\n",
    "\n",
    "# Append energy and force differences to frame\n",
    "for frm in test_set_lammps:\n",
    "    frm.info['delta_energy'] = frm.info['energy'] - frm.info['lammps_pp_energy']\n",
    "    frm.set_array('delta_forces', (frm.get_array('forces') - frm.get_array('pp_forces')))\n",
    "\n",
    "# Save dataset\n",
    "np.save('raw_data/CSD-10k_test_set_lammps', np.asarray(test_set_lammps, dtype=object))\n",
    "print(\"Test set saved in raw_data directory as CSD-10k_test_set_lammps.npy\")"
   ]
  },
  {
   "cell_type": "code",
   "execution_count": 12,
   "id": "05936534",
   "metadata": {
    "code_folding": []
   },
   "outputs": [],
   "source": [
    "#(Re)load LAMMPS val_set and test_set\n",
    "val_set_lammps = np.load('raw_data/CSD-10k_val_set_lammps.npy', allow_pickle=True)\n",
    "test_set_lammps = np.load('raw_data/CSD-10k_test_set_lammps.npy', allow_pickle=True)"
   ]
  },
  {
   "cell_type": "code",
   "execution_count": 13,
   "id": "45a3e8c7",
   "metadata": {},
   "outputs": [],
   "source": [
    "#Create y_train, y_val and y_test\n",
    "y_all_lammps = [] ; y_train_lammps = [] ; y_val_lammps = [] ; y_test_lammps = []\n",
    "X_all_lammps = np.zeros((len(combined_array), 4), dtype=int)\n",
    "X_train_lammps = np.zeros((len(train_set_lammps), 4), dtype=int)\n",
    "X_val_lammps = np.zeros((len(val_set_lammps), 4), dtype=int)\n",
    "X_test_lammps = np.zeros((len(test_set_lammps), 4), dtype=int)\n",
    "f_all_lammps = [] ; f_train_lammps = [] ; f_val_lammps = [] ; f_test_lammps = []\n",
    "\n",
    "for ifrm, frm in enumerate(combined_array):\n",
    "    symbols=frm.get_atomic_numbers()\n",
    "    frm.info['delta_energy'] = frm.info['energy'] - frm.info['lammps_pp_energy']\n",
    "    frm.set_array('delta_forces', (frm.get_array('forces') - frm.get_array('pp_forces')))\n",
    "    y_all_lammps.append(frm.info['delta_energy'])\n",
    "    f_all_lammps.extend(frm.get_array('delta_forces'))\n",
    "    X_all_lammps[ifrm] = [len(np.where(symbols == sp)[0]) for sp in [1,6,7,8]]\n",
    "for ifrm, frm in enumerate(train_set_lammps):\n",
    "    symbols=frm.get_atomic_numbers()\n",
    "    y_train_lammps.append(frm.info['delta_energy'])\n",
    "    f_train_lammps.extend(frm.get_array('delta_forces'))\n",
    "    X_train_lammps[ifrm] = [len(np.where(symbols == sp)[0]) for sp in [1,6,7,8]]\n",
    "for ifrm, frm in enumerate(val_set_lammps):\n",
    "    symbols=frm.get_atomic_numbers()\n",
    "    y_val_lammps.append(frm.info['delta_energy'])\n",
    "    f_val_lammps.extend(frm.get_array('delta_forces'))\n",
    "    X_val_lammps[ifrm] = [len(np.where(symbols == sp)[0]) for sp in [1,6,7,8]]\n",
    "for ifrm, frm in enumerate(test_set_lammps):\n",
    "    symbols=frm.get_atomic_numbers()\n",
    "    y_test_lammps.append(frm.info['delta_energy'])\n",
    "    f_test_lammps.extend(frm.get_array('delta_forces'))\n",
    "    X_test_lammps[ifrm] = [len(np.where(symbols == sp)[0]) for sp in [1,6,7,8]]\n",
    "\n",
    "y_all_lammps = np.asarray(y_all_lammps)\n",
    "y_train_lammps = np.asarray(y_train_lammps)\n",
    "y_val_lammps = np.asarray(y_val_lammps)\n",
    "y_test_lammps = np.asarray(y_test_lammps)"
   ]
  },
  {
   "cell_type": "code",
   "execution_count": 14,
   "id": "bebaaead",
   "metadata": {},
   "outputs": [
    {
     "name": "stdout",
     "output_type": "stream",
     "text": [
      "Intercept:  0.0\n",
      "Coefficients: [ -16.46576331 -154.71870284 -383.3436899  -566.22750974]\n"
     ]
    }
   ],
   "source": [
    "#Create dressed atom energies model \n",
    "mlr_lammps = Ridge(alpha=1E-4, fit_intercept=False)\n",
    "mlr_lammps.fit(X_all_lammps, y_all_lammps)\n",
    "print(\"Intercept: \", mlr.intercept_)\n",
    "print(\"Coefficients:\",mlr.coef_)"
   ]
  },
  {
   "cell_type": "code",
   "execution_count": 26,
   "id": "97a5a475",
   "metadata": {},
   "outputs": [],
   "source": [
    "#get dressed atom energies for reduced training set\n",
    "y_dressed_lammps = {}\n",
    "for i,j in enumerate([1,6,7,8]):\n",
    "    y_dressed_lammps[j] = mlr_lammps.coef_[i]"
   ]
  },
  {
   "cell_type": "markdown",
   "id": "ae698235",
   "metadata": {},
   "source": [
    "### Create model\n",
    "Create 20k training set model with nmax = 6, lmax = 4, rc = 4, nsparse = 2500"
   ]
  },
  {
   "cell_type": "code",
   "execution_count": 16,
   "id": "f80e1f16",
   "metadata": {},
   "outputs": [],
   "source": [
    "ntrain = 20000"
   ]
  },
  {
   "cell_type": "code",
   "execution_count": 17,
   "id": "bc25b627",
   "metadata": {
    "code_folding": []
   },
   "outputs": [],
   "source": [
    "#Define hyperparameters and SOAP\n",
    "hypers[\"compute_gradients\"] = False\n",
    "hypers[\"interaction_cutoff\"] = 4\n",
    "hypers[\"max_radial\"] = 6\n",
    "hypers[\"max_angular\"] = 4\n",
    "soap = SphericalInvariants(**hypers)"
   ]
  },
  {
   "cell_type": "code",
   "execution_count": null,
   "id": "110d0cd1",
   "metadata": {
    "scrolled": true
   },
   "outputs": [],
   "source": [
    "# Compute feature matrices\n",
    "print(\"Computing feature matrices...\")\n",
    "start=time()\n",
    "manager_train = soap.transform(train_set_lammps[:ntrain]) #calculating features\n",
    "print(\"Time taken: \", time()-start, \"s\")"
   ]
  },
  {
   "cell_type": "code",
   "execution_count": 85,
   "id": "b17c4d9b",
   "metadata": {},
   "outputs": [
    {
     "name": "stdout",
     "output_type": "stream",
     "text": [
      "Sparsifying training set...\n",
      "Time taken:  484.04671907424927 s\n"
     ]
    }
   ],
   "source": [
    "# Use an FPS filter to obtain desired number of sparse points per species\n",
    "nh = 2500\n",
    "nc = 2500\n",
    "nn = 2500\n",
    "no = 2500\n",
    "nsparse    = {1: nh, 6: nc, 7: nn, 8: no} #Select number of sparse environemnts per species\n",
    "compressor = FPSFilter(soap,nsparse,act_on='sample per species') #Filter to sparsify full feature matrix\n",
    "print(\"Sparsifying training set...\")\n",
    "start=time()\n",
    "X_sparse = compressor.select_and_filter(manager_train) #Apply filter to training set\n",
    "print(\"Time taken: \", time()-start, \"s\")"
   ]
  },
  {
   "cell_type": "code",
   "execution_count": 87,
   "id": "fe9abe7d",
   "metadata": {},
   "outputs": [],
   "source": [
    "dump_obj('raw_data/X_sparse_20k_lammps.json', X_sparse)"
   ]
  },
  {
   "cell_type": "code",
   "execution_count": 19,
   "id": "00f11695",
   "metadata": {},
   "outputs": [],
   "source": [
    "X_sparse = load_obj('raw_data/X_sparse_20k_lammps.json')"
   ]
  },
  {
   "cell_type": "code",
   "execution_count": 9,
   "id": "e3888dc0",
   "metadata": {},
   "outputs": [],
   "source": [
    "#Define kernel and redefine hypers \n",
    "hypers[\"compute_gradients\"] = True #we want to compute gradients (forces) for the kernel\n",
    "soap = SphericalInvariants(**hypers)\n",
    "kernel = Kernel(soap, name='GAP', zeta=zeta, target_type='Structure', kernel_type='Sparse') #Define Kernel"
   ]
  },
  {
   "cell_type": "code",
   "execution_count": null,
   "id": "4f6d6be2",
   "metadata": {},
   "outputs": [
    {
     "data": {
      "application/vnd.jupyter.widget-view+json": {
       "model_id": "0be27906095e4132a727337955fb6e43",
       "version_major": 2,
       "version_minor": 0
      },
      "text/plain": [
       "Compute KNM:   0%|          | 0/20000 [00:00<?, ?it/s]"
      ]
     },
     "metadata": {},
     "output_type": "display_data"
    }
   ],
   "source": [
    "#Compute kernel\n",
    "start=time()\n",
    "Knm = compute_KNM(tqdm(train_set_lammps[:ntrain], desc=\"Compute KNM\", leave=False), X_sparse, kernel, soap)\n",
    "print(\"Time taken: \", time()-start, \"s\")"
   ]
  },
  {
   "cell_type": "code",
   "execution_count": null,
   "id": "d30c0457",
   "metadata": {},
   "outputs": [],
   "source": [
    "#Save kernel\n",
    "np.save('raw_data/Knm_kernel_lammps_20k_2500ns', Knm)"
   ]
  },
  {
   "cell_type": "code",
   "execution_count": null,
   "id": "bcbaa009",
   "metadata": {},
   "outputs": [],
   "source": [
    "Knm = np.load('raw_data/Knm_kernel_lammps_20k_2500ns.npy', allow_pickle = True)"
   ]
  },
  {
   "cell_type": "code",
   "execution_count": null,
   "id": "9511a45c",
   "metadata": {},
   "outputs": [],
   "source": [
    "start = time()\n",
    "print(\"Loading Knm...\")\n",
    "Knm = np.load('raw_data/Knm_kernel_lammps_20k_2500ns.npy', allow_pickle = True)\n",
    "print(\"Knm loading time:\", time()-start)"
   ]
  },
  {
   "cell_type": "code",
   "execution_count": 29,
   "id": "5ccfdeca",
   "metadata": {},
   "outputs": [
    {
     "name": "stdout",
     "output_type": "stream",
     "text": [
      "Training GAP model...\n",
      "Time taken: 1140.8327548503876\n"
     ]
    }
   ],
   "source": [
    "#Train GAP model\n",
    "print(\"Training GAP model...\")\n",
    "start = time()\n",
    "full_model = train_gap_model(kernel, train_set_lammps[:ntrain], Knm, X_sparse, y_train_lammps[:ntrain], \n",
    "                             y_dressed_lammps, grad_train=-get_forces(train_set_lammps[:ntrain]), \n",
    "                             lambdas=[0.01,0.1], jitter=1e-9, solver = 'RKHS')\n",
    "print(\"Time taken:\", time()-start)"
   ]
  },
  {
   "cell_type": "code",
   "execution_count": 30,
   "id": "10583f11",
   "metadata": {},
   "outputs": [],
   "source": [
    "#Save model\n",
    "dump_obj('raw_data/full_GAP_model_lammps_20k_2500ps_0.01_0.1.json', full_model)"
   ]
  },
  {
   "cell_type": "code",
   "execution_count": 9,
   "id": "f2e2b8d5",
   "metadata": {},
   "outputs": [],
   "source": [
    "#Reload model\n",
    "full_model = load_obj('raw_data/full_GAP_model_lammps_20k_2500ps_0.01_0.1.json')"
   ]
  },
  {
   "cell_type": "code",
   "execution_count": 31,
   "id": "1a4ee5b9",
   "metadata": {
    "code_folding": []
   },
   "outputs": [
    {
     "data": {
      "application/vnd.jupyter.widget-view+json": {
       "model_id": "",
       "version_major": 2,
       "version_minor": 0
      },
      "text/plain": [
       "Making predictions for validation set...:   0%|          | 0/1000 [00:00<?, ?it/s]"
      ]
     },
     "metadata": {},
     "output_type": "display_data"
    }
   ],
   "source": [
    "#predict energies and forces for validation set\n",
    "npred=1000\n",
    "yvp = []\n",
    "fvp = []\n",
    "\n",
    "for ifrm, frm in enumerate(tqdm(val_set_lammps[:npred], desc = \"Making predictions for validation set...\", leave=False)):\n",
    "    manager_val = soap.transform(frm)\n",
    "    yvp.append(full_model.predict(manager_val))\n",
    "    fvp.append(full_model.predict_forces(manager_val))\n",
    "\n",
    "yval_pred = np.array(yvp).flatten()\n",
    "fval_pred = np.concatenate(fvp)\n"
   ]
  },
  {
   "cell_type": "code",
   "execution_count": 41,
   "id": "81b51404",
   "metadata": {},
   "outputs": [
    {
     "data": {
      "text/plain": [
       "Text(0.5, 1.0, 'Forces (ev/$\\\\AA$)')"
      ]
     },
     "execution_count": 41,
     "metadata": {},
     "output_type": "execute_result"
    },
    {
     "data": {
      "image/png": "[encoded data removed]",
      "text/plain": [
       "<Figure size 720x360 with 2 Axes>"
      ]
     },
     "metadata": {
      "needs_background": "light"
     },
     "output_type": "display_data"
    }
   ],
   "source": [
    "#Plot predicted vs. actual energies and forces\n",
    "f,p = plt.subplots(1,2, figsize = (10, 5))\n",
    "p[0].scatter((y_val_lammps[:npred] - mlr_lammps.predict(X_val_lammps[:npred]))/np.sum(X_val_lammps[:npred],axis=1),\n",
    "             (yval_pred[:npred] - mlr_lammps.predict(X_val_lammps[:npred]))/np.sum(X_val_lammps[:npred],axis=1))\n",
    "p[0].set_title('Energies (eV)')\n",
    "p[0].set()\n",
    "p[1].scatter(fval_true.flatten()[:npred], fval_pred.flatten()[:npred])\n",
    "p[1].set_title(r'Forces (ev/$\\AA$)')"
   ]
  },
  {
   "cell_type": "code",
   "execution_count": 42,
   "id": "fe8a2c83",
   "metadata": {},
   "outputs": [],
   "source": [
    "rmse_energy = np.sqrt(np.mean(((yval_true[:npred] - mlr.predict(X_val[:npred]))/np.sum(X_val[:npred],axis=1) - (yval_pred[:npred] - mlr.predict(X_val[:npred]))/np.sum(X_val[:npred],axis=1))**2))"
   ]
  },
  {
   "cell_type": "code",
   "execution_count": 43,
   "id": "fe48b0a1",
   "metadata": {},
   "outputs": [],
   "source": [
    "rmse_forces = np.sqrt(np.mean((fval_true.flatten() - fval_pred.flatten())**2))"
   ]
  },
  {
   "cell_type": "code",
   "execution_count": 44,
   "id": "b15827ee",
   "metadata": {},
   "outputs": [
    {
     "name": "stdout",
     "output_type": "stream",
     "text": [
      "0.021546736092921796 0.2904718293048525\n"
     ]
    }
   ],
   "source": [
    "print(rmse_energy, rmse_forces)"
   ]
  },
  {
   "cell_type": "code",
   "execution_count": 68,
   "id": "4ef90e97",
   "metadata": {},
   "outputs": [],
   "source": [
    "## Make input files for LAMMPS\n",
    "struct = 'succinic_beta'\n",
    "work_dir = f\"/exports/commonscratch/vprincip/genMD/PI_NVT_direct_lammps/{struct}/\"\n",
    "xyz_file = f\"{work_dir}init.extxyz\"\n",
    "\n",
    "frame = read(xyz_file)\n",
    "frame.set_pbc(True)\n",
    "ase.io.write(f\"{work_dir}struct.in\", frame, format='lammps-data', specorder=['H','C','N','O'])"
   ]
  },
  {
   "cell_type": "markdown",
   "id": "7450ecf5",
   "metadata": {},
   "source": [
    "## Train model on true CSD-1k test set\n",
    "- Check how the errors are on a model trained only on 9/10ths of the true test set MD structures. \n",
    "\n",
    "This is because the training set was created on very diverse (FPS-selected) structures, and so maybe a model trained on more \"normal\" structures will have more better predictions on more \"normal\" structures."
   ]
  },
  {
   "cell_type": "code",
   "execution_count": 71,
   "id": "bbea1520",
   "metadata": {},
   "outputs": [],
   "source": [
    "#Import data\n",
    "full_csd_1k = read('raw_data/CSD-1k_md.xyz', ':')"
   ]
  },
  {
   "cell_type": "code",
   "execution_count": 72,
   "id": "3c728828",
   "metadata": {},
   "outputs": [
    {
     "name": "stdout",
     "output_type": "stream",
     "text": [
      "Total number of HCNO structures: 500\n",
      "Total number of atoms: 63190\n"
     ]
    }
   ],
   "source": [
    "#Get only frames containing HCNO\n",
    "csd_1k = []\n",
    "for frm in full_csd_1k:\n",
    "    X_frm = [len(np.where(frm.get_atomic_numbers() == sp)[0]) for sp in [1,6,7,8]]\n",
    "    if len(frm) == sum(X_frm):\n",
    "        csd_1k.append(frm)\n",
    "print(f\"Total number of HCNO structures: {len(csd_1k)}\")\n",
    "print(f\"Total number of atoms: {sum([len(frm) for frm in csd_1k])}\")"
   ]
  },
  {
   "cell_type": "code",
   "execution_count": 73,
   "id": "a769ba89",
   "metadata": {},
   "outputs": [],
   "source": [
    "#Wrap all atoms in dataset\n",
    "for frm in csd_1k:\n",
    "    frm.wrap(eps=1e-13)"
   ]
  },
  {
   "cell_type": "markdown",
   "id": "418dc1bb",
   "metadata": {},
   "source": [
    "### Create train and test sets"
   ]
  },
  {
   "cell_type": "code",
   "execution_count": 74,
   "id": "706b1f82",
   "metadata": {},
   "outputs": [],
   "source": [
    "#Create train and test sets\n",
    "ids = np.arange(len(csd_1k))\n",
    "np.random.seed(34290)\n",
    "np.random.shuffle(ids)\n",
    "\n",
    "train_set=[csd_1k[i] for i in ids[:450]]\n",
    "test_set=[csd_1k[i] for i in ids[450:]]\n",
    "\n",
    "X_all = np.zeros((len(csd_1k), 4), dtype=int); y_all = np.zeros(len(csd_1k), dtype=float)\n",
    "for ifrm, frm in enumerate(csd_1k):\n",
    "    X_all[ifrm] = [len(np.where(frm.get_atomic_numbers() == sp)[0]) for sp in [1,6,7,8]]\n",
    "    y_all[ifrm] = frm.info['PBE-D2_energy']\n",
    "\n",
    "X_train = np.zeros((len(train_set), 4), dtype=int); y_train = np.zeros(len(train_set), dtype=float)\n",
    "f_train = np.zeros((sum([len(frm) for frm in train_set]),3), dtype=float)\n",
    "\n",
    "force_counter=0\n",
    "for ifrm, frm in enumerate(train_set):\n",
    "    X_train[ifrm] = [len(np.where(frm.get_atomic_numbers() == sp)[0]) for sp in [1,6,7,8]]\n",
    "    y_train[ifrm] = frm.info['PBE-D2_energy']\n",
    "    for iforces, forces in enumerate(frm.arrays['PBE-D2_forces']):\n",
    "        f_train[force_counter] = forces\n",
    "        force_counter += 1\n",
    "\n",
    "force_counter=0\n",
    "X_test = np.zeros((len(test_set), 4), dtype=int); y_test = np.zeros(len(test_set), dtype=float)\n",
    "f_test = np.zeros((sum([len(frm) for frm in test_set]),3), dtype=float)\n",
    "for ifrm, frm in enumerate(test_set):\n",
    "    X_test[ifrm] = [len(np.where(frm.get_atomic_numbers() == sp)[0]) for sp in [1,6,7,8]]\n",
    "    y_test[ifrm] = frm.info['PBE-D2_energy']\n",
    "    for iforces, forces in enumerate(frm.arrays['PBE-D2_forces']):\n",
    "        f_test[force_counter] = forces\n",
    "        force_counter += 1"
   ]
  },
  {
   "cell_type": "markdown",
   "id": "ed506780",
   "metadata": {},
   "source": [
    "### Create baselined model"
   ]
  },
  {
   "cell_type": "code",
   "execution_count": 75,
   "id": "f32164f4",
   "metadata": {},
   "outputs": [
    {
     "name": "stdout",
     "output_type": "stream",
     "text": [
      "Intercept:  -2.205905716116831\n",
      "Coefficients: [ -16.30588656 -154.78349229 -383.5558381  -566.45579258]\n"
     ]
    }
   ],
   "source": [
    "mlr = Ridge(alpha=1e-4, fit_intercept=True)\n",
    "mlr.fit(X_all, y_all)\n",
    "print(\"Intercept: \", mlr.intercept_)\n",
    "print(\"Coefficients:\",mlr.coef_)"
   ]
  },
  {
   "cell_type": "code",
   "execution_count": null,
   "id": "6e7f12c9",
   "metadata": {},
   "outputs": [],
   "source": [
    "#get dressed atom energies for reduced training set\n",
    "y_dressed = {}\n",
    "for i,j in enumerate([1,6,7,8]):\n",
    "    y_dressed[j] = mlr.coef_[i]"
   ]
  },
  {
   "cell_type": "markdown",
   "id": "a4fa2b8c",
   "metadata": {},
   "source": [
    "### Compute sparse points, Knm"
   ]
  },
  {
   "cell_type": "code",
   "execution_count": 76,
   "id": "bf500b6d",
   "metadata": {},
   "outputs": [],
   "source": [
    "#Define hyperparameters and SOAP\n",
    "zeta=3\n",
    "hypers = dict(soap_type=\"PowerSpectrum\",\n",
    "              interaction_cutoff=6, #cutoff distance in angstroms\n",
    "              max_radial=9, #no. of radial basis functions\n",
    "              max_angular=6, #no. of angular basis functions\n",
    "              gaussian_sigma_constant=0.4, #sigma width (i.e. amount of 'smearing')\n",
    "              gaussian_sigma_type=\"Constant\",\n",
    "              cutoff_function_type=\"RadialScaling\",\n",
    "              cutoff_smooth_width=0.5,\n",
    "              cutoff_function_parameters=\n",
    "                    dict(\n",
    "                            rate=1,\n",
    "                            scale=2,\n",
    "                            exponent=4\n",
    "                        ),\n",
    "              radial_basis=\"GTO\",\n",
    "              normalize=True,\n",
    "              optimization=\n",
    "                    dict(\n",
    "                            Spline=dict(\n",
    "                               accuracy=1.0e-05\n",
    "                            )\n",
    "                        ),\n",
    "              compute_gradients=False \n",
    "              )\n",
    "soap = SphericalInvariants(**hypers) #redefine soap with new parameters"
   ]
  },
  {
   "cell_type": "code",
   "execution_count": 77,
   "id": "8fc0d21a",
   "metadata": {},
   "outputs": [
    {
     "name": "stdout",
     "output_type": "stream",
     "text": [
      "Computing feature matrices...\n",
      "Time taken:  20.07531213760376 s\n"
     ]
    }
   ],
   "source": [
    "# Compute feature matrices\n",
    "print(\"Computing feature matrices...\")\n",
    "start=time()\n",
    "manager_train = soap.transform(train_set) #calculating features\n",
    "print(\"Time taken: \", time()-start, \"s\")"
   ]
  },
  {
   "cell_type": "code",
   "execution_count": 78,
   "id": "22aa8d02",
   "metadata": {},
   "outputs": [
    {
     "name": "stdout",
     "output_type": "stream",
     "text": [
      "Sparsifying training set...\n",
      "The number of pseudo points selected by central atom species is: {1: 2000, 6: 2000, 7: 2000, 8: 2000}\n",
      "Selecting species: 1\n",
      "Selecting species: 6\n",
      "Selecting species: 7\n",
      "Selecting species: 8\n",
      "Time taken:  550.2637684345245 s\n"
     ]
    }
   ],
   "source": [
    "# Use an FPS filter to obtain desired number of sparse points per species\n",
    "nh = 2000\n",
    "nc = 2000\n",
    "nn = 2000\n",
    "no = 2000\n",
    "nsparse    = {1: nh, 6: nc, 7: nn, 8: no} #Select number of sparse environemnts per species\n",
    "compressor = FPSFilter(soap,nsparse,act_on='sample per species') #Filter to sparsify full feature matrix\n",
    "print(\"Sparsifying training set...\")\n",
    "start=time()\n",
    "X_sparse = compressor.select_and_filter(manager_train) #Apply filter to training set\n",
    "print(\"Time taken: \", time()-start, \"s\")"
   ]
  },
  {
   "cell_type": "code",
   "execution_count": 82,
   "id": "5e8ac6b0",
   "metadata": {},
   "outputs": [],
   "source": [
    "dump_obj('raw_data/csd-1k_potential/X_sparse.json', X_sparse)"
   ]
  },
  {
   "cell_type": "code",
   "execution_count": 14,
   "id": "e79a91df",
   "metadata": {},
   "outputs": [],
   "source": [
    "X_sparse = load_obj('raw_data/csd-1k_potential/X_sparse.json')"
   ]
  },
  {
   "cell_type": "code",
   "execution_count": 80,
   "id": "2a3afa21",
   "metadata": {},
   "outputs": [],
   "source": [
    "#Define kernel and redefine hypers \n",
    "hypers[\"compute_gradients\"] = True #we want to compute gradients (forces) for the kernel\n",
    "soap = SphericalInvariants(**hypers)\n",
    "kernel = Kernel(soap, name='GAP', zeta=zeta, target_type='Structure', kernel_type='Sparse') #Define Kernel"
   ]
  },
  {
   "cell_type": "code",
   "execution_count": 84,
   "id": "1cdbda4d",
   "metadata": {},
   "outputs": [
    {
     "data": {
      "application/vnd.jupyter.widget-view+json": {
       "model_id": "",
       "version_major": 2,
       "version_minor": 0
      },
      "text/plain": [
       "Compute KNM:   0%|          | 0/450 [00:00<?, ?it/s]"
      ]
     },
     "metadata": {},
     "output_type": "display_data"
    },
    {
     "name": "stdout",
     "output_type": "stream",
     "text": [
      "Time taken:  30657.998143672943 s\n"
     ]
    }
   ],
   "source": [
    "#Compute kernel\n",
    "start=time()\n",
    "Knm = compute_KNM(tqdm(train_set, desc=\"Compute KNM\", leave=False), X_sparse, kernel, soap)\n",
    "print(\"Time taken: \", time()-start, \"s\")"
   ]
  },
  {
   "cell_type": "code",
   "execution_count": 85,
   "id": "e64be2d2",
   "metadata": {},
   "outputs": [],
   "source": [
    "#Save kernel\n",
    "np.save('raw_data/csd-1k_potential/Knm_kernel', Knm)"
   ]
  },
  {
   "cell_type": "code",
   "execution_count": 15,
   "id": "713a7680",
   "metadata": {},
   "outputs": [
    {
     "name": "stdout",
     "output_type": "stream",
     "text": [
      "Loading Knm...\n",
      "Knm loading time: 1779.0270457267761\n"
     ]
    }
   ],
   "source": [
    "start = time()\n",
    "print(\"Loading Knm...\")\n",
    "Knm = np.load('raw_data/csd-1k_potential/Knm_kernel.npy')\n",
    "print(\"Knm loading time:\", time()-start)"
   ]
  },
  {
   "cell_type": "markdown",
   "id": "6bd7c8a6",
   "metadata": {},
   "source": [
    "### Train and test model"
   ]
  },
  {
   "cell_type": "code",
   "execution_count": 89,
   "id": "9fbd2471",
   "metadata": {},
   "outputs": [
    {
     "name": "stdout",
     "output_type": "stream",
     "text": [
      "Training GAP model...\n",
      "Time taken: 135.23339653015137\n"
     ]
    }
   ],
   "source": [
    "#Train GAP model\n",
    "print(\"Training GAP model...\")\n",
    "start = time()\n",
    "model = train_gap_model(kernel, train_set, Knm, X_sparse, y_train, y_dressed, \n",
    "                        grad_train=-get_forces(train_set, array_name='PBE-D2_forces'), \n",
    "                        lambdas=[0.1,1], jitter=1e-9, solver = 'RKHS')\n",
    "print(\"Time taken:\", time()-start)"
   ]
  },
  {
   "cell_type": "code",
   "execution_count": 90,
   "id": "d21a62ca",
   "metadata": {},
   "outputs": [],
   "source": [
    "#Save model\n",
    "dump_obj('raw_data/csd-1k_potential/GAP_model_0.1_1.json', model)"
   ]
  },
  {
   "cell_type": "code",
   "execution_count": 6,
   "id": "c7eb5e1b",
   "metadata": {},
   "outputs": [],
   "source": [
    "#Reload model\n",
    "model = load_obj('raw_data/csd-1k_potential/GAP_model_0.1_1.json')"
   ]
  },
  {
   "cell_type": "code",
   "execution_count": 91,
   "id": "3e34e3e1",
   "metadata": {
    "code_folding": []
   },
   "outputs": [
    {
     "data": {
      "application/vnd.jupyter.widget-view+json": {
       "model_id": "",
       "version_major": 2,
       "version_minor": 0
      },
      "text/plain": [
       "Making predictions for test set...:   0%|          | 0/50 [00:00<?, ?it/s]"
      ]
     },
     "metadata": {},
     "output_type": "display_data"
    }
   ],
   "source": [
    "#predict energies and forces for test set\n",
    "ytp = []\n",
    "ftp = []\n",
    "\n",
    "for ifrm, frm in enumerate(tqdm(test_set, desc = \"Making predictions for test set...\", leave=False)):\n",
    "    manager_test = soap.transform(frm)\n",
    "    ytp.append(model.predict(manager_test))\n",
    "    ftp.append(model.predict_forces(manager_test))\n",
    "\n",
    "yt_pred = np.array(ytp).flatten()\n",
    "ft_pred = np.concatenate(ftp)"
   ]
  },
  {
   "cell_type": "code",
   "execution_count": 108,
   "id": "2fcba21b",
   "metadata": {},
   "outputs": [],
   "source": [
    "np.save('raw_data/csd-1k_potential/yt_pred', yt_pred)\n",
    "np.save('raw_data/csd-1k_potential/ft_pred', ft_pred)"
   ]
  },
  {
   "cell_type": "code",
   "execution_count": 92,
   "id": "a502d163",
   "metadata": {},
   "outputs": [
    {
     "data": {
      "text/plain": [
       "Text(0.5, 1.0, 'Forces (ev/$\\\\AA$)')"
      ]
     },
     "execution_count": 92,
     "metadata": {},
     "output_type": "execute_result"
    },
    {
     "data": {
      "image/png": "[encoded data removed]",
      "text/plain": [
       "<Figure size 720x360 with 2 Axes>"
      ]
     },
     "metadata": {
      "needs_background": "light"
     },
     "output_type": "display_data"
    }
   ],
   "source": [
    "#Plot predicted vs. actual energies and forces\n",
    "f,p = plt.subplots(1,2, figsize = (10, 5))\n",
    "p[0].scatter((y_test - mlr.predict(X_test))/np.sum(X_test,axis=1),\n",
    "             (yt_pred - mlr.predict(X_test))/np.sum(X_test,axis=1))\n",
    "p[0].set_title('Energies (eV)')\n",
    "p[0].set()\n",
    "p[1].scatter(f_test.flatten(), ft_pred.flatten())\n",
    "p[1].set_title(r'Forces (ev/$\\AA$)')"
   ]
  },
  {
   "cell_type": "code",
   "execution_count": 93,
   "id": "69c7070b",
   "metadata": {},
   "outputs": [],
   "source": [
    "rmse_energy = np.sqrt(np.mean(((y_test - mlr.predict(X_test))/np.sum(X_test,axis=1) \n",
    "                              - (yt_pred - mlr.predict(X_test))/np.sum(X_test,axis=1))**2))"
   ]
  },
  {
   "cell_type": "code",
   "execution_count": 94,
   "id": "0fc1e80c",
   "metadata": {},
   "outputs": [],
   "source": [
    "rmse_forces = np.sqrt(np.mean((f_test.flatten() - ft_pred.flatten())**2))"
   ]
  },
  {
   "cell_type": "code",
   "execution_count": 95,
   "id": "534729fa",
   "metadata": {},
   "outputs": [
    {
     "name": "stdout",
     "output_type": "stream",
     "text": [
      "0.01730346365323473 0.2565681435307788\n"
     ]
    }
   ],
   "source": [
    "print(rmse_energy, rmse_forces)"
   ]
  },
  {
   "cell_type": "markdown",
   "id": "753a8e7a",
   "metadata": {},
   "source": [
    "### Optimise regularisation parameters"
   ]
  },
  {
   "cell_type": "code",
   "execution_count": 116,
   "id": "1a908e23",
   "metadata": {
    "scrolled": true
   },
   "outputs": [
    {
     "name": "stdout",
     "output_type": "stream",
     "text": [
      "Training model using energy reg 0.04642 and force reg 0.46416\n"
     ]
    },
    {
     "data": {
      "application/vnd.jupyter.widget-view+json": {
       "model_id": "",
       "version_major": 2,
       "version_minor": 0
      },
      "text/plain": [
       "Making predictions for test set...:   0%|          | 0/50 [00:00<?, ?it/s]"
      ]
     },
     "metadata": {},
     "output_type": "display_data"
    },
    {
     "name": "stdout",
     "output_type": "stream",
     "text": [
      "Energy RMSE: 0.0179324\n",
      "Forces RMSE: 0.2601525\n",
      "\n",
      "Training model using energy reg 0.04642 and force reg 2.32079\n"
     ]
    },
    {
     "data": {
      "application/vnd.jupyter.widget-view+json": {
       "model_id": "",
       "version_major": 2,
       "version_minor": 0
      },
      "text/plain": [
       "Making predictions for test set...:   0%|          | 0/50 [00:00<?, ?it/s]"
      ]
     },
     "metadata": {},
     "output_type": "display_data"
    },
    {
     "name": "stdout",
     "output_type": "stream",
     "text": [
      "Energy RMSE: 0.0147818\n",
      "Forces RMSE: 0.2676666\n",
      "\n",
      "Training model using energy reg 0.1 and force reg 1.0\n"
     ]
    },
    {
     "data": {
      "application/vnd.jupyter.widget-view+json": {
       "model_id": "",
       "version_major": 2,
       "version_minor": 0
      },
      "text/plain": [
       "Making predictions for test set...:   0%|          | 0/50 [00:00<?, ?it/s]"
      ]
     },
     "metadata": {},
     "output_type": "display_data"
    },
    {
     "name": "stdout",
     "output_type": "stream",
     "text": [
      "Energy RMSE: 0.0173035\n",
      "Forces RMSE: 0.2565681\n",
      "\n",
      "Training model using energy reg 0.1 and force reg 5.0\n"
     ]
    },
    {
     "data": {
      "application/vnd.jupyter.widget-view+json": {
       "model_id": "",
       "version_major": 2,
       "version_minor": 0
      },
      "text/plain": [
       "Making predictions for test set...:   0%|          | 0/50 [00:00<?, ?it/s]"
      ]
     },
     "metadata": {},
     "output_type": "display_data"
    },
    {
     "name": "stdout",
     "output_type": "stream",
     "text": [
      "Energy RMSE: 0.0145377\n",
      "Forces RMSE: 0.2891437\n",
      "\n",
      "Training model using energy reg 0.21544 and force reg 2.15443\n"
     ]
    },
    {
     "data": {
      "application/vnd.jupyter.widget-view+json": {
       "model_id": "",
       "version_major": 2,
       "version_minor": 0
      },
      "text/plain": [
       "Making predictions for test set...:   0%|          | 0/50 [00:00<?, ?it/s]"
      ]
     },
     "metadata": {},
     "output_type": "display_data"
    },
    {
     "name": "stdout",
     "output_type": "stream",
     "text": [
      "Energy RMSE: 0.0173878\n",
      "Forces RMSE: 0.2603536\n",
      "\n",
      "Training model using energy reg 0.21544 and force reg 10.77217\n"
     ]
    },
    {
     "data": {
      "application/vnd.jupyter.widget-view+json": {
       "model_id": "",
       "version_major": 2,
       "version_minor": 0
      },
      "text/plain": [
       "Making predictions for test set...:   0%|          | 0/50 [00:00<?, ?it/s]"
      ]
     },
     "metadata": {},
     "output_type": "display_data"
    },
    {
     "name": "stdout",
     "output_type": "stream",
     "text": [
      "Energy RMSE: 0.0141114\n",
      "Forces RMSE: 0.3303732\n",
      "\n",
      "Training model using energy reg 0.46416 and force reg 4.64159\n"
     ]
    },
    {
     "data": {
      "application/vnd.jupyter.widget-view+json": {
       "model_id": "",
       "version_major": 2,
       "version_minor": 0
      },
      "text/plain": [
       "Making predictions for test set...:   0%|          | 0/50 [00:00<?, ?it/s]"
      ]
     },
     "metadata": {},
     "output_type": "display_data"
    },
    {
     "name": "stdout",
     "output_type": "stream",
     "text": [
      "Energy RMSE: 0.0186639\n",
      "Forces RMSE: 0.2783461\n",
      "\n",
      "Training model using energy reg 0.46416 and force reg 23.20794\n"
     ]
    },
    {
     "data": {
      "application/vnd.jupyter.widget-view+json": {
       "model_id": "",
       "version_major": 2,
       "version_minor": 0
      },
      "text/plain": [
       "Making predictions for test set...:   0%|          | 0/50 [00:00<?, ?it/s]"
      ]
     },
     "metadata": {},
     "output_type": "display_data"
    },
    {
     "name": "stdout",
     "output_type": "stream",
     "text": [
      "Energy RMSE: 0.0140085\n",
      "Forces RMSE: 0.3949625\n",
      "\n",
      "Training model using energy reg 1.0 and force reg 10.0\n"
     ]
    },
    {
     "data": {
      "application/vnd.jupyter.widget-view+json": {
       "model_id": "",
       "version_major": 2,
       "version_minor": 0
      },
      "text/plain": [
       "Making predictions for test set...:   0%|          | 0/50 [00:00<?, ?it/s]"
      ]
     },
     "metadata": {},
     "output_type": "display_data"
    },
    {
     "name": "stdout",
     "output_type": "stream",
     "text": [
      "Energy RMSE: 0.0198224\n",
      "Forces RMSE: 0.3158852\n",
      "\n",
      "Training model using energy reg 1.0 and force reg 50.0\n"
     ]
    },
    {
     "data": {
      "application/vnd.jupyter.widget-view+json": {
       "model_id": "",
       "version_major": 2,
       "version_minor": 0
      },
      "text/plain": [
       "Making predictions for test set...:   0%|          | 0/50 [00:00<?, ?it/s]"
      ]
     },
     "metadata": {},
     "output_type": "display_data"
    },
    {
     "name": "stdout",
     "output_type": "stream",
     "text": [
      "Energy RMSE: 0.0137265\n",
      "Forces RMSE: 0.4782387\n",
      "\n"
     ]
    }
   ],
   "source": [
    "ereg_lbound = -3; ereg_hbound = 0; ita = 10\n",
    "opti_results = np.zeros((len(np.logspace(ereg_lbound, ereg_hbound, ita)),4), dtype=float)\n",
    "\n",
    "counter=0\n",
    "\n",
    "for ereg in np.logspace(ereg_lbound, ereg_hbound, ita):\n",
    "    for freg in [10*ereg, 50*ereg]:\n",
    "        if counter <10:\n",
    "            counter += 1\n",
    "        else:\n",
    "            print(f\"Training model using energy reg {np.round(ereg,5)} and force reg {np.round(freg,5)}\")\n",
    "            model = train_gap_model(kernel, train_set, Knm, X_sparse, y_train, y_dressed, \n",
    "                                grad_train=-get_forces(train_set, array_name='PBE-D2_forces'), \n",
    "                                lambdas=[ereg,freg], jitter=1e-9, solver = 'RKHS')\n",
    "            ytp = []\n",
    "            ftp = []\n",
    "\n",
    "            for ifrm, frm in enumerate(tqdm(test_set, desc = \"Making predictions for test set...\", leave=False)):\n",
    "                manager_test = soap.transform(frm)\n",
    "                ytp.append(model.predict(manager_test))\n",
    "                ftp.append(model.predict_forces(manager_test))\n",
    "\n",
    "            yt_pred = np.array(ytp).flatten()\n",
    "            ft_pred = np.concatenate(ftp)\n",
    "\n",
    "            rmse_energy = np.sqrt(np.mean(((y_test - mlr.predict(X_test))/np.sum(X_test,axis=1) \n",
    "                                  - (yt_pred - mlr.predict(X_test))/np.sum(X_test,axis=1))**2))\n",
    "            rmse_forces = np.sqrt(np.mean((f_test.flatten() - ft_pred.flatten())**2))\n",
    "\n",
    "            opti_results[counter-10] = [ereg, freg, rmse_energy, rmse_forces]\n",
    "\n",
    "            counter+=1\n",
    "\n",
    "            print(f\"Energy RMSE: {np.round(rmse_energy, 7)}\")\n",
    "            print(f\"Forces RMSE: {np.round(rmse_forces, 7)}\")\n",
    "            print(\"\")\n"
   ]
  },
  {
   "cell_type": "code",
   "execution_count": 117,
   "id": "19c9b622",
   "metadata": {},
   "outputs": [],
   "source": [
    "np.save('raw_data/csd-1k_potential/opti_results_p2', opti_results)"
   ]
  },
  {
   "cell_type": "code",
   "execution_count": 127,
   "id": "6597d76f",
   "metadata": {},
   "outputs": [],
   "source": [
    "opti_results_combined = np.zeros((20,4), dtype=float)\n",
    "opti_1 = np.load('raw_data/csd-1k_potential/opti_results_p1.npy')\n",
    "opti_2 = np.load('raw_data/csd-1k_potential/opti_results_p2.npy')\n",
    "opti_results_combined[0:10] = opti_1\n",
    "opti_results_combined[10:20] = opti_2\n",
    "opti_results_combined[:, 2:4] *= 1000"
   ]
  },
  {
   "cell_type": "code",
   "execution_count": 129,
   "id": "490fd101",
   "metadata": {},
   "outputs": [
    {
     "data": {
      "text/html": [
       "<div>\n",
       "<style scoped>\n",
       "    .dataframe tbody tr th:only-of-type {\n",
       "        vertical-align: middle;\n",
       "    }\n",
       "\n",
       "    .dataframe tbody tr th {\n",
       "        vertical-align: top;\n",
       "    }\n",
       "\n",
       "    .dataframe thead th {\n",
       "        text-align: right;\n",
       "    }\n",
       "</style>\n",
       "<table border=\"1\" class=\"dataframe\">\n",
       "  <thead>\n",
       "    <tr style=\"text-align: right;\">\n",
       "      <th></th>\n",
       "      <th>Energy Reg.</th>\n",
       "      <th>Force Reg.</th>\n",
       "      <th>Energy RMSE (meV/atom)</th>\n",
       "      <th>Force RMSE (mev/Ang)</th>\n",
       "    </tr>\n",
       "  </thead>\n",
       "  <tbody>\n",
       "    <tr>\n",
       "      <th>0</th>\n",
       "      <td>0.001000</td>\n",
       "      <td>0.010000</td>\n",
       "      <td>18.697988</td>\n",
       "      <td>265.773650</td>\n",
       "    </tr>\n",
       "    <tr>\n",
       "      <th>1</th>\n",
       "      <td>0.001000</td>\n",
       "      <td>0.050000</td>\n",
       "      <td>17.190299</td>\n",
       "      <td>270.343340</td>\n",
       "    </tr>\n",
       "    <tr>\n",
       "      <th>2</th>\n",
       "      <td>0.002154</td>\n",
       "      <td>0.021544</td>\n",
       "      <td>18.695841</td>\n",
       "      <td>265.754568</td>\n",
       "    </tr>\n",
       "    <tr>\n",
       "      <th>3</th>\n",
       "      <td>0.002154</td>\n",
       "      <td>0.107722</td>\n",
       "      <td>17.135889</td>\n",
       "      <td>269.876334</td>\n",
       "    </tr>\n",
       "    <tr>\n",
       "      <th>4</th>\n",
       "      <td>0.004642</td>\n",
       "      <td>0.046416</td>\n",
       "      <td>18.685938</td>\n",
       "      <td>265.666946</td>\n",
       "    </tr>\n",
       "    <tr>\n",
       "      <th>5</th>\n",
       "      <td>0.004642</td>\n",
       "      <td>0.232079</td>\n",
       "      <td>16.910177</td>\n",
       "      <td>268.144933</td>\n",
       "    </tr>\n",
       "    <tr>\n",
       "      <th>6</th>\n",
       "      <td>0.010000</td>\n",
       "      <td>0.100000</td>\n",
       "      <td>18.641220</td>\n",
       "      <td>265.279482</td>\n",
       "    </tr>\n",
       "    <tr>\n",
       "      <th>7</th>\n",
       "      <td>0.010000</td>\n",
       "      <td>0.500000</td>\n",
       "      <td>16.246463</td>\n",
       "      <td>264.199689</td>\n",
       "    </tr>\n",
       "    <tr>\n",
       "      <th>8</th>\n",
       "      <td>0.021544</td>\n",
       "      <td>0.215443</td>\n",
       "      <td>18.457697</td>\n",
       "      <td>263.803473</td>\n",
       "    </tr>\n",
       "    <tr>\n",
       "      <th>9</th>\n",
       "      <td>0.021544</td>\n",
       "      <td>1.077217</td>\n",
       "      <td>15.326252</td>\n",
       "      <td>261.372640</td>\n",
       "    </tr>\n",
       "    <tr>\n",
       "      <th>10</th>\n",
       "      <td>0.046416</td>\n",
       "      <td>0.464159</td>\n",
       "      <td>17.932436</td>\n",
       "      <td>260.152509</td>\n",
       "    </tr>\n",
       "    <tr>\n",
       "      <th>11</th>\n",
       "      <td>0.046416</td>\n",
       "      <td>2.320794</td>\n",
       "      <td>14.781848</td>\n",
       "      <td>267.666596</td>\n",
       "    </tr>\n",
       "    <tr>\n",
       "      <th>12</th>\n",
       "      <td>0.100000</td>\n",
       "      <td>1.000000</td>\n",
       "      <td>17.303464</td>\n",
       "      <td>256.568144</td>\n",
       "    </tr>\n",
       "    <tr>\n",
       "      <th>13</th>\n",
       "      <td>0.100000</td>\n",
       "      <td>5.000000</td>\n",
       "      <td>14.537740</td>\n",
       "      <td>289.143662</td>\n",
       "    </tr>\n",
       "    <tr>\n",
       "      <th>14</th>\n",
       "      <td>0.215443</td>\n",
       "      <td>2.154435</td>\n",
       "      <td>17.387808</td>\n",
       "      <td>260.353595</td>\n",
       "    </tr>\n",
       "    <tr>\n",
       "      <th>15</th>\n",
       "      <td>0.215443</td>\n",
       "      <td>10.772173</td>\n",
       "      <td>14.111363</td>\n",
       "      <td>330.373239</td>\n",
       "    </tr>\n",
       "    <tr>\n",
       "      <th>16</th>\n",
       "      <td>0.464159</td>\n",
       "      <td>4.641589</td>\n",
       "      <td>18.663938</td>\n",
       "      <td>278.346089</td>\n",
       "    </tr>\n",
       "    <tr>\n",
       "      <th>17</th>\n",
       "      <td>0.464159</td>\n",
       "      <td>23.207944</td>\n",
       "      <td>14.008525</td>\n",
       "      <td>394.962547</td>\n",
       "    </tr>\n",
       "    <tr>\n",
       "      <th>18</th>\n",
       "      <td>1.000000</td>\n",
       "      <td>10.000000</td>\n",
       "      <td>19.822366</td>\n",
       "      <td>315.885197</td>\n",
       "    </tr>\n",
       "    <tr>\n",
       "      <th>19</th>\n",
       "      <td>1.000000</td>\n",
       "      <td>50.000000</td>\n",
       "      <td>13.726548</td>\n",
       "      <td>478.238690</td>\n",
       "    </tr>\n",
       "  </tbody>\n",
       "</table>\n",
       "</div>"
      ],
      "text/plain": [
       "    Energy Reg.  Force Reg.  Energy RMSE (meV/atom)  Force RMSE (mev/Ang)\n",
       "0      0.001000    0.010000               18.697988            265.773650\n",
       "1      0.001000    0.050000               17.190299            270.343340\n",
       "2      0.002154    0.021544               18.695841            265.754568\n",
       "3      0.002154    0.107722               17.135889            269.876334\n",
       "4      0.004642    0.046416               18.685938            265.666946\n",
       "5      0.004642    0.232079               16.910177            268.144933\n",
       "6      0.010000    0.100000               18.641220            265.279482\n",
       "7      0.010000    0.500000               16.246463            264.199689\n",
       "8      0.021544    0.215443               18.457697            263.803473\n",
       "9      0.021544    1.077217               15.326252            261.372640\n",
       "10     0.046416    0.464159               17.932436            260.152509\n",
       "11     0.046416    2.320794               14.781848            267.666596\n",
       "12     0.100000    1.000000               17.303464            256.568144\n",
       "13     0.100000    5.000000               14.537740            289.143662\n",
       "14     0.215443    2.154435               17.387808            260.353595\n",
       "15     0.215443   10.772173               14.111363            330.373239\n",
       "16     0.464159    4.641589               18.663938            278.346089\n",
       "17     0.464159   23.207944               14.008525            394.962547\n",
       "18     1.000000   10.000000               19.822366            315.885197\n",
       "19     1.000000   50.000000               13.726548            478.238690"
      ]
     },
     "execution_count": 129,
     "metadata": {},
     "output_type": "execute_result"
    }
   ],
   "source": [
    "pd.DataFrame(opti_results_combined, columns=['Energy Reg.', 'Force Reg.', 'Energy RMSE (meV/atom)', \n",
    "                                             'Force RMSE (mev/Ang)'])"
   ]
  },
  {
   "cell_type": "markdown",
   "id": "b671df7f",
   "metadata": {},
   "source": [
    "Seems like we can already get very decent results just using 450 training datapoints from the true CSD-1k test set MD structures. Around 15 meV/atom for energies and 260 meV/angstrom when optimising for both energies and forces.\n",
    "\n",
    "Might be good to look into curating a training set with more \"normal\" structures...\n",
    "\n",
    "\n",
    "**However: the fact that forces have lower errors could be because only MD structures were used. As the original model probably wasn't good at predicting near-zero forces for geometry-optimised structures in the validation set, this may have contributed to the increased errors in forces. Therefore, let's make a small model with 450 structures using training set MD structures, and test on the next 50 MD training set strucutres, and see how that model compares with the one we just made.**"
   ]
  },
  {
   "cell_type": "markdown",
   "id": "71838e43",
   "metadata": {},
   "source": [
    "## Train model on 450 train set structures\n",
    "Just to compare to the model above, let's train a model on 450 train set structures, and test on the next 50 train set structures..."
   ]
  },
  {
   "cell_type": "code",
   "execution_count": 150,
   "id": "97967cac",
   "metadata": {},
   "outputs": [
    {
     "name": "stdout",
     "output_type": "stream",
     "text": [
      "Number of unique crystals in new set: 500\n"
     ]
    }
   ],
   "source": [
    "n=500\n",
    "crystals = []; new_set=[]\n",
    "i=0\n",
    "for frm in train_set_FPS:\n",
    "    frm.info['crystal'] = frm.info['name'].split('_')[0]\n",
    "    if np.mean(np.abs(frm.arrays['forces'])) > 0.05 and i<n: #Make sure you're only using MD frames\n",
    "        crystals.append(frm.info['crystal'])\n",
    "        new_set.append(frm)\n",
    "        i+=1\n",
    "print(f\"Number of unique crystals in new set: {len(np.unique(crystals))}\")"
   ]
  },
  {
   "cell_type": "markdown",
   "id": "ac09f95c",
   "metadata": {},
   "source": [
    "However, we should only use MD frames and not geop ones."
   ]
  },
  {
   "cell_type": "code",
   "execution_count": 154,
   "id": "34a01c40",
   "metadata": {},
   "outputs": [
    {
     "name": "stdout",
     "output_type": "stream",
     "text": [
      "Minimum average force for a frame: 0.4055839836111111 eV/angstrom\n"
     ]
    }
   ],
   "source": [
    "avg_forces=[]\n",
    "for frm in new_set:\n",
    "    frm.wrap(eps=1e-13)\n",
    "    avg_forces.append(np.mean(np.abs(frm.arrays['forces'])))\n",
    "print(f\"Minimum average force for a frame: {min(avg_forces)} eV/angstrom\")"
   ]
  },
  {
   "cell_type": "markdown",
   "id": "eda27ab0",
   "metadata": {},
   "source": [
    "### Create train and test sets"
   ]
  },
  {
   "cell_type": "code",
   "execution_count": 155,
   "id": "78249995",
   "metadata": {},
   "outputs": [],
   "source": [
    "#Create train and test sets\n",
    "ids = np.arange(len(new_set))\n",
    "np.random.seed(1543)\n",
    "np.random.shuffle(ids)\n",
    "\n",
    "train_set=[new_set[i] for i in ids[:450]]\n",
    "test_set=[new_set[i] for i in ids[450:]]\n",
    "\n",
    "X_all = np.zeros((len(new_set), 4), dtype=int); y_all = np.zeros(len(new_set), dtype=float)\n",
    "for ifrm, frm in enumerate(new_set):\n",
    "    X_all[ifrm] = [len(np.where(frm.get_atomic_numbers() == sp)[0]) for sp in [1,6,7,8]]\n",
    "    y_all[ifrm] = frm.info['energy']\n",
    "\n",
    "X_train = np.zeros((len(train_set), 4), dtype=int); y_train = np.zeros(len(train_set), dtype=float)\n",
    "f_train = np.zeros((sum([len(frm) for frm in train_set]),3), dtype=float)\n",
    "\n",
    "force_counter=0\n",
    "for ifrm, frm in enumerate(train_set):\n",
    "    X_train[ifrm] = [len(np.where(frm.get_atomic_numbers() == sp)[0]) for sp in [1,6,7,8]]\n",
    "    y_train[ifrm] = frm.info['energy']\n",
    "    for iforces, forces in enumerate(frm.arrays['forces']):\n",
    "        f_train[force_counter] = forces\n",
    "        force_counter += 1\n",
    "\n",
    "force_counter=0\n",
    "X_test = np.zeros((len(test_set), 4), dtype=int); y_test = np.zeros(len(test_set), dtype=float)\n",
    "f_test = np.zeros((sum([len(frm) for frm in test_set]),3), dtype=float)\n",
    "for ifrm, frm in enumerate(test_set):\n",
    "    X_test[ifrm] = [len(np.where(frm.get_atomic_numbers() == sp)[0]) for sp in [1,6,7,8]]\n",
    "    y_test[ifrm] = frm.info['energy']\n",
    "    for iforces, forces in enumerate(frm.arrays['forces']):\n",
    "        f_test[force_counter] = forces\n",
    "        force_counter += 1"
   ]
  },
  {
   "cell_type": "markdown",
   "id": "64d4e74d",
   "metadata": {},
   "source": [
    "### Create baselined model"
   ]
  },
  {
   "cell_type": "code",
   "execution_count": 156,
   "id": "c024cac3",
   "metadata": {},
   "outputs": [
    {
     "name": "stdout",
     "output_type": "stream",
     "text": [
      "Intercept:  -2.694407386930834\n",
      "Coefficients: [ -16.51485547 -154.67483723 -383.25514219 -566.0576109 ]\n"
     ]
    }
   ],
   "source": [
    "mlr = Ridge(alpha=1e-4, fit_intercept=True)\n",
    "mlr.fit(X_all, y_all)\n",
    "print(\"Intercept: \", mlr.intercept_)\n",
    "print(\"Coefficients:\",mlr.coef_)"
   ]
  },
  {
   "cell_type": "code",
   "execution_count": 157,
   "id": "681ee5d8",
   "metadata": {},
   "outputs": [],
   "source": [
    "#get dressed atom energies for reduced training set\n",
    "y_dressed = {}\n",
    "for i,j in enumerate([1,6,7,8]):\n",
    "    y_dressed[j] = mlr.coef_[i]"
   ]
  },
  {
   "cell_type": "markdown",
   "id": "262800b4",
   "metadata": {},
   "source": [
    "### Compute sparse points, Knm"
   ]
  },
  {
   "cell_type": "code",
   "execution_count": 158,
   "id": "6677907c",
   "metadata": {},
   "outputs": [],
   "source": [
    "#Define hyperparameters and SOAP\n",
    "zeta=3\n",
    "hypers = dict(soap_type=\"PowerSpectrum\",\n",
    "              interaction_cutoff=6, #cutoff distance in angstroms\n",
    "              max_radial=9, #no. of radial basis functions\n",
    "              max_angular=6, #no. of angular basis functions\n",
    "              gaussian_sigma_constant=0.4, #sigma width (i.e. amount of 'smearing')\n",
    "              gaussian_sigma_type=\"Constant\",\n",
    "              cutoff_function_type=\"RadialScaling\",\n",
    "              cutoff_smooth_width=0.5,\n",
    "              cutoff_function_parameters=\n",
    "                    dict(\n",
    "                            rate=1,\n",
    "                            scale=2,\n",
    "                            exponent=4\n",
    "                        ),\n",
    "              radial_basis=\"GTO\",\n",
    "              normalize=True,\n",
    "              optimization=\n",
    "                    dict(\n",
    "                            Spline=dict(\n",
    "                               accuracy=1.0e-05\n",
    "                            )\n",
    "                        ),\n",
    "              compute_gradients=False \n",
    "              )\n",
    "soap = SphericalInvariants(**hypers) #redefine soap with new parameters"
   ]
  },
  {
   "cell_type": "code",
   "execution_count": 159,
   "id": "79cf1afb",
   "metadata": {},
   "outputs": [
    {
     "name": "stdout",
     "output_type": "stream",
     "text": [
      "Computing feature matrices...\n",
      "Time taken:  13.496772289276123 s\n"
     ]
    }
   ],
   "source": [
    "# Compute feature matrices\n",
    "print(\"Computing feature matrices...\")\n",
    "start=time()\n",
    "manager_train = soap.transform(train_set) #calculating features\n",
    "print(\"Time taken: \", time()-start, \"s\")"
   ]
  },
  {
   "cell_type": "code",
   "execution_count": 160,
   "id": "24792024",
   "metadata": {},
   "outputs": [
    {
     "name": "stdout",
     "output_type": "stream",
     "text": [
      "Sparsifying training set...\n",
      "The number of pseudo points selected by central atom species is: {1: 2000, 6: 2000, 7: 2000, 8: 2000}\n",
      "Selecting species: 1\n",
      "Selecting species: 6\n",
      "Selecting species: 7\n",
      "Selecting species: 8\n",
      "Time taken:  332.3391273021698 s\n"
     ]
    }
   ],
   "source": [
    "# Use an FPS filter to obtain desired number of sparse points per species\n",
    "nh = 2000\n",
    "nc = 2000\n",
    "nn = 2000\n",
    "no = 2000\n",
    "nsparse    = {1: nh, 6: nc, 7: nn, 8: no} #Select number of sparse environemnts per species\n",
    "compressor = FPSFilter(soap,nsparse,act_on='sample per species') #Filter to sparsify full feature matrix\n",
    "print(\"Sparsifying training set...\")\n",
    "start=time()\n",
    "X_sparse = compressor.select_and_filter(manager_train) #Apply filter to training set\n",
    "print(\"Time taken: \", time()-start, \"s\")"
   ]
  },
  {
   "cell_type": "code",
   "execution_count": 164,
   "id": "003da40d",
   "metadata": {},
   "outputs": [],
   "source": [
    "#Define kernel and redefine hypers \n",
    "hypers[\"compute_gradients\"] = True #we want to compute gradients (forces) for the kernel\n",
    "soap = SphericalInvariants(**hypers)\n",
    "kernel = Kernel(soap, name='GAP', zeta=zeta, target_type='Structure', kernel_type='Sparse') #Define Kernel"
   ]
  },
  {
   "cell_type": "code",
   "execution_count": 168,
   "id": "38dcd785",
   "metadata": {},
   "outputs": [
    {
     "data": {
      "application/vnd.jupyter.widget-view+json": {
       "model_id": "",
       "version_major": 2,
       "version_minor": 0
      },
      "text/plain": [
       "Compute KNM:   0%|          | 0/450 [00:00<?, ?it/s]"
      ]
     },
     "metadata": {},
     "output_type": "display_data"
    },
    {
     "name": "stdout",
     "output_type": "stream",
     "text": [
      "Time taken:  9354.62879872322 s\n"
     ]
    }
   ],
   "source": [
    "#Compute kernel\n",
    "start=time()\n",
    "Knm = compute_KNM(tqdm(train_set, desc=\"Compute KNM\", leave=False), X_sparse, kernel, soap)\n",
    "print(\"Time taken: \", time()-start, \"s\")"
   ]
  },
  {
   "cell_type": "markdown",
   "id": "cd1b1aba",
   "metadata": {},
   "source": [
    "### Train and test model"
   ]
  },
  {
   "cell_type": "markdown",
   "id": "b3c76934",
   "metadata": {},
   "source": [
    "To compare directly with the CSD-1k model, we will use the regularisers **0.021544** and **1.077217** for energies and forces, respectively. This corresponded to errors of **15.326252 meV/atom** and **261.372640 meV/angstrom** for energies and forces, respectively."
   ]
  },
  {
   "cell_type": "code",
   "execution_count": 169,
   "id": "0e655a6f",
   "metadata": {},
   "outputs": [
    {
     "name": "stdout",
     "output_type": "stream",
     "text": [
      "Training GAP model...\n",
      "Time taken: 95.95209908485413\n"
     ]
    }
   ],
   "source": [
    "#Train GAP model\n",
    "print(\"Training GAP model...\")\n",
    "start = time()\n",
    "model = train_gap_model(kernel, train_set, Knm, X_sparse, y_train, y_dressed, \n",
    "                        grad_train=-get_forces(train_set, array_name='forces'), \n",
    "                        lambdas=[ 0.021544,1.077217], jitter=1e-9, solver = 'RKHS')\n",
    "print(\"Time taken:\", time()-start)"
   ]
  },
  {
   "cell_type": "code",
   "execution_count": 175,
   "id": "fe671d1b",
   "metadata": {},
   "outputs": [],
   "source": [
    "#Save model\n",
    "dump_obj('raw_data/csd-1k_potential/SMALL_TRAIN_SET_GAP_model_0.215_1.077.json', model)"
   ]
  },
  {
   "cell_type": "code",
   "execution_count": 6,
   "id": "3b00b592",
   "metadata": {},
   "outputs": [],
   "source": [
    "#Reload model\n",
    "model = load_obj('raw_data/csd-1k_potential/SMALL_TRAIN_SET_GAP_model_0.215_1.077.json')"
   ]
  },
  {
   "cell_type": "code",
   "execution_count": 170,
   "id": "aa2d040d",
   "metadata": {
    "code_folding": []
   },
   "outputs": [
    {
     "data": {
      "application/vnd.jupyter.widget-view+json": {
       "model_id": "",
       "version_major": 2,
       "version_minor": 0
      },
      "text/plain": [
       "Making predictions for test set...:   0%|          | 0/50 [00:00<?, ?it/s]"
      ]
     },
     "metadata": {},
     "output_type": "display_data"
    }
   ],
   "source": [
    "#predict energies and forces for test set\n",
    "ytp = []\n",
    "ftp = []\n",
    "\n",
    "for ifrm, frm in enumerate(tqdm(test_set, desc = \"Making predictions for test set...\", leave=False)):\n",
    "    manager_test = soap.transform(frm)\n",
    "    ytp.append(model.predict(manager_test))\n",
    "    ftp.append(model.predict_forces(manager_test))\n",
    "\n",
    "yt_pred = np.array(ytp).flatten()\n",
    "ft_pred = np.concatenate(ftp)"
   ]
  },
  {
   "cell_type": "code",
   "execution_count": 171,
   "id": "9e152806",
   "metadata": {},
   "outputs": [
    {
     "data": {
      "text/plain": [
       "Text(0.5, 1.0, 'Forces (ev/$\\\\AA$)')"
      ]
     },
     "execution_count": 171,
     "metadata": {},
     "output_type": "execute_result"
    },
    {
     "data": {
      "image/png": "[encoded data removed]",
      "text/plain": [
       "<Figure size 720x360 with 2 Axes>"
      ]
     },
     "metadata": {
      "needs_background": "light"
     },
     "output_type": "display_data"
    }
   ],
   "source": [
    "#Plot predicted vs. actual energies and forces\n",
    "f,p = plt.subplots(1,2, figsize = (10, 5))\n",
    "p[0].scatter((y_test - mlr.predict(X_test))/np.sum(X_test,axis=1),\n",
    "             (yt_pred - mlr.predict(X_test))/np.sum(X_test,axis=1))\n",
    "p[0].set_title('Energies (eV)')\n",
    "p[0].set()\n",
    "p[1].scatter(f_test.flatten(), ft_pred.flatten())\n",
    "p[1].set_title(r'Forces (ev/$\\AA$)')"
   ]
  },
  {
   "cell_type": "code",
   "execution_count": 172,
   "id": "1a078297",
   "metadata": {},
   "outputs": [],
   "source": [
    "rmse_energy = np.sqrt(np.mean(((y_test - mlr.predict(X_test))/np.sum(X_test,axis=1) \n",
    "                              - (yt_pred - mlr.predict(X_test))/np.sum(X_test,axis=1))**2))"
   ]
  },
  {
   "cell_type": "code",
   "execution_count": 173,
   "id": "41866818",
   "metadata": {},
   "outputs": [],
   "source": [
    "rmse_forces = np.sqrt(np.mean((f_test.flatten() - ft_pred.flatten())**2))"
   ]
  },
  {
   "cell_type": "code",
   "execution_count": 174,
   "id": "089ef413",
   "metadata": {},
   "outputs": [
    {
     "name": "stdout",
     "output_type": "stream",
     "text": [
      "0.04070142226194922 0.4064031627823195\n"
     ]
    }
   ],
   "source": [
    "print(rmse_energy, rmse_forces)"
   ]
  },
  {
   "cell_type": "markdown",
   "id": "2c469e14",
   "metadata": {},
   "source": [
    "Quite promissing results!! \n",
    "\n",
    "**Energy** RMSE is **40.7** meV/atom cf. **15.3** meV/atom for the test set model.\n",
    "\n",
    "**Force** RMSE is **406** meV/angstrom cf. **261** meV/angstrom for the test set model."
   ]
  },
  {
   "cell_type": "markdown",
   "id": "3fdaaaed",
   "metadata": {},
   "source": [
    "# BIG PROBLEM"
   ]
  },
  {
   "cell_type": "markdown",
   "id": "1cbea014",
   "metadata": {},
   "source": [
    "So there appears to be a big issue. There are duplicates (fully - up until the 12th decimal) in energies for 454 frames in the original dataset (i.e. 908 frames that do not have a unique energy). For the energy duplicates, the cells have the exact same cell parameters, but their forces and positions differ. I also checked to see if the labelling of atoms got mixed up (i.e. atom 0 is atom x in the frame with duplicate energy) and this appears not to be the case."
   ]
  },
  {
   "cell_type": "markdown",
   "id": "65162810",
   "metadata": {},
   "source": [
    "### Check train_set_FPS uniqueness"
   ]
  },
  {
   "cell_type": "code",
   "execution_count": 6,
   "id": "cba9b06c",
   "metadata": {},
   "outputs": [
    {
     "name": "stdout",
     "output_type": "stream",
     "text": [
      "22614 out of 22618 frames have unique energies.\n"
     ]
    }
   ],
   "source": [
    "#Check if train set used throughout these notebooks has duplicate energies\n",
    "energies_train_FPS = []\n",
    "for frm in train_set_FPS:\n",
    "    energies_train_FPS.append(frm.info['energy'])\n",
    "print(f\"{len(np.unique(energies_train_FPS))} out of {len(energies_train_FPS)} frames have unique energies.\")"
   ]
  },
  {
   "cell_type": "markdown",
   "id": "50835338",
   "metadata": {},
   "source": [
    "### Check original dataset uniqueness"
   ]
  },
  {
   "cell_type": "code",
   "execution_count": 6,
   "id": "de26879d",
   "metadata": {},
   "outputs": [],
   "source": [
    "with open('raw_data/CSD-10k_combined_w_kpts.pickle', 'rb') as f:\n",
    "    full_dataset = pickle.load(f)"
   ]
  },
  {
   "cell_type": "code",
   "execution_count": 7,
   "id": "827934ae",
   "metadata": {},
   "outputs": [
    {
     "name": "stdout",
     "output_type": "stream",
     "text": [
      "225584 out of 226038 frames have unique energies.\n"
     ]
    }
   ],
   "source": [
    "#Check if original dataset has duplicate energies\n",
    "energies = []\n",
    "all_frames = []\n",
    "names = []\n",
    "for name in full_dataset.keys():\n",
    "    for ifrm, frm in enumerate(full_dataset[name]):\n",
    "        energies.append(frm.info['energy'])\n",
    "        all_frames.append(frm)\n",
    "        names.append(frm.info['name'])\n",
    "print(f\"{len(np.unique(energies))} out of {len(energies)} frames have unique energies.\")"
   ]
  },
  {
   "cell_type": "code",
   "execution_count": 283,
   "id": "619a0899",
   "metadata": {
    "collapsed": true
   },
   "outputs": [
    {
     "data": {
      "application/vnd.jupyter.widget-view+json": {
       "model_id": "",
       "version_major": 2,
       "version_minor": 0
      },
      "text/plain": [
       "  0%|          | 0/226038 [00:00<?, ?it/s]"
      ]
     },
     "metadata": {},
     "output_type": "display_data"
    },
    {
     "name": "stderr",
     "output_type": "stream",
     "text": [
      "/home/vprincip/code/miniconda3/envs/genshift/lib/python3.9/site-packages/numpy/lib/arraysetops.py:270: VisibleDeprecationWarning: Creating an ndarray from ragged nested sequences (which is a list-or-tuple of lists-or-tuples-or ndarrays with different lengths or shapes) is deprecated. If you meant to do this, you must specify 'dtype=object' when creating the ndarray.\n",
      "  ar = np.asanyarray(ar)\n"
     ]
    },
    {
     "ename": "TypeError",
     "evalue": "The axis argument to unique is not supported for dtype object",
     "output_type": "error",
     "traceback": [
      "\u001b[0;31m---------------------------------------------------------------------------\u001b[0m",
      "\u001b[0;31mTypeError\u001b[0m                                 Traceback (most recent call last)",
      "File \u001b[0;32m~/code/miniconda3/envs/genshift/lib/python3.9/site-packages/numpy/lib/arraysetops.py:294\u001b[0m, in \u001b[0;36munique\u001b[0;34m(ar, return_index, return_inverse, return_counts, axis)\u001b[0m\n\u001b[1;32m    293\u001b[0m \u001b[38;5;28;01mif\u001b[39;00m ar\u001b[38;5;241m.\u001b[39mshape[\u001b[38;5;241m1\u001b[39m] \u001b[38;5;241m>\u001b[39m \u001b[38;5;241m0\u001b[39m:\n\u001b[0;32m--> 294\u001b[0m     consolidated \u001b[38;5;241m=\u001b[39m \u001b[43mar\u001b[49m\u001b[38;5;241;43m.\u001b[39;49m\u001b[43mview\u001b[49m\u001b[43m(\u001b[49m\u001b[43mdtype\u001b[49m\u001b[43m)\u001b[49m\n\u001b[1;32m    295\u001b[0m \u001b[38;5;28;01melse\u001b[39;00m:\n\u001b[1;32m    296\u001b[0m     \u001b[38;5;66;03m# If ar.shape[1] == 0, then dtype will be `np.dtype([])`, which is\u001b[39;00m\n\u001b[1;32m    297\u001b[0m     \u001b[38;5;66;03m# a data type with itemsize 0, and the call `ar.view(dtype)` will\u001b[39;00m\n\u001b[1;32m    298\u001b[0m     \u001b[38;5;66;03m# fail.  Instead, we'll use `np.empty` to explicitly create the\u001b[39;00m\n\u001b[1;32m    299\u001b[0m     \u001b[38;5;66;03m# array with shape `(len(ar),)`.  Because `dtype` in this case has\u001b[39;00m\n\u001b[1;32m    300\u001b[0m     \u001b[38;5;66;03m# itemsize 0, the total size of the result is still 0 bytes.\u001b[39;00m\n",
      "File \u001b[0;32m~/code/miniconda3/envs/genshift/lib/python3.9/site-packages/numpy/core/_internal.py:494\u001b[0m, in \u001b[0;36m_view_is_safe\u001b[0;34m(oldtype, newtype)\u001b[0m\n\u001b[1;32m    493\u001b[0m \u001b[38;5;28;01mif\u001b[39;00m newtype\u001b[38;5;241m.\u001b[39mhasobject \u001b[38;5;129;01mor\u001b[39;00m oldtype\u001b[38;5;241m.\u001b[39mhasobject:\n\u001b[0;32m--> 494\u001b[0m     \u001b[38;5;28;01mraise\u001b[39;00m \u001b[38;5;167;01mTypeError\u001b[39;00m(\u001b[38;5;124m\"\u001b[39m\u001b[38;5;124mCannot change data-type for object array.\u001b[39m\u001b[38;5;124m\"\u001b[39m)\n\u001b[1;32m    495\u001b[0m \u001b[38;5;28;01mreturn\u001b[39;00m\n",
      "\u001b[0;31mTypeError\u001b[0m: Cannot change data-type for object array.",
      "\nThe above exception was the direct cause of the following exception:\n",
      "\u001b[0;31mTypeError\u001b[0m                                 Traceback (most recent call last)",
      "Input \u001b[0;32mIn [283]\u001b[0m, in \u001b[0;36m<cell line: 7>\u001b[0;34m()\u001b[0m\n\u001b[1;32m      5\u001b[0m     \u001b[38;5;28;01mif\u001b[39;00m \u001b[38;5;28mlen\u001b[39m(duplicates) \u001b[38;5;241m>\u001b[39m \u001b[38;5;241m1\u001b[39m:\n\u001b[1;32m      6\u001b[0m         duplicates_indices\u001b[38;5;241m.\u001b[39mappend(duplicates)\n\u001b[0;32m----> 7\u001b[0m duplicates_indices \u001b[38;5;241m=\u001b[39m \u001b[43mnp\u001b[49m\u001b[38;5;241;43m.\u001b[39;49m\u001b[43munique\u001b[49m\u001b[43m(\u001b[49m\u001b[43mduplicates_indices\u001b[49m\u001b[43m,\u001b[49m\u001b[43m \u001b[49m\u001b[43maxis\u001b[49m\u001b[38;5;241;43m=\u001b[39;49m\u001b[38;5;241;43m0\u001b[39;49m\u001b[43m)\u001b[49m\n\u001b[1;32m      8\u001b[0m np\u001b[38;5;241m.\u001b[39msave(\u001b[38;5;124m'\u001b[39m\u001b[38;5;124mduplicates_check/original_dataset_duplicates_indices.npy\u001b[39m\u001b[38;5;124m'\u001b[39m, duplicates_indices)\n",
      "File \u001b[0;32m<__array_function__ internals>:5\u001b[0m, in \u001b[0;36munique\u001b[0;34m(*args, **kwargs)\u001b[0m\n",
      "File \u001b[0;32m~/code/miniconda3/envs/genshift/lib/python3.9/site-packages/numpy/lib/arraysetops.py:305\u001b[0m, in \u001b[0;36munique\u001b[0;34m(ar, return_index, return_inverse, return_counts, axis)\u001b[0m\n\u001b[1;32m    302\u001b[0m \u001b[38;5;28;01mexcept\u001b[39;00m \u001b[38;5;167;01mTypeError\u001b[39;00m \u001b[38;5;28;01mas\u001b[39;00m e:\n\u001b[1;32m    303\u001b[0m     \u001b[38;5;66;03m# There's no good way to do this for object arrays, etc...\u001b[39;00m\n\u001b[1;32m    304\u001b[0m     msg \u001b[38;5;241m=\u001b[39m \u001b[38;5;124m'\u001b[39m\u001b[38;5;124mThe axis argument to unique is not supported for dtype \u001b[39m\u001b[38;5;132;01m{dt}\u001b[39;00m\u001b[38;5;124m'\u001b[39m\n\u001b[0;32m--> 305\u001b[0m     \u001b[38;5;28;01mraise\u001b[39;00m \u001b[38;5;167;01mTypeError\u001b[39;00m(msg\u001b[38;5;241m.\u001b[39mformat(dt\u001b[38;5;241m=\u001b[39mar\u001b[38;5;241m.\u001b[39mdtype)) \u001b[38;5;28;01mfrom\u001b[39;00m \u001b[38;5;21;01me\u001b[39;00m\n\u001b[1;32m    307\u001b[0m \u001b[38;5;28;01mdef\u001b[39;00m \u001b[38;5;21mreshape_uniq\u001b[39m(uniq):\n\u001b[1;32m    308\u001b[0m     n \u001b[38;5;241m=\u001b[39m \u001b[38;5;28mlen\u001b[39m(uniq)\n",
      "\u001b[0;31mTypeError\u001b[0m: The axis argument to unique is not supported for dtype object"
     ]
    }
   ],
   "source": [
    "#Get indices of non-unique frames (this will take some time, but is worth checking)\n",
    "duplicates_indices=[]\n",
    "for energy in tqdm(energies, leave = False):\n",
    "    duplicates = np.nonzero(energies == energy)[0]\n",
    "    if len(duplicates) > 1:\n",
    "        duplicates_indices.append(duplicates)\n",
    "#Remove arrays that appear twice (as each duplicate would have been appended twice or more depending on the number of duplicates there were)\n",
    "u_arrays = []\n",
    "for arr in duplicates_indices:\n",
    "    if not any(np.array_equal(arr, u_arr) for u_arr in u_arrays):\n",
    "        u_arrays.append(arr)\n",
    "np.save('duplicates_check/original_dataset_duplicates_indices.npy', np.asarray(u_arrays, dtype=object))"
   ]
  },
  {
   "cell_type": "code",
   "execution_count": 8,
   "id": "09e8edb2",
   "metadata": {},
   "outputs": [],
   "source": [
    "#Reload array of indices of duplicates\n",
    "duplicates_indices = np.load('duplicates_check/original_dataset_duplicates_indices.npy', allow_pickle=True)"
   ]
  },
  {
   "cell_type": "code",
   "execution_count": 9,
   "id": "98e4d10c",
   "metadata": {
    "scrolled": true
   },
   "outputs": [],
   "source": [
    "non_unique_frames={}\n",
    "for arr in duplicates_indices:\n",
    "    name = all_frames[arr[0]].info['name']\n",
    "    non_unique_frames[name] = [all_frames[i] for i in arr]"
   ]
  },
  {
   "cell_type": "code",
   "execution_count": 10,
   "id": "e41003ab",
   "metadata": {},
   "outputs": [
    {
     "name": "stdout",
     "output_type": "stream",
     "text": [
      "There are 452 non-unique energies in the original dataset\n"
     ]
    }
   ],
   "source": [
    "print(f\"There are {len(duplicates_indices)} non-unique energies in the original dataset\")"
   ]
  },
  {
   "cell_type": "code",
   "execution_count": 32,
   "id": "017ab2c8",
   "metadata": {},
   "outputs": [
    {
     "name": "stdout",
     "output_type": "stream",
     "text": [
      "EJIQEU02_88 and EJIQEU02_63 have energies -8476.660262082934 and -8476.660262082934\n",
      "The equality of positions with a relative threshold of 1e-4 is False\n",
      "METAMI04_37 and METAMI04_9 have energies -9927.262433366659 and -9927.262433366659\n",
      "The equality of positions with a relative threshold of 1e-4 is False\n",
      "XIXQOL_79 and XIXQOL_35 have energies -36404.04799055807 and -36404.04799055807\n",
      "The equality of positions with a relative threshold of 1e-4 is False\n",
      "XIXQOL_93 and XIXQOL_42 have energies -36403.50702824475 and -36403.50702824475\n",
      "The equality of positions with a relative threshold of 1e-4 is False\n",
      "XIXQOL_59 and XIXQOL_50 have energies -36403.600363291764 and -36403.600363291764\n",
      "The equality of positions with a relative threshold of 1e-4 is False\n",
      "XIXQOL_77 and XIXQOL_71 have energies -36403.91193363822 and -36403.91193363822\n",
      "The equality of positions with a relative threshold of 1e-4 is False\n",
      "COVSEM_99 and COVSEM_66 have energies -14300.603737166466 and -14300.603737166466\n",
      "The equality of positions with a relative threshold of 1e-4 is False\n",
      "ADMANN20_98 and ADMANN20_22 have energies -36187.881300528075 and -36187.881300528075\n",
      "The equality of positions with a relative threshold of 1e-4 is False\n",
      "QQQCIG30_72 and QQQCIG30_56 have energies -13913.486887987583 and -13913.486887987583\n",
      "The equality of positions with a relative threshold of 1e-4 is False\n",
      "GUTCIH_87 and GUTCIH_19 have energies -9100.143002092436 and -9100.143002092436\n",
      "The equality of positions with a relative threshold of 1e-4 is False\n",
      "HOPKUT_82 and HOPKUT_65 have energies -12877.26448821398 and -12877.26448821398\n",
      "The equality of positions with a relative threshold of 1e-4 is False\n",
      "HEMLAM_97 and HEMLAM_86 have energies -4078.182768877446 and -4078.182768877446\n",
      "The equality of positions with a relative threshold of 1e-4 is False\n",
      "DUYRIY_46 and DUYRIY_43 have energies -32312.992468322856 and -32312.992468322856\n",
      "The equality of positions with a relative threshold of 1e-4 is False\n",
      "YOYSUC_35 and YOYSUC_27 have energies -36151.20035493652 and -36151.20035493652\n",
      "The equality of positions with a relative threshold of 1e-4 is False\n",
      "UREAXX26_55 and UREAXX26_39 have energies -3108.114127941615 and -3108.114127941615\n",
      "The equality of positions with a relative threshold of 1e-4 is False\n",
      "BIVTUV01_37 and BIVTUV01_19 have energies -5626.356228223336 and -5626.356228223336\n",
      "The equality of positions with a relative threshold of 1e-4 is False\n",
      "KICCOO12_41 and KICCOO12_14 have energies -24555.529193412563 and -24555.529193412563\n",
      "The equality of positions with a relative threshold of 1e-4 is False\n",
      "WIMXAR_62 and WIMXAR_15 have energies -8903.641598298178 and -8903.641598298178\n",
      "The equality of positions with a relative threshold of 1e-4 is False\n",
      "VELLEE01_82 and VELLEE01_16 have energies -4761.806204940565 and -4761.806204940565\n",
      "The equality of positions with a relative threshold of 1e-4 is False\n",
      "QNACRD03_64 and IMAZOL33_22 have energies -10379.010863775415 and -10379.010863775415\n",
      "The equality of positions with a relative threshold of 1e-4 is False\n",
      "PUBMUU23_87 and PUBMUU23_19 have energies -49648.75892597501 and -49648.75892597501\n",
      "The equality of positions with a relative threshold of 1e-4 is False\n",
      "PUBMUU23_41 and PUBMUU23_29 have energies -49648.61715466453 and -49648.61715466453\n",
      "The equality of positions with a relative threshold of 1e-4 is False\n",
      "BAWVUQ01_78 and BAWVUQ01_22 have energies -4917.783708230715 and -4917.783708230715\n",
      "The equality of positions with a relative threshold of 1e-4 is False\n",
      "TRIRED_75 and TRIRED_62 have energies -8919.005798760856 and -8919.005798760856\n",
      "The equality of positions with a relative threshold of 1e-4 is False\n",
      "QAHVUQ_38 and QAHVUQ_37 have energies -5488.108329370224 and -5488.108329370224\n",
      "The equality of positions with a relative threshold of 1e-4 is False\n",
      "CUZJEO_45 and CUZJEO_20 have energies -3363.3827603949867 and -3363.3827603949867\n",
      "The equality of positions with a relative threshold of 1e-4 is False\n",
      "CUZJEO_58 and CUZJEO_22 have energies -3363.4088016894457 and -3363.4088016894457\n",
      "The equality of positions with a relative threshold of 1e-4 is False\n",
      "BAGMEC_34 and BAGMEC_30 have energies -20483.58340979796 and -20483.58340979796\n",
      "The equality of positions with a relative threshold of 1e-4 is False\n",
      "FORMAM01_76 and FORMAM01_42 have energies -4621.261284321009 and -4621.261284321009\n",
      "The equality of positions with a relative threshold of 1e-4 is False\n",
      "NOPQIT_95 and NOPQIT_57 have energies -41102.90351587936 and -41102.90351587936\n",
      "The equality of positions with a relative threshold of 1e-4 is False\n",
      "ZDGLPN_24 and ZDGLPN_22 have energies -40459.05931358662 and -40459.05931358662\n",
      "The equality of positions with a relative threshold of 1e-4 is False\n",
      "ZDGLPN_42 and ZDGLPN_36 have energies -40458.95237284762 and -40458.95237284762\n",
      "The equality of positions with a relative threshold of 1e-4 is False\n",
      "ZDGLPN_72 and ZDGLPN_59 have energies -40458.98774764679 and -40458.98774764679\n",
      "The equality of positions with a relative threshold of 1e-4 is False\n",
      "NAWYES_53 and NAWYES_38 have energies -6457.749180138662 and -6457.749180138662\n",
      "The equality of positions with a relative threshold of 1e-4 is False\n",
      "LAYSOV_48 and LAYSOV_46 have energies -29728.586377722997 and -29728.586377722997\n",
      "The equality of positions with a relative threshold of 1e-4 is False\n",
      "PHGLOL01_37 and PHGLOL01_16 have energies -10909.59396612272 and -10909.59396612272\n",
      "The equality of positions with a relative threshold of 1e-4 is False\n",
      "IZILIO_14 and IZILIO_13 have energies -27270.62587404109 and -27270.62587404109\n",
      "The equality of positions with a relative threshold of 1e-4 is False\n",
      "UZAWOJ_68 and UZAWOJ_39 have energies -13887.552153307919 and -13887.552153307919\n",
      "The equality of positions with a relative threshold of 1e-4 is False\n",
      "SEDTUQ09_18 and SEDTUQ09_17 have energies -16689.78891006755 and -16689.78891006755\n",
      "The equality of positions with a relative threshold of 1e-4 is False\n",
      "SEDTUQ09_34 and SEDTUQ09_20 have energies -16689.409828277465 and -16689.409828277465\n",
      "The equality of positions with a relative threshold of 1e-4 is False\n",
      "MEPCHX_67 and MEPCHX_62 have energies -13125.123433600937 and -13125.123433600937\n",
      "The equality of positions with a relative threshold of 1e-4 is False\n",
      "CRPACX10_85 and CRPACX10_46 have energies -8936.258931864579 and -8936.258931864579\n",
      "The equality of positions with a relative threshold of 1e-4 is False\n",
      "IMUWUJ_56 and IMUWUJ_21 have energies -19132.94527799165 and -19132.94527799165\n",
      "The equality of positions with a relative threshold of 1e-4 is False\n",
      "RAVWAM_97 and RAVWAM_58 have energies -34457.10394425462 and -34457.10394425462\n",
      "The equality of positions with a relative threshold of 1e-4 is False\n",
      "NEFJUG_79 and NEFJUG_19 have energies -4767.906480210343 and -4767.906480210343\n",
      "The equality of positions with a relative threshold of 1e-4 is False\n",
      "HOWBAW_94 and HOWBAW_11 have energies -3033.253760266035 and -3033.253760266035\n",
      "The equality of positions with a relative threshold of 1e-4 is False\n",
      "REVMIP_65 and IFIJOW_94 have energies -13230.969649105611 and -13230.969649105611\n",
      "The equality of positions could not be tested. This is likely because there are differing numbers of atoms in the two frames (this should be the case for different crystals ONLY.)\n",
      "WOLNOC_89 and GLUTAM09_99 have energies -13628.7931438441 and -13628.7931438441\n",
      "The equality of positions could not be tested. This is likely because there are differing numbers of atoms in the two frames (this should be the case for different crystals ONLY.)\n",
      "OMIWEM_79 and LUZFUJ_40 have energies -13168.612476982102 and -13168.612476982102\n",
      "The equality of positions with a relative threshold of 1e-4 is False\n",
      "GIPPAW_90 and GIPPAW_47 have energies -14521.377096811515 and -14521.377096811515\n",
      "The equality of positions with a relative threshold of 1e-4 is False\n",
      "ECADER_96 and ECADER_40 have energies -6921.237771681587 and -6921.237771681587\n",
      "The equality of positions with a relative threshold of 1e-4 is False\n",
      "DMOCDO10_90 and DMOCDO10_41 have energies -6538.647563437497 and -6538.647563437497\n",
      "The equality of positions with a relative threshold of 1e-4 is False\n",
      "TRPHAM_51 and TRPHAM_43 have energies -3272.1384184310696 and -3272.1384184310696\n",
      "The equality of positions with a relative threshold of 1e-4 is False\n",
      "DUMQAF_41 and DUMQAF_36 have energies -41555.47890024696 and -41555.47890024696\n",
      "The equality of positions with a relative threshold of 1e-4 is False\n",
      "NTROMA01_91 and NTROMA01_14 have energies -6873.953093984597 and -6873.953093984597\n",
      "The equality of positions with a relative threshold of 1e-4 is False\n",
      "FEKVOG_88 and FEKVOG_45 have energies -50449.89227468801 and -50449.89227468801\n",
      "The equality of positions with a relative threshold of 1e-4 is False\n",
      "FEKVOG_87 and FEKVOG_71 have energies -50449.83785192007 and -50449.83785192007\n",
      "The equality of positions with a relative threshold of 1e-4 is False\n",
      "TIMCHX_78 and TIMCHX_53 have energies -8895.932150625951 and -8895.932150625951\n",
      "The equality of positions with a relative threshold of 1e-4 is False\n",
      "HACGAT_58 and CTMTNA06_47 have energies -25020.15519359405 and -25020.15519359405\n",
      "The equality of positions could not be tested. This is likely because there are differing numbers of atoms in the two frames (this should be the case for different crystals ONLY.)\n",
      "KUKTEQ_81 and KUKTEQ_37 have energies -17297.38607949751 and -17297.38607949751\n",
      "The equality of positions with a relative threshold of 1e-4 is False\n",
      "WIKCIE_92 and WIKCIE_74 have energies -25609.338256223207 and -25609.338256223207\n",
      "The equality of positions with a relative threshold of 1e-4 is False\n",
      "METHOL04_52 and METHOL04_23 have energies -3146.089546280012 and -3146.089546280012\n",
      "The equality of positions with a relative threshold of 1e-4 is False\n",
      "ZZZKAY05_85 and ZZZKAY05_59 have energies -6119.156432773833 and -6119.156432773833\n",
      "The equality of positions with a relative threshold of 1e-4 is False\n",
      "TUPVAB01_95 and TUPVAB01_84 have energies -31934.405109083524 and -31934.405109083524\n",
      "The equality of positions with a relative threshold of 1e-4 is False\n",
      "FIPZIN01_87 and FIPZIN01_64 have energies -17485.219650676114 and -17485.219650676114\n",
      "The equality of positions with a relative threshold of 1e-4 is False\n",
      "ETAJOY_100 and ETAJOY_19 have energies -4553.054263294398 and -4553.054263294398\n",
      "The equality of positions with a relative threshold of 1e-4 is False\n",
      "FEXGUL_20 and ZERZIH_23 have energies -18099.06327493054 and -18099.06327493054\n",
      "The equality of positions could not be tested. This is likely because there are differing numbers of atoms in the two frames (this should be the case for different crystals ONLY.)\n",
      "PYRZOL32_2 and PYRZOL06_54 have energies -10373.469673600683 and -10373.469673600683\n",
      "The equality of positions with a relative threshold of 1e-4 is False\n",
      "DAJVUG01_96 and DAJVUG01_36 have energies -44442.11584609715 and -44442.11584609715\n",
      "The equality of positions with a relative threshold of 1e-4 is False\n",
      "GLYCIN62_88 and FEPGEM01_10 have energies -3817.909581952616 and -3817.909581952616\n",
      "The equality of positions with a relative threshold of 1e-4 is False\n",
      "KEFQEU_73 and KEFQEU_62 have energies -22367.97036193988 and -22367.97036193988\n",
      "The equality of positions with a relative threshold of 1e-4 is False\n",
      "JEMSUP_47 and JEMSUP_13 have energies -10695.70636555713 and -10695.70636555713\n",
      "The equality of positions with a relative threshold of 1e-4 is False\n",
      "ADALAU_78 and ADALAU_43 have energies -34494.581911282665 and -34494.581911282665\n",
      "The equality of positions with a relative threshold of 1e-4 is False\n",
      "CUTTOB_86 and CUTTOB_24 have energies -32527.296539120114 and -32527.296539120114\n",
      "The equality of positions with a relative threshold of 1e-4 is False\n",
      "IVEZEO_66 and IVEZEO_43 have energies -16308.57709447846 and -16308.57709447846\n",
      "The equality of positions with a relative threshold of 1e-4 is False\n",
      "DIKETE11_92 and DIKETE11_76 have energies -7265.638135881597 and -7265.638135881597\n",
      "The equality of positions with a relative threshold of 1e-4 is False\n",
      "FUSJOT_10 and FUSJOT_9 have energies -28556.353426297675 and -28556.353426297675\n",
      "The equality of positions with a relative threshold of 1e-4 is False\n",
      "LIQVUC_99 and LIQVUC_40 have energies -6907.162084672658 and -6907.162084672658\n",
      "The equality of positions with a relative threshold of 1e-4 is False\n",
      "TILJOP_42 and TILJOP_40 have energies -43408.76571674712 and -43408.76571674712\n",
      "The equality of positions with a relative threshold of 1e-4 is False\n",
      "HYXBUR10_85 and WUFTUO_35 have energies -12972.07333099828 and -12972.07333099828\n",
      "The equality of positions with a relative threshold of 1e-4 is False\n",
      "PIWXEY06_67 and PIWXEY06_42 have energies -3851.961009877003 and -3851.961009877003\n",
      "The equality of positions with a relative threshold of 1e-4 is False\n",
      "HIJFIP_94 and HIJFIP_25 have energies -16937.82037562888 and -16937.82037562888\n",
      "The equality of positions with a relative threshold of 1e-4 is False\n",
      "RASCUK_73 and RASCUK_25 have energies -10840.725436351799 and -10840.725436351799\n",
      "The equality of positions with a relative threshold of 1e-4 is False\n",
      "CYURAC13_84 and CYURAC13_41 have energies -13468.846452031166 and -13468.846452031166\n",
      "The equality of positions with a relative threshold of 1e-4 is False\n",
      "UZAXAW_26 and UZAXAW_15 have energies -30346.86711745895 and -30346.86711745895\n",
      "The equality of positions with a relative threshold of 1e-4 is False\n",
      "JABMAD_99 and JABMAD_74 have energies -35858.99988793138 and -35858.99988793138\n",
      "The equality of positions with a relative threshold of 1e-4 is False\n",
      "LUVPEY_72 and LUVPEY_71 have energies -18327.421862279996 and -18327.421862279996\n",
      "The equality of positions with a relative threshold of 1e-4 is False\n",
      "UTIXAX03_70 and UTIXAX03_51 have energies -7393.067033370693 and -7393.067033370693\n",
      "The equality of positions with a relative threshold of 1e-4 is False\n",
      "ACETAC09_65 and ACETAC09_7 have energies -6034.001263835035 and -6034.001263835035\n",
      "The equality of positions with a relative threshold of 1e-4 is False\n",
      "PUYTOS_92 and PUYTOS_76 have energies -3330.7190042075335 and -3330.7190042075335\n",
      "The equality of positions with a relative threshold of 1e-4 is False\n",
      "FUNGUS_63 and IBPRAC15_75 have energies -13759.11107396929 and -13759.11107396929\n",
      "The equality of positions could not be tested. This is likely because there are differing numbers of atoms in the two frames (this should be the case for different crystals ONLY.)\n",
      "JARMIB_100 and JARMIB_41 have energies -30367.334704139666 and -30367.334704139666\n",
      "The equality of positions with a relative threshold of 1e-4 is False\n",
      "JARMIB_81 and JARMIB_54 have energies -30367.53280301497 and -30367.53280301497\n",
      "The equality of positions with a relative threshold of 1e-4 is False\n",
      "XALDUM_98 and XALDUM_35 have energies -18161.781895867323 and -18161.781895867323\n",
      "The equality of positions with a relative threshold of 1e-4 is False\n",
      "FEDCIC_68 and NAXTIQ_9 have energies -17346.72785618848 and -17346.72785618848\n",
      "The equality of positions could not be tested. This is likely because there are differing numbers of atoms in the two frames (this should be the case for different crystals ONLY.)\n",
      "MUGNUX_92 and MUGNUX_83 have energies -14175.144671762959 and -14175.144671762959\n",
      "The equality of positions with a relative threshold of 1e-4 is False\n",
      "QONVIZ_92 and QONVIZ_74 have energies -48116.832567656085 and -48116.832567656085\n",
      "The equality of positions with a relative threshold of 1e-4 is False\n",
      "QOPKUB_43 and QOPKUB_17 have energies -45987.349387518916 and -45987.349387518916\n",
      "The equality of positions with a relative threshold of 1e-4 is False\n",
      "ZUNSUW_76 and ZUNSUW_59 have energies -4008.657900525168 and -4008.657900525168\n",
      "The equality of positions with a relative threshold of 1e-4 is False\n",
      "EDAWIP_57 and EDAWIP_13 have energies -9094.70205865625 and -9094.70205865625\n",
      "The equality of positions with a relative threshold of 1e-4 is False\n",
      "AKEZIB05_59 and AKEZIB05_19 have energies -6221.77211277359 and -6221.77211277359\n",
      "The equality of positions with a relative threshold of 1e-4 is False\n",
      "XULDUD01_100 and XULDUD01_99 have energies -6364.796670757412 and -6364.796670757412\n",
      "The equality of positions with a relative threshold of 1e-4 is False\n",
      "KIKVAC01_88 and KIKVAC01_65 have energies -27335.46951358624 and -27335.46951358624\n",
      "The equality of positions with a relative threshold of 1e-4 is False\n",
      "KIKVAC01_82 and KIKVAC01_79 have energies -27335.83822783903 and -27335.83822783903\n",
      "The equality of positions with a relative threshold of 1e-4 is False\n",
      "LOLJAX_40 and LOLJAX_34 have energies -46628.49612531871 and -46628.49612531871\n",
      "The equality of positions with a relative threshold of 1e-4 is False\n",
      "SASPAE_52 and SASPAE_50 have energies -15497.140508973203 and -15497.140508973203\n",
      "The equality of positions with a relative threshold of 1e-4 is False\n",
      "SIGFOE01_71 and SIGFOE01_28 have energies -30325.938842047624 and -30325.938842047624\n",
      "The equality of positions with a relative threshold of 1e-4 is False\n",
      "ITIPEG_66 and ITIPEG_33 have energies -46228.04441905948 and -46228.04441905948\n",
      "The equality of positions with a relative threshold of 1e-4 is False\n",
      "HAMGOT_79 and HAMGOT_42 have energies -4747.632720217647 and -4747.632720217647\n",
      "The equality of positions with a relative threshold of 1e-4 is False\n",
      "TAYHUX_36 and TAYHUX_25 have energies -38908.06403372304 and -38908.06403372304\n",
      "The equality of positions with a relative threshold of 1e-4 is False\n",
      "TAYHUX_77 and TAYHUX_44 have energies -38907.76362004402 and -38907.76362004402\n",
      "The equality of positions with a relative threshold of 1e-4 is False\n",
      "VOPTEZ_88 and VOPTEZ_62 have energies -8763.682783677954 and -8763.682783677954\n",
      "The equality of positions with a relative threshold of 1e-4 is False\n",
      "YEKHON_1 and NAYNUX_53 have energies -19500.804195352823 and -19500.804195352823\n",
      "The equality of positions could not be tested. This is likely because there are differing numbers of atoms in the two frames (this should be the case for different crystals ONLY.)\n",
      "UMIPIR_68 and UMIPIR_40 have energies -27895.775039204913 and -27895.775039204913\n",
      "The equality of positions with a relative threshold of 1e-4 is False\n",
      "UMIPIR_94 and UMIPIR_59 have energies -27895.562246182268 and -27895.562246182268\n",
      "The equality of positions with a relative threshold of 1e-4 is False\n",
      "MEWSUE_83 and MEWSUE_82 have energies -30797.059600932305 and -30797.059600932305\n",
      "The equality of positions with a relative threshold of 1e-4 is False\n",
      "VUCBAW_39 and VUCBAW_15 have energies -13483.793474766198 and -13483.793474766198\n",
      "The equality of positions with a relative threshold of 1e-4 is False\n",
      "VUCBAW_93 and VUCBAW_84 have energies -13483.692057938142 and -13483.692057938142\n",
      "The equality of positions with a relative threshold of 1e-4 is False\n",
      "JEXZUH_75 and JEXZUH_70 have energies -29879.11458368208 and -29879.11458368208\n",
      "The equality of positions with a relative threshold of 1e-4 is False\n",
      "ODEXOM_75 and ODEXOM_10 have energies -4112.093105775949 and -4112.093105775949\n",
      "The equality of positions with a relative threshold of 1e-4 is False\n",
      "DIBGEA01_86 and MOQDED_94 have energies -11089.271278704311 and -11089.271278704311\n",
      "The equality of positions with a relative threshold of 1e-4 is False\n",
      "QUDNOU_77 and QUDNOU_62 have energies -31804.204895405386 and -31804.204895405386\n",
      "The equality of positions with a relative threshold of 1e-4 is False\n",
      "SEGCAI01_55 and SEGCAI01_54 have energies -9667.56076713935 and -9667.56076713935\n",
      "The equality of positions with a relative threshold of 1e-4 is False\n",
      "CASYIG_98 and CASYIG_45 have energies -45179.69727966206 and -45179.69727966206\n",
      "The equality of positions with a relative threshold of 1e-4 is False\n",
      "CASYIG_70 and CASYIG_52 have energies -45180.2431400245 and -45180.2431400245\n",
      "The equality of positions with a relative threshold of 1e-4 is False\n",
      "YAMFOI_53 and YAMFOI_52 have energies -11091.71660251339 and -11091.71660251339\n",
      "The equality of positions with a relative threshold of 1e-4 is False\n",
      "AMTETZ_41 and AMTETZ_15 have energies -10886.785030331075 and -10886.785030331075\n",
      "The equality of positions with a relative threshold of 1e-4 is False\n",
      "AMTETZ_84 and AMTETZ_60 have energies -10886.652456468375 and -10886.652456468375\n",
      "The equality of positions with a relative threshold of 1e-4 is False\n",
      "MEJNEX_63 and MEJNEX_37 have energies -14428.021967793045 and -14428.021967793045\n",
      "The equality of positions with a relative threshold of 1e-4 is False\n",
      "ETDIAM17_87 and ETDIAM17_37 have energies -4831.862429987626 and -4831.862429987626\n",
      "The equality of positions with a relative threshold of 1e-4 is False\n",
      "VALWIQ_49 and VALWIQ_44 have energies -20625.57611210164 and -20625.57611210164\n",
      "The equality of positions with a relative threshold of 1e-4 is False\n",
      "FOACAM_98 and FOACAM_28 have energies -39610.210258854546 and -39610.210258854546\n",
      "The equality of positions with a relative threshold of 1e-4 is False\n",
      "FOACAM_39 and FOACAM_37 have energies -39610.082637463725 and -39610.082637463725\n",
      "The equality of positions with a relative threshold of 1e-4 is False\n",
      "FOACAM_72 and FOACAM_67 have energies -39610.3950241517 and -39610.3950241517\n",
      "The equality of positions with a relative threshold of 1e-4 is False\n",
      "KECYBU11_20 and KECYBU11_14 have energies -5836.677096635061 and -5836.677096635061\n",
      "The equality of positions with a relative threshold of 1e-4 is False\n",
      "MOPPUC01_88 and MOPPUC01_87 have energies -8257.139714555864 and -8257.139714555864\n",
      "The equality of positions with a relative threshold of 1e-4 is False\n",
      "VEZHOY_80 and VEZHOY_56 have energies -6201.24800804837 and -6201.24800804837\n",
      "The equality of positions with a relative threshold of 1e-4 is False\n",
      "ACIDOH_31 and CIGMUB_26 have energies -10456.92339633399 and -10456.92339633399\n",
      "The equality of positions could not be tested. This is likely because there are differing numbers of atoms in the two frames (this should be the case for different crystals ONLY.)\n",
      "CIGMUB_78 and CIGMUB_70 have energies -10456.814333107037 and -10456.814333107037\n",
      "The equality of positions with a relative threshold of 1e-4 is False\n",
      "FEFDOM_59 and FEFDOM_27 have energies -17956.982571011104 and -17956.982571011104\n",
      "The equality of positions with a relative threshold of 1e-4 is False\n",
      "SAWMIO_37 and SAWMIO_18 have energies -33691.41124625182 and -33691.41124625182\n",
      "The equality of positions with a relative threshold of 1e-4 is False\n",
      "SAWMIO_57 and SAWMIO_56 have energies -33690.62429302741 and -33690.62429302741\n",
      "The equality of positions with a relative threshold of 1e-4 is False\n",
      "DEZBIV_88 and DEZBIV_42 have energies -11481.432111650025 and -11481.432111650025\n",
      "The equality of positions with a relative threshold of 1e-4 is False\n",
      "CIRXEH_78 and CIRXEH_56 have energies -9040.226310151662 and -9040.226310151662\n",
      "The equality of positions with a relative threshold of 1e-4 is False\n",
      "FORRUB_21 and FORRUB_19 have energies -27494.324675153985 and -27494.324675153985\n",
      "The equality of positions with a relative threshold of 1e-4 is False\n",
      "FORRUB_91 and FORRUB_39 have energies -27494.044670012932 and -27494.044670012932\n",
      "The equality of positions with a relative threshold of 1e-4 is False\n",
      "HUVGIQ_63 and HUVGIQ_37 have energies -6541.5725151004335 and -6541.5725151004335\n",
      "The equality of positions with a relative threshold of 1e-4 is False\n",
      "GLYCIN35_73 and GLYCIN35_10 have energies -3818.308609687152 and -3818.308609687152\n",
      "The equality of positions with a relative threshold of 1e-4 is False\n",
      "GLYCIN62_75 and GLYCIN35_77 have energies -3818.2666497330706 and -3818.2666497330706\n",
      "The equality of positions with a relative threshold of 1e-4 is False\n",
      "BAWPOE_82 and BAWPOE_54 have energies -31874.829865588807 and -31874.829865588807\n",
      "The equality of positions with a relative threshold of 1e-4 is False\n",
      "QIHHIY_91 and QIHHIY_56 have energies -24036.108336826666 and -24036.108336826666\n",
      "The equality of positions with a relative threshold of 1e-4 is False\n",
      "FULPIM01_80 and FULPIM01_64 have energies -5939.273946357111 and -5939.273946357111\n",
      "The equality of positions with a relative threshold of 1e-4 is False\n",
      "XAQNOT_65 and XAQNOT_51 have energies -10955.551218086886 and -10955.551218086886\n",
      "The equality of positions with a relative threshold of 1e-4 is False\n",
      "DESJOA_78 and DESJOA_23 have energies -38146.48215949659 and -38146.48215949659\n",
      "The equality of positions with a relative threshold of 1e-4 is False\n",
      "XIMKUA_32 and XIMKUA_15 have energies -9041.005127172266 and -9041.005127172266\n",
      "The equality of positions with a relative threshold of 1e-4 is False\n",
      "GOCJIS_68 and GOCJIS_27 have energies -26866.327838657697 and -26866.327838657697\n",
      "The equality of positions with a relative threshold of 1e-4 is False\n",
      "VENREN_79 and VENREN_47 have energies -15374.124889793282 and -15374.124889793282\n",
      "The equality of positions with a relative threshold of 1e-4 is False\n",
      "ROHBUL_79 and ROHBUL_27 have energies -28600.78635095461 and -28600.78635095461\n",
      "The equality of positions with a relative threshold of 1e-4 is False\n",
      "ROHBUL_73 and ROHBUL_40 have energies -28600.62362687847 and -28600.62362687847\n",
      "The equality of positions with a relative threshold of 1e-4 is False\n",
      "ROHBUL_81 and ROHBUL_63 have energies -28601.00485836789 and -28601.00485836789\n",
      "The equality of positions with a relative threshold of 1e-4 is False\n",
      "XAPMIN_28 and XAPMIN_25 have energies -19051.205736391537 and -19051.205736391537\n",
      "The equality of positions with a relative threshold of 1e-4 is False\n",
      "AFEMIH_51 and AFEMIH_32 have energies -3929.3736965234334 and -3929.3736965234334\n",
      "The equality of positions with a relative threshold of 1e-4 is False\n",
      "FAJGUS_64 and FAJGUS_22 have energies -4847.72443550865 and -4847.72443550865\n",
      "The equality of positions with a relative threshold of 1e-4 is False\n",
      "QUGGAA_29 and QUGGAA_23 have energies -13960.03389227653 and -13960.03389227653\n",
      "The equality of positions with a relative threshold of 1e-4 is False\n",
      "JOPBAT_41 and KOVGOR_71 have energies -10592.98545913556 and -10592.98545913556\n",
      "The equality of positions could not be tested. This is likely because there are differing numbers of atoms in the two frames (this should be the case for different crystals ONLY.)\n",
      "MOYHAJ_96 and MOYHAJ_34 have energies -12173.41907542186 and -12173.41907542186\n",
      "The equality of positions with a relative threshold of 1e-4 is False\n",
      "YOTSUV_77 and YOTSUV_41 have energies -29726.4053852978 and -29726.4053852978\n",
      "The equality of positions with a relative threshold of 1e-4 is False\n",
      "DEBSOS_65 and DEBSOS_58 have energies -27214.507292652077 and -27214.507292652077\n",
      "The equality of positions with a relative threshold of 1e-4 is False\n",
      "USAHAY_8 and BUXWIA_38 have energies -9032.12847439603 and -9032.12847439603\n",
      "The equality of positions could not be tested. This is likely because there are differing numbers of atoms in the two frames (this should be the case for different crystals ONLY.)\n",
      "USAHAY_58 and BUXWIA_61 have energies -9032.516617576977 and -9032.516617576977\n",
      "The equality of positions could not be tested. This is likely because there are differing numbers of atoms in the two frames (this should be the case for different crystals ONLY.)\n",
      "KEPKIZ_21 and KEPKIZ_12 have energies -16948.456053899088 and -16948.456053899088\n",
      "The equality of positions with a relative threshold of 1e-4 is False\n",
      "EXAROK_52 and EXAROK_45 have energies -22964.739142078353 and -22964.739142078353\n",
      "The equality of positions with a relative threshold of 1e-4 is False\n",
      "YALTOW_55 and YALTOW_47 have energies -37279.2909992857 and -37279.2909992857\n",
      "The equality of positions with a relative threshold of 1e-4 is False\n",
      "QAGDEK_83 and QAGDEK_10 have energies -12178.516475135424 and -12178.516475135424\n",
      "The equality of positions with a relative threshold of 1e-4 is False\n",
      "TOVTED_77 and TOVTED_60 have energies -13306.154376478115 and -13306.154376478115\n",
      "The equality of positions with a relative threshold of 1e-4 is False\n",
      "ARAGUV_16 and XEFSIK_50 have energies -27935.185014494826 and -27935.185014494826\n",
      "The equality of positions could not be tested. This is likely because there are differing numbers of atoms in the two frames (this should be the case for different crystals ONLY.)\n",
      "ARAGUV_74 and XEFSIK_68 have energies -27935.096849610763 and -27935.096849610763\n",
      "The equality of positions could not be tested. This is likely because there are differing numbers of atoms in the two frames (this should be the case for different crystals ONLY.)\n",
      "ARAGUV_22 and XEFSIK_91 have energies -27934.57684006309 and -27934.57684006309\n",
      "The equality of positions could not be tested. This is likely because there are differing numbers of atoms in the two frames (this should be the case for different crystals ONLY.)\n",
      "NTSALA_46 and NTSALA_24 have energies -15252.437539899089 and -15252.437539899089\n",
      "The equality of positions with a relative threshold of 1e-4 is False\n",
      "VOHCAY_53 and VOHCAY_13 have energies -11147.778176052983 and -11147.778176052983\n",
      "The equality of positions with a relative threshold of 1e-4 is False\n",
      "JIWZAQ_36 and ABAQIG_40 have energies -25570.337458514052 and -25570.337458514052\n",
      "The equality of positions could not be tested. This is likely because there are differing numbers of atoms in the two frames (this should be the case for different crystals ONLY.)\n",
      "CYHEXO_48 and CYHEXO_44 have energies -4385.36696677459 and -4385.36696677459\n",
      "The equality of positions with a relative threshold of 1e-4 is False\n",
      "EJIQEU_91 and EJIQEU_29 have energies -8488.872350249294 and -8488.872350249294\n",
      "The equality of positions with a relative threshold of 1e-4 is False\n",
      "XURCIW_15 and XURCIW_11 have energies -7505.2914884324 and -7505.2914884324\n",
      "The equality of positions with a relative threshold of 1e-4 is False\n",
      "IJUMEG03_86 and IJUMEG03_42 have energies -32132.06043882641 and -32132.06043882641\n",
      "The equality of positions with a relative threshold of 1e-4 is False\n",
      "AZALIX_79 and AZALIX_66 have energies -16989.208421183004 and -16989.208421183004\n",
      "The equality of positions with a relative threshold of 1e-4 is False\n",
      "SETRIS_53 and SETRIS_20 have energies -9894.91481903817 and -9894.91481903817\n",
      "The equality of positions with a relative threshold of 1e-4 is False\n",
      "ZIPSUO_70 and ZIPSUO_20 have energies -27521.696334175565 and -27521.696334175565\n",
      "The equality of positions with a relative threshold of 1e-4 is False\n",
      "ZIPSUO_65 and ZIPSUO_37 have energies -27521.147480560892 and -27521.147480560892\n",
      "The equality of positions with a relative threshold of 1e-4 is False\n",
      "ZIPSUO_59 and ZIPSUO_48 have energies -27521.382859032234 and -27521.382859032234\n",
      "The equality of positions with a relative threshold of 1e-4 is False\n",
      "UGEBOZ_87 and UGEBOZ_21 have energies -13443.367480821616 and -13443.367480821616\n",
      "The equality of positions with a relative threshold of 1e-4 is False\n",
      "COTTAI_71 and XOZBUK_98 have energies -12363.858354306665 and -12363.858354306665\n",
      "The equality of positions could not be tested. This is likely because there are differing numbers of atoms in the two frames (this should be the case for different crystals ONLY.)\n",
      "EHIRET_80 and EHIRET_36 have energies -27296.75614972596 and -27296.75614972596\n",
      "The equality of positions with a relative threshold of 1e-4 is False\n",
      "KEQPUS_71 and KEQPUS_48 have energies -20741.164628929404 and -20741.164628929404\n",
      "The equality of positions with a relative threshold of 1e-4 is False\n",
      "MUKLIO_77 and MUKLIO_13 have energies -42216.387089313444 and -42216.387089313444\n",
      "The equality of positions with a relative threshold of 1e-4 is False\n",
      "MUKLIO_87 and MUKLIO_18 have energies -42216.183276047515 and -42216.183276047515\n",
      "The equality of positions with a relative threshold of 1e-4 is False\n",
      "XADBIQ_69 and XADBIQ_34 have energies -30983.94575335523 and -30983.94575335523\n",
      "The equality of positions with a relative threshold of 1e-4 is False\n",
      "CIWQIK_98 and CIWQIK_95 have energies -4118.0801272656445 and -4118.0801272656445\n",
      "The equality of positions with a relative threshold of 1e-4 is False\n",
      "APAKUZ_95 and APAKUZ_94 have energies -30244.954497986826 and -30244.954497986826\n",
      "The equality of positions with a relative threshold of 1e-4 is False\n",
      "LITREM_29 and LITREM_23 have energies -26223.167023061982 and -26223.167023061982\n",
      "The equality of positions with a relative threshold of 1e-4 is False\n",
      "GALCAX01_18 and GALCAX01_10 have energies -4213.662018257147 and -4213.662018257147\n",
      "The equality of positions with a relative threshold of 1e-4 is False\n",
      "PYZTAZ_55 and PYZTAZ_5 have energies -6678.882872930242 and -6678.882872930242\n",
      "The equality of positions with a relative threshold of 1e-4 is False\n",
      "ICASUC_62 and ICASUC_53 have energies -20833.18691714964 and -20833.18691714964\n",
      "The equality of positions with a relative threshold of 1e-4 is False\n",
      "UKIHUS_88 and QIJDES_65 have energies -9146.744184246869 and -9146.744184246869\n",
      "The equality of positions could not be tested. This is likely because there are differing numbers of atoms in the two frames (this should be the case for different crystals ONLY.)\n",
      "SAZGOP_11 and SAZGOP_5 have energies -12174.39999139121 and -12174.39999139121\n",
      "The equality of positions with a relative threshold of 1e-4 is False\n",
      "XUHKOC_45 and XUHKOC_29 have energies -28322.668591495472 and -28322.668591495472\n",
      "The equality of positions with a relative threshold of 1e-4 is False\n",
      "PEJBAJ_8 and SIGGUL_64 have energies -27606.131898065276 and -27606.131898065276\n",
      "The equality of positions could not be tested. This is likely because there are differing numbers of atoms in the two frames (this should be the case for different crystals ONLY.)\n",
      "PEWMIN_53 and PEWMIN_32 have energies -14159.64933964093 and -14159.64933964093\n",
      "The equality of positions with a relative threshold of 1e-4 is False\n",
      "QARVOV_78 and QARVOV_22 have energies -11010.329965351983 and -11010.329965351983\n",
      "The equality of positions with a relative threshold of 1e-4 is False\n",
      "FIHHIP_93 and FIHHIP_50 have energies -20229.122928237113 and -20229.122928237113\n",
      "The equality of positions with a relative threshold of 1e-4 is False\n",
      "XZBTZO_100 and XZBTZO_17 have energies -31753.425187551293 and -31753.425187551293\n",
      "The equality of positions with a relative threshold of 1e-4 is False\n",
      "XZBTZO_99 and XZBTZO_33 have energies -31753.495120808093 and -31753.495120808093\n",
      "The equality of positions with a relative threshold of 1e-4 is False\n",
      "XZBTZO_67 and XZBTZO_46 have energies -31752.974022805072 and -31752.974022805072\n",
      "The equality of positions with a relative threshold of 1e-4 is False\n",
      "QUSMEW_52 and QUSMEW_27 have energies -29985.726064938146 and -29985.726064938146\n",
      "The equality of positions with a relative threshold of 1e-4 is False\n",
      "XEXYII_24 and XEXYII_22 have energies -34062.99140200504 and -34062.99140200504\n",
      "The equality of positions with a relative threshold of 1e-4 is False\n",
      "XEXYII_45 and XEXYII_32 have energies -34062.199550731515 and -34062.199550731515\n",
      "The equality of positions with a relative threshold of 1e-4 is False\n",
      "KOVHAE01_96 and KOVHAE01_39 have energies -36112.72808393821 and -36112.72808393821\n",
      "The equality of positions with a relative threshold of 1e-4 is False\n",
      "KOVHAE01_54 and KOVHAE01_50 have energies -36111.98194778975 and -36111.98194778975\n",
      "The equality of positions with a relative threshold of 1e-4 is False\n",
      "IQUJEK_33 and IQUJEK_32 have energies -24300.825169965185 and -24300.825169965185\n",
      "The equality of positions with a relative threshold of 1e-4 is False\n",
      "GUKVUE_100 and GUKVUE_91 have energies -19863.56701914686 and -19863.56701914686\n",
      "The equality of positions with a relative threshold of 1e-4 is False\n",
      "BZTROP11_46 and BZTROP11_22 have energies -9597.846752457095 and -9597.846752457095\n",
      "The equality of positions with a relative threshold of 1e-4 is False\n",
      "BZTROP11_89 and BZTROP11_67 have energies -9598.135601297938 and -9598.135601297938\n",
      "The equality of positions with a relative threshold of 1e-4 is False\n",
      "HOPLAA_70 and HOPLAA_68 have energies -13627.00775051906 and -13627.00775051906\n",
      "The equality of positions with a relative threshold of 1e-4 is False\n",
      "QOZFER_26 and QOZFER_24 have energies -11105.823419345581 and -11105.823419345581\n",
      "The equality of positions with a relative threshold of 1e-4 is False\n",
      "WOSGIU_93 and WOSGIU_61 have energies -8305.343239055366 and -8305.343239055366\n",
      "The equality of positions with a relative threshold of 1e-4 is False\n",
      "FIZZOD_77 and FIZZOD_29 have energies -7637.30604834812 and -7637.30604834812\n",
      "The equality of positions with a relative threshold of 1e-4 is False\n",
      "NETROT_38 and NETROT_20 have energies -29641.24436591145 and -29641.24436591145\n",
      "The equality of positions with a relative threshold of 1e-4 is False\n",
      "BUKNEA_63 and BUKNEA_28 have energies -28811.32599889346 and -28811.32599889346\n",
      "The equality of positions with a relative threshold of 1e-4 is False\n",
      "HIVGAW_37 and HIVGAW_9 have energies -35475.767273334524 and -35475.767273334524\n",
      "The equality of positions with a relative threshold of 1e-4 is False\n",
      "FEFJAE_30 and FEFJAE_19 have energies -43488.37452534823 and -43488.37452534823\n",
      "The equality of positions with a relative threshold of 1e-4 is False\n",
      "FEFJAE_37 and FEFJAE_28 have energies -43488.15873907335 and -43488.15873907335\n",
      "The equality of positions with a relative threshold of 1e-4 is False\n",
      "DAZDOZ_92 and DAZDOZ_73 have energies -42785.86013019161 and -42785.86013019161\n",
      "The equality of positions with a relative threshold of 1e-4 is False\n",
      "VAVVET_46 and JUMXIA_83 have energies -8015.104740045853 and -8015.104740045853\n",
      "The equality of positions with a relative threshold of 1e-4 is False\n",
      "AXUDED01_35 and AXUDED01_25 have energies -20017.274303883776 and -20017.274303883776\n",
      "The equality of positions with a relative threshold of 1e-4 is False\n",
      "VABJOX10_79 and VABJOX10_67 have energies -12200.992479644197 and -12200.992479644197\n",
      "The equality of positions with a relative threshold of 1e-4 is False\n",
      "QARQUY_99 and QARQUY_31 have energies -28675.381734173094 and -28675.381734173094\n",
      "The equality of positions with a relative threshold of 1e-4 is False\n",
      "BONGES_78 and BONGES_75 have energies -13788.08551071809 and -13788.08551071809\n",
      "The equality of positions with a relative threshold of 1e-4 is False\n",
      "CACPUS_40 and CACPUS_25 have energies -7963.632448046952 and -7963.632448046952\n",
      "The equality of positions with a relative threshold of 1e-4 is False\n",
      "PEJBAJ_91 and PEJBAJ_18 have energies -27605.4246741959 and -27605.4246741959\n",
      "The equality of positions with a relative threshold of 1e-4 is False\n",
      "PEJBAJ_32 and PEJBAJ_27 have energies -27605.526988999627 and -27605.526988999627\n",
      "The equality of positions with a relative threshold of 1e-4 is False\n",
      "HABFUL_61 and JUVMUI_66 have energies -14919.058466491526 and -14919.058466491526\n",
      "The equality of positions could not be tested. This is likely because there are differing numbers of atoms in the two frames (this should be the case for different crystals ONLY.)\n",
      "FEFXUM_38 and FEFXUM_37 have energies -27420.914891935077 and -27420.914891935077\n",
      "The equality of positions with a relative threshold of 1e-4 is False\n",
      "FEFXUM_47 and FEFXUM_39 have energies -27421.12741284388 and -27421.12741284388\n",
      "The equality of positions with a relative threshold of 1e-4 is False\n",
      "ZAPCOK_92 and ZAPCOK_36 have energies -35051.21553274842 and -35051.21553274842\n",
      "The equality of positions with a relative threshold of 1e-4 is False\n",
      "NEZNAH_80 and NEZNAH_69 have energies -8869.198680192616 and -8869.198680192616\n",
      "The equality of positions with a relative threshold of 1e-4 is False\n",
      "ZIVMIA_28 and ZIVMIA_26 have energies -32297.88498005656 and -32297.88498005656\n",
      "The equality of positions with a relative threshold of 1e-4 is False\n",
      "YEKHIH_87 and YEKHIH_25 have energies -12148.094583239108 and -12148.094583239108\n",
      "The equality of positions with a relative threshold of 1e-4 is False\n",
      "WUHYIH_57 and WUHYIH_33 have energies -19260.063748012417 and -19260.063748012417\n",
      "The equality of positions with a relative threshold of 1e-4 is False\n",
      "WUHYIH_88 and WUHYIH_63 have energies -19260.28296292168 and -19260.28296292168\n",
      "The equality of positions with a relative threshold of 1e-4 is False\n",
      "COXZAS04_92 and COXZAS04_89 have energies -15814.53866311179 and -15814.53866311179\n",
      "The equality of positions with a relative threshold of 1e-4 is False\n",
      "FEHVUK_25 and FEHVUK_17 have energies -30333.073394810723 and -30333.073394810723\n",
      "The equality of positions with a relative threshold of 1e-4 is False\n",
      "ZEXJAP01_26 and ZEXJAP01_10 have energies -29484.332913500682 and -29484.332913500682\n",
      "The equality of positions with a relative threshold of 1e-4 is False\n",
      "ZZZUEU04_100 and ZZZUEU04_41 have energies -32508.38517148864 and -32508.38517148864\n",
      "The equality of positions with a relative threshold of 1e-4 is False\n",
      "ZZZUEU04_67 and ZZZUEU04_63 have energies -32508.638237359562 and -32508.638237359562\n",
      "The equality of positions with a relative threshold of 1e-4 is False\n",
      "GUHROQ_83 and GUHROQ_69 have energies -21827.51671101683 and -21827.51671101683\n",
      "The equality of positions with a relative threshold of 1e-4 is False\n",
      "CADBOB_79 and CADBOB_76 have energies -29908.41144811954 and -29908.41144811954\n",
      "The equality of positions with a relative threshold of 1e-4 is False\n",
      "PYMCOX_96 and PYMCOX_86 have energies -20574.674551670127 and -20574.674551670127\n",
      "The equality of positions with a relative threshold of 1e-4 is False\n",
      "WIFKEB_47 and WIFKEB_40 have energies -7718.526641644545 and -7718.526641644545\n",
      "The equality of positions with a relative threshold of 1e-4 is False\n",
      "THXMAM02_52 and EBUKUH_8 have energies -11529.367331903586 and -11529.367331903586\n",
      "The equality of positions with a relative threshold of 1e-4 is False\n",
      "THXMAM02_48 and EBUKUH_88 have energies -11528.76432763481 and -11528.76432763481\n",
      "The equality of positions with a relative threshold of 1e-4 is False\n",
      "KEDXEZ_79 and KEDXEZ_38 have energies -43966.96997929562 and -43966.96997929562\n",
      "The equality of positions with a relative threshold of 1e-4 is False\n",
      "KEDXEZ_93 and KEDXEZ_74 have energies -43966.27717745975 and -43966.27717745975\n",
      "The equality of positions with a relative threshold of 1e-4 is False\n",
      "CIWVIP_66 and CIWVIP_20 have energies -27659.767984894705 and -27659.767984894705\n",
      "The equality of positions with a relative threshold of 1e-4 is False\n",
      "CIWVIP_74 and CIWVIP_73 have energies -27659.200627538932 and -27659.200627538932\n",
      "The equality of positions with a relative threshold of 1e-4 is False\n",
      "PHTHAO01_36 and IFAYEV_9 have energies -12016.604549960792 and -12016.604549960792\n",
      "The equality of positions could not be tested. This is likely because there are differing numbers of atoms in the two frames (this should be the case for different crystals ONLY.)\n",
      "PHTHAO01_44 and IFAYEV_73 have energies -12016.34016415414 and -12016.34016415414\n",
      "The equality of positions could not be tested. This is likely because there are differing numbers of atoms in the two frames (this should be the case for different crystals ONLY.)\n",
      "COFHOW_18 and COFHOW_12 have energies -35236.81785207564 and -35236.81785207564\n",
      "The equality of positions with a relative threshold of 1e-4 is False\n",
      "COFHOW_60 and COFHOW_59 have energies -35236.59145336101 and -35236.59145336101\n",
      "The equality of positions with a relative threshold of 1e-4 is False\n",
      "TAHMUN_58 and TAHMUN_56 have energies -21915.020821042683 and -21915.020821042683\n",
      "The equality of positions with a relative threshold of 1e-4 is False\n",
      "BOGRUL_77 and BOGRUL_74 have energies -29439.536444753907 and -29439.536444753907\n",
      "The equality of positions with a relative threshold of 1e-4 is False\n",
      "LAGRAM_99 and LAGRAM_32 have energies -13766.124454439567 and -13766.124454439567\n",
      "The equality of positions with a relative threshold of 1e-4 is False\n",
      "CEDGAV_62 and CEDGAV_51 have energies -6534.9230324679875 and -6534.9230324679875\n",
      "The equality of positions with a relative threshold of 1e-4 is False\n",
      "CEDGAV_90 and CEDGAV_84 have energies -6534.955495649064 and -6534.955495649064\n",
      "The equality of positions with a relative threshold of 1e-4 is False\n",
      "KATVEJ_58 and KATVEJ_46 have energies -10583.609940057 and -10583.609940057\n",
      "The equality of positions with a relative threshold of 1e-4 is False\n",
      "IYAWAG_23 and IYAWAG_12 have energies -32229.56318141236 and -32229.56318141236\n",
      "The equality of positions with a relative threshold of 1e-4 is False\n",
      "IYAWAG_35 and IYAWAG_15 have energies -32228.978408770843 and -32228.978408770843\n",
      "The equality of positions with a relative threshold of 1e-4 is False\n",
      "IYAWAG_79 and IYAWAG_19 have energies -32229.203991143953 and -32229.203991143953\n",
      "The equality of positions with a relative threshold of 1e-4 is False\n",
      "YOVVIP_60 and YOVVIP_40 have energies -14648.597582310787 and -14648.597582310787\n",
      "The equality of positions with a relative threshold of 1e-4 is False\n",
      "TEDFEP_38 and TEDFEP_25 have energies -36224.18836170389 and -36224.18836170389\n",
      "The equality of positions with a relative threshold of 1e-4 is False\n",
      "TEDFEP_93 and TEDFEP_63 have energies -36223.73910175454 and -36223.73910175454\n",
      "The equality of positions with a relative threshold of 1e-4 is False\n",
      "UPANIJ_51 and UPANIJ_23 have energies -28597.32424657211 and -28597.32424657211\n",
      "The equality of positions with a relative threshold of 1e-4 is False\n",
      "DAYHIV_36 and DAYHIV_30 have energies -9746.013364035578 and -9746.013364035578\n",
      "The equality of positions with a relative threshold of 1e-4 is False\n",
      "KOYLIT_32 and KOYLIT_23 have energies -29263.278786795825 and -29263.278786795825\n",
      "The equality of positions with a relative threshold of 1e-4 is False\n",
      "KOYLIT_45 and KOYLIT_41 have energies -29262.87823522379 and -29262.87823522379\n",
      "The equality of positions with a relative threshold of 1e-4 is False\n",
      "VIHTUD_70 and VIHTUD_31 have energies -4848.805271679938 and -4848.805271679938\n",
      "The equality of positions with a relative threshold of 1e-4 is False\n",
      "AKIHIN_76 and AKIHIN_53 have energies -14779.68499595188 and -14779.68499595188\n",
      "The equality of positions with a relative threshold of 1e-4 is False\n",
      "IYINAF01_72 and IYINAF01_30 have energies -7867.9797258229755 and -7867.9797258229755\n",
      "The equality of positions with a relative threshold of 1e-4 is False\n",
      "FEBKAZ_86 and FEBKAZ_21 have energies -13391.276918967531 and -13391.276918967531\n",
      "The equality of positions with a relative threshold of 1e-4 is False\n",
      "LIBVIC_53 and LIBVIC_34 have energies -9752.86187073038 and -9752.86187073038\n",
      "The equality of positions with a relative threshold of 1e-4 is False\n",
      "TUQDAM_59 and TUQDAM_31 have energies -12087.34987609551 and -12087.34987609551\n",
      "The equality of positions with a relative threshold of 1e-4 is False\n",
      "WABNOF_34 and WABNOF_30 have energies -30805.1215176611 and -30805.1215176611\n",
      "The equality of positions with a relative threshold of 1e-4 is False\n",
      "LEFYUS_59 and LEFYUS_31 have energies -13356.379135367526 and -13356.379135367526\n",
      "The equality of positions with a relative threshold of 1e-4 is False\n",
      "XARYOE_50 and XARYOE_46 have energies -30520.15383651519 and -30520.15383651519\n",
      "The equality of positions with a relative threshold of 1e-4 is False\n",
      "XARYOE_83 and XARYOE_82 have energies -30520.017507481498 and -30520.017507481498\n",
      "The equality of positions with a relative threshold of 1e-4 is False\n",
      "FEXLAV_11 and FEXLAV_9 have energies -10992.708226841001 and -10992.708226841001\n",
      "The equality of positions with a relative threshold of 1e-4 is False\n",
      "ULEZES_82 and ULEZES_63 have energies -31582.240003679057 and -31582.240003679057\n",
      "The equality of positions with a relative threshold of 1e-4 is False\n",
      "PAHZOO_100 and PAHZOO_93 have energies -29966.832656820094 and -29966.832656820094\n",
      "The equality of positions with a relative threshold of 1e-4 is False\n",
      "ANONIN11_72 and ANONIN11_71 have energies -31551.040791388255 and -31551.040791388255\n",
      "The equality of positions with a relative threshold of 1e-4 is False\n",
      "QIWJEM_86 and QIWJEM_48 have energies -14541.550147472139 and -14541.550147472139\n",
      "The equality of positions with a relative threshold of 1e-4 is False\n",
      "GAQSEY_84 and GAQSEY_57 have energies -8954.584003017033 and -8954.584003017033\n",
      "The equality of positions with a relative threshold of 1e-4 is False\n",
      "SADRAS_66 and SADRAS_40 have energies -31047.00623090882 and -31047.00623090882\n",
      "The equality of positions with a relative threshold of 1e-4 is False\n",
      "PATTAF_66 and PATTAF_22 have energies -31578.331904713286 and -31578.331904713286\n",
      "The equality of positions with a relative threshold of 1e-4 is False\n",
      "QOTWUR_97 and QOTWUR_90 have energies -16658.253392282262 and -16658.253392282262\n",
      "The equality of positions with a relative threshold of 1e-4 is False\n",
      "WINCUR01_34 and WINCUR01_17 have energies -8465.529010087863 and -8465.529010087863\n",
      "The equality of positions with a relative threshold of 1e-4 is False\n",
      "EXIGOI_92 and EXIGOI_24 have energies -36976.607890833795 and -36976.607890833795\n",
      "The equality of positions with a relative threshold of 1e-4 is False\n",
      "FUXWIF_85 and FUXWIF_83 have energies -8467.56828562534 and -8467.56828562534\n",
      "The equality of positions with a relative threshold of 1e-4 is False\n",
      "LUKCIF_80 and LUKCIF_19 have energies -20561.56144015775 and -20561.56144015775\n",
      "The equality of positions with a relative threshold of 1e-4 is False\n",
      "GADZAN_72 and GADZAN_62 have energies -31276.5995620173 and -31276.5995620173\n",
      "The equality of positions with a relative threshold of 1e-4 is False\n",
      "PACCEB_82 and PACCEB_55 have energies -33948.21160750886 and -33948.21160750886\n",
      "The equality of positions with a relative threshold of 1e-4 is False\n",
      "AMHPYR_72 and AMHPYR_40 have energies -17795.99406415149 and -17795.99406415149\n",
      "The equality of positions with a relative threshold of 1e-4 is False\n",
      "SAXHEH_80 and SAXHEH_61 have energies -17416.157076526102 and -17416.157076526102\n",
      "The equality of positions with a relative threshold of 1e-4 is False\n",
      "HACMUT_86 and HACMUT_73 have energies -11939.936611682237 and -11939.936611682237\n",
      "The equality of positions with a relative threshold of 1e-4 is False\n",
      "FOYSUJ_76 and FOYSUJ_17 have energies -25753.7307304792 and -25753.7307304792\n",
      "The equality of positions with a relative threshold of 1e-4 is False\n",
      "JIPFAQ_88 and JIPFAQ_58 have energies -15133.522159267151 and -15133.522159267151\n",
      "The equality of positions with a relative threshold of 1e-4 is False\n",
      "PUYROQ_30 and PUYROQ_29 have energies -26987.969310158518 and -26987.969310158518\n",
      "The equality of positions with a relative threshold of 1e-4 is False\n",
      "PUYROQ_73 and PUYROQ_32 have energies -26987.845035767925 and -26987.845035767925\n",
      "The equality of positions with a relative threshold of 1e-4 is False\n",
      "XAYMIT_56 and XAYMIT_53 have energies -12716.912373991277 and -12716.912373991277\n",
      "The equality of positions with a relative threshold of 1e-4 is False\n",
      "AFEXUF_73 and AFEXUF_58 have energies -15949.204183265252 and -15949.204183265252\n",
      "The equality of positions with a relative threshold of 1e-4 is False\n",
      "PARBAC04_28 and PARBAC04_24 have energies -11864.805953329684 and -11864.805953329684\n",
      "The equality of positions with a relative threshold of 1e-4 is False\n",
      "QOBHAS_72 and QOBHAS_50 have energies -3230.3875022009875 and -3230.3875022009875\n",
      "The equality of positions with a relative threshold of 1e-4 is False\n",
      "KUPHIM01_64 and KUPHIM01_62 have energies -18679.850265035755 and -18679.850265035755\n",
      "The equality of positions with a relative threshold of 1e-4 is False\n",
      "BICVIS01_95 and BICVIS01_67 have energies -13302.000368235405 and -13302.000368235405\n",
      "The equality of positions with a relative threshold of 1e-4 is False\n",
      "CAWRAU_46 and CAWRAU_22 have energies -28735.217118498564 and -28735.217118498564\n",
      "The equality of positions with a relative threshold of 1e-4 is False\n",
      "CAWRAU_63 and CAWRAU_48 have energies -28734.933031649914 and -28734.933031649914\n",
      "The equality of positions with a relative threshold of 1e-4 is False\n",
      "GAFWIV_26 and GAFWIV_10 have energies -28607.02837032349 and -28607.02837032349\n",
      "The equality of positions with a relative threshold of 1e-4 is False\n",
      "BACRAA_88 and BACRAA_19 have energies -26597.14757662935 and -26597.14757662935\n",
      "The equality of positions with a relative threshold of 1e-4 is False\n",
      "ACETSC10_68 and ACETSC10_44 have energies -9936.436751472143 and -9936.436751472143\n",
      "The equality of positions with a relative threshold of 1e-4 is False\n",
      "NICGEL_98 and NICGEL_24 have energies -9054.067598299074 and -9054.067598299074\n",
      "The equality of positions with a relative threshold of 1e-4 is False\n",
      "HTMXTC10_95 and MEPYRZ_20 have energies -16003.695469470089 and -16003.695469470089\n",
      "The equality of positions could not be tested. This is likely because there are differing numbers of atoms in the two frames (this should be the case for different crystals ONLY.)\n",
      "NABREN_70 and NABREN_24 have energies -14928.391699079399 and -14928.391699079399\n",
      "The equality of positions with a relative threshold of 1e-4 is False\n",
      "MPYAZO10_65 and MPYAZO10_46 have energies -8205.144991196123 and -8205.144991196123\n",
      "The equality of positions with a relative threshold of 1e-4 is False\n",
      "RIWJEM_76 and RIWJEM_37 have energies -36384.85498510252 and -36384.85498510252\n",
      "The equality of positions with a relative threshold of 1e-4 is False\n",
      "EQICEN_69 and EQICEN_42 have energies -20029.92599195817 and -20029.92599195817\n",
      "The equality of positions with a relative threshold of 1e-4 is False\n",
      "APENUG_86 and APENUG_67 have energies -28724.541004111776 and -28724.541004111776\n",
      "The equality of positions with a relative threshold of 1e-4 is False\n",
      "APENUG_73 and APENUG_68 have energies -28724.494472645187 and -28724.494472645187\n",
      "The equality of positions with a relative threshold of 1e-4 is False\n",
      "GLYCIN62_34 and GLYCIN81_57 have energies -3818.192580345904 and -3818.192580345904\n",
      "The equality of positions with a relative threshold of 1e-4 is False\n",
      "NAMPIB_89 and NAMPIB_83 have energies -36540.1544351269 and -36540.1544351269\n",
      "The equality of positions with a relative threshold of 1e-4 is False\n",
      "RIBVUU_99 and RIBVUU_50 have energies -14389.210670161858 and -14389.210670161858\n",
      "The equality of positions with a relative threshold of 1e-4 is False\n",
      "LEGSIB_93 and LEGSIB_70 have energies -6446.898178187098 and -6446.898178187098\n",
      "The equality of positions with a relative threshold of 1e-4 is False\n",
      "SUFHUY_50 and SUFHUY_49 have energies -30037.206738043307 and -30037.206738043307\n",
      "The equality of positions with a relative threshold of 1e-4 is False\n",
      "SUFHUY_95 and SUFHUY_72 have energies -30037.42415700123 and -30037.42415700123\n",
      "The equality of positions with a relative threshold of 1e-4 is False\n",
      "ILIQEZ_99 and ILIQEZ_86 have energies -13777.417532535108 and -13777.417532535108\n",
      "The equality of positions with a relative threshold of 1e-4 is False\n",
      "HEWKAW_36 and HEWKAW_30 have energies -33541.0239952617 and -33541.0239952617\n",
      "The equality of positions with a relative threshold of 1e-4 is False\n",
      "CULPOO01_38 and CULPOO01_21 have energies -13325.28250999429 and -13325.28250999429\n",
      "The equality of positions with a relative threshold of 1e-4 is False\n",
      "TBFRAC01_26 and TBFRAC01_16 have energies -23047.317284109653 and -23047.317284109653\n",
      "The equality of positions with a relative threshold of 1e-4 is False\n",
      "YUQVOW_96 and YUQVOW_35 have energies -16260.222628432071 and -16260.222628432071\n",
      "The equality of positions with a relative threshold of 1e-4 is False\n",
      "PUHJAE_72 and PUHJAE_43 have energies -37227.56460738328 and -37227.56460738328\n",
      "The equality of positions with a relative threshold of 1e-4 is False\n",
      "TIQROC_94 and TIQROC_90 have energies -35265.30000767704 and -35265.30000767704\n",
      "The equality of positions with a relative threshold of 1e-4 is False\n",
      "VAVVET_94 and VAVVET_50 have energies -8015.336281712054 and -8015.336281712054\n",
      "The equality of positions with a relative threshold of 1e-4 is False\n",
      "SICTOO_69 and RUWFIY_75 have energies -19149.11417350109 and -19149.11417350109\n",
      "The equality of positions could not be tested. This is likely because there are differing numbers of atoms in the two frames (this should be the case for different crystals ONLY.)\n",
      "DUJQOP_89 and DUJQOP_66 have energies -16859.918537144204 and -16859.918537144204\n",
      "The equality of positions with a relative threshold of 1e-4 is False\n",
      "IMUWOD_98 and IMUWOD_44 have energies -33746.74423498562 and -33746.74423498562\n",
      "The equality of positions with a relative threshold of 1e-4 is False\n",
      "DODGEI_99 and DODGEI_37 have energies -13572.053272136287 and -13572.053272136287\n",
      "The equality of positions with a relative threshold of 1e-4 is False\n",
      "HEQWOR_94 and HEQWOR_44 have energies -8797.133357032899 and -8797.133357032899\n",
      "The equality of positions with a relative threshold of 1e-4 is False\n",
      "FIYNIM_97 and FIYNIM_85 have energies -15572.062700913164 and -15572.062700913164\n",
      "The equality of positions with a relative threshold of 1e-4 is False\n",
      "MEUREA01_70 and MEUREA01_65 have energies -6970.31622380988 and -6970.31622380988\n",
      "The equality of positions with a relative threshold of 1e-4 is False\n",
      "BOPXOT_6 and TCTDTO20_86 have energies -15761.401796332677 and -15761.401796332677\n",
      "The equality of positions could not be tested. This is likely because there are differing numbers of atoms in the two frames (this should be the case for different crystals ONLY.)\n",
      "PANVUV_86 and PANVUV_13 have energies -9845.695357518143 and -9845.695357518143\n",
      "The equality of positions with a relative threshold of 1e-4 is False\n",
      "XOCZUL_21 and XOCZUL_20 have energies -54008.43570677767 and -54008.43570677767\n",
      "The equality of positions with a relative threshold of 1e-4 is False\n",
      "XOCZUL_69 and XOCZUL_24 have energies -54008.31652091588 and -54008.31652091588\n",
      "The equality of positions with a relative threshold of 1e-4 is False\n",
      "DUCYOQ_53 and DUCYOQ_30 have energies -10240.49906892056 and -10240.49906892056\n",
      "The equality of positions with a relative threshold of 1e-4 is False\n",
      "TILSIS_52 and TILSIS_8 have energies -11861.162457861637 and -11861.162457861637\n",
      "The equality of positions with a relative threshold of 1e-4 is False\n",
      "GPHXAM_80 and GPHXAM_32 have energies -9846.804820065368 and -9846.804820065368\n",
      "The equality of positions with a relative threshold of 1e-4 is False\n",
      "KOPYIX_89 and KOPYIX_53 have energies -13362.363109182217 and -13362.363109182217\n",
      "The equality of positions with a relative threshold of 1e-4 is False\n",
      "YUYCOK_44 and YUYCOK_32 have energies -7738.418952456749 and -7738.418952456749\n",
      "The equality of positions with a relative threshold of 1e-4 is False\n",
      "OVEQAJ_45 and OVEQAJ_40 have energies -19940.56652813909 and -19940.56652813909\n",
      "The equality of positions with a relative threshold of 1e-4 is False\n",
      "VUWDUO_57 and VUWDUO_52 have energies -21508.48769700277 and -21508.48769700277\n",
      "The equality of positions with a relative threshold of 1e-4 is False\n",
      "RUVSEG_91 and RUVSEG_34 have energies -19141.77779390309 and -19141.77779390309\n",
      "The equality of positions with a relative threshold of 1e-4 is False\n",
      "ROGVIU_82 and ROGVIU_75 have energies -19217.163640614515 and -19217.163640614515\n",
      "The equality of positions with a relative threshold of 1e-4 is False\n",
      "KOBXUU_91 and KOBXUU_47 have energies -15918.137027820854 and -15918.137027820854\n",
      "The equality of positions with a relative threshold of 1e-4 is False\n",
      "QEXBAX_89 and QEXBAX_40 have energies -14194.730800082734 and -14194.730800082734\n",
      "The equality of positions with a relative threshold of 1e-4 is False\n",
      "MFZCHZ_24 and MFZCHZ_15 have energies -13529.84139506175 and -13529.84139506175\n",
      "The equality of positions with a relative threshold of 1e-4 is False\n",
      "VOPJEP_92 and VOPJEP_86 have energies -10190.818700978853 and -10190.818700978853\n",
      "The equality of positions with a relative threshold of 1e-4 is False\n",
      "IJETOG02_69 and IJETOG02_27 have energies -24822.493224273472 and -24822.493224273472\n",
      "The equality of positions with a relative threshold of 1e-4 is False\n",
      "QATTIO_3 and QATTIO_1 have energies -7665.561016104755 and -7665.561016104755\n",
      "The equality of positions with a relative threshold of 1e-4 is False\n",
      "AZASER11_63 and AZASER11_62 have energies -17223.133859042275 and -17223.133859042275\n",
      "The equality of positions with a relative threshold of 1e-4 is False\n",
      "ZOXHID_100 and ZOXHID_80 have energies -16044.702589730736 and -16044.702589730736\n",
      "The equality of positions with a relative threshold of 1e-4 is False\n",
      "ALOPUR_83 and ALOPUR_35 have energies -11765.41280868796 and -11765.41280868796\n",
      "The equality of positions with a relative threshold of 1e-4 is False\n",
      "PUYTEI_76 and PUYTEI_74 have energies -28705.213302305565 and -28705.213302305565\n",
      "The equality of positions with a relative threshold of 1e-4 is False\n",
      "CERMOB_100 and CERMOB_14 have energies -7844.147669205442 and -7844.147669205442\n",
      "The equality of positions with a relative threshold of 1e-4 is False\n",
      "ADPRLA_65 and ADPRLA_36 have energies -30712.043890336354 and -30712.043890336354\n",
      "The equality of positions with a relative threshold of 1e-4 is False\n",
      "ADPRLA_87 and ADPRLA_73 have energies -30711.67381551436 and -30711.67381551436\n",
      "The equality of positions with a relative threshold of 1e-4 is False\n",
      "VALFEW_49 and VALFEW_43 have energies -12848.996105245049 and -12848.996105245049\n",
      "The equality of positions with a relative threshold of 1e-4 is False\n",
      "DOMQUS_90 and DOMQUS_39 have energies -18457.85277407143 and -18457.85277407143\n",
      "The equality of positions with a relative threshold of 1e-4 is False\n",
      "POWBAE_74 and POWBAE_50 have energies -34505.510819426534 and -34505.510819426534\n",
      "The equality of positions with a relative threshold of 1e-4 is False\n",
      "TAPBET_100 and TAPBET_92 have energies -29180.70910750494 and -29180.70910750494\n",
      "The equality of positions with a relative threshold of 1e-4 is False\n",
      "SAVKAB01_47 and SAVKAB01_32 have energies -21223.84432113101 and -21223.84432113101\n",
      "The equality of positions with a relative threshold of 1e-4 is False\n",
      "AZENOJ_35 and AZENOJ_14 have energies -30758.91958093227 and -30758.91958093227\n",
      "The equality of positions with a relative threshold of 1e-4 is False\n",
      "AZENOJ_95 and AZENOJ_79 have energies -30757.847180290017 and -30757.847180290017\n",
      "The equality of positions with a relative threshold of 1e-4 is False\n",
      "SALCAN05_55 and SALCAN05_11 have energies -12570.144862930998 and -12570.144862930998\n",
      "The equality of positions with a relative threshold of 1e-4 is False\n",
      "OMIWIQ_62 and OMIWIQ_37 have energies -25148.60596018537 and -25148.60596018537\n",
      "The equality of positions with a relative threshold of 1e-4 is False\n",
      "FORTCH_97 and FORTCH_48 have energies -17331.5096448008 and -17331.5096448008\n",
      "The equality of positions with a relative threshold of 1e-4 is False\n",
      "COKJER_71 and COKJER_19 have energies -35580.91559847452 and -35580.91559847452\n",
      "The equality of positions with a relative threshold of 1e-4 is False\n",
      "COKJER_72 and COKJER_23 have energies -35580.89382936734 and -35580.89382936734\n",
      "The equality of positions with a relative threshold of 1e-4 is False\n",
      "COKJER_100 and COKJER_97 have energies -35581.49275192852 and -35581.49275192852\n",
      "The equality of positions with a relative threshold of 1e-4 is False\n",
      "TZANDT_60 and WOPJUI_75 have energies -16566.878898268817 and -16566.878898268817\n",
      "The equality of positions could not be tested. This is likely because there are differing numbers of atoms in the two frames (this should be the case for different crystals ONLY.)\n",
      "NALYOQ_34 and YIHLEI_78 have energies -16655.194696667113 and -16655.194696667113\n",
      "The equality of positions could not be tested. This is likely because there are differing numbers of atoms in the two frames (this should be the case for different crystals ONLY.)\n",
      "ROGQEK_41 and ROGQEK_19 have energies -33925.404113920566 and -33925.404113920566\n",
      "The equality of positions with a relative threshold of 1e-4 is False\n",
      "ROGQEK_76 and ROGQEK_49 have energies -33925.15431341572 and -33925.15431341572\n",
      "The equality of positions with a relative threshold of 1e-4 is False\n",
      "FADTIQ_96 and FADTIQ_46 have energies -20279.15990136575 and -20279.15990136575\n",
      "The equality of positions with a relative threshold of 1e-4 is False\n",
      "RIXLUH_56 and RIXLUH_14 have energies -7990.638277222442 and -7990.638277222442\n",
      "The equality of positions with a relative threshold of 1e-4 is False\n",
      "DOSCUK_75 and DOSCUK_48 have energies -8067.72831848914 and -8067.72831848914\n",
      "The equality of positions with a relative threshold of 1e-4 is False\n",
      "CAKREM_80 and VUWSUB_86 have energies -9907.115859382637 and -9907.115859382637\n",
      "The equality of positions with a relative threshold of 1e-4 is False\n",
      "KETVEK03_51 and KETVEK03_42 have energies -5264.401419264904 and -5264.401419264904\n",
      "The equality of positions with a relative threshold of 1e-4 is False\n",
      "ATUWAN_43 and ATUWAN_28 have energies -29342.366769507753 and -29342.366769507753\n",
      "The equality of positions with a relative threshold of 1e-4 is False\n",
      "PAGPOF_87 and PAGPOF_28 have energies -29889.423616499116 and -29889.423616499116\n",
      "The equality of positions with a relative threshold of 1e-4 is False\n",
      "PAGPOF_66 and PAGPOF_60 have energies -29889.453276907643 and -29889.453276907643\n",
      "The equality of positions with a relative threshold of 1e-4 is False\n",
      "ICRFRA10_72 and ICRFRA10_67 have energies -11531.917610020639 and -11531.917610020639\n",
      "The equality of positions with a relative threshold of 1e-4 is False\n",
      "TMENBZ02_91 and TMENBZ02_52 have energies -10464.39700294135 and -10464.39700294135\n",
      "The equality of positions with a relative threshold of 1e-4 is False\n",
      "EXIHAV_100 and EXIHAV_77 have energies -18243.03008150709 and -18243.03008150709\n",
      "The equality of positions with a relative threshold of 1e-4 is False\n",
      "IYUCOU_50 and IYUCOU_15 have energies -6586.104217081177 and -6586.104217081177\n",
      "The equality of positions with a relative threshold of 1e-4 is False\n",
      "NICGAH_66 and NICGAH_41 have energies -7126.685271703974 and -7126.685271703974\n",
      "The equality of positions with a relative threshold of 1e-4 is False\n",
      "CUKCAM22_94 and CUKCAM22_45 have energies -42496.9772751201 and -42496.9772751201\n",
      "The equality of positions with a relative threshold of 1e-4 is False\n",
      "OKUXUP_47 and OKUXUP_46 have energies -19696.631382686453 and -19696.631382686453\n",
      "The equality of positions with a relative threshold of 1e-4 is False\n",
      "NBONAN10_42 and NBONAN10_18 have energies -12892.155455498036 and -12892.155455498036\n",
      "The equality of positions with a relative threshold of 1e-4 is False\n",
      "ISEDOB_85 and ISEDOB_64 have energies -30729.14951052757 and -30729.14951052757\n",
      "The equality of positions with a relative threshold of 1e-4 is False\n",
      "QEFLAO_97 and NEXJUW_54 have energies -6715.327569286175 and -6715.327569286175\n",
      "The equality of positions could not be tested. This is likely because there are differing numbers of atoms in the two frames (this should be the case for different crystals ONLY.)\n",
      "NEXJUW_76 and NEXJUW_66 have energies -6715.331406091315 and -6715.331406091315\n",
      "The equality of positions with a relative threshold of 1e-4 is False\n",
      "PHGLYA_73 and PHGLYA_25 have energies -7647.646537525024 and -7647.646537525024\n",
      "The equality of positions with a relative threshold of 1e-4 is False\n",
      "MULPEO_54 and MULPEO_42 have energies -17604.238080819145 and -17604.238080819145\n",
      "The equality of positions with a relative threshold of 1e-4 is False\n",
      "MIOZPO01_87 and MIOZPO01_73 have energies -7737.4023895743985 and -7737.4023895743985\n",
      "The equality of positions with a relative threshold of 1e-4 is False\n",
      "OHOLOO_60 and OHOLOO_44 have energies -29786.147434576258 and -29786.147434576258\n",
      "The equality of positions with a relative threshold of 1e-4 is False\n",
      "RAJDEM_99 and RAJDEM_18 have energies -6229.236195396562 and -6229.236195396562\n",
      "The equality of positions with a relative threshold of 1e-4 is False\n",
      "DIYLII_87 and DIYLII_44 have energies -8352.772708526461 and -8352.772708526461\n",
      "The equality of positions with a relative threshold of 1e-4 is False\n",
      "QACXUP_63 and QACXUP_35 have energies -10466.517640516899 and -10466.517640516899\n",
      "The equality of positions with a relative threshold of 1e-4 is False\n",
      "CIKRET_60 and CIKRET_13 have energies -13845.243022747076 and -13845.243022747076\n",
      "The equality of positions with a relative threshold of 1e-4 is False\n",
      "HACGAT_89 and HACGAT_45 have energies -25020.10294773683 and -25020.10294773683\n",
      "The equality of positions with a relative threshold of 1e-4 is False\n",
      "VUWKII_89 and VUWKII_82 have energies -17749.80254938273 and -17749.80254938273\n",
      "The equality of positions with a relative threshold of 1e-4 is False\n",
      "FELCIK_64 and FELCIK_42 have energies -11954.819932567398 and -11954.819932567398\n",
      "The equality of positions with a relative threshold of 1e-4 is False\n",
      "YUGFAJ_29 and YUGFAJ_23 have energies -27875.528681075873 and -27875.528681075873\n",
      "The equality of positions with a relative threshold of 1e-4 is False\n",
      "YUGFAJ_83 and YUGFAJ_81 have energies -27874.807035172988 and -27874.807035172988\n",
      "The equality of positions with a relative threshold of 1e-4 is False\n",
      "VIGTUA_13 and VIGTUA_10 have energies -11014.394965157726 and -11014.394965157726\n",
      "The equality of positions with a relative threshold of 1e-4 is False\n",
      "BZTZAD01_91 and BZTZAD01_11 have energies -29096.261298492445 and -29096.261298492445\n",
      "The equality of positions with a relative threshold of 1e-4 is False\n",
      "BZTZAD01_83 and BZTZAD01_19 have energies -29095.57910909631 and -29095.57910909631\n",
      "The equality of positions with a relative threshold of 1e-4 is False\n",
      "UDECAK_59 and UDECAK_38 have energies -14193.010822924756 and -14193.010822924756\n",
      "The equality of positions with a relative threshold of 1e-4 is False\n",
      "BUDXII_93 and BUDXII_12 have energies -12213.651814117487 and -12213.651814117487\n",
      "The equality of positions with a relative threshold of 1e-4 is False\n",
      "WOGFAZ_42 and WOGFAZ_15 have energies -16400.907687679075 and -16400.907687679075\n",
      "The equality of positions with a relative threshold of 1e-4 is False\n",
      "REZMOY_97 and REZMOY_17 have energies -17445.26354290993 and -17445.26354290993\n",
      "The equality of positions with a relative threshold of 1e-4 is False\n",
      "WAHYIP_58 and WAHYIP_47 have energies -14366.511804418371 and -14366.511804418371\n",
      "The equality of positions with a relative threshold of 1e-4 is False\n",
      "FUMAAC01_31 and FUMAAC01_22 have energies -2952.2985868088545 and -2952.2985868088545\n",
      "The equality of positions with a relative threshold of 1e-4 is False\n",
      "SIHHIA_96 and SIHHIA_68 have energies -16741.572881258442 and -16741.572881258442\n",
      "The equality of positions with a relative threshold of 1e-4 is False\n",
      "JABYOA_22 and JABYOA_20 have energies -11524.05730243568 and -11524.05730243568\n",
      "The equality of positions with a relative threshold of 1e-4 is False\n",
      "OCESEW_82 and OCESEW_70 have energies -12386.93186638465 and -12386.93186638465\n",
      "The equality of positions with a relative threshold of 1e-4 is False\n",
      "VUYVES_82 and VUYVES_34 have energies -10884.298045893138 and -10884.298045893138\n",
      "The equality of positions with a relative threshold of 1e-4 is False\n",
      "NALYOQ_81 and NALYOQ_63 have energies -16654.887235239636 and -16654.887235239636\n",
      "The equality of positions with a relative threshold of 1e-4 is False\n",
      "XIXQUR_15 and XIXQUR_13 have energies -12121.4036714103 and -12121.4036714103\n",
      "The equality of positions with a relative threshold of 1e-4 is False\n",
      "DACLOL_94 and DACLOL_49 have energies -31555.397878189535 and -31555.397878189535\n",
      "The equality of positions with a relative threshold of 1e-4 is False\n",
      "HEXFUL_88 and HEXFUL_24 have energies -12798.97322761331 and -12798.97322761331\n",
      "The equality of positions with a relative threshold of 1e-4 is False\n",
      "HEXFUL_85 and HEXFUL_56 have energies -12798.948873424657 and -12798.948873424657\n",
      "The equality of positions with a relative threshold of 1e-4 is False\n",
      "GAVWIM_88 and GAVWIM_11 have energies -4543.185347401694 and -4543.185347401694\n",
      "The equality of positions with a relative threshold of 1e-4 is False\n",
      "CEYDUF_91 and CEYDUF_33 have energies -51813.1763529667 and -51813.1763529667\n",
      "The equality of positions with a relative threshold of 1e-4 is False\n",
      "CEYDUF_76 and CEYDUF_40 have energies -51813.41907851171 and -51813.41907851171\n",
      "The equality of positions with a relative threshold of 1e-4 is False\n"
     ]
    }
   ],
   "source": [
    "for key in non_unique_frames.keys():\n",
    "    print(non_unique_frames[key][1].info['name']+' and '+non_unique_frames[key][0].info['name']\n",
    "         + ' have energies '+ str(non_unique_frames[key][1].info['energy'])+ ' and '\n",
    "         + str(non_unique_frames[key][0].info['energy']))\n",
    "    try:\n",
    "        print('The equality of positions with a relative threshold of 1e-4 is', \n",
    "              np.allclose(non_unique_frames[key][0].get_array('positions'), \n",
    "                          non_unique_frames[key][1].get_array('positions'), rtol=1e-4))\n",
    "    except:\n",
    "        print('The equality of positions could not be tested. This is likely because there are differing numbers'\n",
    "             ' of atoms in the two frames (this should be the case for different crystals ONLY.)')"
   ]
  },
  {
   "cell_type": "markdown",
   "id": "f2582ec8",
   "metadata": {},
   "source": [
    "From above, turns out that two different crystals also have the same energy mapped to them...\n",
    "Let's for the moment just consider two frames of the same crystal with the same cell parameters.\n",
    "\n",
    "Let's do some SCF calculations. Let's extract two frames from the same crystal that have very different positions but are mapped to the same energy."
   ]
  },
  {
   "cell_type": "code",
   "execution_count": 12,
   "id": "64b61ae1",
   "metadata": {},
   "outputs": [
    {
     "name": "stdout",
     "output_type": "stream",
     "text": [
      "-13232.67340827874\n",
      "C8H32N24O4\n",
      "-13233.072327167742\n",
      "C36H46N18\n"
     ]
    }
   ],
   "source": [
    "print(full_dataset['REVMIP'][2].info['energy'])\n",
    "print(full_dataset['REVMIP'][2].get_chemical_formula())\n",
    "print(full_dataset['IFIJOW'][2].info['energy'])\n",
    "print(full_dataset['IFIJOW'][2].get_chemical_formula())"
   ]
  },
  {
   "cell_type": "code",
   "execution_count": 13,
   "id": "7b7033e7",
   "metadata": {},
   "outputs": [],
   "source": [
    "#Define hyperparameters and SOAP\n",
    "hypers[\"compute_gradients\"] = False\n",
    "hypers[\"interaction_cutoff\"] = 4\n",
    "hypers[\"max_radial\"] = 6\n",
    "hypers[\"max_angular\"] = 4\n",
    "soap = SphericalInvariants(**hypers)"
   ]
  },
  {
   "cell_type": "code",
   "execution_count": 14,
   "id": "0e390436",
   "metadata": {},
   "outputs": [],
   "source": [
    "keys = []\n",
    "rmses = []\n",
    "for key in non_unique_frames.keys():\n",
    "    #Only consider \n",
    "    if np.array_equal(non_unique_frames[key][0].cell.cellpar(), non_unique_frames[key][1].cell.cellpar()) is True:\n",
    "        vecs = []\n",
    "        for frm in non_unique_frames[key]:\n",
    "            frm.wrap(eps=1e-13)\n",
    "            vecs.append(soap.transform(frm).get_features(soap)) \n",
    "        rmse = np.sqrt(np.mean((vecs[0] - vecs[1])**2))\n",
    "        keys.append(key)\n",
    "        rmses.append(rmse)"
   ]
  },
  {
   "cell_type": "code",
   "execution_count": 15,
   "id": "18b9b4bf",
   "metadata": {
    "scrolled": true
   },
   "outputs": [
    {
     "name": "stdout",
     "output_type": "stream",
     "text": [
      "METHOL04_23\n",
      "-3146.089546280012\n",
      "[5 5 3]\n",
      "METHOL04_52\n",
      "-3146.089546280012\n",
      "[5 5 3]\n"
     ]
    }
   ],
   "source": [
    "for frm in non_unique_frames[keys[rmses.index(max(rmses))]]:\n",
    "    print(frm.info['name'])\n",
    "    print(frm.info['energy'])\n",
    "    print(frm.info['kpts'])"
   ]
  },
  {
   "cell_type": "markdown",
   "id": "d85fd5f2",
   "metadata": {},
   "source": [
    "We will run SCF calculations for the two configurations above."
   ]
  },
  {
   "cell_type": "code",
   "execution_count": 16,
   "id": "ead42937",
   "metadata": {},
   "outputs": [
    {
     "name": "stdout",
     "output_type": "stream",
     "text": [
      "METHOL04\n",
      "-3146.8501316733577\n",
      "\n",
      "METHOL04_1\n",
      "-3146.373306592051\n",
      "\n",
      "METHOL04_2\n",
      "-3146.4400833283134\n",
      "\n",
      "METHOL04_3\n",
      "-3146.4680022082666\n",
      "\n",
      "METHOL04_4\n",
      "-3146.2706652517163\n",
      "\n",
      "METHOL04_5\n",
      "-3146.429606945485\n",
      "\n",
      "METHOL04_6\n",
      "-3146.3578777373405\n",
      "\n",
      "METHOL04_7\n",
      "-3146.181248643991\n",
      "\n",
      "METHOL04_8\n",
      "-3146.2043238975975\n",
      "\n",
      "METHOL04_9\n",
      "-3146.2796994311943\n",
      "\n",
      "METHOL04_10\n",
      "-3146.1771397250113\n",
      "\n",
      "METHOL04_11\n",
      "-3146.2333856556775\n",
      "\n",
      "METHOL04_12\n",
      "-3146.118363135636\n",
      "\n",
      "METHOL04_13\n",
      "-3146.005082144169\n",
      "\n",
      "METHOL04_14\n",
      "-3146.1045397525795\n",
      "\n",
      "METHOL04_15\n",
      "-3146.206772922155\n",
      "\n",
      "METHOL04_16\n",
      "-3145.9956670053157\n",
      "\n",
      "METHOL04_17\n",
      "-3146.0354500486796\n",
      "\n",
      "METHOL04_18\n",
      "-3146.068892839579\n",
      "\n",
      "METHOL04_19\n",
      "-3145.9695984994723\n",
      "\n",
      "METHOL04_20\n",
      "-3146.080648157454\n",
      "\n",
      "METHOL04_21\n",
      "-3146.1478602758593\n",
      "\n",
      "METHOL04_22\n",
      "-3146.2041878406776\n",
      "\n",
      "METHOL04_23\n",
      "-3146.089546280012\n",
      "\n",
      "METHOL04_24\n",
      "-3145.998877948624\n",
      "\n",
      "METHOL04_25\n",
      "-3145.9630949787033\n",
      "\n",
      "METHOL04_26\n",
      "-3145.981381028731\n",
      "\n",
      "METHOL04_27\n",
      "-3146.059858660101\n",
      "\n",
      "METHOL04_28\n",
      "-3146.000102460903\n",
      "\n",
      "METHOL04_29\n",
      "-3145.9439109530044\n",
      "\n",
      "METHOL04_30\n",
      "-3145.933271301872\n",
      "\n",
      "METHOL04_31\n",
      "-3146.1187440950116\n",
      "\n",
      "METHOL04_32\n",
      "-3146.03147718662\n",
      "\n",
      "METHOL04_33\n",
      "-3146.2003510355376\n",
      "\n",
      "METHOL04_34\n",
      "-3145.9820341019467\n",
      "\n",
      "METHOL04_35\n",
      "-3145.9775714349757\n",
      "\n",
      "METHOL04_36\n",
      "-3146.0002113064384\n",
      "\n",
      "METHOL04_37\n",
      "-3145.8539229062158\n",
      "\n",
      "METHOL04_38\n",
      "-3146.04970881388\n",
      "\n",
      "METHOL04_39\n",
      "-3145.9548499293605\n",
      "\n",
      "METHOL04_40\n",
      "-3146.0662261239495\n",
      "\n",
      "METHOL04_41\n",
      "-3146.086825141615\n",
      "\n",
      "METHOL04_42\n",
      "-3146.190228400701\n",
      "\n",
      "METHOL04_43\n",
      "-3146.2033987105424\n",
      "\n",
      "METHOL04_44\n",
      "-3146.049327854504\n",
      "\n",
      "METHOL04_45\n",
      "-3146.0936007762234\n",
      "\n",
      "METHOL04_46\n",
      "-3146.093138182696\n",
      "\n",
      "METHOL04_47\n",
      "-3146.088376190501\n",
      "\n",
      "METHOL04_48\n",
      "-3146.181901717206\n",
      "\n",
      "METHOL04_49\n",
      "-3146.190473303157\n",
      "\n",
      "METHOL04_50\n",
      "-3146.104512541195\n",
      "\n",
      "METHOL04_51\n",
      "-3146.130200087663\n",
      "\n",
      "METHOL04_52\n",
      "-3146.089546280012\n",
      "\n",
      "METHOL04_53\n",
      "-3146.143043860897\n",
      "\n",
      "METHOL04_54\n",
      "-3146.06794044114\n",
      "\n",
      "METHOL04_55\n",
      "-3146.2037796699183\n",
      "\n",
      "METHOL04_56\n",
      "-3146.20187487304\n",
      "\n",
      "METHOL04_57\n",
      "-3146.4046813177683\n",
      "\n",
      "METHOL04_58\n",
      "-3146.2362156396102\n",
      "\n",
      "METHOL04_59\n",
      "-3146.129519803064\n",
      "\n",
      "METHOL04_60\n",
      "-3146.177493473003\n",
      "\n",
      "METHOL04_61\n",
      "-3145.7392541341665\n",
      "\n",
      "METHOL04_62\n",
      "-3145.9392305949614\n",
      "\n",
      "METHOL04_63\n",
      "-3146.1647313339213\n",
      "\n",
      "METHOL04_64\n",
      "-3146.1353974620015\n",
      "\n",
      "METHOL04_65\n",
      "-3145.9340060092395\n",
      "\n",
      "METHOL04_66\n",
      "-3146.0439400004784\n",
      "\n",
      "METHOL04_67\n",
      "-3146.3463673219208\n",
      "\n",
      "METHOL04_68\n",
      "-3146.0899272393876\n",
      "\n",
      "METHOL04_69\n",
      "-3146.1082677121835\n",
      "\n",
      "METHOL04_70\n",
      "-3146.2143921096663\n",
      "\n",
      "METHOL04_71\n",
      "-3146.032184682603\n",
      "\n",
      "METHOL04_72\n",
      "-3146.003286192827\n",
      "\n",
      "METHOL04_73\n",
      "-3146.0534095621\n",
      "\n",
      "METHOL04_74\n",
      "-3145.960509897226\n",
      "\n",
      "METHOL04_75\n",
      "-3146.135860055529\n",
      "\n",
      "METHOL04_76\n",
      "-3146.0186606247703\n",
      "\n",
      "METHOL04_77\n",
      "-3145.9412714487594\n",
      "\n",
      "METHOL04_78\n",
      "-3146.1269891443544\n",
      "\n",
      "METHOL04_79\n",
      "-3145.922550016588\n",
      "\n",
      "METHOL04_80\n",
      "-3146.0737636773097\n",
      "\n",
      "METHOL04_81\n",
      "-3146.352517094698\n",
      "\n",
      "METHOL04_82\n",
      "-3146.1489215198344\n",
      "\n",
      "METHOL04_83\n",
      "-3146.123397241671\n",
      "\n",
      "METHOL04_84\n",
      "-3146.124295217342\n",
      "\n",
      "METHOL04_85\n",
      "-3146.054960610986\n",
      "\n",
      "METHOL04_86\n",
      "-3146.0227695437497\n",
      "\n",
      "METHOL04_87\n",
      "-3146.0576001152313\n",
      "\n",
      "METHOL04_88\n",
      "-3146.128730672929\n",
      "\n",
      "METHOL04_89\n",
      "-3145.95710847423\n",
      "\n",
      "METHOL04_90\n",
      "-3145.9152573656843\n",
      "\n",
      "METHOL04_91\n",
      "-3146.1509895850163\n",
      "\n",
      "METHOL04_92\n",
      "-3145.9355842695095\n",
      "\n",
      "METHOL04_93\n",
      "-3146.0138714211917\n",
      "\n",
      "METHOL04_94\n",
      "-3146.178554716978\n",
      "\n",
      "METHOL04_95\n",
      "-3146.1455745196063\n",
      "\n",
      "METHOL04_96\n",
      "-3145.955503002576\n",
      "\n",
      "METHOL04_97\n",
      "-3146.1493024792103\n",
      "\n",
      "METHOL04_98\n",
      "-3146.225575988478\n",
      "\n",
      "METHOL04_99\n",
      "-3146.142145885226\n",
      "\n",
      "METHOL04_100\n",
      "-3145.996918728978\n",
      "\n"
     ]
    }
   ],
   "source": [
    "for frm in full_dataset['METHOL04']:\n",
    "    print(frm.info['name'])\n",
    "    print(frm.info['energy'])\n",
    "    print(\"\")"
   ]
  },
  {
   "cell_type": "code",
   "execution_count": 29,
   "id": "342fb505",
   "metadata": {},
   "outputs": [],
   "source": [
    "## Create xyz, extxyz, and dftb files for i-PI simulations using DFTB+. NOTE: if you're automating this process\n",
    "## for all structures, you will have to change the folder_path argument of this function to the correct path!\n",
    "def create_geometry_files(frame, folder_path=''):\n",
    "    cell_array=frame.cell.cellpar() # get cell dimensions\n",
    "    cell='    '.join(str(a) for a in cell_array.tolist()) #convert cell dimensions to string\n",
    "    write_xyz(folder_path+'init.xyz', frame, comment='# CELL(abcABC):    '+cell+'  Step:         1  Bead:       0 positions{angstrom}  cell{angstrom}')\n",
    "    write_extxyz(folder_path+'init.extxyz', frame)\n",
    "    write_dftb(folder_path+'init.gen', frame)"
   ]
  },
  {
   "cell_type": "code",
   "execution_count": 30,
   "id": "bf089f7f",
   "metadata": {},
   "outputs": [],
   "source": [
    "from os import makedirs\n",
    "from ase.io.extxyz import write_xyz, write_extxyz\n",
    "from ase.io.espresso import write_espresso_in"
   ]
  },
  {
   "cell_type": "code",
   "execution_count": 31,
   "id": "202ee93a",
   "metadata": {},
   "outputs": [],
   "source": [
    "def get_nbnd(frm):\n",
    "    val_elecs = {'H':1, 'C':4, 'N':5, 'O':6}\n",
    "    tot_elecs = sum([val_elecs[i] for i in frm.get_chemical_symbols()])\n",
    "    nbnd = int((tot_elecs/2)*1.2) #equation for getting nbnd from total number of frames\n",
    "    return nbnd"
   ]
  },
  {
   "cell_type": "code",
   "execution_count": 37,
   "id": "9a8dd10b",
   "metadata": {},
   "outputs": [],
   "source": [
    "# Data for pw.x input file -- CHANGE THIS to the parameters used in the curation of your dataset \n",
    "input_data = {\n",
    "    \"CONTROL\": dict(calculation='scf', # we want to do a structure relaxation\n",
    "                    pseudo_dir='../../../pseudos/', # change this to your directory of pseudopotentials\n",
    "                    restart_mode = 'from_scratch',\n",
    "                    tprnfor = True),\n",
    "    \"SYSTEM\": dict(\n",
    "                   ecutwfc=60.0,\n",
    "                   ecutrho=240.0,\n",
    "                   vdw_corr='dft-d',\n",
    "                   nosym=True),\n",
    "    \"ELECTRONS\": dict(conv_thr=1e-10,\n",
    "                      mixing_beta=0.5,\n",
    "                      electron_maxstep=300,\n",
    "                      diagonalization='cg')}\n",
    "\n",
    "elements = [\"H\", \"C\", \"N\", \"O\"] # Elements for which you would like to create pair potentials\n",
    "\n",
    "# Define Pseudopotentials\n",
    "pseudo_names = ['H.pbe-tm-new-gipaw-dc.UPF', 'C.pbe-tm-new-gipaw-dc.UPF', \n",
    "                'N.pbe-n-kjpaw_psl.1.0.0.UPF', 'O.pbe-n-kjpaw_psl.1.0.0.UPF'] #change to the names of your pseudos\n",
    "pseudopotentials = {i: j for i,j in zip(elements, pseudo_names)}"
   ]
  },
  {
   "cell_type": "code",
   "execution_count": 18,
   "id": "6df36133",
   "metadata": {},
   "outputs": [
    {
     "data": {
      "text/plain": [
       "-3144.9045946019546"
      ]
     },
     "execution_count": 18,
     "metadata": {},
     "output_type": "execute_result"
    }
   ],
   "source": [
    "ase.units.Rydberg * -231.14622620"
   ]
  },
  {
   "cell_type": "code",
   "execution_count": 19,
   "id": "95e02f19",
   "metadata": {},
   "outputs": [
    {
     "data": {
      "text/plain": [
       "-3144.4425275798603"
      ]
     },
     "execution_count": 19,
     "metadata": {},
     "output_type": "execute_result"
    }
   ],
   "source": [
    "ase.units.Rydberg * -231.11226490"
   ]
  },
  {
   "cell_type": "code",
   "execution_count": 27,
   "id": "90893c9d",
   "metadata": {},
   "outputs": [
    {
     "data": {
      "text/plain": [
       "-3146.0897565877217"
      ]
     },
     "execution_count": 27,
     "metadata": {},
     "output_type": "execute_result"
    }
   ],
   "source": [
    "ase.units.Rydberg *  -231.23333400 #METHOL04_52"
   ]
  },
  {
   "cell_type": "code",
   "execution_count": 28,
   "id": "77865016",
   "metadata": {},
   "outputs": [
    {
     "data": {
      "text/plain": [
       "-3146.0897701934146"
      ]
     },
     "execution_count": 28,
     "metadata": {},
     "output_type": "execute_result"
    }
   ],
   "source": [
    "ase.units.Rydberg *  -231.23333500 #METHOL04_23"
   ]
  },
  {
   "cell_type": "code",
   "execution_count": 25,
   "id": "950b02ef",
   "metadata": {},
   "outputs": [
    {
     "data": {
      "text/plain": [
       "-13230.970641876405"
      ]
     },
     "execution_count": 25,
     "metadata": {},
     "output_type": "execute_result"
    }
   ],
   "source": [
    "ase.units.Rydberg* -972.45841355 #energy for IFIJOW_94"
   ]
  },
  {
   "cell_type": "code",
   "execution_count": 26,
   "id": "533bc569",
   "metadata": {
    "scrolled": true
   },
   "outputs": [
    {
     "data": {
      "text/plain": [
       "-13230.970662693117"
      ]
     },
     "execution_count": 26,
     "metadata": {},
     "output_type": "execute_result"
    }
   ],
   "source": [
    "ase.units.Rydberg * -972.45841508 #energy for REVMIP_65 in eV"
   ]
  },
  {
   "cell_type": "code",
   "execution_count": 132,
   "id": "62c454b3",
   "metadata": {},
   "outputs": [
    {
     "name": "stdout",
     "output_type": "stream",
     "text": [
      "REVMIP_65\n",
      "Baselined energy: -1.15883031 eV\n"
     ]
    }
   ],
   "source": [
    "revmip_energy= ase.units.Rydberg * -972.45847483\n",
    "X_revmip = np.zeros((1,4), dtype=int)\n",
    "revmip=full_dataset['REVMIP'][65]\n",
    "print(revmip.info['name'])\n",
    "symbols = revmip.get_atomic_numbers()\n",
    "X_revmip[0] = [len(np.where(symbols == sp)[0]) for sp in [1,6,7,8]]\n",
    "print(f\"Baselined energy: {np.round(revmip_energy-mlr.predict(X_revmip)[0], 8)} eV\")"
   ]
  },
  {
   "cell_type": "code",
   "execution_count": 32,
   "id": "09866158",
   "metadata": {
    "code_folding": [
     0
    ]
   },
   "outputs": [
    {
     "name": "stdout",
     "output_type": "stream",
     "text": [
      "EJIQEU02_88 and EJIQEU02_63 have energies -8476.660262082934 and -8476.660262082934\n",
      "The equality of positions with a relative threshold of 1e-4 is False\n",
      "METAMI04_37 and METAMI04_9 have energies -9927.262433366659 and -9927.262433366659\n",
      "The equality of positions with a relative threshold of 1e-4 is False\n",
      "XIXQOL_79 and XIXQOL_35 have energies -36404.04799055807 and -36404.04799055807\n",
      "The equality of positions with a relative threshold of 1e-4 is False\n",
      "XIXQOL_93 and XIXQOL_42 have energies -36403.50702824475 and -36403.50702824475\n",
      "The equality of positions with a relative threshold of 1e-4 is False\n",
      "XIXQOL_59 and XIXQOL_50 have energies -36403.600363291764 and -36403.600363291764\n",
      "The equality of positions with a relative threshold of 1e-4 is False\n",
      "XIXQOL_77 and XIXQOL_71 have energies -36403.91193363822 and -36403.91193363822\n",
      "The equality of positions with a relative threshold of 1e-4 is False\n",
      "COVSEM_99 and COVSEM_66 have energies -14300.603737166466 and -14300.603737166466\n",
      "The equality of positions with a relative threshold of 1e-4 is False\n",
      "ADMANN20_98 and ADMANN20_22 have energies -36187.881300528075 and -36187.881300528075\n",
      "The equality of positions with a relative threshold of 1e-4 is False\n",
      "QQQCIG30_72 and QQQCIG30_56 have energies -13913.486887987583 and -13913.486887987583\n",
      "The equality of positions with a relative threshold of 1e-4 is False\n",
      "GUTCIH_87 and GUTCIH_19 have energies -9100.143002092436 and -9100.143002092436\n",
      "The equality of positions with a relative threshold of 1e-4 is False\n",
      "HOPKUT_82 and HOPKUT_65 have energies -12877.26448821398 and -12877.26448821398\n",
      "The equality of positions with a relative threshold of 1e-4 is False\n",
      "HEMLAM_97 and HEMLAM_86 have energies -4078.182768877446 and -4078.182768877446\n",
      "The equality of positions with a relative threshold of 1e-4 is False\n",
      "DUYRIY_46 and DUYRIY_43 have energies -32312.992468322856 and -32312.992468322856\n",
      "The equality of positions with a relative threshold of 1e-4 is False\n",
      "YOYSUC_35 and YOYSUC_27 have energies -36151.20035493652 and -36151.20035493652\n",
      "The equality of positions with a relative threshold of 1e-4 is False\n",
      "UREAXX26_55 and UREAXX26_39 have energies -3108.114127941615 and -3108.114127941615\n",
      "The equality of positions with a relative threshold of 1e-4 is False\n",
      "BIVTUV01_37 and BIVTUV01_19 have energies -5626.356228223336 and -5626.356228223336\n",
      "The equality of positions with a relative threshold of 1e-4 is False\n",
      "KICCOO12_41 and KICCOO12_14 have energies -24555.529193412563 and -24555.529193412563\n",
      "The equality of positions with a relative threshold of 1e-4 is False\n",
      "WIMXAR_62 and WIMXAR_15 have energies -8903.641598298178 and -8903.641598298178\n",
      "The equality of positions with a relative threshold of 1e-4 is False\n",
      "VELLEE01_82 and VELLEE01_16 have energies -4761.806204940565 and -4761.806204940565\n",
      "The equality of positions with a relative threshold of 1e-4 is False\n",
      "QNACRD03_64 and IMAZOL33_22 have energies -10379.010863775415 and -10379.010863775415\n",
      "The equality of positions with a relative threshold of 1e-4 is False\n",
      "PUBMUU23_87 and PUBMUU23_19 have energies -49648.75892597501 and -49648.75892597501\n",
      "The equality of positions with a relative threshold of 1e-4 is False\n",
      "PUBMUU23_41 and PUBMUU23_29 have energies -49648.61715466453 and -49648.61715466453\n",
      "The equality of positions with a relative threshold of 1e-4 is False\n",
      "BAWVUQ01_78 and BAWVUQ01_22 have energies -4917.783708230715 and -4917.783708230715\n",
      "The equality of positions with a relative threshold of 1e-4 is False\n",
      "TRIRED_75 and TRIRED_62 have energies -8919.005798760856 and -8919.005798760856\n",
      "The equality of positions with a relative threshold of 1e-4 is False\n",
      "QAHVUQ_38 and QAHVUQ_37 have energies -5488.108329370224 and -5488.108329370224\n",
      "The equality of positions with a relative threshold of 1e-4 is False\n",
      "CUZJEO_45 and CUZJEO_20 have energies -3363.3827603949867 and -3363.3827603949867\n",
      "The equality of positions with a relative threshold of 1e-4 is False\n",
      "CUZJEO_58 and CUZJEO_22 have energies -3363.4088016894457 and -3363.4088016894457\n",
      "The equality of positions with a relative threshold of 1e-4 is False\n",
      "BAGMEC_34 and BAGMEC_30 have energies -20483.58340979796 and -20483.58340979796\n",
      "The equality of positions with a relative threshold of 1e-4 is False\n",
      "FORMAM01_76 and FORMAM01_42 have energies -4621.261284321009 and -4621.261284321009\n",
      "The equality of positions with a relative threshold of 1e-4 is False\n",
      "NOPQIT_95 and NOPQIT_57 have energies -41102.90351587936 and -41102.90351587936\n",
      "The equality of positions with a relative threshold of 1e-4 is False\n",
      "ZDGLPN_24 and ZDGLPN_22 have energies -40459.05931358662 and -40459.05931358662\n",
      "The equality of positions with a relative threshold of 1e-4 is False\n",
      "ZDGLPN_42 and ZDGLPN_36 have energies -40458.95237284762 and -40458.95237284762\n",
      "The equality of positions with a relative threshold of 1e-4 is False\n",
      "ZDGLPN_72 and ZDGLPN_59 have energies -40458.98774764679 and -40458.98774764679\n",
      "The equality of positions with a relative threshold of 1e-4 is False\n",
      "NAWYES_53 and NAWYES_38 have energies -6457.749180138662 and -6457.749180138662\n",
      "The equality of positions with a relative threshold of 1e-4 is False\n",
      "LAYSOV_48 and LAYSOV_46 have energies -29728.586377722997 and -29728.586377722997\n",
      "The equality of positions with a relative threshold of 1e-4 is False\n",
      "PHGLOL01_37 and PHGLOL01_16 have energies -10909.59396612272 and -10909.59396612272\n",
      "The equality of positions with a relative threshold of 1e-4 is False\n",
      "IZILIO_14 and IZILIO_13 have energies -27270.62587404109 and -27270.62587404109\n",
      "The equality of positions with a relative threshold of 1e-4 is False\n",
      "UZAWOJ_68 and UZAWOJ_39 have energies -13887.552153307919 and -13887.552153307919\n",
      "The equality of positions with a relative threshold of 1e-4 is False\n",
      "SEDTUQ09_18 and SEDTUQ09_17 have energies -16689.78891006755 and -16689.78891006755\n",
      "The equality of positions with a relative threshold of 1e-4 is False\n",
      "SEDTUQ09_34 and SEDTUQ09_20 have energies -16689.409828277465 and -16689.409828277465\n",
      "The equality of positions with a relative threshold of 1e-4 is False\n",
      "MEPCHX_67 and MEPCHX_62 have energies -13125.123433600937 and -13125.123433600937\n",
      "The equality of positions with a relative threshold of 1e-4 is False\n",
      "CRPACX10_85 and CRPACX10_46 have energies -8936.258931864579 and -8936.258931864579\n",
      "The equality of positions with a relative threshold of 1e-4 is False\n",
      "IMUWUJ_56 and IMUWUJ_21 have energies -19132.94527799165 and -19132.94527799165\n",
      "The equality of positions with a relative threshold of 1e-4 is False\n",
      "RAVWAM_97 and RAVWAM_58 have energies -34457.10394425462 and -34457.10394425462\n",
      "The equality of positions with a relative threshold of 1e-4 is False\n",
      "NEFJUG_79 and NEFJUG_19 have energies -4767.906480210343 and -4767.906480210343\n",
      "The equality of positions with a relative threshold of 1e-4 is False\n",
      "HOWBAW_94 and HOWBAW_11 have energies -3033.253760266035 and -3033.253760266035\n",
      "The equality of positions with a relative threshold of 1e-4 is False\n",
      "REVMIP_65 and IFIJOW_94 have energies -13230.969649105611 and -13230.969649105611\n",
      "The equality of positions could not be tested. This is likely because there are differing numbers of atoms in the two frames (this should be the case for different crystals ONLY.)\n",
      "WOLNOC_89 and GLUTAM09_99 have energies -13628.7931438441 and -13628.7931438441\n",
      "The equality of positions could not be tested. This is likely because there are differing numbers of atoms in the two frames (this should be the case for different crystals ONLY.)\n",
      "OMIWEM_79 and LUZFUJ_40 have energies -13168.612476982102 and -13168.612476982102\n",
      "The equality of positions with a relative threshold of 1e-4 is False\n",
      "GIPPAW_90 and GIPPAW_47 have energies -14521.377096811515 and -14521.377096811515\n",
      "The equality of positions with a relative threshold of 1e-4 is False\n",
      "ECADER_96 and ECADER_40 have energies -6921.237771681587 and -6921.237771681587\n",
      "The equality of positions with a relative threshold of 1e-4 is False\n",
      "DMOCDO10_90 and DMOCDO10_41 have energies -6538.647563437497 and -6538.647563437497\n",
      "The equality of positions with a relative threshold of 1e-4 is False\n",
      "TRPHAM_51 and TRPHAM_43 have energies -3272.1384184310696 and -3272.1384184310696\n",
      "The equality of positions with a relative threshold of 1e-4 is False\n",
      "DUMQAF_41 and DUMQAF_36 have energies -41555.47890024696 and -41555.47890024696\n",
      "The equality of positions with a relative threshold of 1e-4 is False\n",
      "NTROMA01_91 and NTROMA01_14 have energies -6873.953093984597 and -6873.953093984597\n",
      "The equality of positions with a relative threshold of 1e-4 is False\n",
      "FEKVOG_88 and FEKVOG_45 have energies -50449.89227468801 and -50449.89227468801\n",
      "The equality of positions with a relative threshold of 1e-4 is False\n",
      "FEKVOG_87 and FEKVOG_71 have energies -50449.83785192007 and -50449.83785192007\n",
      "The equality of positions with a relative threshold of 1e-4 is False\n",
      "TIMCHX_78 and TIMCHX_53 have energies -8895.932150625951 and -8895.932150625951\n",
      "The equality of positions with a relative threshold of 1e-4 is False\n",
      "HACGAT_58 and CTMTNA06_47 have energies -25020.15519359405 and -25020.15519359405\n",
      "The equality of positions could not be tested. This is likely because there are differing numbers of atoms in the two frames (this should be the case for different crystals ONLY.)\n",
      "KUKTEQ_81 and KUKTEQ_37 have energies -17297.38607949751 and -17297.38607949751\n",
      "The equality of positions with a relative threshold of 1e-4 is False\n",
      "WIKCIE_92 and WIKCIE_74 have energies -25609.338256223207 and -25609.338256223207\n",
      "The equality of positions with a relative threshold of 1e-4 is False\n",
      "METHOL04_52 and METHOL04_23 have energies -3146.089546280012 and -3146.089546280012\n",
      "The equality of positions with a relative threshold of 1e-4 is False\n",
      "ZZZKAY05_85 and ZZZKAY05_59 have energies -6119.156432773833 and -6119.156432773833\n",
      "The equality of positions with a relative threshold of 1e-4 is False\n",
      "TUPVAB01_95 and TUPVAB01_84 have energies -31934.405109083524 and -31934.405109083524\n",
      "The equality of positions with a relative threshold of 1e-4 is False\n",
      "FIPZIN01_87 and FIPZIN01_64 have energies -17485.219650676114 and -17485.219650676114\n",
      "The equality of positions with a relative threshold of 1e-4 is False\n",
      "ETAJOY_100 and ETAJOY_19 have energies -4553.054263294398 and -4553.054263294398\n",
      "The equality of positions with a relative threshold of 1e-4 is False\n",
      "FEXGUL_20 and ZERZIH_23 have energies -18099.06327493054 and -18099.06327493054\n",
      "The equality of positions could not be tested. This is likely because there are differing numbers of atoms in the two frames (this should be the case for different crystals ONLY.)\n",
      "PYRZOL32_2 and PYRZOL06_54 have energies -10373.469673600683 and -10373.469673600683\n",
      "The equality of positions with a relative threshold of 1e-4 is False\n",
      "DAJVUG01_96 and DAJVUG01_36 have energies -44442.11584609715 and -44442.11584609715\n",
      "The equality of positions with a relative threshold of 1e-4 is False\n",
      "GLYCIN62_88 and FEPGEM01_10 have energies -3817.909581952616 and -3817.909581952616\n",
      "The equality of positions with a relative threshold of 1e-4 is False\n",
      "KEFQEU_73 and KEFQEU_62 have energies -22367.97036193988 and -22367.97036193988\n",
      "The equality of positions with a relative threshold of 1e-4 is False\n",
      "JEMSUP_47 and JEMSUP_13 have energies -10695.70636555713 and -10695.70636555713\n",
      "The equality of positions with a relative threshold of 1e-4 is False\n",
      "ADALAU_78 and ADALAU_43 have energies -34494.581911282665 and -34494.581911282665\n",
      "The equality of positions with a relative threshold of 1e-4 is False\n",
      "CUTTOB_86 and CUTTOB_24 have energies -32527.296539120114 and -32527.296539120114\n",
      "The equality of positions with a relative threshold of 1e-4 is False\n",
      "IVEZEO_66 and IVEZEO_43 have energies -16308.57709447846 and -16308.57709447846\n",
      "The equality of positions with a relative threshold of 1e-4 is False\n",
      "DIKETE11_92 and DIKETE11_76 have energies -7265.638135881597 and -7265.638135881597\n",
      "The equality of positions with a relative threshold of 1e-4 is False\n",
      "FUSJOT_10 and FUSJOT_9 have energies -28556.353426297675 and -28556.353426297675\n",
      "The equality of positions with a relative threshold of 1e-4 is False\n",
      "LIQVUC_99 and LIQVUC_40 have energies -6907.162084672658 and -6907.162084672658\n",
      "The equality of positions with a relative threshold of 1e-4 is False\n",
      "TILJOP_42 and TILJOP_40 have energies -43408.76571674712 and -43408.76571674712\n",
      "The equality of positions with a relative threshold of 1e-4 is False\n",
      "HYXBUR10_85 and WUFTUO_35 have energies -12972.07333099828 and -12972.07333099828\n",
      "The equality of positions with a relative threshold of 1e-4 is False\n",
      "PIWXEY06_67 and PIWXEY06_42 have energies -3851.961009877003 and -3851.961009877003\n",
      "The equality of positions with a relative threshold of 1e-4 is False\n",
      "HIJFIP_94 and HIJFIP_25 have energies -16937.82037562888 and -16937.82037562888\n",
      "The equality of positions with a relative threshold of 1e-4 is False\n",
      "RASCUK_73 and RASCUK_25 have energies -10840.725436351799 and -10840.725436351799\n",
      "The equality of positions with a relative threshold of 1e-4 is False\n",
      "CYURAC13_84 and CYURAC13_41 have energies -13468.846452031166 and -13468.846452031166\n",
      "The equality of positions with a relative threshold of 1e-4 is False\n",
      "UZAXAW_26 and UZAXAW_15 have energies -30346.86711745895 and -30346.86711745895\n",
      "The equality of positions with a relative threshold of 1e-4 is False\n",
      "JABMAD_99 and JABMAD_74 have energies -35858.99988793138 and -35858.99988793138\n",
      "The equality of positions with a relative threshold of 1e-4 is False\n",
      "LUVPEY_72 and LUVPEY_71 have energies -18327.421862279996 and -18327.421862279996\n",
      "The equality of positions with a relative threshold of 1e-4 is False\n",
      "UTIXAX03_70 and UTIXAX03_51 have energies -7393.067033370693 and -7393.067033370693\n",
      "The equality of positions with a relative threshold of 1e-4 is False\n",
      "ACETAC09_65 and ACETAC09_7 have energies -6034.001263835035 and -6034.001263835035\n",
      "The equality of positions with a relative threshold of 1e-4 is False\n",
      "PUYTOS_92 and PUYTOS_76 have energies -3330.7190042075335 and -3330.7190042075335\n",
      "The equality of positions with a relative threshold of 1e-4 is False\n",
      "FUNGUS_63 and IBPRAC15_75 have energies -13759.11107396929 and -13759.11107396929\n",
      "The equality of positions could not be tested. This is likely because there are differing numbers of atoms in the two frames (this should be the case for different crystals ONLY.)\n",
      "JARMIB_100 and JARMIB_41 have energies -30367.334704139666 and -30367.334704139666\n",
      "The equality of positions with a relative threshold of 1e-4 is False\n",
      "JARMIB_81 and JARMIB_54 have energies -30367.53280301497 and -30367.53280301497\n",
      "The equality of positions with a relative threshold of 1e-4 is False\n",
      "XALDUM_98 and XALDUM_35 have energies -18161.781895867323 and -18161.781895867323\n",
      "The equality of positions with a relative threshold of 1e-4 is False\n",
      "FEDCIC_68 and NAXTIQ_9 have energies -17346.72785618848 and -17346.72785618848\n",
      "The equality of positions could not be tested. This is likely because there are differing numbers of atoms in the two frames (this should be the case for different crystals ONLY.)\n",
      "MUGNUX_92 and MUGNUX_83 have energies -14175.144671762959 and -14175.144671762959\n",
      "The equality of positions with a relative threshold of 1e-4 is False\n",
      "QONVIZ_92 and QONVIZ_74 have energies -48116.832567656085 and -48116.832567656085\n",
      "The equality of positions with a relative threshold of 1e-4 is False\n",
      "QOPKUB_43 and QOPKUB_17 have energies -45987.349387518916 and -45987.349387518916\n",
      "The equality of positions with a relative threshold of 1e-4 is False\n",
      "ZUNSUW_76 and ZUNSUW_59 have energies -4008.657900525168 and -4008.657900525168\n",
      "The equality of positions with a relative threshold of 1e-4 is False\n",
      "EDAWIP_57 and EDAWIP_13 have energies -9094.70205865625 and -9094.70205865625\n",
      "The equality of positions with a relative threshold of 1e-4 is False\n",
      "AKEZIB05_59 and AKEZIB05_19 have energies -6221.77211277359 and -6221.77211277359\n",
      "The equality of positions with a relative threshold of 1e-4 is False\n",
      "XULDUD01_100 and XULDUD01_99 have energies -6364.796670757412 and -6364.796670757412\n",
      "The equality of positions with a relative threshold of 1e-4 is False\n",
      "KIKVAC01_88 and KIKVAC01_65 have energies -27335.46951358624 and -27335.46951358624\n",
      "The equality of positions with a relative threshold of 1e-4 is False\n",
      "KIKVAC01_82 and KIKVAC01_79 have energies -27335.83822783903 and -27335.83822783903\n",
      "The equality of positions with a relative threshold of 1e-4 is False\n",
      "LOLJAX_40 and LOLJAX_34 have energies -46628.49612531871 and -46628.49612531871\n",
      "The equality of positions with a relative threshold of 1e-4 is False\n",
      "SASPAE_52 and SASPAE_50 have energies -15497.140508973203 and -15497.140508973203\n",
      "The equality of positions with a relative threshold of 1e-4 is False\n",
      "SIGFOE01_71 and SIGFOE01_28 have energies -30325.938842047624 and -30325.938842047624\n",
      "The equality of positions with a relative threshold of 1e-4 is False\n",
      "ITIPEG_66 and ITIPEG_33 have energies -46228.04441905948 and -46228.04441905948\n",
      "The equality of positions with a relative threshold of 1e-4 is False\n",
      "HAMGOT_79 and HAMGOT_42 have energies -4747.632720217647 and -4747.632720217647\n",
      "The equality of positions with a relative threshold of 1e-4 is False\n",
      "TAYHUX_36 and TAYHUX_25 have energies -38908.06403372304 and -38908.06403372304\n",
      "The equality of positions with a relative threshold of 1e-4 is False\n",
      "TAYHUX_77 and TAYHUX_44 have energies -38907.76362004402 and -38907.76362004402\n",
      "The equality of positions with a relative threshold of 1e-4 is False\n",
      "VOPTEZ_88 and VOPTEZ_62 have energies -8763.682783677954 and -8763.682783677954\n",
      "The equality of positions with a relative threshold of 1e-4 is False\n",
      "YEKHON_1 and NAYNUX_53 have energies -19500.804195352823 and -19500.804195352823\n",
      "The equality of positions could not be tested. This is likely because there are differing numbers of atoms in the two frames (this should be the case for different crystals ONLY.)\n",
      "UMIPIR_68 and UMIPIR_40 have energies -27895.775039204913 and -27895.775039204913\n",
      "The equality of positions with a relative threshold of 1e-4 is False\n",
      "UMIPIR_94 and UMIPIR_59 have energies -27895.562246182268 and -27895.562246182268\n",
      "The equality of positions with a relative threshold of 1e-4 is False\n",
      "MEWSUE_83 and MEWSUE_82 have energies -30797.059600932305 and -30797.059600932305\n",
      "The equality of positions with a relative threshold of 1e-4 is False\n",
      "VUCBAW_39 and VUCBAW_15 have energies -13483.793474766198 and -13483.793474766198\n",
      "The equality of positions with a relative threshold of 1e-4 is False\n",
      "VUCBAW_93 and VUCBAW_84 have energies -13483.692057938142 and -13483.692057938142\n",
      "The equality of positions with a relative threshold of 1e-4 is False\n",
      "JEXZUH_75 and JEXZUH_70 have energies -29879.11458368208 and -29879.11458368208\n",
      "The equality of positions with a relative threshold of 1e-4 is False\n",
      "ODEXOM_75 and ODEXOM_10 have energies -4112.093105775949 and -4112.093105775949\n",
      "The equality of positions with a relative threshold of 1e-4 is False\n",
      "DIBGEA01_86 and MOQDED_94 have energies -11089.271278704311 and -11089.271278704311\n",
      "The equality of positions with a relative threshold of 1e-4 is False\n",
      "QUDNOU_77 and QUDNOU_62 have energies -31804.204895405386 and -31804.204895405386\n",
      "The equality of positions with a relative threshold of 1e-4 is False\n",
      "SEGCAI01_55 and SEGCAI01_54 have energies -9667.56076713935 and -9667.56076713935\n",
      "The equality of positions with a relative threshold of 1e-4 is False\n",
      "CASYIG_98 and CASYIG_45 have energies -45179.69727966206 and -45179.69727966206\n",
      "The equality of positions with a relative threshold of 1e-4 is False\n",
      "CASYIG_70 and CASYIG_52 have energies -45180.2431400245 and -45180.2431400245\n",
      "The equality of positions with a relative threshold of 1e-4 is False\n",
      "YAMFOI_53 and YAMFOI_52 have energies -11091.71660251339 and -11091.71660251339\n",
      "The equality of positions with a relative threshold of 1e-4 is False\n",
      "AMTETZ_41 and AMTETZ_15 have energies -10886.785030331075 and -10886.785030331075\n",
      "The equality of positions with a relative threshold of 1e-4 is False\n",
      "AMTETZ_84 and AMTETZ_60 have energies -10886.652456468375 and -10886.652456468375\n",
      "The equality of positions with a relative threshold of 1e-4 is False\n",
      "MEJNEX_63 and MEJNEX_37 have energies -14428.021967793045 and -14428.021967793045\n",
      "The equality of positions with a relative threshold of 1e-4 is False\n",
      "ETDIAM17_87 and ETDIAM17_37 have energies -4831.862429987626 and -4831.862429987626\n",
      "The equality of positions with a relative threshold of 1e-4 is False\n",
      "VALWIQ_49 and VALWIQ_44 have energies -20625.57611210164 and -20625.57611210164\n",
      "The equality of positions with a relative threshold of 1e-4 is False\n",
      "FOACAM_98 and FOACAM_28 have energies -39610.210258854546 and -39610.210258854546\n",
      "The equality of positions with a relative threshold of 1e-4 is False\n",
      "FOACAM_39 and FOACAM_37 have energies -39610.082637463725 and -39610.082637463725\n",
      "The equality of positions with a relative threshold of 1e-4 is False\n",
      "FOACAM_72 and FOACAM_67 have energies -39610.3950241517 and -39610.3950241517\n",
      "The equality of positions with a relative threshold of 1e-4 is False\n",
      "KECYBU11_20 and KECYBU11_14 have energies -5836.677096635061 and -5836.677096635061\n",
      "The equality of positions with a relative threshold of 1e-4 is False\n",
      "MOPPUC01_88 and MOPPUC01_87 have energies -8257.139714555864 and -8257.139714555864\n",
      "The equality of positions with a relative threshold of 1e-4 is False\n",
      "VEZHOY_80 and VEZHOY_56 have energies -6201.24800804837 and -6201.24800804837\n",
      "The equality of positions with a relative threshold of 1e-4 is False\n",
      "ACIDOH_31 and CIGMUB_26 have energies -10456.92339633399 and -10456.92339633399\n",
      "The equality of positions could not be tested. This is likely because there are differing numbers of atoms in the two frames (this should be the case for different crystals ONLY.)\n",
      "CIGMUB_78 and CIGMUB_70 have energies -10456.814333107037 and -10456.814333107037\n",
      "The equality of positions with a relative threshold of 1e-4 is False\n",
      "FEFDOM_59 and FEFDOM_27 have energies -17956.982571011104 and -17956.982571011104\n",
      "The equality of positions with a relative threshold of 1e-4 is False\n",
      "SAWMIO_37 and SAWMIO_18 have energies -33691.41124625182 and -33691.41124625182\n",
      "The equality of positions with a relative threshold of 1e-4 is False\n",
      "SAWMIO_57 and SAWMIO_56 have energies -33690.62429302741 and -33690.62429302741\n",
      "The equality of positions with a relative threshold of 1e-4 is False\n",
      "DEZBIV_88 and DEZBIV_42 have energies -11481.432111650025 and -11481.432111650025\n",
      "The equality of positions with a relative threshold of 1e-4 is False\n",
      "CIRXEH_78 and CIRXEH_56 have energies -9040.226310151662 and -9040.226310151662\n",
      "The equality of positions with a relative threshold of 1e-4 is False\n",
      "FORRUB_21 and FORRUB_19 have energies -27494.324675153985 and -27494.324675153985\n",
      "The equality of positions with a relative threshold of 1e-4 is False\n",
      "FORRUB_91 and FORRUB_39 have energies -27494.044670012932 and -27494.044670012932\n",
      "The equality of positions with a relative threshold of 1e-4 is False\n",
      "HUVGIQ_63 and HUVGIQ_37 have energies -6541.5725151004335 and -6541.5725151004335\n",
      "The equality of positions with a relative threshold of 1e-4 is False\n",
      "GLYCIN35_73 and GLYCIN35_10 have energies -3818.308609687152 and -3818.308609687152\n",
      "The equality of positions with a relative threshold of 1e-4 is False\n",
      "GLYCIN62_75 and GLYCIN35_77 have energies -3818.2666497330706 and -3818.2666497330706\n",
      "The equality of positions with a relative threshold of 1e-4 is False\n",
      "BAWPOE_82 and BAWPOE_54 have energies -31874.829865588807 and -31874.829865588807\n",
      "The equality of positions with a relative threshold of 1e-4 is False\n",
      "QIHHIY_91 and QIHHIY_56 have energies -24036.108336826666 and -24036.108336826666\n",
      "The equality of positions with a relative threshold of 1e-4 is False\n",
      "FULPIM01_80 and FULPIM01_64 have energies -5939.273946357111 and -5939.273946357111\n",
      "The equality of positions with a relative threshold of 1e-4 is False\n",
      "XAQNOT_65 and XAQNOT_51 have energies -10955.551218086886 and -10955.551218086886\n",
      "The equality of positions with a relative threshold of 1e-4 is False\n",
      "DESJOA_78 and DESJOA_23 have energies -38146.48215949659 and -38146.48215949659\n",
      "The equality of positions with a relative threshold of 1e-4 is False\n",
      "XIMKUA_32 and XIMKUA_15 have energies -9041.005127172266 and -9041.005127172266\n",
      "The equality of positions with a relative threshold of 1e-4 is False\n",
      "GOCJIS_68 and GOCJIS_27 have energies -26866.327838657697 and -26866.327838657697\n",
      "The equality of positions with a relative threshold of 1e-4 is False\n",
      "VENREN_79 and VENREN_47 have energies -15374.124889793282 and -15374.124889793282\n",
      "The equality of positions with a relative threshold of 1e-4 is False\n",
      "ROHBUL_79 and ROHBUL_27 have energies -28600.78635095461 and -28600.78635095461\n",
      "The equality of positions with a relative threshold of 1e-4 is False\n",
      "ROHBUL_73 and ROHBUL_40 have energies -28600.62362687847 and -28600.62362687847\n",
      "The equality of positions with a relative threshold of 1e-4 is False\n",
      "ROHBUL_81 and ROHBUL_63 have energies -28601.00485836789 and -28601.00485836789\n",
      "The equality of positions with a relative threshold of 1e-4 is False\n",
      "XAPMIN_28 and XAPMIN_25 have energies -19051.205736391537 and -19051.205736391537\n",
      "The equality of positions with a relative threshold of 1e-4 is False\n",
      "AFEMIH_51 and AFEMIH_32 have energies -3929.3736965234334 and -3929.3736965234334\n",
      "The equality of positions with a relative threshold of 1e-4 is False\n",
      "FAJGUS_64 and FAJGUS_22 have energies -4847.72443550865 and -4847.72443550865\n",
      "The equality of positions with a relative threshold of 1e-4 is False\n",
      "QUGGAA_29 and QUGGAA_23 have energies -13960.03389227653 and -13960.03389227653\n",
      "The equality of positions with a relative threshold of 1e-4 is False\n",
      "JOPBAT_41 and KOVGOR_71 have energies -10592.98545913556 and -10592.98545913556\n",
      "The equality of positions could not be tested. This is likely because there are differing numbers of atoms in the two frames (this should be the case for different crystals ONLY.)\n",
      "MOYHAJ_96 and MOYHAJ_34 have energies -12173.41907542186 and -12173.41907542186\n",
      "The equality of positions with a relative threshold of 1e-4 is False\n",
      "YOTSUV_77 and YOTSUV_41 have energies -29726.4053852978 and -29726.4053852978\n",
      "The equality of positions with a relative threshold of 1e-4 is False\n",
      "DEBSOS_65 and DEBSOS_58 have energies -27214.507292652077 and -27214.507292652077\n",
      "The equality of positions with a relative threshold of 1e-4 is False\n",
      "USAHAY_8 and BUXWIA_38 have energies -9032.12847439603 and -9032.12847439603\n",
      "The equality of positions could not be tested. This is likely because there are differing numbers of atoms in the two frames (this should be the case for different crystals ONLY.)\n",
      "USAHAY_58 and BUXWIA_61 have energies -9032.516617576977 and -9032.516617576977\n",
      "The equality of positions could not be tested. This is likely because there are differing numbers of atoms in the two frames (this should be the case for different crystals ONLY.)\n",
      "KEPKIZ_21 and KEPKIZ_12 have energies -16948.456053899088 and -16948.456053899088\n",
      "The equality of positions with a relative threshold of 1e-4 is False\n",
      "EXAROK_52 and EXAROK_45 have energies -22964.739142078353 and -22964.739142078353\n",
      "The equality of positions with a relative threshold of 1e-4 is False\n",
      "YALTOW_55 and YALTOW_47 have energies -37279.2909992857 and -37279.2909992857\n",
      "The equality of positions with a relative threshold of 1e-4 is False\n",
      "QAGDEK_83 and QAGDEK_10 have energies -12178.516475135424 and -12178.516475135424\n",
      "The equality of positions with a relative threshold of 1e-4 is False\n",
      "TOVTED_77 and TOVTED_60 have energies -13306.154376478115 and -13306.154376478115\n",
      "The equality of positions with a relative threshold of 1e-4 is False\n",
      "ARAGUV_16 and XEFSIK_50 have energies -27935.185014494826 and -27935.185014494826\n",
      "The equality of positions could not be tested. This is likely because there are differing numbers of atoms in the two frames (this should be the case for different crystals ONLY.)\n",
      "ARAGUV_74 and XEFSIK_68 have energies -27935.096849610763 and -27935.096849610763\n",
      "The equality of positions could not be tested. This is likely because there are differing numbers of atoms in the two frames (this should be the case for different crystals ONLY.)\n",
      "ARAGUV_22 and XEFSIK_91 have energies -27934.57684006309 and -27934.57684006309\n",
      "The equality of positions could not be tested. This is likely because there are differing numbers of atoms in the two frames (this should be the case for different crystals ONLY.)\n",
      "NTSALA_46 and NTSALA_24 have energies -15252.437539899089 and -15252.437539899089\n",
      "The equality of positions with a relative threshold of 1e-4 is False\n",
      "VOHCAY_53 and VOHCAY_13 have energies -11147.778176052983 and -11147.778176052983\n",
      "The equality of positions with a relative threshold of 1e-4 is False\n",
      "JIWZAQ_36 and ABAQIG_40 have energies -25570.337458514052 and -25570.337458514052\n",
      "The equality of positions could not be tested. This is likely because there are differing numbers of atoms in the two frames (this should be the case for different crystals ONLY.)\n",
      "CYHEXO_48 and CYHEXO_44 have energies -4385.36696677459 and -4385.36696677459\n",
      "The equality of positions with a relative threshold of 1e-4 is False\n",
      "EJIQEU_91 and EJIQEU_29 have energies -8488.872350249294 and -8488.872350249294\n",
      "The equality of positions with a relative threshold of 1e-4 is False\n",
      "XURCIW_15 and XURCIW_11 have energies -7505.2914884324 and -7505.2914884324\n",
      "The equality of positions with a relative threshold of 1e-4 is False\n",
      "IJUMEG03_86 and IJUMEG03_42 have energies -32132.06043882641 and -32132.06043882641\n",
      "The equality of positions with a relative threshold of 1e-4 is False\n",
      "AZALIX_79 and AZALIX_66 have energies -16989.208421183004 and -16989.208421183004\n",
      "The equality of positions with a relative threshold of 1e-4 is False\n",
      "SETRIS_53 and SETRIS_20 have energies -9894.91481903817 and -9894.91481903817\n",
      "The equality of positions with a relative threshold of 1e-4 is False\n",
      "ZIPSUO_70 and ZIPSUO_20 have energies -27521.696334175565 and -27521.696334175565\n",
      "The equality of positions with a relative threshold of 1e-4 is False\n",
      "ZIPSUO_65 and ZIPSUO_37 have energies -27521.147480560892 and -27521.147480560892\n",
      "The equality of positions with a relative threshold of 1e-4 is False\n",
      "ZIPSUO_59 and ZIPSUO_48 have energies -27521.382859032234 and -27521.382859032234\n",
      "The equality of positions with a relative threshold of 1e-4 is False\n",
      "UGEBOZ_87 and UGEBOZ_21 have energies -13443.367480821616 and -13443.367480821616\n",
      "The equality of positions with a relative threshold of 1e-4 is False\n",
      "COTTAI_71 and XOZBUK_98 have energies -12363.858354306665 and -12363.858354306665\n",
      "The equality of positions could not be tested. This is likely because there are differing numbers of atoms in the two frames (this should be the case for different crystals ONLY.)\n",
      "EHIRET_80 and EHIRET_36 have energies -27296.75614972596 and -27296.75614972596\n",
      "The equality of positions with a relative threshold of 1e-4 is False\n",
      "KEQPUS_71 and KEQPUS_48 have energies -20741.164628929404 and -20741.164628929404\n",
      "The equality of positions with a relative threshold of 1e-4 is False\n",
      "MUKLIO_77 and MUKLIO_13 have energies -42216.387089313444 and -42216.387089313444\n",
      "The equality of positions with a relative threshold of 1e-4 is False\n",
      "MUKLIO_87 and MUKLIO_18 have energies -42216.183276047515 and -42216.183276047515\n",
      "The equality of positions with a relative threshold of 1e-4 is False\n",
      "XADBIQ_69 and XADBIQ_34 have energies -30983.94575335523 and -30983.94575335523\n",
      "The equality of positions with a relative threshold of 1e-4 is False\n",
      "CIWQIK_98 and CIWQIK_95 have energies -4118.0801272656445 and -4118.0801272656445\n",
      "The equality of positions with a relative threshold of 1e-4 is False\n",
      "APAKUZ_95 and APAKUZ_94 have energies -30244.954497986826 and -30244.954497986826\n",
      "The equality of positions with a relative threshold of 1e-4 is False\n",
      "LITREM_29 and LITREM_23 have energies -26223.167023061982 and -26223.167023061982\n",
      "The equality of positions with a relative threshold of 1e-4 is False\n",
      "GALCAX01_18 and GALCAX01_10 have energies -4213.662018257147 and -4213.662018257147\n",
      "The equality of positions with a relative threshold of 1e-4 is False\n",
      "PYZTAZ_55 and PYZTAZ_5 have energies -6678.882872930242 and -6678.882872930242\n",
      "The equality of positions with a relative threshold of 1e-4 is False\n",
      "ICASUC_62 and ICASUC_53 have energies -20833.18691714964 and -20833.18691714964\n",
      "The equality of positions with a relative threshold of 1e-4 is False\n",
      "UKIHUS_88 and QIJDES_65 have energies -9146.744184246869 and -9146.744184246869\n",
      "The equality of positions could not be tested. This is likely because there are differing numbers of atoms in the two frames (this should be the case for different crystals ONLY.)\n",
      "SAZGOP_11 and SAZGOP_5 have energies -12174.39999139121 and -12174.39999139121\n",
      "The equality of positions with a relative threshold of 1e-4 is False\n",
      "XUHKOC_45 and XUHKOC_29 have energies -28322.668591495472 and -28322.668591495472\n",
      "The equality of positions with a relative threshold of 1e-4 is False\n",
      "PEJBAJ_8 and SIGGUL_64 have energies -27606.131898065276 and -27606.131898065276\n",
      "The equality of positions could not be tested. This is likely because there are differing numbers of atoms in the two frames (this should be the case for different crystals ONLY.)\n",
      "PEWMIN_53 and PEWMIN_32 have energies -14159.64933964093 and -14159.64933964093\n",
      "The equality of positions with a relative threshold of 1e-4 is False\n",
      "QARVOV_78 and QARVOV_22 have energies -11010.329965351983 and -11010.329965351983\n",
      "The equality of positions with a relative threshold of 1e-4 is False\n",
      "FIHHIP_93 and FIHHIP_50 have energies -20229.122928237113 and -20229.122928237113\n",
      "The equality of positions with a relative threshold of 1e-4 is False\n",
      "XZBTZO_100 and XZBTZO_17 have energies -31753.425187551293 and -31753.425187551293\n",
      "The equality of positions with a relative threshold of 1e-4 is False\n",
      "XZBTZO_99 and XZBTZO_33 have energies -31753.495120808093 and -31753.495120808093\n",
      "The equality of positions with a relative threshold of 1e-4 is False\n",
      "XZBTZO_67 and XZBTZO_46 have energies -31752.974022805072 and -31752.974022805072\n",
      "The equality of positions with a relative threshold of 1e-4 is False\n",
      "QUSMEW_52 and QUSMEW_27 have energies -29985.726064938146 and -29985.726064938146\n",
      "The equality of positions with a relative threshold of 1e-4 is False\n",
      "XEXYII_24 and XEXYII_22 have energies -34062.99140200504 and -34062.99140200504\n",
      "The equality of positions with a relative threshold of 1e-4 is False\n",
      "XEXYII_45 and XEXYII_32 have energies -34062.199550731515 and -34062.199550731515\n",
      "The equality of positions with a relative threshold of 1e-4 is False\n",
      "KOVHAE01_96 and KOVHAE01_39 have energies -36112.72808393821 and -36112.72808393821\n",
      "The equality of positions with a relative threshold of 1e-4 is False\n",
      "KOVHAE01_54 and KOVHAE01_50 have energies -36111.98194778975 and -36111.98194778975\n",
      "The equality of positions with a relative threshold of 1e-4 is False\n",
      "IQUJEK_33 and IQUJEK_32 have energies -24300.825169965185 and -24300.825169965185\n",
      "The equality of positions with a relative threshold of 1e-4 is False\n",
      "GUKVUE_100 and GUKVUE_91 have energies -19863.56701914686 and -19863.56701914686\n",
      "The equality of positions with a relative threshold of 1e-4 is False\n",
      "BZTROP11_46 and BZTROP11_22 have energies -9597.846752457095 and -9597.846752457095\n",
      "The equality of positions with a relative threshold of 1e-4 is False\n",
      "BZTROP11_89 and BZTROP11_67 have energies -9598.135601297938 and -9598.135601297938\n",
      "The equality of positions with a relative threshold of 1e-4 is False\n",
      "HOPLAA_70 and HOPLAA_68 have energies -13627.00775051906 and -13627.00775051906\n",
      "The equality of positions with a relative threshold of 1e-4 is False\n",
      "QOZFER_26 and QOZFER_24 have energies -11105.823419345581 and -11105.823419345581\n",
      "The equality of positions with a relative threshold of 1e-4 is False\n",
      "WOSGIU_93 and WOSGIU_61 have energies -8305.343239055366 and -8305.343239055366\n",
      "The equality of positions with a relative threshold of 1e-4 is False\n",
      "FIZZOD_77 and FIZZOD_29 have energies -7637.30604834812 and -7637.30604834812\n",
      "The equality of positions with a relative threshold of 1e-4 is False\n",
      "NETROT_38 and NETROT_20 have energies -29641.24436591145 and -29641.24436591145\n",
      "The equality of positions with a relative threshold of 1e-4 is False\n",
      "BUKNEA_63 and BUKNEA_28 have energies -28811.32599889346 and -28811.32599889346\n",
      "The equality of positions with a relative threshold of 1e-4 is False\n",
      "HIVGAW_37 and HIVGAW_9 have energies -35475.767273334524 and -35475.767273334524\n",
      "The equality of positions with a relative threshold of 1e-4 is False\n",
      "FEFJAE_30 and FEFJAE_19 have energies -43488.37452534823 and -43488.37452534823\n",
      "The equality of positions with a relative threshold of 1e-4 is False\n",
      "FEFJAE_37 and FEFJAE_28 have energies -43488.15873907335 and -43488.15873907335\n",
      "The equality of positions with a relative threshold of 1e-4 is False\n",
      "DAZDOZ_92 and DAZDOZ_73 have energies -42785.86013019161 and -42785.86013019161\n",
      "The equality of positions with a relative threshold of 1e-4 is False\n",
      "VAVVET_46 and JUMXIA_83 have energies -8015.104740045853 and -8015.104740045853\n",
      "The equality of positions with a relative threshold of 1e-4 is False\n",
      "AXUDED01_35 and AXUDED01_25 have energies -20017.274303883776 and -20017.274303883776\n",
      "The equality of positions with a relative threshold of 1e-4 is False\n",
      "VABJOX10_79 and VABJOX10_67 have energies -12200.992479644197 and -12200.992479644197\n",
      "The equality of positions with a relative threshold of 1e-4 is False\n",
      "QARQUY_99 and QARQUY_31 have energies -28675.381734173094 and -28675.381734173094\n",
      "The equality of positions with a relative threshold of 1e-4 is False\n",
      "BONGES_78 and BONGES_75 have energies -13788.08551071809 and -13788.08551071809\n",
      "The equality of positions with a relative threshold of 1e-4 is False\n",
      "CACPUS_40 and CACPUS_25 have energies -7963.632448046952 and -7963.632448046952\n",
      "The equality of positions with a relative threshold of 1e-4 is False\n",
      "PEJBAJ_91 and PEJBAJ_18 have energies -27605.4246741959 and -27605.4246741959\n",
      "The equality of positions with a relative threshold of 1e-4 is False\n",
      "PEJBAJ_32 and PEJBAJ_27 have energies -27605.526988999627 and -27605.526988999627\n",
      "The equality of positions with a relative threshold of 1e-4 is False\n",
      "HABFUL_61 and JUVMUI_66 have energies -14919.058466491526 and -14919.058466491526\n",
      "The equality of positions could not be tested. This is likely because there are differing numbers of atoms in the two frames (this should be the case for different crystals ONLY.)\n",
      "FEFXUM_38 and FEFXUM_37 have energies -27420.914891935077 and -27420.914891935077\n",
      "The equality of positions with a relative threshold of 1e-4 is False\n",
      "FEFXUM_47 and FEFXUM_39 have energies -27421.12741284388 and -27421.12741284388\n",
      "The equality of positions with a relative threshold of 1e-4 is False\n",
      "ZAPCOK_92 and ZAPCOK_36 have energies -35051.21553274842 and -35051.21553274842\n",
      "The equality of positions with a relative threshold of 1e-4 is False\n",
      "NEZNAH_80 and NEZNAH_69 have energies -8869.198680192616 and -8869.198680192616\n",
      "The equality of positions with a relative threshold of 1e-4 is False\n",
      "ZIVMIA_28 and ZIVMIA_26 have energies -32297.88498005656 and -32297.88498005656\n",
      "The equality of positions with a relative threshold of 1e-4 is False\n",
      "YEKHIH_87 and YEKHIH_25 have energies -12148.094583239108 and -12148.094583239108\n",
      "The equality of positions with a relative threshold of 1e-4 is False\n",
      "WUHYIH_57 and WUHYIH_33 have energies -19260.063748012417 and -19260.063748012417\n",
      "The equality of positions with a relative threshold of 1e-4 is False\n",
      "WUHYIH_88 and WUHYIH_63 have energies -19260.28296292168 and -19260.28296292168\n",
      "The equality of positions with a relative threshold of 1e-4 is False\n",
      "COXZAS04_92 and COXZAS04_89 have energies -15814.53866311179 and -15814.53866311179\n",
      "The equality of positions with a relative threshold of 1e-4 is False\n",
      "FEHVUK_25 and FEHVUK_17 have energies -30333.073394810723 and -30333.073394810723\n",
      "The equality of positions with a relative threshold of 1e-4 is False\n",
      "ZEXJAP01_26 and ZEXJAP01_10 have energies -29484.332913500682 and -29484.332913500682\n",
      "The equality of positions with a relative threshold of 1e-4 is False\n",
      "ZZZUEU04_100 and ZZZUEU04_41 have energies -32508.38517148864 and -32508.38517148864\n",
      "The equality of positions with a relative threshold of 1e-4 is False\n",
      "ZZZUEU04_67 and ZZZUEU04_63 have energies -32508.638237359562 and -32508.638237359562\n",
      "The equality of positions with a relative threshold of 1e-4 is False\n",
      "GUHROQ_83 and GUHROQ_69 have energies -21827.51671101683 and -21827.51671101683\n",
      "The equality of positions with a relative threshold of 1e-4 is False\n",
      "CADBOB_79 and CADBOB_76 have energies -29908.41144811954 and -29908.41144811954\n",
      "The equality of positions with a relative threshold of 1e-4 is False\n",
      "PYMCOX_96 and PYMCOX_86 have energies -20574.674551670127 and -20574.674551670127\n",
      "The equality of positions with a relative threshold of 1e-4 is False\n",
      "WIFKEB_47 and WIFKEB_40 have energies -7718.526641644545 and -7718.526641644545\n",
      "The equality of positions with a relative threshold of 1e-4 is False\n",
      "THXMAM02_52 and EBUKUH_8 have energies -11529.367331903586 and -11529.367331903586\n",
      "The equality of positions with a relative threshold of 1e-4 is False\n",
      "THXMAM02_48 and EBUKUH_88 have energies -11528.76432763481 and -11528.76432763481\n",
      "The equality of positions with a relative threshold of 1e-4 is False\n",
      "KEDXEZ_79 and KEDXEZ_38 have energies -43966.96997929562 and -43966.96997929562\n",
      "The equality of positions with a relative threshold of 1e-4 is False\n",
      "KEDXEZ_93 and KEDXEZ_74 have energies -43966.27717745975 and -43966.27717745975\n",
      "The equality of positions with a relative threshold of 1e-4 is False\n",
      "CIWVIP_66 and CIWVIP_20 have energies -27659.767984894705 and -27659.767984894705\n",
      "The equality of positions with a relative threshold of 1e-4 is False\n",
      "CIWVIP_74 and CIWVIP_73 have energies -27659.200627538932 and -27659.200627538932\n",
      "The equality of positions with a relative threshold of 1e-4 is False\n",
      "PHTHAO01_36 and IFAYEV_9 have energies -12016.604549960792 and -12016.604549960792\n",
      "The equality of positions could not be tested. This is likely because there are differing numbers of atoms in the two frames (this should be the case for different crystals ONLY.)\n",
      "PHTHAO01_44 and IFAYEV_73 have energies -12016.34016415414 and -12016.34016415414\n",
      "The equality of positions could not be tested. This is likely because there are differing numbers of atoms in the two frames (this should be the case for different crystals ONLY.)\n",
      "COFHOW_18 and COFHOW_12 have energies -35236.81785207564 and -35236.81785207564\n",
      "The equality of positions with a relative threshold of 1e-4 is False\n",
      "COFHOW_60 and COFHOW_59 have energies -35236.59145336101 and -35236.59145336101\n",
      "The equality of positions with a relative threshold of 1e-4 is False\n",
      "TAHMUN_58 and TAHMUN_56 have energies -21915.020821042683 and -21915.020821042683\n",
      "The equality of positions with a relative threshold of 1e-4 is False\n",
      "BOGRUL_77 and BOGRUL_74 have energies -29439.536444753907 and -29439.536444753907\n",
      "The equality of positions with a relative threshold of 1e-4 is False\n",
      "LAGRAM_99 and LAGRAM_32 have energies -13766.124454439567 and -13766.124454439567\n",
      "The equality of positions with a relative threshold of 1e-4 is False\n",
      "CEDGAV_62 and CEDGAV_51 have energies -6534.9230324679875 and -6534.9230324679875\n",
      "The equality of positions with a relative threshold of 1e-4 is False\n",
      "CEDGAV_90 and CEDGAV_84 have energies -6534.955495649064 and -6534.955495649064\n",
      "The equality of positions with a relative threshold of 1e-4 is False\n",
      "KATVEJ_58 and KATVEJ_46 have energies -10583.609940057 and -10583.609940057\n",
      "The equality of positions with a relative threshold of 1e-4 is False\n",
      "IYAWAG_23 and IYAWAG_12 have energies -32229.56318141236 and -32229.56318141236\n",
      "The equality of positions with a relative threshold of 1e-4 is False\n",
      "IYAWAG_35 and IYAWAG_15 have energies -32228.978408770843 and -32228.978408770843\n",
      "The equality of positions with a relative threshold of 1e-4 is False\n",
      "IYAWAG_79 and IYAWAG_19 have energies -32229.203991143953 and -32229.203991143953\n",
      "The equality of positions with a relative threshold of 1e-4 is False\n",
      "YOVVIP_60 and YOVVIP_40 have energies -14648.597582310787 and -14648.597582310787\n",
      "The equality of positions with a relative threshold of 1e-4 is False\n",
      "TEDFEP_38 and TEDFEP_25 have energies -36224.18836170389 and -36224.18836170389\n",
      "The equality of positions with a relative threshold of 1e-4 is False\n",
      "TEDFEP_93 and TEDFEP_63 have energies -36223.73910175454 and -36223.73910175454\n",
      "The equality of positions with a relative threshold of 1e-4 is False\n",
      "UPANIJ_51 and UPANIJ_23 have energies -28597.32424657211 and -28597.32424657211\n",
      "The equality of positions with a relative threshold of 1e-4 is False\n",
      "DAYHIV_36 and DAYHIV_30 have energies -9746.013364035578 and -9746.013364035578\n",
      "The equality of positions with a relative threshold of 1e-4 is False\n",
      "KOYLIT_32 and KOYLIT_23 have energies -29263.278786795825 and -29263.278786795825\n",
      "The equality of positions with a relative threshold of 1e-4 is False\n",
      "KOYLIT_45 and KOYLIT_41 have energies -29262.87823522379 and -29262.87823522379\n",
      "The equality of positions with a relative threshold of 1e-4 is False\n",
      "VIHTUD_70 and VIHTUD_31 have energies -4848.805271679938 and -4848.805271679938\n",
      "The equality of positions with a relative threshold of 1e-4 is False\n",
      "AKIHIN_76 and AKIHIN_53 have energies -14779.68499595188 and -14779.68499595188\n",
      "The equality of positions with a relative threshold of 1e-4 is False\n",
      "IYINAF01_72 and IYINAF01_30 have energies -7867.9797258229755 and -7867.9797258229755\n",
      "The equality of positions with a relative threshold of 1e-4 is False\n",
      "FEBKAZ_86 and FEBKAZ_21 have energies -13391.276918967531 and -13391.276918967531\n",
      "The equality of positions with a relative threshold of 1e-4 is False\n",
      "LIBVIC_53 and LIBVIC_34 have energies -9752.86187073038 and -9752.86187073038\n",
      "The equality of positions with a relative threshold of 1e-4 is False\n",
      "TUQDAM_59 and TUQDAM_31 have energies -12087.34987609551 and -12087.34987609551\n",
      "The equality of positions with a relative threshold of 1e-4 is False\n",
      "WABNOF_34 and WABNOF_30 have energies -30805.1215176611 and -30805.1215176611\n",
      "The equality of positions with a relative threshold of 1e-4 is False\n",
      "LEFYUS_59 and LEFYUS_31 have energies -13356.379135367526 and -13356.379135367526\n",
      "The equality of positions with a relative threshold of 1e-4 is False\n",
      "XARYOE_50 and XARYOE_46 have energies -30520.15383651519 and -30520.15383651519\n",
      "The equality of positions with a relative threshold of 1e-4 is False\n",
      "XARYOE_83 and XARYOE_82 have energies -30520.017507481498 and -30520.017507481498\n",
      "The equality of positions with a relative threshold of 1e-4 is False\n",
      "FEXLAV_11 and FEXLAV_9 have energies -10992.708226841001 and -10992.708226841001\n",
      "The equality of positions with a relative threshold of 1e-4 is False\n",
      "ULEZES_82 and ULEZES_63 have energies -31582.240003679057 and -31582.240003679057\n",
      "The equality of positions with a relative threshold of 1e-4 is False\n",
      "PAHZOO_100 and PAHZOO_93 have energies -29966.832656820094 and -29966.832656820094\n",
      "The equality of positions with a relative threshold of 1e-4 is False\n",
      "ANONIN11_72 and ANONIN11_71 have energies -31551.040791388255 and -31551.040791388255\n",
      "The equality of positions with a relative threshold of 1e-4 is False\n",
      "QIWJEM_86 and QIWJEM_48 have energies -14541.550147472139 and -14541.550147472139\n",
      "The equality of positions with a relative threshold of 1e-4 is False\n",
      "GAQSEY_84 and GAQSEY_57 have energies -8954.584003017033 and -8954.584003017033\n",
      "The equality of positions with a relative threshold of 1e-4 is False\n",
      "SADRAS_66 and SADRAS_40 have energies -31047.00623090882 and -31047.00623090882\n",
      "The equality of positions with a relative threshold of 1e-4 is False\n",
      "PATTAF_66 and PATTAF_22 have energies -31578.331904713286 and -31578.331904713286\n",
      "The equality of positions with a relative threshold of 1e-4 is False\n",
      "QOTWUR_97 and QOTWUR_90 have energies -16658.253392282262 and -16658.253392282262\n",
      "The equality of positions with a relative threshold of 1e-4 is False\n",
      "WINCUR01_34 and WINCUR01_17 have energies -8465.529010087863 and -8465.529010087863\n",
      "The equality of positions with a relative threshold of 1e-4 is False\n",
      "EXIGOI_92 and EXIGOI_24 have energies -36976.607890833795 and -36976.607890833795\n",
      "The equality of positions with a relative threshold of 1e-4 is False\n",
      "FUXWIF_85 and FUXWIF_83 have energies -8467.56828562534 and -8467.56828562534\n",
      "The equality of positions with a relative threshold of 1e-4 is False\n",
      "LUKCIF_80 and LUKCIF_19 have energies -20561.56144015775 and -20561.56144015775\n",
      "The equality of positions with a relative threshold of 1e-4 is False\n",
      "GADZAN_72 and GADZAN_62 have energies -31276.5995620173 and -31276.5995620173\n",
      "The equality of positions with a relative threshold of 1e-4 is False\n",
      "PACCEB_82 and PACCEB_55 have energies -33948.21160750886 and -33948.21160750886\n",
      "The equality of positions with a relative threshold of 1e-4 is False\n",
      "AMHPYR_72 and AMHPYR_40 have energies -17795.99406415149 and -17795.99406415149\n",
      "The equality of positions with a relative threshold of 1e-4 is False\n",
      "SAXHEH_80 and SAXHEH_61 have energies -17416.157076526102 and -17416.157076526102\n",
      "The equality of positions with a relative threshold of 1e-4 is False\n",
      "HACMUT_86 and HACMUT_73 have energies -11939.936611682237 and -11939.936611682237\n",
      "The equality of positions with a relative threshold of 1e-4 is False\n",
      "FOYSUJ_76 and FOYSUJ_17 have energies -25753.7307304792 and -25753.7307304792\n",
      "The equality of positions with a relative threshold of 1e-4 is False\n",
      "JIPFAQ_88 and JIPFAQ_58 have energies -15133.522159267151 and -15133.522159267151\n",
      "The equality of positions with a relative threshold of 1e-4 is False\n",
      "PUYROQ_30 and PUYROQ_29 have energies -26987.969310158518 and -26987.969310158518\n",
      "The equality of positions with a relative threshold of 1e-4 is False\n",
      "PUYROQ_73 and PUYROQ_32 have energies -26987.845035767925 and -26987.845035767925\n",
      "The equality of positions with a relative threshold of 1e-4 is False\n",
      "XAYMIT_56 and XAYMIT_53 have energies -12716.912373991277 and -12716.912373991277\n",
      "The equality of positions with a relative threshold of 1e-4 is False\n",
      "AFEXUF_73 and AFEXUF_58 have energies -15949.204183265252 and -15949.204183265252\n",
      "The equality of positions with a relative threshold of 1e-4 is False\n",
      "PARBAC04_28 and PARBAC04_24 have energies -11864.805953329684 and -11864.805953329684\n",
      "The equality of positions with a relative threshold of 1e-4 is False\n",
      "QOBHAS_72 and QOBHAS_50 have energies -3230.3875022009875 and -3230.3875022009875\n",
      "The equality of positions with a relative threshold of 1e-4 is False\n",
      "KUPHIM01_64 and KUPHIM01_62 have energies -18679.850265035755 and -18679.850265035755\n",
      "The equality of positions with a relative threshold of 1e-4 is False\n",
      "BICVIS01_95 and BICVIS01_67 have energies -13302.000368235405 and -13302.000368235405\n",
      "The equality of positions with a relative threshold of 1e-4 is False\n",
      "CAWRAU_46 and CAWRAU_22 have energies -28735.217118498564 and -28735.217118498564\n",
      "The equality of positions with a relative threshold of 1e-4 is False\n",
      "CAWRAU_63 and CAWRAU_48 have energies -28734.933031649914 and -28734.933031649914\n",
      "The equality of positions with a relative threshold of 1e-4 is False\n",
      "GAFWIV_26 and GAFWIV_10 have energies -28607.02837032349 and -28607.02837032349\n",
      "The equality of positions with a relative threshold of 1e-4 is False\n",
      "BACRAA_88 and BACRAA_19 have energies -26597.14757662935 and -26597.14757662935\n",
      "The equality of positions with a relative threshold of 1e-4 is False\n",
      "ACETSC10_68 and ACETSC10_44 have energies -9936.436751472143 and -9936.436751472143\n",
      "The equality of positions with a relative threshold of 1e-4 is False\n",
      "NICGEL_98 and NICGEL_24 have energies -9054.067598299074 and -9054.067598299074\n",
      "The equality of positions with a relative threshold of 1e-4 is False\n",
      "HTMXTC10_95 and MEPYRZ_20 have energies -16003.695469470089 and -16003.695469470089\n",
      "The equality of positions could not be tested. This is likely because there are differing numbers of atoms in the two frames (this should be the case for different crystals ONLY.)\n",
      "NABREN_70 and NABREN_24 have energies -14928.391699079399 and -14928.391699079399\n",
      "The equality of positions with a relative threshold of 1e-4 is False\n",
      "MPYAZO10_65 and MPYAZO10_46 have energies -8205.144991196123 and -8205.144991196123\n",
      "The equality of positions with a relative threshold of 1e-4 is False\n",
      "RIWJEM_76 and RIWJEM_37 have energies -36384.85498510252 and -36384.85498510252\n",
      "The equality of positions with a relative threshold of 1e-4 is False\n",
      "EQICEN_69 and EQICEN_42 have energies -20029.92599195817 and -20029.92599195817\n",
      "The equality of positions with a relative threshold of 1e-4 is False\n",
      "APENUG_86 and APENUG_67 have energies -28724.541004111776 and -28724.541004111776\n",
      "The equality of positions with a relative threshold of 1e-4 is False\n",
      "APENUG_73 and APENUG_68 have energies -28724.494472645187 and -28724.494472645187\n",
      "The equality of positions with a relative threshold of 1e-4 is False\n",
      "GLYCIN62_34 and GLYCIN81_57 have energies -3818.192580345904 and -3818.192580345904\n",
      "The equality of positions with a relative threshold of 1e-4 is False\n",
      "NAMPIB_89 and NAMPIB_83 have energies -36540.1544351269 and -36540.1544351269\n",
      "The equality of positions with a relative threshold of 1e-4 is False\n",
      "RIBVUU_99 and RIBVUU_50 have energies -14389.210670161858 and -14389.210670161858\n",
      "The equality of positions with a relative threshold of 1e-4 is False\n",
      "LEGSIB_93 and LEGSIB_70 have energies -6446.898178187098 and -6446.898178187098\n",
      "The equality of positions with a relative threshold of 1e-4 is False\n",
      "SUFHUY_50 and SUFHUY_49 have energies -30037.206738043307 and -30037.206738043307\n",
      "The equality of positions with a relative threshold of 1e-4 is False\n",
      "SUFHUY_95 and SUFHUY_72 have energies -30037.42415700123 and -30037.42415700123\n",
      "The equality of positions with a relative threshold of 1e-4 is False\n",
      "ILIQEZ_99 and ILIQEZ_86 have energies -13777.417532535108 and -13777.417532535108\n",
      "The equality of positions with a relative threshold of 1e-4 is False\n",
      "HEWKAW_36 and HEWKAW_30 have energies -33541.0239952617 and -33541.0239952617\n",
      "The equality of positions with a relative threshold of 1e-4 is False\n",
      "CULPOO01_38 and CULPOO01_21 have energies -13325.28250999429 and -13325.28250999429\n",
      "The equality of positions with a relative threshold of 1e-4 is False\n",
      "TBFRAC01_26 and TBFRAC01_16 have energies -23047.317284109653 and -23047.317284109653\n",
      "The equality of positions with a relative threshold of 1e-4 is False\n",
      "YUQVOW_96 and YUQVOW_35 have energies -16260.222628432071 and -16260.222628432071\n",
      "The equality of positions with a relative threshold of 1e-4 is False\n",
      "PUHJAE_72 and PUHJAE_43 have energies -37227.56460738328 and -37227.56460738328\n",
      "The equality of positions with a relative threshold of 1e-4 is False\n",
      "TIQROC_94 and TIQROC_90 have energies -35265.30000767704 and -35265.30000767704\n",
      "The equality of positions with a relative threshold of 1e-4 is False\n",
      "VAVVET_94 and VAVVET_50 have energies -8015.336281712054 and -8015.336281712054\n",
      "The equality of positions with a relative threshold of 1e-4 is False\n",
      "SICTOO_69 and RUWFIY_75 have energies -19149.11417350109 and -19149.11417350109\n",
      "The equality of positions could not be tested. This is likely because there are differing numbers of atoms in the two frames (this should be the case for different crystals ONLY.)\n",
      "DUJQOP_89 and DUJQOP_66 have energies -16859.918537144204 and -16859.918537144204\n",
      "The equality of positions with a relative threshold of 1e-4 is False\n",
      "IMUWOD_98 and IMUWOD_44 have energies -33746.74423498562 and -33746.74423498562\n",
      "The equality of positions with a relative threshold of 1e-4 is False\n",
      "DODGEI_99 and DODGEI_37 have energies -13572.053272136287 and -13572.053272136287\n",
      "The equality of positions with a relative threshold of 1e-4 is False\n",
      "HEQWOR_94 and HEQWOR_44 have energies -8797.133357032899 and -8797.133357032899\n",
      "The equality of positions with a relative threshold of 1e-4 is False\n",
      "FIYNIM_97 and FIYNIM_85 have energies -15572.062700913164 and -15572.062700913164\n",
      "The equality of positions with a relative threshold of 1e-4 is False\n",
      "MEUREA01_70 and MEUREA01_65 have energies -6970.31622380988 and -6970.31622380988\n",
      "The equality of positions with a relative threshold of 1e-4 is False\n",
      "BOPXOT_6 and TCTDTO20_86 have energies -15761.401796332677 and -15761.401796332677\n",
      "The equality of positions could not be tested. This is likely because there are differing numbers of atoms in the two frames (this should be the case for different crystals ONLY.)\n",
      "PANVUV_86 and PANVUV_13 have energies -9845.695357518143 and -9845.695357518143\n",
      "The equality of positions with a relative threshold of 1e-4 is False\n",
      "XOCZUL_21 and XOCZUL_20 have energies -54008.43570677767 and -54008.43570677767\n",
      "The equality of positions with a relative threshold of 1e-4 is False\n",
      "XOCZUL_69 and XOCZUL_24 have energies -54008.31652091588 and -54008.31652091588\n",
      "The equality of positions with a relative threshold of 1e-4 is False\n",
      "DUCYOQ_53 and DUCYOQ_30 have energies -10240.49906892056 and -10240.49906892056\n",
      "The equality of positions with a relative threshold of 1e-4 is False\n",
      "TILSIS_52 and TILSIS_8 have energies -11861.162457861637 and -11861.162457861637\n",
      "The equality of positions with a relative threshold of 1e-4 is False\n",
      "GPHXAM_80 and GPHXAM_32 have energies -9846.804820065368 and -9846.804820065368\n",
      "The equality of positions with a relative threshold of 1e-4 is False\n",
      "KOPYIX_89 and KOPYIX_53 have energies -13362.363109182217 and -13362.363109182217\n",
      "The equality of positions with a relative threshold of 1e-4 is False\n",
      "YUYCOK_44 and YUYCOK_32 have energies -7738.418952456749 and -7738.418952456749\n",
      "The equality of positions with a relative threshold of 1e-4 is False\n",
      "OVEQAJ_45 and OVEQAJ_40 have energies -19940.56652813909 and -19940.56652813909\n",
      "The equality of positions with a relative threshold of 1e-4 is False\n",
      "VUWDUO_57 and VUWDUO_52 have energies -21508.48769700277 and -21508.48769700277\n",
      "The equality of positions with a relative threshold of 1e-4 is False\n",
      "RUVSEG_91 and RUVSEG_34 have energies -19141.77779390309 and -19141.77779390309\n",
      "The equality of positions with a relative threshold of 1e-4 is False\n",
      "ROGVIU_82 and ROGVIU_75 have energies -19217.163640614515 and -19217.163640614515\n",
      "The equality of positions with a relative threshold of 1e-4 is False\n",
      "KOBXUU_91 and KOBXUU_47 have energies -15918.137027820854 and -15918.137027820854\n",
      "The equality of positions with a relative threshold of 1e-4 is False\n",
      "QEXBAX_89 and QEXBAX_40 have energies -14194.730800082734 and -14194.730800082734\n",
      "The equality of positions with a relative threshold of 1e-4 is False\n",
      "MFZCHZ_24 and MFZCHZ_15 have energies -13529.84139506175 and -13529.84139506175\n",
      "The equality of positions with a relative threshold of 1e-4 is False\n",
      "VOPJEP_92 and VOPJEP_86 have energies -10190.818700978853 and -10190.818700978853\n",
      "The equality of positions with a relative threshold of 1e-4 is False\n",
      "IJETOG02_69 and IJETOG02_27 have energies -24822.493224273472 and -24822.493224273472\n",
      "The equality of positions with a relative threshold of 1e-4 is False\n",
      "QATTIO_3 and QATTIO_1 have energies -7665.561016104755 and -7665.561016104755\n",
      "The equality of positions with a relative threshold of 1e-4 is False\n",
      "AZASER11_63 and AZASER11_62 have energies -17223.133859042275 and -17223.133859042275\n",
      "The equality of positions with a relative threshold of 1e-4 is False\n",
      "ZOXHID_100 and ZOXHID_80 have energies -16044.702589730736 and -16044.702589730736\n",
      "The equality of positions with a relative threshold of 1e-4 is False\n",
      "ALOPUR_83 and ALOPUR_35 have energies -11765.41280868796 and -11765.41280868796\n",
      "The equality of positions with a relative threshold of 1e-4 is False\n",
      "PUYTEI_76 and PUYTEI_74 have energies -28705.213302305565 and -28705.213302305565\n",
      "The equality of positions with a relative threshold of 1e-4 is False\n",
      "CERMOB_100 and CERMOB_14 have energies -7844.147669205442 and -7844.147669205442\n",
      "The equality of positions with a relative threshold of 1e-4 is False\n",
      "ADPRLA_65 and ADPRLA_36 have energies -30712.043890336354 and -30712.043890336354\n",
      "The equality of positions with a relative threshold of 1e-4 is False\n",
      "ADPRLA_87 and ADPRLA_73 have energies -30711.67381551436 and -30711.67381551436\n",
      "The equality of positions with a relative threshold of 1e-4 is False\n",
      "VALFEW_49 and VALFEW_43 have energies -12848.996105245049 and -12848.996105245049\n",
      "The equality of positions with a relative threshold of 1e-4 is False\n",
      "DOMQUS_90 and DOMQUS_39 have energies -18457.85277407143 and -18457.85277407143\n",
      "The equality of positions with a relative threshold of 1e-4 is False\n",
      "POWBAE_74 and POWBAE_50 have energies -34505.510819426534 and -34505.510819426534\n",
      "The equality of positions with a relative threshold of 1e-4 is False\n",
      "TAPBET_100 and TAPBET_92 have energies -29180.70910750494 and -29180.70910750494\n",
      "The equality of positions with a relative threshold of 1e-4 is False\n",
      "SAVKAB01_47 and SAVKAB01_32 have energies -21223.84432113101 and -21223.84432113101\n",
      "The equality of positions with a relative threshold of 1e-4 is False\n",
      "AZENOJ_35 and AZENOJ_14 have energies -30758.91958093227 and -30758.91958093227\n",
      "The equality of positions with a relative threshold of 1e-4 is False\n",
      "AZENOJ_95 and AZENOJ_79 have energies -30757.847180290017 and -30757.847180290017\n",
      "The equality of positions with a relative threshold of 1e-4 is False\n",
      "SALCAN05_55 and SALCAN05_11 have energies -12570.144862930998 and -12570.144862930998\n",
      "The equality of positions with a relative threshold of 1e-4 is False\n",
      "OMIWIQ_62 and OMIWIQ_37 have energies -25148.60596018537 and -25148.60596018537\n",
      "The equality of positions with a relative threshold of 1e-4 is False\n",
      "FORTCH_97 and FORTCH_48 have energies -17331.5096448008 and -17331.5096448008\n",
      "The equality of positions with a relative threshold of 1e-4 is False\n",
      "COKJER_71 and COKJER_19 have energies -35580.91559847452 and -35580.91559847452\n",
      "The equality of positions with a relative threshold of 1e-4 is False\n",
      "COKJER_72 and COKJER_23 have energies -35580.89382936734 and -35580.89382936734\n",
      "The equality of positions with a relative threshold of 1e-4 is False\n",
      "COKJER_100 and COKJER_97 have energies -35581.49275192852 and -35581.49275192852\n",
      "The equality of positions with a relative threshold of 1e-4 is False\n",
      "TZANDT_60 and WOPJUI_75 have energies -16566.878898268817 and -16566.878898268817\n",
      "The equality of positions could not be tested. This is likely because there are differing numbers of atoms in the two frames (this should be the case for different crystals ONLY.)\n",
      "NALYOQ_34 and YIHLEI_78 have energies -16655.194696667113 and -16655.194696667113\n",
      "The equality of positions could not be tested. This is likely because there are differing numbers of atoms in the two frames (this should be the case for different crystals ONLY.)\n",
      "ROGQEK_41 and ROGQEK_19 have energies -33925.404113920566 and -33925.404113920566\n",
      "The equality of positions with a relative threshold of 1e-4 is False\n",
      "ROGQEK_76 and ROGQEK_49 have energies -33925.15431341572 and -33925.15431341572\n",
      "The equality of positions with a relative threshold of 1e-4 is False\n",
      "FADTIQ_96 and FADTIQ_46 have energies -20279.15990136575 and -20279.15990136575\n",
      "The equality of positions with a relative threshold of 1e-4 is False\n",
      "RIXLUH_56 and RIXLUH_14 have energies -7990.638277222442 and -7990.638277222442\n",
      "The equality of positions with a relative threshold of 1e-4 is False\n",
      "DOSCUK_75 and DOSCUK_48 have energies -8067.72831848914 and -8067.72831848914\n",
      "The equality of positions with a relative threshold of 1e-4 is False\n",
      "CAKREM_80 and VUWSUB_86 have energies -9907.115859382637 and -9907.115859382637\n",
      "The equality of positions with a relative threshold of 1e-4 is False\n",
      "KETVEK03_51 and KETVEK03_42 have energies -5264.401419264904 and -5264.401419264904\n",
      "The equality of positions with a relative threshold of 1e-4 is False\n",
      "ATUWAN_43 and ATUWAN_28 have energies -29342.366769507753 and -29342.366769507753\n",
      "The equality of positions with a relative threshold of 1e-4 is False\n",
      "PAGPOF_87 and PAGPOF_28 have energies -29889.423616499116 and -29889.423616499116\n",
      "The equality of positions with a relative threshold of 1e-4 is False\n",
      "PAGPOF_66 and PAGPOF_60 have energies -29889.453276907643 and -29889.453276907643\n",
      "The equality of positions with a relative threshold of 1e-4 is False\n",
      "ICRFRA10_72 and ICRFRA10_67 have energies -11531.917610020639 and -11531.917610020639\n",
      "The equality of positions with a relative threshold of 1e-4 is False\n",
      "TMENBZ02_91 and TMENBZ02_52 have energies -10464.39700294135 and -10464.39700294135\n",
      "The equality of positions with a relative threshold of 1e-4 is False\n",
      "EXIHAV_100 and EXIHAV_77 have energies -18243.03008150709 and -18243.03008150709\n",
      "The equality of positions with a relative threshold of 1e-4 is False\n",
      "IYUCOU_50 and IYUCOU_15 have energies -6586.104217081177 and -6586.104217081177\n",
      "The equality of positions with a relative threshold of 1e-4 is False\n",
      "NICGAH_66 and NICGAH_41 have energies -7126.685271703974 and -7126.685271703974\n",
      "The equality of positions with a relative threshold of 1e-4 is False\n",
      "CUKCAM22_94 and CUKCAM22_45 have energies -42496.9772751201 and -42496.9772751201\n",
      "The equality of positions with a relative threshold of 1e-4 is False\n",
      "OKUXUP_47 and OKUXUP_46 have energies -19696.631382686453 and -19696.631382686453\n",
      "The equality of positions with a relative threshold of 1e-4 is False\n",
      "NBONAN10_42 and NBONAN10_18 have energies -12892.155455498036 and -12892.155455498036\n",
      "The equality of positions with a relative threshold of 1e-4 is False\n",
      "ISEDOB_85 and ISEDOB_64 have energies -30729.14951052757 and -30729.14951052757\n",
      "The equality of positions with a relative threshold of 1e-4 is False\n",
      "QEFLAO_97 and NEXJUW_54 have energies -6715.327569286175 and -6715.327569286175\n",
      "The equality of positions could not be tested. This is likely because there are differing numbers of atoms in the two frames (this should be the case for different crystals ONLY.)\n",
      "NEXJUW_76 and NEXJUW_66 have energies -6715.331406091315 and -6715.331406091315\n",
      "The equality of positions with a relative threshold of 1e-4 is False\n",
      "PHGLYA_73 and PHGLYA_25 have energies -7647.646537525024 and -7647.646537525024\n",
      "The equality of positions with a relative threshold of 1e-4 is False\n",
      "MULPEO_54 and MULPEO_42 have energies -17604.238080819145 and -17604.238080819145\n",
      "The equality of positions with a relative threshold of 1e-4 is False\n",
      "MIOZPO01_87 and MIOZPO01_73 have energies -7737.4023895743985 and -7737.4023895743985\n",
      "The equality of positions with a relative threshold of 1e-4 is False\n",
      "OHOLOO_60 and OHOLOO_44 have energies -29786.147434576258 and -29786.147434576258\n",
      "The equality of positions with a relative threshold of 1e-4 is False\n",
      "RAJDEM_99 and RAJDEM_18 have energies -6229.236195396562 and -6229.236195396562\n",
      "The equality of positions with a relative threshold of 1e-4 is False\n",
      "DIYLII_87 and DIYLII_44 have energies -8352.772708526461 and -8352.772708526461\n",
      "The equality of positions with a relative threshold of 1e-4 is False\n",
      "QACXUP_63 and QACXUP_35 have energies -10466.517640516899 and -10466.517640516899\n",
      "The equality of positions with a relative threshold of 1e-4 is False\n",
      "CIKRET_60 and CIKRET_13 have energies -13845.243022747076 and -13845.243022747076\n",
      "The equality of positions with a relative threshold of 1e-4 is False\n",
      "HACGAT_89 and HACGAT_45 have energies -25020.10294773683 and -25020.10294773683\n",
      "The equality of positions with a relative threshold of 1e-4 is False\n",
      "VUWKII_89 and VUWKII_82 have energies -17749.80254938273 and -17749.80254938273\n",
      "The equality of positions with a relative threshold of 1e-4 is False\n",
      "FELCIK_64 and FELCIK_42 have energies -11954.819932567398 and -11954.819932567398\n",
      "The equality of positions with a relative threshold of 1e-4 is False\n",
      "YUGFAJ_29 and YUGFAJ_23 have energies -27875.528681075873 and -27875.528681075873\n",
      "The equality of positions with a relative threshold of 1e-4 is False\n",
      "YUGFAJ_83 and YUGFAJ_81 have energies -27874.807035172988 and -27874.807035172988\n",
      "The equality of positions with a relative threshold of 1e-4 is False\n",
      "VIGTUA_13 and VIGTUA_10 have energies -11014.394965157726 and -11014.394965157726\n",
      "The equality of positions with a relative threshold of 1e-4 is False\n",
      "BZTZAD01_91 and BZTZAD01_11 have energies -29096.261298492445 and -29096.261298492445\n",
      "The equality of positions with a relative threshold of 1e-4 is False\n",
      "BZTZAD01_83 and BZTZAD01_19 have energies -29095.57910909631 and -29095.57910909631\n",
      "The equality of positions with a relative threshold of 1e-4 is False\n",
      "UDECAK_59 and UDECAK_38 have energies -14193.010822924756 and -14193.010822924756\n",
      "The equality of positions with a relative threshold of 1e-4 is False\n",
      "BUDXII_93 and BUDXII_12 have energies -12213.651814117487 and -12213.651814117487\n",
      "The equality of positions with a relative threshold of 1e-4 is False\n",
      "WOGFAZ_42 and WOGFAZ_15 have energies -16400.907687679075 and -16400.907687679075\n",
      "The equality of positions with a relative threshold of 1e-4 is False\n",
      "REZMOY_97 and REZMOY_17 have energies -17445.26354290993 and -17445.26354290993\n",
      "The equality of positions with a relative threshold of 1e-4 is False\n",
      "WAHYIP_58 and WAHYIP_47 have energies -14366.511804418371 and -14366.511804418371\n",
      "The equality of positions with a relative threshold of 1e-4 is False\n",
      "FUMAAC01_31 and FUMAAC01_22 have energies -2952.2985868088545 and -2952.2985868088545\n",
      "The equality of positions with a relative threshold of 1e-4 is False\n",
      "SIHHIA_96 and SIHHIA_68 have energies -16741.572881258442 and -16741.572881258442\n",
      "The equality of positions with a relative threshold of 1e-4 is False\n",
      "JABYOA_22 and JABYOA_20 have energies -11524.05730243568 and -11524.05730243568\n",
      "The equality of positions with a relative threshold of 1e-4 is False\n",
      "OCESEW_82 and OCESEW_70 have energies -12386.93186638465 and -12386.93186638465\n",
      "The equality of positions with a relative threshold of 1e-4 is False\n",
      "VUYVES_82 and VUYVES_34 have energies -10884.298045893138 and -10884.298045893138\n",
      "The equality of positions with a relative threshold of 1e-4 is False\n",
      "NALYOQ_81 and NALYOQ_63 have energies -16654.887235239636 and -16654.887235239636\n",
      "The equality of positions with a relative threshold of 1e-4 is False\n",
      "XIXQUR_15 and XIXQUR_13 have energies -12121.4036714103 and -12121.4036714103\n",
      "The equality of positions with a relative threshold of 1e-4 is False\n",
      "DACLOL_94 and DACLOL_49 have energies -31555.397878189535 and -31555.397878189535\n",
      "The equality of positions with a relative threshold of 1e-4 is False\n",
      "HEXFUL_88 and HEXFUL_24 have energies -12798.97322761331 and -12798.97322761331\n",
      "The equality of positions with a relative threshold of 1e-4 is False\n",
      "HEXFUL_85 and HEXFUL_56 have energies -12798.948873424657 and -12798.948873424657\n",
      "The equality of positions with a relative threshold of 1e-4 is False\n",
      "GAVWIM_88 and GAVWIM_11 have energies -4543.185347401694 and -4543.185347401694\n",
      "The equality of positions with a relative threshold of 1e-4 is False\n",
      "CEYDUF_91 and CEYDUF_33 have energies -51813.1763529667 and -51813.1763529667\n",
      "The equality of positions with a relative threshold of 1e-4 is False\n",
      "CEYDUF_76 and CEYDUF_40 have energies -51813.41907851171 and -51813.41907851171\n",
      "The equality of positions with a relative threshold of 1e-4 is False\n"
     ]
    }
   ],
   "source": [
    "for key in non_unique_frames.keys():\n",
    "    print(non_unique_frames[key][1].info['name']+' and '+non_unique_frames[key][0].info['name']\n",
    "         + ' have energies '+ str(non_unique_frames[key][1].info['energy'])+ ' and '\n",
    "         + str(non_unique_frames[key][0].info['energy']))\n",
    "    try:\n",
    "        print('The equality of positions with a relative threshold of 1e-4 is', \n",
    "              np.allclose(non_unique_frames[key][0].get_array('positions'), \n",
    "                          non_unique_frames[key][1].get_array('positions'), rtol=1e-4))\n",
    "    except:\n",
    "        print('The equality of positions could not be tested. This is likely because there are differing numbers'\n",
    "             ' of atoms in the two frames (this should be the case for different crystals ONLY.)')"
   ]
  },
  {
   "cell_type": "code",
   "execution_count": 89,
   "id": "12c61f63",
   "metadata": {},
   "outputs": [],
   "source": [
    "#Create xyz files in folders for relax set (change the write_xyz function if you use this for the md set too!)\n",
    "for frm in full_dataset['METHOL04']:\n",
    "    name = frm.info['name']\n",
    "    if name == 'METHOL04_23' or name == 'METHOL04_52':\n",
    "        makedirs('duplicates_check/data/'+name, exist_ok=True)\n",
    "        write_xyz('duplicates_check/data/'+name+'/'+name+'.xyz', frm)\n",
    "        input_data[\"SYSTEM\"][\"nbnd\"] = get_nbnd(frm)\n",
    "        write('duplicates_check/data/'+name+'/'+name+'.espresso.in', frm, format='espresso-in', \n",
    "              input_data=input_data, pseudopotentials=pseudopotentials) #gamma-point only"
   ]
  },
  {
   "cell_type": "code",
   "execution_count": 36,
   "id": "c6361f7b",
   "metadata": {},
   "outputs": [],
   "source": [
    "for frm in full_dataset['WOLNOC']:\n",
    "    name = frm.info['name']\n",
    "    if name == 'WOLNOC_89' or name=='GLUTAM09_99':\n",
    "        makedirs('duplicates_check/data/'+name, exist_ok=True)\n",
    "        write_xyz('duplicates_check/data/'+name+'/'+name+'.xyz', frm)\n",
    "        input_data[\"SYSTEM\"][\"nbnd\"] = get_nbnd(frm)\n",
    "        write('duplicates_check/data/'+name+'/'+name+'.espresso.in', frm, format='espresso-in', \n",
    "              kpts=frm.info['kpts'], input_data=input_data, pseudopotentials=pseudopotentials)"
   ]
  },
  {
   "cell_type": "markdown",
   "id": "b296775c",
   "metadata": {},
   "source": [
    "### Check Aditi's dataset\n",
    "Check if Aditi's dataset contains unique energies, and if any energies in her dataset correspond to non-unique energies in the original dataset."
   ]
  },
  {
   "cell_type": "code",
   "execution_count": 194,
   "id": "dbcbc29c",
   "metadata": {},
   "outputs": [],
   "source": [
    "aditi_dataset = read('raw_data/CSD-10k-hcno_4_md_1_geop_subselection_w_dftb.xyz', ':')"
   ]
  },
  {
   "cell_type": "code",
   "execution_count": 257,
   "id": "349a3986",
   "metadata": {},
   "outputs": [
    {
     "name": "stdout",
     "output_type": "stream",
     "text": [
      "11190 out of 11190 frames have unique energies.\n"
     ]
    }
   ],
   "source": [
    "energies_train = []\n",
    "for frm in aditi_dataset:\n",
    "    energies_train.append(frm.info['DFT_energy'])\n",
    "print(f\"{len(np.unique(energies_train))} out of {len(energies_train)} frames have unique energies.\")"
   ]
  },
  {
   "cell_type": "markdown",
   "id": "fa05eba1",
   "metadata": {},
   "source": [
    "From above, it appears that the dataset Aditi used does not contain any duplicate energies. However, the frames she did use might originate from a duplicate in the original dataset, meaning that likely the energy and/or forces attributed to that frame are incorrect."
   ]
  },
  {
   "cell_type": "code",
   "execution_count": 255,
   "id": "8854d609",
   "metadata": {},
   "outputs": [
    {
     "data": {
      "application/vnd.jupyter.widget-view+json": {
       "model_id": "",
       "version_major": 2,
       "version_minor": 0
      },
      "text/plain": [
       "  0%|          | 0/11190 [00:00<?, ?it/s]"
      ]
     },
     "metadata": {},
     "output_type": "display_data"
    },
    {
     "name": "stdout",
     "output_type": "stream",
     "text": [
      "Found 44 frames that originate from a duplicate.\n"
     ]
    }
   ],
   "source": [
    "#Get indices of frames in full dataset that correspond to an energy in Aditi's dataset,\n",
    "# ONLY if more than one frame in the original dataset is matched\n",
    "# I.e. find which frames of Aditi's originate from a frame with a 'duplicate' energy\n",
    "nz_indices = []\n",
    "for frm in tqdm(aditi_dataset, leave=False):\n",
    "    if len(np.nonzero(energies == frm.info['DFT_energy'])[0]) > 1:\n",
    "        nz_indices.extend(np.nonzero(energies == frm.info['DFT_energy']))\n",
    "print(f\"Found {len(nz_indices)} frames that originate from a duplicate.\")"
   ]
  },
  {
   "cell_type": "code",
   "execution_count": 240,
   "id": "51645933",
   "metadata": {},
   "outputs": [
    {
     "name": "stdout",
     "output_type": "stream",
     "text": [
      "Duplicates  1 :\n",
      "Energy: -36403.600363291764\n",
      "Position (atom 0): [ 0.0727625 -0.122189   1.63255  ]\n",
      "Force (atom 0): [0.8367501  0.42186404 1.16173754]\n",
      "Cell: [12.0015 17.6425  4.5555 90.     90.     90.    ]\n",
      "\n",
      "Energy: -36403.600363291764\n",
      "Position (atom 0): [ 0.0700572 -0.078693   1.76939  ]\n",
      "Force (atom 0): [-0.95346275 -0.94057639  0.1446225 ]\n",
      "Cell: [12.0015 17.6425  4.5555 90.     90.     90.    ]\n",
      "\n",
      "\n",
      "Duplicates  2 :\n",
      "Energy: -8919.005798760856\n",
      "Position (atom 0): [0.936449 2.87711  0.261702]\n",
      "Force (atom 0): [ 3.2673939  -1.56229484  0.55597021]\n",
      "Cell: [10.601  3.647 10.008 90.    90.    90.   ]\n",
      "\n",
      "Energy: -8919.005798760856\n",
      "Position (atom 0): [1.03775  2.87369  0.284816]\n",
      "Force (atom 0): [ 0.46330816  0.11447477 -0.80207106]\n",
      "Cell: [10.601  3.647 10.008 90.    90.    90.   ]\n",
      "\n",
      "\n",
      "Duplicates  3 :\n",
      "Energy: -4553.054263294398\n",
      "Position (atom 0): [-1.03334  3.25272  5.98839]\n",
      "Force (atom 0): [0.82332894 0.17965429 0.30461608]\n",
      "Cell: [  8.227   8.769   8.92  112.535  93.38  103.536]\n",
      "\n",
      "Energy: -4553.054263294398\n",
      "Position (atom 0): [-1.33523  3.19573  6.14513]\n",
      "Force (atom 0): [ 0.15512597 -0.67402498 -0.6201398 ]\n",
      "Cell: [  8.227   8.769   8.92  112.535  93.38  103.536]\n",
      "\n",
      "\n",
      "Duplicates  4 :\n",
      "Energy: -16937.82037562888\n",
      "Position (atom 0): [1.77022 2.71895 4.49686]\n",
      "Force (atom 0): [ 0.24441575 -2.21205375 -0.6668516 ]\n",
      "Cell: [ 8.09   7.929 17.518 90.    90.    90.   ]\n",
      "\n",
      "Energy: -16937.82037562888\n",
      "Position (atom 0): [1.70809 2.93603 4.56918]\n",
      "Force (atom 0): [ 1.12037877  0.15129091 -0.24096687]\n",
      "Cell: [ 8.09   7.929 17.518 90.    90.    90.   ]\n",
      "\n",
      "\n",
      "Duplicates  5 :\n",
      "Energy: -10840.725436351799\n",
      "Position (atom 0): [ 6.06386 10.62     7.86902]\n",
      "Force (atom 0): [ 0.288504    0.66716528 -0.08057015]\n",
      "Cell: [ 7.1412  9.539  12.817  72.51   85.21   67.389 ]\n",
      "\n",
      "Energy: -10840.725436351799\n",
      "Position (atom 0): [ 5.9985  10.8544   7.98204]\n",
      "Force (atom 0): [ 1.25773739 -0.62108596 -0.7430231 ]\n",
      "Cell: [ 7.1412  9.539  12.817  72.51   85.21   67.389 ]\n",
      "\n",
      "\n",
      "Duplicates  6 :\n",
      "Energy: -13759.11107396929\n",
      "Position (atom 0): [5.90976 1.31985 5.4339 ]\n",
      "Force (atom 0): [-0.88548793  0.53342163 -0.41284101]\n",
      "Cell: [ 13.7397   7.2685   9.804   90.     100.195   90.    ]\n",
      "\n",
      "Energy: -13759.11107396929\n",
      "Position (atom 0): [0.643731 7.09453  4.05851 ]\n",
      "Force (atom 0): [-0.39306922 -0.01389913  0.40229691]\n",
      "Cell: [ 5.618 15.682 19.716 90.    91.99  90.   ]\n",
      "\n",
      "\n",
      "Duplicates  7 :\n",
      "Energy: -30367.334704139666\n",
      "Position (atom 0): [0.175862 9.24719  7.2817  ]\n",
      "Force (atom 0): [ 0.13434631 -0.32340775 -0.77755816]\n",
      "Cell: [15.804  10.785   8.1924 90.     99.1    90.    ]\n",
      "\n",
      "Energy: -30367.334704139666\n",
      "Position (atom 0): [-0.0482136  9.54714    7.42049  ]\n",
      "Force (atom 0): [0.51744994 0.1403195  1.45346519]\n",
      "Cell: [15.804  10.785   8.1924 90.     99.1    90.    ]\n",
      "\n",
      "\n",
      "Duplicates  8 :\n",
      "Energy: -6364.796670757412\n",
      "Position (atom 0): [ 4.30299    3.64797   -0.0159686]\n",
      "Force (atom 0): [-0.31397746 -0.62948833  1.46171843]\n",
      "Cell: [ 4.954  9.845  9.679 90.    90.57  90.   ]\n",
      "\n",
      "Energy: -6364.796670757412\n",
      "Position (atom 0): [4.31620e+00 3.62688e+00 1.41973e-03]\n",
      "Force (atom 0): [ 0.30908722  0.84258136 -0.75236135]\n",
      "Cell: [ 4.954  9.845  9.679 90.    90.57  90.   ]\n",
      "\n",
      "\n",
      "Duplicates  9 :\n",
      "Energy: -15497.140508973203\n",
      "Position (atom 0): [ 5.15093 11.9926   1.40321]\n",
      "Force (atom 0): [ 1.0431994e-01 -3.2157000e-04 -3.7923412e-01]\n",
      "Cell: [ 7.8153 17.913   5.262  90.     90.     90.    ]\n",
      "\n",
      "Energy: -15497.140508973203\n",
      "Position (atom 0): [ 5.09346 11.915    1.38264]\n",
      "Force (atom 0): [-0.1181026   0.58327532  0.05336016]\n",
      "Cell: [ 7.8153 17.913   5.262  90.     90.     90.    ]\n",
      "\n",
      "\n",
      "Duplicates  10 :\n",
      "Energy: -38908.06403372304\n",
      "Position (atom 0): [4.32747 6.18738 8.25501]\n",
      "Force (atom 0): [ 0.34974871  1.33073615 -0.05128826]\n",
      "Cell: [ 6.4193  9.7768 22.056  90.     90.     90.    ]\n",
      "\n",
      "Energy: -38908.06403372304\n",
      "Position (atom 0): [4.24863 6.34777 8.29903]\n",
      "Force (atom 0): [ 0.0183765   0.76239894 -0.46491922]\n",
      "Cell: [ 6.4193  9.7768 22.056  90.     90.     90.    ]\n",
      "\n",
      "\n",
      "Duplicates  11 :\n",
      "Energy: -29879.11458368208\n",
      "Position (atom 0): [0.480721 0.70041  9.34683 ]\n",
      "Force (atom 0): [0.3632038  0.04466464 1.79162182]\n",
      "Cell: [  8.1104   8.8737  16.5061  90.     102.068   90.    ]\n",
      "\n",
      "Energy: -29879.11458368208\n",
      "Position (atom 0): [0.417418 0.646704 9.42066 ]\n",
      "Force (atom 0): [1.16499255 0.5607576  2.13853048]\n",
      "Cell: [  8.1104   8.8737  16.5061  90.     102.068   90.    ]\n",
      "\n",
      "\n",
      "Duplicates  12 :\n",
      "Energy: -4112.093105775949\n",
      "Position (atom 0): [ 1.2513    1.35592  -0.316942]\n",
      "Force (atom 0): [-1.74988767  1.28483167  0.0983123 ]\n",
      "Cell: [ 4.593  4.702 14.03  95.896 97.964 96.656]\n",
      "\n",
      "Energy: -4112.093105775949\n",
      "Position (atom 0): [ 1.24977   1.27171  -0.327252]\n",
      "Force (atom 0): [ 1.00039053 -0.49671348 -0.93085247]\n",
      "Cell: [ 4.593  4.702 14.03  95.896 97.964 96.656]\n",
      "\n",
      "\n",
      "Duplicates  13 :\n",
      "Energy: -19051.205736391537\n",
      "Position (atom 0): [1.08446 1.96321 2.35709]\n",
      "Force (atom 0): [-0.19965336 -2.21799814  0.30497243]\n",
      "Cell: [ 4.6576 12.574  12.892  90.     94.573  90.    ]\n",
      "\n",
      "Energy: -19051.205736391537\n",
      "Position (atom 0): [1.00274 1.92969 2.4246 ]\n",
      "Force (atom 0): [1.17037644 2.01333319 0.28914832]\n",
      "Cell: [ 4.6576 12.574  12.892  90.     94.573  90.    ]\n",
      "\n",
      "\n",
      "Duplicates  14 :\n",
      "Energy: -27935.185014494826\n",
      "Position (atom 0): [3.88803  7.90719  0.403646]\n",
      "Force (atom 0): [0.76665668 0.20067255 0.59894362]\n",
      "Cell: [ 11.127  12.797  11.081  90.    119.32   90.   ]\n",
      "\n",
      "Energy: -27935.185014494826\n",
      "Position (atom 0): [ 1.18625 18.3351   5.04141]\n",
      "Force (atom 0): [ 0.08205984  0.0063696  -0.13436174]\n",
      "Cell: [18.6    19.932   7.7992 90.     90.     90.    ]\n",
      "\n",
      "\n",
      "Duplicates  15 :\n",
      "Energy: -20229.122928237113\n",
      "Position (atom 0): [5.46896 5.99526 8.42139]\n",
      "Force (atom 0): [-1.84943564  1.82184771 -0.09438983]\n",
      "Cell: [ 7.8795  9.76   13.612  90.     90.     90.    ]\n",
      "\n",
      "Energy: -20229.122928237113\n",
      "Position (atom 0): [5.42045 6.10435 8.38606]\n",
      "Force (atom 0): [1.11306141 1.55576424 0.67523854]\n",
      "Cell: [ 7.8795  9.76   13.612  90.     90.     90.    ]\n",
      "\n",
      "\n",
      "Duplicates  16 :\n",
      "Energy: -31753.425187551293\n",
      "Position (atom 0): [13.9646   8.9336   2.80415]\n",
      "Force (atom 0): [-0.54741357  1.36426333 -2.08331347]\n",
      "Cell: [18.682  9.593  8.561 90.    90.    90.   ]\n",
      "\n",
      "Energy: -31753.425187551293\n",
      "Position (atom 0): [14.0756   9.04989  3.09093]\n",
      "Force (atom 0): [-0.5912046  -0.72875862 -1.29480241]\n",
      "Cell: [18.682  9.593  8.561 90.    90.    90.   ]\n",
      "\n",
      "\n",
      "Duplicates  17 :\n",
      "Energy: -36111.98194778975\n",
      "Position (atom 0): [6.52243 3.3555  1.29589]\n",
      "Force (atom 0): [0.24894244 0.44137717 0.56011997]\n",
      "Cell: [21.707  8.572  7.431 90.    98.776 90.   ]\n",
      "\n",
      "Energy: -36111.98194778975\n",
      "Position (atom 0): [6.49502 3.36597 1.31143]\n",
      "Force (atom 0): [0.16635037 1.939162   0.15703784]\n",
      "Cell: [21.707  8.572  7.431 90.    98.776 90.   ]\n",
      "\n",
      "\n",
      "Duplicates  18 :\n",
      "Energy: -19863.56701914686\n",
      "Position (atom 0): [2.2985   4.31597  0.844736]\n",
      "Force (atom 0): [1.28045566 0.82887738 0.06976688]\n",
      "Cell: [ 13.127   7.599  12.576  90.    114.237  90.   ]\n",
      "\n",
      "Energy: -19863.56701914686\n",
      "Position (atom 0): [2.34972  4.29225  0.969658]\n",
      "Force (atom 0): [-1.17394514  2.35797928 -0.71019526]\n",
      "Cell: [ 13.127   7.599  12.576  90.    114.237  90.   ]\n",
      "\n",
      "\n",
      "Duplicates  19 :\n",
      "Energy: -20017.274303883776\n",
      "Position (atom 0): [7.46382 2.0691  7.09273]\n",
      "Force (atom 0): [ 0.43024892 -0.92038808 -0.52377485]\n",
      "Cell: [12.089   5.7268 16.485  90.     90.     90.    ]\n",
      "\n",
      "Energy: -20017.274303883776\n",
      "Position (atom 0): [7.49489 2.17596 6.98645]\n",
      "Force (atom 0): [-0.32646068 -0.59497384 -0.63954134]\n",
      "Cell: [12.089   5.7268 16.485  90.     90.     90.    ]\n",
      "\n",
      "\n",
      "Duplicates  20 :\n",
      "Energy: -13788.08551071809\n",
      "Position (atom 0): [5.85569  0.615278 4.78882 ]\n",
      "Force (atom 0): [-0.45644023  0.48129714  0.68482361]\n",
      "Cell: [10.3838  5.7184 11.4118 90.     90.     90.    ]\n",
      "\n",
      "Energy: -13788.08551071809\n",
      "Position (atom 0): [5.83794  0.619167 4.8464  ]\n",
      "Force (atom 0): [-0.02304958  0.33539372 -0.72613096]\n",
      "Cell: [10.3838  5.7184 11.4118 90.     90.     90.    ]\n",
      "\n",
      "\n",
      "Duplicates  21 :\n",
      "Energy: -7963.632448046952\n",
      "Position (atom 0): [4.14448  0.175669 3.17298 ]\n",
      "Force (atom 0): [1.40271161 0.73888877 1.46225836]\n",
      "Cell: [  5.511   7.556   8.071  90.    109.098  90.   ]\n",
      "\n",
      "Energy: -7963.632448046952\n",
      "Position (atom 0): [4.01944   0.0281233 3.40847  ]\n",
      "Force (atom 0): [-0.04386693 -0.04938004 -0.24753913]\n",
      "Cell: [  5.511   7.556   8.071  90.    109.098  90.   ]\n",
      "\n",
      "\n",
      "Duplicates  22 :\n",
      "Energy: -12148.094583239108\n",
      "Position (atom 0): [6.97735 3.28184 1.80996]\n",
      "Force (atom 0): [0.02044983 0.55202099 0.35654156]\n",
      "Cell: [ 6.841   8.3669  9.4468 84.078  73.972  75.711 ]\n",
      "\n",
      "Energy: -12148.094583239108\n",
      "Position (atom 0): [6.87027 2.96567 1.84357]\n",
      "Force (atom 0): [-0.49525618  2.19884342  0.60092337]\n",
      "Cell: [ 6.841   8.3669  9.4468 84.078  73.972  75.711 ]\n",
      "\n",
      "\n",
      "Duplicates  23 :\n",
      "Energy: -30333.073394810723\n",
      "Position (atom 0): [2.52066 2.23459 8.48435]\n",
      "Force (atom 0): [ 0.92501607  0.99135567 -0.03393748]\n",
      "Cell: [17.386   7.9419 12.1162 90.     90.     90.    ]\n",
      "\n",
      "Energy: -30333.073394810723\n",
      "Position (atom 0): [2.60255 2.26639 8.38073]\n",
      "Force (atom 0): [-1.03775894 -1.35661173  0.33396625]\n",
      "Cell: [17.386   7.9419 12.1162 90.     90.     90.    ]\n",
      "\n",
      "\n",
      "Duplicates  24 :\n",
      "Energy: -32508.38517148864\n",
      "Position (atom 0): [ 0.943266  7.40869  10.5578  ]\n",
      "Force (atom 0): [-0.31766134  0.37349233  0.1209231 ]\n",
      "Cell: [ 7.488 13.934 14.275 90.    90.    90.   ]\n",
      "\n",
      "Energy: -32508.38517148864\n",
      "Position (atom 0): [0.3414  7.99664 9.60495]\n",
      "Force (atom 0): [ 0.0129979  -0.28424831 -0.00639757]\n",
      "Cell: [ 7.488 13.934 14.275 90.    90.    90.   ]\n",
      "\n",
      "\n",
      "Duplicates  25 :\n",
      "Energy: -36224.18836170389\n",
      "Position (atom 0): [4.04723 1.72562 4.47805]\n",
      "Force (atom 0): [ 0.09205475  0.93509479 -0.09781711]\n",
      "Cell: [ 17.034    6.5214  13.095   90.     111.78    90.    ]\n",
      "\n",
      "Energy: -36224.18836170389\n",
      "Position (atom 0): [3.96482 1.76105 4.455  ]\n",
      "Force (atom 0): [1.04342051 0.20285798 0.48381939]\n",
      "Cell: [ 17.034    6.5214  13.095   90.     111.78    90.    ]\n",
      "\n",
      "\n",
      "Duplicates  26 :\n",
      "Energy: -30520.15383651519\n",
      "Position (atom 0): [5.7521  1.56665 2.38956]\n",
      "Force (atom 0): [-0.21976093  0.16832241  0.76749486]\n",
      "Cell: [ 12.0262  12.2022  10.634   90.     100.469   90.    ]\n",
      "\n",
      "Energy: -30520.15383651519\n",
      "Position (atom 0): [5.76782 1.58944 2.43489]\n",
      "Force (atom 0): [ 0.59602799 -0.53604416 -0.98005825]\n",
      "Cell: [ 12.0262  12.2022  10.634   90.     100.469   90.    ]\n",
      "\n",
      "\n",
      "Duplicates  27 :\n",
      "Energy: -29966.832656820094\n",
      "Position (atom 0): [2.12658  4.74952  0.930332]\n",
      "Force (atom 0): [-0.97494175 -0.8699996   0.48570916]\n",
      "Cell: [ 9.8191  9.905  18.32   90.     94.037  90.    ]\n",
      "\n",
      "Energy: -29966.832656820094\n",
      "Position (atom 0): [2.13682  4.78002  0.958727]\n",
      "Force (atom 0): [-0.36050106 -0.06527722 -0.71791885]\n",
      "Cell: [ 9.8191  9.905  18.32   90.     94.037  90.    ]\n",
      "\n",
      "\n",
      "Duplicates  28 :\n",
      "Energy: -3230.3875022009875\n",
      "Position (atom 0): [1.32096 1.74757 5.61144]\n",
      "Force (atom 0): [ 0.53943801 -0.3014639  -0.93278594]\n",
      "Cell: [  8.9742    5.21927   7.40243  90.      112.9722   90.     ]\n",
      "\n",
      "Energy: -3230.3875022009875\n",
      "Position (atom 0): [1.3965  1.67946 5.48441]\n",
      "Force (atom 0): [-0.90393302  0.48092382 -0.03677552]\n",
      "Cell: [  8.9742    5.21927   7.40243  90.      112.9722   90.     ]\n",
      "\n",
      "\n",
      "Duplicates  29 :\n",
      "Energy: -14389.210670161858\n",
      "Position (atom 0): [7.6865  5.86693 4.41359]\n",
      "Force (atom 0): [-0.91175946  0.55536343  0.46825959]\n",
      "Cell: [ 7.8751  9.1651 14.1891 90.     90.     90.    ]\n",
      "\n",
      "Energy: -14389.210670161858\n",
      "Position (atom 0): [7.86745 6.32351 4.40586]\n",
      "Force (atom 0): [-0.36192442  0.04246737  0.04602028]\n",
      "Cell: [ 7.8751  9.1651 14.1891 90.     90.     90.    ]\n",
      "\n",
      "\n",
      "Duplicates  30 :\n",
      "Energy: -30037.206738043307\n",
      "Position (atom 0): [5.62749  7.78634  0.055317]\n",
      "Force (atom 0): [ 0.57163851 -0.90610303 -0.85448557]\n",
      "Cell: [ 9.85  13.885  7.156 90.    90.    90.   ]\n",
      "\n",
      "Energy: -30037.206738043307\n",
      "Position (atom 0): [5.66127  7.70229  0.034465]\n",
      "Force (atom 0): [-0.06762567  0.21183268  0.98755044]\n",
      "Cell: [ 9.85  13.885  7.156 90.    90.    90.   ]\n",
      "\n",
      "\n",
      "Duplicates  31 :\n",
      "Energy: -8015.336281712054\n",
      "Position (atom 0): [2.81926 2.68168 7.77602]\n",
      "Force (atom 0): [0.40545988 0.67068254 0.30594585]\n",
      "Cell: [ 6.486  7.53  10.102 82.03  72.96  85.5  ]\n",
      "\n",
      "Energy: -8015.336281712054\n",
      "Position (atom 0): [2.70245 2.60477 7.847  ]\n",
      "Force (atom 0): [0.36658275 0.49255343 0.5545561 ]\n",
      "Cell: [ 6.486  7.53  10.102 82.03  72.96  85.5  ]\n",
      "\n",
      "\n",
      "Duplicates  32 :\n",
      "Energy: -19149.11417350109\n",
      "Position (atom 0): [5.18292  1.68885  0.910557]\n",
      "Force (atom 0): [ 1.09146929  1.9475078  -0.57741835]\n",
      "Cell: [ 7.552  8.172 15.624 90.    99.29  90.   ]\n",
      "\n",
      "Energy: -19149.11417350109\n",
      "Position (atom 0): [5.41419  0.936775 5.0015  ]\n",
      "Force (atom 0): [ 0.35479013 -0.52010332 -0.38061891]\n",
      "Cell: [  9.1455   8.4625  15.81    90.     103.57    90.    ]\n",
      "\n",
      "\n",
      "Duplicates  33 :\n",
      "Energy: -3818.2666497330706\n",
      "Position (atom 0): [4.49786 5.04429 2.37569]\n",
      "Force (atom 0): [-0.33738376  0.47539697  0.04899042]\n",
      "Cell: [  5.379   5.557   4.78   90.    118.25   90.   ]\n",
      "\n",
      "Energy: -3818.2666497330706\n",
      "Position (atom 0): [1.74097 4.71795 3.35814]\n",
      "Force (atom 0): [-0.42474264  0.07315714  0.58083277]\n",
      "Cell: [  4.785   5.562   5.38   90.    118.24   90.   ]\n",
      "\n",
      "\n",
      "Duplicates  34 :\n",
      "Energy: -19217.163640614515\n",
      "Position (atom 0): [2.04478  0.650975 4.50666 ]\n",
      "Force (atom 0): [-0.59250044  0.34852383  0.67465747]\n",
      "Cell: [16.1983 10.7524  7.9101 90.     90.     90.    ]\n",
      "\n",
      "Energy: -19217.163640614515\n",
      "Position (atom 0): [2.07788  0.669371 4.51043 ]\n",
      "Force (atom 0): [-0.25227407  0.09367969 -0.19032745]\n",
      "Cell: [16.1983 10.7524  7.9101 90.     90.     90.    ]\n",
      "\n",
      "\n",
      "Duplicates  35 :\n",
      "Energy: -16044.702589730736\n",
      "Position (atom 0): [-0.330829  3.64063   0.213018]\n",
      "Force (atom 0): [-0.52870109 -2.79286081  0.29063339]\n",
      "Cell: [ 11.002  14.09    6.758  90.    101.69   90.   ]\n",
      "\n",
      "Energy: -16044.702589730736\n",
      "Position (atom 0): [-0.14131  3.5985   0.2373 ]\n",
      "Force (atom 0): [-0.27604083  0.57408106 -0.62860387]\n",
      "Cell: [ 11.002  14.09    6.758  90.    101.69   90.   ]\n",
      "\n",
      "\n",
      "Duplicates  36 :\n",
      "Energy: -7844.147669205442\n",
      "Position (atom 0): [3.98787 4.35133 4.14109]\n",
      "Force (atom 0): [ 0.26785753 -0.67966598  0.60878581]\n",
      "Cell: [  6.989  13.107   5.293  90.    100.41   90.   ]\n",
      "\n",
      "Energy: -7844.147669205442\n",
      "Position (atom 0): [3.96114 4.16503 4.14096]\n",
      "Force (atom 0): [ 0.32657021  1.95500514 -0.51022977]\n",
      "Cell: [  6.989  13.107   5.293  90.    100.41   90.   ]\n",
      "\n",
      "\n",
      "Duplicates  37 :\n",
      "Energy: -34505.510819426534\n",
      "Position (atom 0): [2.72771 4.2286  4.93014]\n",
      "Force (atom 0): [-0.07461753  0.06394385 -0.26778708]\n",
      "Cell: [ 5.8612  5.8612 51.443  90.     90.     90.    ]\n",
      "\n",
      "Energy: -34505.510819426534\n",
      "Position (atom 0): [2.46514 4.78973 4.56946]\n",
      "Force (atom 0): [ 0.04223063 -1.55213384 -0.72624408]\n",
      "Cell: [ 5.8612  5.8612 51.443  90.     90.     90.    ]\n",
      "\n",
      "\n",
      "Duplicates  38 :\n",
      "Energy: -29180.70910750494\n",
      "Position (atom 0): [4.0924  4.68496 6.27003]\n",
      "Force (atom 0): [-0.26319509 -1.3709842  -1.60017748]\n",
      "Cell: [ 10.91     6.7436  16.442   90.     103.4     90.    ]\n",
      "\n",
      "Energy: -29180.70910750494\n",
      "Position (atom 0): [4.09447 4.61148 6.30883]\n",
      "Force (atom 0): [ 0.46328708  0.23094883 -0.96966585]\n",
      "Cell: [ 10.91     6.7436  16.442   90.     103.4     90.    ]\n",
      "\n",
      "\n",
      "Duplicates  39 :\n",
      "Energy: -35581.49275192852\n",
      "Position (atom 0): [4.16253 2.59389 1.71623]\n",
      "Force (atom 0): [0.56406404 0.02902997 1.32998024]\n",
      "Cell: [ 9.1448  9.1448 19.35   90.     90.     90.    ]\n",
      "\n",
      "Energy: -35581.49275192852\n",
      "Position (atom 0): [4.33889 2.61292 1.67172]\n",
      "Force (atom 0): [-0.43070915 -0.13889871  0.13210225]\n",
      "Cell: [ 9.1448  9.1448 19.35   90.     90.     90.    ]\n",
      "\n",
      "\n",
      "Duplicates  40 :\n",
      "Energy: -16566.878898268817\n",
      "Position (atom 0): [ 7.24965     7.48489    -0.00913339]\n",
      "Force (atom 0): [1.45901363 0.68521442 0.47161591]\n",
      "Cell: [ 7.481  9.076 19.021 90.    95.471 90.   ]\n",
      "\n",
      "Energy: -16566.878898268817\n",
      "Position (atom 0): [4.38038 4.46377 2.74059]\n",
      "Force (atom 0): [ 0.85407933  1.07553359 -0.07074082]\n",
      "Cell: [  6.414  23.668   7.779  90.    100.08   90.   ]\n",
      "\n",
      "\n",
      "Duplicates  41 :\n",
      "Energy: -8067.72831848914\n",
      "Position (atom 0): [-0.0408131  2.10961    6.61433  ]\n",
      "Force (atom 0): [-0.21351315 -1.80747524  1.14647547]\n",
      "Cell: [  6.4256   9.869   11.9398 101.571   97.45    91.005 ]\n",
      "\n",
      "Energy: -8067.72831848914\n",
      "Position (atom 0): [-0.184049  2.14597   6.84409 ]\n",
      "Force (atom 0): [-0.90340338 -1.44941313  0.08641118]\n",
      "Cell: [  6.4256   9.869   11.9398 101.571   97.45    91.005 ]\n",
      "\n",
      "\n",
      "Duplicates  42 :\n",
      "Energy: -18243.03008150709\n",
      "Position (atom 0): [ 1.48644  1.80414 10.4277 ]\n",
      "Force (atom 0): [ 0.12978106 -0.09764484 -1.06521832]\n",
      "Cell: [ 10.5878   5.9447  11.7057  90.     101.815   90.    ]\n",
      "\n",
      "Energy: -18243.03008150709\n",
      "Position (atom 0): [ 1.1766   1.68614 10.2115 ]\n",
      "Force (atom 0): [-0.29918076  0.01412744  0.62988428]\n",
      "Cell: [ 10.5878   5.9447  11.7057  90.     101.815   90.    ]\n",
      "\n",
      "\n",
      "Duplicates  43 :\n",
      "Energy: -6586.104217081177\n",
      "Position (atom 0): [2.17713 4.48268 4.93665]\n",
      "Force (atom 0): [-0.14814285  0.06026357  0.1396217 ]\n",
      "Cell: [ 5.8245  7.333   7.8737 75.88   88.18   74.29  ]\n",
      "\n",
      "Energy: -6586.104217081177\n",
      "Position (atom 0): [2.18947 4.50121 4.88202]\n",
      "Force (atom 0): [ 0.3695498  -0.50308004  0.42844606]\n",
      "Cell: [ 5.8245  7.333   7.8737 75.88   88.18   74.29  ]\n",
      "\n",
      "\n",
      "Duplicates  44 :\n",
      "Energy: -7647.646537525024\n",
      "Position (atom 0): [4.97908 1.01197 7.40648]\n",
      "Force (atom 0): [-0.02301729 -0.18034797 -0.82175028]\n",
      "Cell: [ 5.878  5.716 12.545 90.    93.94  90.   ]\n",
      "\n",
      "Energy: -7647.646537525024\n",
      "Position (atom 0): [4.79552 1.2501  7.36463]\n",
      "Force (atom 0): [-0.3438871  -0.17867162  1.20638732]\n",
      "Cell: [ 5.878  5.716 12.545 90.    93.94  90.   ]\n",
      "\n",
      "\n"
     ]
    }
   ],
   "source": [
    "#Check if positions, forces and energies of duplicates are equal\n",
    "for inds in nz_indices:\n",
    "    print(f\"Duplicates  {i} :\")\n",
    "    for ind in inds:\n",
    "        print(f\"Energy: {all_frames[ind].info['energy']}\")\n",
    "        print(f\"Position (atom 0): {all_frames[ind].get_positions()[0]}\")\n",
    "        print(f\"Force (atom 0): {all_frames[ind].get_array('forces')[0]}\")\n",
    "        print(f\"Cell: {all_frames[ind].cell.cellpar()}\")\n",
    "        print()\n",
    "    print(\"\")"
   ]
  },
  {
   "cell_type": "code",
   "execution_count": 254,
   "id": "37e5675a",
   "metadata": {},
   "outputs": [
    {
     "name": "stdout",
     "output_type": "stream",
     "text": [
      "Found 0 atoms that are equal in position using a tolerance of 0.001.\n"
     ]
    }
   ],
   "source": [
    "#Check if atoms got mixed up\n",
    "indices = nz_indices[0]\n",
    "tolerance = 1e-3\n",
    "n = 0\n",
    "for pos in all_frames[indices[0]].get_positions():\n",
    "    for pos2 in all_frames[indices[1]].get_positions():\n",
    "        if np.allclose(pos, pos2, rtol = tolerance) == True:\n",
    "            n += 1\n",
    "print(f\"Found {n} atoms that are equal in position using a tolerance of {tolerance}.\")"
   ]
  },
  {
   "cell_type": "markdown",
   "id": "f864bcd2",
   "metadata": {},
   "source": [
    "### Check original MD dataset"
   ]
  },
  {
   "cell_type": "code",
   "execution_count": 316,
   "id": "219940aa",
   "metadata": {},
   "outputs": [],
   "source": [
    "#Check in very original MD dataset, before any procesing was done\n",
    "md_dataset = read('raw_data/CSD-10k_md_hcno_w_kpts.xyz', ':')"
   ]
  },
  {
   "cell_type": "code",
   "execution_count": 317,
   "id": "83ca2a08",
   "metadata": {},
   "outputs": [
    {
     "name": "stdout",
     "output_type": "stream",
     "text": [
      "225685 out of 226139 are unique.\n"
     ]
    }
   ],
   "source": [
    "energies_md = []\n",
    "for frm in md_dataset:\n",
    "    energies_md.append(frm.info['energy'])\n",
    "print(f\"{len(np.unique(energies_md))} out of {len(energies_md)} are unique.\")"
   ]
  }
 ],
 "metadata": {
  "kernelspec": {
   "display_name": "Python 3 (ipykernel)",
   "language": "python",
   "name": "python3"
  },
  "language_info": {
   "codemirror_mode": {
    "name": "ipython",
    "version": 3
   },
   "file_extension": ".py",
   "mimetype": "text/x-python",
   "name": "python",
   "nbconvert_exporter": "python",
   "pygments_lexer": "ipython3",
   "version": "3.10.4"
  },
  "toc": {
   "base_numbering": "7",
   "nav_menu": {},
   "number_sections": true,
   "sideBar": true,
   "skip_h1_title": false,
   "title_cell": "Table of Contents",
   "title_sidebar": "Contents",
   "toc_cell": false,
   "toc_position": {
    "height": "calc(100% - 180px)",
    "left": "10px",
    "top": "150px",
    "width": "302.390625px"
   },
   "toc_section_display": true,
   "toc_window_display": true
  }
 },
 "nbformat": 4,
 "nbformat_minor": 5
}
