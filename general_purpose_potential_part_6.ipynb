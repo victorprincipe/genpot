{
 "cells": [
  {
   "cell_type": "markdown",
   "id": "6338a405",
   "metadata": {},
   "source": [
    "# Creating a General Purpose Potential for Molecular Crystals - Part 5"
   ]
  },
  {
   "cell_type": "markdown",
   "id": "ff43510b",
   "metadata": {},
   "source": [
    "This notebook is used to create a general purpose GAP potential for molecular crystals. The potential is built on PBE-D3 data from short PIMD simulations of 2238 different molecular crystals. Please note that it has a high (~150 GB) memory requirement to run fully."
   ]
  },
  {
   "cell_type": "markdown",
   "id": "ed2df57e",
   "metadata": {},
   "source": [
    "In this part of the notebook: \n",
    "- Create a model using fewer structures (maybe 150 or so) but many more confidgurations per structure (maybe 50 or so)\n",
    "- Hopefully force prediction will be more accurate if more configurational dependence information is provided\n",
    "- This also requires the crystals to be FPS sorted, to recreate a test set (or maybe two - one containing new configurations of crystals in the training dataset, and one containing configurations of crystals outside of the training dataset - the latter being the real test)\n"
   ]
  },
  {
   "cell_type": "markdown",
   "id": "4e905df6",
   "metadata": {},
   "source": [
    "- Firstly, we must figure out how many \"meaningful\" configurations there are per crystal, by donig PCovFPS sorting and looking at the FPS distance"
   ]
  },
  {
   "cell_type": "markdown",
   "id": "96b59a08",
   "metadata": {},
   "source": [
    "## Create model using 150 configurations per structure"
   ]
  },
  {
   "cell_type": "markdown",
   "id": "743db854",
   "metadata": {},
   "source": [
    "## Import modules, define functions and SOAP"
   ]
  },
  {
   "cell_type": "code",
   "execution_count": 1,
   "id": "8058173d",
   "metadata": {
    "code_folding": [
     0
    ]
   },
   "outputs": [],
   "source": [
    "#Import modules\n",
    "from matplotlib import pylab as plt\n",
    "from tqdm import tqdm\n",
    "import itertools\n",
    "from joblib import Parallel, delayed, parallel_backend\n",
    "\n",
    "import pickle\n",
    "import numpy as np\n",
    "from numpy.random import RandomState\n",
    "random_state = RandomState(0)\n",
    "from sklearn import linear_model\n",
    "import skcosmo.feature_selection\n",
    "#from skcosmo.feature_selection import FPS\n",
    "from skcosmo.sample_selection import PCovCUR, FPS, PCovFPS, PCovCUR\n",
    "from skcosmo.preprocessing import StandardFlexibleScaler\n",
    "from sklearn.linear_model import LinearRegression, Ridge\n",
    "from sklearn.model_selection import GroupKFold, cross_val_score\n",
    "from sklearn.kernel_ridge import KernelRidge\n",
    "from sklearn.metrics import mean_squared_error\n",
    "from sklearn.pipeline import Pipeline\n",
    "from skopt.space import Real, Integer\n",
    "from skopt.utils import use_named_args\n",
    "from skopt import gp_minimize, callbacks, dump, load\n",
    "from skopt.callbacks import CheckpointSaver\n",
    "from skopt.plots import plot_convergence, plot_objective\n",
    "\n",
    "import ase\n",
    "from ase.io import read, write\n",
    "from ase.build import make_supercell\n",
    "from ase.visualize import view\n",
    "import numpy as np\n",
    "# If installed -- not essential, though\n",
    "try:\n",
    "    from tqdm.notebook import tqdm\n",
    "except ImportError:\n",
    "    tqdm = (lambda i, **kwargs: i)\n",
    "\n",
    "from time import time, sleep\n",
    "\n",
    "from rascal.models import KRR\n",
    "from rascal.utils import dump_obj, load_obj\n",
    "\n",
    "from rascal.models import Kernel, train_gap_model, compute_KNM\n",
    "from rascal.representations import SphericalInvariants\n",
    "from rascal.neighbourlist.structure_manager import mask_center_atoms_by_species\n",
    "from rascal.utils import from_dict, to_dict, CURFilter, FPSFilter, dump_obj, load_obj\n",
    "from rascal.utils import get_score, get_optimal_radial_basis_hypers\n",
    "from rascal.utils.io import load_json, dump_json"
   ]
  },
  {
   "cell_type": "code",
   "execution_count": 2,
   "id": "c25ff213",
   "metadata": {
    "code_folding": [
     0
    ]
   },
   "outputs": [],
   "source": [
    "#Import entire dataset\n",
    "with open('raw_data/CSD-10k_combined_w_kpts.pickle', 'rb') as csd_file:\n",
    "    db = pickle.load(csd_file)\n",
    "name=list(db.keys())"
   ]
  },
  {
   "cell_type": "code",
   "execution_count": 3,
   "id": "62b73d78",
   "metadata": {
    "code_folding": [
     0
    ]
   },
   "outputs": [],
   "source": [
    "#Wrap all cells\n",
    "for struct in name:\n",
    "    for frm in db[struct]:\n",
    "        frm.wrap(eps = 1e-14)"
   ]
  },
  {
   "cell_type": "code",
   "execution_count": 4,
   "id": "842a04e8",
   "metadata": {
    "code_folding": [
     0
    ]
   },
   "outputs": [
    {
     "name": "stderr",
     "output_type": "stream",
     "text": [
      "/home/vprincip/code/miniconda3/envs/genshift/lib/python3.10/site-packages/sklearn/base.py:329: UserWarning: Trying to unpickle estimator Ridge from version 1.1.0rc1 when using version 1.1.1. This might lead to breaking code or invalid results. Use at your own risk. For more info please refer to:\n",
      "https://scikit-learn.org/stable/model_persistence.html#security-maintainability-limitations\n",
      "  warnings.warn(\n"
     ]
    }
   ],
   "source": [
    "#Import total dressed atom model\n",
    "with open('raw_data/mlr.pkl', 'rb') as mlr_file:\n",
    "    mlr = pickle.load(mlr_file)"
   ]
  },
  {
   "cell_type": "code",
   "execution_count": 5,
   "id": "c8a465fa",
   "metadata": {
    "code_folding": [
     0,
     1,
     23,
     33
    ]
   },
   "outputs": [],
   "source": [
    "#Define functions\n",
    "def do_fps(x, d=0):\n",
    "    \"\"\"\n",
    "    Function for performing farthest-point-sampling for a given feature matrix.\n",
    "    d gives the number of farthest-point-sampled feature vectors that will be outputted. \n",
    "    If d==0, the entire set will be FPS-sorted.\n",
    "    Returns the FPS-sorted IDs, as well as the FPS distances.\n",
    "    \"\"\"\n",
    "    if d == 0 : d = len(x)\n",
    "    n = len(x)\n",
    "    iy = np.zeros(d, int)\n",
    "    # faster evaluation of Euclidean distance\n",
    "    n2 = np.sum(x**2,axis=1)\n",
    "    iy[0] = 0\n",
    "    dl = n2 + n2[iy[0]] - 2* np.dot(x, x[iy[0]])\n",
    "    dss = []\n",
    "    for i in range(1,d):\n",
    "        iy[i] = np.argmax(dl)\n",
    "        nd = n2 + n2[iy[i]] - 2*np.dot(x,x[iy[i]])\n",
    "        dl = np.minimum(dl, nd)\n",
    "        dss.append(max(dl))\n",
    "    return iy,dss\n",
    "\n",
    "def get_forces(frames):\n",
    "    frc = np.zeros((np.sum([len(frm) for frm in frames]),3))\n",
    "    iat = 0\n",
    "    for ifrm,frm in enumerate(frames):\n",
    "        frc[iat:iat+len(frm)] = frm.get_array('forces') \n",
    "        iat += len(frm)\n",
    "    return frc\n",
    "\n",
    "#Get feature vectors for a list of atoms objects. This requires soap to be set, as well as all_species, which is\n",
    "#a list with one atoms object that contains all species HCNO\n",
    "def get_features(atoms_objects, batch_size=1000, progress_bar=True):\n",
    "    '''Get average feature vectors for each structure in a list of atoms objects. \n",
    "        This requires soap to be set.\n",
    "    '''\n",
    "    struct_feat=[] #create empty feature vector of n_structures x n_features\n",
    "    got_frame = False\n",
    "    for frm in atoms_objects:\n",
    "        if got_frame == False: \n",
    "            if all(sp in frm.get_atomic_numbers() for sp in [1,6,7,8]) == True:\n",
    "                all_species = frm\n",
    "                got_frame = True\n",
    "    for i in tqdm(range(int(len(atoms_objects)/batch_size+0.9999)), disable = not progress_bar): #Get feature vectors in batches of 1000\n",
    "        for frm in atoms_objects[i*batch_size:(i+1)*batch_size]:\n",
    "            frm.wrap(eps=1e-13) #wrap atoms in unit cell\n",
    "        frames=[all_species.copy()] #add initial frame with all species\n",
    "        frames.extend(atoms_objects[i*batch_size:(i+1)*batch_size]) #extend initial frame with frames of batch\n",
    "        manager = soap.transform(frames) #calculate soap features for all structures in batch\n",
    "        env_feat_batch = manager.get_features(soap)[len(all_species):] #get feature vectors for all structures in batch\n",
    "        # (having removed the initial frame)\n",
    "        atom_counter=0 #count atoms\n",
    "        for ifrm,frm in enumerate(atoms_objects[i*batch_size:(i+1)*batch_size]): #iterate over frames in batch\n",
    "            nat=len(frm) #count atoms in frame\n",
    "            struct_feat.append(np.mean(env_feat_batch[atom_counter:atom_counter+nat],axis=0)) #average vectors\n",
    "            # for atoms in the same frame. Done by averaging vectors between atom_counter and atom_counter + nat\n",
    "            atom_counter+=nat #add atoms to counter\n",
    "    struct_feat_array=np.asarray(struct_feat)\n",
    "    return struct_feat_array"
   ]
  },
  {
   "cell_type": "code",
   "execution_count": 6,
   "id": "4c7e217c",
   "metadata": {
    "code_folding": [
     0
    ]
   },
   "outputs": [],
   "source": [
    "#Define soap hyperparameters\n",
    "hypers = dict(soap_type=\"PowerSpectrum\",\n",
    "              interaction_cutoff=4, #cutoff distance in angstroms\n",
    "              max_radial=6, #no. of radial basis functions\n",
    "              max_angular=4, #no. of angular basis functions\n",
    "              gaussian_sigma_constant=0.4, #sigma width (i.e. amount of 'smearing')\n",
    "              gaussian_sigma_type=\"Constant\",\n",
    "              cutoff_function_type=\"RadialScaling\",\n",
    "              cutoff_smooth_width=0.5,\n",
    "              cutoff_function_parameters=\n",
    "                    dict(\n",
    "                            rate=1,\n",
    "                            scale=2,\n",
    "                            exponent=2\n",
    "                        ),\n",
    "              radial_basis=\"GTO\",\n",
    "              normalize=True,\n",
    "              optimization=\n",
    "                    dict(\n",
    "                            Spline=dict(\n",
    "                               accuracy=1.0e-05\n",
    "                            )\n",
    "                        ),\n",
    "              compute_gradients=False #don't care about forces right now\n",
    "              )\n",
    "soap = SphericalInvariants(**hypers)\n"
   ]
  },
  {
   "cell_type": "markdown",
   "id": "f6cc971a",
   "metadata": {},
   "source": [
    "## PCovFPS sort configurations of a single structure"
   ]
  },
  {
   "cell_type": "code",
   "execution_count": 7,
   "id": "7dbc4ac8",
   "metadata": {},
   "outputs": [],
   "source": [
    "selector = PCovFPS(mixing = 0.3, n_to_select = 100, progress_bar=False)"
   ]
  },
  {
   "cell_type": "code",
   "execution_count": 8,
   "id": "66d5c530",
   "metadata": {},
   "outputs": [],
   "source": [
    "for struct in name[:20]:\n",
    "    energies = []\n",
    "    ats = np.zeros((len(db[struct]), 4))\n",
    "    feat_length = soap.transform(db[struct][0]).get_features(soap).shape[1]\n",
    "    feats = np.zeros((len(db[struct]), int(feat_length)))\n",
    "    for ifrm, frm in enumerate(db[struct]):\n",
    "        frm.wrap()\n",
    "        atnos = frm.get_atomic_numbers()\n",
    "        ats[ifrm] = [len(np.where(atnos == sp)[0]) for sp in [1,6,7,8]]\n",
    "        energies.append(frm.info['energy'])\n",
    "        feats[ifrm] = np.mean(soap.transform(frm).get_features(soap), axis=0)\n",
    "    dressed_energies = mlr.predict(ats)\n",
    "    y_configs = energies - dressed_energies"
   ]
  },
  {
   "cell_type": "code",
   "execution_count": 9,
   "id": "78e6c3fb",
   "metadata": {},
   "outputs": [
    {
     "data": {
      "image/png": "[encoded data removed]",
      "text/plain": [
       "<Figure size 432x288 with 1 Axes>"
      ]
     },
     "metadata": {
      "needs_background": "light"
     },
     "output_type": "display_data"
    }
   ],
   "source": [
    "selector.fit(feats, y_configs)\n",
    "plt.plot(selector.get_select_distance()[:100])\n",
    "plt.yscale('log')"
   ]
  },
  {
   "cell_type": "markdown",
   "id": "8d1082f0",
   "metadata": {},
   "source": [
    "Rose said that between 10e-3 and 10e-4 is a good threshold for PCovFPS, and so I'll use 60 frames per structure for the model"
   ]
  },
  {
   "cell_type": "markdown",
   "id": "232b382d",
   "metadata": {},
   "source": [
    "## PCovFPS sort one configuration of all structures"
   ]
  },
  {
   "cell_type": "code",
   "execution_count": 10,
   "id": "206f6ec2",
   "metadata": {},
   "outputs": [],
   "source": [
    "selector = PCovFPS(mixing = 0.3, n_to_select = len(db)-1, progress_bar=False)"
   ]
  },
  {
   "cell_type": "code",
   "execution_count": 11,
   "id": "5e5561e0",
   "metadata": {},
   "outputs": [
    {
     "data": {
      "application/vnd.jupyter.widget-view+json": {
       "model_id": "35ae239d941b4f4caabdee3c337ef5f7",
       "version_major": 2,
       "version_minor": 0
      },
      "text/plain": [
       "  0%|          | 0/3 [00:00<?, ?it/s]"
      ]
     },
     "metadata": {},
     "output_type": "display_data"
    }
   ],
   "source": [
    "crystals = []\n",
    "for struct in name:\n",
    "    crystals.append(db[struct][0])\n",
    "energies = []\n",
    "ats = np.zeros((len(crystals), 4))\n",
    "for ifrm, frm in enumerate(crystals):\n",
    "    atnos = frm.get_atomic_numbers()\n",
    "    ats[ifrm] = [len(np.where(atnos == sp)[0]) for sp in [1,6,7,8]]\n",
    "    energies.append(frm.info['energy'])\n",
    "dressed_energies = mlr.predict(ats)\n",
    "y_crystals = energies - dressed_energies\n",
    "crystal_feats = get_features(crystals)"
   ]
  },
  {
   "cell_type": "code",
   "execution_count": 13,
   "id": "d31df092",
   "metadata": {},
   "outputs": [
    {
     "data": {
      "image/png": "[encoded data removed]",
      "text/plain": [
       "<Figure size 432x288 with 1 Axes>"
      ]
     },
     "metadata": {
      "needs_background": "light"
     },
     "output_type": "display_data"
    }
   ],
   "source": [
    "selector = PCovFPS(mixing = 0.3, n_to_select = len(crystals)-1, progress_bar=False)\n",
    "selector.fit(crystal_feats, y_crystals)\n",
    "plt.plot(selector.get_select_distance()[0:250])\n",
    "plt.yscale('log')"
   ]
  },
  {
   "cell_type": "markdown",
   "id": "bf8acc33",
   "metadata": {},
   "source": [
    "Although there's definitely more info to be gained from adding more strucutres, it seems like using 150 structures is a good compromise between accuracy and number of structures, so I will use that amount."
   ]
  },
  {
   "cell_type": "markdown",
   "id": "b2f5d1a3",
   "metadata": {},
   "source": [
    "## Creating training, validation, and test sets"
   ]
  },
  {
   "cell_type": "markdown",
   "id": "40708bf5",
   "metadata": {},
   "source": [
    "Validation set will be created using configurations from the same crystal, whereas the test set will be created using new configurations"
   ]
  },
  {
   "cell_type": "code",
   "execution_count": 14,
   "id": "d47db1d6",
   "metadata": {},
   "outputs": [
    {
     "data": {
      "application/vnd.jupyter.widget-view+json": {
       "model_id": "64abf86895034296bfbdd51c0a08ec94",
       "version_major": 2,
       "version_minor": 0
      },
      "text/plain": [
       "  0%|          | 0/2237 [00:00<?, ?it/s]"
      ]
     },
     "metadata": {},
     "output_type": "display_data"
    }
   ],
   "source": [
    "#PCovFPS select crystals to use\n",
    "#Note that the 'crystals' list is in the order of the 'name' list\n",
    "fps_order = []\n",
    "for feat in tqdm(selector.X_selected_):\n",
    "    for istruct, struct in enumerate(crystal_feats):\n",
    "        if np.array_equal(struct, feat) == True:\n",
    "            fps_order.append(istruct)"
   ]
  },
  {
   "cell_type": "code",
   "execution_count": 65,
   "id": "13c622dc",
   "metadata": {},
   "outputs": [
    {
     "data": {
      "application/vnd.jupyter.widget-view+json": {
       "model_id": "4b4be1a820df4c8e8313dd821dbc038a",
       "version_major": 2,
       "version_minor": 0
      },
      "text/plain": [
       "  0%|          | 0/150 [00:00<?, ?it/s]"
      ]
     },
     "metadata": {},
     "output_type": "display_data"
    }
   ],
   "source": [
    "#Create the training database\n",
    "db_train = {}\n",
    "db_val = {}\n",
    "db_test = {}\n",
    "train_ids = {}\n",
    "train_set = []\n",
    "\n",
    "selector = PCovFPS(mixing = 0.3, n_to_select = 100, progress_bar=False)\n",
    "for struct in tqdm(fps_order[:150]):\n",
    "    crystal_name = name[struct]\n",
    "    energies = []\n",
    "    ats = np.zeros((len(db[crystal_name]), 4))\n",
    "    feat_length = soap.transform(db[crystal_name][0]).get_features(soap).shape[1]\n",
    "    feats = np.zeros((len(db[crystal_name]), int(feat_length)))\n",
    "    for ifrm, frm in enumerate(db[crystal_name]):\n",
    "        frm.wrap()\n",
    "        atnos = frm.get_atomic_numbers()\n",
    "        ats[ifrm] = [len(np.where(atnos == sp)[0]) for sp in [1,6,7,8]]\n",
    "        energies.append(frm.info['energy'])\n",
    "        feats[ifrm] = np.mean(soap.transform(frm).get_features(soap), axis=0)\n",
    "    dressed_energies = mlr.predict(ats)\n",
    "    y_configs = energies - dressed_energies\n",
    "    selector.fit(feats, y_configs)\n",
    "    frames_selected = []\n",
    "    ids_selected = []\n",
    "    for sel_feats in selector.X_selected_[:60]:\n",
    "        for ift, ft in enumerate(feats):\n",
    "            if np.array_equal(sel_feats, ft) == True:\n",
    "                frames_selected.append(db[crystal_name][ift])\n",
    "                train_set.append(db[crystal_name][ift])\n",
    "                ids_selected.append(ift)\n",
    "    db_train[crystal_name] = frames_selected\n",
    "    train_ids[crystal_name] = ids_selected\n",
    "\n",
    "#Save train database and train set\n",
    "with open('raw_data/high_config_potential/CSD-10k_train_db.pickle', \"wb\") as r:\n",
    "    pickle.dump(db_train, r)\n",
    "r.close()\n",
    "\n",
    "np.save('raw_data/high_config_potential/CSD-10k_train_set', np.asarray(train_set, dtype='object'))"
   ]
  },
  {
   "cell_type": "code",
   "execution_count": 68,
   "id": "9257a487",
   "metadata": {},
   "outputs": [],
   "source": [
    "#Create preliminary val set containing ids of all strctures whose crystals are in the training set, \n",
    "# but whose specific configurations are not\n",
    "val_ids_all = {}\n",
    "val_structs_all = []\n",
    "for na in name:\n",
    "    if na in train_ids.keys():\n",
    "        val_ids = []\n",
    "        for i in range(0,101,1):\n",
    "            if i not in train_ids[na]:\n",
    "                val_ids.append(i)\n",
    "                val_structs_all.append(db[na][i])\n",
    "        val_ids_all[na] = val_ids"
   ]
  },
  {
   "cell_type": "code",
   "execution_count": 69,
   "id": "9262af65",
   "metadata": {},
   "outputs": [],
   "source": [
    "#Create preliminary test set containing all configurations of crystals not in the training set\n",
    "# This just gets the name of the structures not in the training (and validation) set\n",
    "test_names = []\n",
    "test_structs_all = []\n",
    "for na in name:\n",
    "    if na not in train_ids.keys():\n",
    "        test_names.append(na)\n",
    "        test_structs_all.extend(db[na])"
   ]
  },
  {
   "cell_type": "code",
   "execution_count": 70,
   "id": "c458e9a3",
   "metadata": {},
   "outputs": [],
   "source": [
    "#Create true validation and test sets, each of size 1000\n",
    "#Validation set:\n",
    "val_ids = np.arange(len(val_structs_all))\n",
    "np.random.seed(10)\n",
    "np.random.shuffle(val_ids)\n",
    "\n",
    "val_set = []\n",
    "for i in val_ids[:1000]: \n",
    "    val_set.append(val_structs_all[i])\n",
    "\n",
    "#Test set:\n",
    "test_ids = np.arange(len(test_structs_all))\n",
    "np.random.seed(20)\n",
    "np.random.shuffle(test_ids)\n",
    "\n",
    "test_set = []\n",
    "for i in test_ids[:1000]: \n",
    "    test_set.append(test_structs_all[i])\n",
    "    \n",
    "np.save('raw_data/high_config_potential/CSD-10k_val_set', np.asarray(val_set, dtype='object'))\n",
    "np.save('raw_data/high_config_potential/CSD-10k_test_set', np.asarray(test_set, dtype='object'))"
   ]
  },
  {
   "cell_type": "code",
   "execution_count": 8,
   "id": "de3119ca",
   "metadata": {},
   "outputs": [],
   "source": [
    "#(Re-)Load databases\n",
    "train_set = np.load('raw_data/high_config_potential/CSD-10k_train_set.npy', allow_pickle=True)\n",
    "val_set = np.load('raw_data/high_config_potential/CSD-10k_val_set.npy', allow_pickle=True)\n",
    "test_set = np.load('raw_data/high_config_potential/CSD-10k_test_set.npy', allow_pickle=True)"
   ]
  },
  {
   "cell_type": "markdown",
   "id": "6f5abbcf",
   "metadata": {},
   "source": [
    "## Create dressed atom energies model (i.e. baseline)\n",
    "A simple dressed atom model (baseline) is created. This is done so that the \"atomic\" energies are not learned, but rather the \"binding energies\" of each crystal is learned. "
   ]
  },
  {
   "cell_type": "code",
   "execution_count": 71,
   "id": "5ec4f386",
   "metadata": {},
   "outputs": [],
   "source": [
    "#Create a matrix of n_structures x n_atoms_per_species (i.e. 2238 x 4 matrix), and a vectors with energies of structures\n",
    "db_all = []\n",
    "[db_all.extend(db[n]) for n in db]\n",
    "\n",
    "X_all = np.zeros((len(db_all),4),dtype=int) #create matrix\n",
    "y_all = np.zeros(len(db_all)) #create vector\n",
    "for ifrm, frm in enumerate(db_all):\n",
    "    symbols=frm.get_atomic_numbers() #get atomic numbers from frame\n",
    "    y_all[ifrm]=(frm.info['energy']) #get energy from frame\n",
    "    X_all[ifrm]=[len(np.where(symbols == sp)[0]) for sp in [1,6,7,8]] #create vector of [n_H, n_C, n_N, n_O] and add to matrix\n",
    "\n",
    "np.save('raw_data/high_config_potential/X_all', X_all) #Save matrix\n",
    "np.save('raw_data/high_config_potential/y_all', y_all) #Save vector"
   ]
  },
  {
   "cell_type": "code",
   "execution_count": 72,
   "id": "b9b85fdf",
   "metadata": {},
   "outputs": [],
   "source": [
    "#Create same as above but for train set\n",
    "X_train = np.zeros((len(train_set),4),dtype=int)\n",
    "y_train = np.zeros(len(train_set))\n",
    "for ifrm, frm in enumerate(train_set):\n",
    "    symbols=frm.get_atomic_numbers()\n",
    "    y_train[ifrm]=(frm.info['energy'])\n",
    "    X_train[ifrm]=[len(np.where(symbols == sp)[0]) for sp in [1,6,7,8]]\n",
    "\n",
    "np.save('raw_data/high_config_potential/X_train', X_train) #Save matrix\n",
    "np.save('raw_data/high_config_potential/y_train', y_train) #Save vector"
   ]
  },
  {
   "cell_type": "code",
   "execution_count": 73,
   "id": "acb2a5e5",
   "metadata": {},
   "outputs": [],
   "source": [
    "#Create same as above but for validation set\n",
    "X_val = np.zeros((len(val_set),4),dtype=int)\n",
    "y_val = np.zeros(len(val_set))\n",
    "for ifrm, frm in enumerate(val_set):\n",
    "    symbols=frm.get_atomic_numbers()\n",
    "    y_val[ifrm]=(frm.info['energy'])\n",
    "    X_val[ifrm]=[len(np.where(symbols == sp)[0]) for sp in [1,6,7,8]]\n",
    "\n",
    "np.save('raw_data/high_config_potential/X_val', X_val) #Save matrix\n",
    "np.save('raw_data/high_config_potential/y_val', y_val) #Save vector"
   ]
  },
  {
   "cell_type": "code",
   "execution_count": 74,
   "id": "17af519d",
   "metadata": {},
   "outputs": [],
   "source": [
    "#Create same as above but for test set\n",
    "X_test = np.zeros((len(test_set),4),dtype=int)\n",
    "y_test = np.zeros(len(test_set))\n",
    "for ifrm, frm in enumerate(test_set):\n",
    "    symbols=frm.get_atomic_numbers()\n",
    "    y_test[ifrm]=(frm.info['energy'])\n",
    "    X_test[ifrm]=[len(np.where(symbols == sp)[0]) for sp in [1,6,7,8]]\n",
    "\n",
    "np.save('raw_data/high_config_potential/X_test', X_test) #Save matrix\n",
    "np.save('raw_data/high_config_potential/y_test', y_test) #Save vector"
   ]
  },
  {
   "cell_type": "code",
   "execution_count": 9,
   "id": "5bd7db10",
   "metadata": {},
   "outputs": [],
   "source": [
    "#(Re)Load Xs and ys for train, val, test sets\n",
    "X_all = np.load('raw_data/high_config_potential/X_all.npy')\n",
    "y_all = np.load('raw_data/high_config_potential/y_all.npy')\n",
    "\n",
    "X_train = np.load('raw_data/high_config_potential/X_train.npy')\n",
    "y_train = np.load('raw_data/high_config_potential/y_train.npy')\n",
    "\n",
    "X_val = np.load('raw_data/high_config_potential/X_val.npy')\n",
    "y_val = np.load('raw_data/high_config_potential/y_val.npy')\n",
    "\n",
    "X_test = np.load('raw_data/high_config_potential/X_test.npy')\n",
    "y_test = np.load('raw_data/high_config_potential/y_test.npy')"
   ]
  },
  {
   "cell_type": "markdown",
   "id": "1e8123a6",
   "metadata": {},
   "source": [
    "### Create model"
   ]
  },
  {
   "cell_type": "code",
   "execution_count": 16,
   "id": "a2475d8c",
   "metadata": {},
   "outputs": [
    {
     "name": "stdout",
     "output_type": "stream",
     "text": [
      "Intercept:  0.0\n",
      "Coefficients: [ -16.46576331 -154.71870284 -383.3436899  -566.22750974]\n"
     ]
    }
   ],
   "source": [
    "#Create a simple model in order to baseline energies (i.e. get a model that predicts per-atom-per-species energies)\n",
    "# This is done so that the MLP that will be created is centred around zero and independent of system size\n",
    "mlr = Ridge(alpha=1E-4, fit_intercept=False) #Don't fit intercept\n",
    "mlr.fit(X_all, y_all)\n",
    "print(\"Intercept: \", mlr.intercept_)\n",
    "print(\"Coefficients:\",mlr.coef_)"
   ]
  },
  {
   "cell_type": "code",
   "execution_count": 17,
   "id": "e6c366be",
   "metadata": {},
   "outputs": [],
   "source": [
    "#Save model\n",
    "with open('raw_data/high_config_potential/mlr.pkl','wb') as f:\n",
    "    pickle.dump(mlr, f)"
   ]
  },
  {
   "cell_type": "code",
   "execution_count": 10,
   "id": "c86c72e9",
   "metadata": {},
   "outputs": [],
   "source": [
    "#Load model\n",
    "with open('raw_data/high_config_potential/mlr.pkl', 'rb') as f:\n",
    "    mlr = pickle.load(f)"
   ]
  },
  {
   "cell_type": "markdown",
   "id": "b937746f",
   "metadata": {},
   "source": [
    "### Get reduced atom energies for train, validation, test sets"
   ]
  },
  {
   "cell_type": "code",
   "execution_count": 11,
   "id": "1d67e28f",
   "metadata": {},
   "outputs": [],
   "source": [
    "yred_train = y_train/np.sum(X_train,axis=1)-mlr.predict(X_train)/np.sum(X_train,axis=1)#Baselined per-atom binding energies of training set\n",
    "yred_val = y_val/np.sum(X_val,axis=1)-mlr.predict(X_val)/np.sum(X_val,axis=1) #Baselined per-atom binding energies of validation set\n",
    "yred_test = y_test/np.sum(X_test, axis=1)-mlr.predict(X_test)/np.sum(X_test,axis=1)#Baselined per-atom binding energies of test set"
   ]
  },
  {
   "cell_type": "markdown",
   "id": "7e2dec52",
   "metadata": {},
   "source": [
    "## Loop for hyperparameter optimisation\n",
    "Loop for optimisaing SOAP hyperparameters, as well as zeta and regularization constants. This loop can take several hours, and so the results have been saved and can be reloaded below. "
   ]
  },
  {
   "cell_type": "code",
   "execution_count": 23,
   "id": "c6e4c852",
   "metadata": {},
   "outputs": [],
   "source": [
    "#Define hyperparameters and SOAP\n",
    "zeta=3\n",
    "hypers = dict(soap_type=\"PowerSpectrum\",\n",
    "              interaction_cutoff=4, #cutoff distance in angstroms\n",
    "              max_radial=6, #no. of radial basis functions\n",
    "              max_angular=4, #no. of angular basis functions\n",
    "              gaussian_sigma_constant=0.4, #sigma width (i.e. amount of 'smearing')\n",
    "              gaussian_sigma_type=\"Constant\",\n",
    "              cutoff_function_type=\"RadialScaling\",\n",
    "              cutoff_smooth_width=0.5,\n",
    "              cutoff_function_parameters=\n",
    "                    dict(\n",
    "                            rate=1,\n",
    "                            scale=2,\n",
    "                            exponent=4\n",
    "                        ),\n",
    "              radial_basis=\"GTO\",\n",
    "              normalize=True,\n",
    "              optimization=\n",
    "                    dict(\n",
    "                            Spline=dict(\n",
    "                               accuracy=1.0e-05\n",
    "                            )\n",
    "                        ),\n",
    "              compute_gradients=False \n",
    "              )\n",
    "soap = SphericalInvariants(**hypers) #redefine soap with new parameters"
   ]
  },
  {
   "cell_type": "markdown",
   "id": "8d96545b",
   "metadata": {},
   "source": [
    "### Self-consistent loop"
   ]
  },
  {
   "cell_type": "code",
   "execution_count": null,
   "id": "6c913d0f",
   "metadata": {
    "scrolled": true
   },
   "outputs": [],
   "source": [
    "results=[]\n",
    "count=1; \n",
    "    \n",
    "#Iterate over scale\n",
    "for scale in [2.,2.5,3.]:\n",
    "    hypers['cutoff_function_parameters']['scale']=scale\n",
    "\n",
    "    #Iterate over exponent\n",
    "    for exp in [0.,1.,2.,4.]:\n",
    "        start = time()\n",
    "        hypers['cutoff_function_parameters']['exponent']=exp\n",
    "        soap = SphericalInvariants(**hypers) #redefine soap with new parameters\n",
    "        print(\"Iteration: \", count, \"/ 12\") #keep count of iteration\n",
    "        train_feat=get_features(train_set, progress_bar=False) #get features for training set\n",
    "        test_feat=get_features(test_set, progress_bar=False) #get features for validation set\n",
    "        count+=1\n",
    "\n",
    "        #Iterate over zeta values\n",
    "        for zeta in [2.,3.]:\n",
    "            K = np.dot(train_feat,train_feat.T)**zeta #compute covariance matrix for training\n",
    "            Ktest = np.dot(test_feat,train_feat.T)**zeta #compute covariance matrix for testing\n",
    "\n",
    "            #Iterate over regularization values\n",
    "            minerr = 1e24 ; minreg = 0\n",
    "            for reg in np.logspace(-9,-5,5):\n",
    "                KRR = KernelRidge(kernel='precomputed',alpha = reg)\n",
    "                KRR.fit(K,yred_train)\n",
    "                err = np.std(yred_test - KRR.predict(Ktest))\n",
    "                if err < minerr:\n",
    "                    minerr = err.copy()\n",
    "                    minreg = reg.copy()\n",
    "            print(\"\")\n",
    "            print('Created model using the following parameters:')\n",
    "            print('Scale:', scale, ' Exponent:', exp, ' Zeta:', zeta, '(Minimum) Regulariser:', minreg)\n",
    "            print('Error corresponding to this model:', np.round(minerr, 8), 'eV')\n",
    "            print(\"\")\n",
    "            results.append([minerr, scale, exp, zeta, minreg])\n",
    "\n",
    "        print('time',time()-start)\n",
    "        print(\"\")"
   ]
  },
  {
   "cell_type": "markdown",
   "id": "a119c7b4",
   "metadata": {},
   "source": [
    "### Save and (re-)load hyperparameter optimisation results"
   ]
  },
  {
   "cell_type": "code",
   "execution_count": 30,
   "id": "93b0cdad",
   "metadata": {},
   "outputs": [],
   "source": [
    "np.save('raw_data/high_config_potential/hyperparam_optimisation_results_no_normalisation', np.asarray(results))"
   ]
  },
  {
   "cell_type": "code",
   "execution_count": 31,
   "id": "727732c2",
   "metadata": {},
   "outputs": [],
   "source": [
    "hyperopt=np.load('raw_data/high_config_potential/hyperparam_optimisation_results_no_normalisation.npy')"
   ]
  },
  {
   "cell_type": "code",
   "execution_count": 41,
   "id": "660f6bd4",
   "metadata": {},
   "outputs": [
    {
     "name": "stdout",
     "output_type": "stream",
     "text": [
      "Results in order of Minimum error, scale, exponent, zeta, and regulariser\n",
      "[4.84991569e-02 2.00000000e+00 4.00000000e+00 2.00000000e+00\n",
      " 1.00000000e-05]\n"
     ]
    }
   ],
   "source": [
    "# Find optimal hyperparameters, which correspond to the lowest error\n",
    "print(\"Results in order of Minimum error, scale, exponent, zeta, and regulariser\")\n",
    "print(hyperopt[np.where(hyperopt==np.amin(hyperopt, axis=0)[0])[0][0]])"
   ]
  },
  {
   "cell_type": "markdown",
   "id": "dc43a9b8",
   "metadata": {},
   "source": [
    "Optimal parameters for the Kernel model are:\n",
    "- Scale: 2.0\n",
    "- Exponent: 4.0\n",
    "- Zeta: 2.0\n",
    "- Regulariser: 1e-5"
   ]
  },
  {
   "cell_type": "markdown",
   "id": "b8090c8c",
   "metadata": {},
   "source": [
    "## Create model"
   ]
  },
  {
   "cell_type": "code",
   "execution_count": 24,
   "id": "bc25b627",
   "metadata": {
    "code_folding": []
   },
   "outputs": [],
   "source": [
    "#Define hyperparameters and SOAP\n",
    "zeta = 2\n",
    "hypers[\"compute_gradients\"] = False\n",
    "soap = SphericalInvariants(**hypers)"
   ]
  },
  {
   "cell_type": "code",
   "execution_count": 45,
   "id": "110d0cd1",
   "metadata": {},
   "outputs": [
    {
     "name": "stdout",
     "output_type": "stream",
     "text": [
      "Computing feature matrices...\n",
      "Time taken:  49.79210186004639 s\n"
     ]
    }
   ],
   "source": [
    "# Compute feature matrices\n",
    "print(\"Computing feature matrices...\")\n",
    "start=time()\n",
    "manager_train = soap.transform(train_set) #calculating features\n",
    "print(\"Time taken: \", time()-start, \"s\")"
   ]
  },
  {
   "cell_type": "code",
   "execution_count": 46,
   "id": "b17c4d9b",
   "metadata": {},
   "outputs": [
    {
     "name": "stdout",
     "output_type": "stream",
     "text": [
      "Sparsifying training set...\n",
      "Time taken:  346.00007581710815 s\n"
     ]
    }
   ],
   "source": [
    "# Use an FPS filter to obtain desired number of sparse points per species\n",
    "nh = 2500\n",
    "nc = 2500\n",
    "nn = 2500\n",
    "no = 2500\n",
    "nsparse    = {1: nh, 6: nc, 7: nn, 8: no} #Select number of sparse environemnts per species\n",
    "compressor = FPSFilter(soap,nsparse,act_on='sample per species') #Filter to sparsify full feature matrix\n",
    "print(\"Sparsifying training set...\")\n",
    "start=time()\n",
    "X_sparse = compressor.select_and_filter(manager_train) #Apply filter to training set\n",
    "print(\"Time taken: \", time()-start, \"s\")"
   ]
  },
  {
   "cell_type": "code",
   "execution_count": 48,
   "id": "fe9abe7d",
   "metadata": {},
   "outputs": [],
   "source": [
    "dump_obj('raw_data/high_config_potential/X_sparse.json', X_sparse)"
   ]
  },
  {
   "cell_type": "code",
   "execution_count": 14,
   "id": "00f11695",
   "metadata": {},
   "outputs": [],
   "source": [
    "X_sparse = load_obj('raw_data/high_config_potential/X_sparse.json')"
   ]
  },
  {
   "cell_type": "code",
   "execution_count": 25,
   "id": "e3888dc0",
   "metadata": {},
   "outputs": [],
   "source": [
    "#Define kernel and redefine hypers \n",
    "hypers[\"compute_gradients\"] = True #we want to compute gradients (forces) for the kernel\n",
    "soap = SphericalInvariants(**hypers)\n",
    "kernel = Kernel(soap, name='GAP', zeta=zeta, target_type='Structure', kernel_type='Sparse') #Define Kernel"
   ]
  },
  {
   "cell_type": "code",
   "execution_count": 26,
   "id": "4f6d6be2",
   "metadata": {},
   "outputs": [
    {
     "data": {
      "application/vnd.jupyter.widget-view+json": {
       "model_id": "",
       "version_major": 2,
       "version_minor": 0
      },
      "text/plain": [
       "Compute KNM:   0%|          | 0/9000 [00:00<?, ?it/s]"
      ]
     },
     "metadata": {},
     "output_type": "display_data"
    },
    {
     "name": "stderr",
     "output_type": "stream",
     "text": [
      "IOPub message rate exceeded.\n",
      "The notebook server will temporarily stop sending output\n",
      "to the client in order to avoid crashing it.\n",
      "To change this limit, set the config variable\n",
      "`--NotebookApp.iopub_msg_rate_limit`.\n",
      "\n",
      "Current values:\n",
      "NotebookApp.iopub_msg_rate_limit=1000.0 (msgs/sec)\n",
      "NotebookApp.rate_limit_window=3.0 (secs)\n",
      "\n"
     ]
    },
    {
     "name": "stdout",
     "output_type": "stream",
     "text": [
      "Time taken:  82155.37623381615 s\n"
     ]
    }
   ],
   "source": [
    "#Compute kernel\n",
    "start=time()\n",
    "Knm = compute_KNM(tqdm(train_set, desc=\"Compute KNM\", leave=False), X_sparse, kernel, soap)\n",
    "print(\"Time taken: \", time()-start, \"s\")"
   ]
  },
  {
   "cell_type": "code",
   "execution_count": 27,
   "id": "d30c0457",
   "metadata": {},
   "outputs": [],
   "source": [
    "#Save kernel\n",
    "np.save('raw_data/high_config_potential/Knm_kernel', Knm)"
   ]
  },
  {
   "cell_type": "code",
   "execution_count": 15,
   "id": "9511a45c",
   "metadata": {},
   "outputs": [
    {
     "name": "stdout",
     "output_type": "stream",
     "text": [
      "Loading Knm...\n",
      "Knm loading time: 1779.0270457267761\n"
     ]
    }
   ],
   "source": [
    "start = time()\n",
    "print(\"Loading Knm...\")\n",
    "Knm = np.load('raw_data/high_config_potential/Knm_kernel.npy')\n",
    "print(\"Knm loading time:\", time()-start)"
   ]
  },
  {
   "cell_type": "code",
   "execution_count": 28,
   "id": "4bdc6fb7",
   "metadata": {},
   "outputs": [],
   "source": [
    "#get dressed atom energies for reduced training set\n",
    "y_dressed = {}\n",
    "for i,j in enumerate([1,6,7,8]):\n",
    "    y_dressed[j] = mlr.coef_[i]"
   ]
  },
  {
   "cell_type": "code",
   "execution_count": 29,
   "id": "5ccfdeca",
   "metadata": {},
   "outputs": [
    {
     "name": "stdout",
     "output_type": "stream",
     "text": [
      "Training GAP model...\n",
      "Time taken: 1739.152755022049\n"
     ]
    }
   ],
   "source": [
    "#Train GAP model\n",
    "print(\"Training GAP model...\")\n",
    "start = time()\n",
    "model = train_gap_model(kernel, train_set, Knm, X_sparse, y_train, y_dressed, \n",
    "                        grad_train=-get_forces(train_set), lambdas=[0.01,0.1], jitter=1e-9, solver = 'RKHS')\n",
    "print(\"Time taken:\", time()-start)"
   ]
  },
  {
   "cell_type": "code",
   "execution_count": 30,
   "id": "10583f11",
   "metadata": {},
   "outputs": [],
   "source": [
    "#Save model\n",
    "dump_obj('raw_data/high_config_potential/GAP_model_0.01_0.1.json', model)"
   ]
  },
  {
   "cell_type": "code",
   "execution_count": 6,
   "id": "f2e2b8d5",
   "metadata": {},
   "outputs": [],
   "source": [
    "#Reload model\n",
    "model = load_obj('raw_data/high_config_potential/GAP_model_0.01_0.1.json')"
   ]
  },
  {
   "cell_type": "code",
   "execution_count": 31,
   "id": "e5ff1f50",
   "metadata": {},
   "outputs": [],
   "source": [
    "ftt = []\n",
    "for frm in test_set:\n",
    "    ftt.append(frm.get_array('forces'))\n",
    "f_test = np.concatenate(ftt)"
   ]
  },
  {
   "cell_type": "code",
   "execution_count": 38,
   "id": "1a4ee5b9",
   "metadata": {
    "code_folding": []
   },
   "outputs": [
    {
     "data": {
      "application/vnd.jupyter.widget-view+json": {
       "model_id": "",
       "version_major": 2,
       "version_minor": 0
      },
      "text/plain": [
       "Making predictions for test set...:   0%|          | 0/1000 [00:00<?, ?it/s]"
      ]
     },
     "metadata": {},
     "output_type": "display_data"
    }
   ],
   "source": [
    "#predict energies and forces for validation set\n",
    "ytp = []\n",
    "ftp = []\n",
    "\n",
    "for ifrm, frm in enumerate(tqdm(test_set, desc = \"Making predictions for test set...\", leave=False)):\n",
    "    manager_test = soap.transform(frm)\n",
    "    ytp.append(model.predict(manager_test))\n",
    "    ftp.append(model.predict_forces(manager_test))\n",
    "\n",
    "yt_pred = np.array(ytp).flatten()\n",
    "ft_pred = np.concatenate(ftp)"
   ]
  },
  {
   "cell_type": "code",
   "execution_count": 43,
   "id": "873cd926",
   "metadata": {},
   "outputs": [
    {
     "data": {
      "text/plain": [
       "(88288, 3)"
      ]
     },
     "execution_count": 43,
     "metadata": {},
     "output_type": "execute_result"
    }
   ],
   "source": [
    "f_test.shape"
   ]
  },
  {
   "cell_type": "code",
   "execution_count": 44,
   "id": "35b722fc",
   "metadata": {},
   "outputs": [
    {
     "data": {
      "text/plain": [
       "(88288, 3)"
      ]
     },
     "execution_count": 44,
     "metadata": {},
     "output_type": "execute_result"
    }
   ],
   "source": [
    "ft_pred.shape"
   ]
  },
  {
   "cell_type": "code",
   "execution_count": 45,
   "id": "81b51404",
   "metadata": {},
   "outputs": [
    {
     "data": {
      "text/plain": [
       "Text(0.5, 1.0, 'Forces (ev/$\\\\AA$)')"
      ]
     },
     "execution_count": 45,
     "metadata": {},
     "output_type": "execute_result"
    },
    {
     "data": {
      "image/png": "[encoded data removed]",
      "text/plain": [
       "<Figure size 720x360 with 2 Axes>"
      ]
     },
     "metadata": {
      "needs_background": "light"
     },
     "output_type": "display_data"
    }
   ],
   "source": [
    "#Plot predicted vs. actual energies and forces\n",
    "f,p = plt.subplots(1,2, figsize = (10, 5))\n",
    "p[0].scatter((y_test - mlr.predict(X_test))/np.sum(X_test,axis=1),\n",
    "             (yt_pred - mlr.predict(X_test))/np.sum(X_test,axis=1))\n",
    "p[0].set_title('Energies (eV)')\n",
    "p[0].set()\n",
    "p[1].scatter(f_test.flatten(), ft_pred.flatten())\n",
    "p[1].set_title(r'Forces (ev/$\\AA$)')"
   ]
  },
  {
   "cell_type": "code",
   "execution_count": 51,
   "id": "69c7070b",
   "metadata": {},
   "outputs": [],
   "source": [
    "rmse_energy = np.sqrt(np.mean(((y_test - mlr.predict(X_test))/np.sum(X_test,axis=1) \n",
    "                              - (yt_pred - mlr.predict(X_test))/np.sum(X_test,axis=1))**2))"
   ]
  },
  {
   "cell_type": "code",
   "execution_count": 54,
   "id": "fe48b0a1",
   "metadata": {},
   "outputs": [],
   "source": [
    "rmse_forces = np.sqrt(np.mean((f_test.flatten() - ft_pred.flatten())**2))"
   ]
  },
  {
   "cell_type": "code",
   "execution_count": 55,
   "id": "534729fa",
   "metadata": {},
   "outputs": [
    {
     "name": "stdout",
     "output_type": "stream",
     "text": [
      "0.06152550275747526 0.4870275413974186\n"
     ]
    }
   ],
   "source": [
    "print(rmse_energy, rmse_forces)"
   ]
  },
  {
   "cell_type": "code",
   "execution_count": 56,
   "id": "f8007f23",
   "metadata": {},
   "outputs": [],
   "source": [
    "np.savetxt('raw_data/high_config_potential/model_0.01_0.1_results.txt', np.array([rmse_energy, rmse_forces]))"
   ]
  },
  {
   "cell_type": "code",
   "execution_count": null,
   "id": "eacb0003",
   "metadata": {},
   "outputs": [],
   "source": []
  }
 ],
 "metadata": {
  "kernelspec": {
   "display_name": "Python 3 (ipykernel)",
   "language": "python",
   "name": "python3"
  },
  "language_info": {
   "codemirror_mode": {
    "name": "ipython",
    "version": 3
   },
   "file_extension": ".py",
   "mimetype": "text/x-python",
   "name": "python",
   "nbconvert_exporter": "python",
   "pygments_lexer": "ipython3",
   "version": "3.9.12"
  },
  "toc": {
   "base_numbering": "6",
   "nav_menu": {},
   "number_sections": true,
   "sideBar": true,
   "skip_h1_title": false,
   "title_cell": "Table of Contents",
   "title_sidebar": "Contents",
   "toc_cell": false,
   "toc_position": {},
   "toc_section_display": true,
   "toc_window_display": true
  }
 },
 "nbformat": 4,
 "nbformat_minor": 5
}
