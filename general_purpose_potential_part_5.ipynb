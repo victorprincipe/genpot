{
 "cells": [
  {
   "cell_type": "markdown",
   "id": "6338a405",
   "metadata": {},
   "source": [
    "# Creating a General Purpose Potential for Molecular Crystals - Part 5"
   ]
  },
  {
   "cell_type": "markdown",
   "id": "ff43510b",
   "metadata": {},
   "source": [
    "This notebook is used to create a general purpose GAP potential for molecular crystals. The potential is built on PBE-D3 data from short PIMD simulations of 2238 different molecular crystals. Please note that it has a high (~150 GB) memory requirement to run fully."
   ]
  },
  {
   "cell_type": "markdown",
   "id": "ed2df57e",
   "metadata": {},
   "source": [
    "In this part of the notebook: \n",
    "- More tests..."
   ]
  },
  {
   "cell_type": "markdown",
   "id": "fbeab8a3",
   "metadata": {},
   "source": [
    "### Import modules, functions, and necessary raw data from parts 1, 2 and 3"
   ]
  },
  {
   "cell_type": "code",
   "execution_count": 1,
   "id": "1a9b1ef1",
   "metadata": {
    "code_folding": [
     0
    ],
    "hide_input": false
   },
   "outputs": [],
   "source": [
    "#Import modules\n",
    "from matplotlib import pylab as plt\n",
    "from tqdm import tqdm\n",
    "import itertools\n",
    "from joblib import Parallel, delayed, parallel_backend\n",
    "\n",
    "import pickle\n",
    "import numpy as np\n",
    "from numpy.random import RandomState\n",
    "random_state = RandomState(0)\n",
    "from sklearn import linear_model\n",
    "import skcosmo.feature_selection\n",
    "#from skcosmo.feature_selection import FPS\n",
    "from skcosmo.sample_selection import PCovCUR, FPS\n",
    "from skcosmo.preprocessing import StandardFlexibleScaler\n",
    "from sklearn.linear_model import LinearRegression, Ridge\n",
    "from sklearn.model_selection import GroupKFold, cross_val_score\n",
    "from sklearn.kernel_ridge import KernelRidge\n",
    "from sklearn.metrics import mean_squared_error\n",
    "from sklearn.pipeline import Pipeline\n",
    "from skopt.space import Real, Integer\n",
    "from skopt.utils import use_named_args\n",
    "from skopt import gp_minimize, callbacks, dump, load\n",
    "from skopt.callbacks import CheckpointSaver\n",
    "from skopt.plots import plot_convergence, plot_objective\n",
    "\n",
    "import ase\n",
    "from ase.io import read, write\n",
    "from ase.build import make_supercell\n",
    "from ase.visualize import view\n",
    "import numpy as np\n",
    "# If installed -- not essential, though\n",
    "try:\n",
    "    from tqdm.notebook import tqdm\n",
    "except ImportError:\n",
    "    tqdm = (lambda i, **kwargs: i)\n",
    "\n",
    "from time import time, sleep\n",
    "\n",
    "from rascal.models import KRR\n",
    "from rascal.utils import dump_obj, load_obj\n",
    "\n",
    "from rascal.models import Kernel, train_gap_model, compute_KNM\n",
    "from rascal.representations import SphericalInvariants\n",
    "from rascal.neighbourlist.structure_manager import mask_center_atoms_by_species\n",
    "from rascal.utils import from_dict, to_dict, CURFilter, FPSFilter, dump_obj, load_obj\n",
    "from rascal.utils import get_score, get_optimal_radial_basis_hypers\n",
    "from rascal.utils.io import load_json, dump_json"
   ]
  },
  {
   "cell_type": "code",
   "execution_count": 2,
   "id": "d3e3877a",
   "metadata": {
    "code_folding": [
     0,
     1
    ]
   },
   "outputs": [],
   "source": [
    "#Define functions\n",
    "def do_fps(x, d=0):\n",
    "    \"\"\"\n",
    "    Function for performing farthest-point-sampling for a given feature matrix.\n",
    "    d gives the number of farthest-point-sampled feature vectors that will be outputted. \n",
    "    If d==0, the entire set will be FPS-sorted.\n",
    "    Returns the FPS-sorted IDs, as well as the FPS distances.\n",
    "    \"\"\"\n",
    "    if d == 0 : d = len(x)\n",
    "    n = len(x)\n",
    "    iy = np.zeros(d, int)\n",
    "    # faster evaluation of Euclidean distance\n",
    "    n2 = np.sum(x**2,axis=1)\n",
    "    iy[0] = 0\n",
    "    dl = n2 + n2[iy[0]] - 2* np.dot(x, x[iy[0]])\n",
    "    dss = []\n",
    "    for i in range(1,d):\n",
    "        iy[i] = np.argmax(dl)\n",
    "        nd = n2 + n2[iy[i]] - 2*np.dot(x,x[iy[i]])\n",
    "        dl = np.minimum(dl, nd)\n",
    "        dss.append(max(dl))\n",
    "    return iy,dss\n",
    "\n",
    "def get_forces(frames):\n",
    "    frc = np.zeros((np.sum([len(frm) for frm in frames]),3))\n",
    "    iat = 0\n",
    "    for ifrm,frm in enumerate(frames):\n",
    "        frc[iat:iat+len(frm)] = frm.get_array('forces') \n",
    "        iat += len(frm)\n",
    "    return frc\n",
    "\n",
    "def get_features(atoms_objects, batch_size=1000, progress_bar=True):\n",
    "    '''Get average feature vectors for each structure in a list of atoms objects. \n",
    "        This requires soap to be set.\n",
    "    '''\n",
    "    struct_feat=[] #create empty feature vector of n_structures x n_features\n",
    "    got_frame = False\n",
    "    for frm in atoms_objects:\n",
    "        if got_frame == False: \n",
    "            if all(sp in frm.get_atomic_numbers() for sp in [1,6,7,8]) == True:\n",
    "                all_species = frm\n",
    "                got_frame = True\n",
    "    for i in tqdm(range(int(len(atoms_objects)/batch_size+0.9999)), disable = not progress_bar): #Get feature vectors in batches of 1000\n",
    "        for frm in atoms_objects[i*batch_size:(i+1)*batch_size]:\n",
    "            frm.wrap(eps=1e-13) #wrap atoms in unit cell\n",
    "        frames=[all_species.copy()] #add initial frame with all species\n",
    "        frames.extend(atoms_objects[i*batch_size:(i+1)*batch_size]) #extend initial frame with frames of batch\n",
    "        manager = soap.transform(frames) #calculate soap features for all structures in batch\n",
    "        env_feat_batch = manager.get_features(soap)[len(all_species):] #get feature vectors for all structures in batch\n",
    "        # (having removed the initial frame)\n",
    "        atom_counter=0 #count atoms\n",
    "        for ifrm,frm in enumerate(atoms_objects[i*batch_size:(i+1)*batch_size]): #iterate over frames in batch\n",
    "            nat=len(frm) #count atoms in frame\n",
    "            struct_feat.append(np.mean(env_feat_batch[atom_counter:atom_counter+nat],axis=0)) #average vectors\n",
    "            # for atoms in the same frame. Done by averaging vectors between atom_counter and atom_counter + nat\n",
    "            atom_counter+=nat #add atoms to counter\n",
    "    struct_feat_array=np.asarray(struct_feat)\n",
    "    return struct_feat_array\n",
    "\n",
    "def get_features_parallel(atoms_objects, bsize=1000, n_cores = 4):\n",
    "    '''Get average feature vectors for each structure in a list of atoms objects. \n",
    "        Do this in parallel\n",
    "    '''\n",
    "    blocks = []\n",
    "    for iblk, blk in enumerate(range(0, len(atoms_objects), bsize)):\n",
    "        blocks.append(atoms_objects[iblk*bsize:(iblk+1)*bsize])\n",
    "    with parallel_backend(backend=\"loky\"):\n",
    "        results = Parallel(n_jobs=n_cores)(delayed(get_features)(frames, batch_size=10000, \n",
    "                                                                 progress_bar=False) for frames in blocks)\n",
    "\n",
    "    return np.concatenate(results)\n",
    "\n",
    "def predict_batched(frames, ml_model):\n",
    "    man_pred = soap.transform(frames)\n",
    "    return ml_model.predict(man_pred)"
   ]
  },
  {
   "cell_type": "code",
   "execution_count": 3,
   "id": "849fe9cf",
   "metadata": {
    "code_folding": []
   },
   "outputs": [
    {
     "name": "stderr",
     "output_type": "stream",
     "text": [
      "/home/vprincip/code/miniconda3/envs/genshift/lib/python3.9/site-packages/sklearn/base.py:329: UserWarning: Trying to unpickle estimator Ridge from version 1.1.0rc1 when using version 1.0.2. This might lead to breaking code or invalid results. Use at your own risk. For more info please refer to:\n",
      "https://scikit-learn.org/stable/modules/model_persistence.html#security-maintainability-limitations\n",
      "  warnings.warn(\n"
     ]
    }
   ],
   "source": [
    "#Import raw data\n",
    "train_set = np.load('raw_data/CSD-10k_train_set.npy', allow_pickle=True)\n",
    "val_set = np.load('raw_data/CSD-10k_val_set.npy', allow_pickle=True)\n",
    "test_set = np.load('raw_data/CSD-10k_test_set.npy', allow_pickle=True)\n",
    "X_train = np.load('raw_data/X_train.npy') \n",
    "y_train = np.load('raw_data/y_train.npy')\n",
    "X_val = np.load('raw_data/X_val.npy') \n",
    "y_val = np.load('raw_data/y_val.npy')\n",
    "X_test = np.load('raw_data/X_test.npy') \n",
    "y_test = np.load('raw_data/y_test.npy')\n",
    "X_train_fps = np.load('raw_data/X_train_fps.npy')\n",
    "y_train_fps = np.load('raw_data/y_train_fps.npy')\n",
    "fps_ids = np.load('raw_data/CSD-10k_train_set_FPS_ids.npy')\n",
    "fps_dist = np.load('raw_data/CSD-10k_train_set_FPS_dist.npy')\n",
    "with open('raw_data/mlr.pkl', 'rb') as mlr_file:\n",
    "    mlr = pickle.load(mlr_file)\n",
    "initial_train_set = np.load('raw_data/initial_train_set_4pc.npy', allow_pickle=True)\n",
    "train_set_FPS = np.load('model_data/train_set_FPS.npy', allow_pickle=True)"
   ]
  },
  {
   "cell_type": "markdown",
   "id": "8b7890c8",
   "metadata": {},
   "source": [
    "### Compute necessary data and define SOAP"
   ]
  },
  {
   "cell_type": "code",
   "execution_count": 4,
   "id": "6061b01d",
   "metadata": {
    "code_folding": [
     0
    ]
   },
   "outputs": [],
   "source": [
    "#Compute training, validation and testing data\n",
    "#Get training data for the FPS-sorted training set\n",
    "ytF = []\n",
    "for ifrm, frm in enumerate(train_set_FPS):\n",
    "    ytF.append(frm.info['energy'])\n",
    "ytrain_FPS = np.array(ytF)\n",
    "\n",
    "#Get true energies and forces for validation set\n",
    "yvt = []\n",
    "fvt = []\n",
    "\n",
    "for frm in val_set:\n",
    "    yvt.append(frm.info['energy'])\n",
    "    fvt.append(frm.get_array('forces'))\n",
    "\n",
    "yval_true = np.array(yvt)\n",
    "fval_true = np.concatenate(fvt)\n",
    "\n",
    "#Get true energies and forces for test set\n",
    "ytt = []\n",
    "ftt = []\n",
    "\n",
    "for frm in test_set:\n",
    "    ytt.append(frm.info['energy'])\n",
    "    ftt.append(frm.get_array('forces'))\n",
    "\n",
    "ytest_true = np.array(ytt)\n",
    "ftest_true = np.concatenate(ftt)\n",
    "\n",
    "#get dressed atom energies for reduced training set\n",
    "y_dressed = {}\n",
    "for i,j in enumerate([1,6,7,8]):\n",
    "    y_dressed[j] = mlr.coef_[i]"
   ]
  },
  {
   "cell_type": "code",
   "execution_count": 5,
   "id": "bc767762",
   "metadata": {
    "code_folding": [
     0
    ]
   },
   "outputs": [],
   "source": [
    "#Define hyperparameters and SOAP\n",
    "zeta=3\n",
    "hypers = dict(soap_type=\"PowerSpectrum\",\n",
    "              interaction_cutoff=6, #cutoff distance in angstroms\n",
    "              max_radial=9, #no. of radial basis functions\n",
    "              max_angular=6, #no. of angular basis functions\n",
    "              gaussian_sigma_constant=0.4, #sigma width (i.e. amount of 'smearing')\n",
    "              gaussian_sigma_type=\"Constant\",\n",
    "              cutoff_function_type=\"RadialScaling\",\n",
    "              cutoff_smooth_width=0.5,\n",
    "              cutoff_function_parameters=\n",
    "                    dict(\n",
    "                            rate=1,\n",
    "                            scale=2,\n",
    "                            exponent=4\n",
    "                        ),\n",
    "              radial_basis=\"GTO\",\n",
    "              normalize=True,\n",
    "              optimization=\n",
    "                    dict(\n",
    "                            Spline=dict(\n",
    "                               accuracy=1.0e-05\n",
    "                            )\n",
    "                        ),\n",
    "              compute_gradients=False \n",
    "              )\n",
    "soap = SphericalInvariants(**hypers) #redefine soap with new parameters"
   ]
  },
  {
   "cell_type": "markdown",
   "id": "37772b34",
   "metadata": {},
   "source": [
    "## Create learning curves for energy and force predictions"
   ]
  },
  {
   "cell_type": "code",
   "execution_count": 6,
   "id": "494a838f",
   "metadata": {
    "code_folding": []
   },
   "outputs": [],
   "source": [
    "#Define hyperparameters and SOAP\n",
    "zeta=3\n",
    "hypers = dict(soap_type=\"PowerSpectrum\",\n",
    "              interaction_cutoff=6, #cutoff distance in angstroms\n",
    "              max_radial=6, #no. of radial basis functions\n",
    "              max_angular=6, #no. of angular basis functions\n",
    "              gaussian_sigma_constant=0.4, #sigma width (i.e. amount of 'smearing')\n",
    "              gaussian_sigma_type=\"Constant\",\n",
    "              cutoff_function_type=\"RadialScaling\",\n",
    "              cutoff_smooth_width=0.5,\n",
    "              cutoff_function_parameters=\n",
    "                    dict(\n",
    "                            rate=1,\n",
    "                            scale=2,\n",
    "                            exponent=4\n",
    "                        ),\n",
    "              radial_basis=\"GTO\",\n",
    "              normalize=True,\n",
    "              optimization=\n",
    "                    dict(\n",
    "                            Spline=dict(\n",
    "                               accuracy=1.0e-05\n",
    "                            )\n",
    "                        ),\n",
    "              compute_gradients=False \n",
    "              )\n",
    "soap = SphericalInvariants(**hypers) #redefine soap with new parameters"
   ]
  },
  {
   "cell_type": "code",
   "execution_count": 10,
   "id": "d28f99f1",
   "metadata": {},
   "outputs": [],
   "source": [
    "ntrain = 14000"
   ]
  },
  {
   "cell_type": "code",
   "execution_count": 22,
   "id": "986b837e",
   "metadata": {},
   "outputs": [
    {
     "name": "stdout",
     "output_type": "stream",
     "text": [
      "Computing feature matrices...\n",
      "Time taken:  256.2414925098419 s\n"
     ]
    }
   ],
   "source": [
    "# Compute feature matrices\n",
    "print(\"Computing feature matrices...\")\n",
    "start=time()\n",
    "manager_train = soap.transform(train_set_FPS[:ntrain]) #calculating features\n",
    "print(\"Time taken: \", time()-start, \"s\")"
   ]
  },
  {
   "cell_type": "code",
   "execution_count": 23,
   "id": "b53a7704",
   "metadata": {},
   "outputs": [
    {
     "name": "stdout",
     "output_type": "stream",
     "text": [
      "Sparsifying training set...\n",
      "Time taken:  899.6643948554993 s\n"
     ]
    }
   ],
   "source": [
    "# Use an FPS filter to obtain desired number of sparse points per species\n",
    "nh = 2000\n",
    "nc = 2000\n",
    "nn = 2000\n",
    "no = 2000\n",
    "nsparse    = {1: nh, 6: nc, 7: nn, 8: no} #Select number of sparse environemnts per species\n",
    "compressor = FPSFilter(soap,nsparse,act_on='sample per species') #Filter to sparsify full feature matrix\n",
    "print(\"Sparsifying training set...\")\n",
    "start=time()\n",
    "X_sparse = compressor.select_and_filter(manager_train) #Apply filter to training set\n",
    "print(\"Time taken: \", time()-start, \"s\")"
   ]
  },
  {
   "cell_type": "code",
   "execution_count": 24,
   "id": "73c6dd29",
   "metadata": {},
   "outputs": [],
   "source": [
    "dump_obj('raw_data/X_sparse_14k.json', X_sparse)"
   ]
  },
  {
   "cell_type": "code",
   "execution_count": 11,
   "id": "3f8acf60",
   "metadata": {},
   "outputs": [],
   "source": [
    "X_sparse = load_obj('raw_data/X_sparse_14k.json')"
   ]
  },
  {
   "cell_type": "code",
   "execution_count": 12,
   "id": "ddbae18b",
   "metadata": {},
   "outputs": [],
   "source": [
    "#Define kernel \n",
    "hypers[\"compute_gradients\"] = True\n",
    "soap = SphericalInvariants(**hypers)\n",
    "kernel = Kernel(soap, name='GAP', zeta=zeta, target_type='Structure', kernel_type='Sparse') #Define Kernel"
   ]
  },
  {
   "cell_type": "code",
   "execution_count": null,
   "id": "35ce1a28",
   "metadata": {},
   "outputs": [],
   "source": [
    "start=time()\n",
    "Knm = compute_KNM(tqdm(train_set_FPS[:ntrain], desc=\"Compute KNM\", leave=False), X_sparse, kernel, soap)\n",
    "print(\"Time taken: \", time()-start, \"s\")"
   ]
  },
  {
   "cell_type": "markdown",
   "id": "5522137f",
   "metadata": {},
   "source": [
    "Knm[:nstructs] has the energy row of each structure \n",
    "\n",
    "Knm[nstructs:] has the force rows of each structure, which is organised as follows:\n",
    "- There are natoms * 3 rows per structure\n",
    "- Organised in the order of structures in nstruct\n",
    "- i.e., to extract the force rows for structure with index 0, you have to figure out the number of atoms in that structure (e.g. 40), and multiply by 3, and then extract those indices from the end of the energy rows for all structures (as this is the structure with index 0). I.e. : Knm[nstruct:(nstruct+(40*3))]"
   ]
  },
  {
   "cell_type": "code",
   "execution_count": null,
   "id": "715d0d4f",
   "metadata": {},
   "outputs": [],
   "source": [
    "np.save('raw_data/Knm_kernel_14k', Knm)\n",
    "print(\"KNM saved\")"
   ]
  },
  {
   "cell_type": "code",
   "execution_count": 14,
   "id": "c97258dd",
   "metadata": {},
   "outputs": [],
   "source": [
    "Knm = np.load('raw_data/Knm_kernel_14k.npy')"
   ]
  },
  {
   "cell_type": "code",
   "execution_count": 13,
   "id": "5b514e8e",
   "metadata": {},
   "outputs": [],
   "source": [
    "#make list of number of atoms in each structure\n",
    "nat_per_struct=[]\n",
    "for frm in train_set_FPS[:ntrain]:\n",
    "    nat_per_struct.append(len(frm))"
   ]
  },
  {
   "cell_type": "code",
   "execution_count": null,
   "id": "e5a59ba3",
   "metadata": {},
   "outputs": [],
   "source": [
    "#Train GAP model\n",
    "print(\"Training GAP model...\")\n",
    "start = time()\n",
    "full_model = train_gap_model(kernel, train_set_FPS[:ntrain], Knm, X_sparse, ytrain_FPS[:ntrain], y_dressed, \n",
    "                        grad_train=-get_forces(train_set_FPS[:ntrain]), lambdas=[0.055,3.25], jitter=1e-9, \n",
    "                        solver = 'RKHS')\n",
    "print(\"Time taken:\", time()-start)"
   ]
  },
  {
   "cell_type": "code",
   "execution_count": null,
   "id": "1cddf411",
   "metadata": {
    "code_folding": []
   },
   "outputs": [],
   "source": [
    "#predict energies and forces for validation set\n",
    "npred=1000\n",
    "yvp = []\n",
    "fvp = []\n",
    "\n",
    "for ifrm, frm in enumerate(tqdm(val_set[:npred], desc = \"Making predictions for validation set...\", leave=False)):\n",
    "    manager_val = soap.transform(frm)\n",
    "    yvp.append(full_model.predict(manager_val))\n",
    "    fvp.append(full_model.predict_forces(manager_val))\n",
    "\n",
    "yval_pred = np.array(yvp).flatten()\n",
    "fval_pred = np.concatenate(fvp)"
   ]
  },
  {
   "cell_type": "code",
   "execution_count": null,
   "id": "a3d45985",
   "metadata": {},
   "outputs": [],
   "source": [
    "np.save('results_data/yval_pred_14k', yval_pred)\n",
    "np.save('results_data/fval_pred_14k', fval_pred)"
   ]
  },
  {
   "cell_type": "code",
   "execution_count": 13,
   "id": "b317fb1a",
   "metadata": {},
   "outputs": [],
   "source": [
    "npred=1000\n",
    "yval_pred = np.load('results_data/yval_pred_14k.npy')\n",
    "fval_pred = np.load('results_data/fval_pred_14k.npy')"
   ]
  },
  {
   "cell_type": "code",
   "execution_count": 14,
   "id": "8cb81193",
   "metadata": {},
   "outputs": [],
   "source": [
    "rmse_energy = np.sqrt(np.mean(((yval_true[:npred] - mlr.predict(X_val[:npred]))/np.sum(X_val[:npred],axis=1) - (yval_pred[:npred] - mlr.predict(X_val[:npred]))/np.sum(X_val[:npred],axis=1))**2))"
   ]
  },
  {
   "cell_type": "code",
   "execution_count": 17,
   "id": "c4639618",
   "metadata": {},
   "outputs": [],
   "source": [
    "rmse_forces = np.sqrt(np.mean((fval_true.flatten()[:npred] - fval_pred.flatten()[:npred])**2))"
   ]
  },
  {
   "cell_type": "code",
   "execution_count": 18,
   "id": "7f2c0133",
   "metadata": {},
   "outputs": [
    {
     "name": "stdout",
     "output_type": "stream",
     "text": [
      "RMSE energy: 0.005445800449245529 eV/atom\n",
      "RMSE forces: 0.38404849064855484 eV/angstrom\n"
     ]
    }
   ],
   "source": [
    "print('RMSE energy:', rmse_energy, 'eV/atom')\n",
    "print('RMSE forces:', rmse_forces, 'eV/angstrom')"
   ]
  },
  {
   "cell_type": "code",
   "execution_count": 15,
   "id": "303b74e3",
   "metadata": {},
   "outputs": [
    {
     "name": "stdout",
     "output_type": "stream",
     "text": [
      "Creating model using 1000 training structures...\n",
      "Computing kernel...\n",
      "Creating model...\n"
     ]
    },
    {
     "data": {
      "application/vnd.jupyter.widget-view+json": {
       "model_id": "",
       "version_major": 2,
       "version_minor": 0
      },
      "text/plain": [
       "Making predictions for validation set...:   0%|          | 0/1000 [00:00<?, ?it/s]"
      ]
     },
     "metadata": {},
     "output_type": "display_data"
    },
    {
     "name": "stdout",
     "output_type": "stream",
     "text": [
      "Predictions saved.\n",
      "RMSE energy: 0.018605185747567955 eV/atom\n",
      "RMSE forces: 0.374288145112019 eV/angstrom\n",
      "\n",
      "Creating model using 2000 training structures...\n",
      "Computing kernel...\n",
      "Creating model...\n"
     ]
    },
    {
     "data": {
      "application/vnd.jupyter.widget-view+json": {
       "model_id": "",
       "version_major": 2,
       "version_minor": 0
      },
      "text/plain": [
       "Making predictions for validation set...:   0%|          | 0/1000 [00:00<?, ?it/s]"
      ]
     },
     "metadata": {},
     "output_type": "display_data"
    },
    {
     "name": "stdout",
     "output_type": "stream",
     "text": [
      "Predictions saved.\n",
      "RMSE energy: 0.010180187480841303 eV/atom\n",
      "RMSE forces: 0.38900621538794705 eV/angstrom\n",
      "\n",
      "Creating model using 3000 training structures...\n",
      "Computing kernel...\n",
      "Creating model...\n"
     ]
    },
    {
     "data": {
      "application/vnd.jupyter.widget-view+json": {
       "model_id": "",
       "version_major": 2,
       "version_minor": 0
      },
      "text/plain": [
       "Making predictions for validation set...:   0%|          | 0/1000 [00:00<?, ?it/s]"
      ]
     },
     "metadata": {},
     "output_type": "display_data"
    },
    {
     "name": "stdout",
     "output_type": "stream",
     "text": [
      "Predictions saved.\n",
      "RMSE energy: 0.007117896428504622 eV/atom\n",
      "RMSE forces: 0.39074154333210837 eV/angstrom\n",
      "\n",
      "Creating model using 4000 training structures...\n",
      "Computing kernel...\n",
      "Creating model...\n"
     ]
    },
    {
     "data": {
      "application/vnd.jupyter.widget-view+json": {
       "model_id": "",
       "version_major": 2,
       "version_minor": 0
      },
      "text/plain": [
       "Making predictions for validation set...:   0%|          | 0/1000 [00:00<?, ?it/s]"
      ]
     },
     "metadata": {},
     "output_type": "display_data"
    },
    {
     "name": "stdout",
     "output_type": "stream",
     "text": [
      "Predictions saved.\n",
      "RMSE energy: 0.006650503363529594 eV/atom\n",
      "RMSE forces: 0.38974427987493065 eV/angstrom\n",
      "\n",
      "Creating model using 5000 training structures...\n",
      "Computing kernel...\n",
      "Creating model...\n"
     ]
    },
    {
     "data": {
      "application/vnd.jupyter.widget-view+json": {
       "model_id": "",
       "version_major": 2,
       "version_minor": 0
      },
      "text/plain": [
       "Making predictions for validation set...:   0%|          | 0/1000 [00:00<?, ?it/s]"
      ]
     },
     "metadata": {},
     "output_type": "display_data"
    },
    {
     "name": "stdout",
     "output_type": "stream",
     "text": [
      "Predictions saved.\n",
      "RMSE energy: 0.00637998814212301 eV/atom\n",
      "RMSE forces: 0.3908333615365183 eV/angstrom\n",
      "\n",
      "Creating model using 6000 training structures...\n",
      "Computing kernel...\n",
      "Creating model...\n"
     ]
    },
    {
     "data": {
      "application/vnd.jupyter.widget-view+json": {
       "model_id": "",
       "version_major": 2,
       "version_minor": 0
      },
      "text/plain": [
       "Making predictions for validation set...:   0%|          | 0/1000 [00:00<?, ?it/s]"
      ]
     },
     "metadata": {},
     "output_type": "display_data"
    },
    {
     "name": "stdout",
     "output_type": "stream",
     "text": [
      "Predictions saved.\n",
      "RMSE energy: 0.006217729178197441 eV/atom\n",
      "RMSE forces: 0.3873547382079486 eV/angstrom\n",
      "\n",
      "Creating model using 7000 training structures...\n",
      "Computing kernel...\n",
      "Creating model...\n"
     ]
    },
    {
     "data": {
      "application/vnd.jupyter.widget-view+json": {
       "model_id": "",
       "version_major": 2,
       "version_minor": 0
      },
      "text/plain": [
       "Making predictions for validation set...:   0%|          | 0/1000 [00:00<?, ?it/s]"
      ]
     },
     "metadata": {},
     "output_type": "display_data"
    },
    {
     "name": "stdout",
     "output_type": "stream",
     "text": [
      "Predictions saved.\n",
      "RMSE energy: 0.005969171250072053 eV/atom\n",
      "RMSE forces: 0.38626271700082665 eV/angstrom\n",
      "\n",
      "Creating model using 8000 training structures...\n",
      "Computing kernel...\n",
      "Creating model...\n"
     ]
    },
    {
     "data": {
      "application/vnd.jupyter.widget-view+json": {
       "model_id": "",
       "version_major": 2,
       "version_minor": 0
      },
      "text/plain": [
       "Making predictions for validation set...:   0%|          | 0/1000 [00:00<?, ?it/s]"
      ]
     },
     "metadata": {},
     "output_type": "display_data"
    },
    {
     "name": "stdout",
     "output_type": "stream",
     "text": [
      "Predictions saved.\n",
      "RMSE energy: 0.00577435914483878 eV/atom\n",
      "RMSE forces: 0.38546857390970407 eV/angstrom\n",
      "\n",
      "Creating model using 9000 training structures...\n",
      "Computing kernel...\n",
      "Creating model...\n"
     ]
    },
    {
     "data": {
      "application/vnd.jupyter.widget-view+json": {
       "model_id": "",
       "version_major": 2,
       "version_minor": 0
      },
      "text/plain": [
       "Making predictions for validation set...:   0%|          | 0/1000 [00:00<?, ?it/s]"
      ]
     },
     "metadata": {},
     "output_type": "display_data"
    },
    {
     "name": "stdout",
     "output_type": "stream",
     "text": [
      "Predictions saved.\n",
      "RMSE energy: 0.0056725263823453834 eV/atom\n",
      "RMSE forces: 0.3839886377315317 eV/angstrom\n",
      "\n",
      "Creating model using 10000 training structures...\n",
      "Computing kernel...\n",
      "Creating model...\n"
     ]
    },
    {
     "data": {
      "application/vnd.jupyter.widget-view+json": {
       "model_id": "",
       "version_major": 2,
       "version_minor": 0
      },
      "text/plain": [
       "Making predictions for validation set...:   0%|          | 0/1000 [00:00<?, ?it/s]"
      ]
     },
     "metadata": {},
     "output_type": "display_data"
    },
    {
     "name": "stdout",
     "output_type": "stream",
     "text": [
      "Predictions saved.\n",
      "RMSE energy: 0.005573389811260722 eV/atom\n",
      "RMSE forces: 0.3814997985532318 eV/angstrom\n",
      "\n",
      "Creating model using 11000 training structures...\n",
      "Computing kernel...\n",
      "Creating model...\n"
     ]
    },
    {
     "data": {
      "application/vnd.jupyter.widget-view+json": {
       "model_id": "",
       "version_major": 2,
       "version_minor": 0
      },
      "text/plain": [
       "Making predictions for validation set...:   0%|          | 0/1000 [00:00<?, ?it/s]"
      ]
     },
     "metadata": {},
     "output_type": "display_data"
    },
    {
     "name": "stdout",
     "output_type": "stream",
     "text": [
      "Predictions saved.\n",
      "RMSE energy: 0.005525750486718551 eV/atom\n",
      "RMSE forces: 0.382403325089767 eV/angstrom\n",
      "\n",
      "Creating model using 12000 training structures...\n",
      "Computing kernel...\n",
      "Creating model...\n"
     ]
    },
    {
     "data": {
      "application/vnd.jupyter.widget-view+json": {
       "model_id": "",
       "version_major": 2,
       "version_minor": 0
      },
      "text/plain": [
       "Making predictions for validation set...:   0%|          | 0/1000 [00:00<?, ?it/s]"
      ]
     },
     "metadata": {},
     "output_type": "display_data"
    },
    {
     "name": "stdout",
     "output_type": "stream",
     "text": [
      "Predictions saved.\n",
      "RMSE energy: 0.005465802088514222 eV/atom\n",
      "RMSE forces: 0.3828256188916966 eV/angstrom\n",
      "\n",
      "Creating model using 13000 training structures...\n",
      "Computing kernel...\n",
      "Creating model...\n"
     ]
    },
    {
     "data": {
      "application/vnd.jupyter.widget-view+json": {
       "model_id": "",
       "version_major": 2,
       "version_minor": 0
      },
      "text/plain": [
       "Making predictions for validation set...:   0%|          | 0/1000 [00:00<?, ?it/s]"
      ]
     },
     "metadata": {},
     "output_type": "display_data"
    },
    {
     "name": "stdout",
     "output_type": "stream",
     "text": [
      "Predictions saved.\n",
      "RMSE energy: 0.005443024140781266 eV/atom\n",
      "RMSE forces: 0.3815627201129578 eV/angstrom\n",
      "\n",
      "Creating model using 14000 training structures...\n",
      "Computing kernel...\n",
      "Creating model...\n"
     ]
    },
    {
     "data": {
      "application/vnd.jupyter.widget-view+json": {
       "model_id": "",
       "version_major": 2,
       "version_minor": 0
      },
      "text/plain": [
       "Making predictions for validation set...:   0%|          | 0/1000 [00:00<?, ?it/s]"
      ]
     },
     "metadata": {},
     "output_type": "display_data"
    },
    {
     "name": "stdout",
     "output_type": "stream",
     "text": [
      "Predictions saved.\n",
      "RMSE energy: 0.005445800449234075 eV/atom\n",
      "RMSE forces: 0.3840484906479948 eV/angstrom\n",
      "\n"
     ]
    }
   ],
   "source": [
    "for i in range(1000,15000,1000):\n",
    "    print('Creating model using', i, 'training structures...')\n",
    "    nforce_rows = np.sum(nat_per_struct[:i])*3\n",
    "    Kernelnm = np.zeros((i+nforce_rows, Knm.shape[1]))\n",
    "    print('Computing kernel...')\n",
    "    Kernelnm[:i] = Knm[:i]\n",
    "    Kernelnm[i:] = Knm[ntrain:(ntrain+nforce_rows)]\n",
    "    print('Creating model...')\n",
    "    full_model = train_gap_model(kernel, train_set_FPS[:i], Kernelnm, X_sparse, ytrain_FPS[:i], y_dressed, \n",
    "                        grad_train=-get_forces(train_set_FPS[:i]), lambdas=[0.055,3.25], jitter=1e-9, \n",
    "                        solver = 'RKHS')\n",
    "    npred=1000\n",
    "    yvp = []\n",
    "    fvp = []\n",
    "\n",
    "    for ifrm, frm in enumerate(tqdm(val_set[:npred], desc = \"Making predictions for validation set...\", leave=False)):\n",
    "        manager_val = soap.transform(frm)\n",
    "        yvp.append(full_model.predict(manager_val))\n",
    "        fvp.append(full_model.predict_forces(manager_val))\n",
    "\n",
    "    yval_pred = np.array(yvp).flatten()\n",
    "    fval_pred = np.concatenate(fvp)\n",
    "    np.save('results_data/yval_pred_lc_'+str(i), yval_pred)\n",
    "    np.save('results_data/fval_pred_lc_'+str(i), fval_pred)\n",
    "    print(\"Predictions saved.\")\n",
    "    rmse_energy = np.sqrt(np.mean(((yval_true[:npred] - mlr.predict(X_val[:npred]))/np.sum(X_val[:npred],axis=1) - (yval_pred[:npred] - mlr.predict(X_val[:npred]))/np.sum(X_val[:npred],axis=1))**2))\n",
    "    rmse_forces = np.sqrt(np.mean((fval_true.flatten()[:npred] - fval_pred.flatten()[:npred])**2))\n",
    "    print('RMSE energy:', rmse_energy, 'eV/atom')\n",
    "    print('RMSE forces:', rmse_forces, 'eV/angstrom')\n",
    "    print(\"\")"
   ]
  },
  {
   "cell_type": "markdown",
   "id": "21bc6a8d",
   "metadata": {},
   "source": [
    "### Create small models to optimise force reg"
   ]
  },
  {
   "cell_type": "code",
   "execution_count": 16,
   "id": "ec52ef17",
   "metadata": {
    "scrolled": true
   },
   "outputs": [
    {
     "name": "stdout",
     "output_type": "stream",
     "text": [
      "Creating model using a force regulariser of 0.00055\n"
     ]
    },
    {
     "data": {
      "application/vnd.jupyter.widget-view+json": {
       "model_id": "",
       "version_major": 2,
       "version_minor": 0
      },
      "text/plain": [
       "Making predictions for validation set...:   0%|          | 0/1000 [00:00<?, ?it/s]"
      ]
     },
     "metadata": {},
     "output_type": "display_data"
    },
    {
     "name": "stdout",
     "output_type": "stream",
     "text": [
      "Predictions saved.\n",
      "RMSE energy: 0.7557947487067933 eV/atom\n",
      "RMSE forces: 0.32073228009210447 eV/angstrom\n",
      "\n",
      "Creating model using a force regulariser of 0.0055\n"
     ]
    },
    {
     "data": {
      "application/vnd.jupyter.widget-view+json": {
       "model_id": "",
       "version_major": 2,
       "version_minor": 0
      },
      "text/plain": [
       "Making predictions for validation set...:   0%|          | 0/1000 [00:00<?, ?it/s]"
      ]
     },
     "metadata": {},
     "output_type": "display_data"
    },
    {
     "name": "stdout",
     "output_type": "stream",
     "text": [
      "Predictions saved.\n",
      "RMSE energy: 0.09248910460895907 eV/atom\n",
      "RMSE forces: 0.32107376001136084 eV/angstrom\n",
      "\n",
      "Creating model using a force regulariser of 0.055\n"
     ]
    },
    {
     "data": {
      "application/vnd.jupyter.widget-view+json": {
       "model_id": "",
       "version_major": 2,
       "version_minor": 0
      },
      "text/plain": [
       "Making predictions for validation set...:   0%|          | 0/1000 [00:00<?, ?it/s]"
      ]
     },
     "metadata": {},
     "output_type": "display_data"
    },
    {
     "name": "stdout",
     "output_type": "stream",
     "text": [
      "Predictions saved.\n",
      "RMSE energy: 0.043119946500418206 eV/atom\n",
      "RMSE forces: 0.32256777873883097 eV/angstrom\n",
      "\n",
      "Creating model using a force regulariser of 0.55\n"
     ]
    },
    {
     "data": {
      "application/vnd.jupyter.widget-view+json": {
       "model_id": "",
       "version_major": 2,
       "version_minor": 0
      },
      "text/plain": [
       "Making predictions for validation set...:   0%|          | 0/1000 [00:00<?, ?it/s]"
      ]
     },
     "metadata": {},
     "output_type": "display_data"
    },
    {
     "name": "stdout",
     "output_type": "stream",
     "text": [
      "Predictions saved.\n",
      "RMSE energy: 0.014746990931449225 eV/atom\n",
      "RMSE forces: 0.33897861679462654 eV/angstrom\n",
      "\n",
      "Creating model using a force regulariser of 5.5\n"
     ]
    },
    {
     "data": {
      "application/vnd.jupyter.widget-view+json": {
       "model_id": "",
       "version_major": 2,
       "version_minor": 0
      },
      "text/plain": [
       "Making predictions for validation set...:   0%|          | 0/1000 [00:00<?, ?it/s]"
      ]
     },
     "metadata": {},
     "output_type": "display_data"
    },
    {
     "name": "stdout",
     "output_type": "stream",
     "text": [
      "Predictions saved.\n",
      "RMSE energy: 0.005055361457157153 eV/atom\n",
      "RMSE forces: 0.4010042586177946 eV/angstrom\n",
      "\n",
      "Creating model using a force regulariser of 55.0\n"
     ]
    },
    {
     "data": {
      "application/vnd.jupyter.widget-view+json": {
       "model_id": "",
       "version_major": 2,
       "version_minor": 0
      },
      "text/plain": [
       "Making predictions for validation set...:   0%|          | 0/1000 [00:00<?, ?it/s]"
      ]
     },
     "metadata": {},
     "output_type": "display_data"
    },
    {
     "name": "stdout",
     "output_type": "stream",
     "text": [
      "Predictions saved.\n",
      "RMSE energy: 0.00520497468025711 eV/atom\n",
      "RMSE forces: 0.6368299580584922 eV/angstrom\n",
      "\n",
      "Creating model using a force regulariser of 550.0\n"
     ]
    },
    {
     "data": {
      "application/vnd.jupyter.widget-view+json": {
       "model_id": "",
       "version_major": 2,
       "version_minor": 0
      },
      "text/plain": [
       "Making predictions for validation set...:   0%|          | 0/1000 [00:00<?, ?it/s]"
      ]
     },
     "metadata": {},
     "output_type": "display_data"
    },
    {
     "name": "stdout",
     "output_type": "stream",
     "text": [
      "Predictions saved.\n",
      "RMSE energy: 0.005337667322883139 eV/atom\n",
      "RMSE forces: 0.7063588617995449 eV/angstrom\n",
      "\n"
     ]
    }
   ],
   "source": [
    "for ffreg in np.logspace(-4, 2, 7):\n",
    "    i=10000\n",
    "    freg = ffreg*5.5\n",
    "    print('Creating model using a force regulariser of', freg)\n",
    "    nforce_rows = np.sum(nat_per_struct[:i])*3\n",
    "    Kernelnm = np.zeros((i+nforce_rows, Knm.shape[1]))\n",
    "    Kernelnm[:i] = Knm[:i]\n",
    "    Kernelnm[i:] = Knm[ntrain:(ntrain+nforce_rows)]\n",
    "    full_model = train_gap_model(kernel, train_set_FPS[:i], Kernelnm, X_sparse, ytrain_FPS[:i], y_dressed, \n",
    "                        grad_train=-get_forces(train_set_FPS[:i]), lambdas=[0.055,freg], jitter=1e-9, \n",
    "                        solver = 'RKHS')\n",
    "    npred=1000\n",
    "    yvp = []\n",
    "    fvp = []\n",
    "\n",
    "    for ifrm, frm in enumerate(tqdm(val_set[:npred], desc = \"Making predictions for validation set...\", leave=False)):\n",
    "        manager_val = soap.transform(frm)\n",
    "        yvp.append(full_model.predict(manager_val))\n",
    "        fvp.append(full_model.predict_forces(manager_val))\n",
    "\n",
    "    yval_pred = np.array(yvp).flatten()\n",
    "    fval_pred = np.concatenate(fvp)\n",
    "    np.save('results_data/yval_pred_freg_'+str(freg), yval_pred)\n",
    "    np.save('results_data/fval_pred_freg_'+str(freg), fval_pred)\n",
    "    print(\"Predictions saved.\")\n",
    "    rmse_energy = np.sqrt(np.mean(((yval_true[:npred] - mlr.predict(X_val[:npred]))/np.sum(X_val[:npred],axis=1) - (yval_pred[:npred] - mlr.predict(X_val[:npred]))/np.sum(X_val[:npred],axis=1))**2))\n",
    "    rmse_forces = np.sqrt(np.mean((fval_true.flatten()[:npred] - fval_pred.flatten()[:npred])**2))\n",
    "    print('RMSE energy:', rmse_energy, 'eV/atom')\n",
    "    print('RMSE forces:', rmse_forces, 'eV/angstrom')\n",
    "    print(\"\")"
   ]
  },
  {
   "cell_type": "markdown",
   "id": "fb38c742",
   "metadata": {},
   "source": [
    "## Create model using one crystal"
   ]
  },
  {
   "cell_type": "code",
   "execution_count": 4,
   "id": "5433ba59",
   "metadata": {},
   "outputs": [],
   "source": [
    "#Load database of 100 MD + geop structure\n",
    "dictionary_file = open(\"raw_data/CSD-10k_combined_w_kpts.pickle\", \"rb\") #open saved pickle database\n",
    "db = pickle.load(dictionary_file)\n",
    "name=list(db.keys())"
   ]
  },
  {
   "cell_type": "code",
   "execution_count": 81,
   "id": "8f6171f6",
   "metadata": {},
   "outputs": [],
   "source": [
    "#Choose single crystal\n",
    "crystal = db['TOQMUH01']\n",
    "for frm in crystal:\n",
    "    frm.wrap()"
   ]
  },
  {
   "cell_type": "code",
   "execution_count": 83,
   "id": "d27d21cb",
   "metadata": {},
   "outputs": [
    {
     "data": {
      "application/vnd.jupyter.widget-view+json": {
       "model_id": "234ee79e8f2e47608acb501707d8c03a",
       "version_major": 2,
       "version_minor": 0
      },
      "text/plain": [
       "  0%|          | 0/1 [00:00<?, ?it/s]"
      ]
     },
     "metadata": {},
     "output_type": "display_data"
    }
   ],
   "source": [
    "crystal_feats = get_features(crystal)"
   ]
  },
  {
   "cell_type": "code",
   "execution_count": 84,
   "id": "cc8945fb",
   "metadata": {},
   "outputs": [],
   "source": [
    "greedysel = FPS(n_to_select = 100)\n",
    "greedyfeats = greedysel.fit(crystal_feats)"
   ]
  },
  {
   "cell_type": "code",
   "execution_count": 85,
   "id": "bb43717d",
   "metadata": {},
   "outputs": [],
   "source": [
    "greedyids = []\n",
    "for gfeats in greedyfeats.X_selected_:\n",
    "    for icfeats, cfeats in enumerate(crystal_feats):\n",
    "        if np.array_equal(cfeats, gfeats):\n",
    "            greedyids.append(icfeats)"
   ]
  },
  {
   "cell_type": "code",
   "execution_count": 102,
   "id": "c0b2214f",
   "metadata": {},
   "outputs": [],
   "source": [
    "ntrain = 90\n",
    "ntest = 10\n",
    "crystal_train = [crystal[i] for i in greedyids[:ntrain]]\n",
    "crystal_test = [crystal[i] for i in greedyids[ntrain:ntrain+ntest]]"
   ]
  },
  {
   "cell_type": "code",
   "execution_count": 105,
   "id": "ad96d18c",
   "metadata": {},
   "outputs": [],
   "source": [
    "#get training and test data\n",
    "y_train_cryst = []\n",
    "X_train_cryst = np.zeros((len(crystal_train),4), dtype=int)\n",
    "for ifrm, frm in enumerate(crystal_train):\n",
    "    y_train_cryst.append(frm.info['energy'])\n",
    "    symbols=frm.get_atomic_numbers()\n",
    "    X_train_cryst[ifrm]=[len(np.where(symbols == sp)[0]) for sp in [1,6,7,8]]\n",
    "\n",
    "y_test_cryst = []\n",
    "forces_test = []\n",
    "X_test_cryst = np.zeros((len(crystal_test),4), dtype=int)\n",
    "for ifrm, frm in enumerate(crystal_test):\n",
    "    y_test_cryst.append(frm.info['energy'])\n",
    "    symbols=frm.get_atomic_numbers()\n",
    "    X_test_cryst[ifrm]=[len(np.where(symbols == sp)[0]) for sp in [1,6,7,8]]\n",
    "    forces_test.append(frm.get_array('forces'))\n",
    "ftest = np.concatenate(forces_test)\n",
    "    \n",
    "y_all = []\n",
    "X_all = np.zeros((len(crystal),4), dtype=int)\n",
    "for ifrm, frm in enumerate(crystal):\n",
    "    y_all.append(frm.info['energy'])\n",
    "    symbols=frm.get_atomic_numbers()\n",
    "    X_all[ifrm]=[len(np.where(symbols == sp)[0]) for sp in [1,6,7,8]]"
   ]
  },
  {
   "cell_type": "code",
   "execution_count": 95,
   "id": "251747b8",
   "metadata": {},
   "outputs": [
    {
     "name": "stdout",
     "output_type": "stream",
     "text": [
      "Computing feature matrices...\n",
      "Time taken:  3.5424845218658447 s\n"
     ]
    }
   ],
   "source": [
    "# Compute feature matrices\n",
    "print(\"Computing feature matrices...\")\n",
    "start=time()\n",
    "manager_train = soap.transform(crystal_train) #calculating features\n",
    "print(\"Time taken: \", time()-start, \"s\")"
   ]
  },
  {
   "cell_type": "code",
   "execution_count": 96,
   "id": "50ffd2d3",
   "metadata": {},
   "outputs": [
    {
     "name": "stdout",
     "output_type": "stream",
     "text": [
      "Sparsifying training set...\n",
      "The number of pseudo points selected by central atom species is: {1: 1250, 6: 1250, 7: 1250, 8: 1250}\n",
      "Selecting species: 1\n",
      "Selecting species: 6\n",
      "Selecting species: 7\n",
      "Selecting species: 8\n",
      "Time taken:  61.74083089828491 s\n"
     ]
    }
   ],
   "source": [
    "# Use an FPS filter to obtain desired number of sparse points per species\n",
    "nh = 1250\n",
    "nc = 1250\n",
    "nn = 1250\n",
    "no = 1250\n",
    "nsparse    = {1: nh, 6: nc, 7: nn, 8: no} #Select number of sparse environemnts per species\n",
    "compressor = FPSFilter(soap,nsparse,act_on='sample per species') #Filter to sparsify full feature matrix\n",
    "print(\"Sparsifying training set...\")\n",
    "start=time()\n",
    "X_sparse = compressor.select_and_filter(manager_train) #Apply filter to training set\n",
    "print(\"Time taken: \", time()-start, \"s\")"
   ]
  },
  {
   "cell_type": "code",
   "execution_count": 98,
   "id": "b39fd212",
   "metadata": {},
   "outputs": [],
   "source": [
    "#Define kernel and redefine hypers \n",
    "hypers[\"compute_gradients\"] = True #we want to compute gradients (forces) for the kernel\n",
    "soap = SphericalInvariants(**hypers)\n",
    "kernel = Kernel(soap, name='GAP', zeta=zeta, target_type='Structure', kernel_type='Sparse') #Define Kernel"
   ]
  },
  {
   "cell_type": "code",
   "execution_count": 99,
   "id": "960e6ade",
   "metadata": {},
   "outputs": [
    {
     "data": {
      "application/vnd.jupyter.widget-view+json": {
       "model_id": "",
       "version_major": 2,
       "version_minor": 0
      },
      "text/plain": [
       "Compute KNM:   0%|          | 0/90 [00:00<?, ?it/s]"
      ]
     },
     "metadata": {},
     "output_type": "display_data"
    },
    {
     "name": "stdout",
     "output_type": "stream",
     "text": [
      "Time taken:  1983.9187462329865 s\n"
     ]
    }
   ],
   "source": [
    "#Compute kernel\n",
    "start=time()\n",
    "Knm = compute_KNM(tqdm(crystal_train, desc=\"Compute KNM\", leave=False), X_sparse, kernel, soap)\n",
    "print(\"Time taken: \", time()-start, \"s\")"
   ]
  },
  {
   "cell_type": "code",
   "execution_count": 106,
   "id": "1f03f0ed",
   "metadata": {},
   "outputs": [
    {
     "name": "stdout",
     "output_type": "stream",
     "text": [
      "Intercept:  0.0\n",
      "Coefficients: [-248.96613279 -248.96606276 -149.3794511   -99.58649579]\n"
     ]
    }
   ],
   "source": [
    "#created dressed atom energies model\n",
    "mlrc = Ridge(alpha=1E-4, fit_intercept=False) #Don't fit intercept\n",
    "mlrc.fit(X_all, y_all)\n",
    "print(\"Intercept: \", mlrc.intercept_)\n",
    "print(\"Coefficients:\", mlrc.coef_)\n",
    "y_dressed_cryst = mlrc.coef_"
   ]
  },
  {
   "cell_type": "code",
   "execution_count": 109,
   "id": "a05c0802",
   "metadata": {},
   "outputs": [],
   "source": [
    "y_train_cryst = np.asarray(y_train_cryst)"
   ]
  },
  {
   "cell_type": "code",
   "execution_count": 112,
   "id": "71b30b1c",
   "metadata": {},
   "outputs": [
    {
     "name": "stdout",
     "output_type": "stream",
     "text": [
      "{1: -248.96613279388754, 6: -248.96606275900504, 7: -149.37945109932093, 8: -99.58649579209921}\n"
     ]
    }
   ],
   "source": [
    "y_dressed_cryst = {}\n",
    "for ii, i in enumerate([1,6,7,8]):\n",
    "    y_dressed_cryst[i] = mlrc.coef_[ii]\n",
    "print(y_dressed_cryst)"
   ]
  },
  {
   "cell_type": "code",
   "execution_count": 119,
   "id": "2013ba33",
   "metadata": {},
   "outputs": [
    {
     "name": "stdout",
     "output_type": "stream",
     "text": [
      "Training GAP model...\n",
      "Time taken: 14.113807678222656\n"
     ]
    }
   ],
   "source": [
    "#Train GAP model\n",
    "print(\"Training GAP model...\")\n",
    "start = time()\n",
    "model = train_gap_model(kernel, crystal_train, Knm, X_sparse, y_train_cryst, y_dressed_cryst, \n",
    "                        grad_train=-get_forces(crystal_train), lambdas=[0.01,0.1], jitter=1e-9, \n",
    "                        solver = 'RKHS')\n",
    "print(\"Time taken:\", time()-start)"
   ]
  },
  {
   "cell_type": "code",
   "execution_count": 120,
   "id": "7cfcb839",
   "metadata": {
    "code_folding": []
   },
   "outputs": [
    {
     "data": {
      "application/vnd.jupyter.widget-view+json": {
       "model_id": "",
       "version_major": 2,
       "version_minor": 0
      },
      "text/plain": [
       "Making predictions for test set...:   0%|          | 0/10 [00:00<?, ?it/s]"
      ]
     },
     "metadata": {},
     "output_type": "display_data"
    }
   ],
   "source": [
    "#predict energies and forces for validation set\n",
    "npred=10\n",
    "ytp = []\n",
    "ftp = []\n",
    "\n",
    "for ifrm, frm in enumerate(tqdm(crystal_test[:npred], desc = \"Making predictions for test set...\", leave=False)):\n",
    "    manager_test = soap.transform(frm)\n",
    "    ytp.append(model.predict(manager_test))\n",
    "    ftp.append(model.predict_forces(manager_test))\n",
    "\n",
    "ytest_pred = np.array(ytp).flatten()\n",
    "ftest_pred = np.concatenate(ftp)"
   ]
  },
  {
   "cell_type": "code",
   "execution_count": 121,
   "id": "9ba161d1",
   "metadata": {},
   "outputs": [
    {
     "data": {
      "text/plain": [
       "Text(0.5, 1.0, 'Forces (ev/$\\\\AA$)')"
      ]
     },
     "execution_count": 121,
     "metadata": {},
     "output_type": "execute_result"
    },
    {
     "data": {
      "image/png": "[encoded data removed]",
      "text/plain": [
       "<Figure size 720x360 with 2 Axes>"
      ]
     },
     "metadata": {
      "needs_background": "light"
     },
     "output_type": "display_data"
    }
   ],
   "source": [
    "#Plot predicted vs. actual energies and forces\n",
    "f,p = plt.subplots(1,2, figsize = (10, 5))\n",
    "p[0].scatter((y_test_cryst[:npred] - mlrc.predict(X_test_cryst[:npred]))/np.sum(X_test_cryst[:npred],axis=1),\n",
    "             (ytest_pred[:npred] - mlrc.predict(X_test_cryst[:npred]))/np.sum(X_test_cryst[:npred],axis=1))\n",
    "p[0].set_title('Energies (eV)')\n",
    "p[0].set()\n",
    "p[1].scatter(ftest.flatten()[:npred], ftest_pred.flatten()[:npred])\n",
    "p[1].set_title(r'Forces (ev/$\\AA$)')"
   ]
  },
  {
   "cell_type": "code",
   "execution_count": 122,
   "id": "af9974e8",
   "metadata": {},
   "outputs": [],
   "source": [
    "rmse_energy = np.sqrt(np.mean(((y_test_cryst[:npred] - mlrc.predict(X_test_cryst[:npred]))/np.sum(X_test_cryst[:npred],axis=1) - (ytest_pred[:npred] - mlrc.predict(X_test_cryst[:npred]))/np.sum(X_test_cryst[:npred],axis=1))**2))"
   ]
  },
  {
   "cell_type": "code",
   "execution_count": 123,
   "id": "9a4d4c84",
   "metadata": {},
   "outputs": [],
   "source": [
    "rmse_forces = np.sqrt(np.mean((ftest.flatten()[:npred] - ftest_pred.flatten()[:npred])**2))"
   ]
  },
  {
   "cell_type": "code",
   "execution_count": 124,
   "id": "cff30512",
   "metadata": {},
   "outputs": [
    {
     "name": "stdout",
     "output_type": "stream",
     "text": [
      "0.00035620323059686856 0.05799289121406542\n"
     ]
    }
   ],
   "source": [
    "print(rmse_energy, rmse_forces)"
   ]
  },
  {
   "cell_type": "markdown",
   "id": "8f248665",
   "metadata": {},
   "source": [
    "RMSEs can get very low using a single crystal. Maybe try and re-optimise energy and force regs and check errors..."
   ]
  },
  {
   "cell_type": "markdown",
   "id": "406afc2c",
   "metadata": {},
   "source": [
    "## Optimise regularisers using ntrain = 14000"
   ]
  },
  {
   "cell_type": "code",
   "execution_count": 6,
   "id": "a1e54c65",
   "metadata": {},
   "outputs": [],
   "source": [
    "X_sparse = load_obj('raw_data/X_sparse_14k.json')"
   ]
  },
  {
   "cell_type": "code",
   "execution_count": 67,
   "id": "01bf8f96",
   "metadata": {},
   "outputs": [],
   "source": [
    "#Define kernel \n",
    "hypers[\"compute_gradients\"] = True\n",
    "hypers[\"max_radial\"] = 6\n",
    "soap = SphericalInvariants(**hypers)\n",
    "kernel = Kernel(soap, name='GAP', zeta=zeta, target_type='Structure', kernel_type='Sparse') #Define Kernel"
   ]
  },
  {
   "cell_type": "code",
   "execution_count": 8,
   "id": "a4e8799a",
   "metadata": {},
   "outputs": [],
   "source": [
    "Knm = np.load('raw_data/Knm_kernel_14k.npy')"
   ]
  },
  {
   "cell_type": "code",
   "execution_count": 73,
   "id": "8dd47cb6",
   "metadata": {},
   "outputs": [],
   "source": [
    "ntrain=14000"
   ]
  },
  {
   "cell_type": "code",
   "execution_count": 74,
   "id": "69cb9093",
   "metadata": {},
   "outputs": [],
   "source": [
    "#make list of number of atoms in each structure\n",
    "nat_per_struct=[]\n",
    "for frm in train_set_FPS[:ntrain]:\n",
    "    nat_per_struct.append(len(frm))"
   ]
  },
  {
   "cell_type": "code",
   "execution_count": null,
   "id": "ac7d3789",
   "metadata": {
    "scrolled": true
   },
   "outputs": [
    {
     "name": "stdout",
     "output_type": "stream",
     "text": [
      "Creating model using energy and force regularisers of 0.0001 and 0.001 , respectively.\n"
     ]
    }
   ],
   "source": [
    "for freg in np.logspace(-3, 1, 5):\n",
    "    i=14000\n",
    "    ereg = freg/10\n",
    "    print('Creating model using energy and force regularisers of', ereg, 'and', freg, ', respectively.')\n",
    "    nforce_rows = np.sum(nat_per_struct[:i])*3\n",
    "    Kernelnm = np.zeros((i+nforce_rows, Knm.shape[1]))\n",
    "    Kernelnm[:i] = Knm[:i]\n",
    "    Kernelnm[i:] = Knm[ntrain:(ntrain+nforce_rows)]\n",
    "    full_model = train_gap_model(kernel, train_set_FPS[:i], Kernelnm, X_sparse, ytrain_FPS[:i], y_dressed, \n",
    "                        grad_train=-get_forces(train_set_FPS[:i]), lambdas=[ereg,freg], jitter=1e-9, \n",
    "                        solver = 'RKHS')\n",
    "    npred=1000\n",
    "    yvp = []\n",
    "    fvp = []\n",
    "\n",
    "    for ifrm, frm in enumerate(tqdm(val_set[:npred], desc = \"Making predictions for validation set...\", leave=False)):\n",
    "        manager_val = soap.transform(frm)\n",
    "        yvp.append(full_model.predict(manager_val))\n",
    "        fvp.append(full_model.predict_forces(manager_val))\n",
    "\n",
    "    yval_pred = np.array(yvp).flatten()\n",
    "    fval_pred = np.concatenate(fvp)\n",
    "    np.save('results_data/yval_pred_14k_regs_'+str(ereg)+'_'+str(freg), yval_pred)\n",
    "    np.save('results_data/fval_pred_14k_regs_'+str(ereg)+'_'+str(freg), fval_pred)\n",
    "    print(\"Predictions saved.\")\n",
    "    rmse_energy = np.sqrt(np.mean(((yval_true[:npred] - mlr.predict(X_val[:npred]))/np.sum(X_val[:npred],axis=1) - (yval_pred[:npred] - mlr.predict(X_val[:npred]))/np.sum(X_val[:npred],axis=1))**2))\n",
    "    rmse_forces = np.sqrt(np.mean((fval_true.flatten()[:npred] - fval_pred.flatten()[:npred])**2))\n",
    "    print('RMSE energy:', rmse_energy, 'eV/atom')\n",
    "    print('RMSE forces:', rmse_forces, 'eV/angstrom')\n",
    "    print(\"\")"
   ]
  },
  {
   "cell_type": "code",
   "execution_count": 28,
   "id": "653fe3b5",
   "metadata": {},
   "outputs": [],
   "source": [
    "#(Re-)load predictions\n",
    "i=0\n",
    "for freg in np.logspace(-3, 1, 5):\n",
    "    ereg = freg/10\n",
    "    exec('fval_reg_'+str(i)+'=np.load(\"results_data/fval_pred_14k_regs_'+str(ereg)+'_'+str(freg)+'.npy\")')\n",
    "    exec('yval_reg_'+str(i)+'=np.load(\"results_data/yval_pred_14k_regs_'+str(ereg)+'_'+str(freg)+'.npy\")')\n",
    "    i+=1"
   ]
  },
  {
   "cell_type": "code",
   "execution_count": 36,
   "id": "63125ccf",
   "metadata": {},
   "outputs": [
    {
     "name": "stdout",
     "output_type": "stream",
     "text": [
      "Errors using a force reg of 0.001 and an energy reg of 0.0001 : 0.014855182310613278 0.3420058979320686\n",
      "Errors using a force reg of 0.01 and an energy reg of 0.001 : 0.014855183576198304 0.34200589204058174\n",
      "Errors using a force reg of 0.1 and an energy reg of 0.01 : 0.01485531015498886 0.3420053039357186\n",
      "Errors using a force reg of 1.0 and an energy reg of 0.1 : 0.01486817493588458 0.3419566287633549\n",
      "Errors using a force reg of 10.0 and an energy reg of 1.0 : 0.015999834953778307 0.3486655634818374\n"
     ]
    }
   ],
   "source": [
    "#print results\n",
    "j = 0.001\n",
    "for i in range(0,5):\n",
    "    fval_pred=eval('fval_reg_'+str(i))\n",
    "    yval_pred=eval('yval_reg_'+str(i))\n",
    "    rmse_energy = np.sqrt(np.mean(((yval_true[:npred] - mlr.predict(X_val[:npred]))/np.sum(X_val[:npred],axis=1) - (yval_pred[:npred] - mlr.predict(X_val[:npred]))/np.sum(X_val[:npred],axis=1))**2))\n",
    "    rmse_forces = np.sqrt(np.mean((fval_true.flatten()[:npred] - fval_pred.flatten()[:npred])**2))\n",
    "    print(\"Errors using a force reg of\", j, \"and an energy reg of\", j/10, \":\",rmse_energy, rmse_forces)\n",
    "    j*=10"
   ]
  },
  {
   "cell_type": "markdown",
   "id": "436f2e29",
   "metadata": {},
   "source": [
    "## Test using a radial cutoff of 4 angstrom"
   ]
  },
  {
   "cell_type": "code",
   "execution_count": 44,
   "id": "11ecb1b5",
   "metadata": {},
   "outputs": [],
   "source": [
    "ntrain = 8400"
   ]
  },
  {
   "cell_type": "code",
   "execution_count": 45,
   "id": "4ddd0be3",
   "metadata": {
    "code_folding": []
   },
   "outputs": [],
   "source": [
    "#Define hyperparameters and SOAP\n",
    "hypers[\"compute_gradients\"] = False\n",
    "hypers[\"interaction_cutoff\"] = 4\n",
    "hypers[\"max_radial\"] = 6\n",
    "hypers[\"max_angular\"] = 4\n",
    "soap = SphericalInvariants(**hypers)"
   ]
  },
  {
   "cell_type": "code",
   "execution_count": 46,
   "id": "99105112",
   "metadata": {},
   "outputs": [
    {
     "name": "stdout",
     "output_type": "stream",
     "text": [
      "Computing feature matrices...\n",
      "Time taken:  45.94664263725281 s\n"
     ]
    }
   ],
   "source": [
    "# Compute feature matrices\n",
    "print(\"Computing feature matrices...\")\n",
    "start=time()\n",
    "manager_train = soap.transform(train_set_FPS[:ntrain]) #calculating features\n",
    "print(\"Time taken: \", time()-start, \"s\")"
   ]
  },
  {
   "cell_type": "code",
   "execution_count": 47,
   "id": "f5b1ae92",
   "metadata": {},
   "outputs": [
    {
     "name": "stdout",
     "output_type": "stream",
     "text": [
      "Sparsifying training set...\n",
      "The number of pseudo points selected by central atom species is: {1: 1778, 6: 1467, 7: 1467, 8: 1778}\n",
      "Selecting species: 1\n",
      "Selecting species: 6\n",
      "Selecting species: 7\n",
      "Selecting species: 8\n",
      "Time taken:  1519.6918544769287 s\n"
     ]
    }
   ],
   "source": [
    "# Use an FPS filter to obtain desired number of sparse points per species\n",
    "nh = 1778\n",
    "nc = 1467\n",
    "nn = 1467\n",
    "no = 1778\n",
    "nsparse    = {1: nh, 6: nc, 7: nn, 8: no} #Select number of sparse environemnts per species\n",
    "compressor = FPSFilter(soap,nsparse,act_on='sample per species') #Filter to sparsify full feature matrix\n",
    "print(\"Sparsifying training set...\")\n",
    "start=time()\n",
    "X_sparse_FPS = compressor.select_and_filter(manager_train) #Apply filter to training set\n",
    "print(\"Time taken: \", time()-start, \"s\")"
   ]
  },
  {
   "cell_type": "code",
   "execution_count": 48,
   "id": "d8316b86",
   "metadata": {},
   "outputs": [],
   "source": [
    "dump_obj('raw_data/X_sparse_cutoff_4.json', X_sparse_FPS)"
   ]
  },
  {
   "cell_type": "code",
   "execution_count": null,
   "id": "ce7a24b6",
   "metadata": {},
   "outputs": [],
   "source": [
    "X_sparse_FPS = load_obj('raw_data/X_sparse_cutoff_4.json')"
   ]
  },
  {
   "cell_type": "code",
   "execution_count": 49,
   "id": "1f226e8f",
   "metadata": {},
   "outputs": [],
   "source": [
    "#Define kernel and redefine hypers \n",
    "hypers[\"compute_gradients\"] = True #we want to compute gradients (forces) for the kernel\n",
    "soap = SphericalInvariants(**hypers)\n",
    "kernel = Kernel(soap, name='GAP', zeta=zeta, target_type='Structure', kernel_type='Sparse') #Define Kernel"
   ]
  },
  {
   "cell_type": "code",
   "execution_count": 50,
   "id": "e8b91fd5",
   "metadata": {},
   "outputs": [
    {
     "data": {
      "application/vnd.jupyter.widget-view+json": {
       "model_id": "",
       "version_major": 2,
       "version_minor": 0
      },
      "text/plain": [
       "Compute KNM:   0%|          | 0/8400 [00:00<?, ?it/s]"
      ]
     },
     "metadata": {},
     "output_type": "display_data"
    },
    {
     "name": "stdout",
     "output_type": "stream",
     "text": [
      "Time taken:  32585.88679265976 s\n"
     ]
    }
   ],
   "source": [
    "#Compute kernel\n",
    "start=time()\n",
    "Knm_FPS = compute_KNM(tqdm(train_set_FPS[:ntrain], desc=\"Compute KNM\", leave=False), X_sparse_FPS, kernel, soap)\n",
    "print(\"Time taken: \", time()-start, \"s\")"
   ]
  },
  {
   "cell_type": "code",
   "execution_count": 51,
   "id": "60cc29ba",
   "metadata": {},
   "outputs": [],
   "source": [
    "#Save kernel\n",
    "np.save('raw_data/Knm_kernel_cutoff_4', Knm_FPS)"
   ]
  },
  {
   "cell_type": "code",
   "execution_count": null,
   "id": "4d9715e1",
   "metadata": {},
   "outputs": [],
   "source": [
    "Knm_FPS = np.load('raw_data/Knm_kernel_cutoff_4.npy')"
   ]
  },
  {
   "cell_type": "code",
   "execution_count": 52,
   "id": "65599b8b",
   "metadata": {},
   "outputs": [
    {
     "name": "stdout",
     "output_type": "stream",
     "text": [
      "Training GAP model...\n",
      "Time taken: 510.42740416526794\n"
     ]
    }
   ],
   "source": [
    "#Train GAP model\n",
    "print(\"Training GAP model...\")\n",
    "start = time()\n",
    "full_model = train_gap_model(kernel, train_set_FPS[:ntrain], Knm_FPS, X_sparse_FPS, ytrain_FPS[:ntrain], y_dressed, \n",
    "                        grad_train=-get_forces(train_set_FPS[:ntrain]), lambdas=[0.055,3.25], jitter=1e-9, \n",
    "                        solver = 'RKHS')\n",
    "print(\"Time taken:\", time()-start)"
   ]
  },
  {
   "cell_type": "code",
   "execution_count": 53,
   "id": "25b0916c",
   "metadata": {
    "code_folding": []
   },
   "outputs": [
    {
     "data": {
      "application/vnd.jupyter.widget-view+json": {
       "model_id": "",
       "version_major": 2,
       "version_minor": 0
      },
      "text/plain": [
       "Making predictions for validation set...:   0%|          | 0/1000 [00:00<?, ?it/s]"
      ]
     },
     "metadata": {},
     "output_type": "display_data"
    }
   ],
   "source": [
    "#predict energies and forces for validation set\n",
    "npred=1000\n",
    "yvp = []\n",
    "fvp = []\n",
    "\n",
    "for ifrm, frm in enumerate(tqdm(val_set[:npred], desc = \"Making predictions for validation set...\", leave=False)):\n",
    "    manager_val = soap.transform(frm)\n",
    "    yvp.append(full_model.predict(manager_val))\n",
    "    fvp.append(full_model.predict_forces(manager_val))\n",
    "\n",
    "yval_pred = np.array(yvp).flatten()\n",
    "fval_pred = np.concatenate(fvp)"
   ]
  },
  {
   "cell_type": "code",
   "execution_count": 54,
   "id": "5909dfb3",
   "metadata": {},
   "outputs": [
    {
     "data": {
      "text/plain": [
       "Text(0.5, 1.0, 'Forces (ev/$\\\\AA$)')"
      ]
     },
     "execution_count": 54,
     "metadata": {},
     "output_type": "execute_result"
    },
    {
     "data": {
      "image/png": "[encoded data removed]",
      "text/plain": [
       "<Figure size 720x360 with 2 Axes>"
      ]
     },
     "metadata": {
      "needs_background": "light"
     },
     "output_type": "display_data"
    }
   ],
   "source": [
    "#Plot predicted vs. actual energies and forces\n",
    "f,p = plt.subplots(1,2, figsize = (10, 5))\n",
    "p[0].scatter((yval_true[:npred] - mlr.predict(X_val[:npred]))/np.sum(X_val[:npred],axis=1),\n",
    "             (yval_pred[:npred] - mlr.predict(X_val[:npred]))/np.sum(X_val[:npred],axis=1))\n",
    "p[0].set_title('Energies (eV)')\n",
    "p[0].set()\n",
    "p[1].scatter(fval_true.flatten()[:npred], fval_pred.flatten()[:npred])\n",
    "p[1].set_title(r'Forces (ev/$\\AA$)')"
   ]
  },
  {
   "cell_type": "code",
   "execution_count": 55,
   "id": "8750ff23",
   "metadata": {},
   "outputs": [],
   "source": [
    "rmse_energy = np.sqrt(np.mean(((yval_true[:npred] - mlr.predict(X_val[:npred]))/np.sum(X_val[:npred],axis=1) - (yval_pred[:npred] - mlr.predict(X_val[:npred]))/np.sum(X_val[:npred],axis=1))**2))"
   ]
  },
  {
   "cell_type": "code",
   "execution_count": 56,
   "id": "879c4a87",
   "metadata": {},
   "outputs": [],
   "source": [
    "rmse_forces = np.sqrt(np.mean((fval_true.flatten()[:npred] - fval_pred.flatten()[:npred])**2))"
   ]
  },
  {
   "cell_type": "code",
   "execution_count": 57,
   "id": "fb630ff0",
   "metadata": {},
   "outputs": [
    {
     "name": "stdout",
     "output_type": "stream",
     "text": [
      "0.0068695332078848 0.38428536425585297\n"
     ]
    }
   ],
   "source": [
    "print(rmse_energy, rmse_forces)"
   ]
  },
  {
   "cell_type": "code",
   "execution_count": 58,
   "id": "c3ccbd41",
   "metadata": {},
   "outputs": [],
   "source": [
    "np.savetxt('results_data/cutoff_4A_results.txt', np.array([rmse_energy, rmse_forces]))"
   ]
  },
  {
   "cell_type": "markdown",
   "id": "b8090c8c",
   "metadata": {},
   "source": [
    "## Create 20k model with nmax = 6, lmax = 4, rc = 4, nsparse = 2500"
   ]
  },
  {
   "cell_type": "code",
   "execution_count": 6,
   "id": "f80e1f16",
   "metadata": {},
   "outputs": [],
   "source": [
    "ntrain = 20000"
   ]
  },
  {
   "cell_type": "code",
   "execution_count": 7,
   "id": "bc25b627",
   "metadata": {
    "code_folding": []
   },
   "outputs": [],
   "source": [
    "#Define hyperparameters and SOAP\n",
    "hypers[\"compute_gradients\"] = False\n",
    "hypers[\"interaction_cutoff\"] = 4\n",
    "hypers[\"max_radial\"] = 6\n",
    "hypers[\"max_angular\"] = 4\n",
    "soap = SphericalInvariants(**hypers)"
   ]
  },
  {
   "cell_type": "code",
   "execution_count": 8,
   "id": "110d0cd1",
   "metadata": {},
   "outputs": [
    {
     "name": "stdout",
     "output_type": "stream",
     "text": [
      "Computing feature matrices...\n",
      "Time taken:  124.54603552818298 s\n"
     ]
    }
   ],
   "source": [
    "# Compute feature matrices\n",
    "print(\"Computing feature matrices...\")\n",
    "start=time()\n",
    "manager_train = soap.transform(train_set_FPS[:ntrain]) #calculating features\n",
    "print(\"Time taken: \", time()-start, \"s\")"
   ]
  },
  {
   "cell_type": "code",
   "execution_count": 9,
   "id": "b17c4d9b",
   "metadata": {},
   "outputs": [
    {
     "name": "stdout",
     "output_type": "stream",
     "text": [
      "Sparsifying training set...\n",
      "The number of pseudo points selected by central atom species is: {1: 2500, 6: 2500, 7: 2500, 8: 2500}\n",
      "Selecting species: 1\n",
      "Selecting species: 6\n",
      "Selecting species: 7\n",
      "Selecting species: 8\n",
      "Time taken:  6465.67889714241 s\n"
     ]
    }
   ],
   "source": [
    "# Use an FPS filter to obtain desired number of sparse points per species\n",
    "nh = 2500\n",
    "nc = 2500\n",
    "nn = 2500\n",
    "no = 2500\n",
    "nsparse    = {1: nh, 6: nc, 7: nn, 8: no} #Select number of sparse environemnts per species\n",
    "compressor = FPSFilter(soap,nsparse,act_on='sample per species') #Filter to sparsify full feature matrix\n",
    "print(\"Sparsifying training set...\")\n",
    "start=time()\n",
    "X_sparse_FPS = compressor.select_and_filter(manager_train) #Apply filter to training set\n",
    "print(\"Time taken: \", time()-start, \"s\")"
   ]
  },
  {
   "cell_type": "code",
   "execution_count": 10,
   "id": "fe9abe7d",
   "metadata": {},
   "outputs": [],
   "source": [
    "dump_obj('raw_data/X_sparse_20k.json', X_sparse_FPS)"
   ]
  },
  {
   "cell_type": "code",
   "execution_count": 11,
   "id": "00f11695",
   "metadata": {},
   "outputs": [],
   "source": [
    "X_sparse_FPS = load_obj('raw_data/X_sparse_20k.json')"
   ]
  },
  {
   "cell_type": "code",
   "execution_count": 12,
   "id": "f9706cee",
   "metadata": {},
   "outputs": [
    {
     "data": {
      "text/plain": [
       "(10000, 1800)"
      ]
     },
     "execution_count": 12,
     "metadata": {},
     "output_type": "execute_result"
    }
   ],
   "source": [
    "X_sparse_FPS.get_features().shape"
   ]
  },
  {
   "cell_type": "code",
   "execution_count": 8,
   "id": "e3888dc0",
   "metadata": {},
   "outputs": [],
   "source": [
    "#Define kernel and redefine hypers \n",
    "hypers[\"compute_gradients\"] = True #we want to compute gradients (forces) for the kernel\n",
    "soap = SphericalInvariants(**hypers)\n",
    "kernel = Kernel(soap, name='GAP', zeta=zeta, target_type='Structure', kernel_type='Sparse') #Define Kernel"
   ]
  },
  {
   "cell_type": "code",
   "execution_count": 12,
   "id": "4f6d6be2",
   "metadata": {},
   "outputs": [
    {
     "data": {
      "application/vnd.jupyter.widget-view+json": {
       "model_id": "",
       "version_major": 2,
       "version_minor": 0
      },
      "text/plain": [
       "Compute KNM:   0%|          | 0/20000 [00:00<?, ?it/s]"
      ]
     },
     "metadata": {},
     "output_type": "display_data"
    },
    {
     "name": "stderr",
     "output_type": "stream",
     "text": [
      "IOPub message rate exceeded.\n",
      "The notebook server will temporarily stop sending output\n",
      "to the client in order to avoid crashing it.\n",
      "To change this limit, set the config variable\n",
      "`--NotebookApp.iopub_msg_rate_limit`.\n",
      "\n",
      "Current values:\n",
      "NotebookApp.iopub_msg_rate_limit=1000.0 (msgs/sec)\n",
      "NotebookApp.rate_limit_window=3.0 (secs)\n",
      "\n",
      "IOPub message rate exceeded.\n",
      "The notebook server will temporarily stop sending output\n",
      "to the client in order to avoid crashing it.\n",
      "To change this limit, set the config variable\n",
      "`--NotebookApp.iopub_msg_rate_limit`.\n",
      "\n",
      "Current values:\n",
      "NotebookApp.iopub_msg_rate_limit=1000.0 (msgs/sec)\n",
      "NotebookApp.rate_limit_window=3.0 (secs)\n",
      "\n"
     ]
    },
    {
     "name": "stdout",
     "output_type": "stream",
     "text": [
      "Time taken:  167826.75932455063 s\n"
     ]
    }
   ],
   "source": [
    "#Compute kernel\n",
    "start=time()\n",
    "Knm_FPS = compute_KNM(tqdm(train_set_FPS[:ntrain], desc=\"Compute KNM\", leave=False), X_sparse_FPS, kernel, soap)\n",
    "print(\"Time taken: \", time()-start, \"s\")"
   ]
  },
  {
   "cell_type": "code",
   "execution_count": 13,
   "id": "d30c0457",
   "metadata": {},
   "outputs": [],
   "source": [
    "#Save kernel\n",
    "np.save('raw_data/Knm_kernel_20k_2500ns', Knm_FPS)"
   ]
  },
  {
   "cell_type": "code",
   "execution_count": 15,
   "id": "9511a45c",
   "metadata": {},
   "outputs": [
    {
     "name": "stdout",
     "output_type": "stream",
     "text": [
      "Loading Knm...\n",
      "Knm loading time: 1779.0270457267761\n"
     ]
    }
   ],
   "source": [
    "start = time()\n",
    "print(\"Loading Knm...\")\n",
    "Knm_FPS = np.load('raw_data/Knm_kernel_20k_2500ns.npy')\n",
    "print(\"Knm loading time:\", time()-start)"
   ]
  },
  {
   "cell_type": "code",
   "execution_count": 31,
   "id": "5ccfdeca",
   "metadata": {},
   "outputs": [
    {
     "name": "stdout",
     "output_type": "stream",
     "text": [
      "Training GAP model...\n",
      "Time taken: 1047.8662610054016\n"
     ]
    }
   ],
   "source": [
    "#Train GAP model\n",
    "print(\"Training GAP model...\")\n",
    "start = time()\n",
    "full_model = train_gap_model(kernel, train_set_FPS[:ntrain], Knm_FPS, X_sparse_FPS, ytrain_FPS[:ntrain], \n",
    "                             y_dressed, grad_train=-get_forces(train_set_FPS[:ntrain]), lambdas=[0.01,0.1], \n",
    "                             jitter=1e-9, solver = 'RKHS')\n",
    "print(\"Time taken:\", time()-start)"
   ]
  },
  {
   "cell_type": "code",
   "execution_count": 32,
   "id": "10583f11",
   "metadata": {},
   "outputs": [],
   "source": [
    "#Save model\n",
    "dump_obj('model_data/full_GAP_model_20k_2500ps_0.01_0.1.json', full_model)"
   ]
  },
  {
   "cell_type": "code",
   "execution_count": 15,
   "id": "f2e2b8d5",
   "metadata": {},
   "outputs": [],
   "source": [
    "#Reload model\n",
    "full_model = load_obj('model_data/full_GAP_model_20k_2500ps_0.01_0.1.json')"
   ]
  },
  {
   "cell_type": "code",
   "execution_count": 16,
   "id": "1a4ee5b9",
   "metadata": {
    "code_folding": []
   },
   "outputs": [
    {
     "data": {
      "application/vnd.jupyter.widget-view+json": {
       "model_id": "",
       "version_major": 2,
       "version_minor": 0
      },
      "text/plain": [
       "Making predictions for validation set...:   0%|          | 0/1000 [00:00<?, ?it/s]"
      ]
     },
     "metadata": {},
     "output_type": "display_data"
    }
   ],
   "source": [
    "#predict energies and forces for validation set\n",
    "npred=1000\n",
    "yvp = []\n",
    "fvp = []\n",
    "\n",
    "for ifrm, frm in enumerate(tqdm(val_set[:npred], desc = \"Making predictions for validation set...\", leave=False)):\n",
    "    manager_val = soap.transform(frm)\n",
    "    yvp.append(full_model.predict(manager_val))\n",
    "    fvp.append(full_model.predict_forces(manager_val))\n",
    "\n",
    "yval_pred = np.array(yvp).flatten()\n",
    "fval_pred = np.concatenate(fvp)\n"
   ]
  },
  {
   "cell_type": "code",
   "execution_count": 27,
   "id": "4f8becc2",
   "metadata": {
    "code_folding": []
   },
   "outputs": [
    {
     "data": {
      "application/vnd.jupyter.widget-view+json": {
       "model_id": "",
       "version_major": 2,
       "version_minor": 0
      },
      "text/plain": [
       "Making predictions for test set...:   0%|          | 0/1000 [00:00<?, ?it/s]"
      ]
     },
     "metadata": {},
     "output_type": "display_data"
    }
   ],
   "source": [
    "#predict energies and forces for validation set\n",
    "npred=1000\n",
    "ytp = []\n",
    "ftp = []\n",
    "\n",
    "for ifrm, frm in enumerate(tqdm(test_set[:npred], desc = \"Making predictions for test set...\", leave=False)):\n",
    "    manager_val = soap.transform(frm)\n",
    "    ytp.append(full_model.predict(manager_val))\n",
    "    ftp.append(full_model.predict_forces(manager_val))\n",
    "\n",
    "ytest_pred = np.array(ytp).flatten()\n",
    "ftest_pred = np.concatenate(ftp)\n"
   ]
  },
  {
   "cell_type": "code",
   "execution_count": null,
   "id": "7e02282c",
   "metadata": {},
   "outputs": [],
   "source": [
    "specs = []\n",
    "for frm in val_set:\n",
    "    specs.append(frm.get_atomic_numbers())\n",
    "fval_spec = np.asarray(specs)"
   ]
  },
  {
   "cell_type": "code",
   "execution_count": 31,
   "id": "6951a06b",
   "metadata": {},
   "outputs": [],
   "source": [
    "hs = []\n",
    "cs = []\n",
    "ns = []\n",
    "os = []\n",
    "for ispec, spec in enumerate(fval_spec):\n",
    "    if spec == 1:\n",
    "        hs.append(ispec)\n",
    "    if spec == 6:\n",
    "        cs.append(ispec)\n",
    "    if spec == 7:\n",
    "        ns.append(ispec)\n",
    "    if spec == 8:\n",
    "        os.append(ispec)"
   ]
  },
  {
   "cell_type": "code",
   "execution_count": 46,
   "id": "1f08334a",
   "metadata": {},
   "outputs": [
    {
     "name": "stdout",
     "output_type": "stream",
     "text": [
      "Force RMSE for o atoms: 0.272729554146489\n"
     ]
    }
   ],
   "source": [
    "force_true = []\n",
    "force_pred = []\n",
    "for no in os:\n",
    "    force_true.append(fval_true[no])\n",
    "    force_pred.append(fval_pred[no])\n",
    "force_true = np.asarray(force_true)\n",
    "force_pred = np.asarray(force_pred)\n",
    "rmse = np.sqrt(np.mean((force_true.flatten() - force_pred.flatten())**2))\n",
    "print(\"Force RMSE for o atoms:\", rmse)"
   ]
  },
  {
   "cell_type": "code",
   "execution_count": 17,
   "id": "81b51404",
   "metadata": {
    "scrolled": true
   },
   "outputs": [
    {
     "data": {
      "text/plain": [
       "Text(0.5, 1.0, 'Forces (ev/$\\\\AA$)')"
      ]
     },
     "execution_count": 17,
     "metadata": {},
     "output_type": "execute_result"
    },
    {
     "data": {
      "image/png": "[encoded data removed]",
      "text/plain": [
       "<Figure size 720x360 with 2 Axes>"
      ]
     },
     "metadata": {
      "needs_background": "light"
     },
     "output_type": "display_data"
    }
   ],
   "source": [
    "#Plot predicted vs. actual energies and forces\n",
    "f,p = plt.subplots(1,2, figsize = (10, 5))\n",
    "p[0].scatter((yval_true[:npred] - mlr.predict(X_val[:npred]))/np.sum(X_val[:npred],axis=1),\n",
    "             (yval_pred[:npred] - mlr.predict(X_val[:npred]))/np.sum(X_val[:npred],axis=1))\n",
    "p[0].set_title('Energies (eV)')\n",
    "p[0].set()\n",
    "p[1].scatter(fval_true.flatten()[:npred], fval_pred.flatten()[:npred])\n",
    "p[1].set_title(r'Forces (ev/$\\AA$)')"
   ]
  },
  {
   "cell_type": "code",
   "execution_count": 22,
   "id": "fe8a2c83",
   "metadata": {},
   "outputs": [],
   "source": [
    "rmse_energy = np.sqrt(np.mean(((yval_true[:npred] - mlr.predict(X_val[:npred]))/np.sum(X_val[:npred],axis=1) - (yval_pred[:npred] - mlr.predict(X_val[:npred]))/np.sum(X_val[:npred],axis=1))**2))"
   ]
  },
  {
   "cell_type": "code",
   "execution_count": 23,
   "id": "fe48b0a1",
   "metadata": {},
   "outputs": [],
   "source": [
    "rmse_forces = np.sqrt(np.mean((fval_true.flatten() - fval_pred.flatten())**2))"
   ]
  },
  {
   "cell_type": "code",
   "execution_count": 24,
   "id": "534729fa",
   "metadata": {},
   "outputs": [
    {
     "name": "stdout",
     "output_type": "stream",
     "text": [
      "0.014955712241455683 0.28517213120751095\n"
     ]
    }
   ],
   "source": [
    "print(rmse_energy, rmse_forces)"
   ]
  },
  {
   "cell_type": "code",
   "execution_count": 26,
   "id": "2cf43a9b",
   "metadata": {},
   "outputs": [
    {
     "data": {
      "image/png": "[encoded data removed]",
      "text/plain": [
       "<Figure size 2000x1000 with 2 Axes>"
      ]
     },
     "metadata": {
      "needs_background": "light"
     },
     "output_type": "display_data"
    }
   ],
   "source": [
    "#Plot predicted vs. actual energies and forces\n",
    "f,p = plt.subplots(1,2, figsize = (10, 5), dpi=200)\n",
    "p[0].scatter((yval_true[:npred] - mlr.predict(X_val[:npred]))/np.sum(X_val[:npred],axis=1),\n",
    "             (yval_pred[:npred] - mlr.predict(X_val[:npred]))/np.sum(X_val[:npred],axis=1), s=8)\n",
    "p[0].plot([-0.4,0.45],[-0.4, 0.45], color='red')\n",
    "p[0].set_title('Baselined Energies')\n",
    "p[0].set_xlabel('True energy (eV)')\n",
    "p[0].set_ylabel('Predicted energy (eV)')\n",
    "p[1].scatter(fval_true.flatten()[:npred], fval_pred.flatten()[:npred], s=8)\n",
    "p[1].plot([-4,4],[-4, 4], color='red')\n",
    "p[1].set_title(r'Forces')\n",
    "p[1].set_xlabel('True force (ev / $\\AA$)')\n",
    "p[1].set_ylabel('Predicted force (ev / $\\AA$)')\n",
    "plt.savefig('figures/accuracy_valset_20k_2500sp_0.01_0.1.png')"
   ]
  },
  {
   "cell_type": "code",
   "execution_count": 28,
   "id": "cfe20269",
   "metadata": {},
   "outputs": [
    {
     "data": {
      "image/png": "[encoded data removed]",
      "text/plain": [
       "<Figure size 2000x1000 with 2 Axes>"
      ]
     },
     "metadata": {
      "needs_background": "light"
     },
     "output_type": "display_data"
    }
   ],
   "source": [
    "#Plot predicted vs. actual energies and forces\n",
    "f,p = plt.subplots(1,2, figsize = (10, 5), dpi=200)\n",
    "p[0].scatter((ytest_true[:npred] - mlr.predict(X_test[:npred]))/np.sum(X_test[:npred],axis=1),\n",
    "             (ytest_pred[:npred] - mlr.predict(X_test[:npred]))/np.sum(X_test[:npred],axis=1), s=8)\n",
    "p[0].plot([-0.4,0.4],[-0.4, 0.4], color='red')\n",
    "p[0].set_title('Baselined Energies')\n",
    "p[0].set_xlabel('True energy (eV)')\n",
    "p[0].set_ylabel('Predicted energy (eV)')\n",
    "p[1].scatter(ftest_true.flatten()[:npred], ftest_pred.flatten()[:npred], s=8)\n",
    "p[1].plot([-3,4],[-3,4], color='red')\n",
    "p[1].set_title(r'Forces')\n",
    "p[1].set_xlabel('True force (ev / $\\AA$)')\n",
    "p[1].set_ylabel('Predicted force (ev / $\\AA$)')\n",
    "plt.savefig('figures/accuracy_testset_20k_2500sp_0.01_0.1.png')"
   ]
  },
  {
   "cell_type": "code",
   "execution_count": 29,
   "id": "337037bf",
   "metadata": {},
   "outputs": [],
   "source": [
    "rmse_energy = np.sqrt(np.mean(((ytest_true[:npred] - mlr.predict(X_test[:npred]))/np.sum(X_test[:npred],axis=1) - (yval_pred[:npred] - mlr.predict(X_val[:npred]))/np.sum(X_val[:npred],axis=1))**2))"
   ]
  },
  {
   "cell_type": "code",
   "execution_count": 30,
   "id": "86cf8383",
   "metadata": {},
   "outputs": [],
   "source": [
    "rmse_forces = np.sqrt(np.mean((ftest_true.flatten() - ftest_pred.flatten())**2))"
   ]
  },
  {
   "cell_type": "code",
   "execution_count": 31,
   "id": "f5b2b308",
   "metadata": {},
   "outputs": [
    {
     "name": "stdout",
     "output_type": "stream",
     "text": [
      "0.14718688795969026 0.2892813566861782\n"
     ]
    }
   ],
   "source": [
    "print(rmse_energy, rmse_forces)"
   ]
  },
  {
   "cell_type": "code",
   "execution_count": 40,
   "id": "24523ec4",
   "metadata": {},
   "outputs": [],
   "source": [
    "for struct in test_set:\n",
    "    if (struct.info['name'].split('_')[0]) == 'IVABEO':\n",
    "        print(struct.info['name'])"
   ]
  },
  {
   "cell_type": "code",
   "execution_count": 28,
   "id": "6eaff694",
   "metadata": {},
   "outputs": [],
   "source": [
    "energies_err_pa = (yval_true - yval_pred)/np.sum(X_val[:npred], axis=1)"
   ]
  },
  {
   "cell_type": "code",
   "execution_count": 38,
   "id": "5c38cdf9",
   "metadata": {},
   "outputs": [
    {
     "name": "stdout",
     "output_type": "stream",
     "text": [
      "Std. dev. of energies (per atom) 0.10627934719393947\n",
      "Std. dev. of energies errors (per atom) = 0.014939804544765217\n",
      "Std. dev. of forces = 0.7899469555178046\n"
     ]
    }
   ],
   "source": [
    "# Calculate stddev of energy and force predictions\n",
    "print(\"Std. dev. of energies (per atom)\", np.std((yval_true[:npred] - mlr.predict(X_val[:npred]))/np.sum(X_val[:npred],axis=1)))\n",
    "print(\"Std. dev. of energies errors (per atom) =\", np.std(energies_err_pa))\n",
    "print(\"Std. dev. of forces =\", np.std(fval_pred.flatten()), flush = True)"
   ]
  },
  {
   "cell_type": "code",
   "execution_count": 42,
   "id": "470e3405",
   "metadata": {},
   "outputs": [
    {
     "data": {
      "image/png": "[encoded data removed]",
      "text/plain": [
       "<Figure size 432x288 with 1 Axes>"
      ]
     },
     "metadata": {
      "needs_background": "light"
     },
     "output_type": "display_data"
    }
   ],
   "source": [
    "#Distribution of the force predictions\n",
    "plt.hist(fval_pred.flatten(), bins=20)\n",
    "plt.yscale('log')"
   ]
  },
  {
   "cell_type": "code",
   "execution_count": 47,
   "id": "4edfe682",
   "metadata": {},
   "outputs": [
    {
     "name": "stdout",
     "output_type": "stream",
     "text": [
      "Mean absolute error of force predictions: 0.19863162404848117\n"
     ]
    }
   ],
   "source": [
    "mae_pred = np.mean(np.absolute(fval_pred.flatten() - fval_true.flatten()))\n",
    "print(\"Mean absolute error of force predictions:\", mae_pred)"
   ]
  },
  {
   "cell_type": "code",
   "execution_count": 51,
   "id": "74013475",
   "metadata": {},
   "outputs": [
    {
     "data": {
      "image/png": "[encoded data removed]",
      "text/plain": [
       "<Figure size 432x288 with 1 Axes>"
      ]
     },
     "metadata": {
      "needs_background": "light"
     },
     "output_type": "display_data"
    }
   ],
   "source": [
    "#Distribution of the true forces\n",
    "plt.hist(fval_true.flatten(), bins=20)\n",
    "plt.yscale('log')"
   ]
  },
  {
   "cell_type": "code",
   "execution_count": 50,
   "id": "74661930",
   "metadata": {},
   "outputs": [
    {
     "data": {
      "image/png": "[encoded data removed]",
      "text/plain": [
       "<Figure size 432x288 with 1 Axes>"
      ]
     },
     "metadata": {
      "needs_background": "light"
     },
     "output_type": "display_data"
    }
   ],
   "source": [
    "#Distribution of the errors in force predictions\n",
    "plt.hist(fval_true.flatten()-fval_pred.flatten(), bins=20)\n",
    "plt.yscale('log')"
   ]
  },
  {
   "cell_type": "code",
   "execution_count": 22,
   "id": "f8007f23",
   "metadata": {},
   "outputs": [],
   "source": [
    "np.savetxt('results_data/20k_2500ns_0.01_0.1_results.txt', np.array([rmse_energy, rmse_forces]))"
   ]
  },
  {
   "cell_type": "code",
   "execution_count": null,
   "id": "d144e779",
   "metadata": {},
   "outputs": [],
   "source": [
    "#Train GAP model using 0.01 for both energy and force regularizers\n",
    "print(\"Training GAP model...\")\n",
    "start = time()\n",
    "full_model = train_gap_model(kernel, train_set_FPS[:ntrain], Knm_FPS, X_sparse_FPS, ytrain_FPS[:ntrain], y_dressed, \n",
    "                        grad_train=-get_forces(train_set_FPS[:ntrain]), lambdas=[0.01,0.01], jitter=1e-9, \n",
    "                        solver = 'RKHS')\n",
    "print(\"Time taken:\", time()-start)"
   ]
  },
  {
   "cell_type": "code",
   "execution_count": 24,
   "id": "b0a6c637",
   "metadata": {
    "code_folding": []
   },
   "outputs": [
    {
     "data": {
      "application/vnd.jupyter.widget-view+json": {
       "model_id": "",
       "version_major": 2,
       "version_minor": 0
      },
      "text/plain": [
       "Making predictions for validation set...:   0%|          | 0/1000 [00:00<?, ?it/s]"
      ]
     },
     "metadata": {},
     "output_type": "display_data"
    }
   ],
   "source": [
    "#predict energies and forces for validation set\n",
    "npred=1000\n",
    "yvp = []\n",
    "fvp = []\n",
    "\n",
    "for ifrm, frm in enumerate(tqdm(val_set[:npred], desc = \"Making predictions for validation set...\", leave=False)):\n",
    "    manager_val = soap.transform(frm)\n",
    "    yvp.append(full_model.predict(manager_val))\n",
    "    fvp.append(full_model.predict_forces(manager_val))\n",
    "\n",
    "yval_pred = np.array(yvp).flatten()\n",
    "fval_pred = np.concatenate(fvp)\n"
   ]
  },
  {
   "cell_type": "code",
   "execution_count": 25,
   "id": "4d9945bc",
   "metadata": {},
   "outputs": [
    {
     "data": {
      "text/plain": [
       "Text(0.5, 1.0, 'Forces (ev/$\\\\AA$)')"
      ]
     },
     "execution_count": 25,
     "metadata": {},
     "output_type": "execute_result"
    },
    {
     "data": {
      "image/png": "[encoded data removed]",
      "text/plain": [
       "<Figure size 720x360 with 2 Axes>"
      ]
     },
     "metadata": {
      "needs_background": "light"
     },
     "output_type": "display_data"
    }
   ],
   "source": [
    "#Plot predicted vs. actual energies and forces\n",
    "f,p = plt.subplots(1,2, figsize = (10, 5))\n",
    "p[0].scatter((yval_true[:npred] - mlr.predict(X_val[:npred]))/np.sum(X_val[:npred],axis=1),\n",
    "             (yval_pred[:npred] - mlr.predict(X_val[:npred]))/np.sum(X_val[:npred],axis=1))\n",
    "p[0].set_title('Energies (eV)')\n",
    "p[0].set()\n",
    "p[1].scatter(fval_true.flatten()[:npred], fval_pred.flatten()[:npred])\n",
    "p[1].set_title(r'Forces (ev/$\\AA$)')"
   ]
  },
  {
   "cell_type": "code",
   "execution_count": 26,
   "id": "010b8959",
   "metadata": {},
   "outputs": [],
   "source": [
    "rmse_energy = np.sqrt(np.mean(((yval_true[:npred] - mlr.predict(X_val[:npred]))/np.sum(X_val[:npred],axis=1) - (yval_pred[:npred] - mlr.predict(X_val[:npred]))/np.sum(X_val[:npred],axis=1))**2))"
   ]
  },
  {
   "cell_type": "code",
   "execution_count": 27,
   "id": "a3910584",
   "metadata": {},
   "outputs": [],
   "source": [
    "rmse_forces = np.sqrt(np.mean((fval_true.flatten()[:npred] - fval_pred.flatten()[:npred])**2))"
   ]
  },
  {
   "cell_type": "code",
   "execution_count": 28,
   "id": "d1642a6b",
   "metadata": {},
   "outputs": [
    {
     "name": "stdout",
     "output_type": "stream",
     "text": [
      "0.04097007221841042 0.2972992726738704\n"
     ]
    }
   ],
   "source": [
    "print(rmse_energy, rmse_forces)"
   ]
  },
  {
   "cell_type": "code",
   "execution_count": 29,
   "id": "ecd17406",
   "metadata": {},
   "outputs": [],
   "source": [
    "np.savetxt('results_data/20k_2500ns_0.01_0.01_results.txt', np.array([rmse_energy, rmse_forces]))"
   ]
  }
 ],
 "metadata": {
  "kernelspec": {
   "display_name": "Python 3 (ipykernel)",
   "language": "python",
   "name": "python3"
  },
  "language_info": {
   "codemirror_mode": {
    "name": "ipython",
    "version": 3
   },
   "file_extension": ".py",
   "mimetype": "text/x-python",
   "name": "python",
   "nbconvert_exporter": "python",
   "pygments_lexer": "ipython3",
   "version": "3.9.12"
  },
  "toc": {
   "base_numbering": "5",
   "nav_menu": {},
   "number_sections": true,
   "sideBar": true,
   "skip_h1_title": false,
   "title_cell": "Table of Contents",
   "title_sidebar": "Contents",
   "toc_cell": false,
   "toc_position": {
    "height": "calc(100% - 180px)",
    "left": "10px",
    "top": "150px",
    "width": "288px"
   },
   "toc_section_display": true,
   "toc_window_display": true
  }
 },
 "nbformat": 4,
 "nbformat_minor": 5
}
