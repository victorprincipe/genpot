{
 "cells": [
  {
   "cell_type": "markdown",
   "id": "6338a405",
   "metadata": {},
   "source": [
    "# Creating a General Purpose Potential for Molecular Crystals - Part 2"
   ]
  },
  {
   "cell_type": "markdown",
   "id": "ff43510b",
   "metadata": {},
   "source": [
    "This notebook is used to create a general purpose GAP potential for molecular crystals. The potential is built on PBE-D3 data from short PIMD simulations of 2238 different molecular crystals. Please note that it has a high (~150 GB) memory requirement to run fully."
   ]
  },
  {
   "cell_type": "markdown",
   "id": "c575b31f",
   "metadata": {},
   "source": [
    "In this part of the notebook: \n",
    "- SOAP hyperparameters are optimised for a KRR model\n",
    "- The KRR model is tested with optimal hyperparameters"
   ]
  },
  {
   "cell_type": "markdown",
   "id": "6d5b7370",
   "metadata": {},
   "source": [
    "### Import modules, functions, and necessary raw data from part 1"
   ]
  },
  {
   "cell_type": "code",
   "execution_count": 13,
   "id": "1a9b1ef1",
   "metadata": {
    "code_folding": [
     0
    ],
    "hide_input": false
   },
   "outputs": [],
   "source": [
    "#Import modules\n",
    "from matplotlib import pylab as plt\n",
    "from tqdm import tqdm\n",
    "import itertools\n",
    "\n",
    "import pickle\n",
    "import numpy as np\n",
    "from sklearn import linear_model\n",
    "import skcosmo.feature_selection\n",
    "from skcosmo.feature_selection import FPS\n",
    "from skcosmo.sample_selection import PCovCUR\n",
    "from sklearn.linear_model import LinearRegression, Ridge\n",
    "from sklearn.kernel_ridge import KernelRidge\n",
    "\n",
    "import ase\n",
    "from ase.io import read, write\n",
    "from ase.build import make_supercell\n",
    "from ase.visualize import view\n",
    "import numpy as np\n",
    "# If installed -- not essential, though\n",
    "try:\n",
    "    from tqdm.notebook import tqdm\n",
    "except ImportError:\n",
    "    tqdm = (lambda i, **kwargs: i)\n",
    "\n",
    "from time import time\n",
    "\n",
    "from rascal.models import KRR\n",
    "from rascal.utils import dump_obj, load_obj\n",
    "\n",
    "from rascal.models import Kernel, train_gap_model, compute_KNM\n",
    "from rascal.representations import SphericalInvariants\n",
    "from rascal.utils import from_dict, to_dict, CURFilter, FPSFilter, dump_obj, load_obj\n",
    "from rascal.utils import get_score\n",
    "from rascal.utils.io import load_json, dump_json\n"
   ]
  },
  {
   "cell_type": "code",
   "execution_count": 89,
   "id": "d3e3877a",
   "metadata": {
    "code_folding": [
     0,
     1,
     23
    ]
   },
   "outputs": [],
   "source": [
    "#Define functions\n",
    "def do_fps(x, d=0):\n",
    "    \"\"\"\n",
    "    Function for performing farthest-point-sampling for a given feature matrix.\n",
    "    d gives the number of farthest-point-sampled feature vectors that will be outputted. \n",
    "    If d==0, the entire set will be FPS-sorted.\n",
    "    Returns the FPS-sorted IDs, as well as the FPS distances.\n",
    "    \"\"\"\n",
    "    if d == 0 : d = len(x)\n",
    "    n = len(x)\n",
    "    iy = np.zeros(d, int)\n",
    "    # faster evaluation of Euclidean distance\n",
    "    n2 = np.sum(x**2,axis=1)\n",
    "    iy[0] = 0\n",
    "    dl = n2 + n2[iy[0]] - 2* np.dot(x, x[iy[0]])\n",
    "    dss = []\n",
    "    for i in range(1,d):\n",
    "        iy[i] = np.argmax(dl)\n",
    "        nd = n2 + n2[iy[i]] - 2*np.dot(x,x[iy[i]])\n",
    "        dl = np.minimum(dl, nd)\n",
    "        dss.append(max(dl))\n",
    "    return iy,dss\n",
    "\n",
    "def get_forces(frames):\n",
    "    frc = np.zeros((np.sum([len(frm) for frm in frames]),3))\n",
    "    iat = 0\n",
    "    for ifrm,frm in enumerate(frames):\n",
    "        frc[iat:iat+len(frm)] = frm.get_array('forces') \n",
    "        iat += len(frm)\n",
    "    return frc\n",
    "\n",
    "#Get feature vectors for a list of atoms objects. This requires soap to be set, as well as all_species, which is\n",
    "#a list with one atoms object that contains all species HCNO\n",
    "def get_features(atoms_objects, batch_size=1000):\n",
    "    struct_feat=[] #create empty feature vector of n_structures x n_features\n",
    "    got_frame = False\n",
    "    for frm in atoms_objects:\n",
    "        while got_frame == False: \n",
    "            if all(sp in frm.get_atomic_numbers() for sp in [1,6,7,8]) == True:\n",
    "                all_species = frm\n",
    "                got_frame = True\n",
    "    for i in range(int(len(atoms_objects)/batch_size+0.9999)): #Get feature vectors in batches of 1000\n",
    "        for frm in atoms_objects[i*batch_size:(i+1)*batch_size]:\n",
    "            frm.wrap(eps=1e-13) #wrap atoms in unit cell\n",
    "        frames=[all_species.copy()] #add initial frame with all species\n",
    "        frames.extend(atoms_objects[i*batch_size:(i+1)*batch_size]) #extend initial frame with frames of batch\n",
    "        manager = soap.transform(frames) #calculate soap features for all structures in batch\n",
    "        env_feat_batch = manager.get_features(soap)[len(all_species):] #get feature vectors for all structures in batch\n",
    "        # (having removed the initial frame)\n",
    "        atom_counter=0 #count atoms\n",
    "        for ifrm,frm in enumerate(atoms_objects[i*batch_size:(i+1)*batch_size]): #iterate over frames in batch\n",
    "            nat=len(frm) #count atoms in frame\n",
    "            struct_feat.append(np.mean(env_feat_batch[atom_counter:atom_counter+nat],axis=0)) #average vectors\n",
    "            # for atoms in the same frame. Done by averaging vectors between atom_counter and atom_counter + nat\n",
    "            atom_counter+=nat #add atoms to counter\n",
    "    struct_feat_array=np.asarray(struct_feat)\n",
    "    return struct_feat_array"
   ]
  },
  {
   "cell_type": "code",
   "execution_count": 87,
   "id": "36dba265",
   "metadata": {
    "code_folding": [
     0
    ]
   },
   "outputs": [],
   "source": [
    "#Import data\n",
    "db_fps=np.load('raw_data/CSD-10k_per_crystal_fps_w_kpts.npy', allow_pickle=True)\n",
    "struct_feat = np.load('raw_data/CSD-10k_features_train_set.npy')\n",
    "train_set = np.load('raw_data/CSD-10k_train_set.npy', allow_pickle=True)\n",
    "val_set = np.load('raw_data/CSD-10k_val_set.npy', allow_pickle=True)\n",
    "test_set = np.load('raw_data/CSD-10k_test_set.npy', allow_pickle=True)\n",
    "fps_ids = np.load('raw_data/CSD-10k_train_set_FPS_ids.npy')\n",
    "fps_dist = np.load('raw_data/CSD-10k_train_set_FPS_dist.npy')\n",
    "X_train = np.load('raw_data/X_train.npy') \n",
    "y_train = np.load('raw_data/y_train.npy')\n",
    "X_val = np.load('raw_data/X_val.npy') \n",
    "y_val = np.load('raw_data/y_val.npy')\n",
    "X_test = np.load('raw_data/X_test.npy') \n",
    "y_test = np.load('raw_data/y_test.npy')\n",
    "with open('raw_data/mlr.pkl', 'rb') as mlr_file:\n",
    "    mlr = pickle.load(mlr_file)"
   ]
  },
  {
   "cell_type": "code",
   "execution_count": 52,
   "id": "4c7e217c",
   "metadata": {
    "code_folding": [
     0
    ]
   },
   "outputs": [],
   "source": [
    "#Define soap hyperparameters from part 1 (will be chnaged soon)\n",
    "hypers = dict(soap_type=\"PowerSpectrum\",\n",
    "              interaction_cutoff=6, #cutoff distance in angstroms\n",
    "              max_radial=6, #no. of radial basis functions\n",
    "              max_angular=6, #no. of angular basis functions\n",
    "              gaussian_sigma_constant=0.4, #sigma width (i.e. amount of 'smearing')\n",
    "              gaussian_sigma_type=\"Constant\",\n",
    "              cutoff_function_type=\"RadialScaling\",\n",
    "              cutoff_smooth_width=0.5,\n",
    "              cutoff_function_parameters=\n",
    "                    dict(\n",
    "                            rate=1,\n",
    "                            scale=2,\n",
    "                            exponent=2\n",
    "                        ),\n",
    "              radial_basis=\"GTO\",\n",
    "              normalize=True,\n",
    "              optimization=\n",
    "                    dict(\n",
    "                            Spline=dict(\n",
    "                               accuracy=1.0e-05\n",
    "                            )\n",
    "                        ),\n",
    "              compute_gradients=False #don't care about forces right now\n",
    "              )\n",
    "soap = SphericalInvariants(**hypers)\n"
   ]
  },
  {
   "cell_type": "markdown",
   "id": "9b343be1",
   "metadata": {},
   "source": [
    "## Quasi-learning curve (quick test)\n",
    "A quasi-leanring loop is set up in order to see how well the KRR model can learn energies using increasing training set sizes. Please note that SOAP hyperparameters have not been optimised yet, and so the errors at each iteration can most likely be reduced further. The regularization parameter is already optimised in this loop. This is just an academic exercise, as hyperparameters will optimised below this, and then a quasi-active learning loop will be set up in order to iteratively add training strucutres to the model in batches."
   ]
  },
  {
   "cell_type": "code",
   "execution_count": 88,
   "id": "fa88062c",
   "metadata": {
    "code_folding": [],
    "collapsed": true
   },
   "outputs": [
    {
     "name": "stdout",
     "output_type": "stream",
     "text": [
      "60\n",
      "501\n",
      "46776\n",
      "60\n",
      "501\n",
      "44199\n"
     ]
    },
    {
     "data": {
      "application/vnd.jupyter.widget-view+json": {
       "model_id": "254c228c5dca41a1ab221d9cae1c5f89",
       "version_major": 2,
       "version_minor": 0
      },
      "text/plain": [
       "  0%|          | 0/8 [00:00<?, ?it/s]"
      ]
     },
     "metadata": {},
     "output_type": "display_data"
    },
    {
     "name": "stdout",
     "output_type": "stream",
     "text": [
      "1 1e-06 0.0142\n",
      "2 1e-06 0.0097\n",
      "3 1e-07 0.0076\n",
      "4 1e-06 0.0064\n"
     ]
    },
    {
     "ename": "KeyboardInterrupt",
     "evalue": "",
     "output_type": "error",
     "traceback": [
      "\u001b[0;31m---------------------------------------------------------------------------\u001b[0m",
      "\u001b[0;31mKeyboardInterrupt\u001b[0m                         Traceback (most recent call last)",
      "Input \u001b[0;32mIn [88]\u001b[0m, in \u001b[0;36m<cell line: 4>\u001b[0;34m()\u001b[0m\n\u001b[1;32m     26\u001b[0m \u001b[38;5;28;01mfor\u001b[39;00m reg \u001b[38;5;129;01min\u001b[39;00m np\u001b[38;5;241m.\u001b[39mlogspace(\u001b[38;5;241m-\u001b[39m\u001b[38;5;241m9\u001b[39m,\u001b[38;5;241m-\u001b[39m\u001b[38;5;241m3\u001b[39m,\u001b[38;5;241m7\u001b[39m):\n\u001b[1;32m     27\u001b[0m     KRR \u001b[38;5;241m=\u001b[39m KernelRidge(kernel\u001b[38;5;241m=\u001b[39m\u001b[38;5;124m'\u001b[39m\u001b[38;5;124mprecomputed\u001b[39m\u001b[38;5;124m'\u001b[39m,alpha \u001b[38;5;241m=\u001b[39m reg)\n\u001b[0;32m---> 28\u001b[0m     \u001b[43mKRR\u001b[49m\u001b[38;5;241;43m.\u001b[39;49m\u001b[43mfit\u001b[49m\u001b[43m(\u001b[49m\u001b[43mK\u001b[49m\u001b[43m,\u001b[49m\u001b[43my\u001b[49m\u001b[43m)\u001b[49m\n\u001b[1;32m     29\u001b[0m     err \u001b[38;5;241m=\u001b[39m np\u001b[38;5;241m.\u001b[39mstd(yred_val \u001b[38;5;241m-\u001b[39m KRR\u001b[38;5;241m.\u001b[39mpredict(Kval)) \u001b[38;5;66;03m#compute error between true and predicted energies for validation set\u001b[39;00m\n\u001b[1;32m     30\u001b[0m     \u001b[38;5;28;01mif\u001b[39;00m err \u001b[38;5;241m<\u001b[39m minerr: \u001b[38;5;66;03m#if computed error is less than the previously stored minimum energy\u001b[39;00m\n",
      "File \u001b[0;32m~/code/miniconda3/envs/genshift/lib/python3.9/site-packages/sklearn/kernel_ridge.py:195\u001b[0m, in \u001b[0;36mKernelRidge.fit\u001b[0;34m(self, X, y, sample_weight)\u001b[0m\n\u001b[1;32m    192\u001b[0m     ravel \u001b[38;5;241m=\u001b[39m \u001b[38;5;28;01mTrue\u001b[39;00m\n\u001b[1;32m    194\u001b[0m copy \u001b[38;5;241m=\u001b[39m \u001b[38;5;28mself\u001b[39m\u001b[38;5;241m.\u001b[39mkernel \u001b[38;5;241m==\u001b[39m \u001b[38;5;124m\"\u001b[39m\u001b[38;5;124mprecomputed\u001b[39m\u001b[38;5;124m\"\u001b[39m\n\u001b[0;32m--> 195\u001b[0m \u001b[38;5;28mself\u001b[39m\u001b[38;5;241m.\u001b[39mdual_coef_ \u001b[38;5;241m=\u001b[39m \u001b[43m_solve_cholesky_kernel\u001b[49m\u001b[43m(\u001b[49m\u001b[43mK\u001b[49m\u001b[43m,\u001b[49m\u001b[43m \u001b[49m\u001b[43my\u001b[49m\u001b[43m,\u001b[49m\u001b[43m \u001b[49m\u001b[43malpha\u001b[49m\u001b[43m,\u001b[49m\u001b[43m \u001b[49m\u001b[43msample_weight\u001b[49m\u001b[43m,\u001b[49m\u001b[43m \u001b[49m\u001b[43mcopy\u001b[49m\u001b[43m)\u001b[49m\n\u001b[1;32m    196\u001b[0m \u001b[38;5;28;01mif\u001b[39;00m ravel:\n\u001b[1;32m    197\u001b[0m     \u001b[38;5;28mself\u001b[39m\u001b[38;5;241m.\u001b[39mdual_coef_ \u001b[38;5;241m=\u001b[39m \u001b[38;5;28mself\u001b[39m\u001b[38;5;241m.\u001b[39mdual_coef_\u001b[38;5;241m.\u001b[39mravel()\n",
      "File \u001b[0;32m~/code/miniconda3/envs/genshift/lib/python3.9/site-packages/sklearn/linear_model/_ridge.py:249\u001b[0m, in \u001b[0;36m_solve_cholesky_kernel\u001b[0;34m(K, y, alpha, sample_weight, copy)\u001b[0m\n\u001b[1;32m    243\u001b[0m K\u001b[38;5;241m.\u001b[39mflat[:: n_samples \u001b[38;5;241m+\u001b[39m \u001b[38;5;241m1\u001b[39m] \u001b[38;5;241m+\u001b[39m\u001b[38;5;241m=\u001b[39m alpha[\u001b[38;5;241m0\u001b[39m]\n\u001b[1;32m    245\u001b[0m \u001b[38;5;28;01mtry\u001b[39;00m:\n\u001b[1;32m    246\u001b[0m     \u001b[38;5;66;03m# Note: we must use overwrite_a=False in order to be able to\u001b[39;00m\n\u001b[1;32m    247\u001b[0m     \u001b[38;5;66;03m#       use the fall-back solution below in case a LinAlgError\u001b[39;00m\n\u001b[1;32m    248\u001b[0m     \u001b[38;5;66;03m#       is raised\u001b[39;00m\n\u001b[0;32m--> 249\u001b[0m     dual_coef \u001b[38;5;241m=\u001b[39m \u001b[43mlinalg\u001b[49m\u001b[38;5;241;43m.\u001b[39;49m\u001b[43msolve\u001b[49m\u001b[43m(\u001b[49m\u001b[43mK\u001b[49m\u001b[43m,\u001b[49m\u001b[43m \u001b[49m\u001b[43my\u001b[49m\u001b[43m,\u001b[49m\u001b[43m \u001b[49m\u001b[43msym_pos\u001b[49m\u001b[38;5;241;43m=\u001b[39;49m\u001b[38;5;28;43;01mTrue\u001b[39;49;00m\u001b[43m,\u001b[49m\u001b[43m \u001b[49m\u001b[43moverwrite_a\u001b[49m\u001b[38;5;241;43m=\u001b[39;49m\u001b[38;5;28;43;01mFalse\u001b[39;49;00m\u001b[43m)\u001b[49m\n\u001b[1;32m    250\u001b[0m \u001b[38;5;28;01mexcept\u001b[39;00m np\u001b[38;5;241m.\u001b[39mlinalg\u001b[38;5;241m.\u001b[39mLinAlgError:\n\u001b[1;32m    251\u001b[0m     warnings\u001b[38;5;241m.\u001b[39mwarn(\n\u001b[1;32m    252\u001b[0m         \u001b[38;5;124m\"\u001b[39m\u001b[38;5;124mSingular matrix in solving dual problem. Using \u001b[39m\u001b[38;5;124m\"\u001b[39m\n\u001b[1;32m    253\u001b[0m         \u001b[38;5;124m\"\u001b[39m\u001b[38;5;124mleast-squares solution instead.\u001b[39m\u001b[38;5;124m\"\u001b[39m\n\u001b[1;32m    254\u001b[0m     )\n",
      "File \u001b[0;32m~/code/miniconda3/envs/genshift/lib/python3.9/site-packages/scipy/linalg/basic.py:212\u001b[0m, in \u001b[0;36msolve\u001b[0;34m(a, b, sym_pos, lower, overwrite_a, overwrite_b, debug, check_finite, assume_a, transposed)\u001b[0m\n\u001b[1;32m    209\u001b[0m     trans \u001b[38;5;241m=\u001b[39m \u001b[38;5;241m0\u001b[39m\n\u001b[1;32m    210\u001b[0m     norm \u001b[38;5;241m=\u001b[39m \u001b[38;5;124m'\u001b[39m\u001b[38;5;124m1\u001b[39m\u001b[38;5;124m'\u001b[39m\n\u001b[0;32m--> 212\u001b[0m anorm \u001b[38;5;241m=\u001b[39m \u001b[43mlange\u001b[49m\u001b[43m(\u001b[49m\u001b[43mnorm\u001b[49m\u001b[43m,\u001b[49m\u001b[43m \u001b[49m\u001b[43ma1\u001b[49m\u001b[43m)\u001b[49m\n\u001b[1;32m    214\u001b[0m \u001b[38;5;66;03m# Generalized case 'gesv'\u001b[39;00m\n\u001b[1;32m    215\u001b[0m \u001b[38;5;28;01mif\u001b[39;00m assume_a \u001b[38;5;241m==\u001b[39m \u001b[38;5;124m'\u001b[39m\u001b[38;5;124mgen\u001b[39m\u001b[38;5;124m'\u001b[39m:\n",
      "\u001b[0;31mKeyboardInterrupt\u001b[0m: "
     ]
    }
   ],
   "source": [
    "#Quasi-learning curve\n",
    "lc = []\n",
    "val_feat = get_features(val_set, batch_size=500) #Get feature vectors for validation database\n",
    "for npc in tqdm(range(1,9)):\n",
    "    #Train on npc* 2238 structures (npc per crystal)\n",
    "    initial_train_set = [train_set[idx] for idx in fps_ids[:npc*2238]]\n",
    "    initial_train_feat = np.asarray([struct_feat[idx] for idx in fps_ids[:npc*2238]])\n",
    "\n",
    "    #Create a matrix of n_structures x n_atoms_per_species (i.e. 2238 x 4 matrix), and a vectors with energies of structures\n",
    "    X_train = np.zeros((len(initial_train_set),4),dtype=int) #create matrix\n",
    "    y_train=np.zeros(len(initial_train_set)) #create vector\n",
    "    for ifrm, frm in enumerate(initial_train_set):\n",
    "        symbols=frm.get_atomic_numbers() #get atomic numbers from frame\n",
    "        y_train[ifrm]=(frm.info['energy']) #get energy from frame\n",
    "        X_train[ifrm]=[len(np.where(symbols == sp)[0]) for sp in [1,6,7,8]] #create vector of [n_H, n_C, n_N, n_O] and add to matrix\n",
    "\n",
    "    zeta = 2\n",
    "    K = np.dot(initial_train_feat,initial_train_feat.T)**zeta #compute kernel for training\n",
    "    Kval = np.dot(val_feat,initial_train_feat.T)**zeta #compute kernel for validation\n",
    "    y = y_train/np.sum(X_train,axis=1)-mlr.predict(X_train)/np.sum(X_train,axis=1)# per-atom binding energies\n",
    "\n",
    "    #Compute predictions with various regularization constants, and save the minimum constant (with associated error)\n",
    "    yred_val = y_val/np.sum(X_val,axis=1)-mlr.predict(X_val)/np.sum(X_val,axis=1) #baselined per-atom binding energies\n",
    "                                                                                  #of validation set\n",
    "    minerr = 1e24 ; minreg = 0\n",
    "    for reg in np.logspace(-9,-3,7):\n",
    "        KRR = KernelRidge(kernel='precomputed',alpha = reg)\n",
    "        KRR.fit(K,y)\n",
    "        err = np.std(yred_val - KRR.predict(Kval)) #compute error between true and predicted energies for validation set\n",
    "        if err < minerr: #if computed error is less than the previously stored minimum energy\n",
    "            minreg = reg #save regularization value\n",
    "            minerr = err #save computed error\n",
    "    print(npc,minreg,np.round(minerr,4))\n",
    "    lc.append(minerr)"
   ]
  },
  {
   "cell_type": "code",
   "execution_count": 28,
   "id": "6a350bd7",
   "metadata": {
    "code_folding": [
     0
    ]
   },
   "outputs": [
    {
     "data": {
      "text/plain": [
       "[<matplotlib.lines.Line2D at 0x7f4a32c7a460>]"
      ]
     },
     "execution_count": 28,
     "metadata": {},
     "output_type": "execute_result"
    },
    {
     "data": {
      "image/png": "[encoded data removed]",
      "text/plain": [
       "<Figure size 432x288 with 1 Axes>"
      ]
     },
     "metadata": {
      "needs_background": "light"
     },
     "output_type": "display_data"
    }
   ],
   "source": [
    "# Plot leanring rate\n",
    "f,p = plt.subplots(1,1)\n",
    "p.loglog(range(1,9),lc)"
   ]
  },
  {
   "cell_type": "code",
   "execution_count": 29,
   "id": "a52eb63d",
   "metadata": {
    "code_folding": [
     0
    ]
   },
   "outputs": [
    {
     "data": {
      "image/png": "[encoded data removed]",
      "text/plain": [
       "<Figure size 432x288 with 1 Axes>"
      ]
     },
     "metadata": {
      "needs_background": "light"
     },
     "output_type": "display_data"
    }
   ],
   "source": [
    "# Plot results of best-performing KRR model\n",
    "KRR = KernelRidge(kernel='precomputed',alpha = minreg)\n",
    "KRR.fit(K,y)\n",
    "\n",
    "f,p = plt.subplots(1,1)\n",
    "p.plot(y_val/np.sum(X_val,axis=1)-mlr.predict(X_val)/np.sum(X_val,axis=1), y_val/np.sum(X_val,axis=1)-mlr.predict(X_val)/np.sum(X_val,axis=1), '-', c='grey')\n",
    "p.scatter(y_val/np.sum(X_val,axis=1)-mlr.predict(X_val)/np.sum(X_val,axis=1), KRR.predict(Kval))\n",
    "p.set_aspect(1)\n",
    "\n"
   ]
  },
  {
   "cell_type": "markdown",
   "id": "736c0a54",
   "metadata": {},
   "source": [
    "#### Optimization of zeta and regularization constants"
   ]
  },
  {
   "cell_type": "code",
   "execution_count": 127,
   "id": "0cce1201",
   "metadata": {},
   "outputs": [
    {
     "name": "stdout",
     "output_type": "stream",
     "text": [
      "1 1e-08 0.012\n",
      "2 1e-07 0.005\n",
      "3 1e-06 0.005\n",
      "4 1e-07 0.005\n"
     ]
    },
    {
     "data": {
      "text/plain": [
       "<matplotlib.legend.Legend at 0x7f7438d88610>"
      ]
     },
     "execution_count": 127,
     "metadata": {},
     "output_type": "execute_result"
    },
    {
     "data": {
      "image/png": "[encoded data removed]",
      "text/plain": [
       "<Figure size 432x288 with 1 Axes>"
      ]
     },
     "metadata": {
      "needs_background": "light"
     },
     "output_type": "display_data"
    }
   ],
   "source": [
    "f,p = plt.subplots(1,1)\n",
    "p.plot(yred_val, yred_val, '-', c='grey')\n",
    "    \n",
    "#Compute predictions with various zeta values, and save the minimum zeta (with associated error)\n",
    "for zeta in [1,2,3,4]:\n",
    "    K = np.dot(initial_train_feat,initial_train_feat.T)**zeta\n",
    "    Kval = np.dot(val_feat,initial_train_feat.T)**zeta\n",
    "    y = y_train/np.sum(X_train,axis=1)-mlr.predict(X_train)/np.sum(X_train,axis=1)# per-atom binding energies\n",
    "\n",
    "    minerr = 1e24 ; minreg = 0\n",
    "    for reg in np.logspace(-9,-3,7):\n",
    "        KRR = KernelRidge(kernel='precomputed',alpha = reg)\n",
    "        KRR.fit(K,y)\n",
    "        err = np.std(yred_val - KRR.predict(Kval))\n",
    "        if err < minerr:\n",
    "            minreg = reg\n",
    "            minerr = err\n",
    "    print(zeta,minreg,np.round(minerr,5))\n",
    "\n",
    "    KRR = KernelRidge(kernel='precomputed',alpha = minreg)\n",
    "    KRR.fit(K,y)\n",
    "\n",
    "    p.scatter(yred_val, KRR.predict(Kval),alpha=0.5,s=10,label=str(zeta))\n",
    "p.set_aspect(1)\n",
    "p.legend()"
   ]
  },
  {
   "cell_type": "markdown",
   "id": "7e2dec52",
   "metadata": {},
   "source": [
    "## Loop for hyperparameter optimisation\n",
    "Loop for optimisaing SOAP hyperparameters, as well as zeta and regularization constants. This loop can take several hours, and so the results have been saved and can be reloaded below. "
   ]
  },
  {
   "cell_type": "markdown",
   "id": "e6d35c40",
   "metadata": {},
   "source": [
    "### Create initial training set\n",
    "As seen from the quasi-active learning curve, an acceptable error is obtained when training a model on 4 configurations per crystal. Therefore, hyperparameters are optimised using this number of training configurations. It is assumed that the optimal hyperparameters for this set will be the same or similar when adding or removing some configurations, but this is definitely not a certainty."
   ]
  },
  {
   "cell_type": "code",
   "execution_count": 93,
   "id": "0b8138c9",
   "metadata": {},
   "outputs": [],
   "source": [
    "#Train on npc* 2238 FPS-sorted structures (npc = numer of configurations per crystal)\n",
    "npc = 4\n",
    "initial_train_set = [train_set[idx] for idx in fps_ids[:npc*2238]]\n",
    "\n",
    "yred_train = y_train/np.sum(X_train,axis=1)-mlr.predict(X_train)/np.sum(X_train,axis=1)#Baselined per-atom binding energies of training set\n",
    "yred_val = y_val/np.sum(X_val,axis=1)-mlr.predict(X_val)/np.sum(X_val,axis=1) #Baselined per-atom binding energies of validation set\n",
    "\n",
    "np.save('raw_data/initial_train_set_4pc', np.asarray(initial_train_set, dtype='object')) #Save initial training set"
   ]
  },
  {
   "cell_type": "code",
   "execution_count": 90,
   "id": "c156c806",
   "metadata": {},
   "outputs": [],
   "source": [
    "#Create composition matrix and energies vector for the initial training set\n",
    "X_train_fps = np.zeros((len(initial_train_set),4),dtype=int)\n",
    "y_train_fps = np.zeros(len(initial_train_set))\n",
    "for ifrm, frm in enumerate(initial_train_set):\n",
    "    symbols=frm.get_atomic_numbers()\n",
    "    y_train_fps[ifrm]=(frm.info['energy'])\n",
    "    X_train_fps[ifrm]=[len(np.where(symbols == sp)[0]) for sp in [1,6,7,8]]\n",
    "    \n",
    "np.save('raw_data/X_train_fps', X_train_fps)\n",
    "np.save('raw_data/y_train_fps', y_train_fps)"
   ]
  },
  {
   "cell_type": "markdown",
   "id": "d8cce997",
   "metadata": {},
   "source": [
    "#### Compute, save and (re-)load feature matrices"
   ]
  },
  {
   "cell_type": "code",
   "execution_count": 63,
   "id": "c729c444",
   "metadata": {},
   "outputs": [],
   "source": [
    "#Compute training and validation feature matrices\n",
    "train_feat=get_features(initial_train_set) #get features for training set\n",
    "val_feat=get_features(val_set) #get features for validation set"
   ]
  },
  {
   "cell_type": "code",
   "execution_count": 64,
   "id": "0c57d4c3",
   "metadata": {},
   "outputs": [],
   "source": [
    "#Save feature matrices\n",
    "np.save('raw_data/CSD-10k_train_feat_4pc_hyperopt', train_feat)\n",
    "np.save('raw_data/CSD-10k_val_feat_4pc_hyperopt', val_feat)"
   ]
  },
  {
   "cell_type": "code",
   "execution_count": 15,
   "id": "5cd6f0a2",
   "metadata": {},
   "outputs": [],
   "source": [
    "#Load feature matrices\n",
    "train_feat = np.load('raw_data/CSD-10k_train_feat_4pc_hyperopt.npy')\n",
    "val_feat = np.load('raw_data/CSD-10k_val_feat_4pc_hyperopt.npy')"
   ]
  },
  {
   "cell_type": "markdown",
   "id": "1ac40715",
   "metadata": {},
   "source": [
    "### Define hyperparameters (which may be changed)\n",
    "The number of radial and angular basis functions were chosen to be 9 and 6, respectively. This is because, from Edgar's experience, they have shown to give good results while still being relatively computationally efficient."
   ]
  },
  {
   "cell_type": "code",
   "execution_count": 32,
   "id": "c6e4c852",
   "metadata": {},
   "outputs": [],
   "source": [
    "#Define hyperparameters, SOAP, and y (true) values for training set and validation set\n",
    "zeta = 2\n",
    "hypers = dict(soap_type=\"PowerSpectrum\",\n",
    "              interaction_cutoff=6, #cutoff distance in angstroms\n",
    "              max_radial=9, #no. of radial basis functions\n",
    "              max_angular=6, #no. of angular basis functions\n",
    "              gaussian_sigma_constant=0.4, #sigma width (i.e. amount of 'smearing')\n",
    "              gaussian_sigma_type=\"Constant\",\n",
    "              cutoff_function_type=\"RadialScaling\",\n",
    "              cutoff_smooth_width=0.5,\n",
    "              cutoff_function_parameters=\n",
    "                    dict(\n",
    "                            rate=1,\n",
    "                            scale=2,\n",
    "                            exponent=2\n",
    "                        ),\n",
    "              radial_basis=\"GTO\",\n",
    "              normalize=True,\n",
    "              optimization=\n",
    "                    dict(\n",
    "                            Spline=dict(\n",
    "                               accuracy=1.0e-05\n",
    "                            )\n",
    "                        ),\n",
    "              compute_gradients=False #don't care about forces right now\n",
    "              )"
   ]
  },
  {
   "cell_type": "markdown",
   "id": "8d96545b",
   "metadata": {},
   "source": [
    "### Self-consistent loop"
   ]
  },
  {
   "cell_type": "code",
   "execution_count": 140,
   "id": "6c913d0f",
   "metadata": {
    "scrolled": true
   },
   "outputs": [
    {
     "name": "stdout",
     "output_type": "stream",
     "text": [
      "Iteration:  1 / 36\n",
      "time 143.3116545677185\n",
      "Iteration:  2 / 36\n",
      "time 140.52327680587769\n",
      "Iteration:  3 / 36\n",
      "time 141.5476758480072\n",
      "Iteration:  4 / 36\n",
      "time 142.3729612827301\n",
      "Iteration:  5 / 36\n",
      "time 141.9675748348236\n",
      "Iteration:  6 / 36\n",
      "time 138.76316380500793\n",
      "Iteration:  7 / 36\n",
      "time 138.83606600761414\n",
      "Iteration:  8 / 36\n",
      "time 143.19311118125916\n",
      "Iteration:  9 / 36\n",
      "time 140.17398762702942\n",
      "Iteration:  10 / 36\n",
      "time 142.18878269195557\n",
      "Iteration:  11 / 36\n",
      "time 143.76385807991028\n",
      "Iteration:  12 / 36\n",
      "time 135.14991092681885\n",
      "Iteration:  13 / 36\n",
      "time 231.48616433143616\n",
      "Iteration:  14 / 36\n",
      "time 234.78904604911804\n",
      "Iteration:  15 / 36\n",
      "time 229.2513382434845\n",
      "Iteration:  16 / 36\n",
      "time 230.18488836288452\n",
      "Iteration:  17 / 36\n",
      "time 227.19982075691223\n",
      "Iteration:  18 / 36\n",
      "time 231.85560417175293\n",
      "Iteration:  19 / 36\n",
      "time 228.94771099090576\n",
      "Iteration:  20 / 36\n",
      "time 235.18799948692322\n",
      "Iteration:  21 / 36\n",
      "time 231.33009505271912\n",
      "Iteration:  22 / 36\n",
      "time 224.7170250415802\n",
      "Iteration:  23 / 36\n",
      "time 240.36023211479187\n",
      "Iteration:  24 / 36\n",
      "time 227.6343867778778\n",
      "Iteration:  25 / 36\n",
      "time 409.2152922153473\n",
      "Iteration:  26 / 36\n",
      "time 419.04705905914307\n",
      "Iteration:  27 / 36\n",
      "time 403.64805841445923\n",
      "Iteration:  28 / 36\n",
      "time 417.4258484840393\n",
      "Iteration:  29 / 36\n",
      "time 407.88455533981323\n",
      "Iteration:  30 / 36\n",
      "time 417.58901286125183\n",
      "Iteration:  31 / 36\n",
      "time 412.6219267845154\n",
      "Iteration:  32 / 36\n",
      "time 414.74248480796814\n",
      "Iteration:  33 / 36\n",
      "time 417.047043800354\n",
      "Iteration:  34 / 36\n",
      "time 409.4657406806946\n",
      "Iteration:  35 / 36\n",
      "time 413.9258828163147\n",
      "Iteration:  36 / 36\n",
      "time 404.7361388206482\n"
     ]
    }
   ],
   "source": [
    "results=[]\n",
    "count=0; \n",
    "#Iterate over interaction cuttoff\n",
    "for rc in [4.,6.,8.]:\n",
    "    hypers['interaction_cutoff']=rc\n",
    "    \n",
    "    #Iterate over scale\n",
    "    for scale in [2.,2.5,3.]:\n",
    "        hypers['cutoff_function_parameters']['scale']=scale\n",
    "        \n",
    "        #Iterate over exponent\n",
    "        for exp in [0.,1.,2.,4.]:\n",
    "            start = time()\n",
    "            hypers['cutoff_function_parameters']['exponent']=exp\n",
    "            soap = SphericalInvariants(**hypers) #redefine soap with new parameters\n",
    "            print(\"Iteration: \", count+1, \"/ 36\") #keep count of iteration\n",
    "            train_feat=get_features(initial_train_set) #get features for training set\n",
    "            val_feat=get_features(val_set) #get features for validation set\n",
    "            count+=1\n",
    "            \n",
    "            #Normalise feature vectors\n",
    "            for feat in train_feat:\n",
    "                feat/=np.linalg.norm(feat)\n",
    "            for feat in val_feat:\n",
    "                feat/=np.linalg.norm(feat)\n",
    "\n",
    "            #Iterate over zeta values\n",
    "            for zeta in [2.,3.]:\n",
    "                K = np.dot(train_feat,train_feat.T)**zeta #compute covariance matrix for training\n",
    "                Kval = np.dot(val_feat,train_feat.T)**zeta #compute covariance matrix for validation\n",
    "\n",
    "                #Iterate over regularization values\n",
    "                minerr = 1e24 ; minreg = 0\n",
    "                for reg in np.logspace(-9,-5,5):\n",
    "                    KRR = KernelRidge(kernel='precomputed',alpha = reg)\n",
    "                    KRR.fit(K,yred_train)\n",
    "                    err = np.std(yred_val - KRR.predict(Kval))\n",
    "                    if err < minerr:\n",
    "                        minerr = err.copy()\n",
    "                        minreg = reg.copy()\n",
    "                results.append([minerr, rc, scale, exp, zeta, minreg])\n",
    "            \n",
    "            print('time',time()-start)"
   ]
  },
  {
   "cell_type": "markdown",
   "id": "a119c7b4",
   "metadata": {},
   "source": [
    "### Save and (re-)load hyperparameter optimisation results"
   ]
  },
  {
   "cell_type": "code",
   "execution_count": 141,
   "id": "93b0cdad",
   "metadata": {},
   "outputs": [],
   "source": [
    "np.save('raw_data/hyperparam_optimisation_results_4_per_crystal', np.asarray(results))"
   ]
  },
  {
   "cell_type": "code",
   "execution_count": 19,
   "id": "727732c2",
   "metadata": {},
   "outputs": [],
   "source": [
    "hyperopt=np.load('raw_data/hyperparam_optimisation_results_4_per_crystal.npy')"
   ]
  },
  {
   "cell_type": "code",
   "execution_count": 35,
   "id": "660f6bd4",
   "metadata": {},
   "outputs": [
    {
     "data": {
      "text/plain": [
       "array([[4.98641878e-03, 6.00000000e+00, 2.00000000e+00, 4.00000000e+00,\n",
       "        3.00000000e+00, 1.00000000e-06]])"
      ]
     },
     "execution_count": 35,
     "metadata": {},
     "output_type": "execute_result"
    }
   ],
   "source": [
    "# Find optimal hyperparameters, which correspond to the lowest error\n",
    "hyperopt[np.where(hyperopt==np.amin(hyperopt, axis=0)[0])[0]]"
   ]
  },
  {
   "cell_type": "markdown",
   "id": "24a3e746",
   "metadata": {},
   "source": [
    "## Test KRR model with optimal hyperparameters\n",
    "The KRR model is tested using the optimal hyperparameters as obtained above. The performance of the model is tested using normalised vs unnormalised feature vectors; and it is also tested explicitly on thermalised configurations of the same crystal, in order to see how well it can predict the relative energies of thermalised configurations."
   ]
  },
  {
   "cell_type": "markdown",
   "id": "9081b1b4",
   "metadata": {},
   "source": [
    "### Compute training and validation matrices\n",
    "Training and validation feature and kernel matrices are calculated using the optimal hyperparamaters as determined above. This takes some time, so feature matrices can be re-loaded below. "
   ]
  },
  {
   "cell_type": "code",
   "execution_count": 14,
   "id": "235a9aa7",
   "metadata": {},
   "outputs": [],
   "source": [
    "#Define hyperparameters and SOAP\n",
    "zeta = 3\n",
    "hypers = dict(soap_type=\"PowerSpectrum\",\n",
    "              interaction_cutoff=6, #cutoff distance in angstroms\n",
    "              max_radial=9, #no. of radial basis functions\n",
    "              max_angular=6, #no. of angular basis functions\n",
    "              gaussian_sigma_constant=0.4, #sigma width (i.e. amount of 'smearing')\n",
    "              gaussian_sigma_type=\"Constant\",\n",
    "              cutoff_function_type=\"RadialScaling\",\n",
    "              cutoff_smooth_width=0.5,\n",
    "              cutoff_function_parameters=\n",
    "                    dict(\n",
    "                            rate=1,\n",
    "                            scale=2,\n",
    "                            exponent=4\n",
    "                        ),\n",
    "              radial_basis=\"GTO\",\n",
    "              normalize=True,\n",
    "              optimization=\n",
    "                    dict(\n",
    "                            Spline=dict(\n",
    "                               accuracy=1.0e-05\n",
    "                            )\n",
    "                        ),\n",
    "              compute_gradients=False #don't care about forces right now\n",
    "              )\n",
    "soap = SphericalInvariants(**hypers) #redefine soap with new parameters"
   ]
  },
  {
   "cell_type": "markdown",
   "id": "45e3a7ae",
   "metadata": {},
   "source": [
    "#### Compute covariance kernels"
   ]
  },
  {
   "cell_type": "code",
   "execution_count": 66,
   "id": "453ee62c",
   "metadata": {},
   "outputs": [],
   "source": [
    "K = np.dot(train_feat,train_feat.T)**zeta #compute kernel matrix for training\n",
    "Kval = np.dot(val_feat,train_feat.T)**zeta #compute kernel matrix for validation"
   ]
  },
  {
   "cell_type": "markdown",
   "id": "1c664e6a",
   "metadata": {},
   "source": [
    "#### Define per-atom binding energies (to learn)"
   ]
  },
  {
   "cell_type": "code",
   "execution_count": 16,
   "id": "ff397ab2",
   "metadata": {},
   "outputs": [],
   "source": [
    "yred_train = y_train/np.sum(X_train,axis=1)-mlr.predict(X_train)/np.sum(X_train,axis=1)#Baselined per-atom binding energies of training set\n",
    "yred_val = y_val/np.sum(X_val,axis=1)-mlr.predict(X_val)/np.sum(X_val,axis=1) #Baselined per-atom binding energies of validation set"
   ]
  },
  {
   "cell_type": "markdown",
   "id": "85560741",
   "metadata": {},
   "source": [
    "### Normalised vs. unnormalised matrices\n",
    "Check if using normalised vs. unnormalised feature matrices results in a significant improvement of prediciton errors (TLDR: slghtly better results for unnormalised feature vectors, and so those are used.)  "
   ]
  },
  {
   "cell_type": "code",
   "execution_count": 68,
   "id": "62d27097",
   "metadata": {
    "code_folding": []
   },
   "outputs": [
    {
     "data": {
      "application/vnd.jupyter.widget-view+json": {
       "model_id": "10688c9c07664ddf8861ff37c208f58c",
       "version_major": 2,
       "version_minor": 0
      },
      "text/plain": [
       "  0%|          | 0/7 [00:00<?, ?it/s]"
      ]
     },
     "metadata": {},
     "output_type": "display_data"
    },
    {
     "name": "stdout",
     "output_type": "stream",
     "text": [
      "1e-07 0.004850062135516145\n"
     ]
    },
    {
     "data": {
      "text/html": [
       "<style>#sk-container-id-6 {color: black;background-color: white;}#sk-container-id-6 pre{padding: 0;}#sk-container-id-6 div.sk-toggleable {background-color: white;}#sk-container-id-6 label.sk-toggleable__label {cursor: pointer;display: block;width: 100%;margin-bottom: 0;padding: 0.3em;box-sizing: border-box;text-align: center;}#sk-container-id-6 label.sk-toggleable__label-arrow:before {content: \"▸\";float: left;margin-right: 0.25em;color: #696969;}#sk-container-id-6 label.sk-toggleable__label-arrow:hover:before {color: black;}#sk-container-id-6 div.sk-estimator:hover label.sk-toggleable__label-arrow:before {color: black;}#sk-container-id-6 div.sk-toggleable__content {max-height: 0;max-width: 0;overflow: hidden;text-align: left;background-color: #f0f8ff;}#sk-container-id-6 div.sk-toggleable__content pre {margin: 0.2em;color: black;border-radius: 0.25em;background-color: #f0f8ff;}#sk-container-id-6 input.sk-toggleable__control:checked~div.sk-toggleable__content {max-height: 200px;max-width: 100%;overflow: auto;}#sk-container-id-6 input.sk-toggleable__control:checked~label.sk-toggleable__label-arrow:before {content: \"▾\";}#sk-container-id-6 div.sk-estimator input.sk-toggleable__control:checked~label.sk-toggleable__label {background-color: #d4ebff;}#sk-container-id-6 div.sk-label input.sk-toggleable__control:checked~label.sk-toggleable__label {background-color: #d4ebff;}#sk-container-id-6 input.sk-hidden--visually {border: 0;clip: rect(1px 1px 1px 1px);clip: rect(1px, 1px, 1px, 1px);height: 1px;margin: -1px;overflow: hidden;padding: 0;position: absolute;width: 1px;}#sk-container-id-6 div.sk-estimator {font-family: monospace;background-color: #f0f8ff;border: 1px dotted black;border-radius: 0.25em;box-sizing: border-box;margin-bottom: 0.5em;}#sk-container-id-6 div.sk-estimator:hover {background-color: #d4ebff;}#sk-container-id-6 div.sk-parallel-item::after {content: \"\";width: 100%;border-bottom: 1px solid gray;flex-grow: 1;}#sk-container-id-6 div.sk-label:hover label.sk-toggleable__label {background-color: #d4ebff;}#sk-container-id-6 div.sk-serial::before {content: \"\";position: absolute;border-left: 1px solid gray;box-sizing: border-box;top: 0;bottom: 0;left: 50%;z-index: 0;}#sk-container-id-6 div.sk-serial {display: flex;flex-direction: column;align-items: center;background-color: white;padding-right: 0.2em;padding-left: 0.2em;position: relative;}#sk-container-id-6 div.sk-item {position: relative;z-index: 1;}#sk-container-id-6 div.sk-parallel {display: flex;align-items: stretch;justify-content: center;background-color: white;position: relative;}#sk-container-id-6 div.sk-item::before, #sk-container-id-6 div.sk-parallel-item::before {content: \"\";position: absolute;border-left: 1px solid gray;box-sizing: border-box;top: 0;bottom: 0;left: 50%;z-index: -1;}#sk-container-id-6 div.sk-parallel-item {display: flex;flex-direction: column;z-index: 1;position: relative;background-color: white;}#sk-container-id-6 div.sk-parallel-item:first-child::after {align-self: flex-end;width: 50%;}#sk-container-id-6 div.sk-parallel-item:last-child::after {align-self: flex-start;width: 50%;}#sk-container-id-6 div.sk-parallel-item:only-child::after {width: 0;}#sk-container-id-6 div.sk-dashed-wrapped {border: 1px dashed gray;margin: 0 0.4em 0.5em 0.4em;box-sizing: border-box;padding-bottom: 0.4em;background-color: white;}#sk-container-id-6 div.sk-label label {font-family: monospace;font-weight: bold;display: inline-block;line-height: 1.2em;}#sk-container-id-6 div.sk-label-container {text-align: center;}#sk-container-id-6 div.sk-container {/* jupyter's `normalize.less` sets `[hidden] { display: none; }` but bootstrap.min.css set `[hidden] { display: none !important; }` so we also need the `!important` here to be able to override the default hidden behavior on the sphinx rendered scikit-learn.org. See: https://github.com/scikit-learn/scikit-learn/issues/21755 */display: inline-block !important;position: relative;}#sk-container-id-6 div.sk-text-repr-fallback {display: none;}</style><div id=\"sk-container-id-6\" class=\"sk-top-container\"><div class=\"sk-text-repr-fallback\"><pre>KernelRidge(alpha=1e-07, kernel=&#x27;precomputed&#x27;)</pre><b>In a Jupyter environment, please rerun this cell to show the HTML representation or trust the notebook. <br />On GitHub, the HTML representation is unable to render, please try loading this page with nbviewer.org.</b></div><div class=\"sk-container\" hidden><div class=\"sk-item\"><div class=\"sk-estimator sk-toggleable\"><input class=\"sk-toggleable__control sk-hidden--visually\" id=\"sk-estimator-id-6\" type=\"checkbox\" checked><label for=\"sk-estimator-id-6\" class=\"sk-toggleable__label sk-toggleable__label-arrow\">KernelRidge</label><div class=\"sk-toggleable__content\"><pre>KernelRidge(alpha=1e-07, kernel=&#x27;precomputed&#x27;)</pre></div></div></div></div></div>"
      ],
      "text/plain": [
       "KernelRidge(alpha=1e-07, kernel='precomputed')"
      ]
     },
     "execution_count": 68,
     "metadata": {},
     "output_type": "execute_result"
    }
   ],
   "source": [
    "#Unnormalised feature matrices\n",
    "minerr = 1e24 ; minreg = 0\n",
    "for reg in tqdm(np.logspace(-8,-2,7)):\n",
    "    KRR = KernelRidge(kernel='precomputed',alpha = reg)\n",
    "    KRR.fit(K,yred_train)\n",
    "    err = np.std(yred_val - KRR.predict(Kval))\n",
    "    if err < minerr:\n",
    "        minreg = reg\n",
    "        minerr = err\n",
    "print(minreg,minerr)\n",
    "KRR = KernelRidge(kernel='precomputed',alpha = minreg)\n",
    "KRR.fit(K,yred_train)"
   ]
  },
  {
   "cell_type": "code",
   "execution_count": 69,
   "id": "e32d6a7c",
   "metadata": {
    "code_folding": [
     0
    ],
    "scrolled": true
   },
   "outputs": [
    {
     "data": {
      "application/vnd.jupyter.widget-view+json": {
       "model_id": "b6fd84aee6db4d4d94baf45a5cf98b8e",
       "version_major": 2,
       "version_minor": 0
      },
      "text/plain": [
       "  0%|          | 0/7 [00:00<?, ?it/s]"
      ]
     },
     "metadata": {},
     "output_type": "display_data"
    },
    {
     "name": "stdout",
     "output_type": "stream",
     "text": [
      "1e-06 0.0049864187841647005\n"
     ]
    },
    {
     "data": {
      "text/html": [
       "<style>#sk-container-id-7 {color: black;background-color: white;}#sk-container-id-7 pre{padding: 0;}#sk-container-id-7 div.sk-toggleable {background-color: white;}#sk-container-id-7 label.sk-toggleable__label {cursor: pointer;display: block;width: 100%;margin-bottom: 0;padding: 0.3em;box-sizing: border-box;text-align: center;}#sk-container-id-7 label.sk-toggleable__label-arrow:before {content: \"▸\";float: left;margin-right: 0.25em;color: #696969;}#sk-container-id-7 label.sk-toggleable__label-arrow:hover:before {color: black;}#sk-container-id-7 div.sk-estimator:hover label.sk-toggleable__label-arrow:before {color: black;}#sk-container-id-7 div.sk-toggleable__content {max-height: 0;max-width: 0;overflow: hidden;text-align: left;background-color: #f0f8ff;}#sk-container-id-7 div.sk-toggleable__content pre {margin: 0.2em;color: black;border-radius: 0.25em;background-color: #f0f8ff;}#sk-container-id-7 input.sk-toggleable__control:checked~div.sk-toggleable__content {max-height: 200px;max-width: 100%;overflow: auto;}#sk-container-id-7 input.sk-toggleable__control:checked~label.sk-toggleable__label-arrow:before {content: \"▾\";}#sk-container-id-7 div.sk-estimator input.sk-toggleable__control:checked~label.sk-toggleable__label {background-color: #d4ebff;}#sk-container-id-7 div.sk-label input.sk-toggleable__control:checked~label.sk-toggleable__label {background-color: #d4ebff;}#sk-container-id-7 input.sk-hidden--visually {border: 0;clip: rect(1px 1px 1px 1px);clip: rect(1px, 1px, 1px, 1px);height: 1px;margin: -1px;overflow: hidden;padding: 0;position: absolute;width: 1px;}#sk-container-id-7 div.sk-estimator {font-family: monospace;background-color: #f0f8ff;border: 1px dotted black;border-radius: 0.25em;box-sizing: border-box;margin-bottom: 0.5em;}#sk-container-id-7 div.sk-estimator:hover {background-color: #d4ebff;}#sk-container-id-7 div.sk-parallel-item::after {content: \"\";width: 100%;border-bottom: 1px solid gray;flex-grow: 1;}#sk-container-id-7 div.sk-label:hover label.sk-toggleable__label {background-color: #d4ebff;}#sk-container-id-7 div.sk-serial::before {content: \"\";position: absolute;border-left: 1px solid gray;box-sizing: border-box;top: 0;bottom: 0;left: 50%;z-index: 0;}#sk-container-id-7 div.sk-serial {display: flex;flex-direction: column;align-items: center;background-color: white;padding-right: 0.2em;padding-left: 0.2em;position: relative;}#sk-container-id-7 div.sk-item {position: relative;z-index: 1;}#sk-container-id-7 div.sk-parallel {display: flex;align-items: stretch;justify-content: center;background-color: white;position: relative;}#sk-container-id-7 div.sk-item::before, #sk-container-id-7 div.sk-parallel-item::before {content: \"\";position: absolute;border-left: 1px solid gray;box-sizing: border-box;top: 0;bottom: 0;left: 50%;z-index: -1;}#sk-container-id-7 div.sk-parallel-item {display: flex;flex-direction: column;z-index: 1;position: relative;background-color: white;}#sk-container-id-7 div.sk-parallel-item:first-child::after {align-self: flex-end;width: 50%;}#sk-container-id-7 div.sk-parallel-item:last-child::after {align-self: flex-start;width: 50%;}#sk-container-id-7 div.sk-parallel-item:only-child::after {width: 0;}#sk-container-id-7 div.sk-dashed-wrapped {border: 1px dashed gray;margin: 0 0.4em 0.5em 0.4em;box-sizing: border-box;padding-bottom: 0.4em;background-color: white;}#sk-container-id-7 div.sk-label label {font-family: monospace;font-weight: bold;display: inline-block;line-height: 1.2em;}#sk-container-id-7 div.sk-label-container {text-align: center;}#sk-container-id-7 div.sk-container {/* jupyter's `normalize.less` sets `[hidden] { display: none; }` but bootstrap.min.css set `[hidden] { display: none !important; }` so we also need the `!important` here to be able to override the default hidden behavior on the sphinx rendered scikit-learn.org. See: https://github.com/scikit-learn/scikit-learn/issues/21755 */display: inline-block !important;position: relative;}#sk-container-id-7 div.sk-text-repr-fallback {display: none;}</style><div id=\"sk-container-id-7\" class=\"sk-top-container\"><div class=\"sk-text-repr-fallback\"><pre>KernelRidge(alpha=1e-06, kernel=&#x27;precomputed&#x27;)</pre><b>In a Jupyter environment, please rerun this cell to show the HTML representation or trust the notebook. <br />On GitHub, the HTML representation is unable to render, please try loading this page with nbviewer.org.</b></div><div class=\"sk-container\" hidden><div class=\"sk-item\"><div class=\"sk-estimator sk-toggleable\"><input class=\"sk-toggleable__control sk-hidden--visually\" id=\"sk-estimator-id-7\" type=\"checkbox\" checked><label for=\"sk-estimator-id-7\" class=\"sk-toggleable__label sk-toggleable__label-arrow\">KernelRidge</label><div class=\"sk-toggleable__content\"><pre>KernelRidge(alpha=1e-06, kernel=&#x27;precomputed&#x27;)</pre></div></div></div></div></div>"
      ],
      "text/plain": [
       "KernelRidge(alpha=1e-06, kernel='precomputed')"
      ]
     },
     "execution_count": 69,
     "metadata": {},
     "output_type": "execute_result"
    }
   ],
   "source": [
    "# Normalised feature matrices\n",
    "for feat in train_feat:\n",
    "    feat/=np.linalg.norm(feat)\n",
    "for feat in val_feat:\n",
    "    feat/=np.linalg.norm(feat)\n",
    "K = np.dot(train_feat,train_feat.T)**zeta #compute covariance kernel matrix for training\n",
    "Kval = np.dot(val_feat,train_feat.T)**zeta #compute covariance kernel matrix for validation\n",
    "\n",
    "minerr = 1e24 ; minreg = 0\n",
    "for reg in tqdm(np.logspace(-8,-2,7)):\n",
    "    KRR = KernelRidge(kernel='precomputed',alpha = reg)\n",
    "    KRR.fit(K,yred_train)\n",
    "    err = np.std(yred_val - KRR.predict(Kval))\n",
    "    if err < minerr:\n",
    "        minreg = reg\n",
    "        minerr = err\n",
    "print(minreg,minerr)\n",
    "KRR = KernelRidge(kernel='precomputed',alpha = minreg)\n",
    "KRR.fit(K,yred_train)"
   ]
  },
  {
   "cell_type": "markdown",
   "id": "279c519e",
   "metadata": {},
   "source": [
    "### Discriminating between thermalised configurations\n",
    "Check how well the model can discrimate between the energies of different thermalised configurations. More importantly, see how well it can predict the relative energies (order) of the configurations."
   ]
  },
  {
   "cell_type": "code",
   "execution_count": 22,
   "id": "bad8cc1f",
   "metadata": {},
   "outputs": [],
   "source": [
    "#Re-load feature matrices and compute covariance kernels (unnormalised by default)\n",
    "train_feat = np.load('raw_data/CSD-10k_train_feat_4pc_hyperopt.npy')\n",
    "val_feat = np.load('raw_data/CSD-10k_val_feat_4pc_hyperopt.npy')\n",
    "K = np.dot(train_feat,train_feat.T)**zeta #compute covariance kernel matrix for training\n",
    "Kval = np.dot(val_feat,train_feat.T)**zeta #compute covariance kernel matrix for validation"
   ]
  },
  {
   "cell_type": "markdown",
   "id": "0778b0f4",
   "metadata": {},
   "source": [
    "The plot below shows the per-atom binding energies of each crystal (one configuration per crystal), as well as the per-atom binding energies of different thermalised configurations of a single crystal (the first crystal system in the dataset). Note that the per-atom energy difference between geop and the thermalised configurations is about 3.5 meV, and so a decent GAP model should have an error that is significantly lower than this. An error os < 1 meV would be good, as it could then discriminate between energies of various thermalised configurations. However, the model will be aided for MD simulations anyways when it is trained on gradients (forces) as well."
   ]
  },
  {
   "cell_type": "code",
   "execution_count": 71,
   "id": "d8739201",
   "metadata": {},
   "outputs": [
    {
     "data": {
      "text/plain": [
       "Text(0.5, 1.0, 'Distr. of thermal energies for single crystal')"
      ]
     },
     "execution_count": 71,
     "metadata": {},
     "output_type": "execute_result"
    },
    {
     "data": {
      "image/png": "[encoded data removed]",
      "text/plain": [
       "<Figure size 720x288 with 2 Axes>"
      ]
     },
     "metadata": {
      "needs_background": "light"
     },
     "output_type": "display_data"
    }
   ],
   "source": [
    "# Check variance in per-atom binding energies across crystals vs across thermally-perturbed configurations of the same crystal\n",
    "X_tmp = np.zeros((len(db_fps[0::11]),4),dtype=int)\n",
    "y_tmp=np.zeros(len(db_fps[0::11]))\n",
    "for ifrm, frm in enumerate(db_fps[0::11]):\n",
    "    symbols=frm.get_atomic_numbers()\n",
    "    y_tmp[ifrm]=(frm.info['energy'])\n",
    "    X_tmp[ifrm]=[len(np.where(symbols == sp)[0]) for sp in [1,6,7,8]]\n",
    "    \n",
    "f,p = plt.subplots(1,2,figsize=(10,4))\n",
    "p[0].hist((y_tmp - mlr.predict(X_tmp))/np.sum(X_tmp,axis=1))\n",
    "p[0].set_title('Distr. of binding energies of different crystals')\n",
    "\n",
    "X_tmp = np.zeros((len(db_fps[:11]),4),dtype=int)\n",
    "y_tmp=np.zeros(len(db_fps[:11]))\n",
    "for ifrm, frm in enumerate(db_fps[:11]):\n",
    "    symbols=frm.get_atomic_numbers()\n",
    "    y_tmp[ifrm]=(frm.info['energy'])\n",
    "    X_tmp[ifrm]=[len(np.where(symbols == sp)[0]) for sp in [1,6,7,8]]\n",
    "    \n",
    "p[1].hist((y_tmp - mlr.predict(X_tmp))/np.sum(X_tmp,axis=1))\n",
    "p[1].set_title('Distr. of thermal energies for single crystal')\n"
   ]
  },
  {
   "cell_type": "markdown",
   "id": "91fd5ede",
   "metadata": {},
   "source": [
    "The plot below shows the model's ability to predict the relative energies of different configurations within the same crystal. Four model systems have been chosen for this test. As can be seen, the model is mostly unable (or poorly able) to rank the configurations' energies in the correct order."
   ]
  },
  {
   "cell_type": "code",
   "execution_count": 73,
   "id": "36ce1da2",
   "metadata": {
    "code_folding": [],
    "scrolled": true
   },
   "outputs": [
    {
     "data": {
      "image/png": "[encoded data removed]",
      "text/plain": [
       "<Figure size 432x288 with 1 Axes>"
      ]
     },
     "metadata": {
      "needs_background": "light"
     },
     "output_type": "display_data"
    }
   ],
   "source": [
    "#Predict and plot relative energies of thermalised and geop configurations for the same crystal (calculated for 4 crystal systems)\n",
    "KRR = KernelRidge(kernel='precomputed',alpha = 1e-6)\n",
    "KRR.fit(K,yred_train)\n",
    "err = np.std(yred_val - KRR.predict(Kval))\n",
    "\n",
    "for i in range(4):\n",
    "    tmp_feat=get_features(db_fps[i*11:(i+1)*11]) #get features for validation set\n",
    "    Ktmp = np.dot(tmp_feat,train_feat.T)**zeta #compute covariance kernel matrix for validation\n",
    "\n",
    "    X_tmp = np.zeros((len(db_fps[i*11:(i+1)*11]),4),dtype=int)\n",
    "    y_tmp=np.zeros(len(db_fps[i*11:(i+1)*11]))\n",
    "    for ifrm, frm in enumerate(db_fps[i*11:(i+1)*11]):\n",
    "        symbols=frm.get_atomic_numbers()\n",
    "        y_tmp[ifrm]=(frm.info['energy'])\n",
    "        X_tmp[ifrm]=[len(np.where(symbols == sp)[0]) for sp in [1,6,7,8]]\n",
    "    yref_tmp = (y_tmp - mlr.predict(X_tmp))/np.sum(X_tmp,axis=1)\n",
    "\n",
    "    ypred_tmp = KRR.predict(Ktmp)\n",
    "    plt.plot([-0.01,0.05],[-0.01,0.05])\n",
    "    plt.scatter(yref_tmp-yref_tmp[0],ypred_tmp-ypred_tmp[0])"
   ]
  }
 ],
 "metadata": {
  "kernelspec": {
   "display_name": "Python 3 (ipykernel)",
   "language": "python",
   "name": "python3"
  },
  "language_info": {
   "codemirror_mode": {
    "name": "ipython",
    "version": 3
   },
   "file_extension": ".py",
   "mimetype": "text/x-python",
   "name": "python",
   "nbconvert_exporter": "python",
   "pygments_lexer": "ipython3",
   "version": "3.9.12"
  },
  "toc": {
   "base_numbering": "2",
   "nav_menu": {},
   "number_sections": true,
   "sideBar": true,
   "skip_h1_title": false,
   "title_cell": "Table of Contents",
   "title_sidebar": "Contents",
   "toc_cell": false,
   "toc_position": {
    "height": "calc(100% - 180px)",
    "left": "10px",
    "top": "150px",
    "width": "288px"
   },
   "toc_section_display": true,
   "toc_window_display": true
  }
 },
 "nbformat": 4,
 "nbformat_minor": 5
}
