{
 "cells": [
  {
   "cell_type": "markdown",
   "id": "6338a405",
   "metadata": {},
   "source": [
    "# Creating a General Purpose Potential for Molecular Crystals - Part 1"
   ]
  },
  {
   "cell_type": "markdown",
   "id": "ff43510b",
   "metadata": {},
   "source": [
    "This notebook is used to create a general purpose GAP potential for molecular crystals. The potential is built on PBE-D3 data from short PIMD simulations of 2238 different molecular crystals. Please note that it has a high (~150 GB) memory requirement to run fully."
   ]
  },
  {
   "cell_type": "markdown",
   "id": "1c07b97d",
   "metadata": {},
   "source": [
    "In this part of the notebook: \n",
    "- The geometry-optimised and thermalised configurations datasets are combined\n",
    "- The combined dataset is FPS-sorted *per crystal*\n",
    "- The first 11 FPS-sorted configurations per crystal are split into training, validation, and test sets\n",
    "- Composition matrices (X) and vectors of corresponding energies (y) are made\n",
    "- A dressed-atom model is created"
   ]
  },
  {
   "cell_type": "markdown",
   "id": "b68f9441",
   "metadata": {},
   "source": [
    "### Importing modules and defining functions"
   ]
  },
  {
   "cell_type": "code",
   "execution_count": 1,
   "id": "1a9b1ef1",
   "metadata": {
    "code_folding": [
     0
    ],
    "hide_input": false
   },
   "outputs": [],
   "source": [
    "#Import modules\n",
    "from matplotlib import pylab as plt\n",
    "from tqdm import tqdm\n",
    "import itertools\n",
    "\n",
    "import pickle\n",
    "import numpy as np\n",
    "from sklearn import linear_model\n",
    "import skcosmo.feature_selection\n",
    "from skcosmo.feature_selection import FPS\n",
    "from skcosmo.sample_selection import PCovCUR\n",
    "from sklearn.linear_model import LinearRegression, Ridge\n",
    "from sklearn.kernel_ridge import KernelRidge\n",
    "\n",
    "import ase\n",
    "from ase.io import read, write\n",
    "from ase.build import make_supercell\n",
    "from ase.visualize import view\n",
    "import numpy as np\n",
    "# If installed -- not essential, though\n",
    "try:\n",
    "    from tqdm.notebook import tqdm\n",
    "except ImportError:\n",
    "    tqdm = (lambda i, **kwargs: i)\n",
    "\n",
    "from time import time\n",
    "\n",
    "from rascal.models import KRR\n",
    "from rascal.utils import dump_obj, load_obj\n",
    "\n",
    "from rascal.models import Kernel, train_gap_model, compute_KNM\n",
    "from rascal.representations import SphericalInvariants\n",
    "from rascal.utils import from_dict, to_dict, CURFilter, FPSFilter, dump_obj, load_obj\n",
    "from rascal.utils import get_score\n",
    "from rascal.utils.io import load_json, dump_json\n"
   ]
  },
  {
   "cell_type": "code",
   "execution_count": 2,
   "id": "d3e3877a",
   "metadata": {
    "code_folding": [
     1,
     23,
     33
    ]
   },
   "outputs": [],
   "source": [
    "#Define functions\n",
    "def do_fps(x, d=0):\n",
    "    \"\"\"\n",
    "    Function for performing farthest-point-sampling for a given feature matrix.\n",
    "    d gives the number of farthest-point-sampled feature vectors that will be outputted. \n",
    "    If d==0, the entire set will be FPS-sorted.\n",
    "    Returns the FPS-sorted IDs, as well as the FPS distances.\n",
    "    \"\"\"\n",
    "    if d == 0 : d = len(x)\n",
    "    n = len(x)\n",
    "    iy = np.zeros(d, int)\n",
    "    # faster evaluation of Euclidean distance\n",
    "    n2 = np.sum(x**2,axis=1)\n",
    "    iy[0] = 0\n",
    "    dl = n2 + n2[iy[0]] - 2* np.dot(x, x[iy[0]])\n",
    "    dss = []\n",
    "    for i in range(1,d):\n",
    "        iy[i] = np.argmax(dl)\n",
    "        nd = n2 + n2[iy[i]] - 2*np.dot(x,x[iy[i]])\n",
    "        dl = np.minimum(dl, nd)\n",
    "        dss.append(max(dl))\n",
    "    return iy,dss\n",
    "\n",
    "def get_forces(frames):\n",
    "    frc = np.zeros((np.sum([len(frm) for frm in frames]),3))\n",
    "    iat = 0\n",
    "    for ifrm,frm in enumerate(frames):\n",
    "        frc[iat:iat+len(frm)] = frm.get_array('forces') \n",
    "        iat += len(frm)\n",
    "    return frc\n",
    "\n",
    "#Get feature vectors for a list of atoms objects. This requires soap to be set, as well as all_species, which is\n",
    "#a list with one atoms object that contains all species HCNO\n",
    "def get_features(atoms_objects, batch_size=1000):\n",
    "    struct_feat=[] #create empty feature vector of n_structures x n_features\n",
    "    for i in range(int(len(atoms_objects)/batch_size+0.9999)): #Get feature vectors in batches of 1000\n",
    "        for frm in atoms_objects[i*batch_size:(i+1)*batch_size]:\n",
    "            frm.wrap(eps=1e-13) #wrap atoms in unit cell\n",
    "        frames=all_species.copy() #add initial frame with all species\n",
    "        frames.extend(atoms_objects[i*batch_size:(i+1)*batch_size]) #extend initial frame with frames of batch\n",
    "        manager = soap.transform(frames) #calculate soap features for all structures in batch\n",
    "        env_feat_batch = manager.get_features(soap)[len(all_species.copy()[0]):] #get feature vectors for all structures in batch\n",
    "        # (having removed the initial frame)\n",
    "        atom_counter=0 #count atoms\n",
    "        for ifrm,frm in enumerate(atoms_objects[i*batch_size:(i+1)*batch_size]): #iterate over frames in batch\n",
    "            nat=len(frm) #count atoms in frame\n",
    "            struct_feat.append(np.mean(env_feat_batch[atom_counter:atom_counter+nat],axis=0)) #average vectors\n",
    "            # for atoms in the same frame. Done by averaging vectors between atom_counter and atom_counter + nat\n",
    "            atom_counter+=nat #add atoms to counter\n",
    "    struct_feat_array=np.asarray(struct_feat)\n",
    "    return struct_feat_array"
   ]
  },
  {
   "cell_type": "markdown",
   "id": "4f77c6ed",
   "metadata": {},
   "source": [
    "### Reading Databases\n",
    "This reads in the CSD-10k dataset. The geop dataset has only one (the geometry-optimised) configuration per crystal, with the MD dataset having 101 (1 geop + 100 thermalised) configurations per crystal. This totals around 225k structures."
   ]
  },
  {
   "cell_type": "code",
   "execution_count": 3,
   "id": "115cddbe",
   "metadata": {
    "code_folding": [],
    "collapsed": true
   },
   "outputs": [
    {
     "ename": "KeyboardInterrupt",
     "evalue": "",
     "output_type": "error",
     "traceback": [
      "\u001b[0;31m---------------------------------------------------------------------------\u001b[0m",
      "\u001b[0;31mKeyboardInterrupt\u001b[0m                         Traceback (most recent call last)",
      "Input \u001b[0;32mIn [3]\u001b[0m, in \u001b[0;36m<cell line: 3>\u001b[0;34m()\u001b[0m\n\u001b[1;32m      1\u001b[0m \u001b[38;5;66;03m# Load databases\u001b[39;00m\n\u001b[1;32m      2\u001b[0m geop \u001b[38;5;241m=\u001b[39m read(\u001b[38;5;124m'\u001b[39m\u001b[38;5;124mraw_data/CSD-10k_geop_hcno_w_kpts.xyz\u001b[39m\u001b[38;5;124m'\u001b[39m, \u001b[38;5;124m'\u001b[39m\u001b[38;5;124m:\u001b[39m\u001b[38;5;124m'\u001b[39m)\n\u001b[0;32m----> 3\u001b[0m md \u001b[38;5;241m=\u001b[39m \u001b[43mread\u001b[49m\u001b[43m(\u001b[49m\u001b[38;5;124;43m'\u001b[39;49m\u001b[38;5;124;43mraw_data/CSD-10k_md_hcno_w_kpts.xyz\u001b[39;49m\u001b[38;5;124;43m'\u001b[39;49m\u001b[43m,\u001b[49m\u001b[43m \u001b[49m\u001b[38;5;124;43m'\u001b[39;49m\u001b[38;5;124;43m:\u001b[39;49m\u001b[38;5;124;43m'\u001b[39;49m\u001b[43m)\u001b[49m\n",
      "File \u001b[0;32m~/code/miniconda3/envs/genshift/lib/python3.9/site-packages/ase/io/formats.py:733\u001b[0m, in \u001b[0;36mread\u001b[0;34m(filename, index, format, parallel, do_not_split_by_at_sign, **kwargs)\u001b[0m\n\u001b[1;32m    731\u001b[0m io \u001b[38;5;241m=\u001b[39m get_ioformat(\u001b[38;5;28mformat\u001b[39m)\n\u001b[1;32m    732\u001b[0m \u001b[38;5;28;01mif\u001b[39;00m \u001b[38;5;28misinstance\u001b[39m(index, (\u001b[38;5;28mslice\u001b[39m, \u001b[38;5;28mstr\u001b[39m)):\n\u001b[0;32m--> 733\u001b[0m     \u001b[38;5;28;01mreturn\u001b[39;00m \u001b[38;5;28;43mlist\u001b[39;49m\u001b[43m(\u001b[49m\u001b[43m_iread\u001b[49m\u001b[43m(\u001b[49m\u001b[43mfilename\u001b[49m\u001b[43m,\u001b[49m\u001b[43m \u001b[49m\u001b[43mindex\u001b[49m\u001b[43m,\u001b[49m\u001b[43m \u001b[49m\u001b[38;5;28;43mformat\u001b[39;49m\u001b[43m,\u001b[49m\u001b[43m \u001b[49m\u001b[43mio\u001b[49m\u001b[43m,\u001b[49m\u001b[43m \u001b[49m\u001b[43mparallel\u001b[49m\u001b[38;5;241;43m=\u001b[39;49m\u001b[43mparallel\u001b[49m\u001b[43m,\u001b[49m\n\u001b[1;32m    734\u001b[0m \u001b[43m                       \u001b[49m\u001b[38;5;241;43m*\u001b[39;49m\u001b[38;5;241;43m*\u001b[39;49m\u001b[43mkwargs\u001b[49m\u001b[43m)\u001b[49m\u001b[43m)\u001b[49m\n\u001b[1;32m    735\u001b[0m \u001b[38;5;28;01melse\u001b[39;00m:\n\u001b[1;32m    736\u001b[0m     \u001b[38;5;28;01mreturn\u001b[39;00m \u001b[38;5;28mnext\u001b[39m(_iread(filename, \u001b[38;5;28mslice\u001b[39m(index, \u001b[38;5;28;01mNone\u001b[39;00m), \u001b[38;5;28mformat\u001b[39m, io,\n\u001b[1;32m    737\u001b[0m                        parallel\u001b[38;5;241m=\u001b[39mparallel, \u001b[38;5;241m*\u001b[39m\u001b[38;5;241m*\u001b[39mkwargs))\n",
      "File \u001b[0;32m~/code/miniconda3/envs/genshift/lib/python3.9/site-packages/ase/parallel.py:275\u001b[0m, in \u001b[0;36mparallel_generator.<locals>.new_generator\u001b[0;34m(*args, **kwargs)\u001b[0m\n\u001b[1;32m    269\u001b[0m \u001b[38;5;129m@functools\u001b[39m\u001b[38;5;241m.\u001b[39mwraps(generator)\n\u001b[1;32m    270\u001b[0m \u001b[38;5;28;01mdef\u001b[39;00m \u001b[38;5;21mnew_generator\u001b[39m(\u001b[38;5;241m*\u001b[39margs, \u001b[38;5;241m*\u001b[39m\u001b[38;5;241m*\u001b[39mkwargs):\n\u001b[1;32m    271\u001b[0m     \u001b[38;5;28;01mif\u001b[39;00m (world\u001b[38;5;241m.\u001b[39msize \u001b[38;5;241m==\u001b[39m \u001b[38;5;241m1\u001b[39m \u001b[38;5;129;01mor\u001b[39;00m\n\u001b[1;32m    272\u001b[0m         args \u001b[38;5;129;01mand\u001b[39;00m \u001b[38;5;28mgetattr\u001b[39m(args[\u001b[38;5;241m0\u001b[39m], \u001b[38;5;124m'\u001b[39m\u001b[38;5;124mserial\u001b[39m\u001b[38;5;124m'\u001b[39m, \u001b[38;5;28;01mFalse\u001b[39;00m) \u001b[38;5;129;01mor\u001b[39;00m\n\u001b[1;32m    273\u001b[0m         \u001b[38;5;129;01mnot\u001b[39;00m kwargs\u001b[38;5;241m.\u001b[39mpop(\u001b[38;5;124m'\u001b[39m\u001b[38;5;124mparallel\u001b[39m\u001b[38;5;124m'\u001b[39m, \u001b[38;5;28;01mTrue\u001b[39;00m)):\n\u001b[1;32m    274\u001b[0m         \u001b[38;5;66;03m# Disable:\u001b[39;00m\n\u001b[0;32m--> 275\u001b[0m         \u001b[38;5;28;01mfor\u001b[39;00m result \u001b[38;5;129;01min\u001b[39;00m generator(\u001b[38;5;241m*\u001b[39margs, \u001b[38;5;241m*\u001b[39m\u001b[38;5;241m*\u001b[39mkwargs):\n\u001b[1;32m    276\u001b[0m             \u001b[38;5;28;01myield\u001b[39;00m result\n\u001b[1;32m    277\u001b[0m         \u001b[38;5;28;01mreturn\u001b[39;00m\n",
      "File \u001b[0;32m~/code/miniconda3/envs/genshift/lib/python3.9/site-packages/ase/io/formats.py:803\u001b[0m, in \u001b[0;36m_iread\u001b[0;34m(filename, index, format, io, parallel, full_output, **kwargs)\u001b[0m\n\u001b[1;32m    801\u001b[0m \u001b[38;5;66;03m# Make sure fd is closed in case loop doesn't finish:\u001b[39;00m\n\u001b[1;32m    802\u001b[0m \u001b[38;5;28;01mtry\u001b[39;00m:\n\u001b[0;32m--> 803\u001b[0m     \u001b[38;5;28;01mfor\u001b[39;00m dct \u001b[38;5;129;01min\u001b[39;00m io\u001b[38;5;241m.\u001b[39mread(fd, \u001b[38;5;241m*\u001b[39margs, \u001b[38;5;241m*\u001b[39m\u001b[38;5;241m*\u001b[39mkwargs):\n\u001b[1;32m    804\u001b[0m         \u001b[38;5;28;01mif\u001b[39;00m \u001b[38;5;129;01mnot\u001b[39;00m \u001b[38;5;28misinstance\u001b[39m(dct, \u001b[38;5;28mdict\u001b[39m):\n\u001b[1;32m    805\u001b[0m             dct \u001b[38;5;241m=\u001b[39m {\u001b[38;5;124m'\u001b[39m\u001b[38;5;124matoms\u001b[39m\u001b[38;5;124m'\u001b[39m: dct}\n",
      "File \u001b[0;32m~/code/miniconda3/envs/genshift/lib/python3.9/site-packages/ase/io/formats.py:559\u001b[0m, in \u001b[0;36mwrap_read_function\u001b[0;34m(read, filename, index, **kwargs)\u001b[0m\n\u001b[1;32m    557\u001b[0m     \u001b[38;5;28;01myield\u001b[39;00m read(filename, \u001b[38;5;241m*\u001b[39m\u001b[38;5;241m*\u001b[39mkwargs)\n\u001b[1;32m    558\u001b[0m \u001b[38;5;28;01melse\u001b[39;00m:\n\u001b[0;32m--> 559\u001b[0m     \u001b[38;5;28;01mfor\u001b[39;00m atoms \u001b[38;5;129;01min\u001b[39;00m read(filename, index, \u001b[38;5;241m*\u001b[39m\u001b[38;5;241m*\u001b[39mkwargs):\n\u001b[1;32m    560\u001b[0m         \u001b[38;5;28;01myield\u001b[39;00m atoms\n",
      "File \u001b[0;32m~/code/miniconda3/envs/genshift/lib/python3.9/site-packages/ase/io/extxyz.py:773\u001b[0m, in \u001b[0;36mread_xyz\u001b[0;34m(fileobj, index, properties_parser)\u001b[0m\n\u001b[1;32m    771\u001b[0m \u001b[38;5;66;03m# check for consistency with frame index table\u001b[39;00m\n\u001b[1;32m    772\u001b[0m \u001b[38;5;28;01massert\u001b[39;00m \u001b[38;5;28mint\u001b[39m(fileobj\u001b[38;5;241m.\u001b[39mreadline()) \u001b[38;5;241m==\u001b[39m natoms\n\u001b[0;32m--> 773\u001b[0m \u001b[38;5;28;01myield\u001b[39;00m \u001b[43m_read_xyz_frame\u001b[49m\u001b[43m(\u001b[49m\u001b[43mfileobj\u001b[49m\u001b[43m,\u001b[49m\u001b[43m \u001b[49m\u001b[43mnatoms\u001b[49m\u001b[43m,\u001b[49m\u001b[43m \u001b[49m\u001b[43mproperties_parser\u001b[49m\u001b[43m,\u001b[49m\u001b[43m \u001b[49m\u001b[43mnvec\u001b[49m\u001b[43m)\u001b[49m\n",
      "File \u001b[0;32m~/code/miniconda3/envs/genshift/lib/python3.9/site-packages/ase/io/extxyz.py:379\u001b[0m, in \u001b[0;36m_read_xyz_frame\u001b[0;34m(lines, natoms, properties_parser, nvec)\u001b[0m\n\u001b[1;32m    377\u001b[0m     info \u001b[38;5;241m=\u001b[39m {\u001b[38;5;124m'\u001b[39m\u001b[38;5;124mcomment\u001b[39m\u001b[38;5;124m'\u001b[39m: line}\n\u001b[1;32m    378\u001b[0m \u001b[38;5;28;01melse\u001b[39;00m:\n\u001b[0;32m--> 379\u001b[0m     info \u001b[38;5;241m=\u001b[39m \u001b[43mproperties_parser\u001b[49m\u001b[43m(\u001b[49m\u001b[43mline\u001b[49m\u001b[43m)\u001b[49m \u001b[38;5;28;01mif\u001b[39;00m line \u001b[38;5;28;01melse\u001b[39;00m {}\n\u001b[1;32m    381\u001b[0m pbc \u001b[38;5;241m=\u001b[39m \u001b[38;5;28;01mNone\u001b[39;00m\n\u001b[1;32m    382\u001b[0m \u001b[38;5;28;01mif\u001b[39;00m \u001b[38;5;124m'\u001b[39m\u001b[38;5;124mpbc\u001b[39m\u001b[38;5;124m'\u001b[39m \u001b[38;5;129;01min\u001b[39;00m info:\n",
      "File \u001b[0;32m~/code/miniconda3/envs/genshift/lib/python3.9/site-packages/ase/io/extxyz.py:110\u001b[0m, in \u001b[0;36mkey_val_str_to_dict\u001b[0;34m(string, sep)\u001b[0m\n\u001b[1;32m    108\u001b[0m         kv_pairs[\u001b[38;5;241m-\u001b[39m\u001b[38;5;241m1\u001b[39m]\u001b[38;5;241m.\u001b[39mappend([])  \u001b[38;5;66;03m# value\u001b[39;00m\n\u001b[1;32m    109\u001b[0m     \u001b[38;5;28;01melse\u001b[39;00m:\n\u001b[0;32m--> 110\u001b[0m         \u001b[43mkv_pairs\u001b[49m\u001b[43m[\u001b[49m\u001b[38;5;241;43m-\u001b[39;49m\u001b[38;5;241;43m1\u001b[39;49m\u001b[43m]\u001b[49m[\u001b[38;5;241m-\u001b[39m\u001b[38;5;241m1\u001b[39m]\u001b[38;5;241m.\u001b[39mappend(char)\n\u001b[1;32m    112\u001b[0m kv_dict \u001b[38;5;241m=\u001b[39m {}\n\u001b[1;32m    114\u001b[0m \u001b[38;5;28;01mfor\u001b[39;00m kv_pair \u001b[38;5;129;01min\u001b[39;00m kv_pairs:\n",
      "\u001b[0;31mKeyboardInterrupt\u001b[0m: "
     ]
    }
   ],
   "source": [
    "# Load databases\n",
    "geop = read('raw_data/CSD-10k_geop_hcno_w_kpts.xyz', ':')\n",
    "md = read('raw_data/CSD-10k_md_hcno_w_kpts.xyz', ':')"
   ]
  },
  {
   "cell_type": "markdown",
   "id": "25a06460",
   "metadata": {},
   "source": [
    "### Combining, saving, and (re-)loading databases\n",
    "The two databses are combined and saved. Please note that the geometry-optimised configuration in the MD database is removed, and the geometry-optimised configuration from the geop database is added. This is done to avoid numerical errors."
   ]
  },
  {
   "cell_type": "code",
   "execution_count": null,
   "id": "e7719b2b",
   "metadata": {
    "code_folding": []
   },
   "outputs": [],
   "source": [
    "#Adding names of crystal structures to the geop dataset, and creating a new database (dictionary) containing\n",
    "#geop and md structures\n",
    "\n",
    "db = {} #create dictionary where the keys are the names of the crystals, and the values are the atoms objects of all configurations of the crystal (102 total)\n",
    "vol = [] #create list of crystal volumes\n",
    "name = [] #create list of crystal names\n",
    "for frm in md[::101]: #iterate over crystals in dataset of MD (non-geop) structures (101 configurations per crystal)\n",
    "    name.append(frm.info['name'].split(sep='_')[0]) #get crystal name from frame\n",
    "    vol.append(frm.get_volume()) #append volume to list\n",
    "print(\"Added volume info to geop frames. Created arrays of crystal names and volumes.\") \n",
    "\n",
    "for ifrm,frm in enumerate(geop):\n",
    "    idx = np.where(vol == frm.get_volume())[0][0] #match geop frame volume to the volume index in the volume list\n",
    "    frm.info['name'] = name[idx] #use index of volume list to get the name of the crystal, and add it to the geop frame\n",
    "    db[name[idx]] = [frm] #Add geop frame to dictionary \n",
    "\n",
    "print(\"Added geop frames to database. Now adding MD frames.\")\n",
    "\n",
    "for i in tqdm(range(int(len(md)/101))): #get number of crystals in md database\n",
    "    j = i*101 #get number of structures in md database\n",
    "    for ifrm,frm in enumerate(geop):\n",
    "        if md[j].get_volume() == frm.get_volume(): #if geop volume matches volume in md database\n",
    "            db[frm.info['name']] += md[j+1:j+101] #add all 100 md configs (excluding the initial config, which matches the geometry optimised one) to the correct geop structure in the database\n",
    "            #note: all configs for a certain crystal are in order, which is why j:j+101 are all configs of the same crystal\n",
    "print(\"Done.\")  "
   ]
  },
  {
   "cell_type": "code",
   "execution_count": null,
   "id": "c3fa1134",
   "metadata": {},
   "outputs": [],
   "source": [
    "#Save full database (Geop + 100 MD structures)\n",
    "save_file = open(\"raw_data/CSD-10k_combined_w_kpts.pickle\", \"wb\") #save database to pickle file\n",
    "pickle.dump(db, save_file)\n",
    "save_file.close()"
   ]
  },
  {
   "cell_type": "code",
   "execution_count": 3,
   "id": "dc99634d",
   "metadata": {},
   "outputs": [],
   "source": [
    "#(re-)Load database of 100 MD + geop structure\n",
    "dictionary_file = open(\"raw_data/CSD-10k_combined_w_kpts.pickle\", \"rb\") #open saved pickle database\n",
    "db = pickle.load(dictionary_file)\n",
    "name=list(db.keys())"
   ]
  },
  {
   "cell_type": "markdown",
   "id": "251081ea",
   "metadata": {},
   "source": [
    "## FPS-sort configurations of each crystal\n",
    "The MD dataset consists of configurations obtained over short (250 fs or so) simulations. Therefore, some of the structures are highly correlated and there is likely to be a fair amount of redundancy in the dataset. For this reason, the 101 configurations of each structure are FPS sorted, and the 11 most diverse (geop + 10 MD) structures are taken for building the model, validation and testing."
   ]
  },
  {
   "cell_type": "markdown",
   "id": "ec26e04f",
   "metadata": {},
   "source": [
    "### Defining SOAP hyperparameters\n",
    "For the purposes of FPS-sorting, the hyperparameters chosen need not be conservative, as even a low choice of basis functions is likely to effectively FPS-sort the structures."
   ]
  },
  {
   "cell_type": "code",
   "execution_count": 5,
   "id": "4c7e217c",
   "metadata": {
    "code_folding": [
     0
    ]
   },
   "outputs": [],
   "source": [
    "#Define soap hyperparameters\n",
    "hypers = dict(soap_type=\"PowerSpectrum\",\n",
    "              interaction_cutoff=6, #cutoff distance in angstroms\n",
    "              max_radial=6, #no. of radial basis functions\n",
    "              max_angular=6, #no. of angular basis functions\n",
    "              gaussian_sigma_constant=0.4, #sigma width (i.e. amount of 'smearing')\n",
    "              gaussian_sigma_type=\"Constant\",\n",
    "              cutoff_function_type=\"RadialScaling\",\n",
    "              cutoff_smooth_width=0.5,\n",
    "              cutoff_function_parameters=\n",
    "                    dict(\n",
    "                            rate=1,\n",
    "                            scale=2,\n",
    "                            exponent=2\n",
    "                        ),\n",
    "              radial_basis=\"GTO\",\n",
    "              normalize=True,\n",
    "              optimization=\n",
    "                    dict(\n",
    "                            Spline=dict(\n",
    "                               accuracy=1.0e-05\n",
    "                            )\n",
    "                        ),\n",
    "              compute_gradients=False #don't care about forces right now\n",
    "              )\n",
    "soap = SphericalInvariants(**hypers)\n"
   ]
  },
  {
   "cell_type": "markdown",
   "id": "fa457e4d",
   "metadata": {},
   "source": [
    "### FPS-sort configurations per crystal\n",
    "This uses the FPS function of skcosmo. Feature vectors are produced for each atom in a configuration, and are subsequently averaged across all atoms of the configuration in order to obtain a feature vector for the configuration. These average feature vectors are then FPS-sorted across configurations of a single crystal.\n",
    "The FPS-sorted database (~25k structures) are then saved, and can be re-loaded to save time. "
   ]
  },
  {
   "cell_type": "code",
   "execution_count": 10,
   "id": "fe81bd6f",
   "metadata": {
    "code_folding": []
   },
   "outputs": [
    {
     "data": {
      "application/vnd.jupyter.widget-view+json": {
       "model_id": "b94c7300138e46648e76e430b2b64324",
       "version_major": 2,
       "version_minor": 0
      },
      "text/plain": [
       "  0%|          | 0/2238 [00:00<?, ?it/s]"
      ]
     },
     "metadata": {},
     "output_type": "display_data"
    }
   ],
   "source": [
    "# FPS-sort the database using SOAP feature vectors. Only 11 structures (Geop + 10 MD) were sorted and saved per crystal.\n",
    "db_fps = [] #create new database (array) of FPS-sorted structures for each crystal\n",
    "\n",
    "selector = FPS(n_to_select=11) #select 11 farthest-point-sampled structures (for each crystal)\n",
    "for n in tqdm(name): #iterate over names (crystals) in the database\n",
    "    for frm in db[n]:\n",
    "        frm.wrap(eps=1e-13) #wrap atoms in unit cell\n",
    "    manager = soap.transform(db[n]) #calculate soap features for each structure in the crystal\n",
    "\n",
    "    env_feat = manager.get_features(soap) #get feature vectors (one for each atom of each configuration, concatenated)\n",
    "    nat = int(env_feat.shape[0]/102) #get number of atoms\n",
    "    struct_feat = np.zeros((101,env_feat.shape[1])) #create empty (zero) matrix of n_frames x n_features\n",
    "    for i in range(101):\n",
    "        struct_feat[i] = np.mean(env_feat[i*nat:(i+1)*nat],axis=0) #get the average feature vector across all atoms \n",
    "        # of a certain configuration, and add this average feature vector (n_features) to the new (struct_feat) \n",
    "        # matrix (i.e. it will have an average feature vector for each configuration/frame)\n",
    "    \n",
    "    selector.fit(struct_feat.T) #FPS sort according to frames (you need to transpose the matrix for this, otherwise it'll sort according to features)\n",
    "    fps_feat = selector.transform(struct_feat.T).T #or does this FPS sort??\n",
    "    for vvec in fps_feat:\n",
    "        for ivec,vec in enumerate(struct_feat):\n",
    "            if np.linalg.norm(vvec - vec) < 1e-16:\n",
    "                db_fps.append(db[n][ivec]) #append fps-sorted configs/frames for each structure to a new database\n",
    "                "
   ]
  },
  {
   "cell_type": "markdown",
   "id": "80dea2d5",
   "metadata": {},
   "source": [
    "#### Save and (re-load) FPS per crystal database"
   ]
  },
  {
   "cell_type": "code",
   "execution_count": 11,
   "id": "6ae02ab4",
   "metadata": {
    "code_folding": [
     0
    ]
   },
   "outputs": [
    {
     "name": "stderr",
     "output_type": "stream",
     "text": [
      "/home/vprincip/code/miniconda3/envs/genshift/lib/python3.9/site-packages/numpy/lib/npyio.py:528: VisibleDeprecationWarning: Creating an ndarray from ragged nested sequences (which is a list-or-tuple of lists-or-tuples-or ndarrays with different lengths or shapes) is deprecated. If you meant to do this, you must specify 'dtype=object' when creating the ndarray.\n",
      "  arr = np.asanyarray(arr)\n"
     ]
    }
   ],
   "source": [
    "#Save FPS-sorted database (11 structures per crystal)\n",
    "np.save('raw_data/CSD-10k_per_crystal_fps_w_kpts', db_fps)"
   ]
  },
  {
   "cell_type": "code",
   "execution_count": 4,
   "id": "6ed2d3b9",
   "metadata": {
    "code_folding": []
   },
   "outputs": [],
   "source": [
    "#Load FPS-sorted database\n",
    "db_fps=np.load('raw_data/CSD-10k_per_crystal_fps_w_kpts.npy', allow_pickle=True)\n",
    "all_species=[db_fps[16]]"
   ]
  },
  {
   "cell_type": "markdown",
   "id": "b484dd4a",
   "metadata": {},
   "source": [
    "## Create training, validation, and testing databases\n",
    "The ~25k FPS-sorted (per crystal) configurations are split into training, validation, and testing databses. Datasets are created in a randomised fashion. 1000 configurations are chosen for validation and testing, each, with the rest being left for training purposes.  "
   ]
  },
  {
   "cell_type": "code",
   "execution_count": 5,
   "id": "844f6147",
   "metadata": {},
   "outputs": [],
   "source": [
    "#Split frames into train, validation, and test sets\n",
    "ids = np.arange(len(db_fps)) #create IDs for each frame\n",
    "np.random.seed(0) #Give the shuffle function a seed so that the output of the shuffle function is the same\n",
    "                  # every time the cell is run  \n",
    "np.random.shuffle(ids) #shuffle IDs\n",
    "\n",
    "test_set=[db_fps[idx] for idx in ids[:1000]] #1000 test configs\n",
    "val_set=[db_fps[idx] for idx in ids[1000:2000]] #1000 validation configs\n",
    "train_set=[db_fps[idx] for idx in ids[2000:]] #Rest is used for training"
   ]
  },
  {
   "cell_type": "code",
   "execution_count": 27,
   "id": "95cee76a",
   "metadata": {},
   "outputs": [],
   "source": [
    "#Save training, validation, and testing datasets\n",
    "np.save('raw_data/CSD-10k_train_set', np.asarray(train_set, dtype='object')) #save training set\n",
    "np.save('raw_data/CSD-10k_val_set', np.asarray(val_set, dtype='object')) #save validation set\n",
    "np.save('raw_data/CSD-10k_test_set', np.asarray(test_set, dtype='object')) #save test set"
   ]
  },
  {
   "cell_type": "markdown",
   "id": "1b0f1f36",
   "metadata": {},
   "source": [
    "## FPS-sort all training structures\n",
    "FPS-sort training structures, without discriminating between crystals. This means that the first 2238 structures are therefore (very) likely to contain one configuration per crystal. FPS sorting in this case is done using the `do_fps` function defined at the top of the notebook. "
   ]
  },
  {
   "cell_type": "code",
   "execution_count": 47,
   "id": "f049112b",
   "metadata": {
    "code_folding": []
   },
   "outputs": [
    {
     "data": {
      "application/vnd.jupyter.widget-view+json": {
       "model_id": "",
       "version_major": 2,
       "version_minor": 0
      },
      "text/plain": [
       "  0%|          | 0/12 [00:00<?, ?it/s]"
      ]
     },
     "metadata": {},
     "output_type": "display_data"
    }
   ],
   "source": [
    "#Get feature vectors for training database\n",
    "struct_feat=np.zeros((len(train_set), 2520)) #create empty feature vector of n_structures x n_features\n",
    "for i in tqdm(range(int(len(train_set)/2000+0.9999))): #Get feature vectors in batches of 1000\n",
    "    for frm in train_set[i*2000:(i+1)*2000]:\n",
    "        frm.wrap(eps=1e-13) #wrap atoms in unit cell\n",
    "    frames=[train_set[0]] #add initial frame with all species\n",
    "    frames.extend(train_set[i*2000:(i+1)*2000]) #extend initial frame with frames of batch\n",
    "    manager = soap.transform(frames) #calculate soap features for all structures in batch\n",
    "    env_feat_batch = manager.get_features(soap)[len(train_set[0]):] #get feature vectors for all structures in batch\n",
    "    # (having removed the initial frame)\n",
    "    atom_counter=0 #count atoms\n",
    "    for ifrm,frm in enumerate(train_set[i*2000:(i+1)*2000]): #iterate over frames in batch\n",
    "        nat=len(frm) #count atoms in frame\n",
    "        struct_feat[i*2000+ifrm] = np.mean(env_feat_batch[atom_counter:atom_counter+nat],axis=0) #average vectors\n",
    "        # for atoms in the same frame. Done by averaging vectors between atom_counter and atom_counter + nat\n",
    "        atom_counter+=nat #add atoms to counter\n",
    "        "
   ]
  },
  {
   "cell_type": "code",
   "execution_count": 48,
   "id": "a5726a61",
   "metadata": {
    "code_folding": []
   },
   "outputs": [],
   "source": [
    "#Save feature vectors\n",
    "np.save('raw_data/CSD-10k_features_train_set', struct_feat)"
   ]
  },
  {
   "cell_type": "code",
   "execution_count": 39,
   "id": "c6ad7929",
   "metadata": {
    "code_folding": []
   },
   "outputs": [],
   "source": [
    "#Load feature vectors\n",
    "struct_feat = np.load('raw_data/CSD-10k_features_train_set.npy')"
   ]
  },
  {
   "cell_type": "markdown",
   "id": "f22f94f1",
   "metadata": {
    "hide_input": false
   },
   "source": [
    "### FPS-sort structures\n",
    "The IDs and distances of FPS-sorted structures are computed, saved, and (re-)loaded below."
   ]
  },
  {
   "cell_type": "code",
   "execution_count": null,
   "id": "33e407b5",
   "metadata": {
    "scrolled": true
   },
   "outputs": [],
   "source": [
    "#FPS-sort feature vectors\n",
    "fps_ids, fps_dist = do_fps(struct_feat)"
   ]
  },
  {
   "cell_type": "markdown",
   "id": "11cec2b6",
   "metadata": {},
   "source": [
    "#### Save and (re-)load FPS-sorted training structures"
   ]
  },
  {
   "cell_type": "code",
   "execution_count": 10,
   "id": "c6ed69ba",
   "metadata": {},
   "outputs": [],
   "source": [
    "#Save FPS IDs and FPS distances\n",
    "np.save('raw_data/CSD-10k_train_set_FPS_ids', fps_ids)\n",
    "np.save('raw_data/CSD-10k_train_set_FPS_dist', fps_dist)"
   ]
  },
  {
   "cell_type": "code",
   "execution_count": 3,
   "id": "fbfa1e60",
   "metadata": {},
   "outputs": [],
   "source": [
    "fps_ids = np.load('raw_data/CSD-10k_train_set_FPS_ids.npy')\n",
    "fps_dist = np.load('raw_data/CSD-10k_train_set_FPS_dist.npy')"
   ]
  },
  {
   "cell_type": "code",
   "execution_count": 86,
   "id": "b3bb95d9",
   "metadata": {},
   "outputs": [],
   "source": [
    "#Compute and save FPS-ordered training set\n",
    "train_set_FPS = [train_set[i] for i in fps_ids]\n",
    "np.save('model_data/train_set_FPS', np.asarray(train_set_FPS, dtype='object'))"
   ]
  },
  {
   "cell_type": "markdown",
   "id": "f811d3cc",
   "metadata": {},
   "source": [
    "The plot below shows the FPS distances between structures, which decreases as you move along the FPS-sorted training strucutres. "
   ]
  },
  {
   "cell_type": "code",
   "execution_count": 25,
   "id": "dd8a65c7",
   "metadata": {},
   "outputs": [
    {
     "data": {
      "image/png": "[encoded data removed]",
      "text/plain": [
       "<Figure size 648x432 with 1 Axes>"
      ]
     },
     "metadata": {
      "needs_background": "light"
     },
     "output_type": "display_data"
    }
   ],
   "source": [
    "plt.figure(figsize=(9,6))\n",
    "plt.rcParams.update({'font.size': 16})\n",
    "plt.xlabel('Structures')\n",
    "plt.ylabel('FPS Distance')\n",
    "plt.plot(fps_dist, lw = 4)\n",
    "plt.yscale('log')\n",
    "plt.tight_layout()"
   ]
  },
  {
   "cell_type": "markdown",
   "id": "6f5abbcf",
   "metadata": {},
   "source": [
    "## Create dressed atom energies model (i.e. baseline)\n",
    "A simple dressed atom model (baseline) is created. This is done so that the \"atomic\" energies are not learned, but rather the \"binding energies\" of each crystal is learned. "
   ]
  },
  {
   "cell_type": "markdown",
   "id": "bdffbe84",
   "metadata": {},
   "source": [
    "### Create matrices (X) and vectors (y)\n",
    "Matrices (X) are created of structures where the 'features' are the number of atoms of each species for each structure. The vectors (y) contain the total energies of each structures. Matrices and vectors are created for all structures, validation structures, and test structures."
   ]
  },
  {
   "cell_type": "code",
   "execution_count": 7,
   "id": "5ec4f386",
   "metadata": {},
   "outputs": [],
   "source": [
    "#Create a matrix of n_structures x n_atoms_per_species (i.e. 2238 x 4 matrix), and a vectors with energies of structures\n",
    "db_all = []\n",
    "[db_all.extend(db[n]) for n in db]\n",
    "\n",
    "X_all = np.zeros((len(db_all),4),dtype=int) #create matrix\n",
    "y_all = np.zeros(len(db_all)) #create vector\n",
    "for ifrm, frm in enumerate(db_all):\n",
    "    symbols=frm.get_atomic_numbers() #get atomic numbers from frame\n",
    "    y_all[ifrm]=(frm.info['energy']) #get energy from frame\n",
    "    X_all[ifrm]=[len(np.where(symbols == sp)[0]) for sp in [1,6,7,8]] #create vector of [n_H, n_C, n_N, n_O] and add to matrix\n",
    "\n",
    "np.save('raw_data/X_all', X_all) #Save matrix\n",
    "np.save('raw_data/y_all', y_all) #Save vector"
   ]
  },
  {
   "cell_type": "code",
   "execution_count": 8,
   "id": "b9b85fdf",
   "metadata": {},
   "outputs": [],
   "source": [
    "#Create same as above but for train set\n",
    "X_train = np.zeros((len(train_set),4),dtype=int)\n",
    "y_train = np.zeros(len(train_set))\n",
    "for ifrm, frm in enumerate(train_set):\n",
    "    symbols=frm.get_atomic_numbers()\n",
    "    y_train[ifrm]=(frm.info['energy'])\n",
    "    X_train[ifrm]=[len(np.where(symbols == sp)[0]) for sp in [1,6,7,8]]\n",
    "\n",
    "np.save('raw_data/X_train', X_train) #Save matrix\n",
    "np.save('raw_data/y_train', y_train) #Save vector"
   ]
  },
  {
   "cell_type": "code",
   "execution_count": 9,
   "id": "acb2a5e5",
   "metadata": {},
   "outputs": [],
   "source": [
    "#Create same as above but for validation set\n",
    "X_val = np.zeros((len(val_set),4),dtype=int)\n",
    "y_val = np.zeros(len(val_set))\n",
    "for ifrm, frm in enumerate(val_set):\n",
    "    symbols=frm.get_atomic_numbers()\n",
    "    y_val[ifrm]=(frm.info['energy'])\n",
    "    X_val[ifrm]=[len(np.where(symbols == sp)[0]) for sp in [1,6,7,8]]\n",
    "\n",
    "np.save('raw_data/X_val', X_val) #Save matrix\n",
    "np.save('raw_data/y_val', y_val) #Save vector"
   ]
  },
  {
   "cell_type": "code",
   "execution_count": 10,
   "id": "17af519d",
   "metadata": {},
   "outputs": [],
   "source": [
    "#Create same as above but for test set\n",
    "X_test = np.zeros((len(test_set),4),dtype=int)\n",
    "y_test = np.zeros(len(test_set))\n",
    "for ifrm, frm in enumerate(test_set):\n",
    "    symbols=frm.get_atomic_numbers()\n",
    "    y_test[ifrm]=(frm.info['energy'])\n",
    "    X_test[ifrm]=[len(np.where(symbols == sp)[0]) for sp in [1,6,7,8]]\n",
    "\n",
    "np.save('raw_data/X_test', X_test) #Save matrix\n",
    "np.save('raw_data/y_test', y_test) #Save vector"
   ]
  },
  {
   "cell_type": "markdown",
   "id": "1e8123a6",
   "metadata": {},
   "source": [
    "### Create model"
   ]
  },
  {
   "cell_type": "code",
   "execution_count": 12,
   "id": "a2475d8c",
   "metadata": {},
   "outputs": [
    {
     "name": "stdout",
     "output_type": "stream",
     "text": [
      "Intercept:  0.0\n",
      "Coefficients: [ -16.46576331 -154.71870284 -383.3436899  -566.22750974]\n"
     ]
    }
   ],
   "source": [
    "#Create a simple model in order to baseline energies (i.e. get a model that predicts per-atom-per-species energies)\n",
    "# This is done so that the MLP that will be created is centred around zero and independent of system size\n",
    "mlr = Ridge(alpha=1E-4, fit_intercept=False) #Don't fit intercept\n",
    "mlr.fit(X_all, y_all)\n",
    "print(\"Intercept: \", mlr.intercept_)\n",
    "print(\"Coefficients:\",mlr.coef_)"
   ]
  },
  {
   "cell_type": "code",
   "execution_count": 23,
   "id": "e6c366be",
   "metadata": {},
   "outputs": [],
   "source": [
    "#Save model\n",
    "with open('raw_data/mlr.pkl','wb') as f:\n",
    "    pickle.dump(mlr, f)"
   ]
  },
  {
   "cell_type": "markdown",
   "id": "b937746f",
   "metadata": {},
   "source": [
    "### Test model on validation set"
   ]
  },
  {
   "cell_type": "code",
   "execution_count": 18,
   "id": "88e9cbef",
   "metadata": {},
   "outputs": [
    {
     "data": {
      "text/plain": [
       "<matplotlib.collections.PathCollection at 0x7f4a7734b3d0>"
      ]
     },
     "execution_count": 18,
     "metadata": {},
     "output_type": "execute_result"
    },
    {
     "data": {
      "image/png": "[encoded data removed]",
      "text/plain": [
       "<Figure size 432x288 with 1 Axes>"
      ]
     },
     "metadata": {
      "needs_background": "light"
     },
     "output_type": "display_data"
    }
   ],
   "source": [
    "#Plot training (original) energies against predicted energies\n",
    "plt.scatter(y_val/np.sum(X_val,axis=1),mlr.predict(X_val)/np.sum(X_val,axis=1))"
   ]
  },
  {
   "cell_type": "markdown",
   "id": "f90956ea",
   "metadata": {},
   "source": [
    "The histogram below shows the per-atom errors in energy predictions for the validation dataset. It is these (binding) energies that are going to be learned by the new model"
   ]
  },
  {
   "cell_type": "code",
   "execution_count": 25,
   "id": "550f07a7",
   "metadata": {},
   "outputs": [
    {
     "name": "stdout",
     "output_type": "stream",
     "text": [
      "RMSE:  0.10683691583797131 eV per atom\n"
     ]
    },
    {
     "data": {
      "image/png": "[encoded data removed]",
      "text/plain": [
       "<Figure size 432x288 with 1 Axes>"
      ]
     },
     "metadata": {
      "needs_background": "light"
     },
     "output_type": "display_data"
    }
   ],
   "source": [
    "plt.hist(y_val/np.sum(X_val,axis=1)-mlr.predict(X_val)/np.sum(X_val,axis=1)) #plot histogram\n",
    "rmse = np.sqrt(np.mean((y_val/np.sum(X_val,axis=1)-mlr.predict(X_val)/np.sum(X_val,axis=1))**2))\n",
    "print(\"RMSE: \", rmse, \"eV per atom\")"
   ]
  }
 ],
 "metadata": {
  "kernelspec": {
   "display_name": "Python 3 (ipykernel)",
   "language": "python",
   "name": "python3"
  },
  "language_info": {
   "codemirror_mode": {
    "name": "ipython",
    "version": 3
   },
   "file_extension": ".py",
   "mimetype": "text/x-python",
   "name": "python",
   "nbconvert_exporter": "python",
   "pygments_lexer": "ipython3",
   "version": "3.10.4"
  },
  "toc": {
   "base_numbering": 1,
   "nav_menu": {},
   "number_sections": true,
   "sideBar": true,
   "skip_h1_title": false,
   "title_cell": "Table of Contents",
   "title_sidebar": "Contents",
   "toc_cell": false,
   "toc_position": {
    "height": "calc(100% - 180px)",
    "left": "10px",
    "top": "150px",
    "width": "329px"
   },
   "toc_section_display": true,
   "toc_window_display": true
  }
 },
 "nbformat": 4,
 "nbformat_minor": 5
}
